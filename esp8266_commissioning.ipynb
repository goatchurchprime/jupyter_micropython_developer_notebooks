{
 "cells": [
  {
   "cell_type": "code",
   "execution_count": 1,
   "metadata": {},
   "outputs": [
    {
     "name": "stdout",
     "output_type": "stream",
     "text": [
      "\u001b[34mConnecting to --port=/dev/ttyUSB0 --baud=115200 \u001b[0m\n",
      "1\u001b[31m[Timed out waiting for recognizable response]\n",
      "\u001b[0m\u001b[31mDisconnecting [paste mode not working]\n",
      "\u001b[0m\u001b[34m  (You may need to reset the device)\u001b[0m"
     ]
    }
   ],
   "source": [
    "%serialconnect"
   ]
  },
  {
   "cell_type": "code",
   "execution_count": null,
   "metadata": {
    "collapsed": true
   },
   "outputs": [],
   "source": [
    "# If doing a sonoff device  you may need to hold the button down when you turn it on to enable flash mode"
   ]
  },
  {
   "cell_type": "code",
   "execution_count": 1,
   "metadata": {
    "scrolled": true
   },
   "outputs": [
    {
     "name": "stdout",
     "output_type": "stream",
     "text": [
      "esptool not found on path\n"
     ]
    }
   ],
   "source": [
    "# esptool.py --chip esp8266 --port /dev/ttyUSB0 erase_flash\n",
    "%esptool erase"
   ]
  },
  {
   "cell_type": "code",
   "execution_count": 3,
   "metadata": {},
   "outputs": [
    {
     "name": "stdout",
     "output_type": "stream",
     "text": [
      "\u001b[34mExecuting:\n",
      "  esptool.py --port /dev/ttyUSB0 --baud 460800 write_flash --flash_size=detect -fm dio 0 /home/julian/executables/micropythonbins/esp8266-20200902-v1.13.bin\n",
      "\n",
      "\u001b[0mesptool.py v2.8\n",
      "Serial port /dev/ttyUSB0\n",
      "Connecting....\n",
      "\u001b[34m[Press the PRG button now if required]\n",
      "\u001b[0mDetecting chip type... ESP8266\n",
      "Chip is ESP8266EX\n",
      "Features: WiFi\n",
      "Crystal is 26MHz\n",
      "MAC: 98:f4:ab:da:58:01\n",
      "Uploading stub...\n",
      "Running stub...\n",
      "Stub running...\n",
      "Changing baud rate to 460800\n",
      "Changed.\n",
      "Configuring flash size...\n",
      "Auto-detected Flash size: 4MB\n",
      "Flash params set to 0x0240\n",
      "Compressed 628244 bytes to 412845...\n",
      "Wrote 628244 bytes (412845 compressed) at 0x00000000 in 9.5 seconds (effective 530.9 kbit/s)...\n",
      "Hash of data verified.\n",
      "\n",
      "Leaving...\n",
      "Hard resetting via RTS pin...\n"
     ]
    }
   ],
   "source": [
    "# download your bin file from here:  https://micropython.org/download\n",
    "%esptool esp8266 /home/julian/executables/micropythonbins/esp8266-20200902-v1.13.bin\n",
    "# esptool.py --port /dev/ttyUSB0 --baud 460800 write_flash --flash_size=detect -fm dio 0 /home/julian/executables/micropythonbins/esp8266-20200902-v1.13.bin\n"
   ]
  },
  {
   "cell_type": "code",
   "execution_count": 12,
   "metadata": {},
   "outputs": [
    {
     "name": "stdout",
     "output_type": "stream",
     "text": [
      "\u001b[34mExecuting:\n",
      "  esptool.py --port /dev/ttyUSB1 --baud 460800 write_flash --flash_size=detect -fm dio 0 /home/julian/executables/micropythonbins/esp8266-512k-20200225-v1.12-195-gb16990425.bin\n",
      "\n",
      "\u001b[0mesptool.py v2.8\n",
      "Serial port /dev/ttyUSB1\n",
      "Connecting........_____....._____....._____....._____....._____....._____....._____\n",
      "\u001b[34m[Press the PRG button now if required]\n",
      "\u001b[0m\n",
      "A fatal error occurred: Failed to connect to Espressif device: Timed out waiting for packet header\n"
     ]
    }
   ],
   "source": [
    "# 512Kb module for lightbulb case\n",
    "%esptool esp8266 /home/julian/executables/micropythonbins/esp8266-512k-20200225-v1.12-195-gb16990425.bin"
   ]
  },
  {
   "cell_type": "code",
   "execution_count": 13,
   "metadata": {},
   "outputs": [
    {
     "name": "stdout",
     "output_type": "stream",
     "text": [
      "\u001b[34mConnecting to --port=/dev/ttyUSB1 --baud=115200 \u001b[0m\n",
      "\u001b[32mThis is the ESP8266's hotspot name\u001b[0m\u001b[34m\n",
      "Closing serial Serial<id=0x7f164c30a610, open=True>(port='/dev/ttyUSB1', baudrate=115200, bytesize=8, parity='N', stopbits=1, timeout=0.5, xonxoff=False, rtscts=False, dsrdtr=False)\n",
      "\u001b[0m"
     ]
    }
   ],
   "source": [
    "# Setting up the webrepl hotspot with password=wpass\n",
    "%serialconnect --raw\n",
    "%readbytes \n",
    "\n",
    "# Print out the hotspot name (while we are here)\n",
    "%writebytes \"import network, ubinascii\\r\\n\"\n",
    "%readbytes\n",
    "%writebytes \"\\r\\n\"\n",
    "%readbytes\n",
    "%writebytes \"'MicroPython-%s'%ubinascii.hexlify(network.WLAN().config('mac')[-3:]).decode()\\r\\n\"\n",
    "%comment \"This is the ESP8266's hotspot name\"\n",
    "%readbytes\n",
    "%writebytes \"\\r\\n\"\n",
    "%readbytes\n",
    "\n",
    "# soft reset so import works\n",
    "%writebytes \"\\x04\"\n",
    "%readbytes\n",
    "%writebytes \"import webrepl_setup\\r\\n\"\n",
    "%readbytes \n",
    "%writebytes \"E\\r\\n\"\n",
    "%readbytes\n",
    "\n",
    "# uncomment if second time (with additional question of changing password)\n",
    "#%writebytes \"y\\r\\n\"\n",
    "#%readbytes\n",
    "\n",
    "# set the password\n",
    "%writebytes \"wpass\\r\\n\"\n",
    "%readbytes\n",
    "%writebytes \"wpass\\r\\n\"\n",
    "%readbytes\n",
    "\n",
    "#%writebytes \"y\\r\\n\"\n",
    "#%readbytes\n",
    "\n",
    "%writebytes \"\\x04\"\n",
    "%readbytes\n",
    "%disconnect --raw"
   ]
  },
  {
   "cell_type": "code",
   "execution_count": 4,
   "metadata": {},
   "outputs": [
    {
     "name": "stdout",
     "output_type": "stream",
     "text": [
      "\u001b[34mConnecting to --port=/dev/ttyUSB0 --baud=115200 \u001b[0m\n",
      "\u001b[34mReady.\n",
      "\u001b[0m"
     ]
    },
    {
     "name": "stderr",
     "output_type": "stream",
     "text": [
      "Traceback (most recent call last):\n",
      "  File \"<stdin>\", line 2, in <module>\n",
      "AttributeError: no such attribute\n"
     ]
    }
   ],
   "source": [
    "%serialconnect\n",
    "import os\n",
    "print(os.listdir())"
   ]
  },
  {
   "cell_type": "code",
   "execution_count": 33,
   "metadata": {},
   "outputs": [
    {
     "name": "stdout",
     "output_type": "stream",
     "text": [
      "\u001b[34mattempt to exit paste mode\n",
      "\u001b[0m\u001b[34m[\\r\\x03\\x02] \u001b[0mb'\\r\\nMicroPython v1.9.4-8-ga9a3caad0 on 2018-05-11; ESP module with ESP8266\\r\\nType \"help()\" for more information.\\r\\n>>> '\u001b[34m\n",
      "Closing serial Serial<id=0x7fedbd447d68, open=True>(port='/dev/ttyUSB5', baudrate=115200, bytesize=8, parity='N', stopbits=1, timeout=0.5, xonxoff=False, rtscts=False, dsrdtr=False)\n",
      "\u001b[0m"
     ]
    }
   ],
   "source": [
    "%disconnect"
   ]
  },
  {
   "cell_type": "code",
   "execution_count": 5,
   "metadata": {},
   "outputs": [
    {
     "name": "stdout",
     "output_type": "stream",
     "text": [
      "__main__          lwip              ucollections      uselect\n",
      "_boot             machine           uctypes           usocket\n",
      "_onewire          math              uerrno            ussl\n",
      "_webrepl          micropython       uhashlib          ustruct\n",
      "apa102            neopixel          uheapq            utime\n",
      "builtins          network           uio               utimeq\n",
      "dht               ntptime           ujson             uwebsocket\n",
      "ds18x20           onewire           uos               uzlib\n",
      "esp               port_diag         upip              webrepl\n",
      "flashbdev         sys               upip_utarfile     webrepl_setup\n",
      "gc                uarray            urandom           websocket_helper\n",
      "inisetup          ubinascii         ure\n",
      "Plus any modules on the filesystem\n"
     ]
    }
   ],
   "source": [
    "help(\"modules\")   # here are all the modules available"
   ]
  },
  {
   "cell_type": "code",
   "execution_count": null,
   "metadata": {
    "collapsed": true
   },
   "outputs": [],
   "source": [
    "# Now you can connect your wifi to the hotspot MicroPython-XXXXX given above\n",
    "# when the webrepl was set up.  Default wifi password is: \"micropythoN\"\n"
   ]
  },
  {
   "cell_type": "code",
   "execution_count": 4,
   "metadata": {},
   "outputs": [
    {
     "name": "stdout",
     "output_type": "stream",
     "text": [
      "\u001b[34m** WebSocket connected **\n",
      "\u001b[0mPassword: \u001b[34mReady.\n",
      "\u001b[0m"
     ]
    }
   ],
   "source": [
    "%websocketconnect --password wpass"
   ]
  },
  {
   "cell_type": "code",
   "execution_count": null,
   "metadata": {
    "collapsed": true
   },
   "outputs": [],
   "source": []
  },
  {
   "cell_type": "code",
   "execution_count": 1,
   "metadata": {},
   "outputs": [
    {
     "name": "stdout",
     "output_type": "stream",
     "text": [
      "\u001b[34mConnecting to --port=/dev/ttyUSB1 --baud=115200 \u001b[0m\n",
      "\u001b[34mReady.\n",
      "\u001b[0m"
     ]
    }
   ],
   "source": [
    "%serialconnect"
   ]
  },
  {
   "cell_type": "code",
   "execution_count": 2,
   "metadata": {},
   "outputs": [
    {
     "name": "stdout",
     "output_type": "stream",
     "text": [
      "Sent 31 lines (960 bytes) to utils.py.\n"
     ]
    }
   ],
   "source": [
    "%sendtofile --source mqtt_async_projects/utils.py"
   ]
  },
  {
   "cell_type": "code",
   "execution_count": null,
   "metadata": {},
   "outputs": [],
   "source": [
    "#https://circuit-diagramz.com/wp-content/uploads/2018/11/ESP8266-12e-Pinout-13.jpg\n",
    "#D8-GP15 CS\n",
    "#D7-GP13 MOSI\n",
    "#D6-GP12 MISO\n",
    "#D5-GP14 SCLK\n",
    "#D1-GP05\n",
    "#D2-GP04\n",
    "#D4-GP02\n",
    "\n",
    "# nodemcu D1 = pin5 = SDA, D2 = pin4 = SCL\n"
   ]
  },
  {
   "cell_type": "code",
   "execution_count": 14,
   "metadata": {},
   "outputs": [
    {
     "name": "stdout",
     "output_type": "stream",
     "text": [
      "515\r\n"
     ]
    }
   ],
   "source": [
    "import random\n",
    "print(random.getrandbits(10))"
   ]
  },
  {
   "cell_type": "code",
   "execution_count": 16,
   "metadata": {},
   "outputs": [
    {
     "name": "stdout",
     "output_type": "stream",
     "text": [
      "Sent 12 lines (266 bytes) to main.py.\n"
     ]
    }
   ],
   "source": [
    "%sendtofile main.py\n",
    "\n",
    "import time, machine, random\n",
    "p = machine.Pin(13, machine.Pin.OUT)\n",
    "for i in range(10000):\n",
    "    a = random.getrandbits(10)/1000.0\n",
    "    b = random.getrandbits(10)/1000.0\n",
    "    print(a, b)\n",
    "    time.sleep(2+2*a)\n",
    "    p.value(1)\n",
    "    time.sleep(b/2+0.1)\n",
    "    p.value(0)\n",
    "    \n",
    "    "
   ]
  },
  {
   "cell_type": "code",
   "execution_count": null,
   "metadata": {},
   "outputs": [],
   "source": []
  }
 ],
 "metadata": {
  "kernelspec": {
   "display_name": "MicroPython - USB",
   "language": "micropython",
   "name": "micropython"
  },
  "language_info": {
   "codemirror_mode": "python",
   "file_extension": ".py",
   "mimetype": "text/python",
   "name": "micropython"
  }
 },
 "nbformat": 4,
 "nbformat_minor": 2
}
