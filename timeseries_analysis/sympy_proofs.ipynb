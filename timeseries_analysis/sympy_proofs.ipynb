{
 "cells": [
  {
   "cell_type": "code",
   "execution_count": 1,
   "metadata": {
    "collapsed": true
   },
   "outputs": [],
   "source": [
    "import sympy as sp\n",
    "sp.init_printing()"
   ]
  },
  {
   "cell_type": "code",
   "execution_count": 2,
   "metadata": {},
   "outputs": [
    {
     "data": {
      "image/png": "[encoded data removed]",
      "text/latex": [
       "$$4 n + \\sum_{i=1}^{n} 4 x_{i} + \\sum_{i=1}^{n} x_{i}^{2}$$"
      ],
      "text/plain": [
       "        n              n        \n",
       "       ___            ___       \n",
       "       ╲              ╲         \n",
       "        ╲   4⋅x[i]     ╲       2\n",
       "4⋅n +   ╱          +   ╱   x[i] \n",
       "       ╱              ╱         \n",
       "       ‾‾‾            ‾‾‾       \n",
       "      i = 1          i = 1      "
      ]
     },
     "execution_count": 2,
     "metadata": {},
     "output_type": "execute_result"
    }
   ],
   "source": [
    "n, m, c, i = sp.symbols(\"n m c i\")\n",
    "x = sp.IndexedBase('x')\n",
    "y = sp.IndexedBase('y')\n",
    "sp.Sum((x[i]+2)**2, (i, 1, n)).expand().doit()"
   ]
  },
  {
   "cell_type": "code",
   "execution_count": 3,
   "metadata": {},
   "outputs": [
    {
     "data": {
      "image/png": "[encoded data removed]",
      "text/latex": [
       "$$c^{2} n + \\sum_{i=1}^{n} - 2 c y_{i} + \\sum_{i=1}^{n} m^{2} x_{i}^{2} + \\sum_{i=1}^{n} 2 c m x_{i} + \\sum_{i=1}^{n} - 2 m x_{i} y_{i} + \\sum_{i=1}^{n} y_{i}^{2}$$"
      ],
      "text/plain": [
       "         n                 n                n                  n              \n",
       "        ___               ___              ___                ___             \n",
       "        ╲                 ╲                ╲                  ╲               \n",
       " 2       ╲   -2⋅c⋅y[i]     ╲    2     2     ╲   2⋅c⋅m⋅x[i]     ╲   -2⋅m⋅x[i]⋅y\n",
       "c ⋅n +   ╱             +   ╱   m ⋅x[i]  +   ╱              +   ╱              \n",
       "        ╱                 ╱                ╱                  ╱               \n",
       "        ‾‾‾               ‾‾‾              ‾‾‾                ‾‾‾             \n",
       "       i = 1             i = 1            i = 1              i = 1            \n",
       "\n",
       "        n        \n",
       "       ___       \n",
       "       ╲         \n",
       "[i]     ╲       2\n",
       "    +   ╱   y[i] \n",
       "       ╱         \n",
       "       ‾‾‾       \n",
       "      i = 1      "
      ]
     },
     "execution_count": 3,
     "metadata": {},
     "output_type": "execute_result"
    }
   ],
   "source": [
    "d = x[i]*m + c - y[i]\n",
    "s = sp.Sum(d**2, (i, 1, n))\n",
    "s.expand().doit()\n"
   ]
  },
  {
   "cell_type": "code",
   "execution_count": 4,
   "metadata": {
    "collapsed": true
   },
   "outputs": [],
   "source": [
    "Sx, lSx = sp.symbols(\"S_x\"), sp.Sum(x[i], (i, 1, n))\n",
    "Sx2, lSx2 = sp.symbols(\"S_x2\"), sp.Sum(x[i]**2, (i, 1, n))\n",
    "Sy, lSy = sp.symbols(\"S_y\"), sp.Sum(y[i], (i, 1, n))\n",
    "Sy2, lSy2 = sp.symbols(\"S_y2\"), sp.Sum(y[i]**2, (i, 1, n))\n",
    "Sxy, lSxy = sp.symbols(\"S_xy\"), sp.Sum(x[i]*y[i], (i, 1, n))\n",
    "\n",
    "#s = s.subs(n, 5)\n",
    "s = s.expand().doit().subs({lSy2: Sy2, lSy: Sy, lSx2: Sx2, lSx: Sx})\n",
    "\n"
   ]
  },
  {
   "cell_type": "code",
   "execution_count": 5,
   "metadata": {},
   "outputs": [
    {
     "data": {
      "image/png": "[encoded data removed]",
      "text/latex": [
       "$$\\left ( 2 c n + \\sum_{i=1}^{n} 2 m x_{i} + \\sum_{i=1}^{n} - 2 y_{i}, \\quad \\sum_{i=1}^{n} 2 c x_{i} + \\sum_{i=1}^{n} 2 m x_{i}^{2} + \\sum_{i=1}^{n} - 2 x_{i} y_{i}\\right )$$"
      ],
      "text/plain": [
       "⎛          n                n              n                n                 \n",
       "⎜         ___              ___            ___              ___               _\n",
       "⎜         ╲                ╲              ╲                ╲                 ╲\n",
       "⎜          ╲   2⋅m⋅x[i]     ╲   -2⋅y[i]    ╲   2⋅c⋅x[i]     ╲           2     \n",
       "⎜2⋅c⋅n +   ╱            +   ╱          ,   ╱            +   ╱   2⋅m⋅x[i]  +   \n",
       "⎜         ╱                ╱              ╱                ╱                 ╱\n",
       "⎜         ‾‾‾              ‾‾‾            ‾‾‾              ‾‾‾               ‾\n",
       "⎝        i = 1            i = 1          i = 1            i = 1             i \n",
       "\n",
       "n               ⎞\n",
       "__              ⎟\n",
       "                ⎟\n",
       "╲   -2⋅x[i]⋅y[i]⎟\n",
       "╱               ⎟\n",
       "                ⎟\n",
       "‾‾              ⎟\n",
       "= 1             ⎠"
      ]
     },
     "execution_count": 5,
     "metadata": {},
     "output_type": "execute_result"
    }
   ],
   "source": [
    "sp.diff(s, c), sp.diff(s, m)"
   ]
  },
  {
   "cell_type": "code",
   "execution_count": 6,
   "metadata": {},
   "outputs": [
    {
     "data": {
      "image/png": "[encoded data removed]",
      "text/latex": [
       "$$m \\sum_{i=1}^{n} x_{i} - \\sum_{i=1}^{n} m x_{i}$$"
      ],
      "text/plain": [
       "    n            n         \n",
       "   ___          ___        \n",
       "   ╲            ╲          \n",
       "    ╲   x[i]     ╲   m⋅x[i]\n",
       "m⋅  ╱        -   ╱         \n",
       "   ╱            ╱          \n",
       "   ‾‾‾          ‾‾‾        \n",
       "  i = 1        i = 1       "
      ]
     },
     "execution_count": 6,
     "metadata": {},
     "output_type": "execute_result"
    }
   ],
   "source": [
    "# Can't find a way to cancel out these summation terms!!!\n",
    "k = m*sp.Sum((x[i]), (i, 1, n)) - sp.Sum((x[i])*m, (i, 1, n))\n",
    "k"
   ]
  },
  {
   "cell_type": "code",
   "execution_count": 7,
   "metadata": {},
   "outputs": [
    {
     "data": {
      "image/png": "[encoded data removed]",
      "text/latex": [
       "$$S_{y2} + c^{2} n + \\sum_{i=1}^{n} - 2 c y_{i} + \\sum_{i=1}^{n} m^{2} x_{i}^{2} + \\sum_{i=1}^{n} 2 c m x_{i} + \\sum_{i=1}^{n} - 2 m x_{i} y_{i}$$"
      ],
      "text/plain": [
       "                n                 n                n                  n       \n",
       "               ___               ___              ___                ___      \n",
       "               ╲                 ╲                ╲                  ╲        \n",
       "        2       ╲   -2⋅c⋅y[i]     ╲    2     2     ╲   2⋅c⋅m⋅x[i]     ╲   -2⋅m\n",
       "S_y2 + c ⋅n +   ╱             +   ╱   m ⋅x[i]  +   ╱              +   ╱       \n",
       "               ╱                 ╱                ╱                  ╱        \n",
       "               ‾‾‾               ‾‾‾              ‾‾‾                ‾‾‾      \n",
       "              i = 1             i = 1            i = 1              i = 1     \n",
       "\n",
       "          \n",
       "          \n",
       "          \n",
       "⋅x[i]⋅y[i]\n",
       "          \n",
       "          \n",
       "          \n",
       "          "
      ]
     },
     "execution_count": 7,
     "metadata": {},
     "output_type": "execute_result"
    }
   ],
   "source": [
    "s.expand().doit()\n"
   ]
  },
  {
   "cell_type": "code",
   "execution_count": 8,
   "metadata": {},
   "outputs": [
    {
     "data": {
      "image/png": "[encoded data removed]",
      "text/latex": [
       "$$0$$"
      ],
      "text/plain": [
       "0"
      ]
     },
     "execution_count": 8,
     "metadata": {},
     "output_type": "execute_result"
    }
   ],
   "source": [
    "# give up and type in the substitution\n",
    "s1 = Sy2 + n*c**2 - 2*c*Sy + m**2*Sx2 + 2*c*m*Sx - 2*m*Sxy\n",
    "k = (s - s1)\n",
    "k = k.subs({Sy2: lSy2, Sy: lSy, Sx2: lSx2, Sx: lSx, Sxy: lSxy})\n",
    "k.subs(n, 5).doit().expand()  # <-- evidence that the equations are right"
   ]
  },
  {
   "cell_type": "code",
   "execution_count": 9,
   "metadata": {},
   "outputs": [
    {
     "data": {
      "image/png": "[encoded data removed]",
      "text/latex": [
       "$$\\left ( 2 S_{x} m - 2 S_{y} + 2 c n, \\quad 2 S_{x} c + 2 S_{x2} m - 2 S_{xy}\\right )$$"
      ],
      "text/plain": [
       "(2⋅Sₓ⋅m - 2⋅S_y + 2⋅c⋅n, 2⋅Sₓ⋅c + 2⋅Sₓ₂⋅m - 2⋅S_xy)"
      ]
     },
     "execution_count": 9,
     "metadata": {},
     "output_type": "execute_result"
    }
   ],
   "source": [
    "sp.diff(s1, c), sp.diff(s1, m)\n"
   ]
  },
  {
   "cell_type": "code",
   "execution_count": 10,
   "metadata": {},
   "outputs": [
    {
     "data": {
      "image/png": "[encoded data removed]",
      "text/latex": [
       "$$\\left \\{ c : \\frac{S_{x} S_{xy} - S_{x2} S_{y}}{S_{x}^{2} - S_{x2} n}, \\quad m : \\frac{S_{x} S_{y} - S_{xy} n}{S_{x}^{2} - S_{x2} n}\\right \\}$$"
      ],
      "text/plain": [
       "⎧   Sₓ⋅S_xy - Sₓ₂⋅S_y     Sₓ⋅S_y - S_xy⋅n⎫\n",
       "⎪c: ─────────────────, m: ───────────────⎪\n",
       "⎨        2                    2          ⎬\n",
       "⎪      Sₓ  - Sₓ₂⋅n          Sₓ  - Sₓ₂⋅n  ⎪\n",
       "⎩                                        ⎭"
      ]
     },
     "execution_count": 10,
     "metadata": {},
     "output_type": "execute_result"
    }
   ],
   "source": [
    "mc = sp.solve([sp.diff(s1, c), sp.diff(s1, m)], [m, c])\n",
    "mc"
   ]
  },
  {
   "cell_type": "code",
   "execution_count": 11,
   "metadata": {},
   "outputs": [
    {
     "data": {
      "image/png": "[encoded data removed]",
      "text/latex": [
       "$$\\frac{2 S_{x}}{\\left(S_{x}^{2} - S_{x2} n\\right)^{2}} \\left(S_{x} S_{xy} - S_{x2} S_{y}\\right) \\left(S_{x} S_{y} - S_{xy} n\\right) + \\frac{S_{x2} \\left(S_{x} S_{y} - S_{xy} n\\right)^{2}}{\\left(S_{x}^{2} - S_{x2} n\\right)^{2}} - \\frac{2 S_{xy} \\left(S_{x} S_{y} - S_{xy} n\\right)}{S_{x}^{2} - S_{x2} n} - \\frac{2 S_{y} \\left(S_{x} S_{xy} - S_{x2} S_{y}\\right)}{S_{x}^{2} - S_{x2} n} + S_{y2} + \\frac{n \\left(S_{x} S_{xy} - S_{x2} S_{y}\\right)^{2}}{\\left(S_{x}^{2} - S_{x2} n\\right)^{2}}$$"
      ],
      "text/plain": [
       "                                                                  2           \n",
       "2⋅Sₓ⋅(Sₓ⋅S_xy - Sₓ₂⋅S_y)⋅(Sₓ⋅S_y - S_xy⋅n)   Sₓ₂⋅(Sₓ⋅S_y - S_xy⋅n)    2⋅S_xy⋅(\n",
       "────────────────────────────────────────── + ────────────────────── - ────────\n",
       "                           2                                  2               \n",
       "              ⎛  2        ⎞                      ⎛  2        ⎞              Sₓ\n",
       "              ⎝Sₓ  - Sₓ₂⋅n⎠                      ⎝Sₓ  - Sₓ₂⋅n⎠                \n",
       "\n",
       "                                                                           2\n",
       "Sₓ⋅S_y - S_xy⋅n)   2⋅S_y⋅(Sₓ⋅S_xy - Sₓ₂⋅S_y)          n⋅(Sₓ⋅S_xy - Sₓ₂⋅S_y) \n",
       "──────────────── - ───────────────────────── + S_y2 + ──────────────────────\n",
       "2                           2                                          2    \n",
       "  - Sₓ₂⋅n                 Sₓ  - Sₓ₂⋅n                     ⎛  2        ⎞     \n",
       "                                                          ⎝Sₓ  - Sₓ₂⋅n⎠     "
      ]
     },
     "execution_count": 11,
     "metadata": {},
     "output_type": "execute_result"
    }
   ],
   "source": [
    "r = s1.subs(mc)\n",
    "r"
   ]
  },
  {
   "cell_type": "code",
   "execution_count": 12,
   "metadata": {},
   "outputs": [
    {
     "data": {
      "image/png": "[encoded data removed]",
      "text/latex": [
       "$$\\frac{1}{- S_{x}^{2} + S_{x2} n} \\left(- S_{x}^{2} S_{y2} + 2 S_{x} S_{xy} S_{y} - S_{x2} S_{y}^{2} + S_{x2} S_{y2} n - S_{xy}^{2} n\\right)$$"
      ],
      "text/plain": [
       "    2                               2                    2  \n",
       "- Sₓ ⋅S_y2 + 2⋅Sₓ⋅S_xy⋅S_y - Sₓ₂⋅S_y  + Sₓ₂⋅S_y2⋅n - S_xy ⋅n\n",
       "────────────────────────────────────────────────────────────\n",
       "                           2                                \n",
       "                       - Sₓ  + Sₓ₂⋅n                        "
      ]
     },
     "execution_count": 12,
     "metadata": {},
     "output_type": "execute_result"
    }
   ],
   "source": [
    "r.simplify()"
   ]
  },
  {
   "cell_type": "code",
   "execution_count": 13,
   "metadata": {
    "collapsed": true
   },
   "outputs": [],
   "source": [
    "# Now the connected line to the left"
   ]
  },
  {
   "cell_type": "code",
   "execution_count": 14,
   "metadata": {
    "collapsed": true
   },
   "outputs": [],
   "source": [
    "p = sp.IndexedBase('p')\n",
    "q = sp.IndexedBase('q')\n",
    "c0, x0, j = sp.symbols(\"c0 x0 j\")\n",
    "\n",
    "Tx, lTx = sp.symbols(\"T_x\"), sp.Sum(p[i], (i, 1, j))\n",
    "Tx2, lTx2 = sp.symbols(\"T_x2\"), sp.Sum(p[i]**2, (i, 1, j))\n",
    "Ty, lTy = sp.symbols(\"T_y\"), sp.Sum(q[i], (i, 1, j))\n",
    "Ty2, lTy2 = sp.symbols(\"T_y2\"), sp.Sum(q[i]**2, (i, 1, j))\n",
    "Txy, lTxy = sp.symbols(\"T_xy\"), sp.Sum(p[i]*q[i], (i, 1, j))\n"
   ]
  },
  {
   "cell_type": "code",
   "execution_count": 15,
   "metadata": {},
   "outputs": [
    {
     "data": {
      "image/png": "[encoded data removed]",
      "text/latex": [
       "$$c_{0}^{2} j + \\sum_{i=1}^{j} - 2 c_{0} q_{i} + \\sum_{i=1}^{j} \\frac{c^{2} p_{i}^{2}}{x_{0}^{2}} + \\sum_{i=1}^{j} \\frac{c_{0}^{2} p_{i}^{2}}{x_{0}^{2}} + \\sum_{i=1}^{j} \\frac{2 c_{0}^{2}}{x_{0}} p_{i} + \\sum_{i=1}^{j} - \\frac{2 c}{x_{0}^{2}} c_{0} p_{i}^{2} + \\sum_{i=1}^{j} - \\frac{2 c}{x_{0}} c_{0} p_{i} + \\sum_{i=1}^{j} \\frac{2 c}{x_{0}} p_{i} q_{i} + \\sum_{i=1}^{j} - \\frac{2 c_{0}}{x_{0}} p_{i} q_{i} + \\sum_{i=1}^{j} q_{i}^{2}$$"
      ],
      "text/plain": [
       "                             j                j                               \n",
       "                           _____            _____               j             \n",
       "          j                ╲                ╲                  ____           \n",
       "         ___                ╲     2     2    ╲      2     2    ╲              \n",
       "         ╲                   ╲   c ⋅p[i]      ╲   c₀ ⋅p[i]      ╲       2     \n",
       "  2       ╲   -2⋅c₀⋅q[i]      ╲  ────────      ╲  ─────────      ╲  2⋅c₀ ⋅p[i]\n",
       "c₀ ⋅j +   ╱              +    ╱      2    +    ╱       2    +    ╱  ──────────\n",
       "         ╱                   ╱     x₀         ╱      x₀         ╱       x₀    \n",
       "         ‾‾‾                ╱                ╱                 ╱              \n",
       "        i = 1              ╱                ╱                  ‾‾‾‾           \n",
       "                           ‾‾‾‾‾            ‾‾‾‾‾             i = 1           \n",
       "                           i = 1            i = 1                             \n",
       "\n",
       "     j                                                                        \n",
       "   _____                    j                     j                     j     \n",
       "   ╲                       ____                  ____                  ____   \n",
       "    ╲                2     ╲                     ╲                     ╲      \n",
       "     ╲   -2⋅c⋅c₀⋅p[i]       ╲   -2⋅c⋅c₀⋅p[i]      ╲   2⋅c⋅p[i]⋅q[i]     ╲   -2\n",
       "      ╲  ──────────────      ╲  ─────────────      ╲  ─────────────      ╲  ──\n",
       " +    ╱         2       +    ╱        x₀      +    ╱        x₀      +    ╱    \n",
       "     ╱        x₀            ╱                     ╱                     ╱     \n",
       "    ╱                      ╱                     ╱                     ╱      \n",
       "   ╱                       ‾‾‾‾                  ‾‾‾‾                  ‾‾‾‾   \n",
       "   ‾‾‾‾‾                  i = 1                 i = 1                 i = 1   \n",
       "   i = 1                                                                      \n",
       "\n",
       "                            \n",
       "                            \n",
       "                   j        \n",
       "                  ___       \n",
       "⋅c₀⋅p[i]⋅q[i]     ╲         \n",
       "──────────────     ╲       2\n",
       "     x₀        +   ╱   q[i] \n",
       "                  ╱         \n",
       "                  ‾‾‾       \n",
       "                 i = 1      \n",
       "                            \n",
       "                            "
      ]
     },
     "execution_count": 15,
     "metadata": {},
     "output_type": "execute_result"
    }
   ],
   "source": [
    "m0 = (c - c0)/(0 - x0)\n",
    "d1 = p[i]*m0 + c0 - q[i]\n",
    "t = sp.Sum(d1**2, (i, 1, j))\n",
    "t.expand().doit()\n"
   ]
  },
  {
   "cell_type": "code",
   "execution_count": 16,
   "metadata": {},
   "outputs": [
    {
     "data": {
      "image/png": "[encoded data removed]",
      "text/latex": [
       "$$- \\frac{2 T_{x}}{x_{0}} c c_{0} + \\frac{2 T_{x}}{x_{0}} c_{0}^{2} + \\frac{T_{x2} c^{2}}{x_{0}^{2}} - \\frac{2 T_{x2}}{x_{0}^{2}} c c_{0} + \\frac{T_{x2} c_{0}^{2}}{x_{0}^{2}} + \\frac{2 T_{xy}}{x_{0}} c - \\frac{2 T_{xy}}{x_{0}} c_{0} - 2 T_{y} c_{0} + T_{y2} + c_{0}^{2} j$$"
      ],
      "text/plain": [
       "                     2        2                      2                        \n",
       "  2⋅Tₓ⋅c⋅c₀   2⋅Tₓ⋅c₀    Tₓ₂⋅c    2⋅Tₓ₂⋅c⋅c₀   Tₓ₂⋅c₀    2⋅T_xy⋅c   2⋅T_xy⋅c₀ \n",
       "- ───────── + ──────── + ────── - ────────── + ─────── + ──────── - ───────── \n",
       "      x₀         x₀         2          2           2        x₀          x₀    \n",
       "                          x₀         x₀          x₀                           \n",
       "\n",
       "                         \n",
       "                      2  \n",
       "- 2⋅T_y⋅c₀ + T_y2 + c₀ ⋅j\n",
       "                         \n",
       "                         "
      ]
     },
     "execution_count": 16,
     "metadata": {},
     "output_type": "execute_result"
    }
   ],
   "source": [
    "t1 = c0**2*j - Ty*2*c0 + Tx2*c**2/x0**2 + Tx2*c0**2/x0**2 + \\\n",
    "                              Tx*2*c0**2/x0 - Tx2*2*c*c0/x0**2 - Tx*c0*2*c/x0 + \\\n",
    "                                                                  Txy*2*c/x0 - Txy*2*c0/x0 + Ty2\n",
    "t1"
   ]
  },
  {
   "cell_type": "code",
   "execution_count": 32,
   "metadata": {},
   "outputs": [
    {
     "data": {
      "image/png": "[encoded data removed]",
      "text/latex": [
       "$$0$$"
      ],
      "text/plain": [
       "0"
      ]
     },
     "execution_count": 32,
     "metadata": {},
     "output_type": "execute_result"
    }
   ],
   "source": [
    "k = t - t1\n",
    "k = k.subs({Ty2: lTy2, Ty: lTy, Tx2: lTx2, Tx: lTx, Txy: lTxy})\n",
    "k.subs(j, 9).doit().expand()    # <--  got this right"
   ]
  },
  {
   "cell_type": "code",
   "execution_count": 18,
   "metadata": {},
   "outputs": [
    {
     "data": {
      "image/png": "[encoded data removed]",
      "text/latex": [
       "$$2 S_{x} c m + S_{x2} m^{2} - 2 S_{xy} m - 2 S_{y} c + S_{y2} - \\frac{2 T_{x}}{x_{0}} c c_{0} + \\frac{2 T_{x}}{x_{0}} c_{0}^{2} + \\frac{T_{x2} c^{2}}{x_{0}^{2}} - \\frac{2 T_{x2}}{x_{0}^{2}} c c_{0} + \\frac{T_{x2} c_{0}^{2}}{x_{0}^{2}} + \\frac{2 T_{xy}}{x_{0}} c - \\frac{2 T_{xy}}{x_{0}} c_{0} - 2 T_{y} c_{0} + T_{y2} + c^{2} n + c_{0}^{2} j$$"
      ],
      "text/plain": [
       "                                                                   2        2 \n",
       "                2                               2⋅Tₓ⋅c⋅c₀   2⋅Tₓ⋅c₀    Tₓ₂⋅c  \n",
       "2⋅Sₓ⋅c⋅m + Sₓ₂⋅m  - 2⋅S_xy⋅m - 2⋅S_y⋅c + S_y2 - ───────── + ──────── + ────── \n",
       "                                                    x₀         x₀         2   \n",
       "                                                                        x₀    \n",
       "\n",
       "                     2                                                        \n",
       "  2⋅Tₓ₂⋅c⋅c₀   Tₓ₂⋅c₀    2⋅T_xy⋅c   2⋅T_xy⋅c₀                      2       2  \n",
       "- ────────── + ─────── + ──────── - ───────── - 2⋅T_y⋅c₀ + T_y2 + c ⋅n + c₀ ⋅j\n",
       "       2           2        x₀          x₀                                    \n",
       "     x₀          x₀                                                           "
      ]
     },
     "execution_count": 18,
     "metadata": {},
     "output_type": "execute_result"
    }
   ],
   "source": [
    "t1 + s1\n"
   ]
  },
  {
   "cell_type": "code",
   "execution_count": 19,
   "metadata": {},
   "outputs": [
    {
     "data": {
      "image/png": "[encoded data removed]",
      "text/latex": [
       "$$\\left ( 2 S_{x} m - 2 S_{y} - \\frac{2 T_{x}}{x_{0}} c_{0} + \\frac{2 T_{x2}}{x_{0}^{2}} c - \\frac{2 T_{x2}}{x_{0}^{2}} c_{0} + \\frac{2 T_{xy}}{x_{0}} + 2 c n, \\quad 2 S_{x} c + 2 S_{x2} m - 2 S_{xy}\\right )$$"
      ],
      "text/plain": [
       "⎛                 2⋅Tₓ⋅c₀   2⋅Tₓ₂⋅c   2⋅Tₓ₂⋅c₀   2⋅T_xy                       \n",
       "⎜2⋅Sₓ⋅m - 2⋅S_y - ─────── + ─────── - ──────── + ────── + 2⋅c⋅n, 2⋅Sₓ⋅c + 2⋅Sₓ\n",
       "⎜                    x₀         2         2        x₀                         \n",
       "⎝                             x₀        x₀                                    \n",
       "\n",
       "            ⎞\n",
       "₂⋅m - 2⋅S_xy⎟\n",
       "            ⎟\n",
       "            ⎠"
      ]
     },
     "execution_count": 19,
     "metadata": {},
     "output_type": "execute_result"
    }
   ],
   "source": [
    "ts1 = t1 + s1\n",
    "sp.diff(ts1, c), sp.diff(ts1, m)\n",
    "#sp.diff(t1, c)"
   ]
  },
  {
   "cell_type": "code",
   "execution_count": 21,
   "metadata": {},
   "outputs": [
    {
     "data": {
      "image/png": "[encoded data removed]",
      "text/latex": [
       "$$\\left \\{ c : \\frac{1}{S_{x}^{2} x_{0}^{2} - S_{x2} \\left(T_{x2} + n x_{0}^{2}\\right)} \\left(S_{x} S_{xy} x_{0}^{2} - S_{x2} \\left(S_{y} x_{0}^{2} + T_{x} c_{0} x_{0} + T_{x2} c_{0} - T_{xy} x_{0}\\right)\\right), \\quad m : \\frac{1}{S_{x}^{2} x_{0}^{2} - S_{x2} \\left(T_{x2} + n x_{0}^{2}\\right)} \\left(S_{x} \\left(S_{y} x_{0}^{2} + T_{x} c_{0} x_{0} + T_{x2} c_{0} - T_{xy} x_{0}\\right) - S_{xy} \\left(T_{x2} + n x_{0}^{2}\\right)\\right)\\right \\}$$"
      ],
      "text/plain": [
       "⎧             2       ⎛      2                              ⎞        ⎛      2 \n",
       "⎪   Sₓ⋅S_xy⋅x₀  - Sₓ₂⋅⎝S_y⋅x₀  + Tₓ⋅c₀⋅x₀ + Tₓ₂⋅c₀ - T_xy⋅x₀⎠     Sₓ⋅⎝S_y⋅x₀  \n",
       "⎨c: ─────────────────────────────────────────────────────────, m: ────────────\n",
       "⎪                    2   2       ⎛          2⎞                                \n",
       "⎩                  Sₓ ⋅x₀  - Sₓ₂⋅⎝Tₓ₂ + n⋅x₀ ⎠                                \n",
       "\n",
       "                             ⎞        ⎛          2⎞⎫\n",
       "+ Tₓ⋅c₀⋅x₀ + Tₓ₂⋅c₀ - T_xy⋅x₀⎠ - S_xy⋅⎝Tₓ₂ + n⋅x₀ ⎠⎪\n",
       "───────────────────────────────────────────────────⎬\n",
       "        2   2       ⎛          2⎞                  ⎪\n",
       "      Sₓ ⋅x₀  - Sₓ₂⋅⎝Tₓ₂ + n⋅x₀ ⎠                  ⎭"
      ]
     },
     "execution_count": 21,
     "metadata": {},
     "output_type": "execute_result"
    }
   ],
   "source": [
    "mc = sp.solve([sp.diff(ts1, c), sp.diff(ts1, m)], [m, c])\n",
    "mc"
   ]
  },
  {
   "cell_type": "code",
   "execution_count": 22,
   "metadata": {},
   "outputs": [
    {
     "name": "stdout",
     "output_type": "stream",
     "text": [
      "[(S_x*S_xy*x0**2 - S_x2*(S_y*x0**2 + T_x*c0*x0 + T_x2*c0 - T_xy*x0))/(S_x**2*x0**2 - S_x2*(T_x2 + n*x0**2))]\n",
      "[(S_x*(S_y*x0**2 + T_x*c0*x0 + T_x2*c0 - T_xy*x0) - S_xy*(T_x2 + n*x0**2))/(S_x**2*x0**2 - S_x2*(T_x2 + n*x0**2))]\n"
     ]
    }
   ],
   "source": [
    "print([mc[c]])\n",
    "print([mc[m]])\n"
   ]
  },
  {
   "cell_type": "code",
   "execution_count": 130,
   "metadata": {},
   "outputs": [
    {
     "data": {
      "image/png": "[encoded data removed]",
      "text/latex": [
       "$$\\frac{1}{S_{x}^{2} x_{0}^{2} - S_{x2} \\left(T_{x2} + n x_{0}^{2}\\right)} \\left(S_{x} S_{xy} x_{0}^{2} - S_{x2} \\left(S_{y} x_{0}^{2} + 10 T_{x} x_{0} + 10 T_{x2} - T_{xy} x_{0}\\right)\\right)$$"
      ],
      "text/plain": [
       "          2       ⎛      2                              ⎞\n",
       "Sₓ⋅S_xy⋅x₀  - Sₓ₂⋅⎝S_y⋅x₀  + 10⋅Tₓ⋅x₀ + 10⋅Tₓ₂ - T_xy⋅x₀⎠\n",
       "─────────────────────────────────────────────────────────\n",
       "                 2   2       ⎛          2⎞               \n",
       "               Sₓ ⋅x₀  - Sₓ₂⋅⎝Tₓ₂ + n⋅x₀ ⎠               "
      ]
     },
     "execution_count": 130,
     "metadata": {},
     "output_type": "execute_result"
    }
   ],
   "source": [
    "mc[c].subs(c0, 10)"
   ]
  },
  {
   "cell_type": "code",
   "execution_count": null,
   "metadata": {
    "collapsed": true
   },
   "outputs": [],
   "source": [
    "(S_y*x0**2 + T_x*c0*x0 + T_x2*c0 - T_xy*x0)\n",
    "(S_y*x0**2 + T_x*c0*x0 + T_x2*c0 - T_xy*x0)\n",
    "\n",
    "(S_x*S_xy*x0**2 - S_x2*cf)/\n",
    "(S_x**2*x0**2 - S_x2*(T_x2 + n*x0**2))\n",
    "\n",
    "(S_x*cf - S_xy*(T_x2 + n*x0**2))/\n",
    "(S_x**2*x0**2 - S_x2*(T_x2 + n*x0**2))"
   ]
  },
  {
   "cell_type": "code",
   "execution_count": 31,
   "metadata": {},
   "outputs": [
    {
     "data": {
      "image/png": "[encoded data removed]",
      "text/latex": [
       "$$\\frac{1}{S_{x}^{2} x_{0}^{2} - S_{x2} \\left(T_{x2} + n x_{0}^{2}\\right)} \\left(S_{x} \\left(S_{y} x_{0}^{2} + T_{x} c_{0} x_{0} + T_{x2} c_{0} - T_{xy} x_{0}\\right) - S_{xy} \\left(T_{x2} + n x_{0}^{2}\\right)\\right)$$"
      ],
      "text/plain": [
       "   ⎛      2                              ⎞        ⎛          2⎞\n",
       "Sₓ⋅⎝S_y⋅x₀  + Tₓ⋅c₀⋅x₀ + Tₓ₂⋅c₀ - T_xy⋅x₀⎠ - S_xy⋅⎝Tₓ₂ + n⋅x₀ ⎠\n",
       "───────────────────────────────────────────────────────────────\n",
       "                    2   2       ⎛          2⎞                  \n",
       "                  Sₓ ⋅x₀  - Sₓ₂⋅⎝Tₓ₂ + n⋅x₀ ⎠                  "
      ]
     },
     "execution_count": 31,
     "metadata": {},
     "output_type": "execute_result"
    }
   ],
   "source": [
    "mc[m] #.subs({Tx:0, Tx2:0, Ty:0, Ty2:0, Txy:0}).simplify()"
   ]
  },
  {
   "cell_type": "code",
   "execution_count": null,
   "metadata": {
    "collapsed": true
   },
   "outputs": [],
   "source": []
  }
 ],
 "metadata": {
  "kernelspec": {
   "display_name": "Python 3 (ipykernel)",
   "language": "python",
   "name": "python3"
  },
  "language_info": {
   "codemirror_mode": {
    "name": "ipython",
    "version": 3
   },
   "file_extension": ".py",
   "mimetype": "text/x-python",
   "name": "python",
   "nbconvert_exporter": "python",
   "pygments_lexer": "ipython3",
   "version": "3.9.6"
  }
 },
 "nbformat": 4,
 "nbformat_minor": 2
}
