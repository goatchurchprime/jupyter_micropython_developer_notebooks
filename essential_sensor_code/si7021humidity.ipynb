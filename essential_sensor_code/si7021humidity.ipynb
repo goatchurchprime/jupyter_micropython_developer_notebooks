{
 "cells": [
  {
   "cell_type": "code",
   "execution_count": 2,
   "metadata": {},
   "outputs": [
    {
     "name": "stdout",
     "output_type": "stream",
     "text": [
      "\u001b[34mConnecting to --port=/dev/ttyUSB0 --baud=115200 \u001b[0m\n",
      "\u001b[34mReady.\n",
      "\u001b[0m"
     ]
    }
   ],
   "source": [
    "%serialconnect"
   ]
  },
  {
   "cell_type": "code",
   "execution_count": 10,
   "metadata": {},
   "outputs": [
    {
     "name": "stdout",
     "output_type": "stream",
     "text": [
      "119 [64]\r\n"
     ]
    }
   ],
   "source": [
    "import machine\n",
    "i2c = machine.I2C(scl=machine.Pin(5), sda=machine.Pin(4))\n",
    "print(0x77, (i2c.scan()))"
   ]
  },
  {
   "cell_type": "code",
   "execution_count": 11,
   "metadata": {},
   "outputs": [],
   "source": [
    "\n",
    "import time\n",
    "i2c.writeto(0x40, b'\\xFE')  # resets chip\n",
    "time.sleep(0.2)\n"
   ]
  },
  {
   "cell_type": "code",
   "execution_count": 87,
   "metadata": {},
   "outputs": [
    {
     "name": "stdout",
     "output_type": "stream",
     "text": [
      "\u001b[32mWriting si7021_funcs.py\n",
      "\n",
      "\u001b[0m"
     ]
    }
   ],
   "source": [
    "%%writefile si7021_funcs.py\n",
    "\n",
    "from i2cmodule import i2c\n",
    "import ustruct, time, math\n",
    "\n",
    "def setupSI7021():\n",
    "    i2c.writeto(0x40, b'\\xFE')  # resets chip\n",
    "    time.sleep_ms(20)  # got to delay or you get an error if call next function too soon\n",
    "    \n",
    "def SI7021checkchip():\n",
    "    i2c.writeto(0x40, b'\\xFA\\x0F')\n",
    "    sna = i2c.readfrom(0x40, 8)\n",
    "    i2c.writeto(0x40, b'\\xFC\\xC9')\n",
    "    snb = i2c.readfrom(0x40, 6)\n",
    "    i2c.writeto(0x40, b'\\x84\\xB8')\n",
    "    firmr = i2c.readfrom(0x40, 1)\n",
    "    print(\"SNA %s %s %s %s  SNB %s %s %s %s  firmware %s\" % (hex(sna[0]), hex(sna[2]), hex(sna[4]), hex(sna[6]), hex(snb[0]), hex(snb[1]), hex(snb[3]), hex(snb[4]), hex(firmr[0])))\n",
    "    return (snb[0] == 21) # identifies the Si7021 type chip\n",
    "\n",
    "def SI7021printstatus():\n",
    "    reg1 = i2c.readfrom_mem(0x40, 0xE7, 1)[0]\n",
    "    heater = i2c.readfrom_mem(0x40, 0x11, 1)[0]\n",
    "    print(\"MeasRes:%s VDD:%s heater-on:%s heater:%s\" % (hex(reg1 & 0x81), hex(reg1 & 0x40), hex(reg1 & 0x04), hex(heater & 0x0F)))\n",
    "\n",
    "def SI7021setheater(hheater):\n",
    "    # hheater to be between 0 and 15\n",
    "    reg1 = i2c.readfrom_mem(0x40, 0xE7, 1)[0]\n",
    "    nreg1 = (reg1 & 0xFB) if (hheater == 0) else (reg1 | 0x04) \n",
    "    i2c.writeto_mem(0x40, 0xE6, bytes([nreg1]))\n",
    "    \n",
    "    heater = i2c.readfrom_mem(0x40, 0x11, 1)[0]\n",
    "    nheater = ((heater & 0xF0) | hheater); \n",
    "    i2c.writeto_mem(0x40, 0x51, bytes([nheater]))\n",
    "\n",
    "def SI7021humiditytemp():\n",
    "        # E5 is hold master mode, didn't used to work, but now does while no hold F5 stopped working\n",
    "        # (the clock stretching doesn't seem to apply anyway)\n",
    "    i2c.writeto(0x40, b'\\xE5')  \n",
    "    time.sleep_ms(20)   # give it time to take a reading or it fails\n",
    "    bh = i2c.readfrom(0x40, 2)\n",
    "    rh = ustruct.unpack(\">H\", bh)[0] & 0xFFFC\n",
    "    bt = i2c.readfrom_mem(0x40, 0xE0, 2)\n",
    "    rt = ustruct.unpack(\">H\", bt)[0] & 0xFFFC\n",
    "    return ((125.0*rh)/65536)-6, ((175.25*rt)/65536)-46.85 \n",
    "\n",
    "async def aSI7021humiditytemp(uasyncio):\n",
    "    i2c.writeto(0x40, b'\\xE5')  \n",
    "    await uasyncio.sleep_ms(20)   # give it time to take a reading or it fails\n",
    "    bh = i2c.readfrom(0x40, 2)\n",
    "    rh = ustruct.unpack(\">H\", bh)[0] & 0xFFFC\n",
    "    bt = i2c.readfrom_mem(0x40, 0xE0, 2)\n",
    "    rt = ustruct.unpack(\">H\", bt)[0] & 0xFFFC\n",
    "    return ((125.0*rh)/65536)-6, ((175.25*rt)/65536)-46.85 \n",
    "\n",
    "def DewpointTemperature(humid, temp):\n",
    "    A, B, C = 8.1332, 1762.39, 235.66\n",
    "    svp = 10**(A - B/(temp + C))*133.322387415\n",
    "    pvp = svp*humid/100\n",
    "    return -C - B/(math.log10(pvp/133.322387415) - A)\n"
   ]
  },
  {
   "cell_type": "code",
   "execution_count": 88,
   "metadata": {},
   "outputs": [
    {
     "name": "stdout",
     "output_type": "stream",
     "text": [
      "Sent 57 lines (2333 bytes) to si7021_funcs.py.\n"
     ]
    }
   ],
   "source": [
    "%sendtofile --source si7021_funcs.py"
   ]
  },
  {
   "cell_type": "code",
   "execution_count": 84,
   "metadata": {},
   "outputs": [
    {
     "name": "stdout",
     "output_type": "stream",
     "text": [
      "SNA 0x0 0x39 0x64 0x3c  SNB 0x15 0xff 0xff 0xff  firmware 0x20\r\n"
     ]
    }
   ],
   "source": [
    "i2c.writeto(0x40, b'\\xFA\\x0F')\n",
    "sna = i2c.readfrom(0x40, 8)\n",
    "i2c.writeto(0x40, b'\\xFC\\xC9')\n",
    "snb = i2c.readfrom(0x40, 6)\n",
    "i2c.writeto(0x40, b'\\x84\\xB8')\n",
    "firmr = i2c.readfrom(0x40, 1)\n",
    "print(\"SNA %s %s %s %s  SNB %s %s %s %s  firmware %s\" % (hex(sna[0]), hex(sna[2]), hex(sna[4]), hex(sna[6]), hex(snb[0]), hex(snb[1]), hex(snb[3]), hex(snb[4]), hex(firmr[0])))\n"
   ]
  },
  {
   "cell_type": "code",
   "execution_count": 4,
   "metadata": {},
   "outputs": [
    {
     "name": "stderr",
     "output_type": "stream",
     "text": [
      "Traceback (most recent call last):\n",
      "  File \"<stdin>\", line 1, in <module>\n",
      "ImportError: no module named 'si7021_funcs'\n"
     ]
    }
   ],
   "source": [
    "from si7021_funcs import setupSI7021, SI7021humiditytemp, DewpointTemperature, aSI7021humiditytemp\n",
    "from si7021_funcs import SI7021checkchip, SI7021printstatus, SI7021setheater\n"
   ]
  },
  {
   "cell_type": "code",
   "execution_count": 93,
   "metadata": {},
   "outputs": [
    {
     "name": "stdout",
     "output_type": "stream",
     "text": [
      "SNA 0x0 0x39 0x64 0x3c  SNB 0x15 0xff 0xff 0xff  firmware 0x20\n",
      "MeasRes:0x0 VDD:0x0 heater-on:0x0 heater:0x0\n"
     ]
    }
   ],
   "source": [
    "setupSI7021()\n",
    "SI7021checkchip()\n",
    "SI7021printstatus()"
   ]
  },
  {
   "cell_type": "code",
   "execution_count": 95,
   "metadata": {},
   "outputs": [
    {
     "name": "stdout",
     "output_type": "stream",
     "text": [
      "(82.60779, 15.92724)\r\n"
     ]
    }
   ],
   "source": [
    "print(SI7021humiditytemp())"
   ]
  },
  {
   "cell_type": "code",
   "execution_count": 108,
   "metadata": {},
   "outputs": [],
   "source": [
    "import time\n",
    "import ustruct\n",
    "ustruct.pack(\"<h\", 8888888)"
   ]
  },
  {
   "cell_type": "code",
   "execution_count": 122,
   "metadata": {},
   "outputs": [
    {
     "name": "stdout",
     "output_type": "stream",
     "text": [
      "starting 0\n",
      "starting 1\n",
      ".starting 2\n",
      "starting 3\n",
      "."
     ]
    }
   ],
   "source": [
    "# Now try writing to a file\n",
    "\n",
    "import uasyncio\n",
    "import time, ustruct\n",
    "from si7021_funcs import setupSI7021, SI7021humiditytemp, DewpointTemperature, aSI7021humiditytemp\n",
    "\n",
    "nfiles, nvals = 10, 10000\n",
    "nfiles, nvals = 4, 5\n",
    "async def thing():\n",
    "    for i in range(nfiles):\n",
    "        print(\"starting\", i)\n",
    "        t0 = time.ticks_ms()\n",
    "        fout = open(\"dat/ht%d.bin\"%int(t0//1000), \"wb\")\n",
    "        for j in range(nvals):\n",
    "            await uasyncio.sleep_ms(500)\n",
    "            h, temp = await aSI7021humiditytemp(uasyncio)\n",
    "            t = time.ticks_ms()\n",
    "            fout.write(ustruct.pack(\"<HH\", t-t0, int(temp*100)))\n",
    "        fout.close()\n",
    "\n",
    "#ipnumber = \"192.168.4.1\"\n",
    "loop = uasyncio.get_event_loop()\n",
    "loop.run_until_complete(thing())\n"
   ]
  },
  {
   "cell_type": "code",
   "execution_count": 121,
   "metadata": {
    "collapsed": true
   },
   "outputs": [],
   "source": [
    "os.mkdir(\"dat\")"
   ]
  },
  {
   "cell_type": "code",
   "execution_count": 120,
   "metadata": {},
   "outputs": [
    {
     "name": "stdout",
     "output_type": "stream",
     "text": [
      "ht5454.dat (32768, 0, 0, 0, 0, 0, 0, 0, 0, 0)\n",
      "ht5475.dat (32768, 0, 0, 0, 0, 0, 0, 0, 0, 0)\n",
      "ht5499.dat (32768, 0, 0, 0, 0, 0, 0, 0, 0, 0)\n",
      "ht5527.dat (32768, 0, 0, 0, 0, 0, 20, 0, 0, 0)\n",
      "ht5530.dat (32768, 0, 0, 0, 0, 0, 20, 0, 0, 0)\n",
      "ht5533.dat (32768, 0, 0, 0, 0, 0, 20, 0, 0, 0)\n",
      "ht5536.dat (32768, 0, 0, 0, 0, 0, 20, 0, 0, 0)\n",
      "ht5539.dat (32768, 0, 0, 0, 0, 0, 20, 0, 0, 0)\n",
      "ht5542.dat (32768, 0, 0, 0, 0, 0, 20, 0, 0, 0)\n",
      "ht5544.dat (32768, 0, 0, 0, 0, 0, 20, 0, 0, 0)\n",
      "ht5547.dat (32768, 0, 0, 0, 0, 0, 20, 0, 0, 0)\n",
      "ht5550.dat (32768, 0, 0, 0, 0, 0, 20, 0, 0, 0)\n",
      "ht5553.dat (32768, 0, 0, 0, 0, 0, 20, 0, 0, 0)\n"
     ]
    }
   ],
   "source": [
    "import os\n",
    "for l in os.listdir():\n",
    "    if l[-3:] == \"dat\":\n",
    "        print(l, os.stat(l))\n",
    "        os.remove(l)\n"
   ]
  },
  {
   "cell_type": "code",
   "execution_count": 114,
   "metadata": {
    "collapsed": true
   },
   "outputs": [],
   "source": [
    "ustruct.pack(\"<HH\", 1, 1)"
   ]
  },
  {
   "cell_type": "code",
   "execution_count": null,
   "metadata": {
    "collapsed": true
   },
   "outputs": [],
   "source": []
  }
 ],
 "metadata": {
  "kernelspec": {
   "display_name": "MicroPython - USB",
   "language": "micropython",
   "name": "micropython"
  },
  "language_info": {
   "codemirror_mode": "python",
   "file_extension": ".py",
   "mimetype": "text/python",
   "name": "micropython"
  }
 },
 "nbformat": 4,
 "nbformat_minor": 2
}
