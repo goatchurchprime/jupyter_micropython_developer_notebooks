{
 "cells": [
  {
   "cell_type": "code",
   "execution_count": 1,
   "metadata": {},
   "outputs": [
    {
     "name": "stdout",
     "output_type": "stream",
     "text": [
      "\u001b[34mConnecting to --port=/dev/ttyUSB2 --baud=115200 \u001b[0m\n",
      "\u001b[34mReady.\n",
      "\u001b[0m"
     ]
    }
   ],
   "source": [
    "%serialconnect\n"
   ]
  },
  {
   "cell_type": "code",
   "execution_count": 2,
   "metadata": {},
   "outputs": [
    {
     "name": "stdout",
     "output_type": "stream",
     "text": [
      "Sent 41 lines (2142 bytes) to ds3231.py.\n"
     ]
    }
   ],
   "source": [
    "%sendtofile --source ds3231.py\n"
   ]
  },
  {
   "cell_type": "code",
   "execution_count": 3,
   "metadata": {},
   "outputs": [],
   "source": [
    "import machine\n",
    "i2c = machine.I2C(scl=machine.Pin(5), sda=machine.Pin(4))\n",
    "import ds3231"
   ]
  },
  {
   "cell_type": "code",
   "execution_count": 4,
   "metadata": {},
   "outputs": [
    {
     "name": "stdout",
     "output_type": "stream",
     "text": [
      "\u001b[34m\n",
      "\n",
      "*** Sending Ctrl-C\n",
      "\n",
      "\u001b[0m"
     ]
    },
    {
     "name": "stderr",
     "output_type": "stream",
     "text": [
      "Traceback (most recent call last):\n",
      "  File \"<stdin>\", line 4, in <module>\n",
      "  File \"ds3231.py\", line 18, in rtctojsepoch\n",
      "KeyboardInterrupt: \n"
     ]
    }
   ],
   "source": [
    "import time\n",
    "for i in range(10):\n",
    "    time.sleep(0.3)\n",
    "    print(ds3231.jsepochtoisodate(ds3231.rtctojsepoch(i2c, True)))"
   ]
  },
  {
   "cell_type": "code",
   "execution_count": 66,
   "metadata": {},
   "outputs": [
    {
     "name": "stdout",
     "output_type": "stream",
     "text": [
      "1511107545413 1511107545413\r\n"
     ]
    }
   ],
   "source": [
    "x = ds3231.isodatetojsepoch(\"2017-11-19T16:05:45.413Z\")\n",
    "print(x, 1511107545413)"
   ]
  },
  {
   "cell_type": "code",
   "execution_count": null,
   "metadata": {
    "collapsed": true
   },
   "outputs": [],
   "source": [
    "ds3231.jsepochtortc(x)   # set the value"
   ]
  },
  {
   "cell_type": "code",
   "execution_count": 80,
   "metadata": {},
   "outputs": [
    {
     "name": "stdout",
     "output_type": "stream",
     "text": [
      "repl is in normal command mode\n",
      "[\\r\\x03\\x03] b'\\r\\nMicroPython v1.9.2-443-g236297f4 on 2017-11-14; ESP32 module with ESP32\\r\\nType \"help()\" for more information.\\r\\n>>> \\r\\n>>> \\r\\nPYB: soft reboot\\r\\nOSError: [Errno 2] ENOENT\\r\\nMicroPython v1.9.2-443-g236297f4 on 2017-11-14; ESP32 module with ESP32\\r\\nType \"help()\" for more information.\\r\\n>>> \\r\\n>>> \\r\\n>>> '\n",
      "[\\r\\x01] b'\\r\\n>>> \\r\\nraw REPL; CTRL-B to exit\\r\\n>'"
     ]
    }
   ],
   "source": [
    "%rebootdevice"
   ]
  },
  {
   "cell_type": "code",
   "execution_count": null,
   "metadata": {
    "collapsed": true
   },
   "outputs": [],
   "source": []
  },
  {
   "cell_type": "code",
   "execution_count": null,
   "metadata": {
    "collapsed": true
   },
   "outputs": [],
   "source": []
  },
  {
   "cell_type": "code",
   "execution_count": 2,
   "metadata": {
    "collapsed": true
   },
   "outputs": [],
   "source": [
    "import os\n",
    "os.remove(\"main.py\")\n"
   ]
  },
  {
   "cell_type": "code",
   "execution_count": 22,
   "metadata": {},
   "outputs": [
    {
     "name": "stdout",
     "output_type": "stream",
     "text": [
      "PWM(13, freq=10, duty=40)\r\n"
     ]
    }
   ],
   "source": [
    "w.freq(10)\n",
    "print(w)"
   ]
  },
  {
   "cell_type": "code",
   "execution_count": 24,
   "metadata": {
    "collapsed": true
   },
   "outputs": [],
   "source": [
    "w.duty(2)"
   ]
  },
  {
   "cell_type": "code",
   "execution_count": 25,
   "metadata": {
    "collapsed": true
   },
   "outputs": [],
   "source": [
    "\n",
    "i2c = machine.I2C(scl=machine.Pin(5), sda=machine.Pin(4))\n"
   ]
  },
  {
   "cell_type": "code",
   "execution_count": 29,
   "metadata": {},
   "outputs": [
    {
     "name": "stdout",
     "output_type": "stream",
     "text": [
      "[87, 104, 119]\r\n"
     ]
    }
   ],
   "source": [
    "print(i2c.scan())"
   ]
  },
  {
   "cell_type": "code",
   "execution_count": 28,
   "metadata": {},
   "outputs": [
    {
     "name": "stdout",
     "output_type": "stream",
     "text": [
      "104 0x57\r\n"
     ]
    }
   ],
   "source": [
    "print(0x68, hex(87))"
   ]
  },
  {
   "cell_type": "code",
   "execution_count": 73,
   "metadata": {
    "collapsed": true
   },
   "outputs": [],
   "source": [
    "#\n",
    "# Realtime clock code, handles isodates, javascriptepoch timestamps (in milliseconds), \n",
    "# and interface to the DS3231 as well as the internal RTC\n",
    "# \n",
    "\n",
    "epoch1970 = 946684800000   # esp8266 has 2000 epoch\n",
    "def rhex(h):  \n",
    "    return (h>>4)*10 + (h&0x0f)\n",
    "def dhex(v):  \n",
    "    return chr(((v//10)<<4) + (v%10))\n",
    "\n",
    "def rtctojsepoch(bwaitsec=False):\n",
    "    r = i2c.readfrom_mem(0x68, 0x00, 7)\n",
    "    year, month, day = rhex(r[6])+2000, rhex(r[5]), rhex(r[4])\n",
    "    hour, minute, second = rhex(r[2]), rhex(r[1]), rhex(r[0])\n",
    "    micropythonepoch = time.mktime((year, month, day, hour, minute, second, -1, -1))\n",
    "    if bwaitsec:\n",
    "        micropythonepoch += 1000\n",
    "        while (r[0] == i2c.readfrom_mem(0x68, 0x00, 1)[0]):\n",
    "            pass\n",
    "    return micropythonepoch*1000 + epoch1970   # esp8266 has 2000 epoch\n",
    "\n",
    "\n",
    "def rtctojsepoch():\n",
    "    r = i2c.readfrom_mem(0x68, 0x00, 7)\n",
    "    year, month, day = rhex(r[6])+2000, rhex(r[5]), rhex(r[4])\n",
    "    hour, minute, second = rhex(r[2]), rhex(r[1]), rhex(r[0])\n",
    "    micropythonepoch = time.mktime((year, month, day, hour, minute, second, -1, -1))\n",
    "    return micropythonepoch*1000 + epoch1970   # esp8266 has 2000 epoch\n",
    "\n",
    "def jsepochtortc(jsepoch):\n",
    "    micropythonepoch = (jsepoch - epoch1970)//1000\n",
    "    microsecond = jsepoch % 1000\n",
    "    year, month, day, hour, minute, second, d1, d2 = time.localtime(micropythonepoch)\n",
    "    i2c.writeto(0x68, chr(0) + dhex(second) + dhex(minute) + dhex(hour))\n",
    "    i2c.writeto(0x68, chr(4) + dhex(day) + dhex(month) + dhex(year-2000))\n",
    "    \n",
    "def isodatetojsepoch(isodate):  # 2017-11-19T16:05:45.413Z\n",
    "    #mtime = ure.match(\"(\\d\\d\\d\\d)-(\\d\\d)-(\\d\\d)[T ](\\d\\d)[:c](\\d\\d)[:c](\\d\\d)[\\.d](\\d\\d\\d)\", isodate)\n",
    "    #year, month, day, hour, minute, second, microsecond = int(mtime.group(1)), int(mtime.group(2)), int(mtime.group(3)), int(mtime.group(4)), int(mtime.group(5)), int(mtime.group(6)), int(mtime.group(7)) \n",
    "    year, month, day = int(isodate[:4]), int(isodate[5:7]), int(isodate[8:10])\n",
    "    hour, minute, second, microsecond = int(isodate[11:13]), int(isodate[14:16]), int(isodate[17:19]), int(isodate[20:23])\n",
    "    micropythonepoch = time.mktime((year, month, day, hour, minute, second, -1, -1))\n",
    "    return micropythonepoch*1000 + microsecond + epoch1970\n",
    "\n",
    "def jsepochtoisodate(jsepoch):\n",
    "    micropythonepoch = (jsepoch - epoch1970)//1000\n",
    "    microsecond = jsepoch % 1000\n",
    "    year, month, day, hour, minute, second, d1, d2 = time.localtime(micropythonepoch)\n",
    "    return \"{0:04d}-{1:02d}-{2:02d}T{3:02d}:{4:02d}:{5:02d}.{6:03d}\".format(year, month, day, hour, minute, second, microsecond)\n",
    "    \n"
   ]
  },
  {
   "cell_type": "code",
   "execution_count": 74,
   "metadata": {
    "collapsed": true
   },
   "outputs": [],
   "source": [
    "def rtctojsepoch(bwaitsec=False):\n",
    "    r = i2c.readfrom_mem(0x68, 0x00, 7)\n",
    "    year, month, day = rhex(r[6])+2000, rhex(r[5]), rhex(r[4])\n",
    "    hour, minute, second = rhex(r[2]), rhex(r[1]), rhex(r[0])\n",
    "    micropythonepoch = time.mktime((year, month, day, hour, minute, second, -1, -1))\n",
    "    if bwaitsec:\n",
    "        micropythonepoch += 1000\n",
    "        while (r[0] == i2c.readfrom_mem(0x68, 0x00, 1)[0]):\n",
    "            pass\n",
    "    return micropythonepoch*1000 + epoch1970   # esp8266 has 2000 epoch\n"
   ]
  },
  {
   "cell_type": "code",
   "execution_count": 78,
   "metadata": {},
   "outputs": [
    {
     "name": "stdout",
     "output_type": "stream",
     "text": [
      "1511109993000\n",
      ".1511109994000\n",
      "1511109995000\n",
      "1511109996000\n",
      "1511109997000\n",
      "1511109998000\n",
      "1511109999000\n",
      "1511110000000\n",
      "1511110001000\n",
      "1511110002000\n"
     ]
    }
   ],
   "source": [
    "import time\n",
    "for i in range(10):\n",
    "    time.sleep(0.8)\n",
    "    print(rtctojsepoch(True))\n",
    "    "
   ]
  },
  {
   "cell_type": "code",
   "execution_count": 33,
   "metadata": {},
   "outputs": [
    {
     "name": "stdout",
     "output_type": "stream",
     "text": [
      "946685444000\r\n"
     ]
    }
   ],
   "source": [
    "print(rtctojsepoch())"
   ]
  },
  {
   "cell_type": "code",
   "execution_count": 55,
   "metadata": {},
   "outputs": [
    {
     "name": "stdout",
     "output_type": "stream",
     "text": [
      "1511107545413\r\n"
     ]
    }
   ],
   "source": [
    "x = isodatetojsepoch(\"2017-11-19T16:05:45.413Z\")\n",
    "print(x, 1511107545413)\n"
   ]
  },
  {
   "cell_type": "code",
   "execution_count": 35,
   "metadata": {},
   "outputs": [
    {
     "name": "stdout",
     "output_type": "stream",
     "text": [
      "1511107545413\r\n"
     ]
    }
   ],
   "source": [
    "x = isodatetojsepoch(\"2017-11-19T16:05:45.413Z\")\n",
    "print(x)\n"
   ]
  },
  {
   "cell_type": "code",
   "execution_count": 36,
   "metadata": {},
   "outputs": [
    {
     "name": "stdout",
     "output_type": "stream",
     "text": [
      "2017-11-19T16:05:45.413\r\n"
     ]
    }
   ],
   "source": [
    "print(jsepochtoisodate(x))\n"
   ]
  },
  {
   "cell_type": "code",
   "execution_count": 38,
   "metadata": {
    "collapsed": true
   },
   "outputs": [],
   "source": [
    "jsepochtortc(x)"
   ]
  },
  {
   "cell_type": "code",
   "execution_count": 49,
   "metadata": {},
   "outputs": [
    {
     "name": "stdout",
     "output_type": "stream",
     "text": [
      "2017-11-19T16:07:07.000\r\n"
     ]
    }
   ],
   "source": [
    "print(jsepochtoisodate(rtctojsepoch()))"
   ]
  },
  {
   "cell_type": "code",
   "execution_count": 89,
   "metadata": {},
   "outputs": [
    {
     "name": "stdout",
     "output_type": "stream",
     "text": [
      "object <module 'umachine'> is of type module\n",
      "  __name__ -- umachine\n",
      "  mem8 -- <8-bit memory>\n",
      "  mem16 -- <16-bit memory>\n",
      "  mem32 -- <32-bit memory>\n",
      "  freq -- <function>\n",
      "  reset -- <function>\n",
      "  unique_id -- <function>\n",
      "  idle -- <function>\n",
      "  disable_irq -- <function>\n",
      "  enable_irq -- <function>\n",
      "  time_pulse_us -- <function>\n",
      "  Timer -- <class 'Timer'>\n",
      "  WDT -- <class 'WDT'>\n",
      "  Pin -- <class 'Pin'>\n",
      "  Signal -- <class 'Signal'>\n",
      "  TouchPad -- <class 'TouchPad'>\n",
      "  ADC -- <class 'ADC'>\n",
      "  DAC -- <class 'DAC'>\n",
      "  I2C -- <class 'I2C'>\n",
      "  PWM -- <class 'PWM'>\n",
      "  SPI -- <class 'SoftSPI'>\n",
      "  UART -- <class 'UART'>\n"
     ]
    }
   ],
   "source": [
    "import machine\n",
    "machine.Pin(13)\n",
    "help(machine)"
   ]
  },
  {
   "cell_type": "code",
   "execution_count": 90,
   "metadata": {
    "collapsed": true
   },
   "outputs": [],
   "source": [
    "x = machine.TouchPad(machine.Pin(32))\n"
   ]
  },
  {
   "cell_type": "code",
   "execution_count": 93,
   "metadata": {},
   "outputs": [
    {
     "name": "stdout",
     "output_type": "stream",
     "text": [
      "1709\n",
      "1712\n",
      "1712\n",
      "1712\n",
      "1710\n",
      "1710\n",
      "1713\n",
      "1713\n",
      "1712\n",
      "1682\n",
      "1702\n",
      "1704\n",
      "1707\n",
      "1708\n",
      "1706\n",
      "1706\n",
      "1708\n",
      "1705\n",
      "1704\n",
      "1701\n",
      "1702\n",
      "1697\n",
      "1704\n",
      "1703\n",
      "1709\n",
      "1711\n",
      "1706\n",
      "1705\n",
      "1710\n",
      "1715\n"
     ]
    }
   ],
   "source": [
    "import time\n",
    "for i in range(30):\n",
    "    print(x.read())\n",
    "    time.sleep(0.5)\n",
    "    "
   ]
  },
  {
   "cell_type": "code",
   "execution_count": null,
   "metadata": {
    "collapsed": true
   },
   "outputs": [],
   "source": []
  }
 ],
 "metadata": {
  "kernelspec": {
   "display_name": "MicroPython - USB",
   "language": "micropython",
   "name": "micropython"
  },
  "language_info": {
   "codemirror_mode": "python",
   "file_extension": ".py",
   "mimetype": "text/python",
   "name": "micropython"
  }
 },
 "nbformat": 4,
 "nbformat_minor": 2
}
