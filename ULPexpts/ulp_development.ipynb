{
 "cells": [
  {
   "cell_type": "markdown",
   "metadata": {},
   "source": [
    "Attempts to incorporate esp32 Ultra Low Power processor \n",
    "compilation into the jupyter micropython notebook \n",
    "\n",
    "https://github.com/micropython/micropython/blob/master/ports/esp32/README.ulp.md\n"
   ]
  },
  {
   "cell_type": "markdown",
   "metadata": {},
   "source": [
    "We also need the whole esp32 micropython toolchain\n",
    "https://github.com/micropython/micropython/tree/master/ports/esp32\n",
    "\n",
    "and git clone https://github.com/espressif/esp-idf.git\n",
    "git checkout 30545f4cccec7460634b656d278782dd7151098e\n",
    "git submodule update --init --recursive\n",
    "\n",
    "Added in the $ESPIDF environment variable.  \n",
    "Did not do the binary part of the toolchain.  \n",
    "\n",
    "Now looking at:\n",
    "https://github.com/ThomasWaldmann/py-esp32-ulp/\n"
   ]
  },
  {
   "cell_type": "code",
   "execution_count": 2,
   "metadata": {},
   "outputs": [
    {
     "name": "stdout",
     "output_type": "stream",
     "text": [
      "\u001b[34mConnecting to --port=/dev/ttyUSB2 --baud=115200 \u001b[0m\n",
      "\u001b[34mReady.\n",
      "\u001b[0m"
     ]
    }
   ],
   "source": [
    "%serialconnect"
   ]
  },
  {
   "cell_type": "code",
   "execution_count": 3,
   "metadata": {},
   "outputs": [
    {
     "name": "stdout",
     "output_type": "stream",
     "text": [
      "Sent 283 lines (9521 bytes) to esp32_ulp/assemble.py.\n"
     ]
    }
   ],
   "source": [
    "%sendtofile --mkdir --source /home/julian/extrepositories/py-esp32-ulp/esp32_ulp  esp32_ulp"
   ]
  },
  {
   "cell_type": "code",
   "execution_count": 117,
   "metadata": {},
   "outputs": [
    {
     "name": "stdout",
     "output_type": "stream",
     "text": [
      "0000 data\n",
      "0001 data2\n",
      "0002 entry\n"
     ]
    }
   ],
   "source": [
    "from esp32_ulp.__main__ import src_to_binary\n",
    "from esp32 import ULP\n",
    "\n",
    "source = \"\"\"\\\n",
    "data:       .long 0x55667788\n",
    "data2:      .long 0x11223344\n",
    "entry:      move r3, data    # load address of data into r3\n",
    "            ld r2, r3, 2\n",
    "            rsh r2, r2, 16\n",
    "            st r2, r3, 0\n",
    "            halt\n",
    "\"\"\"\n",
    "ulp = ULP()\n",
    "binary = src_to_binary(source)\n",
    "ulp.load_binary(0, binary)\n"
   ]
  },
  {
   "cell_type": "code",
   "execution_count": 118,
   "metadata": {},
   "outputs": [
    {
     "name": "stdout",
     "output_type": "stream",
     "text": [
      "0x55667788\n",
      "0x11223344\n",
      "0xa37788\n",
      "0x11223344\n"
     ]
    }
   ],
   "source": [
    "from machine import mem32\n",
    "print(hex(mem32[0x50000000]))\n",
    "print(hex(mem32[0x50000004]))\n",
    "ulp.run(2*4)\n",
    "print(hex(mem32[0x50000000]))\n",
    "print(hex(mem32[0x50000004]))\n"
   ]
  },
  {
   "cell_type": "code",
   "execution_count": null,
   "metadata": {},
   "outputs": [],
   "source": [
    "ulp.set_wakeup_period(0, -1)"
   ]
  },
  {
   "cell_type": "code",
   "execution_count": 126,
   "metadata": {},
   "outputs": [
    {
     "name": "stdout",
     "output_type": "stream",
     "text": [
      "0x0\n"
     ]
    }
   ],
   "source": [
    "from machine import mem8\n",
    "print(hex(mem8[0x50000015]))\n"
   ]
  },
  {
   "cell_type": "code",
   "execution_count": 45,
   "metadata": {},
   "outputs": [
    {
     "name": "stdout",
     "output_type": "stream",
     "text": [
      "object <ULP> is of type ULP\n",
      "  set_wakeup_period -- <function>\n",
      "  load_binary -- <function>\n",
      "  run -- <function>\n",
      "  RESERVE_MEM -- 2040\n"
     ]
    }
   ],
   "source": [
    "help(ulp)"
   ]
  },
  {
   "cell_type": "code",
   "execution_count": 587,
   "metadata": {},
   "outputs": [
    {
     "name": "stderr",
     "output_type": "stream",
     "text": [
      "Traceback (most recent call last):\n",
      "  File \"<stdin>\", line 1, in <module>\n",
      "NameError: name 'p' isn't defined\n"
     ]
    }
   ],
   "source": [
    "print(p)"
   ]
  },
  {
   "cell_type": "code",
   "execution_count": 585,
   "metadata": {},
   "outputs": [],
   "source": [
    "mem32[0x3ff44000 + 0xC] ^= 1 << 2"
   ]
  },
  {
   "cell_type": "code",
   "execution_count": 586,
   "metadata": {},
   "outputs": [],
   "source": [
    "mem32[0x3ff44000 + 0x8] ^= 1 << 2"
   ]
  },
  {
   "cell_type": "code",
   "execution_count": 29,
   "metadata": {},
   "outputs": [],
   "source": [
    "from esp32 import ULP\n",
    "from machine import mem32\n",
    "\n",
    "load_addr, entry_addr = 0, 4\n",
    "\n",
    "ULP_MEM_BASE = 0x50000000\n",
    "ULP_DATA_MASK = 0xffff  # ULP data is only in lower 16 bits\n",
    "\n",
    "ulp = ULP()\n",
    "#ulp.set_wakeup_period(0, 50000)  # use timer0, wakeup after 50.000 cycles\n",
    "ulp.load_binary(load_addr, binary)\n",
    "\n",
    "mem32[ULP_MEM_BASE + load_addr] = 0x1000\n",
    "ulp.run(entry_addr)\n",
    "\n"
   ]
  },
  {
   "cell_type": "code",
   "execution_count": null,
   "metadata": {},
   "outputs": [],
   "source": [
    "hex(mem32[ULP_MEM_BASE + load_addr] & ULP_DATA_MASK)"
   ]
  },
  {
   "cell_type": "code",
   "execution_count": 605,
   "metadata": {},
   "outputs": [],
   "source": [
    "import time\n",
    "#for i in range(50):\n",
    "#    print(time.ticks_ms(), hex(mem32[ULP_MEM_BASE + load_addr] & ULP_DATA_MASK))\n"
   ]
  },
  {
   "cell_type": "code",
   "execution_count": 668,
   "metadata": {},
   "outputs": [
    {
     "name": "stdout",
     "output_type": "stream",
     "text": [
      "serial exception on close write failed: [Errno 5] Input/output error\n",
      "\u001b[34mConnecting to --port=/dev/ttyUSB1 --baud=115200 \u001b[0m\n",
      "\u001b[34mReady.\n",
      "\u001b[0m"
     ]
    }
   ],
   "source": [
    "%serialconnect"
   ]
  },
  {
   "cell_type": "code",
   "execution_count": 670,
   "metadata": {},
   "outputs": [],
   "source": [
    "from machine import Pin, mem32, mem8\n",
    "import time\n",
    "ulp = ULP()\n"
   ]
  },
  {
   "cell_type": "code",
   "execution_count": 677,
   "metadata": {},
   "outputs": [],
   "source": [
    "p = Pin(2, Pin.OUT)"
   ]
  },
  {
   "cell_type": "code",
   "execution_count": 591,
   "metadata": {},
   "outputs": [],
   "source": [
    "p.value(0)"
   ]
  },
  {
   "cell_type": "code",
   "execution_count": 594,
   "metadata": {},
   "outputs": [],
   "source": [
    "p.value(0)\n",
    "mem32"
   ]
  },
  {
   "cell_type": "code",
   "execution_count": null,
   "metadata": {},
   "outputs": [],
   "source": []
  },
  {
   "cell_type": "code",
   "execution_count": 606,
   "metadata": {},
   "outputs": [
    {
     "name": "stdout",
     "output_type": "stream",
     "text": [
      "0x0\n",
      "0x0\n"
     ]
    }
   ],
   "source": [
    "print(hex(mem32[0x3ff44000 + 0x8]))\n",
    "mem32[0x3ff44008] = 1 << 2\n",
    "print(hex(mem32[0x3ff44000 + 0x8]))"
   ]
  },
  {
   "cell_type": "code",
   "execution_count": 609,
   "metadata": {},
   "outputs": [],
   "source": [
    "#mem32[0x3ff44008] = 1 << 2\n",
    "mem32[0x3ff4400C] = 1 << 2\n"
   ]
  },
  {
   "cell_type": "code",
   "execution_count": null,
   "metadata": {},
   "outputs": [],
   "source": [
    "from machine import mem32"
   ]
  },
  {
   "cell_type": "code",
   "execution_count": 687,
   "metadata": {},
   "outputs": [],
   "source": [
    "ulp.set_wakeup_period(0, -1)"
   ]
  },
  {
   "cell_type": "code",
   "execution_count": 684,
   "metadata": {},
   "outputs": [
    {
     "name": "stdout",
     "output_type": "stream",
     "text": [
      ".0000 data\n",
      "0001 data2\n",
      "0002 entry\n",
      "0009 rep\n",
      "0011 kkk\n"
     ]
    }
   ],
   "source": [
    "from esp32_ulp.__main__ import src_to_binary\n",
    "from esp32 import ULP\n",
    "\n",
    "source = \"\"\"\\\n",
    "data:       .long 0x39000102\n",
    "data2:      .long 0x11223344\n",
    "entry:      rsh r3, r3, 16\n",
    "\n",
    "            reg_wr  0x3ff4840C, 26, 26, 1\n",
    "            reg_wr  0x3ff48410, 26, 26, 1\n",
    "            reg_wr  0x3ff48414, 26, 26, 1\n",
    "\n",
    "            reg_wr  0x3ff48404, 26, 26, 1\n",
    "                        \n",
    "            move r3, data    # load address of data into r3\n",
    "            ld r2, r3, 2     # load data contents ([r3+0]) into r2\n",
    "rep:        add r2, r2, 8    # increment r2\n",
    "            st r2, r3, 2     # store r2 contents into data ([r3+0])\n",
    "            #jump rep\n",
    "kkk:        halt\n",
    "\"\"\"\n",
    "ulp = ULP()\n",
    "binary = src_to_binary(source)\n",
    "ulp.load_binary(0, binary)\n"
   ]
  },
  {
   "cell_type": "code",
   "execution_count": 686,
   "metadata": {},
   "outputs": [],
   "source": [
    "ulp.run(2*4)\n",
    "ulp.set_wakeup_period(0, 5000000)"
   ]
  },
  {
   "cell_type": "code",
   "execution_count": 688,
   "metadata": {},
   "outputs": [
    {
     "name": "stdout",
     "output_type": "stream",
     "text": [
      "0x1430152\n",
      "0x11223344\n"
     ]
    }
   ],
   "source": [
    "from machine import mem32\n",
    "print(hex(mem32[0x50000000]))\n",
    "print(hex(mem32[0x50000004]))"
   ]
  },
  {
   "cell_type": "code",
   "execution_count": null,
   "metadata": {},
   "outputs": [],
   "source": [
    "#REG_WR      0x120, 2, 2, 1   \n",
    "#// set 8 bits: REG[0x120][7:0] = 0x10\n",
    "#mem32[0x3ff44008] = 1 << 2\n",
    "#mem32[0x3ff4400C] = 1 << 2\n"
   ]
  },
  {
   "cell_type": "code",
   "execution_count": 678,
   "metadata": {},
   "outputs": [
    {
     "name": "stdout",
     "output_type": "stream",
     "text": [
      "0x4\n",
      "0x0\n"
     ]
    }
   ],
   "source": [
    "mem32[0x3ff44008] = 4\n",
    "print(hex(mem32[0x3ff44004]))\n",
    "time.sleep(1)\n",
    "mem32[0x3ff4400C] = 4\n",
    "print(hex(mem32[0x3ff44004]))\n"
   ]
  },
  {
   "cell_type": "code",
   "execution_count": 695,
   "metadata": {},
   "outputs": [
    {
     "name": "stdout",
     "output_type": "stream",
     "text": [
      "0x4000000\n"
     ]
    }
   ],
   "source": [
    "mem32[0x3ff4840C] = 1<<(12+14)\n",
    "print(hex(mem32[0x3ff4840C]))"
   ]
  },
  {
   "cell_type": "code",
   "execution_count": 696,
   "metadata": {},
   "outputs": [],
   "source": [
    "mem32[0x3ff4840C] = 1<<(12+14)\n",
    "mem32[0x3ff48410] = 1<<(12+14)\n",
    "mem32[0x3ff48414] = 1<<(12+14)"
   ]
  },
  {
   "cell_type": "code",
   "execution_count": 697,
   "metadata": {},
   "outputs": [
    {
     "name": "stdout",
     "output_type": "stream",
     "text": [
      "0x0\n"
     ]
    }
   ],
   "source": [
    "print(hex(mem32[0x3ff48410]))"
   ]
  },
  {
   "cell_type": "code",
   "execution_count": 694,
   "metadata": {},
   "outputs": [
    {
     "name": "stdout",
     "output_type": "stream",
     "text": [
      "0xc000000\n",
      "0x8000000\n"
     ]
    }
   ],
   "source": [
    "mem32[0x3ff48404] = 1<<(12+14)\n",
    "print(hex(mem32[0x3ff48400]))\n",
    "time.sleep(1)\n",
    "mem32[0x3ff48408] = 1<<(12+14)\n",
    "print(hex(mem32[0x3ff48400]))"
   ]
  },
  {
   "cell_type": "code",
   "execution_count": 698,
   "metadata": {},
   "outputs": [
    {
     "name": "stdout",
     "output_type": "stream",
     "text": [
      "0x0\n"
     ]
    }
   ],
   "source": [
    "print(hex(mem32[0x3FF48458]))\n"
   ]
  },
  {
   "cell_type": "code",
   "execution_count": 700,
   "metadata": {},
   "outputs": [
    {
     "name": "stdout",
     "output_type": "stream",
     "text": [
      "object <module 'umachine'> is of type module\n",
      "  __name__ -- umachine\n",
      "  mem8 -- <8-bit memory>\n",
      "  mem16 -- <16-bit memory>\n",
      "  mem32 -- <32-bit memory>\n",
      "  freq -- <function>\n",
      "  reset -- <function>\n",
      "  unique_id -- <function>\n",
      "  sleep -- <function>\n",
      "  deepsleep -- <function>\n",
      "  idle -- <function>\n",
      "  disable_irq -- <function>\n",
      "  enable_irq -- <function>\n",
      "  time_pulse_us -- <function>\n",
      "  Timer -- <class 'Timer'>\n",
      "  WDT -- <class 'WDT'>\n",
      "  SLEEP -- 2\n",
      "  DEEPSLEEP -- 4\n",
      "  Pin -- <class 'Pin'>\n",
      "  Signal -- <class 'Signal'>\n",
      "  TouchPad -- <class 'TouchPad'>\n",
      "  ADC -- <class 'ADC'>\n",
      "  DAC -- <class 'DAC'>\n",
      "  I2C -- <class 'I2C'>\n",
      "  PWM -- <class 'PWM'>\n",
      "  RTC -- <class 'RTC'>\n",
      "  SPI -- <class 'SoftSPI'>\n",
      "  UART -- <class 'UART'>\n",
      "  reset_cause -- <function>\n",
      "  HARD_RESET -- 2\n",
      "  PWRON_RESET -- 1\n",
      "  WDT_RESET -- 3\n",
      "  DEEPSLEEP_RESET -- 4\n",
      "  SOFT_RESET -- 5\n",
      "  wake_reason -- <function>\n",
      "  PIN_WAKE -- 1\n",
      "  EXT0_WAKE -- 1\n",
      "  EXT1_WAKE -- 2\n",
      "  TIMER_WAKE -- 3\n",
      "  TOUCHPAD_WAKE -- 4\n",
      "  ULP_WAKE -- 5\n"
     ]
    }
   ],
   "source": [
    "import machine\n",
    "help(machine)"
   ]
  },
  {
   "cell_type": "code",
   "execution_count": 701,
   "metadata": {},
   "outputs": [
    {
     "name": "stdout",
     "output_type": "stream",
     "text": [
      "object <module 'esp'> is of type module\n",
      "  __name__ -- esp\n",
      "  osdebug -- <function>\n",
      "  flash_read -- <function>\n",
      "  flash_write -- <function>\n",
      "  flash_erase -- <function>\n",
      "  flash_size -- <function>\n",
      "  flash_user_start -- <function>\n",
      "  gpio_matrix_in -- <function>\n",
      "  gpio_matrix_out -- <function>\n",
      "  neopixel_write -- <function>\n",
      "  dht_readinto -- <function>\n",
      "  LOG_NONE -- 0\n",
      "  LOG_ERROR -- 1\n",
      "  LOG_WARNING -- 2\n",
      "  LOG_INFO -- 3\n",
      "  LOG_DEBUG -- 4\n",
      "  LOG_VERBOSE -- 5\n"
     ]
    }
   ],
   "source": [
    "import esp\n",
    "help(esp)"
   ]
  },
  {
   "cell_type": "code",
   "execution_count": 704,
   "metadata": {},
   "outputs": [
    {
     "name": "stdout",
     "output_type": "stream",
     "text": [
      "Pin(2)\n"
     ]
    }
   ],
   "source": [
    "x = Pin(2)\n",
    "print(x)"
   ]
  },
  {
   "cell_type": "code",
   "execution_count": null,
   "metadata": {},
   "outputs": [],
   "source": []
  }
 ],
 "metadata": {
  "kernelspec": {
   "display_name": "MicroPython - USB",
   "language": "micropython",
   "name": "micropython"
  },
  "language_info": {
   "codemirror_mode": "python",
   "file_extension": ".py",
   "mimetype": "text/python",
   "name": "micropython"
  }
 },
 "nbformat": 4,
 "nbformat_minor": 2
}
