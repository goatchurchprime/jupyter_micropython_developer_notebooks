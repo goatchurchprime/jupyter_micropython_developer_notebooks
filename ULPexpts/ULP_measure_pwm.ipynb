{
 "cells": [
  {
   "cell_type": "markdown",
   "metadata": {},
   "source": [
    "See https://github.com/ThomasWaldmann/py-esp32-ulp/ for the assembler for the ULP code\n",
    "\n",
    "First section is the code compilation (binary is saved).  Then it can be used without \n",
    "loading up the assembler"
   ]
  },
  {
   "cell_type": "code",
   "execution_count": 8,
   "metadata": {},
   "outputs": [
    {
     "name": "stdout",
     "output_type": "stream",
     "text": [
      "\u001b[34mConnecting to --port=/dev/ttyUSB0 --baud=115200 \u001b[0m\n",
      "ets Jun  8 2016 00:22:57\n",
      "\n",
      "rst:0x1 (POWERON_RESET),boot:0x13 (SPI_FAST_FLASH_BOOT)\n",
      "configsip: 0, SPIWP:0xee\n",
      "clk_drv:0x00,q_drv:0x00,d_drv:0x00,cs0_drv:0x00,hd_drv:0x00,wp_drv:0x00\n",
      "mode:DIO, clock div:2\n",
      "load:0x3fff0018,len:4\n",
      "load:0x3fff001c,len:5008\n",
      "ho 0 tail 12 room 4\n",
      "load:0x40078000,len:10600\n",
      "ho 0 tail 12 room 4\n",
      "load:0x40080400,len:5684\n",
      "entry 0x400806bc\n",
      "MicroPython v1.13 on 2020-09-02; ESP32 module with ESP32\n",
      "Type \"help()\" for more information.\n",
      ">>>[reboot detected 0]repl is in normal command mode\n",
      "[\\r\\x03\\x03] b'\\r\\n>>> '\n",
      "[\\r\\x01] b'\\r\\n>>> \\r\\nraw REPL; CTRL-B to exit\\r\\n>' \u001b[34mReady.\n",
      "\u001b[0m"
     ]
    }
   ],
   "source": [
    "%serialconnect"
   ]
  },
  {
   "cell_type": "code",
   "execution_count": null,
   "metadata": {},
   "outputs": [],
   "source": [
    "\n",
    "%sendtofile --mkdir --source /home/julian/extrepositories/py-esp32-ulp/esp32_ulp  esp32_ulp"
   ]
  },
  {
   "cell_type": "code",
   "execution_count": 81,
   "metadata": {},
   "outputs": [
    {
     "name": "stdout",
     "output_type": "stream",
     "text": [
      ".0000 dataiorec\n",
      "0001 timepin27\n",
      "0002 countpin27\n",
      "0003 timepin12\n",
      "0004 countpin12\n",
      "0005 entry\n",
      "0008 mainloop\n",
      "0015 p27eq0\n",
      "0022 p27eq0end\n",
      "0029 p12eq0\n",
      "0036 p12eq0end\n"
     ]
    }
   ],
   "source": [
    "from esp32_ulp.__main__ import src_to_binary\n",
    "\n",
    "source = \"\"\"\\\n",
    "dataiorec:  .long 0x00000000\n",
    "timepin27:  .long 0x00000000\n",
    "countpin27: .long 0x00000000\n",
    "timepin12:  .long 0x00000000\n",
    "countpin12: .long 0x00000000\n",
    "entry:\n",
    "            move r3, dataiorec\n",
    "            move r1, 0x0000     // pin27 counter\n",
    "            move r2, 0x0000     // pin12 counter\n",
    "mainloop:\n",
    "            reg_rd 0x3ff48424, 16, 17   // read IO register into r0\n",
    "            st   r0, r3, 0      // dataiorec[0]=r0\n",
    "            rsh  r0, r0, 14     // access pin 27\n",
    "            and  r0, r0, 0x0001\n",
    "\n",
    "            jump p27eq0, eq\n",
    "            add  r1, r1, 0x0001\n",
    "            jump p27eq0end\n",
    "p27eq0:\n",
    "            add  r1, r1, 0x0000 // update the zero flag\n",
    "            jump p27eq0end, eq\n",
    "            st   r1, r3, 4      // dataiorec[1]=r1\n",
    "            move r1, 0x0000     // r1=0\n",
    "\n",
    "            ld   r0, r3, 8      // r0=dataiorec[2] \n",
    "            add  r0, r0, 1      // r0++\n",
    "            st   r0, r3, 8      // dataiorec[2]=r0\n",
    "\n",
    "p27eq0end:\n",
    "\n",
    "            reg_rd 0x3ff48424, 16, 17   // read IO register into r0\n",
    "            st   r0, r3, 0      // dataiorec[0]=r0\n",
    "            rsh  r0, r0, 12     // access pin 12\n",
    "            and  r0, r0, 0x0001\n",
    "\n",
    "            jump p12eq0, eq\n",
    "            add  r2, r2, 0x0001\n",
    "            jump p12eq0end\n",
    "p12eq0:\n",
    "            add  r2, r2, 0x0000 // update the zero flag\n",
    "            jump p12eq0end, eq\n",
    "            st   r2, r3, 12      // dataiorec[3]=r2\n",
    "            move r2, 0x0000     // r2=0\n",
    "\n",
    "            ld   r0, r3, 16     // r0=dataiorec[4] \n",
    "            add  r0, r0, 1      // r0++\n",
    "            st   r0, r3, 16     // dataiorec[4]=r0\n",
    "\n",
    "p12eq0end:\n",
    "            jump mainloop\n",
    "            halt\n",
    "\"\"\"\n",
    "binary = src_to_binary(source)\n",
    "fout = open(\"measure_pwm.ulp\", \"wb\")\n",
    "fout.write(binary)\n",
    "fout.close()"
   ]
  },
  {
   "cell_type": "code",
   "execution_count": 82,
   "metadata": {},
   "outputs": [
    {
     "name": "stdout",
     "output_type": "stream",
     "text": [
      "Listing directory '/'.\n",
      "     5039    BNO055_class.py\n",
      "     4381    BNO055_funcs.py\n",
      "     1123    UDPblackviewphone.py\n",
      "      139    boot.py\n",
      "      209    config.txt\n",
      "             esp32_ulp/\n",
      "      164    measure_pwm.ulp\n"
     ]
    }
   ],
   "source": [
    "# Now we can load this assembled code into the ULP and set it running\n",
    "# Don't forget to initialize the pins\n",
    "%ls"
   ]
  },
  {
   "cell_type": "code",
   "execution_count": 67,
   "metadata": {},
   "outputs": [
    {
     "name": "stdout",
     "output_type": "stream",
     "text": [
      "\u001b[34mConnecting to --port=/dev/ttyUSB0 --baud=115200 \u001b[0m\n",
      "\u001b[34mReady.\n",
      "\u001b[0m"
     ]
    }
   ],
   "source": [
    "%serialconnect"
   ]
  },
  {
   "cell_type": "code",
   "execution_count": 83,
   "metadata": {},
   "outputs": [
    {
     "name": "stdout",
     "output_type": "stream",
     "text": [
      "0 0\r\n"
     ]
    }
   ],
   "source": [
    "import machine, time, esp32\n",
    "\n",
    "p27 = machine.Pin(27, machine.Pin.IN)\n",
    "p12 = machine.Pin(12, machine.Pin.IN)\n",
    "print(p27.value(), p12.value())\n",
    "\n",
    "ulp = esp32.ULP()\n",
    "ulp.load_binary(0, open(\"measure_pwm.ulp\", \"rb\").read())\n",
    "ulp.set_wakeup_period(0, 1000000)\n",
    "ulp.run(5*4)\n",
    "def readulpdata(r):\n",
    "    return machine.mem32[0x50000000+r]&0xFFFF\n",
    "\n"
   ]
  },
  {
   "cell_type": "code",
   "execution_count": 84,
   "metadata": {},
   "outputs": [
    {
     "name": "stdout",
     "output_type": "stream",
     "text": [
      "111 162 1 1\n",
      "112 212 1 1\n",
      "112 262 1 1\n",
      "112 312 1 1\n",
      "112 362 1 1\n",
      "112 412 1 1\n",
      "224 462 1 1\n",
      "223 512 1 1\n",
      "224 560 1 1\n",
      "748 608 1 1\n",
      ".1110 658 224 50\n",
      "1116 708 224 100\n",
      "1119 759 224 150\n",
      "1138 809 224 200\n",
      "1090 861 224 250\n",
      "1094 911 224 300\n",
      "1107 961 224 350\n",
      "1129 1013 224 400\n",
      "1132 1064 224 450\n",
      "1120 1114 224 500\n",
      "."
     ]
    }
   ],
   "source": [
    "w = machine.PWM(machine.Pin(5))\n",
    "w.freq(50)\n",
    "w.duty(51)\n",
    "\n",
    "import time\n",
    "for i in range(20):\n",
    "    print(readulpdata(4), readulpdata(8), readulpdata(12), readulpdata(16))\n",
    "    if i == 5:\n",
    "        w.duty(102)\n",
    "    time.sleep(1)\n"
   ]
  },
  {
   "cell_type": "code",
   "execution_count": null,
   "metadata": {},
   "outputs": [],
   "source": [
    "# Remainder of notebook is scratch space"
   ]
  },
  {
   "cell_type": "code",
   "execution_count": null,
   "metadata": {},
   "outputs": [],
   "source": []
  },
  {
   "cell_type": "code",
   "execution_count": null,
   "metadata": {},
   "outputs": [],
   "source": []
  },
  {
   "cell_type": "code",
   "execution_count": null,
   "metadata": {},
   "outputs": [],
   "source": []
  },
  {
   "cell_type": "code",
   "execution_count": null,
   "metadata": {},
   "outputs": [],
   "source": []
  },
  {
   "cell_type": "code",
   "execution_count": null,
   "metadata": {},
   "outputs": [],
   "source": []
  },
  {
   "cell_type": "code",
   "execution_count": null,
   "metadata": {},
   "outputs": [],
   "source": []
  },
  {
   "cell_type": "code",
   "execution_count": 9,
   "metadata": {},
   "outputs": [
    {
     "name": "stdout",
     "output_type": "stream",
     "text": [
      "0 0 1 0\r\n"
     ]
    }
   ],
   "source": [
    "import machine, time\n",
    "p = machine.Pin(2, machine.Pin.OUT)\n",
    "p.value(1)\n",
    "time.sleep(1)\n",
    "p.value(0)\n",
    "\n",
    "p26 = machine.Pin(26, machine.Pin.IN, machine.Pin.PULL_DOWN)\n",
    "p32 = machine.Pin(32, machine.Pin.IN)\n",
    "p27 = machine.Pin(27, machine.Pin.IN, machine.Pin.PULL_DOWN)\n",
    "p12 = machine.Pin(12, machine.Pin.IN)\n",
    "print(p26.value(), p32.value(), p27.value(), p12.value())"
   ]
  },
  {
   "cell_type": "code",
   "execution_count": 10,
   "metadata": {},
   "outputs": [
    {
     "name": "stdout",
     "output_type": "stream",
     "text": [
      "0 0 1 0\r\n"
     ]
    }
   ],
   "source": [
    "print(p26.value(), p32.value(), p27.value(), p12.value())"
   ]
  },
  {
   "cell_type": "code",
   "execution_count": 18,
   "metadata": {},
   "outputs": [],
   "source": [
    "#define READ_RTC_REG(rtc_reg, low_bit, bit_width) \\\n",
    "#    REG_RD (((rtc_reg) - DR_REG_RTCCNTL_BASE) / 4), ((low_bit) + (bit_width) - 1), (low_bit)\n",
    "#\tREAD_RTC_FIELD (RTC_GPIO_IN_REG, RTC_GPIO_IN_NEXT)\t// r0 = lower 16 RTC IOs\n",
    "#DR_REG_RTCIO_BASE                       = 0x3ff48400\n",
    "#define RTC_GPIO_IN_REG (DR_REG_RTCIO_BASE + 0x24)\n",
    "#/* RTC_GPIO_IN_NEXT : RO ;bitpos:[31:10] ;default:  ; */\n",
    "#/*description: RTC GPIO input data*/\n",
    "#define RTC_GPIO_IN_NEXT 0x003FFFFF\n",
    "#define RTC_GPIO_IN_NEXT_M ((RTC_GPIO_IN_NEXT_V) << (RTC_GPIO_IN_NEXT_S))\n",
    "#define RTC_GPIO_IN_NEXT_V 0x3FFFFF\n",
    "#define RTC_GPIO_IN_NEXT_S 10\n",
    "\n",
    "#    GPIO 26 aka RTC 7\n",
    "#    GPIO 33 aka RTC 8\n",
    "#    GPIO 32 aka RTC 9\n",
    "ulp.set_wakeup_period(0, -1)"
   ]
  },
  {
   "cell_type": "code",
   "execution_count": 19,
   "metadata": {},
   "outputs": [
    {
     "name": "stdout",
     "output_type": "stream",
     "text": [
      "0000 data\n",
      "0001 data2\n",
      "0002 entry\n",
      "0x55667788\n",
      "0x11223354\n",
      "0xc37789\n",
      "0x1436500\n"
     ]
    }
   ],
   "source": [
    "from esp32_ulp.__main__ import src_to_binary\n",
    "from esp32 import ULP\n",
    "\n",
    "source = \"\"\"\\\n",
    "data:       .long 0x55667788\n",
    "data2:      .long 0x11223354\n",
    "entry:      move r3, data    # load address of data into r3\n",
    "            ld r2, r3, 0     # must be multiple of 4\n",
    "            add r2, r2, 1\n",
    "            move r3, data\n",
    "            st r2, r3, 0\n",
    "\n",
    "            // DR_REG_RTCIO_BASE                       = 0x3ff48400\n",
    "            // Magic code for the 16-bit GPIO input register can be found here: https://github.com/espressif/esp-idf/blob/494a124d961c4c755685b22fe986c31826d6f503/components/soc/esp32s3/include/soc/rtc_io_reg.h#L94\n",
    "            // list of pins here https://github.com/espressif/esp-idf/issues/4771\n",
    "            move r0, 0x0000\n",
    "            reg_rd 0x3ff48424, 16, 17\n",
    "            move r3, data2\n",
    "            st r0, r3, 0\n",
    "            halt\n",
    "\"\"\"\n",
    "ulp = ULP()\n",
    "binary = src_to_binary(source)\n",
    "ulp.load_binary(0, binary)\n",
    "\n",
    "from machine import mem32\n",
    "print(hex(mem32[0x50000000]))\n",
    "print(hex(mem32[0x50000004]))\n",
    "ulp.run(2*4)\n",
    "print(hex(mem32[0x50000000]))\n",
    "print(hex(mem32[0x50000004]))\n"
   ]
  },
  {
   "cell_type": "code",
   "execution_count": 77,
   "metadata": {},
   "outputs": [
    {
     "name": "stdout",
     "output_type": "stream",
     "text": [
      "0x0\n",
      "0x0\n",
      "0x0\n",
      "0x0\n"
     ]
    }
   ],
   "source": [
    "from machine import mem32\n",
    "\n",
    "print(hex(mem32[0x50000000]))\n",
    "print(hex(mem32[0x50000004]))\n",
    "ulp.run(2*4)\n",
    "print(hex(mem32[0x50000000]))\n",
    "print(hex(mem32[0x50000004]))\n"
   ]
  },
  {
   "cell_type": "code",
   "execution_count": null,
   "metadata": {},
   "outputs": [],
   "source": []
  },
  {
   "cell_type": "code",
   "execution_count": null,
   "metadata": {},
   "outputs": [],
   "source": []
  },
  {
   "cell_type": "code",
   "execution_count": null,
   "metadata": {},
   "outputs": [],
   "source": []
  },
  {
   "cell_type": "code",
   "execution_count": null,
   "metadata": {},
   "outputs": [],
   "source": []
  },
  {
   "cell_type": "code",
   "execution_count": 34,
   "metadata": {},
   "outputs": [
    {
     "name": "stdout",
     "output_type": "stream",
     "text": [
      "0000 datacount\n",
      "0001 dataiorec\n",
      "0002 datapin27\n",
      "0003 entry\n",
      "0008 loop1\n",
      "0015 p27eq0\n",
      "0022 p27eq0end\n",
      "0x0 0x0 0x0\n",
      "0x1 0x6500 0x0\n"
     ]
    }
   ],
   "source": [
    "from esp32_ulp.__main__ import src_to_binary\n",
    "from esp32 import ULP\n",
    "ulp.set_wakeup_period(0, -1)\n",
    "\n",
    "source = \"\"\"\\\n",
    "dataiorec:  .long 0x00000000\n",
    "timepin27:  .long 0x00000000\n",
    "countpin27: .long 0x00000000\n",
    "timepin12:  .long 0x00000000\n",
    "countpin12: .long 0x00000000\n",
    "entry:      move r3, dataiorec\n",
    "            ld   r2, r3, 0      // r2=dataiorec[0] \n",
    "            add  r2, r2, 1      // r2++\n",
    "            st   r2, r3, 0      // dataiorec[0]=r2\n",
    "\n",
    "            move r1, 0x0000\n",
    "loop1:\n",
    "            reg_rd 0x3ff48424, 16, 17   // read IO register\n",
    "            st  r0, r3, 4       // datacount[4]=r0\n",
    "            rsh r0, r0, 14      // \n",
    "            and r0, r0, 0x0001  // accesses pin27\n",
    "\n",
    "            jump p27eq0, eq\n",
    "            add r1, r1, 0x0001\n",
    "            jump p27eq0end\n",
    "p27eq0:\n",
    "            add r1, r1, 0x0000\n",
    "            jump p27eq0end, eq\n",
    "            st  r1, r3, 8\n",
    "            move r1, 0x0000\n",
    "\n",
    "            ld   r0, r3, 0      // r2=datacount[0] \n",
    "            add  r0, r0, 1      // r2++\n",
    "            st   r0, r0, 0      // datacount[0]=r2\n",
    "\n",
    "p27eq0end:\n",
    "            jump loop1\n",
    "            halt\n",
    "\"\"\"\n",
    "\n",
    "ulp = ULP()\n",
    "binary = src_to_binary(source)\n",
    "ulp.load_binary(0, binary)\n",
    "\n",
    "from machine import mem32\n",
    "print(hex(mem32[0x50000000]&0xFFFF), hex(mem32[0x50000004]&0xFFFF), hex(mem32[0x50000008]&0xFFFF))\n",
    "ulp.run(4*4)\n",
    "print(hex(mem32[0x50000000]&0xFFFF), hex(mem32[0x50000004]&0xFFFF), hex(mem32[0x50000008]&0xFFFF))\n"
   ]
  },
  {
   "cell_type": "code",
   "execution_count": 58,
   "metadata": {},
   "outputs": [
    {
     "name": "stdout",
     "output_type": "stream",
     "text": [
      ".0000 dataiorec\n",
      "0001 timepin27\n",
      "0002 countpin27\n",
      "0003 timepin12\n",
      "0004 countpin12\n",
      "0005 entry\n",
      "0008 mainloop\n",
      "0015 p27eq0\n",
      "0022 p27eq0end\n",
      "0029 p12eq0\n",
      "0036 p12eq0end\n",
      "0x2500 0x0 0x0\n",
      "0x2500 0x0 0x0\n"
     ]
    }
   ],
   "source": [
    "from esp32_ulp.__main__ import src_to_binary\n",
    "from esp32 import ULP\n",
    "#ulp.set_wakeup_period(0, -1)\n",
    "ulp.set_wakeup_period(0, 1000000)  # restart every 1 second (if halted)\n",
    "\n",
    "source = \"\"\"\\\n",
    "dataiorec:  .long 0x00000000\n",
    "timepin27:  .long 0x00000000\n",
    "countpin27: .long 0x00000000\n",
    "timepin12:  .long 0x00000000\n",
    "countpin12: .long 0x00000000\n",
    "entry:\n",
    "            move r3, dataiorec\n",
    "            move r1, 0x0000     // pin27 counter\n",
    "            move r2, 0x0000     // pin12 counter\n",
    "mainloop:\n",
    "            reg_rd 0x3ff48424, 16, 17   // read IO register into r0\n",
    "            st   r0, r3, 0      // dataiorec[0]=r0\n",
    "            rsh  r0, r0, 14     // access pin 27\n",
    "            and  r0, r0, 0x0001\n",
    "\n",
    "            jump p27eq0, eq\n",
    "            add  r1, r1, 0x0001\n",
    "            jump p27eq0end\n",
    "p27eq0:\n",
    "            add  r1, r1, 0x0000 // update the zero flag\n",
    "            jump p27eq0end, eq\n",
    "            st   r1, r3, 4      // dataiorec[1]=r1\n",
    "            move r1, 0x0000     // r1=0\n",
    "\n",
    "            ld   r0, r3, 8      // r0=dataiorec[2] \n",
    "            add  r0, r0, 1      // r0++\n",
    "            st   r0, r3, 8      // dataiorec[2]=r0\n",
    "\n",
    "p27eq0end:\n",
    "\n",
    "            reg_rd 0x3ff48424, 16, 17   // read IO register into r0\n",
    "            st   r0, r3, 0      // dataiorec[0]=r0\n",
    "            rsh  r0, r0, 12     // access pin 12\n",
    "            and  r0, r0, 0x0001\n",
    "\n",
    "            jump p12eq0, eq\n",
    "            add  r2, r2, 0x0001\n",
    "            jump p12eq0end\n",
    "p12eq0:\n",
    "            add  r2, r2, 0x0000 // update the zero flag\n",
    "            jump p12eq0end, eq\n",
    "            st   r2, r3, 12      // dataiorec[3]=r2\n",
    "            move r2, 0x0000     // r2=0\n",
    "\n",
    "            ld   r0, r3, 16     // r0=dataiorec[4] \n",
    "            add  r0, r0, 1      // r0++\n",
    "            st   r0, r3, 16     // dataiorec[4]=r0\n",
    "\n",
    "p12eq0end:\n",
    "            jump mainloop\n",
    "            halt\n",
    "\"\"\"\n",
    "\n",
    "ulp = ULP()\n",
    "binary = src_to_binary(source)\n",
    "ulp.load_binary(0, binary)\n",
    "\n",
    "from machine import mem32\n",
    "print(hex(mem32[0x50000000]&0xFFFF), hex(mem32[0x50000004]&0xFFFF), hex(mem32[0x50000008]&0xFFFF))\n",
    "ulp.run(5*4)\n",
    "print(hex(mem32[0x50000000]&0xFFFF), hex(mem32[0x50000004]&0xFFFF), hex(mem32[0x50000008]&0xFFFF))\n"
   ]
  },
  {
   "cell_type": "code",
   "execution_count": 60,
   "metadata": {},
   "outputs": [],
   "source": [
    "w = machine.PWM(machine.Pin(5))\n",
    "w.freq(50)\n",
    "w.duty(51)\n"
   ]
  },
  {
   "cell_type": "code",
   "execution_count": 61,
   "metadata": {},
   "outputs": [
    {
     "name": "stdout",
     "output_type": "stream",
     "text": [
      "9472 223 253 112 577\n",
      "9472 223 253 112 627\n",
      "9472 223 253 112 677\n",
      "9472 223 253 112 727\n",
      "9472 223 253 112 777\n",
      "9472 223 253 112 825\n",
      "9472 224 281 112 825\n",
      "9472 224 331 112 825\n",
      "9472 224 381 112 825\n",
      "9472 224 431 112 825\n",
      ".9472 224 481 112 825\n",
      "9472 160 525 112 825\n",
      "9472 160 525 224 834\n",
      "9472 160 525 223 884\n",
      "9472 160 525 223 934\n",
      "9472 160 525 223 984\n",
      "9472 160 525 224 1034\n",
      "9472 160 525 224 1084\n",
      "9472 160 525 224 1134\n",
      "9472 160 525 224 1184\n",
      "."
     ]
    }
   ],
   "source": [
    "w = machine.PWM(machine.Pin(5))\n",
    "w.freq(50)\n",
    "w.duty(51)\n",
    "\n",
    "import time\n",
    "for i in range(20):\n",
    "    print(mem32[0x50000000]&0xFFFF, mem32[0x50000004]&0xFFFF, mem32[0x50000008]&0xFFFF, mem32[0x5000000C]&0xFFFF, mem32[0x50000010]&0xFFFF)\n",
    "    if i == 5:\n",
    "        w.duty(102)\n",
    "    time.sleep(1)"
   ]
  },
  {
   "cell_type": "code",
   "execution_count": 51,
   "metadata": {},
   "outputs": [
    {
     "name": "stdout",
     "output_type": "stream",
     "text": [
      "0x1000\r\n"
     ]
    }
   ],
   "source": [
    "print(hex(13568-9472))"
   ]
  },
  {
   "cell_type": "code",
   "execution_count": null,
   "metadata": {},
   "outputs": [],
   "source": []
  },
  {
   "cell_type": "code",
   "execution_count": null,
   "metadata": {},
   "outputs": [],
   "source": []
  },
  {
   "cell_type": "raw",
   "metadata": {},
   "source": [
    "https://github.com/joba-1/Blink-ULP/blob/master/main/ulp/blink.S\n",
    "\n",
    ".global entry                // ulp start address used by main core program\n",
    "\n",
    ".set gpio_2, 12              // gpio pin 2 is rtc pin 12\n",
    "\n",
    ".text\n",
    "\n",
    "entry:\n",
    "  // might be needed for some pads, but surely not #2\n",
    "  // WRITE_RTC_REG(RTC_IO_TOUCH_PAD2_REG, RTC_IO_TOUCH_PAD2_TO_GPIO_S, 1, 1)\n",
    "\n",
    "  // use digital function, not rtc function\n",
    "  WRITE_RTC_REG(RTC_IO_TOUCH_PAD2_REG, RTC_IO_TOUCH_PAD2_MUX_SEL_S, 1, 1)\n",
    "\n",
    "  // gpio_2 shall be output, not input\n",
    "  WRITE_RTC_REG(RTC_GPIO_OUT_REG, RTC_GPIO_OUT_DATA_S + gpio_2, 1, 1)\n",
    "\n",
    "on:\n",
    "  WRITE_RTC_REG(RTC_GPIO_ENABLE_W1TS_REG, RTC_GPIO_ENABLE_W1TS_S + gpio_2, 1, 1)\n",
    "\n",
    "  move  r1, 200           // wait in ms\n",
    "  move  r2, off           // return address\n",
    "  jump  delay             // call subroutine\n",
    "\n",
    "off:\n",
    "  WRITE_RTC_REG(RTC_GPIO_ENABLE_W1TC_REG, RTC_GPIO_ENABLE_W1TC_S + gpio_2, 1, 1)\n",
    "\n",
    "  move  r1, 800           // wait in ms\n",
    "  move  r2, on            // return address\n",
    "  jump  delay             // call subroutine\n",
    "\n",
    "delay:\n",
    "  wait  8000              // wait 8000 clock ticks at 8MHz -> 1ms\n",
    "  sub   r1, r1, 1         // decrement ms count\n",
    "  jump  r2, eq            // if ms count is zero then return to caller\n",
    "  jump  delay             // else continue to wait"
   ]
  },
  {
   "cell_type": "code",
   "execution_count": null,
   "metadata": {},
   "outputs": [],
   "source": [
    "https://github.com/espressif/esp-idf/issues/4771"
   ]
  },
  {
   "cell_type": "code",
   "execution_count": null,
   "metadata": {},
   "outputs": [],
   "source": []
  },
  {
   "cell_type": "code",
   "execution_count": null,
   "metadata": {},
   "outputs": [],
   "source": []
  },
  {
   "cell_type": "code",
   "execution_count": 6,
   "metadata": {},
   "outputs": [
    {
     "name": "stdout",
     "output_type": "stream",
     "text": [
      "0000 data\n",
      "0001 data2\n",
      "0002 entry\n",
      "0005 rep\n",
      "0007 kkk\n"
     ]
    }
   ],
   "source": [
    "from esp32_ulp.__main__ import src_to_binary\n",
    "from esp32 import ULP\n",
    "\n",
    "source = \"\"\"\\\n",
    "data:       .long 0x39000102\n",
    "data2:      .long 0x11223344\n",
    "entry:      rsh r3, r3, 16\n",
    "            move r3, data    # load address of data into r3\n",
    "            ld r2, r3, 2     # load data contents ([r3+0]) into r2\n",
    "rep:        add r2, r2, 8    # increment r2\n",
    "            st r2, r3, 2     # store r2 contents into data ([r3+0])\n",
    "            #halt             # halt ULP co-prozessor (until it gets waked up again)\n",
    "            #jump rep\n",
    "kkk:        halt\n",
    "\"\"\"\n",
    "ulp = ULP()\n",
    "binary = src_to_binary(source)\n",
    "ulp.load_binary(0, binary)\n"
   ]
  },
  {
   "cell_type": "code",
   "execution_count": 7,
   "metadata": {},
   "outputs": [],
   "source": [
    "ulp.set_wakeup_period(0, -1)"
   ]
  },
  {
   "cell_type": "code",
   "execution_count": 8,
   "metadata": {},
   "outputs": [
    {
     "name": "stdout",
     "output_type": "stream",
     "text": [
      "0xc3011a\n",
      "0x11223344\n"
     ]
    }
   ],
   "source": [
    "from machine import mem32\n",
    "print(hex(mem32[0x50000000]))\n",
    "print(hex(mem32[0x50000004]))"
   ]
  },
  {
   "cell_type": "code",
   "execution_count": null,
   "metadata": {},
   "outputs": [],
   "source": [
    "ulp.run(2*4)\n"
   ]
  }
 ],
 "metadata": {
  "kernelspec": {
   "display_name": "MicroPython - USB",
   "language": "micropython",
   "name": "micropython"
  },
  "language_info": {
   "codemirror_mode": "python",
   "file_extension": ".py",
   "mimetype": "text/python",
   "name": "micropython"
  }
 },
 "nbformat": 4,
 "nbformat_minor": 2
}
