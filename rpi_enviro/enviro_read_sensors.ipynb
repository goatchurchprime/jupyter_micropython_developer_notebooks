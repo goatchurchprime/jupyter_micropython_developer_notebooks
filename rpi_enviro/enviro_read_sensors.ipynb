{
 "cells": [
  {
   "cell_type": "code",
   "execution_count": 69,
   "metadata": {},
   "outputs": [
    {
     "name": "stdout",
     "output_type": "stream",
     "text": [
      "normal repl mode not detected b'\\r\\nMicroPython 0fb6bf7 on 2021-05-08; Raspberry Pi with ARM1176JZF-S\\r\\nType \"help()\" for more information.\\r\\n>>> \\r\\n>>> \\r\\nPYB: soft reboot\\r\\n\\r\\nmounting SD card...'\n",
      "not command mode\n",
      "done\n",
      "MicroPython 0fb6bf7 on 2021-05-08; Raspberry Pi with ARM1176JZF-S\n",
      "Type \"help()\" for more information.\n",
      ">>> \n",
      ">>> \n",
      ">>> \n",
      ">>> \n",
      "raw REPL; CTRL-B to exit\n",
      ">"
     ]
    }
   ],
   "source": [
    "%rebootdevice"
   ]
  },
  {
   "cell_type": "code",
   "execution_count": 70,
   "metadata": {},
   "outputs": [
    {
     "name": "stdout",
     "output_type": "stream",
     "text": [
      "\u001b[34mConnecting to --port=/dev/ttyUSB1 --baud=115200 \u001b[0m\n",
      "\u001b[34mReady.\n",
      "\u001b[0m"
     ]
    }
   ],
   "source": [
    "%serialconnect"
   ]
  },
  {
   "cell_type": "code",
   "execution_count": 63,
   "metadata": {},
   "outputs": [
    {
     "name": "stdout",
     "output_type": "stream",
     "text": [
      "Sent 70 lines (2402 bytes) to st7735_funcs.py.\n"
     ]
    }
   ],
   "source": [
    "%sendtofile --source \"../Sensor_Kennel/BME280_funcs.py\"\n",
    "%sendtofile --source \"st7735_funcs.py\"\n"
   ]
  },
  {
   "cell_type": "code",
   "execution_count": 57,
   "metadata": {},
   "outputs": [
    {
     "name": "stdout",
     "output_type": "stream",
     "text": [
      "serial exception on close write failed: [Errno 5] Input/output error\n",
      "\u001b[34mConnecting to --port=/dev/ttyUSB0 --baud=115200 \u001b[0m\n",
      "\u001b[34mReady.\n",
      "\u001b[0m"
     ]
    }
   ],
   "source": [
    "%serialconnect\n"
   ]
  },
  {
   "cell_type": "code",
   "execution_count": 72,
   "metadata": {},
   "outputs": [
    {
     "name": "stdout",
     "output_type": "stream",
     "text": [
      "Sent 105 lines (3927 bytes) to main.py.\n"
     ]
    }
   ],
   "source": [
    "%sendtofile main.py\n",
    "\n",
    "from machine import I2C, Pin\n",
    "import time, os, sys, ustruct\n",
    "import BME280_funcs\n",
    "from st7735_funcs import fbuf, display\n",
    "\n",
    "print(\"platform\", sys.platform)\n",
    "if sys.platform == \"esp32\":\n",
    "    i2c = I2C(1, scl=Pin(25), sda=Pin(27)) # on ESP32 pin26 broken\n",
    "    from machine import UART\n",
    "    u = UART(1, tx=5, rx=4, baudrate=9600)\n",
    "    print(u)\n",
    "else:\n",
    "    i2c = I2C(1)  # on Pi\n",
    "    u = None\n",
    "    gasheaterenable = Pin(24, Pin.OUT)\n",
    "    gasheaterenable.value(1)\n",
    "print(\"i2c devices\", list(map(hex, i2c.scan())))  # 0x23=LTR-559, 0x76=BME280, 0x49=ADS1015\n",
    "time.sleep_ms(1000)\n",
    "\n",
    "# initialize all the sensors\n",
    "BME280_funcs.bme280init(i2c, 0x76)\n",
    "print(\"LTR-559 part_number/revision\", i2c.readfrom_mem(0x23, 0x86, 1), \"should be 9 2\")\n",
    "i2c.writeto_mem(0x23, 0x80, b'\\x09')  # enable ALS gain x4 (light sensor)\n",
    "\n",
    "dustcols = [\"apm10\", \"apm25\", \"apm100\", \"pm10\", \"pm25\", \"pm100\",\n",
    "            \"gt03um\", \"gt05um\", \"gt10um\", \"gt25um\", \"gt50um\", \"gt100um\" ]\n",
    "def readdust():\n",
    "    if u == None:\n",
    "        return None\n",
    "    x = u.read()\n",
    "    if x and len(x) == 32 and x[0] == 0x42 and x[1] == 0x4d:\n",
    "        numbers = ustruct.unpack('>16H', x)\n",
    "        csum = sum(x[:-2])\n",
    "        if csum == numbers[-1]:\n",
    "            #assert(numbers[1] == 28) # frame length\n",
    "            return dict(zip(dustcols, numbers[2:-2]))\n",
    "        else:\n",
    "            print(\"bad checksum\", x)\n",
    "    return None\n",
    "\n",
    "\n",
    "# Numbers all seem wrong coming out here (should attach 3.3V to the heater enable pin)\n",
    "# start conversion | channel | gain(FSR) | single shot | 1600 SPS | disable comparator\n",
    "channels = [0x4000, 0x5000, 0x6000, 0x7000]  # in0/gnd, in1, in2, in3 (fixed at 1.25V reference)\n",
    "gainfsr, gainV = 0x0000, 6.144\n",
    "def convertgasses():\n",
    "    vals = [ ]\n",
    "    for channel in channels:\n",
    "        i2c.writeto_mem(0x49, 0x01, ustruct.pack(\">H\", 0x8000 | channel | gainfsr | 0x0100 | 0x0080 | 0x0003))\n",
    "        time.sleep_ms(10)\n",
    "        for j in range(10000):\n",
    "            x = i2c.readfrom_mem(0x49, 0x01, 2)\n",
    "            x1 = ustruct.unpack(\">H\", x)[0]\n",
    "            if (x1 & 0x8000):  # conversion complete\n",
    "                break\n",
    "        r = ustruct.unpack(\">h\", i2c.readfrom_mem(0x49, 0x00, 2))\n",
    "        #vals.append(r[0]>>3)\n",
    "        v = (r[0] >> 3)/2048.0*gainV\n",
    "        vals.append(v)\n",
    "    #print(\"ADS1015\", \"ox\", 56000*(3.3-vals[0]), \"red\", 56000*(3.3-vals[1]), \"nh3\", 56000*(3.3-vals[2]), \"ref\", vals[3])\n",
    "    return 56000*(3.3-vals[0]), 56000*(3.3-vals[1]), 56000*(3.3-vals[2]), vals[3]\n",
    "\n",
    "while True:\n",
    "    time.sleep_ms(100)\n",
    "    try:\n",
    "        temp, baro, humid = BME280_funcs.readBME280(0x76)\n",
    "        fbuf.fill_rect(0, 0, 80, 32, 0x0000)\n",
    "        fbuf.text(\"  BME280\", 0, 0, 0xFFFF)\n",
    "        fbuf.text(\"tmp %f\"%temp, 0, 8, 0xFFFF)\n",
    "        fbuf.text(\"prs %f\"%baro, 0, 16, 0xFFFF)\n",
    "        fbuf.text(\"h%% %f\"%humid, 0, 24, 0xFFFF)\n",
    "    except OSError as e:\n",
    "        print(\"OSError\", e)\n",
    "\n",
    "    try:\n",
    "        ltrval = ustruct.unpack(\"h\", i2c.readfrom_mem(0x23, 0x8A, 2))[0]\n",
    "        fbuf.fill_rect(0, 32, 80, 8, 0x0000)\n",
    "        fbuf.text(\"LTR %d\"%ltrval, 0, 32, 0xFFFF)\n",
    "    except OSError as e:\n",
    "        print(\"OSError\", e)\n",
    "\n",
    "    try:\n",
    "        gasox, gasred, gasnh3, gasref = convertgasses()\n",
    "        fbuf.fill_rect(0, 40, 80, 40, 0x0000)\n",
    "        fbuf.text(\"  Gasses\", 0, 40, 0xFFFF)\n",
    "        fbuf.text(\"ox %f\" % gasox, 0, 48, 0xFFFF)\n",
    "        fbuf.text(\"red %f\" % gasred, 0, 56, 0xFFFF)\n",
    "        fbuf.text(\"nh3 %f\" % gasnh3, 0, 64, 0xFFFF)\n",
    "        fbuf.text(\"ref %f\" % gasox, 0, 72, 0xFFFF)\n",
    "    except OSError as e:\n",
    "        print(\"OSError\", e)\n",
    "\n",
    "    d = readdust()\n",
    "    if d:\n",
    "        fbuf.fill_rect(0, 80, 80, 56, 0x0000)\n",
    "        fbuf.text(\"  Dust\", 0, 80, 0xFFFF)\n",
    "        fbuf.text(\"03u %d\" % d[\"gt03um\"], 0, 88, 0xFFFF)\n",
    "        fbuf.text(\"05u %d\" % d[\"gt05um\"], 0, 96, 0xFFFF)\n",
    "        fbuf.text(\"10u %d\" % d[\"gt10um\"], 0, 104, 0xFFFF)\n",
    "        fbuf.text(\"25u %d\" % d[\"gt25um\"], 0, 112, 0xFFFF)\n",
    "        fbuf.text(\"50u %d\" % d[\"gt25um\"], 0, 120, 0xFFFF)\n",
    "        fbuf.text(\"100u %d\" % d[\"gt100um\"], 0, 128, 0xFFFF)\n",
    "        \n",
    "    display()\n",
    "       "
   ]
  },
  {
   "cell_type": "code",
   "execution_count": null,
   "metadata": {},
   "outputs": [],
   "source": []
  },
  {
   "cell_type": "code",
   "execution_count": null,
   "metadata": {},
   "outputs": [],
   "source": []
  },
  {
   "cell_type": "code",
   "execution_count": null,
   "metadata": {},
   "outputs": [],
   "source": []
  },
  {
   "cell_type": "code",
   "execution_count": null,
   "metadata": {},
   "outputs": [],
   "source": []
  }
 ],
 "metadata": {
  "kernelspec": {
   "display_name": "MicroPython - USB",
   "language": "micropython",
   "name": "micropython"
  },
  "language_info": {
   "codemirror_mode": "python",
   "file_extension": ".py",
   "mimetype": "text/python",
   "name": "micropython"
  }
 },
 "nbformat": 4,
 "nbformat_minor": 2
}
