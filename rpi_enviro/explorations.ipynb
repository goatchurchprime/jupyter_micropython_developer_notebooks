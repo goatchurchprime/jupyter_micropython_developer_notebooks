{
 "cells": [
  {
   "cell_type": "code",
   "execution_count": 1,
   "metadata": {},
   "outputs": [
    {
     "name": "stdout",
     "output_type": "stream",
     "text": [
      "\u001b[34mConnecting to --port=/dev/ttyUSB0 --baud=115200 \u001b[0m\n",
      "\u001b[34mReady.\n",
      "\u001b[0m"
     ]
    }
   ],
   "source": [
    "%serialconnect"
   ]
  },
  {
   "cell_type": "code",
   "execution_count": 13,
   "metadata": {},
   "outputs": [
    {
     "name": "stdout",
     "output_type": "stream",
     "text": [
      "Sent 77 lines (3294 bytes) to BME280_funcs.py.\n"
     ]
    }
   ],
   "source": [
    "%sendtofile --source \"../Sensor_Kennel/BME280_funcs.py\""
   ]
  },
  {
   "cell_type": "code",
   "execution_count": 2,
   "metadata": {},
   "outputs": [
    {
     "name": "stdout",
     "output_type": "stream",
     "text": [
      "['0x23', '0x49', '0x76']\r\n"
     ]
    }
   ],
   "source": [
    "from machine import I2C, Pin\n",
    "import time, os, sys, ustruct\n",
    "\n",
    "#i2c = I2C(1)  # on Pi\n",
    "i2c = I2C(1, scl=Pin(25), sda=Pin(27)) # on ESP32 pin26 broken\n",
    "\n",
    "\n",
    "print(list(map(hex, i2c.scan())))  # 0x23=LTR-559, 0x76=BME280, 0x49=ADS1015"
   ]
  },
  {
   "cell_type": "code",
   "execution_count": 3,
   "metadata": {},
   "outputs": [
    {
     "name": "stdout",
     "output_type": "stream",
     "text": [
      "temp, baro, humid (20.04, 99018.86, 40.09571)\n",
      "temp, baro, humid (20.03, 99019.86, 40.10644)\n",
      "temp, baro, humid (20.04, 99015.39, 40.09571)\n",
      "temp, baro, humid (20.03, 99011.08, 40.08301)\n",
      "temp, baro, humid (20.04, 99020.68, 40.07226)\n",
      "temp, baro, humid (20.03, 99016.38, 40.07129)\n",
      "temp, baro, humid (20.04, 99018.03, 40.11817)\n",
      "temp, baro, humid (20.03, 99011.91, 40.1416)\n",
      "temp, baro, humid (20.04, 99018.03, 40.15332)\n",
      "temp, baro, humid (20.04, 99018.86, 40.1543)\n",
      "temp, baro, humid (20.04, 99018.03, 40.12989)\n",
      "temp, baro, humid (20.03, 99014.56, 40.12989)\n",
      "temp, baro, humid (20.02, 99018.2, 40.10644)\n",
      "temp, baro, humid (20.03, 99017.2, 40.10644)\n",
      "temp, baro, humid (20.02, 99023.49, 40.09473)\n",
      "temp, baro, humid (20.03, 99026.99, 40.07129)\n",
      "temp, baro, humid (20.03, 99033.11, 40.07226)\n",
      "temp, baro, humid (20.03, 99027.81, 40.07226)\n",
      "temp, baro, humid (20.03, 99026.99, 40.08301)\n",
      "temp, baro, humid (20.02, 99031.45, 40.05957)\n"
     ]
    }
   ],
   "source": [
    "import BME280_funcs\n",
    "BME280_funcs.bme280init(i2c, 0x76)\n",
    "for i in range(20):\n",
    "    x = BME280_funcs.readBME280(0x76)\n",
    "    print(\"temp, baro, humid\", x)\n",
    "    time.sleep_ms(500)"
   ]
  },
  {
   "cell_type": "code",
   "execution_count": 59,
   "metadata": {},
   "outputs": [
    {
     "name": "stdout",
     "output_type": "stream",
     "text": [
      "LTR-559 part_number/revision b'\\x92' should be 9 2\n",
      "(3112,)\n",
      "(3106,)\n",
      "(3100,)\n",
      "(3123,)\n",
      "(3489,)\n",
      "(4414,)\n",
      "(3875,)\n",
      "(3855,)\n",
      "(4156,)\n",
      "(3956,)\n",
      "(3914,)\n",
      "(3947,)\n",
      "(3876,)\n",
      "(44,)\n",
      "(48,)\n",
      "(47,)\n",
      "(47,)\n",
      "(47,)\n",
      "(47,)\n",
      "(47,)\n"
     ]
    }
   ],
   "source": [
    "print(\"LTR-559 part_number/revision\", i2c.readfrom_mem(0x23, 0x86, 1), \"should be 9 2\")\n",
    "i2c.writeto_mem(0x23, 0x80, b'\\x09')  # enable ALS gain x4 (light sensor)\n",
    "for i in range(20):\n",
    "    x = ustruct.unpack(\"h\", i2c.readfrom_mem(0x23, 0x8A, 2))\n",
    "    print(x)\n",
    "    time.sleep_ms(500)"
   ]
  },
  {
   "cell_type": "code",
   "execution_count": 21,
   "metadata": {},
   "outputs": [
    {
     "name": "stdout",
     "output_type": "stream",
     "text": [
      "ADS1015 [2.64, 5.796, 4.2, 1.044]\n",
      "ADS1015 [2.634, 5.802, 4.2, 1.068]\n",
      "ADS1015 [2.634, 5.796, 4.2, 1.236]\n",
      "ADS1015 [2.64, 5.802, 4.2, 1.086]\n",
      ".ADS1015 [2.634, 5.802, 4.2, 1.026]\n",
      "ADS1015 [2.64, 5.802, 4.2, 1.122]\n",
      "ADS1015 [2.64, 5.802, 4.2, 1.224]\n",
      "ADS1015 [2.64, 5.802, 4.2, 1.05]\n",
      "ADS1015 [2.64, 5.802, 4.2, 1.044]\n",
      "ADS1015 [2.64, 5.802, 4.2, 1.2]\n",
      "ADS1015 [2.64, 5.802, 4.2, 1.146]\n",
      "ADS1015 [2.64, 5.802, 4.2, 1.056]\n",
      "ADS1015 [2.64, 5.802, 4.2, 1.062]\n",
      "ADS1015 [2.64, 5.802, 4.2, 1.236]\n",
      ".ADS1015 [2.64, 5.802, 4.2, 1.068]\n",
      "ADS1015 [2.64, 5.802, 4.2, 1.026]\n",
      "ADS1015 [2.64, 5.802, 4.2, 1.152]\n",
      "ADS1015 [2.64, 5.802, 4.2, 1.188]\n",
      "ADS1015 [2.64, 5.802, 4.2, 1.056]\n",
      "ADS1015 [2.64, 5.802, 4.2, 1.044]\n"
     ]
    }
   ],
   "source": [
    "# Numbers all seem wrong coming out here (should attach 3.3V to the heater enable pin)\n",
    "\n",
    "# start conversion | channel | gain(FSR) | single shot | 1600 SPS | disable comparator\n",
    "channels = [0x4000, 0x5000, 0x6000, 0x7000]  # in0/gnd, in1, in2, in3 (fixed at 1.25V reference)\n",
    "gainfsr, gainV = 0x0000, 6.144\n",
    "for i in range(20):\n",
    "    vals = [ ]\n",
    "    for channel in channels:\n",
    "        i2c.writeto_mem(0x49, 0x01, ustruct.pack(\">H\", 0x8000 | channel | gainfsr | 0x0100 | 0x0080 | 0x0003))\n",
    "        time.sleep_ms(10)\n",
    "        #for j in range(10000):\n",
    "        #    x = i2c.readfrom_mem(0x49, 0x01, 2)\n",
    "        #    x1 = ustruct.unpack(\">H\", x)[0]\n",
    "        #    if (x1 & 0x8000):  # conversion complete\n",
    "        #        break\n",
    "        r = ustruct.unpack(\">h\", i2c.readfrom_mem(0x49, 0x00, 2))\n",
    "        #vals.append(r[0]>>3)\n",
    "        v = (r[0] >> 3)/2048.0*gainV\n",
    "        vals.append(v)\n",
    "    print(\"ADS1015\", vals)\n",
    "    #print(\"ADS1015\", \"ox\", 56000*(3.3-vals[0]), \"red\", 56000*(3.3-vals[1]), \"nh3\", 56000*(3.3-vals[2]), \"ref\", vals[3])\n",
    "    time.sleep_ms(500)"
   ]
  }
 ],
 "metadata": {
  "kernelspec": {
   "display_name": "MicroPython - USB",
   "language": "micropython",
   "name": "micropython"
  },
  "language_info": {
   "codemirror_mode": "python",
   "file_extension": ".py",
   "mimetype": "text/python",
   "name": "micropython"
  }
 },
 "nbformat": 4,
 "nbformat_minor": 2
}
