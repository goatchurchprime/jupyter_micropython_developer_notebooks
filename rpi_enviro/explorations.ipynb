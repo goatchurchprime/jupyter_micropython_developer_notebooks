{
 "cells": [
  {
   "cell_type": "code",
   "execution_count": 49,
   "metadata": {},
   "outputs": [
    {
     "name": "stdout",
     "output_type": "stream",
     "text": [
      "\u001b[34mConnecting to --port=/dev/ttyUSB2 --baud=115200 \u001b[0m\n",
      "\u001b[34mReady.\n",
      "\u001b[0m"
     ]
    }
   ],
   "source": [
    "%serialconnect"
   ]
  },
  {
   "cell_type": "code",
   "execution_count": null,
   "metadata": {},
   "outputs": [],
   "source": []
  },
  {
   "cell_type": "code",
   "execution_count": 13,
   "metadata": {},
   "outputs": [
    {
     "name": "stdout",
     "output_type": "stream",
     "text": [
      "Sent 77 lines (3294 bytes) to BME280_funcs.py.\n"
     ]
    }
   ],
   "source": [
    "%sendtofile --source \"../Sensor_Kennel/BME280_funcs.py\""
   ]
  },
  {
   "cell_type": "code",
   "execution_count": 50,
   "metadata": {},
   "outputs": [
    {
     "name": "stdout",
     "output_type": "stream",
     "text": [
      "['0x23', '0x49', '0x76']\r\n"
     ]
    }
   ],
   "source": [
    "from machine import I2C, Pin\n",
    "import time, os, sys, ustruct\n",
    "\n",
    "#i2c = I2C(1)  # on Pi\n",
    "i2c = I2C(1, scl=Pin(25), sda=Pin(27)) # on ESP32 pin26 broken\n",
    "\n",
    "\n",
    "print(list(map(hex, i2c.scan())))  # 0x23=LTR-559, 0x76=BME280, 0x49=ADS1015"
   ]
  },
  {
   "cell_type": "code",
   "execution_count": 3,
   "metadata": {},
   "outputs": [
    {
     "name": "stdout",
     "output_type": "stream",
     "text": [
      "temp, baro, humid (20.04, 99018.86, 40.09571)\n",
      "temp, baro, humid (20.03, 99019.86, 40.10644)\n",
      "temp, baro, humid (20.04, 99015.39, 40.09571)\n",
      "temp, baro, humid (20.03, 99011.08, 40.08301)\n",
      "temp, baro, humid (20.04, 99020.68, 40.07226)\n",
      "temp, baro, humid (20.03, 99016.38, 40.07129)\n",
      "temp, baro, humid (20.04, 99018.03, 40.11817)\n",
      "temp, baro, humid (20.03, 99011.91, 40.1416)\n",
      "temp, baro, humid (20.04, 99018.03, 40.15332)\n",
      "temp, baro, humid (20.04, 99018.86, 40.1543)\n",
      "temp, baro, humid (20.04, 99018.03, 40.12989)\n",
      "temp, baro, humid (20.03, 99014.56, 40.12989)\n",
      "temp, baro, humid (20.02, 99018.2, 40.10644)\n",
      "temp, baro, humid (20.03, 99017.2, 40.10644)\n",
      "temp, baro, humid (20.02, 99023.49, 40.09473)\n",
      "temp, baro, humid (20.03, 99026.99, 40.07129)\n",
      "temp, baro, humid (20.03, 99033.11, 40.07226)\n",
      "temp, baro, humid (20.03, 99027.81, 40.07226)\n",
      "temp, baro, humid (20.03, 99026.99, 40.08301)\n",
      "temp, baro, humid (20.02, 99031.45, 40.05957)\n"
     ]
    }
   ],
   "source": [
    "import BME280_funcs\n",
    "BME280_funcs.bme280init(i2c, 0x76)\n",
    "for i in range(20):\n",
    "    x = BME280_funcs.readBME280(0x76)\n",
    "    print(\"temp, baro, humid\", x)\n",
    "    time.sleep_ms(500)"
   ]
  },
  {
   "cell_type": "code",
   "execution_count": 59,
   "metadata": {},
   "outputs": [
    {
     "name": "stdout",
     "output_type": "stream",
     "text": [
      "LTR-559 part_number/revision b'\\x92' should be 9 2\n",
      "(3112,)\n",
      "(3106,)\n",
      "(3100,)\n",
      "(3123,)\n",
      "(3489,)\n",
      "(4414,)\n",
      "(3875,)\n",
      "(3855,)\n",
      "(4156,)\n",
      "(3956,)\n",
      "(3914,)\n",
      "(3947,)\n",
      "(3876,)\n",
      "(44,)\n",
      "(48,)\n",
      "(47,)\n",
      "(47,)\n",
      "(47,)\n",
      "(47,)\n",
      "(47,)\n"
     ]
    }
   ],
   "source": [
    "print(\"LTR-559 part_number/revision\", i2c.readfrom_mem(0x23, 0x86, 1), \"should be 9 2\")\n",
    "i2c.writeto_mem(0x23, 0x80, b'\\x09')  # enable ALS gain x4 (light sensor)\n",
    "for i in range(20):\n",
    "    x = ustruct.unpack(\"h\", i2c.readfrom_mem(0x23, 0x8A, 2))\n",
    "    print(x)\n",
    "    time.sleep_ms(500)"
   ]
  },
  {
   "cell_type": "code",
   "execution_count": 22,
   "metadata": {},
   "outputs": [
    {
     "name": "stdout",
     "output_type": "stream",
     "text": [
      "ADS1015 [2.634, 5.814, 4.206, 1.062]\n",
      "ADS1015 [2.634, 5.814, 4.206, 1.044]\n",
      "ADS1015 [2.634, 5.808, 4.206, 1.2]\n",
      "ADS1015 [2.634, 5.814, 4.206, 1.158]\n",
      "ADS1015 [2.634, 5.814, 4.206, 1.044]\n",
      ".ADS1015 [2.634, 5.814, 4.206, 1.056]\n",
      "ADS1015 [2.634, 5.814, 4.206, 1.218]\n",
      "ADS1015 [2.634, 5.814, 4.206, 1.074]\n",
      "ADS1015 [2.634, 5.808, 4.206, 1.026]\n",
      "ADS1015 [2.634, 5.808, 4.206, 1.146]\n",
      "ADS1015 [2.634, 5.814, 4.206, 2.178]\n",
      "ADS1015 [2.622, 5.802, 4.188, 1.164]\n",
      "ADS1015 [2.616, 5.802, 4.176, 1.314]\n",
      "ADS1015 [2.598, 5.796, 4.164, 2.778]\n",
      "ADS1015 [2.592, 5.796, 4.158, 1.152]\n",
      ".ADS1015 [2.592, 5.79, 4.158, 1.062]\n",
      "ADS1015 [2.58, 5.79, 4.146, 1.422]\n",
      "ADS1015 [2.586, 5.796, 4.158, 2.064]\n",
      "ADS1015 [2.592, 5.796, 4.164, 1.296]\n",
      "ADS1015 [2.598, 5.796, 4.17, 1.026]\n"
     ]
    }
   ],
   "source": [
    "# Numbers all seem wrong coming out here (should attach 3.3V to the heater enable pin)\n",
    "\n",
    "# start conversion | channel | gain(FSR) | single shot | 1600 SPS | disable comparator\n",
    "channels = [0x4000, 0x5000, 0x6000, 0x7000]  # in0/gnd, in1, in2, in3 (fixed at 1.25V reference)\n",
    "gainfsr, gainV = 0x0000, 6.144\n",
    "for i in range(20):\n",
    "    vals = [ ]\n",
    "    for channel in channels:\n",
    "        i2c.writeto_mem(0x49, 0x01, ustruct.pack(\">H\", 0x8000 | channel | gainfsr | 0x0100 | 0x0080 | 0x0003))\n",
    "        time.sleep_ms(10)\n",
    "        #for j in range(10000):\n",
    "        #    x = i2c.readfrom_mem(0x49, 0x01, 2)\n",
    "        #    x1 = ustruct.unpack(\">H\", x)[0]\n",
    "        #    if (x1 & 0x8000):  # conversion complete\n",
    "        #        break\n",
    "        r = ustruct.unpack(\">h\", i2c.readfrom_mem(0x49, 0x00, 2))\n",
    "        #vals.append(r[0]>>3)\n",
    "        v = (r[0] >> 3)/2048.0*gainV\n",
    "        vals.append(v)\n",
    "    print(\"ADS1015\", vals)\n",
    "    #print(\"ADS1015\", \"ox\", 56000*(3.3-vals[0]), \"red\", 56000*(3.3-vals[1]), \"nh3\", 56000*(3.3-vals[2]), \"ref\", vals[3])\n",
    "    time.sleep_ms(500)"
   ]
  },
  {
   "cell_type": "code",
   "execution_count": null,
   "metadata": {},
   "outputs": [],
   "source": []
  },
  {
   "cell_type": "code",
   "execution_count": 97,
   "metadata": {},
   "outputs": [
    {
     "name": "stdout",
     "output_type": "stream",
     "text": [
      "UART(1, baudrate=9600, bits=8, parity=None, stop=1, tx=12, rx=14, rts=-1, cts=-1, txbuf=256, rxbuf=256, timeout=0, timeout_char=2)\r\n"
     ]
    }
   ],
   "source": [
    "# Dust sensor is UART, connect enable to 3V\n",
    "from machine import UART\n",
    "u = UART(1, tx=12, rx=14, baudrate=9600)\n",
    "print(u)"
   ]
  },
  {
   "cell_type": "code",
   "execution_count": 139,
   "metadata": {},
   "outputs": [
    {
     "name": "stdout",
     "output_type": "stream",
     "text": [
      "apm10\tapm25\tapm100\tpm10\tpm25\tpm100\tgt03um\tgt05um\tgt10um\tgt25um\tgt50um\tgt100um\n",
      "1\t1\t1\t1\t1\t1\t1008\t186\t8\t0\t0\t0\n",
      "1\t1\t1\t1\t1\t1\t1008\t186\t8\t0\t0\t0\n",
      "1\t1\t2\t1\t1\t2\t1023\t189\t12\t2\t2\t0\n",
      "1\t1\t2\t1\t1\t2\t1023\t189\t12\t2\t2\t0\n",
      "1\t1\t2\t1\t1\t2\t1023\t189\t12\t2\t2\t0\n",
      "1\t1\t2\t1\t1\t2\t1050\t191\t14\t2\t2\t0\n",
      "2\t2\t3\t2\t2\t3\t1050\t191\t14\t2\t2\t0\n",
      "2\t2\t3\t2\t2\t3\t1050\t191\t14\t2\t2\t0\n",
      "2\t2\t4\t2\t2\t4\t1068\t199\t18\t4\t4\t0\n",
      ".2\t2\t4\t2\t2\t4\t1068\t199\t18\t4\t4\t0\n",
      "2\t2\t4\t2\t2\t4\t1068\t199\t18\t4\t4\t0\n",
      "2\t3\t5\t2\t3\t5\t1101\t210\t18\t4\t4\t0\n",
      "2\t3\t5\t2\t3\t5\t1101\t210\t18\t4\t4\t0\n",
      "2\t3\t5\t2\t3\t5\t1101\t210\t18\t4\t4\t0\n",
      "2\t3\t5\t2\t3\t5\t1089\t208\t18\t4\t4\t0\n",
      "2\t3\t5\t2\t3\t5\t1089\t208\t18\t4\t4\t0\n",
      "2\t3\t5\t2\t3\t5\t1089\t208\t18\t4\t4\t0\n",
      "2\t3\t5\t2\t3\t5\t1095\t208\t20\t4\t4\t0\n",
      "2\t3\t5\t2\t3\t5\t1095\t208\t20\t4\t4\t0\n",
      "."
     ]
    }
   ],
   "source": [
    "import time, ustruct\n",
    "\n",
    "cols = [\"apm10\", \"apm25\", \"apm100\", \"pm10\", \"pm25\", \"pm100\",\n",
    "        \"gt03um\", \"gt05um\", \"gt10um\", \"gt25um\", \"gt50um\", \"gt100um\" ]\n",
    "print(\"\\t\".join(cols))\n",
    "for i in range(800):\n",
    "    x = u.read()\n",
    "    if x and len(x) == 32 and x[0] == 0x42 and x[1] == 0x4d:\n",
    "        numbers = ustruct.unpack('>16H', x)\n",
    "        csum = sum(x[:-2])\n",
    "        if csum == numbers[-1]:\n",
    "            assert(numbers[1] == 28) # frame length\n",
    "            print(\"\\t\".join(map(str, numbers[2:-2])))\n",
    "        else:\n",
    "            print(\"bad checksum\", x)\n",
    "    time.sleep_ms(20)\n",
    "        "
   ]
  },
  {
   "cell_type": "code",
   "execution_count": null,
   "metadata": {},
   "outputs": [],
   "source": []
  },
  {
   "cell_type": "code",
   "execution_count": null,
   "metadata": {},
   "outputs": [],
   "source": []
  },
  {
   "cell_type": "code",
   "execution_count": null,
   "metadata": {},
   "outputs": [],
   "source": []
  },
  {
   "cell_type": "code",
   "execution_count": null,
   "metadata": {},
   "outputs": [],
   "source": []
  },
  {
   "cell_type": "code",
   "execution_count": null,
   "metadata": {},
   "outputs": [],
   "source": []
  },
  {
   "cell_type": "code",
   "execution_count": null,
   "metadata": {},
   "outputs": [],
   "source": []
  },
  {
   "cell_type": "code",
   "execution_count": 68,
   "metadata": {},
   "outputs": [
    {
     "name": "stdout",
     "output_type": "stream",
     "text": [
      "serial exception on close write failed: [Errno 5] Input/output error\n",
      "\u001b[34mConnecting to --port=/dev/ttyUSB3 --baud=115200 \u001b[0m\n",
      "\u001b[34mReady.\n",
      "\u001b[0m"
     ]
    }
   ],
   "source": [
    "%serialconnect"
   ]
  },
  {
   "cell_type": "code",
   "execution_count": 73,
   "metadata": {},
   "outputs": [],
   "source": [
    "from machine import Pin, SPI\n",
    "p = Pin(17, Pin.OUT)\n",
    "p.value(1)\n",
    "\n",
    "spi = SPI(1, baudrate=10000000, polarity=0, phase=0, sck=Pin(14, Pin), mosi=Pin(13), miso=Pin(12))\n",
    "tft=TFT(spi, 16, None, 18)\n",
    "#def __init__( self, spi, aDC, aReset, aCS) :\n",
    "\n",
    "#GPIO10  SPIO MOSI    Pin13\n",
    "#GPIO9   LCD D/C      Pin16\n",
    "#GPIO11  SPIO SCLK    Pin14\n",
    "#GPIO7   SPI CS       Pin18\n",
    "#reset Pin17\n",
    "\n",
    "tft.init_7735(tft.GREENTAB80x160)\n",
    "for i in range(10):\n",
    "    tft.rect((10+i*5,10),(40,40+i*2), TFT.WHITE)\n",
    "         \n",
    "        \n",
    "#disp = ST7735.ST7735(\n",
    "#        port=0, cs=1, dc=9, backlight=12, rotation=270, spi_speed_hz=10000000\n",
    "#    )"
   ]
  },
  {
   "cell_type": "code",
   "execution_count": null,
   "metadata": {},
   "outputs": [],
   "source": []
  },
  {
   "cell_type": "code",
   "execution_count": null,
   "metadata": {},
   "outputs": [],
   "source": []
  },
  {
   "cell_type": "code",
   "execution_count": null,
   "metadata": {},
   "outputs": [],
   "source": []
  },
  {
   "cell_type": "code",
   "execution_count": null,
   "metadata": {},
   "outputs": [],
   "source": []
  },
  {
   "cell_type": "code",
   "execution_count": 11,
   "metadata": {},
   "outputs": [
    {
     "name": "stdout",
     "output_type": "stream",
     "text": [
      "\u001b[34mConnecting to --port=/dev/ttyUSB0 --baud=115200 \u001b[0m\n",
      "\u001b[34mReady.\n",
      "\u001b[0m"
     ]
    }
   ],
   "source": [
    "%serialconnect"
   ]
  },
  {
   "cell_type": "code",
   "execution_count": 12,
   "metadata": {},
   "outputs": [],
   "source": [
    "ST7735_TFTWIDTH = 80\n",
    "ST7735_TFTHEIGHT = 160\n",
    "\n",
    "import framebuf, time\n",
    "fdata = bytearray(ST7735_TFTWIDTH*ST7735_TFTHEIGHT*2)\n",
    "fbuf = framebuf.FrameBuffer(fdata, ST7735_TFTWIDTH, ST7735_TFTHEIGHT, framebuf.RGB565)\n"
   ]
  },
  {
   "cell_type": "code",
   "execution_count": null,
   "metadata": {},
   "outputs": [],
   "source": []
  },
  {
   "cell_type": "code",
   "execution_count": 6,
   "metadata": {},
   "outputs": [],
   "source": [
    "#disp = ST7735(1, Pin(18, Pin.OUT), Pin(16, Pin.OUT), backlight=Pin(17, Pin.OUT), rst=None, rotation=270)\n"
   ]
  },
  {
   "cell_type": "code",
   "execution_count": 13,
   "metadata": {},
   "outputs": [],
   "source": [
    "\n",
    "from machine import Pin, SPI\n",
    "\n",
    "width = 80\n",
    "height = 160\n",
    "\n",
    "import framebuf, time\n",
    "fdata = bytearray(width*height*2)\n",
    "fbuf = framebuf.FrameBuffer(fdata, width, height, framebuf.RGB565)\n",
    "\n",
    "spi = SPI(1, baudrate=10000000, polarity=0, phase=0, sck=Pin(14), mosi=Pin(13), miso=Pin(12))\n",
    "cs = Pin(18, Pin.OUT)\n",
    "dc = Pin(16, Pin.OUT)\n",
    "backlight = Pin(17, Pin.OUT)\n",
    "\n",
    "ST7735_COLS = 132\n",
    "ST7735_ROWS = 162\n",
    "\n",
    "def color565(r, g, b):\n",
    "    return ((r & 0xF8) << 8) | ((g & 0xFC) << 3) | (b >> 3)\n",
    "\n",
    "backlight.value(0)\n",
    "time.sleep(0.1)\n",
    "backlight.value(1)\n",
    "\n",
    "def cmddata(cmd, data=None):\n",
    "    cs.value(0)\n",
    "    dc.value(0)\n",
    "    spi.write(bytearray([cmd]))\n",
    "    if data:\n",
    "        dc.value(1)\n",
    "        spi.write(data)\n",
    "    cs.value(1)\n"
   ]
  },
  {
   "cell_type": "code",
   "execution_count": 15,
   "metadata": {},
   "outputs": [
    {
     "name": "stdout",
     "output_type": "stream",
     "text": [
      "26 1\r\n"
     ]
    }
   ],
   "source": [
    "import time\n",
    "\n",
    "offset_left = (ST7735_COLS - width) // 2\n",
    "offset_top = (ST7735_ROWS - height) // 2\n",
    "print(offset_left, offset_top)\n",
    "\n",
    "\n",
    "# Initialize the display.\n",
    "cmddata(0x01)# Software reset\n",
    "time.sleep(0.150)               # delay 150 ms\n",
    "cmddata(0x11)# Out of sleep mode\n",
    "time.sleep(0.500)               # delay 500 ms\n",
    "\n",
    "cmddata(0xB1, bytearray([0x01, 0x2C, 0x2D]))    # Frame rate ctrl - normal mode\n",
    "                 # Rate = fosc/(1x2+40) * (LINE+2C+2D)\n",
    "cmddata(0xB2, bytearray([0x01, 0x2C, 0x2D]))    # Frame rate ctrl - idle mode\n",
    "                 # Rate = fosc/(1x2+40) * (LINE+2C+2D)\n",
    "\n",
    "cmddata(0xB3, bytearray([0x01, 0x2C, 0x2D, 0x01, 0x2C, 0x2D]))    # Frame rate ctrl - partial mode\n",
    "                # Dot inversion mode\n",
    "                 # Line inversion mode\n",
    "\n",
    "cmddata(0xB4, bytearray([0x07]))     # Display inversion ctrl\n",
    "                 # No inversion\n",
    "\n",
    "cmddata(0xC0, bytearray([0xA2, 0x02, 0x84]))     # Power control\n",
    "                 # -4.6V\n",
    "                 # auto mode\n",
    "\n",
    "cmddata(0xC1, bytearray([0x0A, 0x00]))     # Power control\n",
    "         # Opamp current small\n",
    "         # Boost frequency\n",
    "\n",
    "cmddata(0xC3, bytearray([0x8A, 0x2A]))     # Power control\n",
    "                 # BCLK/2, Opamp current small & Medium low\n",
    "\n",
    "\n",
    "cmddata(0xC4, bytearray([0x8A, 0xEE]))     # Power control\n",
    "cmddata(0xC5, bytearray([0x0E]))     # Power control\n",
    "cmddata(0x21)  # Don't invert display\n",
    "\n",
    "cmddata(0x36, bytearray([0xC8]))     # Memory access control (directions)\n",
    "                 # row addr/col addr, bottom to top refresh\n",
    "\n",
    "cmddata(0x3A, bytearray([0x05]))     # set color mode\n",
    "                 # 16-bit color\n",
    "\n",
    "cmddata(0x2A, bytearray([0x00, offset_left, 0x00, width + offset_left - 1]))      # Column addr set\n",
    "                 # XSTART = 0\n",
    "                 # XEND = ROWS - height\n",
    "\n",
    "cmddata(0x2B, bytearray([0x00, offset_top, 0x00, height + offset_top - 1]))      # Row addr set\n",
    "                 # XSTART = 0\n",
    "                 # XEND = COLS - width\n",
    "\n",
    "cmddata(0xE0, bytearray([0x02, 0x1c, 0x07, 0x12, 0x37, 0x32, 0x29, 0x2d, 0x29, 0x25, 0x2B, 0x39, 0x00, 0x01, 0x03, 0x10]))    # Set Gamma\n",
    "cmddata(0xE1, bytearray([0x03, 0x1d, 0x07, 0x06, 0x2E, 0x2C, 0x29, 0x2D, 0x2E, 0x2E, 0x37, 0x3F, 0x00, 0x00, 0x02, 0x10]))    # Set Gamma\n",
    "\n",
    "cmddata(0x13)      # Normal display on\n",
    "time.sleep(0.10)                # 10 ms\n",
    "cmddata(0x29)     # Display on\n",
    "time.sleep(0.100)               # 100 ms\n"
   ]
  },
  {
   "cell_type": "code",
   "execution_count": 16,
   "metadata": {},
   "outputs": [],
   "source": [
    "def display(fdata):\n",
    "    x1 = width - 1\n",
    "    y1 = height - 1\n",
    "    y0 = offset_top\n",
    "    y1 += offset_top\n",
    "    x0 = offset_left\n",
    "    x1 += offset_left\n",
    "    cmddata(0x2A, bytearray([x0 >> 8, x0, x1 >> 8, x1]))       # Column addr set\n",
    "                # XSTART\n",
    "                        # XEND\n",
    "    cmddata(0x2B, bytearray([y0 >> 8, y0, y1>>8, y1]))       # Row addr set\n",
    "                        # YSTART\n",
    "                        # YEND\n",
    "    cmddata(0x2C, fdata)       # write to RAM\n"
   ]
  },
  {
   "cell_type": "code",
   "execution_count": 17,
   "metadata": {},
   "outputs": [
    {
     "name": "stdout",
     "output_type": "stream",
     "text": [
      "."
     ]
    }
   ],
   "source": [
    "fbuf.fill(0x00f0)\n",
    "for i in range(10):\n",
    "    fbuf.fill_rect(10+i*5,i*10,8,8,0x0000)\n",
    "    display(fdata)\n",
    "    time.sleep(0.5)\n",
    "fbuf.text(\"hi there\", 10,100,0xffff)\n",
    "display(fdata)"
   ]
  },
  {
   "cell_type": "code",
   "execution_count": null,
   "metadata": {},
   "outputs": [],
   "source": []
  },
  {
   "cell_type": "code",
   "execution_count": null,
   "metadata": {},
   "outputs": [],
   "source": []
  },
  {
   "cell_type": "code",
   "execution_count": null,
   "metadata": {},
   "outputs": [],
   "source": []
  },
  {
   "cell_type": "code",
   "execution_count": null,
   "metadata": {},
   "outputs": [],
   "source": []
  },
  {
   "cell_type": "code",
   "execution_count": 5,
   "metadata": {},
   "outputs": [],
   "source": [
    "\n",
    "from machine import Pin, SPI\n",
    "\n",
    "width = 80\n",
    "height = 160\n",
    "\n",
    "import framebuf, time\n",
    "fdata = bytearray(width*height*2)\n",
    "fbuf = framebuf.FrameBuffer(fdata, width, height, framebuf.RGB565)\n",
    "\n",
    "\n",
    "ST7735_COLS = 132\n",
    "ST7735_ROWS = 162\n",
    "\n",
    "def color565(r, g, b):\n",
    "    \"\"\"Convert red, green, blue components to a 16-bit 565 RGB value. Components\n",
    "    should be values 0 to 255.\n",
    "    \"\"\"\n",
    "    return ((r & 0xF8) << 8) | ((g & 0xFC) << 3) | (b >> 3)\n",
    "\n",
    "class ST7735(object):\n",
    "    \"\"\"Representation of an ST7735 TFT LCD.\"\"\"\n",
    "\n",
    "    def __init__(self, port, cs, dc, backlight=None, rst=None, width=ST7735_TFTWIDTH,\n",
    "                 height=ST7735_TFTHEIGHT, rotation=90, offset_left=None, offset_top=None, invert=True, spi_speed_hz=4000000):\n",
    "\n",
    "        self._spi = SPI(1, baudrate=10000000, polarity=0, phase=0, sck=Pin(14), mosi=Pin(13), miso=Pin(12))\n",
    "        self._dc = dc\n",
    "        self._rst = rst\n",
    "        self._width = width\n",
    "        self._height = height\n",
    "        self._rotation = rotation\n",
    "        self._invert = invert\n",
    "        self._cs = Pin(18, Pin.OUT)\n",
    "        \n",
    "        # Default left offset to center display\n",
    "        if offset_left is None:\n",
    "            offset_left = (ST7735_COLS - width) // 2\n",
    "\n",
    "        self._offset_left = offset_left\n",
    "\n",
    "        # Default top offset to center display\n",
    "        if offset_top is None:\n",
    "            offset_top = (ST7735_ROWS - height) // 2\n",
    "\n",
    "        self._offset_top = offset_top\n",
    "\n",
    "        # Setup backlight as output (if provided).\n",
    "        self._backlight = backlight\n",
    "        if backlight is not None:\n",
    "            backlight.value(0)\n",
    "            time.sleep(0.1)\n",
    "            backlight.value(1)\n",
    "            \n",
    "        self._init()\n",
    "\n",
    "    def cmddata(self, cmd, data=None):\n",
    "        self._cs.value(0)\n",
    "        self._dc.value(0)\n",
    "        self._spi.write(bytearray([cmd]))\n",
    "        if data:\n",
    "            self._dc.value(1)\n",
    "            self._spi.write(data)\n",
    "        self._cs.value(1)\n",
    "        \n",
    "    def _init(self):\n",
    "        # Initialize the display.\n",
    "        self.cmddata(0x01, None)# Software reset\n",
    "        time.sleep(0.150)               # delay 150 ms\n",
    "        self.cmddata(0x11, None)# Out of sleep mode\n",
    "        time.sleep(0.500)               # delay 500 ms\n",
    "\n",
    "        self.cmddata(0xB1, bytearray([0x01, 0x2C, 0x2D]))    # Frame rate ctrl - normal mode\n",
    "                         # Rate = fosc/(1x2+40) * (LINE+2C+2D)\n",
    "        self.cmddata(0xB2, bytearray([0x01, 0x2C, 0x2D]))    # Frame rate ctrl - idle mode\n",
    "                         # Rate = fosc/(1x2+40) * (LINE+2C+2D)\n",
    "\n",
    "        self.cmddata(0xB3, bytearray([0x01, 0x2C, 0x2D, 0x01, 0x2C, 0x2D]))    # Frame rate ctrl - partial mode\n",
    "                        # Dot inversion mode\n",
    "                         # Line inversion mode\n",
    "\n",
    "        self.cmddata(0xB4, bytearray([0x07]))     # Display inversion ctrl\n",
    "                         # No inversion\n",
    "            \n",
    "        self.cmddata(0xC0, bytearray([0xA2, 0x02, 0x84]))     # Power control\n",
    "                         # -4.6V\n",
    "                         # auto mode\n",
    "\n",
    "        self.cmddata(0xC1, bytearray([0x0A, 0x00]))     # Power control\n",
    "                 # Opamp current small\n",
    "                 # Boost frequency\n",
    "\n",
    "        self.cmddata(0xC3, bytearray([0x8A, 0x2A]))     # Power control\n",
    "                         # BCLK/2, Opamp current small & Medium low\n",
    "        \n",
    "\n",
    "        self.cmddata(0xC4, bytearray([0x8A, 0xEE]))     # Power control\n",
    "        self.cmddata(0xC5, bytearray([0x0E]))     # Power control\n",
    "        self.cmddata(0x21)  # Don't invert display\n",
    "\n",
    "        self.cmddata(0x36, bytearray([0xC8]))     # Memory access control (directions)\n",
    "                         # row addr/col addr, bottom to top refresh\n",
    "\n",
    "        self.cmddata(0x3A, bytearray([0x05]))     # set color mode\n",
    "                         # 16-bit color\n",
    "\n",
    "        self.cmddata(0x2A, bytearray([0x00, self._offset_left, 0x00, self._width + self._offset_left - 1]))      # Column addr set\n",
    "                         # XSTART = 0\n",
    "                         # XEND = ROWS - height\n",
    "        \n",
    "        self.cmddata(0x2B, bytearray([0x00, self._offset_top, 0x00, self._height + self._offset_top - 1]))      # Row addr set\n",
    "                         # XSTART = 0\n",
    "                         # XEND = COLS - width\n",
    "\n",
    "        self.cmddata(0xE0, bytearray([0x02, 0x1c, 0x07, 0x12, 0x37, 0x32, 0x29, 0x2d, 0x29, 0x25, 0x2B, 0x39, 0x00, 0x01, 0x03, 0x10]))    # Set Gamma\n",
    "        self.cmddata(0xE1, bytearray([0x03, 0x1d, 0x07, 0x06, 0x2E, 0x2C, 0x29, 0x2D, 0x2E, 0x2E, 0x37, 0x3F, 0x00, 0x00, 0x02, 0x10]))    # Set Gamma\n",
    "\n",
    "        self.cmddata(0x13)      # Normal display on\n",
    "        time.sleep(0.10)                # 10 ms\n",
    "\n",
    "        self.cmddata(0x29)     # Display on\n",
    "        time.sleep(0.100)               # 100 ms\n",
    "\n",
    "\n",
    "    def display(self, fdata):\n",
    "        ST7735_TFTWIDTH = 80\n",
    "        ST7735_TFTHEIGHT = 160\n",
    "        ST7735_COLS = 132\n",
    "        ST7735_ROWS = 162\n",
    "        width=ST7735_TFTWIDTH\n",
    "        height=ST7735_TFTHEIGHT\n",
    "        offset_left = (ST7735_COLS - width) // 2\n",
    "        offset_top = (ST7735_ROWS - height) // 2\n",
    "        x1 = width - 1\n",
    "        y1 = height - 1\n",
    "        y0 = offset_top\n",
    "        y1 += offset_top\n",
    "        x0 = offset_left\n",
    "        x1 += offset_left\n",
    "\n",
    "        self.cmddata(0x2A, bytearray([x0 >> 8, x0, x1 >> 8, x1]))       # Column addr set\n",
    "                    # XSTART\n",
    "                            # XEND\n",
    "        self.cmddata(0x2B, bytearray([y0 >> 8, y0, y1>>8, y1]))       # Row addr set\n",
    "                            # YSTART\n",
    "                            # YEND\n",
    "        self.cmddata(0x2C, fdata)       # write to RAM\n",
    "\n"
   ]
  },
  {
   "cell_type": "code",
   "execution_count": 109,
   "metadata": {},
   "outputs": [
    {
     "name": "stdout",
     "output_type": "stream",
     "text": [
      "serial exception on close write failed: [Errno 5] Input/output error\n",
      "\u001b[34mConnecting to --port=/dev/ttyUSB2 --baud=115200 \u001b[0m\n",
      "\u001b[34mReady.\n",
      "\u001b[0m"
     ]
    }
   ],
   "source": [
    "%serialconnect"
   ]
  },
  {
   "cell_type": "code",
   "execution_count": 78,
   "metadata": {},
   "outputs": [
    {
     "name": "stdout",
     "output_type": "stream",
     "text": [
      "object <module 'framebuf'> is of type module\n",
      "  __name__ -- framebuf\n",
      "  FrameBuffer -- <class 'FrameBuffer'>\n",
      "  FrameBuffer1 -- <function>\n",
      "  MVLSB -- 0\n",
      "  MONO_VLSB -- 0\n",
      "  RGB565 -- 1\n",
      "  GS2_HMSB -- 5\n",
      "  GS4_HMSB -- 2\n",
      "  GS8 -- 6\n",
      "  MONO_HLSB -- 3\n",
      "  MONO_HMSB -- 4\n"
     ]
    }
   ],
   "source": []
  },
  {
   "cell_type": "code",
   "execution_count": null,
   "metadata": {},
   "outputs": [],
   "source": []
  }
 ],
 "metadata": {
  "kernelspec": {
   "display_name": "MicroPython - USB",
   "language": "micropython",
   "name": "micropython"
  },
  "language_info": {
   "codemirror_mode": "python",
   "file_extension": ".py",
   "mimetype": "text/python",
   "name": "micropython"
  }
 },
 "nbformat": 4,
 "nbformat_minor": 2
}
