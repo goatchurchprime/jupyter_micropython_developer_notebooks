{
 "cells": [
  {
   "cell_type": "code",
   "execution_count": 1,
   "metadata": {},
   "outputs": [
    {
     "name": "stdout",
     "output_type": "stream",
     "text": [
      "\u001b[34mConnecting to --port=/dev/ttyUSB0 --baud=115200 \u001b[0m\n",
      "\u001b[34mReady.\n",
      "\u001b[0m"
     ]
    }
   ],
   "source": [
    "%serialconnect"
   ]
  },
  {
   "cell_type": "code",
   "execution_count": 13,
   "metadata": {},
   "outputs": [
    {
     "name": "stdout",
     "output_type": "stream",
     "text": [
      "Sent 77 lines (3294 bytes) to BME280_funcs.py.\n"
     ]
    }
   ],
   "source": [
    "%sendtofile --source \"../Sensor_Kennel/BME280_funcs.py\""
   ]
  },
  {
   "cell_type": "code",
   "execution_count": 2,
   "metadata": {},
   "outputs": [
    {
     "name": "stdout",
     "output_type": "stream",
     "text": [
      "['0x23', '0x49', '0x76']\r\n"
     ]
    }
   ],
   "source": [
    "from machine import I2C, Pin\n",
    "import time, os, sys, ustruct\n",
    "\n",
    "#i2c = I2C(1)  # on Pi\n",
    "i2c = I2C(1, scl=Pin(25), sda=Pin(27)) # on ESP32 pin26 broken\n",
    "\n",
    "\n",
    "print(list(map(hex, i2c.scan())))  # 0x23=LTR-559, 0x76=BME280, 0x49=ADS1015"
   ]
  },
  {
   "cell_type": "code",
   "execution_count": 3,
   "metadata": {},
   "outputs": [
    {
     "name": "stdout",
     "output_type": "stream",
     "text": [
      "temp, baro, humid (20.04, 99018.86, 40.09571)\n",
      "temp, baro, humid (20.03, 99019.86, 40.10644)\n",
      "temp, baro, humid (20.04, 99015.39, 40.09571)\n",
      "temp, baro, humid (20.03, 99011.08, 40.08301)\n",
      "temp, baro, humid (20.04, 99020.68, 40.07226)\n",
      "temp, baro, humid (20.03, 99016.38, 40.07129)\n",
      "temp, baro, humid (20.04, 99018.03, 40.11817)\n",
      "temp, baro, humid (20.03, 99011.91, 40.1416)\n",
      "temp, baro, humid (20.04, 99018.03, 40.15332)\n",
      "temp, baro, humid (20.04, 99018.86, 40.1543)\n",
      "temp, baro, humid (20.04, 99018.03, 40.12989)\n",
      "temp, baro, humid (20.03, 99014.56, 40.12989)\n",
      "temp, baro, humid (20.02, 99018.2, 40.10644)\n",
      "temp, baro, humid (20.03, 99017.2, 40.10644)\n",
      "temp, baro, humid (20.02, 99023.49, 40.09473)\n",
      "temp, baro, humid (20.03, 99026.99, 40.07129)\n",
      "temp, baro, humid (20.03, 99033.11, 40.07226)\n",
      "temp, baro, humid (20.03, 99027.81, 40.07226)\n",
      "temp, baro, humid (20.03, 99026.99, 40.08301)\n",
      "temp, baro, humid (20.02, 99031.45, 40.05957)\n"
     ]
    }
   ],
   "source": [
    "import BME280_funcs\n",
    "BME280_funcs.bme280init(i2c, 0x76)\n",
    "for i in range(20):\n",
    "    x = BME280_funcs.readBME280(0x76)\n",
    "    print(\"temp, baro, humid\", x)\n",
    "    time.sleep_ms(500)"
   ]
  },
  {
   "cell_type": "code",
   "execution_count": 59,
   "metadata": {},
   "outputs": [
    {
     "name": "stdout",
     "output_type": "stream",
     "text": [
      "LTR-559 part_number/revision b'\\x92' should be 9 2\n",
      "(3112,)\n",
      "(3106,)\n",
      "(3100,)\n",
      "(3123,)\n",
      "(3489,)\n",
      "(4414,)\n",
      "(3875,)\n",
      "(3855,)\n",
      "(4156,)\n",
      "(3956,)\n",
      "(3914,)\n",
      "(3947,)\n",
      "(3876,)\n",
      "(44,)\n",
      "(48,)\n",
      "(47,)\n",
      "(47,)\n",
      "(47,)\n",
      "(47,)\n",
      "(47,)\n"
     ]
    }
   ],
   "source": [
    "print(\"LTR-559 part_number/revision\", i2c.readfrom_mem(0x23, 0x86, 1), \"should be 9 2\")\n",
    "i2c.writeto_mem(0x23, 0x80, b'\\x09')  # enable ALS gain x4 (light sensor)\n",
    "for i in range(20):\n",
    "    x = ustruct.unpack(\"h\", i2c.readfrom_mem(0x23, 0x8A, 2))\n",
    "    print(x)\n",
    "    time.sleep_ms(500)"
   ]
  },
  {
   "cell_type": "code",
   "execution_count": 22,
   "metadata": {},
   "outputs": [
    {
     "name": "stdout",
     "output_type": "stream",
     "text": [
      "ADS1015 [2.634, 5.814, 4.206, 1.062]\n",
      "ADS1015 [2.634, 5.814, 4.206, 1.044]\n",
      "ADS1015 [2.634, 5.808, 4.206, 1.2]\n",
      "ADS1015 [2.634, 5.814, 4.206, 1.158]\n",
      "ADS1015 [2.634, 5.814, 4.206, 1.044]\n",
      ".ADS1015 [2.634, 5.814, 4.206, 1.056]\n",
      "ADS1015 [2.634, 5.814, 4.206, 1.218]\n",
      "ADS1015 [2.634, 5.814, 4.206, 1.074]\n",
      "ADS1015 [2.634, 5.808, 4.206, 1.026]\n",
      "ADS1015 [2.634, 5.808, 4.206, 1.146]\n",
      "ADS1015 [2.634, 5.814, 4.206, 2.178]\n",
      "ADS1015 [2.622, 5.802, 4.188, 1.164]\n",
      "ADS1015 [2.616, 5.802, 4.176, 1.314]\n",
      "ADS1015 [2.598, 5.796, 4.164, 2.778]\n",
      "ADS1015 [2.592, 5.796, 4.158, 1.152]\n",
      ".ADS1015 [2.592, 5.79, 4.158, 1.062]\n",
      "ADS1015 [2.58, 5.79, 4.146, 1.422]\n",
      "ADS1015 [2.586, 5.796, 4.158, 2.064]\n",
      "ADS1015 [2.592, 5.796, 4.164, 1.296]\n",
      "ADS1015 [2.598, 5.796, 4.17, 1.026]\n"
     ]
    }
   ],
   "source": [
    "# Numbers all seem wrong coming out here (should attach 3.3V to the heater enable pin)\n",
    "\n",
    "# start conversion | channel | gain(FSR) | single shot | 1600 SPS | disable comparator\n",
    "channels = [0x4000, 0x5000, 0x6000, 0x7000]  # in0/gnd, in1, in2, in3 (fixed at 1.25V reference)\n",
    "gainfsr, gainV = 0x0000, 6.144\n",
    "for i in range(20):\n",
    "    vals = [ ]\n",
    "    for channel in channels:\n",
    "        i2c.writeto_mem(0x49, 0x01, ustruct.pack(\">H\", 0x8000 | channel | gainfsr | 0x0100 | 0x0080 | 0x0003))\n",
    "        time.sleep_ms(10)\n",
    "        #for j in range(10000):\n",
    "        #    x = i2c.readfrom_mem(0x49, 0x01, 2)\n",
    "        #    x1 = ustruct.unpack(\">H\", x)[0]\n",
    "        #    if (x1 & 0x8000):  # conversion complete\n",
    "        #        break\n",
    "        r = ustruct.unpack(\">h\", i2c.readfrom_mem(0x49, 0x00, 2))\n",
    "        #vals.append(r[0]>>3)\n",
    "        v = (r[0] >> 3)/2048.0*gainV\n",
    "        vals.append(v)\n",
    "    print(\"ADS1015\", vals)\n",
    "    #print(\"ADS1015\", \"ox\", 56000*(3.3-vals[0]), \"red\", 56000*(3.3-vals[1]), \"nh3\", 56000*(3.3-vals[2]), \"ref\", vals[3])\n",
    "    time.sleep_ms(500)"
   ]
  },
  {
   "cell_type": "code",
   "execution_count": null,
   "metadata": {},
   "outputs": [],
   "source": []
  },
  {
   "cell_type": "code",
   "execution_count": 97,
   "metadata": {},
   "outputs": [
    {
     "name": "stdout",
     "output_type": "stream",
     "text": [
      "UART(1, baudrate=9600, bits=8, parity=None, stop=1, tx=12, rx=14, rts=-1, cts=-1, txbuf=256, rxbuf=256, timeout=0, timeout_char=2)\r\n"
     ]
    }
   ],
   "source": [
    "# Dust sensor is UART, connect enable to 3V\n",
    "from machine import UART\n",
    "u = UART(1, tx=12, rx=14, baudrate=9600)\n",
    "print(u)"
   ]
  },
  {
   "cell_type": "code",
   "execution_count": 139,
   "metadata": {},
   "outputs": [
    {
     "name": "stdout",
     "output_type": "stream",
     "text": [
      "apm10\tapm25\tapm100\tpm10\tpm25\tpm100\tgt03um\tgt05um\tgt10um\tgt25um\tgt50um\tgt100um\n",
      "1\t1\t1\t1\t1\t1\t1008\t186\t8\t0\t0\t0\n",
      "1\t1\t1\t1\t1\t1\t1008\t186\t8\t0\t0\t0\n",
      "1\t1\t2\t1\t1\t2\t1023\t189\t12\t2\t2\t0\n",
      "1\t1\t2\t1\t1\t2\t1023\t189\t12\t2\t2\t0\n",
      "1\t1\t2\t1\t1\t2\t1023\t189\t12\t2\t2\t0\n",
      "1\t1\t2\t1\t1\t2\t1050\t191\t14\t2\t2\t0\n",
      "2\t2\t3\t2\t2\t3\t1050\t191\t14\t2\t2\t0\n",
      "2\t2\t3\t2\t2\t3\t1050\t191\t14\t2\t2\t0\n",
      "2\t2\t4\t2\t2\t4\t1068\t199\t18\t4\t4\t0\n",
      ".2\t2\t4\t2\t2\t4\t1068\t199\t18\t4\t4\t0\n",
      "2\t2\t4\t2\t2\t4\t1068\t199\t18\t4\t4\t0\n",
      "2\t3\t5\t2\t3\t5\t1101\t210\t18\t4\t4\t0\n",
      "2\t3\t5\t2\t3\t5\t1101\t210\t18\t4\t4\t0\n",
      "2\t3\t5\t2\t3\t5\t1101\t210\t18\t4\t4\t0\n",
      "2\t3\t5\t2\t3\t5\t1089\t208\t18\t4\t4\t0\n",
      "2\t3\t5\t2\t3\t5\t1089\t208\t18\t4\t4\t0\n",
      "2\t3\t5\t2\t3\t5\t1089\t208\t18\t4\t4\t0\n",
      "2\t3\t5\t2\t3\t5\t1095\t208\t20\t4\t4\t0\n",
      "2\t3\t5\t2\t3\t5\t1095\t208\t20\t4\t4\t0\n",
      "."
     ]
    }
   ],
   "source": [
    "import time, ustruct\n",
    "\n",
    "cols = [\"apm10\", \"apm25\", \"apm100\", \"pm10\", \"pm25\", \"pm100\",\n",
    "        \"gt03um\", \"gt05um\", \"gt10um\", \"gt25um\", \"gt50um\", \"gt100um\" ]\n",
    "print(\"\\t\".join(cols))\n",
    "for i in range(800):\n",
    "    x = u.read()\n",
    "    if x and len(x) == 32 and x[0] == 0x42 and x[1] == 0x4d:\n",
    "        numbers = ustruct.unpack('>16H', x)\n",
    "        csum = sum(x[:-2])\n",
    "        if csum == numbers[-1]:\n",
    "            assert(numbers[1] == 28) # frame length\n",
    "            print(\"\\t\".join(map(str, numbers[2:-2])))\n",
    "        else:\n",
    "            print(\"bad checksum\", x)\n",
    "    time.sleep_ms(20)\n",
    "        "
   ]
  }
 ],
 "metadata": {
  "kernelspec": {
   "display_name": "MicroPython - USB",
   "language": "micropython",
   "name": "micropython"
  },
  "language_info": {
   "codemirror_mode": "python",
   "file_extension": ".py",
   "mimetype": "text/python",
   "name": "micropython"
  }
 },
 "nbformat": 4,
 "nbformat_minor": 2
}
