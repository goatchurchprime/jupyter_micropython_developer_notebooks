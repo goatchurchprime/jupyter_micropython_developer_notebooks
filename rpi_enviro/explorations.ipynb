{
 "cells": [
  {
   "cell_type": "code",
   "execution_count": 141,
   "metadata": {},
   "outputs": [
    {
     "name": "stdout",
     "output_type": "stream",
     "text": [
      "\u001b[34mConnecting to --port=/dev/ttyUSB1 --baud=115200 \u001b[0m\n",
      "\u001b[34mReady.\n",
      "\u001b[0m"
     ]
    }
   ],
   "source": [
    "%serialconnect"
   ]
  },
  {
   "cell_type": "code",
   "execution_count": 121,
   "metadata": {},
   "outputs": [
    {
     "name": "stdout",
     "output_type": "stream",
     "text": [
      "Sent 77 lines (3294 bytes) to BME280_funcs.py.\n"
     ]
    }
   ],
   "source": [
    "%sendtofile --source \"../Sensor_Kennel/BME280_funcs.py\""
   ]
  },
  {
   "cell_type": "code",
   "execution_count": 143,
   "metadata": {},
   "outputs": [
    {
     "name": "stdout",
     "output_type": "stream",
     "text": [
      "['0x23', '0x49', '0x76']\r\n"
     ]
    }
   ],
   "source": [
    "from machine import I2C, Pin\n",
    "import time, os, sys, ustruct\n",
    "\n",
    "if sys.platform == \"esp32\":\n",
    "    i2c = I2C(1, scl=Pin(25), sda=Pin(27)) # on ESP32 pin26 broken\n",
    "else:\n",
    "    i2c = I2C(1)  # on Pi\n",
    "\n",
    "\n",
    "print(list(map(hex, i2c.scan())))  # 0x23=LTR-559, 0x76=BME280, 0x49=ADS1015"
   ]
  },
  {
   "cell_type": "code",
   "execution_count": 144,
   "metadata": {},
   "outputs": [
    {
     "name": "stdout",
     "output_type": "stream",
     "text": [
      "temp, baro, humid (22.66, 64428.22, 86.18164)\n",
      "temp, baro, humid (21.7, 99140.32, 40.89649)\n",
      "temp, baro, humid (21.74, 99141.63, 40.50488)\n",
      "temp, baro, humid (21.76, 99142.28, 40.15821)\n",
      "temp, baro, humid (21.76, 99135.14, 39.94922)\n",
      "temp, baro, humid (21.77, 99142.1, 40.24024)\n",
      "temp, baro, humid (21.76, 99142.28, 40.77442)\n",
      "temp, baro, humid (21.73, 99135.48, 40.60937)\n",
      "temp, baro, humid (21.73, 99137.32, 40.37598)\n",
      "temp, baro, humid (21.73, 99137.32, 40.1084)\n",
      "temp, baro, humid (21.75, 99135.31, 39.9707)\n",
      "temp, baro, humid (21.74, 99139.8, 39.86523)\n",
      "temp, baro, humid (21.72, 99135.67, 40.46777)\n",
      "temp, baro, humid (21.72, 99138.32, 40.91016)\n",
      "temp, baro, humid (21.73, 99145.29, 40.93555)\n",
      "temp, baro, humid (21.72, 99136.49, 40.8291)\n",
      "temp, baro, humid (21.73, 99132.82, 40.70215)\n",
      "temp, baro, humid (21.74, 99137.14, 40.55176)\n",
      "temp, baro, humid (21.75, 99136.14, 40.89063)\n",
      "temp, baro, humid (21.74, 99136.31, 41.22656)\n"
     ]
    }
   ],
   "source": [
    "import BME280_funcs\n",
    "BME280_funcs.bme280init(i2c, 0x76)\n",
    "for i in range(20):\n",
    "    x = BME280_funcs.readBME280(0x76)\n",
    "    print(\"temp, baro, humid\", x)\n",
    "    time.sleep_ms(500)"
   ]
  },
  {
   "cell_type": "code",
   "execution_count": 145,
   "metadata": {},
   "outputs": [
    {
     "name": "stdout",
     "output_type": "stream",
     "text": [
      "LTR-559 part_number/revision b'\\x92' should be 9 2\n",
      "(0,)\n",
      "(45,)\n",
      "(45,)\n",
      "(45,)\n",
      "(45,)\n",
      "(46,)\n",
      "(45,)\n",
      "(41,)\n",
      "(22,)\n",
      "(21,)\n",
      "(20,)\n",
      "(45,)\n",
      "(79,)\n",
      "(80,)\n",
      "(80,)\n",
      "(81,)\n",
      "(87,)\n",
      "(95,)\n",
      "(698,)\n",
      "(3793,)\n"
     ]
    }
   ],
   "source": [
    "print(\"LTR-559 part_number/revision\", i2c.readfrom_mem(0x23, 0x86, 1), \"should be 9 2\")\n",
    "i2c.writeto_mem(0x23, 0x80, b'\\x09')  # enable ALS gain x4 (light sensor)\n",
    "for i in range(20):\n",
    "    x = ustruct.unpack(\"h\", i2c.readfrom_mem(0x23, 0x8A, 2))\n",
    "    print(x)\n",
    "    time.sleep_ms(500)"
   ]
  },
  {
   "cell_type": "code",
   "execution_count": 146,
   "metadata": {},
   "outputs": [
    {
     "name": "stdout",
     "output_type": "stream",
     "text": [
      "ADS1015 [2.79, 2.796, 1.23, 1.05]\n",
      "ADS1015 [2.79, 2.796, 1.23, 1.098]\n",
      "ADS1015 [2.79, 2.802, 1.23, 1.044]\n",
      "ADS1015 [2.79, 2.802, 1.23, 1.038]\n",
      "ADS1015 [2.79, 2.802, 1.23, 1.092]\n",
      "ADS1015 [2.79, 2.808, 1.23, 1.056]\n",
      "ADS1015 [2.79, 2.808, 1.23, 1.038]\n",
      "ADS1015 [2.79, 2.808, 1.23, 1.08]\n",
      ".ADS1015 [2.79, 2.808, 1.23, 1.08]\n",
      "ADS1015 [2.79, 2.814, 1.23, 1.044]\n",
      "ADS1015 [2.79, 2.814, 1.23, 1.092]\n",
      "ADS1015 [2.79, 2.814, 1.23, 1.062]\n",
      "ADS1015 [2.79, 2.814, 1.23, 1.044]\n",
      "ADS1015 [2.79, 2.82, 1.23, 1.074]\n",
      "ADS1015 [2.79, 2.82, 1.23, 1.068]\n",
      "ADS1015 [2.79, 2.82, 1.236, 1.044]\n",
      "ADS1015 [2.79, 2.826, 1.236, 1.068]\n",
      "ADS1015 [2.79, 2.826, 1.236, 1.062]\n",
      ".ADS1015 [2.79, 2.826, 1.236, 1.044]\n",
      "ADS1015 [2.796, 2.832, 1.236, 1.056]\n"
     ]
    }
   ],
   "source": [
    "# Numbers all seem wrong coming out here (should attach 3.3V to the heater enable pin)\n",
    "\n",
    "# start conversion | channel | gain(FSR) | single shot | 1600 SPS | disable comparator\n",
    "channels = [0x4000, 0x5000, 0x6000, 0x7000]  # in0/gnd, in1, in2, in3 (fixed at 1.25V reference)\n",
    "gainfsr, gainV = 0x0000, 6.144\n",
    "for i in range(20):\n",
    "    vals = [ ]\n",
    "    for channel in channels:\n",
    "        i2c.writeto_mem(0x49, 0x01, ustruct.pack(\">H\", 0x8000 | channel | gainfsr | 0x0100 | 0x0080 | 0x0003))\n",
    "        time.sleep_ms(10)\n",
    "        #for j in range(10000):\n",
    "        #    x = i2c.readfrom_mem(0x49, 0x01, 2)\n",
    "        #    x1 = ustruct.unpack(\">H\", x)[0]\n",
    "        #    if (x1 & 0x8000):  # conversion complete\n",
    "        #        break\n",
    "        r = ustruct.unpack(\">h\", i2c.readfrom_mem(0x49, 0x00, 2))\n",
    "        #vals.append(r[0]>>3)\n",
    "        v = (r[0] >> 3)/2048.0*gainV\n",
    "        vals.append(v)\n",
    "    print(\"ADS1015\", vals)\n",
    "    #print(\"ADS1015\", \"ox\", 56000*(3.3-vals[0]), \"red\", 56000*(3.3-vals[1]), \"nh3\", 56000*(3.3-vals[2]), \"ref\", vals[3])\n",
    "    time.sleep_ms(500)"
   ]
  },
  {
   "cell_type": "code",
   "execution_count": null,
   "metadata": {},
   "outputs": [],
   "source": []
  },
  {
   "cell_type": "code",
   "execution_count": 136,
   "metadata": {},
   "outputs": [
    {
     "name": "stdout",
     "output_type": "stream",
     "text": [
      "serial exception on close write failed: [Errno 5] Input/output error\n",
      "\u001b[34mConnecting to --port=/dev/ttyUSB0 --baud=115200 \u001b[0m\n",
      "\u001b[34mReady.\n",
      "\u001b[0m"
     ]
    }
   ],
   "source": [
    "%serialconnect"
   ]
  },
  {
   "cell_type": "code",
   "execution_count": 137,
   "metadata": {},
   "outputs": [
    {
     "name": "stdout",
     "output_type": "stream",
     "text": [
      "UART(1, baudrate=9600, bits=8, parity=None, stop=1, tx=4, rx=5, rts=-1, cts=-1, txbuf=256, rxbuf=256, timeout=0, timeout_char=2)\r\n"
     ]
    }
   ],
   "source": [
    "# Dust sensor is UART, connect enable to 3V\n",
    "from machine import UART\n",
    "u = UART(1, tx=4, rx=5, baudrate=9600)\n",
    "print(u)"
   ]
  },
  {
   "cell_type": "code",
   "execution_count": 139,
   "metadata": {},
   "outputs": [
    {
     "name": "stdout",
     "output_type": "stream",
     "text": [
      "UART(1, baudrate=9600, bits=8, parity=None, stop=1, tx=5, rx=4, rts=-1, cts=-1, txbuf=256, rxbuf=256, timeout=0, timeout_char=2)\n",
      "apm10\tapm25\tapm100\tpm10\tpm25\tpm100\tgt03um\tgt05um\tgt10um\tgt25um\tgt50um\tgt100um\n",
      "0\t1\t2\t0\t1\t2\t270\t82\t20\t2\t2\t0\n",
      "0\t1\t2\t0\t1\t2\t270\t82\t20\t2\t2\t0\n",
      "0\t1\t2\t0\t1\t2\t288\t88\t20\t2\t2\t0\n",
      "0\t1\t2\t0\t1\t2\t288\t88\t20\t2\t2\t0\n",
      "0\t1\t2\t0\t1\t2\t288\t88\t20\t2\t2\t0\n",
      "0\t0\t1\t0\t0\t1\t282\t84\t16\t2\t2\t0\n",
      "0\t0\t1\t0\t0\t1\t282\t84\t16\t2\t2\t0\n",
      "0\t0\t1\t0\t0\t1\t282\t84\t16\t2\t2\t0\n",
      "0\t0\t1\t0\t0\t1\t288\t82\t18\t2\t2\t0\n",
      "0\t0\t1\t0\t0\t1\t288\t82\t18\t2\t2\t0\n",
      ".0\t0\t1\t0\t0\t1\t288\t82\t18\t2\t2\t0\n",
      "0\t0\t0\t0\t0\t0\t288\t82\t18\t0\t0\t0\n",
      "0\t0\t0\t0\t0\t0\t288\t82\t18\t0\t0\t0\n",
      "0\t0\t0\t0\t0\t0\t288\t82\t18\t0\t0\t0\n",
      "0\t0\t0\t0\t0\t0\t264\t76\t16\t0\t0\t0\n",
      "0\t0\t0\t0\t0\t0\t264\t76\t16\t0\t0\t0\n",
      "0\t0\t0\t0\t0\t0\t264\t76\t16\t0\t0\t0\n",
      "0\t0\t0\t0\t0\t0\t282\t80\t18\t0\t0\t0\n",
      "0\t1\t1\t0\t1\t1\t282\t80\t18\t0\t0\t0\n"
     ]
    }
   ],
   "source": [
    "import time, ustruct\n",
    "from machine import UART\n",
    "u = UART(1, tx=5, rx=4, baudrate=9600)\n",
    "print(u)\n",
    "cols = [\"apm10\", \"apm25\", \"apm100\", \"pm10\", \"pm25\", \"pm100\",\n",
    "        \"gt03um\", \"gt05um\", \"gt10um\", \"gt25um\", \"gt50um\", \"gt100um\" ]\n",
    "print(\"\\t\".join(cols))\n",
    "for i in range(800):\n",
    "    x = u.read()\n",
    "    if x and len(x) == 32 and x[0] == 0x42 and x[1] == 0x4d:\n",
    "        numbers = ustruct.unpack('>16H', x)\n",
    "        csum = sum(x[:-2])\n",
    "        if csum == numbers[-1]:\n",
    "            assert(numbers[1] == 28) # frame length\n",
    "            print(\"\\t\".join(map(str, numbers[2:-2])))\n",
    "        else:\n",
    "            print(\"bad checksum\", x)\n",
    "    time.sleep_ms(20)\n",
    "        "
   ]
  },
  {
   "cell_type": "code",
   "execution_count": null,
   "metadata": {},
   "outputs": [],
   "source": []
  },
  {
   "cell_type": "code",
   "execution_count": null,
   "metadata": {},
   "outputs": [],
   "source": []
  },
  {
   "cell_type": "code",
   "execution_count": null,
   "metadata": {},
   "outputs": [],
   "source": []
  },
  {
   "cell_type": "code",
   "execution_count": null,
   "metadata": {},
   "outputs": [],
   "source": []
  },
  {
   "cell_type": "code",
   "execution_count": null,
   "metadata": {},
   "outputs": [],
   "source": []
  },
  {
   "cell_type": "code",
   "execution_count": null,
   "metadata": {},
   "outputs": [],
   "source": []
  },
  {
   "cell_type": "code",
   "execution_count": 68,
   "metadata": {},
   "outputs": [
    {
     "name": "stdout",
     "output_type": "stream",
     "text": [
      "serial exception on close write failed: [Errno 5] Input/output error\n",
      "\u001b[34mConnecting to --port=/dev/ttyUSB3 --baud=115200 \u001b[0m\n",
      "\u001b[34mReady.\n",
      "\u001b[0m"
     ]
    }
   ],
   "source": [
    "%serialconnect"
   ]
  },
  {
   "cell_type": "code",
   "execution_count": null,
   "metadata": {},
   "outputs": [],
   "source": []
  },
  {
   "cell_type": "code",
   "execution_count": null,
   "metadata": {},
   "outputs": [],
   "source": []
  },
  {
   "cell_type": "code",
   "execution_count": null,
   "metadata": {},
   "outputs": [],
   "source": []
  },
  {
   "cell_type": "code",
   "execution_count": null,
   "metadata": {},
   "outputs": [],
   "source": []
  },
  {
   "cell_type": "code",
   "execution_count": 125,
   "metadata": {},
   "outputs": [
    {
     "name": "stdout",
     "output_type": "stream",
     "text": [
      "\u001b[34mConnecting to --port=/dev/ttyUSB0 --baud=115200 \u001b[0m\n",
      "\u001b[34mReady.\n",
      "\u001b[0m"
     ]
    }
   ],
   "source": [
    "%serialconnect"
   ]
  },
  {
   "cell_type": "code",
   "execution_count": 126,
   "metadata": {},
   "outputs": [
    {
     "name": "stdout",
     "output_type": "stream",
     "text": [
      "42 ['0x0', '0x1a', '0x0', '0x69']\n",
      "43 ['0x0', '0x1', '0x0', '0xa0']\n"
     ]
    }
   ],
   "source": [
    "# Settings for mapping the OLED bitmap into the RAM arrangement in its controller\n",
    "width, height = 80, 160\n",
    "ST7735_COLS, ST7735_ROWS = 132, 162\n",
    "offset_left = (ST7735_COLS - width) // 2\n",
    "offset_top = (ST7735_ROWS - height) // 2\n",
    "x1 = width - 1\n",
    "y1 = height - 1\n",
    "y0 = offset_top\n",
    "y1 += offset_top\n",
    "x0 = offset_left\n",
    "x1 += offset_left\n",
    "print(0x2A, list(map(hex, bytearray([x0 >> 8, x0, x1 >> 8, x1]))))  # Column addr set\n",
    "print(0x2B, list(map(hex, bytearray([y0 >> 8, y0, y1>>8, y1]))))    # Row addr set\n",
    "#cmddata(0xB1, bytearray([0x02, 0x2C, 0x2D]))  # Frame rt 60Hz 333000/((1+20)*(160+0x2C+0x2D))\n",
    "\n"
   ]
  },
  {
   "cell_type": "code",
   "execution_count": 149,
   "metadata": {},
   "outputs": [],
   "source": [
    "from machine import SPI\n",
    "spi = SPI(0)\n"
   ]
  },
  {
   "cell_type": "code",
   "execution_count": 154,
   "metadata": {},
   "outputs": [],
   "source": [
    "\n",
    "from machine import Pin, SPI\n",
    "import sys\n",
    "\n",
    "width, height = 80, 160\n",
    "\n",
    "import framebuf, time\n",
    "fdata = bytearray(width*height*2)\n",
    "fbuf = framebuf.FrameBuffer(fdata, width, height, framebuf.RGB565)\n",
    "\n",
    "if sys.platform == \"esp32\":\n",
    "    spi = SPI(1, baudrate=10000000, polarity=0, phase=0, sck=Pin(14), mosi=Pin(13), miso=Pin(12))\n",
    "    cs = Pin(18, Pin.OUT)\n",
    "    dc = Pin(16, Pin.OUT)\n",
    "    backlight = Pin(17, Pin.OUT)\n",
    "else:\n",
    "    spi = SPI(0)\n",
    "    cs = Pin(7, Pin.OUT)\n",
    "    dc = Pin(9, Pin.OUT)\n",
    "    backlight = Pin(12, Pin.OUT)\n",
    "    \n",
    "\n",
    "def color565(r, g, b):\n",
    "    return ((r & 0xF8) << 8) | ((g & 0xFC) << 3) | (b >> 3)\n",
    "\n",
    "backlight.value(0)\n",
    "time.sleep(0.1)\n",
    "backlight.value(1)\n",
    "\n",
    "def cmddata(cmd, data=None):\n",
    "    cs.value(0)\n",
    "    dc.value(0)\n",
    "    spi.write(bytearray([cmd]))\n",
    "    if data:\n",
    "        dc.value(1)\n",
    "        spi.write(data)\n",
    "    cs.value(1)\n"
   ]
  },
  {
   "cell_type": "code",
   "execution_count": 155,
   "metadata": {},
   "outputs": [
    {
     "name": "stdout",
     "output_type": "stream",
     "text": [
      "60.78861\r\n"
     ]
    }
   ],
   "source": [
    "print(333000/((2+20)*(160+0x2C+0x2D)))"
   ]
  },
  {
   "cell_type": "code",
   "execution_count": 156,
   "metadata": {},
   "outputs": [],
   "source": [
    "import time\n",
    "\n",
    "# Initialize the display.\n",
    "cmddata(0x01);  time.sleep_ms(120)     # Software reset\n",
    "cmddata(0x11);  time.sleep_ms(120)     # Out of sleep mode\n",
    "cmddata(0x13);  time.sleep_ms(120)     # Normal display mode\n",
    "cmddata(0x29);  time.sleep_ms(120)     # Display on\n",
    "\n",
    "#cmddata(0xB1, bytearray([0x02, 0x2C, 0x2D]))  # Frame rt 60Hz 333000/((1+20)*(160+0x2C+0x2D))\n",
    "cmddata(0xC0, bytearray([0x02, 0x70]))     # 4.7V 1.0uA\n",
    "#cmddata(0xC1, bytearray([0x05]))     # VGH 6X 14.7  VGL -3X -7.35\n",
    "cmddata(0xC2, bytearray([0x01, 0x02]))     # Opamp current small, Boost frequency\n",
    "cmddata(0xC3, bytearray([0x8A, 0x2A]))     # Power control\n",
    "cmddata(0xC5, bytearray([0x3C, 0x38]))     # VCOMH 4.0, VCOML -1.050\n",
    "cmddata(0x21)  # Don't invert display\n",
    "cmddata(0x3A, bytearray([0x05]))     # 16-bit color\n",
    "cmddata(0x36, bytearray([0x00]))     # Row order (0xC0 for reverse) + RGB\n",
    "\n",
    "# gamma setting\n",
    "cmddata(0xE0, bytearray([0x02, 0x1c, 0x07, 0x12, 0x37, 0x32, 0x29, 0x2d, 0x29, 0x25, 0x2B, 0x39, 0x00, 0x01, 0x03, 0x10]))    # Set Gamma\n",
    "cmddata(0xE1, bytearray([0x03, 0x1d, 0x07, 0x06, 0x2E, 0x2C, 0x29, 0x2D, 0x2E, 0x2E, 0x37, 0x3F, 0x00, 0x00, 0x02, 0x10]))    # Set Gamma\n",
    "\n",
    "# Columns and rows embedding of 80x160 into 132x162\n",
    "cmddata(0x2A, bytearray([0x00, 0x1A, 0x00, 0x69]))   # Column address \n",
    "cmddata(0x2B, bytearray([0x00, 0x01, 0x00, 0xA0]))   # Row address set\n",
    "\n"
   ]
  },
  {
   "cell_type": "code",
   "execution_count": 29,
   "metadata": {},
   "outputs": [],
   "source": [
    "cmddata(0x20)  # Don't invert display\n"
   ]
  },
  {
   "cell_type": "code",
   "execution_count": 157,
   "metadata": {},
   "outputs": [],
   "source": [
    "def display(fdata):\n",
    "    cmddata(0x2C, fdata)       # write to RAM\n"
   ]
  },
  {
   "cell_type": "code",
   "execution_count": 158,
   "metadata": {},
   "outputs": [
    {
     "name": "stdout",
     "output_type": "stream",
     "text": [
      "."
     ]
    }
   ],
   "source": [
    "fbuf.fill(0xFFFF)\n",
    "for i in range(10):\n",
    "    fbuf.fill_rect(10+i*5,i*10,8,8,0x0000)\n",
    "    display(fdata)\n",
    "    time.sleep(0.5)\n",
    "fbuf.text(\"hi there\", 10,100,0x0000)\n",
    "display(fdata)\n"
   ]
  },
  {
   "cell_type": "code",
   "execution_count": 124,
   "metadata": {},
   "outputs": [
    {
     "name": "stdout",
     "output_type": "stream",
     "text": [
      "\u001b[31m\n",
      "\n",
      "***Connection broken [Input/output error]\n",
      "\u001b[0mYou may need to reconnect\u001b[34m\n",
      "Closing serial Serial<id=0x7fb47c6cf7d0, open=True>(port='/dev/ttyUSB1', baudrate=115200, bytesize=8, parity='N', stopbits=1, timeout=0.5, xonxoff=False, rtscts=False, dsrdtr=False)\n",
      "\u001b[0m\u001b[31mNo serial connected\n",
      "\u001b[0m  %serialconnect to connect\n",
      "  %esptool to flash the device\n",
      "  %lsmagic to list commands"
     ]
    }
   ],
   "source": [
    "fbuf.fill(0x0000)\n",
    "for x in range(0, width, 8):\n",
    "    for y in range(0, height, 8):\n",
    "        fbuf.fill_rect(x, y, 8, 8, 0xFFFF if (((x+y)//8)%2) == 0) else 0x0000)\n",
    "display()"
   ]
  },
  {
   "cell_type": "code",
   "execution_count": 165,
   "metadata": {},
   "outputs": [],
   "source": [
    "fbuf.fill(0x0e00)\n",
    "fbuf.text(\"hi there\", 10,120,0xffff)\n",
    "display(fdata)"
   ]
  },
  {
   "cell_type": "code",
   "execution_count": 74,
   "metadata": {},
   "outputs": [],
   "source": [
    "fbuf.fill(color565(0,0,255))\n",
    "def color565(r, g, b):\n",
    "    return ((r & 0xF8) << 8) | ((g & 0xFC) << 3) | (b >> 3)\n",
    "cmddata(0xE0, bytearray([0x02, 0x1c, 0x07, 0x12, 0x37, 0x32, 0x29, 0x2d, 0x29, 0x25, 0x2B, 0x39, 0x00, 0x01, 0x03, 0x10]))    # Set Gamma\n",
    "cmddata(0xE1, bytearray([0x03, 0x1d, 0x07, 0x06, 0x2E, 0x2C, 0x29, 0x2D, 0x2E, 0x2E, 0x37, 0x3F, 0x00, 0x00, 0x02, 0x10]))    # Set Gamma\n",
    "fbuf.fill(0x6FFF)\n",
    "display(fdata)"
   ]
  },
  {
   "cell_type": "code",
   "execution_count": 97,
   "metadata": {},
   "outputs": [
    {
     "name": "stdout",
     "output_type": "stream",
     "text": [
      "[255, 126, 255, 126, 255, 126, 255, 126, 255, 126, 255, 126, 255, 126, 255, 126, 255, 126, 255, 126]\r\n"
     ]
    }
   ],
   "source": [
    "fbuf.fill(0x7EFF)\n",
    "display(fdata)\n",
    "print(list(fdata[:20]))"
   ]
  },
  {
   "cell_type": "code",
   "execution_count": null,
   "metadata": {},
   "outputs": [],
   "source": []
  },
  {
   "cell_type": "code",
   "execution_count": null,
   "metadata": {},
   "outputs": [],
   "source": []
  }
 ],
 "metadata": {
  "kernelspec": {
   "display_name": "MicroPython - USB",
   "language": "micropython",
   "name": "micropython"
  },
  "language_info": {
   "codemirror_mode": "python",
   "file_extension": ".py",
   "mimetype": "text/python",
   "name": "micropython"
  }
 },
 "nbformat": 4,
 "nbformat_minor": 2
}
