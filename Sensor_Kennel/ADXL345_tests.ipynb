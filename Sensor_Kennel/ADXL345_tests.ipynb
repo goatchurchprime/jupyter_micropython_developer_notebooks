{
 "cells": [
  {
   "cell_type": "code",
   "execution_count": 132,
   "metadata": {},
   "outputs": [
    {
     "name": "stdout",
     "output_type": "stream",
     "text": [
      "\u001b[34mConnecting to --port=/dev/ttyUSB0 --baud=115200 \u001b[0m\n",
      "\u001b[34mReady.\n",
      "\u001b[0m"
     ]
    }
   ],
   "source": [
    "%serialconnect"
   ]
  },
  {
   "cell_type": "code",
   "execution_count": 133,
   "metadata": {},
   "outputs": [
    {
     "name": "stdout",
     "output_type": "stream",
     "text": [
      "[60, 83]\r\n"
     ]
    }
   ],
   "source": [
    "from machine import I2C, Pin\n",
    "\n",
    "i2c = I2C(scl=Pin(15), sda=Pin(4))\n",
    "print(i2c.scan())"
   ]
  },
  {
   "cell_type": "code",
   "execution_count": 134,
   "metadata": {},
   "outputs": [
    {
     "name": "stdout",
     "output_type": "stream",
     "text": [
      "DEVID E5 (should be E5)\r\n"
     ]
    }
   ],
   "source": [
    "print(\"DEVID %X (should be E5)\" % i2c.readfrom_mem(0x53, 0x00, 1)[0])"
   ]
  },
  {
   "cell_type": "code",
   "execution_count": 145,
   "metadata": {},
   "outputs": [],
   "source": [
    "i2c.writeto_mem(0x53, 0x2E, b\"\\x00\")  # INT_ENABLE    (disable)\n",
    "\n",
    "i2c.writeto_mem(0x53, 0x2A, b\"\\x05\")  # TAP_AXES      (X+Z)  (not z)\n",
    "i2c.writeto_mem(0x53, 0x1d, b\"\\x20\")  # THRESH_TAP    (*g/16 tap acceleration)\n",
    "i2c.writeto_mem(0x53, 0x21, b\"\\x30\")  # DUR           (*625us duration of tap)\n",
    "i2c.writeto_mem(0x53, 0x22, b\"\\x40\")  # LATENT        (*1.25ms earliest second tap)\n",
    "i2c.writeto_mem(0x53, 0x23, b\"\\xFF\")  # WINDOW        (*1.25ms latest second tap-LATENT)\n",
    "\n",
    "i2c.writeto_mem(0x53, 0x24, b\"\\x10\")  # THRESH_ACT    (*g/16 acceleration)\n",
    "i2c.writeto_mem(0x53, 0x25, b\"\\x08\")  # THRESH_INACT  (*g/16 acceleration)\n",
    "i2c.writeto_mem(0x53, 0x26, b\"\\x05\")  # TIME_INACT    (*1secs)\n",
    "i2c.writeto_mem(0x53, 0x27, b\"\\x55\")  # ACT_INACT_CTL (DirectComp+X+Z ACT+INACT)\n",
    "\n",
    "i2c.writeto_mem(0x53, 0x28, b\"\\x07\")  # THRESH_FF     (*g/16 RMS FreeFall)\n",
    "i2c.writeto_mem(0x53, 0x29, b\"\\x07\")  # TIME_FF       (*g/16 RMS FreeFall)\n",
    "\n",
    "#i2c.writeto_mem(0x53, 0x2D, b\"\\x04\")  # POWER_CTL   (SLEEP+8HZ)\n",
    "#i2c.writeto_mem(0x53, 0x2D, b\"\\x08\")  # POWER_CTL     (MEASURE)\n",
    "i2c.writeto_mem(0x53, 0x2D, b\"\\x18\")  # POWER_CTL     (autosleep+MEASURE)\n",
    "\n",
    "i2c.writeto_mem(0x53, 0x31, b\"\\x0A\")  # DATA_FORMAT   (FULL_RES+8g)\n",
    "#i2c.writeto_mem(0x53, 0x2E, b\"\\x50\")  # INT_ENABLE    (SINGLE_TAP+activity)\n",
    "i2c.writeto_mem(0x53, 0x2E, b\"\\x48\")  # INT_ENABLE    (SINGLE_TAP+inactivity)\n",
    "i2c.writeto_mem(0x53, 0x2F, b\"\\x40\")  # INT_MAP       (SINGLE_TAP=INT2)\n"
   ]
  },
  {
   "cell_type": "code",
   "execution_count": 146,
   "metadata": {},
   "outputs": [],
   "source": [
    "irqp12 = 0\n",
    "irqp13 = 0\n",
    "def c12(v):\n",
    "    global irqp12\n",
    "    irqp12 += 1\n",
    "    y = i2c.readfrom_mem(0x53, 0x30, 1)\n",
    "\n",
    "def c13(v):\n",
    "    global irqp13\n",
    "    irqp13 += 1\n",
    "    y = i2c.readfrom_mem(0x53, 0x30, 1)\n",
    "    \n",
    "p12 = Pin(12, Pin.IN)\n",
    "p12.irq(c12, Pin.IRQ_RISING)\n",
    "p13 = Pin(13, Pin.IN)\n",
    "p13.irq(c13, Pin.IRQ_RISING)\n"
   ]
  },
  {
   "cell_type": "code",
   "execution_count": 147,
   "metadata": {},
   "outputs": [
    {
     "name": "stdout",
     "output_type": "stream",
     "text": [
      "0 0 (2, 260, 52)\n",
      "1 3 (3, 261, 49)\n",
      ".1 6 (2, 259, 44)\n",
      ".2 6 (2, 262, 42)\n",
      "2 6 (3, 261, 44)\n",
      ".3 6 (3, 260, 44)\n",
      ".4 6 (165, 194, 98)\n",
      "4 48 (2, 260, 45)\n",
      ".5 56 (3, 260, 50)\n",
      ".5 64 (4, 257, 66)\n",
      ".5 66 (4, 259, 64)\n",
      "5 96 (-58, 259, 211)\n",
      ".5 106 (2, 259, 66)\n",
      ".6 106 (3, 259, 66)\n",
      "\u001b[34m\n",
      "\n",
      "*** Sending Ctrl-C\n",
      "\n",
      "\u001b[0m"
     ]
    },
    {
     "name": "stderr",
     "output_type": "stream",
     "text": [
      "Traceback (most recent call last):\n",
      "  File \"<stdin>\", line 5, in <module>\n",
      "KeyboardInterrupt: \n"
     ]
    }
   ],
   "source": [
    "import ustruct, time\n",
    "for i in range(20):\n",
    "    x = i2c.readfrom_mem(0x53, 0x32, 6)\n",
    "    print(irqp12, irqp13, ustruct.unpack(\"<hhh\", x))\n",
    "    time.sleep(4)\n",
    "\n"
   ]
  },
  {
   "cell_type": "code",
   "execution_count": 118,
   "metadata": {},
   "outputs": [
    {
     "name": "stdout",
     "output_type": "stream",
     "text": [
      "b'\\xc3'\r\n"
     ]
    }
   ],
   "source": [
    "y = i2c.readfrom_mem(0x53, 0x30, 1)\n",
    "print(y)"
   ]
  },
  {
   "cell_type": "code",
   "execution_count": 164,
   "metadata": {},
   "outputs": [
    {
     "name": "stdout",
     "output_type": "stream",
     "text": [
      "\u001b[34mConnecting to --port=/dev/ttyUSB0 --baud=115200 \u001b[0m\n",
      "\u001b[34mReady.\n",
      "\u001b[0m"
     ]
    }
   ],
   "source": [
    "%serialconnect"
   ]
  },
  {
   "cell_type": "code",
   "execution_count": 165,
   "metadata": {},
   "outputs": [
    {
     "name": "stdout",
     "output_type": "stream",
     "text": [
      "Sent 50 lines (2046 bytes) to main.py.\n"
     ]
    }
   ],
   "source": [
    "%sendtofile main.py\n",
    "\n",
    "from OLED_driver import i2c, fbuff, oledshow, doublepixels, fatntext\n",
    "\n",
    "i2c.writeto_mem(0x53, 0x2E, b\"\\x00\")  # INT_ENABLE    (disable)\n",
    "\n",
    "i2c.writeto_mem(0x53, 0x2A, b\"\\x05\")  # TAP_AXES      (X+Z)  (not z)\n",
    "i2c.writeto_mem(0x53, 0x1d, b\"\\x20\")  # THRESH_TAP    (*g/16 tap acceleration)\n",
    "i2c.writeto_mem(0x53, 0x21, b\"\\x30\")  # DUR           (*625us duration of tap)\n",
    "i2c.writeto_mem(0x53, 0x22, b\"\\x40\")  # LATENT        (*1.25ms earliest second tap)\n",
    "i2c.writeto_mem(0x53, 0x23, b\"\\xFF\")  # WINDOW        (*1.25ms latest second tap-LATENT)\n",
    "\n",
    "i2c.writeto_mem(0x53, 0x24, b\"\\x10\")  # THRESH_ACT    (*g/16 acceleration)\n",
    "i2c.writeto_mem(0x53, 0x25, b\"\\x08\")  # THRESH_INACT  (*g/16 acceleration)\n",
    "i2c.writeto_mem(0x53, 0x26, b\"\\x05\")  # TIME_INACT    (*1secs)\n",
    "i2c.writeto_mem(0x53, 0x27, b\"\\x55\")  # ACT_INACT_CTL (DirectComp+X+Z ACT+INACT)\n",
    "\n",
    "i2c.writeto_mem(0x53, 0x28, b\"\\x07\")  # THRESH_FF     (*g/16 RMS FreeFall)\n",
    "i2c.writeto_mem(0x53, 0x29, b\"\\x07\")  # TIME_FF       (*g/16 RMS FreeFall)\n",
    "\n",
    "#i2c.writeto_mem(0x53, 0x2D, b\"\\x04\")  # POWER_CTL   (SLEEP+8HZ)\n",
    "#i2c.writeto_mem(0x53, 0x2D, b\"\\x08\")  # POWER_CTL     (MEASURE)\n",
    "i2c.writeto_mem(0x53, 0x2D, b\"\\x18\")  # POWER_CTL     (autosleep+MEASURE)\n",
    "\n",
    "i2c.writeto_mem(0x53, 0x31, b\"\\x0A\")  # DATA_FORMAT   (FULL_RES+8g)\n",
    "#i2c.writeto_mem(0x53, 0x2E, b\"\\x50\")  # INT_ENABLE    (SINGLE_TAP+activity)\n",
    "i2c.writeto_mem(0x53, 0x2E, b\"\\x48\")  # INT_ENABLE    (SINGLE_TAP+inactivity)\n",
    "i2c.writeto_mem(0x53, 0x2F, b\"\\x40\")  # INT_MAP       (SINGLE_TAP=INT2)\n",
    "\n",
    "\n",
    "import ustruct, time\n",
    "for i in range(2000):\n",
    "    y = i2c.readfrom_mem(0x53, 0x30, 1)[0]\n",
    "    x = i2c.readfrom_mem(0x53, 0x32, 6)\n",
    "    if (y&0x40):\n",
    "        print(\"Tap\")\n",
    "        fbuff.fill(0)\n",
    "        fbuff.text(\"Moo!\", 0, 0, 1)\n",
    "        doublepixels()\n",
    "        doublepixels()\n",
    "        oledshow()\n",
    "        time.sleep(1)\n",
    "        fbuff.fill(0)\n",
    "        oledshow()\n",
    "    elif (y&0x08):\n",
    "        print(\"inactivity\")\n",
    "        print(ustruct.unpack(\"<hhh\", x))\n",
    "        fbuff.fill(0)\n",
    "        fbuff.text(\"sleeping\", 0, 0, 1)\n",
    "        doublepixels()\n",
    "        oledshow()\n",
    "    time.sleep(0.1)\n"
   ]
  },
  {
   "cell_type": "code",
   "execution_count": null,
   "metadata": {},
   "outputs": [],
   "source": []
  }
 ],
 "metadata": {
  "kernelspec": {
   "display_name": "MicroPython - USB",
   "language": "micropython",
   "name": "micropython"
  },
  "language_info": {
   "codemirror_mode": "python",
   "file_extension": ".py",
   "mimetype": "text/python",
   "name": "micropython"
  }
 },
 "nbformat": 4,
 "nbformat_minor": 2
}
