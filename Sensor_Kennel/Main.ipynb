{
 "cells": [
  {
   "cell_type": "code",
   "execution_count": 17,
   "metadata": {},
   "outputs": [
    {
     "name": "stdout",
     "output_type": "stream",
     "text": [
      "\u001b[34mConnecting to --port=/dev/ttyUSB11 --baud=115200 \u001b[0m\n",
      "\u001b[34mReady.\n",
      "\u001b[0m"
     ]
    }
   ],
   "source": [
    "%serialconnect\n"
   ]
  },
  {
   "cell_type": "code",
   "execution_count": null,
   "metadata": {},
   "outputs": [],
   "source": [
    "from machine import UART\n",
    "import uos\n",
    "\n",
    "uos.dupterm(None, 1)\n",
    "uart1 = UART(1, 115200)\n",
    "uart0 = UART(0, 115200, timeout=1000)\n",
    "y = uart1.write(b\"The quick brown fox jumps over the lazy dog\\r\\n\")\n",
    "x = uart0.read(10)\n",
    "y = uart1.write(b\"The quick brown fox jumps over the lazy dog\\r\\n\")\n",
    "x1 = uart0.read(10)\n",
    "uos.dupterm(UART(0, 115200), 1)\n",
    "\n"
   ]
  },
  {
   "cell_type": "code",
   "execution_count": 18,
   "metadata": {},
   "outputs": [
    {
     "name": "stdout",
     "output_type": "stream",
     "text": [
      "The quick brown fox jumps over the lazy dog\n",
      "....\u001b[34m\n",
      "\n",
      "*** Sending Ctrl-C\n",
      "\n",
      "\u0003[0m\u001b[31m[Timed out waiting for recognizable response]\n",
      "\u001b[0m"
     ]
    }
   ],
   "source": [
    "from machine import UART\n",
    "import uos, time\n",
    "\n",
    "uos.dupterm(None, 1)\n",
    "uart0 = UART(0, 115200, timeout=100)\n",
    "uart1 = UART(1, 115200)\n",
    "n = 2\n",
    "for i in range(n):\n",
    "    s = uart1.write(b\"line %03d\\r\\n\"%i)\n",
    "    print(i, s)\n",
    "time.sleepms(100)\n",
    "for i in range(n*10):\n",
    "    print(i, uart0.read(1))\n",
    "#x = uart0.read(n*10)\n",
    "uos.dupterm(uart0, 1)\n",
    "print(\"x\", x)\n",
    "\n"
   ]
  },
  {
   "cell_type": "code",
   "execution_count": 12,
   "metadata": {},
   "outputs": [
    {
     "name": "stdout",
     "output_type": "stream",
     "text": [
      "Sent 5 lines (114 bytes) to config.txt.\n"
     ]
    }
   ],
   "source": [
    "%sendtofile config.txt\n",
    "\n",
    "wifiname       BV6000\n",
    "wifipassword   bubblino\n",
    "mqttbroker     192.168.43.1\n",
    "boardname      whitesp\n",
    "pinled         25"
   ]
  },
  {
   "cell_type": "markdown",
   "metadata": {},
   "source": [
    "This is the main Sensor Kennel application that will \n",
    "identify, read and write any sensor that's plugged in.\n",
    "\n",
    "On the lower side:  \n",
    "  Pin1 (left) Gnd, Pin3 3v3, P4 (Pin-3 from right) SDA, P15 (Pin-5 from right) SCL.\n",
    "  P17 (Pin-2) TX, P13 (Upper side Pin-2) RX \n",
    "  For BNO055 with PS1=High SCL=TX(17), SDA=RX(13)\n",
    "  \n",
    "Do we want to draw a graph of numbers if a button is pressed?\n",
    "\n",
    "Should we have MQTT numbers going out from it?\n",
    "\n",
    "Or just keep it comprehensive\n",
    "\n",
    "Sensors known:\n",
    "* VL53L0X lidar\n",
    "* VL6180 lidar\n",
    "* SI7021 humidity\n",
    "* TSL561 luminous\n",
    "* TMP102 temp\n",
    "* SDOF GyAccMag\n",
    "* MLX90614 ir-temp\n",
    "* BME280 barhumid\n",
    "* SHT31D tmphumid\n",
    "* MLX90621 16x4-ir\n",
    "* PX4PITOT airspeed\n",
    "* BNO055 orient\n",
    "* GPS serial\n"
   ]
  },
  {
   "cell_type": "code",
   "execution_count": 7,
   "metadata": {},
   "outputs": [
    {
     "name": "stdout",
     "output_type": "stream",
     "text": [
      "\u001b[34mConnecting to --port=/dev/ttyUSB2 --baud=115200 \u001b[0m\n",
      "\u001b[34mReady.\n",
      "\u001b[0m"
     ]
    }
   ],
   "source": [
    "%serialconnect\n"
   ]
  },
  {
   "cell_type": "code",
   "execution_count": 8,
   "metadata": {},
   "outputs": [
    {
     "name": "stdout",
     "output_type": "stream",
     "text": [
      "Sent 4029 bytes in 135 chunks to OLED_driver.py.\n",
      "Sent 119 lines (3444 bytes) to device_detection.py.\n",
      "Sent 55 lines (2040 bytes) to SI7021_funcs.py.\n",
      "Sent 54 lines (1757 bytes) to TSL561_funcs.py.\n",
      "Sent 33 lines (975 bytes) to VL53L0X_funcs.py.\n",
      "Sent 106 lines (3190 bytes) to VL6180_funcs.py.\n",
      "Sent 42 lines (1800 bytes) to SDOF_funcs.py.\n",
      "Sent 43 lines (1090 bytes) to SHT31D_funcs.py.\n",
      "Sent 79 lines (3304 bytes) to BME280_funcs.py.\n",
      "Sent 170 lines (5915 bytes) to MLX90621_funcs.py.\n",
      "Sent 88 lines (2732 bytes) to BNO055serial_funcs.py.\n",
      "Sent 28 lines (854 bytes) to MLX90614_funcs.py.\n",
      "Sent 46 lines (1375 bytes) to MS5611_funcs.py.\n",
      "Sent 173 lines (6866 bytes) to MPU6050_funcs.py.\n",
      "Sent 84 lines (2813 bytes) to CDM7160_funcs.py.\n",
      "Sent 145 lines (4083 bytes) to OLED_grapher.py.\n",
      "Sent 79 lines (2294 bytes) to sevensegmentdisplay.py.\n"
     ]
    }
   ],
   "source": [
    "%sendtofile --binary --source OLED_driver.py\n",
    "%sendtofile --quiet --source device_detection.py\n",
    "%sendtofile --quiet --source SI7021_funcs.py\n",
    "%sendtofile --quiet --source TSL561_funcs.py\n",
    "%sendtofile --quiet --source VL53L0X_funcs.py\n",
    "%sendtofile --quiet --source VL6180_funcs.py\n",
    "%sendtofile --quiet --source SDOF_funcs.py\n",
    "%sendtofile --quiet --source SHT31D_funcs.py\n",
    "%sendtofile --quiet --source BME280_funcs.py\n",
    "%sendtofile --quiet --source MLX90621_funcs.py\n",
    "%sendtofile --quiet --source BNO055serial_funcs.py\n",
    "%sendtofile --quiet --source MLX90614_funcs.py\n",
    "%sendtofile --quiet --source MS5611_funcs.py\n",
    "%sendtofile --quiet --source MPU6050_funcs.py\n",
    "%sendtofile --quiet --source CDM7160_funcs.py\n",
    "%sendtofile --quiet --source OLED_grapher.py\n",
    "%sendtofile --quiet --source sevensegmentdisplay.py\n",
    "\n"
   ]
  },
  {
   "cell_type": "code",
   "execution_count": 9,
   "metadata": {},
   "outputs": [
    {
     "name": "stdout",
     "output_type": "stream",
     "text": [
      "Sent 258 lines (8400 bytes) to lib/uasyncio/__init__.py.\n",
      "Sent 315 lines (9509 bytes) to lib/uasyncio/core.py.\n",
      "Sent 94 lines (2691 bytes) to lib/uasyncio/queues.py.\n",
      "Sent 28 lines (846 bytes) to lib/uasyncio/synchro.py.\n",
      "Sent 470 lines (14738 bytes) to asyn.py.\n",
      "Sent 231 lines (9406 bytes) to aswitch.py.\n",
      "Sent 660 lines (23451 bytes) to mqtt_as.py.\n",
      "Sent 72 lines (2314 bytes) to fmqttqueue.py.\n"
     ]
    }
   ],
   "source": [
    "# This requires you to checkout https://github.com/micropython/micropython-lib and avoids the upip\n",
    "%sendtofile --mkdir --source /home/julian/extrepositories/micropython-lib/uasyncio/uasyncio/__init__.py lib/uasyncio/\n",
    "%sendtofile --quiet --mkdir --source /home/julian/extrepositories/micropython-lib/uasyncio.core/uasyncio/core.py lib/uasyncio/\n",
    "%sendtofile --quiet --mkdir --source /home/julian/extrepositories/micropython-lib/uasyncio.queues/uasyncio/queues.py lib/uasyncio/\n",
    "%sendtofile --quiet --mkdir --source /home/julian/extrepositories/micropython-lib/uasyncio.synchro/uasyncio/synchro.py lib/uasyncio/\n",
    "\n",
    "# This requires you to checkout https://github.com/peterhinch/micropython-async\n",
    "%sendtofile --quiet --source /home/julian/extrepositories/micropython-async/asyn.py\n",
    "%sendtofile --quiet --source /home/julian/extrepositories/micropython-async/aswitch.py\n",
    "\n",
    "# This requires you to checkout https://github.com/peterhinch/micropython-mqtt/tree/master/mqtt_as\n",
    "%sendtofile --quiet --source /home/julian/extrepositories/micropython-mqtt/mqtt_as/mqtt_as.py\n",
    "\n",
    "# This is the wrapper code on the asynchronous mqtt\n",
    "%sendtofile --quiet --source fmqttqueue.py"
   ]
  },
  {
   "cell_type": "code",
   "execution_count": 28,
   "metadata": {},
   "outputs": [
    {
     "name": "stdout",
     "output_type": "stream",
     "text": [
      "serial exception on close write failed: [Errno 5] Input/output error\n",
      "\u001b[34mConnecting to --port=/dev/ttyUSB6 --baud=115200 \u001b[0m\n",
      "\u001b[34mReady.\n",
      "\u001b[0m"
     ]
    }
   ],
   "source": [
    "%serialconnect"
   ]
  },
  {
   "cell_type": "code",
   "execution_count": 29,
   "metadata": {},
   "outputs": [
    {
     "name": "stdout",
     "output_type": "stream",
     "text": [
      "Sent 5 lines (116 bytes) to config.txt.\n"
     ]
    }
   ],
   "source": [
    "%sendtofile config.txt\n",
    "\n",
    "wifiname     DoESLiverpool\n",
    "wifipassword decafbad00\n",
    "mqttbroker   mqtt.local\n",
    "pinled       25\n",
    "boardname    esp32silver2"
   ]
  },
  {
   "cell_type": "code",
   "execution_count": 46,
   "metadata": {},
   "outputs": [
    {
     "name": "stdout",
     "output_type": "stream",
     "text": [
      "Sent 5 lines (109 bytes) to config.txt.\n"
     ]
    }
   ],
   "source": [
    "%sendtofile config.txt\n",
    "\n",
    "wifiname     BV6000\n",
    "wifipassword bubblino\n",
    "mqttbroker   192.168.43.1\n",
    "pinled       25\n",
    "boardname    esp32skinny\n"
   ]
  },
  {
   "cell_type": "code",
   "execution_count": 56,
   "metadata": {},
   "outputs": [
    {
     "name": "stdout",
     "output_type": "stream",
     "text": [
      "Sent 5 lines (117 bytes) to config.txt.\n"
     ]
    }
   ],
   "source": [
    "%sendtofile config.txt\n",
    "\n",
    "wifiname     DoESLiverpool\n",
    "wifipassword decafbad00\n",
    "mqttbroker   mqtt.local\n",
    "pinled       25\n",
    "boardname    heltec2\n"
   ]
  },
  {
   "cell_type": "code",
   "execution_count": 8,
   "metadata": {},
   "outputs": [
    {
     "name": "stdout",
     "output_type": "stream",
     "text": [
      "Sent 5 lines (111 bytes) to config.txt.\n"
     ]
    }
   ],
   "source": [
    "%sendtofile config.txt\n",
    "\n",
    "wifiname     DoESLiverpool\n",
    "wifipassword decafbad00\n",
    "mqttbroker   10.0.30.130\n",
    "pinled       25\n",
    "boardname    ttgo2\n"
   ]
  },
  {
   "cell_type": "code",
   "execution_count": 8,
   "metadata": {},
   "outputs": [
    {
     "name": "stdout",
     "output_type": "stream",
     "text": [
      "Sent 5 lines (124 bytes) to config.txt.\n"
     ]
    }
   ],
   "source": [
    "%sendtofile config.txt\n",
    "\n",
    "wifiname     DoESLiverpool\n",
    "wifipassword decafbad00\n",
    "mqttbroker   julianlaptop.local\n",
    "pinled       2\n",
    "boardname    esp32silver3\n"
   ]
  },
  {
   "cell_type": "code",
   "execution_count": 3,
   "metadata": {},
   "outputs": [
    {
     "name": "stdout",
     "output_type": "stream",
     "text": [
      "Sent 5 lines (113 bytes) to config.txt.\n"
     ]
    }
   ],
   "source": [
    "%sendtofile config.txt\n",
    "\n",
    "wifiname     DoESLiverpool\n",
    "wifipassword decafbad00\n",
    "mqttbroker   mqtt.local\n",
    "pinled       25\n",
    "boardname    esp32co2\n"
   ]
  },
  {
   "cell_type": "code",
   "execution_count": 29,
   "metadata": {},
   "outputs": [
    {
     "name": "stdout",
     "output_type": "stream",
     "text": [
      "serial exception on close write failed: [Errno 5] Input/output error\n",
      "\u001b[34mConnecting to --port=/dev/ttyUSB2 --baud=115200 \u001b[0m\n",
      "\u001b[34mReady.\n",
      "\u001b[0m"
     ]
    }
   ],
   "source": [
    "%serialconnect"
   ]
  },
  {
   "cell_type": "code",
   "execution_count": 30,
   "metadata": {},
   "outputs": [
    {
     "name": "stdout",
     "output_type": "stream",
     "text": [
      "Sent 5 lines (107 bytes) to config.txt.\n"
     ]
    }
   ],
   "source": [
    "%sendtofile config.txt\n",
    "\n",
    "wifiname     JulianS9\n",
    "wifipassword beckaaaa\n",
    "mqttbroker   192.168.43.1\n",
    "pinled       25\n",
    "boardname    esp32co2"
   ]
  },
  {
   "cell_type": "code",
   "execution_count": 25,
   "metadata": {},
   "outputs": [
    {
     "name": "stdout",
     "output_type": "stream",
     "text": [
      "serial exception on close write failed: [Errno 5] Input/output error\n",
      "\u001b[34mConnecting to --port=/dev/ttyUSB6 --baud=115200 \u001b[0m\n",
      "\u001b[34mReady.\n",
      "\u001b[0m"
     ]
    }
   ],
   "source": [
    "%serialconnect"
   ]
  },
  {
   "cell_type": "code",
   "execution_count": 29,
   "metadata": {},
   "outputs": [
    {
     "name": "stdout",
     "output_type": "stream",
     "text": [
      "Sent 5 lines (122 bytes) to config.txt.\n"
     ]
    }
   ],
   "source": [
    "%sendtofile config.txt\n",
    "\n",
    "wifiname       DoESLiverpool\n",
    "wifipassword   decafbad00\n",
    "mqttbroker     mqtt.local\n",
    "boardname      whitesp\n",
    "pinled         25\n"
   ]
  },
  {
   "cell_type": "code",
   "execution_count": 14,
   "metadata": {},
   "outputs": [
    {
     "name": "stdout",
     "output_type": "stream",
     "text": [
      "serial exception on close write failed: [Errno 5] Input/output error\n",
      "\u001b[34mConnecting to --port=/dev/ttyUSB3 --baud=115200 \u001b[0m\n",
      "\u001b[34mReady.\n",
      "\u001b[0m"
     ]
    }
   ],
   "source": [
    "%serialconnect"
   ]
  },
  {
   "cell_type": "code",
   "execution_count": 15,
   "metadata": {},
   "outputs": [
    {
     "name": "stdout",
     "output_type": "stream",
     "text": [
      "Sent 113 lines (3853 bytes) to main.py.\n"
     ]
    }
   ],
   "source": [
    "%sendtofile main.py\n",
    "\n",
    "# full main.py\n",
    "# connect to the OLED and initialize (and get its i2c bus)\n",
    "from OLED_driver import i2c, fbuff, oledshow, doublepixels, fatntext\n",
    "#i2c = I2C(scl=Pin(15, Pin.OUT, Pin.PULL_UP), sda=Pin(4, Pin.OUT, Pin.PULL_UP), freq=450000)\n",
    "import machine, time, ubinascii\n",
    "\n",
    "from device_detection import IdentifyI2CDevice, IdentifyUARTDevice\n",
    "\n",
    "from machine import Pin, I2C\n",
    "import uasyncio as asyncio\n",
    "from fmqttqueue import FMQTTQueue\n",
    "\n",
    "fconfig = dict(x.split()  for x in open(\"config.txt\"))\n",
    "pled = Pin(int(fconfig[\"pinled\"]), Pin.OUT)\n",
    "boardname = fconfig[\"boardname\"]\n",
    "\n",
    "# change baud for some \n",
    "for n in range(5):\n",
    "    devices = IdentifyI2CDevice(i2c)\n",
    "    print(\"devices\", devices)\n",
    "    if devices:\n",
    "        break\n",
    "    time.sleep(0.3)\n",
    "\n",
    "if not devices:\n",
    "    uart = machine.UART(1, baudrate=9600, rx=13, tx=17)\n",
    "    # gps is 9600, bluefly is 57600  \n",
    "    devices = IdentifyUARTDevice(uart)\n",
    "    \n",
    "if not devices or boardname == \"esp32silver2\":\n",
    "    # Pin 13=D7 on esp8266\n",
    "    # dallas wiring: flat face towards you, \n",
    "    # left is ground, right is live, \n",
    "    # middle is signal with a 4.7k pullup resistor onto the live\n",
    "    # on string white=G, green=Live, red=signal\n",
    "    pd = 18 if boardname == \"esp32silver2\" else 13\n",
    "    import onewire, ds18x20\n",
    "    pindallas = machine.Pin(pd, Pin.OUT, Pin.PULL_UP)\n",
    "    dallasobj = ds18x20.DS18X20(onewire.OneWire(pindallas))\n",
    "    dallasscanned = dallasobj.scan()\n",
    "    if dallasscanned:\n",
    "        sdallasqorder = {347:0, 376:1, 448:2, 475:3, 576:4, 311:5, 406:6, 157:7}\n",
    "        dallasscanned.sort(key=lambda X: sdallasqorder.get(sum(X), 0))\n",
    "        devices.append(\"DS18B20 n=%d\"%len(dallasscanned))\n",
    "    print(\"dallas\", devices)\n",
    "        \n",
    "# this might look like a lot of code, but it's the complete \n",
    "# visual output of text and numbers that we do per sensor here\n",
    "devnames = [ ]\n",
    "for dev in devices:\n",
    "    devname, devdesc = dev.split(\" \", 1)\n",
    "    devnames.append(devname)\n",
    "    fbuff.fill(0)\n",
    "    fbuff.text(devname, 0, 0, 1)\n",
    "    fbuff.text(devdesc, 0, 12, 1)\n",
    "    doublepixels()\n",
    "    oledshow()\n",
    "    time.sleep(1)\n",
    "if not devices:\n",
    "    fbuff.fill(0)\n",
    "    fbuff.text(\"nothing\", 0, 0, 1)\n",
    "    fbuff.text(\"found\", 0, 8, 1)\n",
    "    fbuff.text(\"scl=15\", 0, 16, 1)\n",
    "    fbuff.text(\"sda=4\", 0, 24, 1)\n",
    "    doublepixels()\n",
    "    oledshow()\n",
    "    time.sleep(1)\n",
    "\n",
    "    \n",
    "# tasks all moved out to lower cell, for subsequent moving to _tasks.py files\n",
    "        \n",
    "async def IPnumber_task(fqm):\n",
    "    topicip = fconfig[\"boardname\"]+\"/ip\"\n",
    "    topicmac = fconfig[\"boardname\"]+\"/mac\"\n",
    "    while True:\n",
    "        if fqm.client and fqm.client.isconnected():\n",
    "            await fqm.client.publish(topicip, fqm.client._sta_if.ifconfig()[0], retain=True, qos=1)\n",
    "            await fqm.client.publish(topicmac, ubinascii.hexlify(fqm.client._sta_if.config('mac'),':').decode().upper(), retain=True, qos=1)\n",
    "            await asyncio.sleep_ms(60000)\n",
    "        else:\n",
    "            await asyncio.sleep_ms(1000)\n",
    "\n",
    "async def SI7021_task():\n",
    "    from SI7021_funcs import setupSI7021, SI7021humiditytemp\n",
    "    setupSI7021(i2c)\n",
    "    topichumid = fconfig[\"boardname\"]+\"/SI7021/humid\"\n",
    "    topictemp = fconfig[\"boardname\"]+\"/SI7021/temp\"\n",
    "    print(topictemp)\n",
    "    n = 0\n",
    "    while True:\n",
    "        h, t = SI7021humiditytemp()\n",
    "        print(h, n)\n",
    "        fbuff.fill(0)\n",
    "        fbuff.text(\"SI7021\", 0, 0, 1)\n",
    "        fbuff.text(\"humid:\", 0, 23, 1)\n",
    "        fatntext(\"%.1f\"%h, 50, 16)\n",
    "        fbuff.text(\"temp:\", 0, 53, 1)\n",
    "        fatntext(\"%.1f\"%t, 50, 46)\n",
    "        if fqm.rqueue:\n",
    "            fbuff.text(fqm.rqueue.popleft()[1].decode(), 0, 32)\n",
    "        oledshow()\n",
    "        if (n % 4) == 0:\n",
    "            fqm.fput(topichumid, \"%.1f\"%h)\n",
    "            fqm.fput(topictemp, \"%.1f\"%t)\n",
    "        n += 1\n",
    "        await asyncio.sleep_ms(250)\n",
    "        \n",
    "# setup and operation of the async loop\n",
    "fqm = FMQTTQueue(pled)\n",
    "fqm.setupmqttas(fconfig[\"wifiname\"], fconfig.get(\"wifipassword\", \"\"), fconfig[\"mqttbroker\"])\n",
    "fqm.addsubscription(fconfig[\"boardname\"]+\"/message\")\n",
    "\n",
    "aloop = asyncio.get_event_loop()\n",
    "aloop.create_task(fqm.fstreamtask())\n",
    "aloop.create_task(IPnumber_task(fqm))\n",
    "\n",
    "if \"TMP102\" in devnames:\n",
    "    aloop.create_task(TMP102_task())\n",
    "if \"SHT31D\" in devnames:\n",
    "    aloop.create_task(SHT31D_task())\n",
    "if \"TSL561\" in devnames:\n",
    "    aloop.create_task(TSL561_task())\n",
    "if \"MS5611\" in devnames:\n",
    "    aloop.create_task(MS5611_task())\n",
    "if \"CDM7160\" in devnames:\n",
    "    aloop.create_task(CDM7160_task())\n",
    "if \"DS18B20\" in devnames:\n",
    "    aloop.create_task(DS18B20_task())\n",
    "if \"BNO055\" in devnames:\n",
    "    aloop.create_task(BNO055_task())\n",
    "print(devnames)\n",
    "if \"SI7021\" in devnames:\n",
    "    aloop.create_task(SI7021_task())\n",
    "if \"MPU6050\" in devnames:\n",
    "    aloop.create_task(MPU6050_task())\n",
    "if \"MLX90614\" in devnames:\n",
    "    from Main_tasks import MLX90614_task\n",
    "    aloop.create_task(MLX90614_task(fqm, boardname, i2c))\n",
    "\n",
    "from Main_tasks import plotdevices\n",
    "aloop.run_until_complete(plotdevices(fqm, boardname, devname))\n",
    "plotdevices\n",
    "\n",
    "aloop.run_forever()\n"
   ]
  },
  {
   "cell_type": "code",
   "execution_count": null,
   "metadata": {},
   "outputs": [],
   "source": []
  },
  {
   "cell_type": "code",
   "execution_count": null,
   "metadata": {},
   "outputs": [],
   "source": []
  },
  {
   "cell_type": "code",
   "execution_count": null,
   "metadata": {},
   "outputs": [],
   "source": []
  },
  {
   "cell_type": "code",
   "execution_count": null,
   "metadata": {},
   "outputs": [],
   "source": []
  },
  {
   "cell_type": "code",
   "execution_count": null,
   "metadata": {},
   "outputs": [],
   "source": [
    "async def CDM7160_task():\n",
    "    from OLED_grapher import scrollinit, addscrollgraph, plotscrollgraph\n",
    "    from CDM7160_funcs import readCO2Filtered, setupCO2filters\n",
    "\n",
    "    topicco2 = fconfig[\"boardname\"]+\"/CDM7160\"\n",
    "    topicco2smooth = fconfig[\"boardname\"]+\"/CDM7160smooth\"\n",
    "    scrollinit()\n",
    "    setupCO2filters(i2c)\n",
    "    \n",
    "    while True:\n",
    "        pled.value(1)\n",
    "        await asyncio.sleep_ms(50)\n",
    "        pled.value(0)\n",
    "        n, co2ppm, filtco2ppm = readCO2Filtered()\n",
    "        print(n, co2ppm, filtco2ppm)\n",
    "        if co2ppm != 0.0:\n",
    "            fbuff.fill(0)\n",
    "            addscrollgraph(co2ppm, time.ticks_ms())\n",
    "            plotscrollgraph(fbuff)\n",
    "            fbuff.text(\"CO2 %d ppm\" % co2ppm, 0, 0)\n",
    "            oledshow()\n",
    "            fqm.fput(topicco2, \"%d\" % co2ppm)\n",
    "            fqm.fput(topicco2smooth, \"%d\" % filtco2ppm)\n",
    "            await asyncio.sleep_ms(3000)\n",
    "        else:\n",
    "            fbuff.fill(0)\n",
    "            fbuff.text(\"figaroCO2  BAD\", 0, 0)\n",
    "            fbuff.text(\"n=%d\"%n, 16, 8)\n",
    "            fbuff.text(\"%d\"%(-filtco2ppm), 8, 16)\n",
    "            doublepixels()\n",
    "            oledshow()\n",
    "            await asyncio.sleep_ms(1000)\n",
    "                \n",
    "                \n",
    "async def DS18B20_task():\n",
    "    topicds = [ fconfig[\"boardname\"]+\"/DS18B20/\"+str(i)  for i in range(len(dallasscanned)) ]\n",
    "    while True:\n",
    "        dallasobj.convert_temp()\n",
    "        await asyncio.sleep_ms(800)\n",
    "        fbuff.fill(0)\n",
    "        fbuff.text(\"DS18B20 temps\", 0, 0, 1)\n",
    "        for i, d in enumerate(dallasscanned):\n",
    "            try:\n",
    "                t = dallasobj.read_temp(d)\n",
    "            except Exception:\n",
    "                t = -100\n",
    "            if len(dallasscanned) != 1:\n",
    "                fbuff.text(\"%.2f\"%t, (i%2)*64, (i//2+2)*8, 1)\n",
    "            else:\n",
    "                fatntext(\"%.2f\"%t, 8, 20)\n",
    "            if t != -100:\n",
    "                fqm.fput(topicds[i], \"%.2f\"%t)\n",
    "        if fqm.rqueue:\n",
    "            topic, msg = fqm.rqueue.popleft()\n",
    "            fbuff.text(msg.decode(), 0, 56, 1)\n",
    "        oledshow()\n",
    "\n",
    "async def TMP102_task():\n",
    "    topic = fconfig[\"boardname\"]+\"/TMP102\"\n",
    "    n = 0\n",
    "    while True:\n",
    "        try:\n",
    "            r = i2c.readfrom_mem(0x48, 0x00, 2)\n",
    "            t = r[0] + r[1]/256\n",
    "            fbuff.fill(0)\n",
    "            fbuff.text(\"TMP102\", 0, 0, 1)\n",
    "            fbuff.text(\"temp:\", 0, 23, 1)\n",
    "            fatntext(\"%.03f\"%t, 30, 40)\n",
    "            if fqm.rqueue:\n",
    "                fbuff.text(fqm.rqueue.popleft()[1].decode(), 0, 56, 1)\n",
    "            oledshow()\n",
    "            if (n % 5) == 0:\n",
    "                fqm.fput(topic, \"%.03f\"%t)\n",
    "            n += 1\n",
    "        except OSError as e:\n",
    "            print(e, \"TMP102_task\")\n",
    "            await asyncio.sleep_ms(1000)\n",
    "        await asyncio.sleep_ms(100)\n",
    "            \n",
    "async def SHT31D_task():\n",
    "    topichumid = fconfig[\"boardname\"]+\"/SHT31D/humid\"\n",
    "    topictemp = fconfig[\"boardname\"]+\"/SHT31D/temp\"\n",
    "    n = 0\n",
    "    from SHT31D_funcs import SHT31Dsetup, readSHT31D\n",
    "    SHT31Dsetup(i2c)\n",
    "    while True:\n",
    "        try:\n",
    "            tmp, humid = readSHT31D()\n",
    "            fbuff.fill(0)\n",
    "            fbuff.text(\"SHT31-D\", 0, 0, 1)\n",
    "            fbuff.text(\"temperature:\", 10, 10, 1)\n",
    "            fatntext(\"%.2f\"%tmp, 20, 22)\n",
    "            fbuff.text(\"humidity:\", 10, 40, 1)\n",
    "            fatntext(\"%.2f\"%humid, 20, 50)\n",
    "            oledshow()\n",
    "            if (n % 5) == 0:\n",
    "                fqm.fput(topichumid, \"%.2f\"%humid)\n",
    "                fqm.fput(topictemp, \"%.2f\"%tmp)\n",
    "            n += 1\n",
    "        except OSError as e:\n",
    "            print(e, \"SHT31D_task\")\n",
    "            await asyncio.sleep_ms(1000)\n",
    "        await asyncio.sleep_ms(100)\n",
    "            \n",
    "async def TSL561_task():\n",
    "    from TSL561_funcs import setupTSL561, luminosity, setregtimings\n",
    "    topicbr = fconfig[\"boardname\"]+\"/TSL561/broad\"\n",
    "    topicir = fconfig[\"boardname\"]+\"/TSL561/ir\"\n",
    "    setupTSL561(i2c)\n",
    "    setregtimings(True, 1)\n",
    "    n = 0\n",
    "    while True:\n",
    "        try:\n",
    "            br, ir = luminosity()\n",
    "            fbuff.fill(0)\n",
    "            fbuff.text(\"TSL561\", 0, 0, 1)\n",
    "            fbuff.text(\"broad:\", 0, 23, 1)\n",
    "            fatntext(\"%d\"%br, 50, 16)\n",
    "            fbuff.text(\"ir:\", 0, 53, 1)\n",
    "            fatntext(\"%d\"%ir, 50, 46)\n",
    "            oledshow()\n",
    "            if (n % 10) == 0:\n",
    "                fqm.fput(topicir, \"%d\"%ir)\n",
    "                fqm.fput(topicbr, \"%d\"%br)\n",
    "            n += 1\n",
    "        except OSError as e:\n",
    "            print(e, \"TSL561_task\")\n",
    "            await asyncio.sleep_ms(1000)\n",
    "        await asyncio.sleep_ms(50)\n",
    "            \n",
    "async def MS5611_task():\n",
    "    from MS5611_funcs import ms5611setup, readMS5611\n",
    "    from OLED_grapher import scrollinit, addscrollgraph, plotscrollgraph\n",
    "    scrollinit()\n",
    "    topicbaro = fconfig[\"boardname\"]+\"/MS5611/baro\"\n",
    "    ms5611setup(i2c)\n",
    "    n = 0\n",
    "    while True:\n",
    "        try:\n",
    "            temp, pr = readMS5611()\n",
    "            #fbuff.fill(0)\n",
    "            #fbuff.text(\"TSL561\", 0, 0, 1)\n",
    "            #fbuff.text(\"temp:\", 0, 23, 1)\n",
    "            #fatntext(\"%f\"%temp, 50, 16)\n",
    "            #fbuff.text(\"prs:\", 0, 35, 1)\n",
    "            #fatntext(\"%f\"%pr, 0, 46)\n",
    "            addscrollgraph(pr, time.ticks_ms())\n",
    "            plotscrollgraph(fbuff)\n",
    "            oledshow()\n",
    "            if (n % 10) == 0:\n",
    "                fqm.fput(topicbaro, \"%f\"%pr)\n",
    "            n += 1\n",
    "        except OSError as e:\n",
    "            print(e, \"MS5611_task\")\n",
    "            await asyncio.sleep_ms(1000)\n",
    "        await asyncio.sleep_ms(10)\n",
    "\n",
    "async def BNO055_task():\n",
    "    from BNO055serial_funcs import InitBNO055, BNO055absorientation, BNO055calibstat\n",
    "    binit = False\n",
    "    while True:\n",
    "        fbuff.fill(0)\n",
    "        calibstat = None\n",
    "        try:\n",
    "            if not binit:\n",
    "                InitBNO055(uart)\n",
    "                binit = True\n",
    "            pitch, roll, orient = BNO055absorientation()\n",
    "            calibstat = BNO055calibstat()\n",
    "        except Exception as e:\n",
    "            fbuff.text(\"BNO055\", 0, 0, 1)\n",
    "            fbuff.text(e.args[0], 0, 16, 1)\n",
    "        if calibstat is not None:  \n",
    "            fbuff.text(\"BNO055 :{0:08b}\".format(calibstat), 0, 0, 1)\n",
    "            fbuff.text(\"pitch:\", 8, 16, 1)\n",
    "            fatntext(\"%d\"%int(pitch), 64, 10)\n",
    "            fbuff.text(\"roll:\", 16, 32, 1)\n",
    "            fatntext(\"%d\"%int(roll), 64, 28)\n",
    "            fbuff.text(\"orient:\", 0, 52, 1)\n",
    "            fatntext(\"%d\"%int(orient), 64, 48)\n",
    "        oledshow()\n",
    "        await asyncio.sleep_ms(100)\n",
    "        \n",
    "async def SI7021_task():\n",
    "    from SI7021_funcs import setupSI7021, SI7021humiditytemp\n",
    "    setupSI7021(i2c)\n",
    "    topichumid = fconfig[\"boardname\"]+\"/SI7021/humid\"\n",
    "    topictemp = fconfig[\"boardname\"]+\"/SI7021/temp\"\n",
    "    print(topictemp)\n",
    "    n = 0\n",
    "    while True:\n",
    "        h, t = SI7021humiditytemp()\n",
    "        print(h, n)\n",
    "        fbuff.fill(0)\n",
    "        fbuff.text(\"SI7021\", 0, 0, 1)\n",
    "        fbuff.text(\"humid:\", 0, 23, 1)\n",
    "        fatntext(\"%.1f\"%h, 50, 16)\n",
    "        fbuff.text(\"temp:\", 0, 53, 1)\n",
    "        fatntext(\"%.1f\"%t, 50, 46)\n",
    "        if fqm.rqueue:\n",
    "            fbuff.text(fqm.rqueue.popleft()[1].decode(), 0, 32)\n",
    "        oledshow()\n",
    "        if (n % 4) == 0:\n",
    "            fqm.fput(topichumid, \"%.1f\"%h)\n",
    "            fqm.fput(topictemp, \"%.1f\"%t)\n",
    "        n += 1\n",
    "        await asyncio.sleep_ms(250)\n",
    "        \n",
    "async def MPU6050_task():\n",
    "    from MPU6050_funcs import setupDMP, calibgyros, calibacc\n",
    "    from MPU6050_funcs import getFIFOCount, setDMPEnabled, getIntStatus, readfifoBuffer, ConvertQuatToEuler\n",
    "    import ustruct\n",
    "    \n",
    "    setupDMP(i2c, \"MPU6050_dmpMemoryv6.hex\")\n",
    "    calibgyros((80, -14, 30))\n",
    "    calibacc((582, 951, 1692))\n",
    "\n",
    "    topicorient = fconfig[\"boardname\"]+\"/MPU6050/orient\"\n",
    "    print(topicorient)\n",
    "    setDMPEnabled(True)\n",
    "    n = 0\n",
    "    while True:\n",
    "        fifoBuffer = None\n",
    "        fifoCount = getFIFOCount()\n",
    "        if fifoCount >= 900:\n",
    "            setDMPEnabled(True)  # reset the fifo buffer\n",
    "        while getFIFOCount() >= 28:\n",
    "            fifoBuffer = readfifoBuffer(28)\n",
    "        if fifoBuffer is not None:\n",
    "            n += 1\n",
    "            q0, l, q1, l, q2, l, q3, l = ustruct.unpack(\">hhhhhhhh\", fifoBuffer)\n",
    "            pitch, roll, orient = ConvertQuatToEuler(q0, q1, q2, q3)\n",
    "            fqm.fput(topicorient, \"%.4f %.4f %.4f\"%(pitch, roll, orient))\n",
    "            await asyncio.sleep_ms(1)\n",
    "        else:\n",
    "            await asyncio.sleep_ms(5)\n"
   ]
  },
  {
   "cell_type": "code",
   "execution_count": 11,
   "metadata": {},
   "outputs": [
    {
     "name": "stdout",
     "output_type": "stream",
     "text": [
      "serial exception on close write failed: [Errno 5] Input/output error\n",
      "\u001b[34mConnecting to --port=/dev/ttyUSB3 --baud=115200 \u001b[0m\n",
      "\u001b[34mReady.\n",
      "\u001b[0m"
     ]
    }
   ],
   "source": [
    "%serialconnect"
   ]
  },
  {
   "cell_type": "code",
   "execution_count": null,
   "metadata": {},
   "outputs": [],
   "source": []
  },
  {
   "cell_type": "code",
   "execution_count": null,
   "metadata": {},
   "outputs": [],
   "source": []
  },
  {
   "cell_type": "code",
   "execution_count": 12,
   "metadata": {},
   "outputs": [
    {
     "name": "stdout",
     "output_type": "stream",
     "text": [
      "Sent 84 lines (2813 bytes) to main.py.\n"
     ]
    }
   ],
   "source": [
    "%sendtofile main.py\n",
    "\n",
    "# co2sensor main.py\n",
    "# connect to the OLED and initialize (and get its i2c bus)\n",
    "from OLED_driver import i2c, fbuff, oledshow, doublepixels, fatntext\n",
    "import machine, time, ubinascii\n",
    "\n",
    "from device_detection import IdentifyI2CDevice, IdentifyUARTDevice\n",
    "\n",
    "from machine import Pin, I2C\n",
    "import uasyncio as asyncio\n",
    "from fmqttqueue import FMQTTQueue\n",
    "\n",
    "fconfig = dict(x.split()  for x in open(\"config.txt\"))\n",
    "pled = Pin(int(fconfig[\"pinled\"]), Pin.OUT)\n",
    "\n",
    "# change baud for some \n",
    "for n in range(5):\n",
    "    devices = IdentifyI2CDevice(i2c)\n",
    "    print(\"devices\", devices)\n",
    "    if devices:\n",
    "        break\n",
    "    time.sleep(0.3)\n",
    "        \n",
    "if not devices:\n",
    "    devices.append(\"nothing found scl=15 sda=4\")\n",
    "devnames = [ dev.split(\" \", 1)[0]  for dev in devices ]\n",
    "\n",
    "async def CDM7160_task():\n",
    "    from OLED_grapher import scrollinit, addscrollgraph, plotscrollgraph\n",
    "    from CDM7160_funcs import readCO2Filtered, setupCO2filters\n",
    "\n",
    "    topicco2 = fconfig[\"boardname\"]+\"/CDM7160\"\n",
    "    topicco2smooth = fconfig[\"boardname\"]+\"/CDM7160smooth\"\n",
    "    scrollinit()\n",
    "    setupCO2filters(i2c)\n",
    "    \n",
    "    while True:\n",
    "        pled.value(1)\n",
    "        await asyncio.sleep_ms(50)\n",
    "        pled.value(0)\n",
    "        n, co2ppm, filtco2ppm = readCO2Filtered()\n",
    "        print(n, co2ppm, filtco2ppm)\n",
    "        if co2ppm != 0.0:\n",
    "            fbuff.fill(0)\n",
    "            addscrollgraph(co2ppm, time.ticks_ms())\n",
    "            plotscrollgraph(fbuff)\n",
    "            fbuff.text(\"CO2 %d ppm\" % co2ppm, 0, 0)\n",
    "            oledshow()\n",
    "            fqm.fput(topicco2, \"%d\" % co2ppm)\n",
    "            fqm.fput(topicco2smooth, \"%d\" % filtco2ppm)\n",
    "            await asyncio.sleep_ms(3000)\n",
    "        else:\n",
    "            fbuff.fill(0)\n",
    "            fbuff.text(\"figaroCO2  BAD\", 0, 0)\n",
    "            fbuff.text(\"n=%d\"%n, 16, 8)\n",
    "            fbuff.text(\"%d\"%(-filtco2ppm), 8, 16)\n",
    "            doublepixels()\n",
    "            oledshow()\n",
    "            await asyncio.sleep_ms(1000)\n",
    "                \n",
    "        \n",
    "async def IPnumber_task(fqm):\n",
    "    topicip = fconfig[\"boardname\"]+\"/ip\"\n",
    "    topicmac = fconfig[\"boardname\"]+\"/mac\"\n",
    "    while True:\n",
    "        if fqm.client and fqm.client.isconnected():\n",
    "            await fqm.client.publish(topicip, fqm.client._sta_if.ifconfig()[0], retain=True, qos=1)\n",
    "            await fqm.client.publish(topicmac, ubinascii.hexlify(fqm.client._sta_if.config('mac'),':').decode().upper(), retain=True, qos=1)\n",
    "            await asyncio.sleep_ms(60000)\n",
    "        else:\n",
    "            await asyncio.sleep_ms(1000)\n",
    "\n",
    "        \n",
    "# setup and operation of the async loop\n",
    "fqm = FMQTTQueue(pled)\n",
    "fqm.setupmqttas(fconfig[\"wifiname\"], fconfig.get(\"wifipassword\", \"\"), fconfig[\"mqttbroker\"])\n",
    "fqm.addsubscription(fconfig[\"boardname\"]+\"/message\")\n",
    "\n",
    "aloop = asyncio.get_event_loop()\n",
    "aloop.create_task(fqm.fstreamtask())\n",
    "aloop.create_task(IPnumber_task(fqm))\n",
    "\n",
    "if \"CDM7160\" in devnames:\n",
    "    aloop.create_task(CDM7160_task())\n",
    "aloop.run_forever()\n"
   ]
  },
  {
   "cell_type": "code",
   "execution_count": 17,
   "metadata": {},
   "outputs": [
    {
     "name": "stdout",
     "output_type": "stream",
     "text": [
      "\u001b[34mConnecting to --port=/dev/ttyUSB4 --baud=115200 \u001b[0m\n",
      "\u001b[34mReady.\n",
      "\u001b[0m"
     ]
    }
   ],
   "source": [
    "%serialconnect"
   ]
  },
  {
   "cell_type": "code",
   "execution_count": 40,
   "metadata": {},
   "outputs": [
    {
     "name": "stdout",
     "output_type": "stream",
     "text": [
      "[60, 91] 43\r\n"
     ]
    }
   ],
   "source": [
    "print(i2c.scan(), 0x2b)"
   ]
  },
  {
   "cell_type": "code",
   "execution_count": 42,
   "metadata": {},
   "outputs": [
    {
     "name": "stdout",
     "output_type": "stream",
     "text": [
      "0xaa 0x81\r\n"
     ]
    }
   ],
   "source": [
    "config = i2c.readfrom_mem(0x5B, 0x25, 2)\n",
    "print(hex(config[0]), hex(config[1]))"
   ]
  },
  {
   "cell_type": "code",
   "execution_count": 52,
   "metadata": {},
   "outputs": [],
   "source": [
    "# Got bored trying to get this MLX90614 working\n",
    "def checkCRC(k, mask):  # mask (matching nibble) different in case\n",
    "    inCrc = 0\n",
    "    for inData in [k[0], k[1]]:\n",
    "        data = inCrc ^ inData;\n",
    "        data <<= 8 \n",
    "        for i in range(8):\n",
    "            if (( data & 0x8000 ) != 0 ):\n",
    "                data = data ^ (0x1070 << 3)\n",
    "            data = data << 1\n",
    "        inCrc = data >> 8\n",
    "    return (inCrc & mask) == (k[2]&mask)\n",
    "\n",
    "def mlx90614temps(i2c, addr=0x5a):\n",
    "    try:\n",
    "        ka = i2c.readfrom_mem(addr, 0x06, 3)\n",
    "        ki = i2c.readfrom_mem(addr, 0x07, 3)\n",
    "        print(ka, ki)\n",
    "        bcrcgood = (checkCRC(ka, 0x0F) and checkCRC(ki, 0xF0))\n",
    "        if ki[0] == 0 and ki[1] == 0:\n",
    "            bcrcgood = False\n",
    "    except OSError:\n",
    "        bcrcgood = False\n",
    "    if bcrcgood:\n",
    "        tempAmbient = (ka[0]+ka[1]*256)*0.02 - 273.15\n",
    "        tempIR = (ki[0]+ki[1]*256)*0.02 - 273.15\n",
    "        return tempAmbient, tempIR\n",
    "    return None, None\n",
    "    "
   ]
  },
  {
   "cell_type": "code",
   "execution_count": 54,
   "metadata": {},
   "outputs": [
    {
     "name": "stdout",
     "output_type": "stream",
     "text": [
      "b'\\xb7\\x81\\xd4' b'\\xb7\\x81_'\r\n"
     ]
    }
   ],
   "source": [
    "addr = 0x5b\n",
    "ka = i2c.readfrom_mem(addr, 0x06, 3)\n",
    "ki = i2c.readfrom_mem(addr, 0x07, 3)\n",
    "print(ka, ki)"
   ]
  },
  {
   "cell_type": "code",
   "execution_count": null,
   "metadata": {},
   "outputs": [],
   "source": [
    "\n",
    "\n",
    "\n",
    "\n",
    "        \n",
    "if devname == \"MLX90621\":\n",
    "    fbuff.text(\"11\", 50, 50, 1)\n",
    "    oledshow()\n",
    "    from MLX90621_funcs import measure, cellfillplot\n",
    "    fbuff.text(\"22\", 59, 50, 1)\n",
    "    oledshow()\n",
    "    while True:\n",
    "        temperatures = measure()\n",
    "        tmin = min(temperatures)\n",
    "        tmax = max(tmin+0.001, max(temperatures))\n",
    "        fbuff.fill(0)\n",
    "        fbuff.text(\"MLX90621\", 0, 0, 1)\n",
    "        for i in range(64):\n",
    "            cellfillplot(fbuff, i//4, 1+(3-(i%4)), ((temperatures[i] - tmin)/(tmax - tmin))**2)\n",
    "        fbuff.text(\"min=%.3f\"%tmin, 12, 48)\n",
    "        fbuff.text(\"max=%.3f\"%tmax, 12, 56)\n",
    "        oledshow()\n",
    "\n",
    "if devname == \"PX4PITOT\":\n",
    "    while True:\n",
    "        k = i2c.readfrom(0x28, 4)\n",
    "        status = k[0] & 0xC0; \n",
    "        fbuff.fill(0)\n",
    "        fbuff.text(\"PX4PITOT\", 0, 0, 1)\n",
    "        if status != 0xC0:\n",
    "            rawpress = ((k[0] & 0x3F) << 8) | (k[1]) \n",
    "            rawtemp = (k[2] << 3) | (k[3] >> 5)\n",
    "            psi = (rawpress)*(1.0/(0x3FFF*0.4)) - 1.25\n",
    "            diffpressure = psi*6894.75728\n",
    "            temp = (rawtemp)*(200.0/0x7FF) - 50\n",
    "            #airspeed = math.sqrt(abs(2*getdiffpressure())/1.2);\n",
    "            fbuff.text(\"diffpress:\", 10, 10, 1)\n",
    "            fatntext(\"%.2f\"%diffpressure, 20, 22)\n",
    "            fbuff.text(\"temp:\", 10, 40, 1)\n",
    "            fatntext(\"%.2f\"%temp, 20, 50)\n",
    "        else:\n",
    "            fbuff.text(\"BAD\", 20, 20, 1)\n",
    "        oledshow()\n",
    "        time.sleep(0.2)\n",
    "        \n",
    "        \n",
    "if devname == \"GPS\":\n",
    "    while True:\n",
    "        x = uart.readline()\n",
    "        if x is not None:\n",
    "            fbuff.fill(0)\n",
    "            fbuff.text(\"GPS serial\", 0, 0, 1)\n",
    "            x = x.strip()\n",
    "            for i in range(len(x)//16 + 1):\n",
    "                fbuff.text(x[i*16:i*16+16], 0, 15+i*8, 1)\n",
    "            oledshow()\n",
    "            time.sleep_ms(100)\n",
    "        time.sleep_ms(50)\n"
   ]
  },
  {
   "cell_type": "code",
   "execution_count": null,
   "metadata": {},
   "outputs": [],
   "source": [
    "        \n",
    "# read any GPS serial signals on \n",
    "fbuff.text(\"Znone\", 120, 56, 1)\n",
    "oledshow()\n",
    "time.sleep(2.0)\n",
    "\n",
    "from OLED_grapher import scrollinit, addscrollgraph, plotscrollgraph\n",
    "scrollinit()\n",
    "a = machine.ADC(machine.Pin(36))  # Pin4 from top left\n",
    "a.atten(a.ATTN_11DB)\n",
    "a.width(a.WIDTH_12BIT)\n",
    "while True:\n",
    "    v = a.read()\n",
    "    addscrollgraph(v, time.ticks_ms())\n",
    "    plotscrollgraph(fbuff)\n",
    "    fbuff.text(\"ADCPin36\",0,0,1)\n",
    "    fbuff.text(str(v),0,8,1)\n",
    "    oledshow()\n",
    "time.sleep(0.1)\n",
    "    "
   ]
  },
  {
   "cell_type": "code",
   "execution_count": null,
   "metadata": {},
   "outputs": [],
   "source": [
    "%sendtofile main.py\n",
    "\n",
    "from machine import Pin, PWM, ADC\n",
    "import time\n",
    "\n",
    "p2 = Pin(2, Pin.OUT)\n",
    "pA = Pin(5, Pin.OUT)\n",
    "pB = Pin(16, Pin.OUT)\n",
    "\n",
    "a = ADC(Pin(34, Pin.IN))\n",
    "a.width(ADC.WIDTH_12BIT)\n",
    "a.atten(ADC.ATTN_11DB)\n",
    "\n",
    "def gopos(pos):\n",
    "    for i in range(100):\n",
    "        d = (a.read() - pos)\n",
    "        if abs(d) > 40:\n",
    "            di = 1 if d < 0 else 0\n",
    "            pA.value(di)\n",
    "            pB.value(1-di)\n",
    "            p2.value(1)\n",
    "        else:\n",
    "            p2.value(0)\n",
    "            break\n",
    "        time.sleep(0.01)\n",
    "    print(a.read())\n",
    "\n",
    "import random\n",
    "while True:\n",
    "    pos = random.uniform(500, 3500)\n",
    "    gopos(pos)\n",
    "    time.sleep(0.5)\n"
   ]
  }
 ],
 "metadata": {
  "kernelspec": {
   "display_name": "MicroPython - USB",
   "language": "micropython",
   "name": "micropython"
  },
  "language_info": {
   "codemirror_mode": "python",
   "file_extension": ".py",
   "mimetype": "text/python",
   "name": "micropython"
  }
 },
 "nbformat": 4,
 "nbformat_minor": 2
}
