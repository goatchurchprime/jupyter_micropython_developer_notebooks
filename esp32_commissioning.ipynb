{
 "cells": [
  {
   "cell_type": "code",
   "execution_count": 4,
   "metadata": {
    "scrolled": true
   },
   "outputs": [
    {
     "name": "stdout",
     "output_type": "stream",
     "text": [
      "\u001b[31m\n",
      "\n",
      "***Connection broken [Input/output error]\n",
      "\u001b[0mYou may need to reconnect\u001b[34m\n",
      "Closing serial Serial<id=0x7fb0bd3a1d50, open=True>(port='/dev/ttyUSB6', baudrate=115200, bytesize=8, parity='N', stopbits=1, timeout=0.5, xonxoff=False, rtscts=False, dsrdtr=False)\n",
      "\u001b[0m\u001b[34mExecuting:\n",
      "  esptool.py --port /dev/ttyUSB8 erase_flash\n",
      "\n",
      "\u001b[0mesptool.py v2.8\n",
      "Serial port /dev/ttyUSB8\n",
      "Connecting....\n",
      "\u001b[34m[Press the PRG button now if required]\n",
      "\u001b[0mDetecting chip type... ESP32\n",
      "Chip is ESP32D0WDQ6 (revision 1)\n",
      "Features: WiFi, BT, Dual Core, Coding Scheme None\n",
      "Crystal is 40MHz\n",
      "MAC: 30:ae:a4:0a:7b:58\n",
      "Uploading stub...\n",
      "Running stub...\n",
      "Stub running...\n",
      "Erasing flash (this may take a while)...\n",
      "Chip erase completed successfully in 1.9s\n",
      "Hard resetting via RTS pin...\n"
     ]
    }
   ],
   "source": [
    "%esptool erase"
   ]
  },
  {
   "cell_type": "code",
   "execution_count": 5,
   "metadata": {
    "scrolled": true
   },
   "outputs": [
    {
     "name": "stdout",
     "output_type": "stream",
     "text": [
      "\u001b[34mExecuting:\n",
      "  esptool.py --port /dev/ttyUSB8 --chip esp32 write_flash -z 0x1000 /home/julian/executables/micropythonbins/esp32-idf4-20200124-v1.12-87-g96716b46e.bin\n",
      "\n",
      "\u001b[0mesptool.py v2.8\n",
      "Serial port /dev/ttyUSB8\n",
      "Connecting....\n",
      "\u001b[34m[Press the PRG button now if required]\n",
      "\u001b[0mChip is ESP32D0WDQ6 (revision 1)\n",
      "Features: WiFi, BT, Dual Core, Coding Scheme None\n",
      "Crystal is 40MHz\n",
      "MAC: 30:ae:a4:0a:7b:58\n",
      "Uploading stub...\n",
      "Running stub...\n",
      "Stub running...\n",
      "Configuring flash size...\n",
      "Auto-detected Flash size: 4MB\n",
      "Compressed 1408048 bytes to 894163...\n",
      "Wrote 1408048 bytes (894163 compressed) at 0x00001000 in 79.4 seconds (effective 142.0 kbit/s)...\n",
      "Hash of data verified.\n",
      "\n",
      "Leaving...\n",
      "Hard resetting via RTS pin...\n"
     ]
    }
   ],
   "source": [
    "# download your bin file from here:  \n",
    "# https://micropython.org/download\n",
    "#%esptool esp32 /home/julian/executables/micropythonbins/esp32-ppp-fix.bin\n",
    "#%esptool esp32 /home/julian/executables/micropythonbins/esp32-bluetooth.bin\n",
    "#%esptool esp32 /home/julian/executables/micropythonbins/esp32-20191006-v1.11-406-g4a6974bea.bin\n",
    "%esptool esp32 /home/julian/executables/micropythonbins/esp32-idf4-20200124-v1.12-87-g96716b46e.bin\n",
    "\n"
   ]
  },
  {
   "cell_type": "code",
   "execution_count": 6,
   "metadata": {},
   "outputs": [
    {
     "name": "stdout",
     "output_type": "stream",
     "text": [
      "\u001b[34mConnecting to --port=/dev/ttyUSB8 --baud=115200 \u001b[0m\n",
      "\n",
      "**[ys] <class 'serial.serialutil.SerialException'>\n",
      "**[ys] read failed: device reports readiness to read but returned no data (device disconnected or multiple access on port?)\n",
      "\n",
      "\n",
      "**[ys] <class 'serial.serialutil.SerialException'>\n",
      "**[ys] read failed: device reports readiness to read but returned no data (device disconnected or multiple access on port?)\n",
      "\n",
      "\u001b[34mReady.\n",
      "\u001b[0m"
     ]
    }
   ],
   "source": [
    "%serialconnect"
   ]
  },
  {
   "cell_type": "code",
   "execution_count": 8,
   "metadata": {},
   "outputs": [
    {
     "name": "stdout",
     "output_type": "stream",
     "text": [
      "\u001b[34mConnecting to --port=/dev/ttyUSB6 --baud=115200 \u001b[0m\n",
      "\u001b[34mReady.\n",
      "\u001b[0m__main__          gc                uctypes           urequests\n",
      "_boot             inisetup          uerrno            uselect\n",
      "_onewire          machine           uhashlib          usocket\n",
      "_thread           math              uhashlib          ussl\n",
      "_webrepl          micropython       uheapq            ustruct\n",
      "apa106            neopixel          uio               utime\n",
      "btree             network           ujson             utimeq\n",
      "builtins          ntptime           umqtt/robust      uwebsocket\n",
      "cmath             onewire           umqtt/simple      uzlib\n",
      "dht               sys               uos               webrepl\n",
      "ds18x20           uarray            upip              webrepl_setup\n",
      "esp               ubinascii         upip_utarfile     websocket_helper\n",
      "esp32             ubluetooth        upysh\n",
      "flashbdev         ucollections      urandom\n",
      "framebuf          ucryptolib        ure\n",
      "Plus any modules on the filesystem\n"
     ]
    }
   ],
   "source": [
    "%serialconnect\n",
    "help(\"modules\")"
   ]
  },
  {
   "cell_type": "code",
   "execution_count": null,
   "metadata": {},
   "outputs": [],
   "source": []
  },
  {
   "cell_type": "code",
   "execution_count": null,
   "metadata": {},
   "outputs": [],
   "source": [
    "# This requires you to checkout https://github.com/peterhinch/micropython-mqtt/tree/master/mqtt_as\n",
    "%sendtofile --source /home/julian/extrepositories/micropython-mqtt/mqtt_as/mqtt_as.py\n"
   ]
  },
  {
   "cell_type": "code",
   "execution_count": 7,
   "metadata": {},
   "outputs": [
    {
     "name": "stdout",
     "output_type": "stream",
     "text": [
      "\u001b[34mattempt to exit paste mode\n",
      "\u001b[0m\u001b[34m[\\r\\x03\\x02] \u001b[0mb'\\r\\nMicroPython v1.11-406-g4a6974bea on 2019-10-06; ESP32 module with ESP32\\r\\nType \"help()\" for more information.\\r\\n>>> '\u001b[34m\n",
      "Closing serial Serial<id=0x7f3ca9122470, open=True>(port='/dev/ttyUSB1', baudrate=115200, bytesize=8, parity='N', stopbits=1, timeout=0.5, xonxoff=False, rtscts=False, dsrdtr=False)\n",
      "\u001b[0m"
     ]
    }
   ],
   "source": [
    "%disconnect"
   ]
  },
  {
   "cell_type": "code",
   "execution_count": 8,
   "metadata": {},
   "outputs": [
    {
     "name": "stdout",
     "output_type": "stream",
     "text": [
      "\u001b[34mConnecting to --port=/dev/ttyUSB1 --baud=115200 \u001b[0m\n",
      "\u001b[34mReady.\n",
      "\u001b[0m"
     ]
    }
   ],
   "source": [
    "%serialconnect"
   ]
  },
  {
   "cell_type": "code",
   "execution_count": 9,
   "metadata": {},
   "outputs": [
    {
     "name": "stdout",
     "output_type": "stream",
     "text": [
      "\n",
      "Brownout detector was tpets Jun  8 2016 00:22:57\n",
      "\n",
      "rst:0xc (SW_CPU_RESET),boot:0x13 (SPI_FAST_FLASH_BOOT)\n",
      "configsip: 0, SPIWP:0xee\n",
      "clk_drv:0x00,q_drv:0x00,d_drv:0x00,cs0_drv:0x00,hd_drv:0x00,wp_drv:0x00\n",
      "mode:DIO, clock div:2\n",
      "load:0x3fff0018,len:4\n",
      "load:0x3fff001c,len:4928\n",
      "ho 0 tail 12 room 4\n",
      "load:0x40078000,len:9656\n",
      "ho 0 tail 12 room 4\n",
      "load:0x40080400,len:6252\n",
      "csum err:0x37!=0x9c\n",
      "Falling back to built-in command interpreter.\n",
      "OK\n",
      ">ets Jun  8 2016 00:22:57\n",
      "\n",
      "rst:0x10 (RTCWDT_RTC_RESET),boot:0x13 (SPI_FAST_FLASH_BOOT)\n",
      "configsip: 0, SPIWP:0xee\n",
      "clk_drv:0x00,q_drv:0x00,d_drv:0x00,cs0_drv:0x00,hd_drv:0x00,wp_drv:0x00\n",
      "mode:DIO, clock div:2\n",
      "load:0x3fff0018,len:4\n",
      "load:0x3fff001c,len:4928\n",
      "ho 0 tail 12 room 4\n",
      "load:0x40078000,len:9656\n",
      "ho 0 tail 12 room 4\n",
      "load:0x40080400,len:6252\n",
      "csum err:0x56!=0x9c\n",
      "Falling back to built-in command interpreter.\n",
      "OK\n",
      ">ets Jun  8 2016 00:22:57\n",
      "\n",
      "rst:0x10 (RTCWDT_RTC_RESET),boot:0x13 (SPI_FAST_FLASH_BOOT)\n",
      "configsip: 0, SPIWP:0xee\n",
      "clk_drv:0x00,q_drv:0x00,d_drv:0x00,cs0_drv:0x00,hd_drv:0x00,wp_drv:0x00\n",
      "mode:DIO, clock div:2\n",
      "load:0x3fff0018,len:4\n",
      "load:0x3fff001c,len:4928\n",
      "ho 0 tail 12 room 4\n",
      "load:0x40078000,len:9656\n",
      "ho 0 tail 12 room 4\n",
      "load:0x40080400,len:6252\n",
      "csum err:0xcc!=0x9c\n",
      "Falling back to built-in command interpreter.\n",
      "OK\n",
      ">ets Jun  8 2016 00:22:57\n",
      "\n",
      "rst:0x10 (RTCWDT_RTC_RESET),boot:0x13 (SPI_FAST_FLASH_BOOT)\n",
      "configsip: 0, SPIWP:0xee\n",
      "clk_drv:0x00,q_drv:0x00,d_drv:0x00,cs0_drv:0x00,hd_drv:0x00,wp_drv:0x00\n",
      "mode:DIO, clock div:2\n",
      "load:0x3fff0018,len:4\n",
      "load:0x3fff001c,len:4928\n",
      "ho 0 tail 12 room 4\n",
      "load:0x40078000,len:9656\n",
      "ho 0 tail 12 room 4\n",
      "load:0x40080400,len:6252\n",
      "csum err:0xcc!=0x9c\n",
      "Falling back to built-in command interpreter.\n",
      "OK\n",
      ">ets Jun  8 2016 00:22:57\n",
      "\n",
      "rst:0x10 (RTCWDT_RTC_RESET),boot:0x13 (SPI_FAST_FLASH_BOOT)\n",
      "configsip: 0, SPIWP:0xee\n",
      "clk_drv:0x00,q_drv:0x00,d_drv:0x00,cs0_drv:0x00,hd_drv:0x00,wp_drv:0x00\n",
      "mode:DIO, clock div:2\n",
      "load:0x3fff0018,len:4\n",
      "load:0x3fff001c,len:4928\n",
      "ho 0 tail 12 room 4\n",
      "load:0x40078000,len:9656\n",
      "ho 0 tail 12 room 4\n",
      "load:0x40080400,len:6252\n",
      "csum err:0xcc!=0x9c\n",
      "Falling back to built-in command interpreter.\n",
      "OK\n",
      ">ets Jun  8 2016 00:22:57\n",
      "\n",
      "rst:0x10 (RTCWDT_RTC_RESET),boot:0x13 (SPI_FAST_FLASH_BOOT)\n",
      "configsip: 0, SPIWP:0xee\n",
      "clk_drv:0x00,q_drv:0x00,d_drv:0x00,cs0_drv:0x00,hd_drv:0x00,wp_drv:0x00\n",
      "mode:DIO, clock div:2\n",
      "load:0x3fff0018,len:4\n",
      "load:0x3fff001c,len:4928\n",
      "ho 0 tail 12 room 4\n",
      "load:0x40078000,len:9656\n",
      "ho 0 tail 12 room 4\n",
      "load:0x40080400,len:6252\n",
      "csum err:0xcc!=0x9c\n",
      "Falling back to built-in command interpreter.\n",
      "OK\n",
      ">ets Jun  8 2016 00:22:57\n",
      "\n",
      "rst:0x10 (RTCWDT_RTC_RESET),boot:0x13 (SPI_FAST_FLASH_BOOT)\n",
      "configsip: 0, SPIWP:0xee\n",
      "clk_drv:0x00,q_drv:0x00,d_drv:0x00,cs0_drv:0x00,hd_drv:0x00,wp_drv:0x00\n",
      "mode:DIO, clock div:2\n",
      "load:0x3fff0018,len:4\n",
      "load:0x3fff001c,len:4928\n",
      "ho 0 tail 12 room 4\n",
      "load:0x40078000,len:9656\n",
      "ho 0 tail 12 room 4\n",
      "load:0x40080400,len:6252\n",
      "entry 0x400806f4\n",
      "\u001b[0;31mE (441) esp_image: Checksum failed. Calculated 0x35 read 0xb\u001b[0m\n",
      "\u001b[0;31mE (442) boot: Factory app partition is not bootable\u001b[0m\n",
      "\u001b[0;31mE (442) boot: No bootable app partitions in the partition table\u001b[0m\n",
      "ets Jun  8 2016 00:22:57\n",
      "\n",
      "rst:0x3 (SW_RESET),boot:0x13 (SPI_FAST_FLASH_BOOT)\n",
      "configsip: 0, SPIWP:0xee\n",
      "clk_drv:0x00,q_drv:0x00,d_drv:0x00,cs0_drv:0x00,hd_drv:0x00,wp_drv:0x00\n",
      "mode:DIO, clock div:2\n",
      "load:0x3fff0018,len:4\n",
      "load:0x3fff001c,len:4928\n",
      "ho 0 tail 12 room 4\n",
      "load:0x40078000,len:9656\n",
      "ho 0 tail 12 room 4\n",
      "load:0x40080400,len:6252\n",
      "csum err:0x0b!=0x9c\n",
      "Falling back to built-in command interpreter.\n",
      "OK\n",
      ">ets Jun  8 2016 00:22:57\n",
      "\n",
      "rst:0x7 (TG0WDT_SYS_RESET),boot:0x13 (SPI_FAST_FLASH_BOOT)\n",
      "configsip: 0, SPIWP:0xee\n",
      "clk_drv:0x00,q_drv:0x00,d_drv:0x00,cs0_drv:0x00,hd_drv:0x00,wp_drv:0x00\n",
      "mode:DIO, clock div:2\n",
      "load:0x3fff0018,len:4\n",
      "load:0x3fff001c,len:4928\n",
      "ho 0 tail 12 room 4\n",
      "load:0x40078000,len:9656\n",
      "ho 0 tail 12 room 4\n",
      "load:0x40080400,len:6252\n",
      "csum err:0x0b!=0x9c\n",
      "Falling back to built-in command interpreter.\n",
      "OK\n",
      ">ets Jun  8 2016 00:22:57\n",
      "\n",
      "rst:0x7 (TG0WDT_SYS_RESET),boot:0x13 (SPI_FAST_FLASH_BOOT)\n",
      "configsip: 0, SPIWP:0xee\n",
      "clk_drv:0x00,q_drv:0x00,d_drv:0x00,cs0_drv:0x00,hd_drv:0x00,wp_drv:0x00\n",
      "mode:DIO, clock div:2\n",
      "load:0x3fff0018,len:4\n",
      "load:0x3fff001c,len:4928\n",
      "ho 0 tail 12 room 4\n",
      "load:0x40078000,len:9656\n",
      "ho 0 tail 12 room 4\n",
      "load:0x40080400,len:6252\n",
      "csum err:0xbb!=0x9c\n",
      "Falling back to built-in command interpreter.\n",
      "OK\n",
      ">ets Jun  8 2016 00:22:57\n",
      "\n",
      "rst:0x7 (TG0WDT_SYS_RESET),boot:0x13 (SPI_FAST_FLASH_BOOT)\n",
      "configsip: 0, SPIWP:0xee\n",
      "clk_drv:0x00,q_drv:0x00,d_drv:0x00,cs0_drv:0x00,hd_drv:0x00,wp_drv:0x00\n",
      "mode:DIO, clock div:2\n",
      "load:0x3fff0018,len:4\n",
      "load:0x3fff001c,len:4928\n",
      "ho 0 tail 12 room 4\n",
      "load:0x40078000,len:9656\n",
      "ho 0 tail 12 room 4\n",
      "load:0x40080400,len:6252\n",
      "csum err:0xbb!=0x9c\n",
      "Falling back to built-in command interpreter.\n",
      "OK\n",
      ">ets Jun  8 2016 00:22:57\n",
      "\n",
      "rst:0x7 (TG0WDT_SYS_RESET),boot:0x13 (SPI_FAST_FLASH_BOOT)\n",
      "configsip: 0, SPIWP:0xee\n",
      "clk_drv:0x00,q_drv:0x00,d_drv:0x00,cs0_drv:0x00,hd_drv:0x00,wp_drv:0x00\n",
      "mode:DIO, clock div:2\n",
      "load:0x3fff0018,len:4\n",
      "load:0x3fff001c,len:4928\n",
      "ho 0 tail 12 room 4\n",
      "load:0x40078000,len:9656\n",
      "ho 0 tail 12 room 4\n",
      "load:0x40080400,len:6252\n",
      "csum err:0x4e!=0x9c\n",
      "Falling back to built-in command interpreter.\n",
      "OK\n",
      ">ets Jun  8 2016 00:22:57\n",
      "\n",
      "rst:0x7 (TG0WDT_SYS_RESET),boot:0x13 (SPI_FAST_FLASH_BOOT)\n",
      "configsip: 0, SPIWP:0xee\n",
      "clk_drv:0x00,q_drv:0x00,d_drv:0x00,cs0_drv:0x00,hd_drv:0x00,wp_drv:0x00\n",
      "mode:DIO, clock div:2\n",
      "load:0x3fff0018,len:4\n",
      "load:0x3fff001c,len:4928\n",
      "ho 0 tail 12 room 4\n",
      "load:0x40078000,len:9656\n",
      "ho 0 tail 12 room 4\n",
      "load:0x40080400,len:6252\n",
      "csum err:0x0b!=0x9c\n",
      "Falling back to built-in command interpreter.\n",
      "OK\n",
      ">ets Jun  8 2016 00:22:57\n",
      "\n",
      "rst:0x7 (TG0WDT_SYS_RESET),boot:0x13 (SPI_FAST_FLASH_BOOT)\n",
      "configsip: 0, SPIWP:0xee\n",
      "clk_drv:0x00,q_drv:0x00,d_drv:0x00,cs0_drv:0x00,hd_drv:0x00,wp_drv:0x00\n",
      "mode:DIO, clock div:2\n",
      "load:0x3fff0018,len:4\n",
      "load:0x3fff001c,len:4928\n",
      "ho 0 tail 12 room 4\n",
      "load:0x40078000,len:9656\n",
      "ho 0 tail 12 room 4\n",
      "load:0x40080400,len:6252\n",
      "csum err:0x0b!=0x9c\n",
      "Falling back to built-in command interpreter.\n",
      "OK\n",
      ">ets Jun  8 2016 00:22:57\n",
      "\n",
      "rst:0x7 (TG0WDT_SYS_RESET),boot:0x13 (SPI_FAST_FLASH_BOOT)\n",
      "configsip: 0, SPIWP:0xee\n",
      "clk_drv:0x00,q_drv:0x00,d_drv:0x00,cs0_drv:0x00,hd_drv:0x00,wp_drv:0x00\n",
      "mode:DIO, clock div:2\n",
      "load:0x3fff0018,len:4\n",
      "load:0x3fff001c,len:4928\n",
      "ho 0 tail 12 room 4\n",
      "load:0x40078000,len:9656\n",
      "ho 0 tail 12 room 4\n",
      "load:0x40080400,len:6252\n",
      "csum err:0x0b!=0x9c\n",
      "Falling back to built-in command interpreter.\n",
      "OK\n",
      ">ets Jun  8 2016 00:22:57\n",
      "\n",
      "rst:0x7 (TG0WDT_SYS_RESET),boot:0x13 (SPI_FAST_FLASH_BOOT)\n",
      "configsip: 0, SPIWP:0xee\n",
      "clk_drv:0x00,q_drv:0x00,d_drv:0x00,cs0_drv:0x00,hd_drv:0x00,wp_drv:0x00\n",
      "mode:DIO, clock div:2\n",
      "load:0x3fff0018,len:4\n",
      "load:0x3fff001c,len:4928\n",
      "ho 0 tail 12 room 4\n",
      "load:0x40078000,len:9656\n",
      "ho 0 tail 12 room 4\n",
      "load:0x40080400,len:6252\n",
      "csum err:0xeb!=0x9c\n",
      "Falling back to built-in command interpreter.\n",
      "OK\n",
      ">ets Jun  8 2016 00:22:57\n",
      "\n",
      "rst:0x7 (TG0WDT_SYS_RESET),boot:0x13 (SPI_FAST_FLASH_BOOT)\n",
      "configsip: 0, SPIWP:0xee\n",
      "clk_drv:0x00,q_drv:0x00,d_drv:0x00,cs0_drv:0x00,hd_drv:0x00,wp_drv:0x00\n",
      "mode:DIO, clock div:2\n",
      "load:0x3fff0018,len:4\n",
      "load:0x3fff001c,len:4928\n",
      "ho 0 tail 12 room 4\n",
      "load:0x40078000,len:9656\n",
      "ho 0 tail 12 room 4\n",
      "load:0x40080400,len:6252\n",
      "csum err:0x09!=0x9c\n",
      "Falling back to built-in command interpreter.\n",
      "OK\n",
      ">ets Jun  8 2016 00:22:57\n",
      "\n",
      "rst:0x7 (TG0WDT_SYS_RESET),boot:0x13 (SPI_FAST_FLASH_BOOT)\n",
      "configsip: 0, SPIWP:0xee\n",
      "clk_drv:0x00,q_drv:0x00,d_drv:0x00,cs0_drv:0x00,hd_drv:0x00,wp_drv:0x00\n",
      "mode:DIO, clock div:2\n",
      "load:0x3fff0018,len:4\n",
      "load:0x3fff001c,len:4928\n",
      "ho 0 tail 12 room 4\n",
      "load:0x40078000,len:9656\n",
      "ho 0 tail 12 room 4\n",
      "load:0x40080400,len:6252\n",
      "csum err:0x0b!=0x9c\n",
      "Falling back to built-in command interpreter.\n",
      "OK\n",
      ">ets Jun  8 2016 00:22:57\n",
      "\n",
      "rst:0x7 (TG0WDT_SYS_RESET),boot:0x13 (SPI_FAST_FLASH_BOOT)\n",
      "configsip: 0, SPIWP:0xee\n",
      "clk_drv:0x00,q_drv:0x00,d_drv:0x00,cs0_drv:0x00,hd_drv:0x00,wp_drv:0x00\n",
      "mode:DIO, clock div:2\n",
      "load:0x3fff0018,len:4\n",
      "load:0x3fff001c,len:4928\n",
      "ho 0 tail 12 room 4\n",
      "load:0x40078000,len:9656\n",
      "ho 0 tail 12 room 4\n",
      "load:0x40080400,len:6252\n",
      "csum err:0x0b!=0x9c\n",
      "Falling back to built-in command interpreter.\n",
      "OK\n",
      ">ets Jun  8 2016 00:22:57\n",
      "\n",
      "rst:0x7 (TG0WDT_SYS_RESET),boot:0x13 (SPI_FAST_FLASH_BOOT)\n",
      "configsip: 0, SPIWP:0xee\n",
      "clk_drv:0x00,q_drv:0x00,d_drv:0x00,cs0_drv:0x00,hd_drv:0x00,wp_drv:0x00\n",
      "mode:DIO, clock div:2\n",
      "load:0x3fff0018,len:4\n"
     ]
    },
    {
     "name": "stdout",
     "output_type": "stream",
     "text": [
      "load:0x3fff001c,len:4928\n",
      "ho 0 tail 12 room 4\n",
      "load:0x40078000,len:9656\n",
      "ho 0 tail 12 room 4\n",
      "load:0x40080400,len:6252\n",
      "csum err:0x0b!=0x9c\n",
      "Falling back to built-in command interpreter.\n",
      "OK\n",
      ">ets Jun  8 2016 00:22:57\n",
      "\n",
      "rst:0x7 (TG0WDT_SYS_RESET),boot:0x13 (SPI_FAST_FLASH_BOOT)\n",
      "configsip: 0, SPIWP:0xee\n",
      "clk_drv:0x00,q_drv:0x00,d_drv:0x00,cs0_drv:0x00,hd_drv:0x00,wp_drv:0x00\n",
      "mode:DIO, clock div:2\n",
      "load:0x3fff0018,len:4\n",
      "load:0x3fff001c,len:4928\n",
      "ho 0 tail 12 room 4\n",
      "load:0x40078000,len:9656\n",
      "ho 0 tail 12 room 4\n",
      "load:0x40080400,len:6252\n",
      "csum err:0x03!=0x9c\n",
      "Falling back to built-in command interpreter.\n",
      "OK\n",
      ">ets Jun  8 2016 00:22:57\n",
      "\n",
      "rst:0x7 (TG0WDT_SYS_RESET),boot:0x13 (SPI_FAST_FLASH_BOOT)\n",
      "configsip: 0, SPIWP:0xee\n",
      "clk_drv:0x00,q_drv:0x00,d_drv:0x00,cs0_drv:0x00,hd_drv:0x00,wp_drv:0x00\n",
      "mode:DIO, clock div:2\n",
      "load:0x3fff0018,len:4\n",
      "load:0x3fff001c,len:4928\n",
      "ho 0 tail 12 room 4\n",
      "load:0x40078000,len:9656\n",
      "ho 0 tail 12 room 4\n",
      "load:0x40080400,len:6252\n",
      "csum err:0xcb!=0x9c\n",
      "Falling back to built-in command interpreter.\n",
      "OK\n",
      ">ets Jun  8 2016 00:22:57\n",
      "\n",
      "rst:0x7 (TG0WDT_SYS_RESET),boot:0x13 (SPI_FAST_FLASH_BOOT)\n",
      "configsip: 0, SPIWP:0xee\n",
      "clk_drv:0x00,q_drv:0x00,d_drv:0x00,cs0_drv:0x00,hd_drv:0x00,wp_drv:0x00\n",
      "mode:DIO, clock div:2\n",
      "load:0x3fff0018,len:4\n",
      "load:0x3fff001c,len:4928\n",
      "ho 0 tail 12 room 4\n",
      "load:0x40078000,len:9656\n",
      "ho 0 tail 12 room 4\n",
      "load:0x40080400,len:6252\n",
      "csum err:0x0b!=0x9c\n",
      "Falling back to built-in command interpreter.\n",
      "OK\n",
      ">ets Jun  8 2016 00:22:57\n",
      "\n",
      "rst:0x7 (TG0WDT_SYS_RESET),boot:0x13 (SPI_FAST_FLASH_BOOT)\n",
      "configsip: 0, SPIWP:0xee\n",
      "clk_drv:0x00,q_drv:0x00,d_drv:0x00,cs0_drv:0x00,hd_drv:0x00,wp_drv:0x00\n",
      "mode:DIO, clock div:2\n",
      "load:0x3fff0018,len:4\n",
      "load:0x3fff001c,len:4928\n",
      "ho 0 tail 12 room 4\n",
      "load:0x40078000,len:9656\n",
      "ho 0 tail 12 room 4\n",
      "load:0x40080400,len:6252\n",
      "csum err:0x0b!=0x9c\n",
      "Falling back to built-in command interpreter.\n",
      "OK\n",
      ">ets Jun  8 2016 00:22:57\n",
      "\n",
      "rst:0x7 (TG0WDT_SYS_RESET),boot:0x13 (SPI_FAST_FLASH_BOOT)\n",
      "configsip: 0, SPIWP:0xee\n",
      "clk_drv:0x00,q_drv:0x00,d_drv:0x00,cs0_drv:0x00,hd_drv:0x00,wp_drv:0x00\n",
      "mode:DIO, clock div:2\n",
      "load:0x3fff0018,len:4\n",
      "load:0x3fff001c,len:4928\n",
      "ho 0 tail 12 room 4\n",
      "load:0x40078000,len:9656\n",
      "ho 0 tail 12 room 4\n",
      "load:0x40080400,len:6252\n",
      "csum err:0x0b!=0x9c\n",
      "Falling back to built-in command interpreter.\n",
      "OK\n",
      ">ets Jun  8 2016 00:22:57\n",
      "\n",
      "rst:0x7 (TG0WDT_SYS_RESET),boot:0x13 (SPI_FAST_FLASH_BOOT)\n",
      "configsip: 0, SPIWP:0xee\n",
      "clk_drv:0x00,q_drv:0x00,d_drv:0x00,cs0_drv:0x00,hd_drv:0x00,wp_drv:0x00\n",
      "mode:DIO, clock div:2\n",
      "load:0x3fff0018,len:4\n",
      "load:0x3fff001c,len:4928\n",
      "ho 0 tail 12 room 4\n",
      "load:0x40078000,len:9656\n",
      "ho 0 tail 12 room 4\n",
      "load:0x40080400,len:6252\n",
      "csum err:0x0b!=0x9c\n",
      "Falling back to built-in command interpreter.\n",
      "OK\n",
      ">ets Jun  8 2016 00:22:57\n",
      "\n",
      "rst:0x7 (TG0WDT_SYS_RESET),boot:0x13 (SPI_FAST_FLASH_BOOT)\n",
      "configsip: 0, SPIWP:0xee\n",
      "clk_drv:0x00,q_drv:0x00,d_drv:0x00,cs0_drv:0x00,hd_drv:0x00,wp_drv:0x00\n",
      "mode:DIO, clock div:2\n",
      "load:0x3fff0018,len:4\n",
      "load:0x3fff001c,len:4928\n",
      "ho 0 tail 12 room 4\n",
      "load:0x40078000,len:9656\n",
      "ho 0 tail 12 room 4\n",
      "load:0x40080400,len:6252\n",
      "csum err:0xd0!=0x9c\n",
      "Falling back to built-in command interpreter.\n",
      "OK\n",
      ">ets Jun  8 2016 00:22:57\n",
      "\n",
      "rst:0x7 (TG0WDT_SYS_RESET),boot:0x13 (SPI_FAST_FLASH_BOOT)\n",
      "configsip: 0, SPIWP:0xee\n",
      "clk_drv:0x00,q_drv:0x00,d_drv:0x00,cs0_drv:0x00,hd_drv:0x00,wp_drv:0x00\n",
      "mode:DIO, clock div:2\n",
      "load:0x3fff0018,len:4\n",
      "load:0x3fff001c,len:4928\n",
      "ho 0 tail 12 room 4\n",
      "load:0x40078000,len:9656\n",
      "ho 0 tail 12 room 4\n",
      "load:0x40080400,len:6252\n",
      "csum err:0x0b!=0x9c\n",
      "Falling back to built-in command interpreter.\n",
      "OK\n",
      ">ets Jun  8 2016 00:22:57\n",
      "\n",
      "rst:0x7 (TG0WDT_SYS_RESET),boot:0x13 (SPI_FAST_FLASH_BOOT)\n",
      "configsip: 0, SPIWP:0xee\n",
      "clk_drv:0x00,q_drv:0x00,d_drv:0x00,cs0_drv:0x00,hd_drv:0x00,wp_drv:0x00\n",
      "mode:DIO, clock div:2\n",
      "load:0x3fff0018,len:4\n",
      "load:0x3fff001c,len:4928\n",
      "ho 0 tail 12 room 4\n",
      "load:0x40078000,len:9656\n",
      "ho 0 tail 12 room 4\n",
      "load:0x40080400,len:6252\n",
      "csum err:0x0b!=0x9c\n",
      "Falling back to built-in command interpreter.\n",
      "OK\n",
      ">ets Jun  8 2016 00:22:57\n",
      "\n",
      "rst:0x7 (TG0WDT_SYS_RESET),boot:0x13 (SPI_FAST_FLASH_BOOT)\n",
      "configsip: 0, SPIWP:0xee\n",
      "clk_drv:0x00,q_drv:0x00,d_drv:0x00,cs0_drv:0x00,hd_drv:0x00,wp_drv:0x00\n",
      "mode:DIO, clock div:2\n",
      "load:0x3fff0018,len:4\n",
      "load:0x3fff001c,len:4928\n",
      "ho 0 tail 12 room 4\n",
      "load:0x40078000,len:9656\n",
      "ho 0 tail 12 room 4\n",
      "load:0x40080400,len:6252\n",
      "csum err:0x0b!=0x9c\n",
      "Falling back to built-in command interpreter.\n",
      "OK\n",
      ">ets Jun  8 2016 00:22:57\n",
      "\n",
      "rst:0x7 (TG0WDT_SYS_RESET),boot:0x13 (SPI_FAST_FLASH_BOOT)\n",
      "configsip: 0, SPIWP:0xee\n",
      "clk_drv:0x00,q_drv:0x00,d_drv:0x00,cs0_drv:0x00,hd_drv:0x00,wp_drv:0x00\n",
      "mode:DIO, clock div:2\n",
      "load:0x3fff0018,len:4\n",
      "load:0x3fff001c,len:4928\n",
      "ho 0 tail 12 room 4\n",
      "load:0x40078000,len:9656\n",
      "ho 0 tail 12 room 4\n",
      "load:0x40080400,len:6252\n",
      "csum err:0xc0!=0x9c\n",
      "Falling back to built-in command interpreter.\n",
      "OK\n",
      ">ets Jun  8 2016 00:22:57\n",
      "\n",
      "rst:0x7 (TG0WDT_SYS_RESET),boot:0x13 (SPI_FAST_FLASH_BOOT)\n",
      "configsip: 0, SPIWP:0xee\n",
      "clk_drv:0x00,q_drv:0x00,d_drv:0x00,cs0_drv:0x00,hd_drv:0x00,wp_drv:0x00\n",
      "mode:DIO, clock div:2\n",
      "load:0x3fff0018,len:4\n",
      "load:0x3fff001c,len:4928\n",
      "ho 0 tail 12 room 4\n",
      "load:0x40078000,len:9656\n",
      "ho 0 tail 12 room 4\n",
      "load:0x40080400,len:6252\n",
      "csum err:0x0b!=0x9c\n",
      "Falling back to built-in command interpreter.\n",
      "OK\n",
      ">ets Jun  8 2016 00:22:57\n",
      "\n",
      "rst:0x7 (TG0WDT_SYS_RESET),boot:0x13 (SPI_FAST_FLASH_BOOT)\n",
      "configsip: 0, SPIWP:0xee\n",
      "clk_drv:0x00,q_drv:0x00,d_drv:0x00,cs0_drv:0x00,hd_drv:0x00,wp_drv:0x00\n",
      "mode:DIO, clock div:2\n",
      "load:0x3fff0018,len:4\n",
      "load:0x3fff001c,len:4928\n",
      "ho 0 tail 12 room 4\n",
      "load:0x40078000,len:9656\n",
      "ho 0 tail 12 room 4\n",
      "load:0x40080400,len:6252\n",
      "csum err:0x0b!=0x9c\n",
      "Falling back to built-in command interpreter.\n",
      "OK\n",
      ">ets Jun  8 2016 00:22:57\n",
      "\n",
      "rst:0x7 (TG0WDT_SYS_RESET),boot:0x13 (SPI_FAST_FLASH_BOOT)\n",
      "configsip: 0, SPIWP:0xee\n",
      "clk_drv:0x00,q_drv:0x00,d_drv:0x00,cs0_drv:0x00,hd_drv:0x00,wp_drv:0x00\n",
      "mode:DIO, clock div:2\n",
      "load:0x3fff0018,len:4\n",
      "load:0x3fff001c,len:4928\n",
      "ho 0 tail 12 room 4\n",
      "load:0x40078000,len:9656\n",
      "ho 0 tail 12 room 4\n",
      "load:0x40080400,len:6252\n",
      "csum err:0x0b!=0x9c\n",
      "Falling back to built-in command interpreter.\n",
      "OK\n",
      ">ets Jun  8 2016 00:22:57\n",
      "\n",
      "rst:0x7 (TG0WDT_SYS_RESET),boot:0x13 (SPI_FAST_FLASH_BOOT)\n",
      "configsip: 0, SPIWP:0xee\n",
      "clk_drv:0x00,q_drv:0x00,d_drv:0x00,cs0_drv:0x00,hd_drv:0x00,wp_drv:0x00\n",
      "mode:DIO, clock div:2\n",
      "load:0x3fff0018,len:4\n",
      "load:0x3fff001c,len:4928\n",
      "ho 0 tail 12 room 4\n",
      "load:0x40078000,len:9656\n",
      "ho 0 tail 12 room 4\n",
      "load:0x40080400,len:6252\n",
      "csum err:0x0b!=0x9c\n",
      "Falling back to built-in command interpreter.\n",
      "OK\n",
      ">ets Jun  8 2016 00:22:57\n",
      "\n",
      "rst:0x7 (TG0WDT_SYS_RESET),boot:0x13 (SPI_FAST_FLASH_BOOT)\n",
      "configsip: 0, SPIWP:0xee\n",
      "clk_drv:0x00,q_drv:0x00,d_drv:0x00,cs0_drv:0x00,hd_drv:0x00,wp_drv:0x00\n",
      "mode:DIO, clock div:2\n",
      "load:0x3fff0018,len:4\n",
      "load:0x3fff001c,len:4928\n",
      "ho 0 tail 12 room 4\n",
      "load:0x40078000,len:9656\n",
      "ho 0 tail 12 room 4\n",
      "load:0x40080400,len:6252\n",
      "csum err:0x0b!=0x9c\n",
      "Falling back to built-in command interpreter.\n",
      "OK\n",
      ">ets Jun  8 2016 00:22:57\n",
      "\n",
      "rst:0x7 (TG0WDT_SYS_RESET),boot:0x13 (SPI_FAST_FLASH_BOOT)\n",
      "configsip: 0, SPIWP:0xee\n",
      "clk_drv:0x00,q_drv:0x00,d_drv:0x00,cs0_drv:0x00,hd_drv:0x00,wp_drv:0x00\n",
      "mode:DIO, clock div:2\n",
      "load:0x3fff0018,len:4\n",
      "load:0x3fff001c,len:4928\n",
      "b'ho 0 tail 12 room \\xffets Jun  8 2016 00:22:57\\r\\n'\n",
      "rst:0x10 (RTCWDT_RTC_RESET),boot:0x13 (SPI_FAST_FLASH_BOOT)\n",
      "configsip: 0, SPIWP:0xee\n",
      "clk_drv:0x00,q_drv:0x00,d_drv:0x00,cs0_drv:0x00,hd_drv:0x00,wp_drv:0x00\n",
      "mode:DIO, clock div:2\n",
      "load:0x3fff0018,len:4\n",
      "load:0x3fff001c,len:4928\n",
      "ho 0 tail 12 room 4\n",
      "load:0x40078000,len:9656\n",
      "ho 0 tail 12 room 4\n",
      "load:0x40080400,len:6252\n",
      "entry 0x400806f4\n",
      "\u001b[34m\n",
      "\n",
      "*** Sending Ctrl-C\n",
      "\n",
      "\u001b[0mMicroPython v1.11-406-g4a6974bea on 2019-10-06; ESP32 module with ESP32\n",
      "Type \"help()\" for more information.\n",
      ">>>[reboot detected 0]repl is in normal command mode\n",
      "[\\r\\x03\\x03] b'\\r\\n>>> '\n",
      "[\\r\\x01] b'\\r\\n>>> \\r\\nraw REPL; CTRL-B to exit\\r\\n>' "
     ]
    }
   ],
   "source": [
    "import network\n",
    "w = network.WLAN()\n",
    "w.active(1)\n"
   ]
  },
  {
   "cell_type": "code",
   "execution_count": 7,
   "metadata": {},
   "outputs": [],
   "source": [
    "import machine\n",
    "i2c = machine.I2C(scl=machine.Pin(15), sda=machine.Pin(4), freq=450000)\n"
   ]
  },
  {
   "cell_type": "code",
   "execution_count": 8,
   "metadata": {},
   "outputs": [
    {
     "name": "stdout",
     "output_type": "stream",
     "text": [
      "[104]\r\n"
     ]
    }
   ],
   "source": [
    "print(i2c.scan())"
   ]
  },
  {
   "cell_type": "code",
   "execution_count": 12,
   "metadata": {},
   "outputs": [
    {
     "name": "stdout",
     "output_type": "stream",
     "text": [
      "object <module 'bluetooth'> is of type module\n",
      "  __name__ -- bluetooth\n",
      "  Bluetooth -- <class 'Bluetooth'>\n",
      "  Service -- <class 'Service'>\n",
      "  Characteristic -- <class 'Characteristic'>\n",
      "  FLAG_READ -- 2\n",
      "  FLAG_WRITE -- 8\n",
      "  FLAG_NOTIFY -- 16\n"
     ]
    }
   ],
   "source": [
    "import bluetooth\n",
    "help(bluetooth)"
   ]
  },
  {
   "cell_type": "code",
   "execution_count": 13,
   "metadata": {},
   "outputs": [
    {
     "name": "stdout",
     "output_type": "stream",
     "text": [
      "----\r\n"
     ]
    }
   ],
   "source": [
    "import bluetooth\n",
    "bt = bluetooth.Bluetooth()\n",
    "bt.active(1)\n",
    "bt.advertise(100, 'MicroPython999')\n",
    "print('----')\n",
    "tx = bluetooth.Characteristic('6E400002-B5A3-F393-E0A9-E50E24DCCA9E', bluetooth.FLAG_READ|bluetooth.FLAG_NOTIFY)\n",
    "rx = bluetooth.Characteristic('6E400003-B5A3-F393-E0A9-E50E24DCCA9E', bluetooth.FLAG_WRITE)\n",
    "s = bt.add_service('6E400001-B5A3-F393-E0A9-E50E24DCCA9E', [tx, rx])\n",
    "\n",
    "def callback(char, data):\n",
    "    print('data:', data)\n",
    "\n",
    "rx.on_update(callback)\n"
   ]
  },
  {
   "cell_type": "code",
   "execution_count": null,
   "metadata": {},
   "outputs": [],
   "source": [
    "import network\n",
    "\n",
    "si = network.WLAN(network.AP_IF) # create access-point interface\n",
    "si.active(True)         # activate the interface\n",
    "\n",
    "# no idea what this does\n",
    "#si.config(essid='ESP-AP') # set the ESSID of the access point\n",
    "print(si.ifconfig())\n",
    "# it also intermittently prints out wifi events\n",
    "\n",
    "espname = \"ESP_{}\".format(\"\".join(hex(x)[-2:]  for x in si.config(\"mac\")[-3:]))\n",
    "print(\"\\nPlease connect to wifi {}\".format(espname))"
   ]
  },
  {
   "cell_type": "code",
   "execution_count": null,
   "metadata": {},
   "outputs": [],
   "source": []
  },
  {
   "cell_type": "code",
   "execution_count": null,
   "metadata": {},
   "outputs": [],
   "source": []
  },
  {
   "cell_type": "code",
   "execution_count": 10,
   "metadata": {},
   "outputs": [
    {
     "name": "stdout",
     "output_type": "stream",
     "text": [
      "\u001b[34mConnecting to --port=/dev/ttyUSB0 --baud=115200 \u001b[0m\n",
      "\u001b[34mReady.\n",
      "\u001b[0m"
     ]
    }
   ],
   "source": [
    "%serialconnect"
   ]
  },
  {
   "cell_type": "code",
   "execution_count": 11,
   "metadata": {},
   "outputs": [
    {
     "name": "stdout",
     "output_type": "stream",
     "text": [
      "object <module 'webrepl'> is of type module\n",
      "  start_foreground -- <function start_foreground at 0x3ffe5230>\n",
      "  websocket_helper -- <module 'websocket_helper'>\n",
      "  accept_conn -- <function accept_conn at 0x3ffe51d0>\n",
      "  setup_conn -- <function setup_conn at 0x3ffe51c0>\n",
      "  client_s -- None\n",
      "  stop -- <function stop at 0x3ffe51e0>\n",
      "  uwebsocket -- <module 'uwebsocket'>\n",
      "  __name__ -- webrepl\n",
      "  socket -- <module 'usocket'>\n",
      "  _webrepl -- <module '_webrepl'>\n",
      "  listen_s -- None\n",
      "  network -- <module 'network'>\n",
      "  start -- <function start at 0x3ffe5200>\n",
      "  uos -- <module 'uos'>\n"
     ]
    }
   ],
   "source": [
    "import webrepl\n",
    "help(webrepl)\n"
   ]
  },
  {
   "cell_type": "code",
   "execution_count": 10,
   "metadata": {},
   "outputs": [
    {
     "name": "stdout",
     "output_type": "stream",
     "text": [
      "__main__          framebuf          re                upip\n",
      "_boot             gc                select            upip_utarfile\n",
      "_onewire          hashlib           socket            upysh\n",
      "_thread           heapq             ssl               urandom\n",
      "apa106            inisetup          struct            ure\n",
      "array             io                sys               urequests\n",
      "binascii          json              time              uselect\n",
      "btree             machine           ubinascii         usocket\n",
      "builtins          math              ucollections      ussl\n",
      "cmath             micropython       uctypes           ustruct\n",
      "collections       neopixel          uerrno            utime\n",
      "dht               network           uhashlib          utimeq\n",
      "ds18x20           ntptime           uheapq            uzlib\n",
      "errno             onewire           uio               websocket\n",
      "esp               os                ujson             zlib\n",
      "flashbdev         random            uos\n",
      "Plus any modules on the filesystem\n"
     ]
    }
   ],
   "source": [
    "help(\"modules\")"
   ]
  },
  {
   "cell_type": "code",
   "execution_count": 8,
   "metadata": {},
   "outputs": [
    {
     "name": "stdout",
     "output_type": "stream",
     "text": [
      "\u001b[34mattempt to exit paste mode\n",
      "\u001b[0m\u001b[34m[\\r\\x03\\x02] \u001b[0mb'\\r\\nMicroPython v1.9.3-603-gfb7dabb9 on 2018-05-02; ESP32 module with ESP32\\r\\nType \"help()\" for more information.\\r\\n>>> '\u001b[34m\n",
      "Closing serial Serial<id=0x7fadde8eb160, open=True>(port='/dev/ttyUSB6', baudrate=115200, bytesize=8, parity='N', stopbits=1, timeout=0.5, xonxoff=False, rtscts=False, dsrdtr=False)\n",
      "\u001b[0m"
     ]
    }
   ],
   "source": [
    "%disconnect"
   ]
  },
  {
   "cell_type": "code",
   "execution_count": null,
   "metadata": {
    "collapsed": true
   },
   "outputs": [],
   "source": [
    "# esp32s normally have the asyncronous webserver deployed onto them"
   ]
  },
  {
   "cell_type": "code",
   "execution_count": 5,
   "metadata": {},
   "outputs": [
    {
     "name": "stdout",
     "output_type": "stream",
     "text": [
      "\u001b[34mExecuting:  /home/julian/extrepositories/micropython/mpy-cross/mpy-cross /home/julian/extrepositories/micropython-lib/uasyncio/uasyncio/__init__.py\n",
      "\u001b[0mSent 7472 bytes in 250 chunks to lib/uasyncio/__init__.mpy.\n",
      "\u001b[34mExecuting:  /home/julian/extrepositories/micropython/mpy-cross/mpy-cross /home/julian/extrepositories/micropython-lib/uasyncio.core/uasyncio/core.py\n",
      "\u001b[0mSent 9946 bytes in 332 chunks to lib/uasyncio/core.mpy.\n",
      "\u001b[34mExecuting:  /home/julian/extrepositories/micropython/mpy-cross/mpy-cross /home/julian/extrepositories/micropython-lib/uasyncio.synchro/uasyncio/synchro.py\n",
      "\u001b[0mSent 987 bytes in 33 chunks to lib/uasyncio/synchro.mpy.\n"
     ]
    }
   ],
   "source": [
    "# don't forget to pull and update this to latest version if you are using latest esp32 build!\n",
    "%mpy-cross --set-exe /home/julian/extrepositories/micropython/mpy-cross/mpy-cross\n",
    "\n",
    "# this copies directly from the 3 files in the micropython libraries\n",
    "# (problem is they are too up to date and call a socket function with too many parameters)\n",
    "%mpy-cross /home/julian/extrepositories/micropython-lib/uasyncio/uasyncio/__init__.py\n",
    "%sendtofile --mkdir --binary --quiet --source /home/julian/extrepositories/micropython-lib/uasyncio/uasyncio/__init__.mpy lib/uasyncio/\n",
    "\n",
    "%mpy-cross /home/julian/extrepositories/micropython-lib/uasyncio.core/uasyncio/core.py\n",
    "%sendtofile --quiet --binary --source /home/julian/extrepositories/micropython-lib/uasyncio.core/uasyncio/core.mpy        lib/uasyncio/\n",
    "\n",
    "%mpy-cross /home/julian/extrepositories/micropython-lib/uasyncio.synchro/uasyncio/synchro.py\n",
    "%sendtofile --quiet --binary --source /home/julian/extrepositories/micropython-lib/uasyncio.synchro/uasyncio/synchro.mpy  lib/uasyncio/\n"
   ]
  },
  {
   "cell_type": "code",
   "execution_count": 32,
   "metadata": {},
   "outputs": [
    {
     "name": "stdout",
     "output_type": "stream",
     "text": [
      "\u001b[34mExecuting:  /home/julian/extrepositories/micropython/mpy-cross/mpy-cross async_web_serve/uasyncio/core.py\n",
      "\u001b[0mSent 6238 bytes in 208 chunks to lib/uasyncio/core.mpy.\n",
      "\u001b[34mExecuting:  /home/julian/extrepositories/micropython/mpy-cross/mpy-cross async_web_serve/uasyncio/__init__.py\n",
      "\u001b[0mSent 6242 bytes in 209 chunks to lib/uasyncio/__init__.mpy.\n",
      "\u001b[34mExecuting:  /home/julian/extrepositories/micropython/mpy-cross/mpy-cross async_web_serve/uasyncio/synchro.py\n",
      "\u001b[0mSent 757 bytes in 26 chunks to lib/uasyncio/synchro.mpy.\n"
     ]
    }
   ],
   "source": [
    "# old files\n",
    "%mpy-cross async_web_serve/uasyncio/core.py\n",
    "%sendtofile --mkdir --binary --quiet --source async_web_serve/uasyncio/core.mpy lib/uasyncio/\n",
    "\n",
    "%mpy-cross async_web_serve/uasyncio/__init__.py\n",
    "%sendtofile --mkdir --binary --quiet --source async_web_serve/uasyncio/__init__.mpy lib/uasyncio/\n",
    "\n",
    "%mpy-cross async_web_serve/uasyncio/synchro.py\n",
    "%sendtofile --mkdir --binary --quiet --source async_web_serve/uasyncio/synchro.mpy lib/uasyncio/\n"
   ]
  },
  {
   "cell_type": "code",
   "execution_count": 6,
   "metadata": {},
   "outputs": [
    {
     "name": "stdout",
     "output_type": "stream",
     "text": [
      "Sent 34 lines (705 bytes) to syslog.py.\n",
      "Sent 4 lines (87 bytes) to wificodes.txt.\n",
      "Sent 34 lines (1042 bytes) to connectwifi.py.\n",
      "Sent 9 lines (327 bytes) to connecthotspot.py.\n"
     ]
    }
   ],
   "source": [
    "%sendtofile --quiet --source utilities/syslog.py\n",
    "%sendtofile --quiet --source utilities/wificodes.txt\n",
    "%sendtofile --quiet --source utilities/connectwifi.py\n",
    "%sendtofile --quiet --source utilities/connecthotspot.py\n",
    "\n"
   ]
  },
  {
   "cell_type": "code",
   "execution_count": 8,
   "metadata": {},
   "outputs": [
    {
     "name": "stdout",
     "output_type": "stream",
     "text": [
      "Sent 190 lines (6050 bytes) to webserve_funcs.py.\n",
      "Sent 86 lines (3106 bytes) to websocket_funcs.py.\n",
      "Sent 47 lines (1243 bytes) to websockettest.html.\n",
      "Sent 13 lines (338 bytes) to uploadfiletest.html.\n"
     ]
    }
   ],
   "source": [
    "%sendtofile --quiet --source utilities/webserve_funcs.py\n",
    "%sendtofile --quiet --source utilities/websocket_funcs.py\n",
    "%sendtofile --quiet --source htmlfiles/websockettest.html\n",
    "%sendtofile --quiet --source htmlfiles/uploadfiletest.html\n",
    "\n"
   ]
  },
  {
   "cell_type": "code",
   "execution_count": null,
   "metadata": {
    "collapsed": true
   },
   "outputs": [],
   "source": []
  },
  {
   "cell_type": "code",
   "execution_count": null,
   "metadata": {
    "collapsed": true
   },
   "outputs": [],
   "source": []
  },
  {
   "cell_type": "code",
   "execution_count": 33,
   "metadata": {},
   "outputs": [
    {
     "name": "stdout",
     "output_type": "stream",
     "text": [
      "repl is in normal command mode\n",
      "[\\r\\x03\\x03] b'\\r\\nMicroPython v1.9.3-240-ga275cb0f on 2018-01-25; ESP32 module with ESP32\\r\\nType \"help()\" for more information.\\r\\n>>> \\r\\n>>> \\r\\nPYB: soft reboot\\r\\nOSError: [Errno 2] ENOENT\\r\\nMicroPython v1.9.3-240-ga275cb0f on 2018-01-25; ESP32 module with ESP32\\r\\nType \"help()\" for more information.\\r\\n>>> \\r\\n>>> \\r\\n>>> '\n",
      "[\\r\\x01] b'\\r\\n>>> \\r\\nraw REPL; CTRL-B to exit\\r\\n>'"
     ]
    }
   ],
   "source": [
    "%rebootdevice"
   ]
  },
  {
   "cell_type": "code",
   "execution_count": 34,
   "metadata": {},
   "outputs": [
    {
     "name": "stdout",
     "output_type": "stream",
     "text": [
      "LOG 3333 ON 203\n",
      "Scanning wifis: DoESLiverpool, DoESDinky, DoESBackup, BV6000\n",
      "LOG 3336 Strongest wifi BV6000\n",
      "LOG 3336 Device has ipnumber 192.168.43.51\n"
     ]
    }
   ],
   "source": [
    "from syslog import log, elog, powid\n",
    "import os, ustruct, uasyncio\n",
    "from connectwifi import ipnumber\n",
    "#from connecthotspot import ipnumber\n",
    "\n",
    "from webserve_funcs import servestaticfile, servefilelist, readhttpheaders, recpostsave, servemessage, convertsavepostfile\n",
    "from websocket_funcs import make_hybi07_header, servewebsocket\n"
   ]
  },
  {
   "cell_type": "code",
   "execution_count": 35,
   "metadata": {
    "collapsed": true
   },
   "outputs": [],
   "source": [
    "async def wswebsockreply(rpath, writer, wscondition):\n",
    "    # wscondition = [WScount, 1=go/0=stop, ..(received records).. ]\n",
    "    incoming = \"\"\n",
    "    count = 0\n",
    "    try:\n",
    "        while wscondition[1]:\n",
    "            count += 1\n",
    "            if len(wscondition) > 2:\n",
    "                incoming = wscondition.pop(2)\n",
    "                log(\"[WS%d incoming] %s\"%(wscondition[0], incoming))\n",
    "                \n",
    "            if (count%50) == 0:\n",
    "                x = \"count%d\" % count\n",
    "                if incoming:\n",
    "                    x = \"%s;got %s...\" % (x,incoming[:5])\n",
    "                await writer.awrite(make_hybi07_header(len(x)))\n",
    "                await writer.awrite(x)\n",
    "            await uasyncio.sleep_ms(100)\n",
    "            \n",
    "    except OSError as e:\n",
    "        elog(\"[WS%d wpexception] %s\"%(wscondition[0], str(e)))\n",
    "        wscondition[1] = 0\n",
    "    log(\"[WS%d wpleave]\"%wscondition[0])\n"
   ]
  },
  {
   "cell_type": "code",
   "execution_count": 36,
   "metadata": {
    "collapsed": true
   },
   "outputs": [],
   "source": [
    "async def handleconnection(reader, writer):\n",
    "    receivedrequest = await readhttpheaders(reader)\n",
    "    \n",
    "    if \"POST\" in receivedrequest:\n",
    "        await recpostsave(receivedrequest, reader, \"POSTUPLOAD.txt\")\n",
    "        await servemessage(writer, \"done\")\n",
    "        await writer.aclose()\n",
    "        convertsavepostfile(\"POSTUPLOAD.txt\")\n",
    "        return\n",
    "\n",
    "    rpath = receivedrequest.get(\"GET\")\n",
    "    log(receivedrequest)\n",
    "    \n",
    "    bcallaclose = True\n",
    "    if \"WebSocketKey\" in receivedrequest:\n",
    "        bcallaclose = await servewebsocket(rpath, reader, writer, receivedrequest[\"WebSocketKey\"], wswebsockreply)\n",
    "    elif rpath is None:\n",
    "        pass\n",
    "    elif rpath == \"\":\n",
    "        await servefilelist(writer)\n",
    "    else:\n",
    "        await servestaticfile(writer, rpath)\n",
    "        \n",
    "    if bcallaclose:\n",
    "        await writer.aclose()\n",
    "\n"
   ]
  },
  {
   "cell_type": "code",
   "execution_count": 37,
   "metadata": {},
   "outputs": [
    {
     "name": "stdout",
     "output_type": "stream",
     "text": [
      "* Running on http://192.168.43.51:80/\n"
     ]
    }
   ],
   "source": [
    "# enables rewriting handleconnection function without restarting\n",
    "def handleconnection_indirect(reader, writer):\n",
    "    try:\n",
    "        return handleconnection(reader, writer)\n",
    "    except OSError as e:\n",
    "        print(\"handleconnection exception\", str(e))\n",
    "\n",
    "port = 80\n",
    "loop = uasyncio.get_event_loop()\n",
    "print(\"* Running on http://%s:%s/\" % (ipnumber, port))\n",
    "loop.create_task(uasyncio.start_server(handleconnection_indirect, ipnumber, port))\n"
   ]
  },
  {
   "cell_type": "code",
   "execution_count": 24,
   "metadata": {
    "collapsed": true
   },
   "outputs": [],
   "source": [
    "x= uasyncio.start_server(handleconnection_indirect, ipnumber, port)"
   ]
  },
  {
   "cell_type": "code",
   "execution_count": 6,
   "metadata": {},
   "outputs": [
    {
     "name": "stdout",
     "output_type": "stream",
     "text": [
      "\u001b[34mattempt to exit paste mode\n",
      "\u001b[0m\u001b[34m[\\r\\x03\\x02] \u001b[0mb'\\r\\nMicroPython v1.9.3-454-g34e224a4 on 2018-03-14; ESP32 module with ESP32\\r\\nType \"help()\" for more information.\\r\\n>>> '\u001b[34m\n",
      "Closing serial Serial<id=0x7f7674412ba8, open=True>(port='/dev/ttyUSB0', baudrate=115200, bytesize=8, parity='N', stopbits=1, timeout=0.5, xonxoff=False, rtscts=False, dsrdtr=False)\n",
      "\u001b[0m"
     ]
    }
   ],
   "source": [
    "%disconnect"
   ]
  },
  {
   "cell_type": "code",
   "execution_count": 19,
   "metadata": {},
   "outputs": [
    {
     "name": "stdout",
     "output_type": "stream",
     "text": [
      "\u001b[34mNo possible ports found\u001b[0m\u001b[34mConnecting to --port=/dev/ttyUSB0 --baud=115200 \u001b[0mcould not open port /dev/ttyUSB0: [Errno 2] No such file or directory: '/dev/ttyUSB0'\n",
      "\u001b[34m\n",
      "Are you sure your ESP-device is plugged in?\u001b[0m"
     ]
    }
   ],
   "source": [
    "%serialconnect"
   ]
  },
  {
   "cell_type": "code",
   "execution_count": null,
   "metadata": {},
   "outputs": [],
   "source": []
  },
  {
   "cell_type": "code",
   "execution_count": null,
   "metadata": {},
   "outputs": [],
   "source": []
  }
 ],
 "metadata": {
  "kernelspec": {
   "display_name": "MicroPython - USB",
   "language": "micropython",
   "name": "micropython"
  },
  "language_info": {
   "codemirror_mode": "python",
   "file_extension": ".py",
   "mimetype": "text/python",
   "name": "micropython"
  }
 },
 "nbformat": 4,
 "nbformat_minor": 2
}
