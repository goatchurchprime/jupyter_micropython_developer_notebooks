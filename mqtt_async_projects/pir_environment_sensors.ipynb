{
 "cells": [
  {
   "cell_type": "code",
   "execution_count": 125,
   "metadata": {},
   "outputs": [
    {
     "name": "stdout",
     "output_type": "stream",
     "text": [
      "serial exception on close write failed: [Errno 5] Input/output error\n",
      "\u001b[34mConnecting to --port=/dev/ttyUSB3 --baud=115200 \u001b[0m\n",
      "O\u001b[31m[Timed out waiting for recognizable response]\n",
      "\u001b[0m\u001b[31mDisconnecting [paste mode not working]\n",
      "\u001b[0m\u001b[34m  (You may need to reset the device)\u001b[0m"
     ]
    }
   ],
   "source": [
    "%serialconnect\n",
    "# PIR pots at top, left: 5V mid: D7=P13  right: G\n",
    "# looking at PIR pots, left: time, right: sensitivity (clockwise more) "
   ]
  },
  {
   "cell_type": "code",
   "execution_count": 91,
   "metadata": {},
   "outputs": [
    {
     "name": "stdout",
     "output_type": "stream",
     "text": [
      "Sent 79 lines (3304 bytes) to BME280_funcs.py.\n",
      "Sent 53 lines (1905 bytes) to stdmqttas.py.\n",
      "Sent 32 lines (969 bytes) to utils.py.\n"
     ]
    }
   ],
   "source": [
    "%sendtofile --source ../Sensor_Kennel/BME280_funcs.py\n",
    "%sendtofile --source ../Sensor_Kennel/TSL561_funcs.py\n",
    "%sendtofile --quiet --source stdmqttas.py\n",
    "%sendtofile --quiet --source utils.py"
   ]
  },
  {
   "cell_type": "code",
   "execution_count": 119,
   "metadata": {},
   "outputs": [
    {
     "name": "stdout",
     "output_type": "stream",
     "text": [
      "Sent 6 lines (147 bytes) to config.txt.\n"
     ]
    }
   ],
   "source": [
    "%sendtofile config.txt\n",
    "\n",
    "wifiname     DoESLiverpool\n",
    "wifipassword decafbad00\n",
    "mqttbroker   10.0.100.1\n",
    "pinled       2\n",
    "pinpir       13\n",
    "wifialt      BV6000,bubblino,192.168.43.1"
   ]
  },
  {
   "cell_type": "code",
   "execution_count": 5,
   "metadata": {},
   "outputs": [
    {
     "name": "stdout",
     "output_type": "stream",
     "text": [
      "Sent 6 lines (144 bytes) to config.txt.\n"
     ]
    }
   ],
   "source": [
    "%sendtofile config.txt\n",
    "\n",
    "wifiname     BV6000\n",
    "wifipassword bubblino\n",
    "mqttbroker   192.168.43.1\n",
    "pinled       2\n",
    "pinpir       13\n",
    "wifialt      BV6000,bubblino,192.168.43.1"
   ]
  },
  {
   "cell_type": "code",
   "execution_count": 126,
   "metadata": {},
   "outputs": [
    {
     "name": "stdout",
     "output_type": "stream",
     "text": [
      "\u001b[34mConnecting to --port=/dev/ttyUSB1 --baud=115200 \u001b[0m\n",
      "\u001b[34mReady.\n",
      "\u001b[0m"
     ]
    }
   ],
   "source": [
    "%serialconnect"
   ]
  },
  {
   "cell_type": "code",
   "execution_count": 127,
   "metadata": {},
   "outputs": [
    {
     "name": "stdout",
     "output_type": "stream",
     "text": [
      "Sent 94 lines (3221 bytes) to main.py.\n",
      "scandone\n",
      "state: 0 -> 2 (b0)\n",
      "state: 2 -> 3 (0)\n"
     ]
    }
   ],
   "source": [
    "%sendtofile main.py\n",
    "\n",
    "import time, sys, machine, itertools\n",
    "import uasyncio as asyncio\n",
    "from stdmqttas import fconfig, config, mqttconnecttask, callbackcmdtask\n",
    "from mqtt_as import MQTTClient\n",
    "from BME280_funcs import bme280init, readBME280\n",
    "from TSL561_funcs import setupTSL561, setregtimings, luminosity, compute_lux\n",
    "\n",
    "from stdmqttas import pinled, flashpinled, shortmac\n",
    "pinpir = machine.Pin(int(fconfig[\"pinpir\"]), machine.Pin.IN)\n",
    "flashpinled(5, 300, 300)\n",
    "\n",
    "topicstem = \"%s/%s\" % (sys.platform, shortmac)\n",
    "print(\"topicstem\", topicstem)\n",
    "import network\n",
    "network.WLAN().active(0)  # disable the connection at startup\n",
    "\n",
    "i2c = machine.I2C(scl=machine.Pin(5), sda=machine.Pin(4))\n",
    "\n",
    "topicbme280 = topicstem+\"/bme280\"\n",
    "topicTSL561 = topicstem+\"/TSL561\"\n",
    "topicpir = topicstem+\"/pir\"\n",
    "topicstatus = topicstem+\"/status\"\n",
    "topiccmd = topicstem+\"/cmd\"\n",
    "topicreply = topicstem+\"/reply\"\n",
    "\n",
    "async def bme280task(client):\n",
    "    try:\n",
    "        bme280init(i2c, 0x77)\n",
    "        await asyncio.sleep_ms(200)\n",
    "        for n in itertools.count():\n",
    "            meas = readBME280(0x77)\n",
    "            if (n%100) == 0:\n",
    "                print(\"bme\", topicbme280, meas)\n",
    "            if client.isconnected():\n",
    "                await client.publish(topicbme280, \" \".join(map(str, meas)))\n",
    "            else:\n",
    "                pinled.value(1-pinled.value())\n",
    "            await asyncio.sleep_ms(100)\n",
    "    except OSError as e:\n",
    "        print(\"bme280taskerror\", e)\n",
    "        flashpinled(5, 300, 100)\n",
    "        aloop.create_task(bme280task(client))\n",
    "\n",
    "        \n",
    "async def TSL561task(client):\n",
    "    try:\n",
    "        setupTSL561(i2c)\n",
    "        setregtimings(True, 1)\n",
    "        for n in itertools.count():\n",
    "            br, ir = luminosity()\n",
    "            lux = compute_lux(br, ir)\n",
    "            if (n%200) == 0:\n",
    "                print(\"brirlux\", topicTSL561, br, ir, lux)\n",
    "            if client.isconnected():\n",
    "                await client.publish(topicTSL561, \"%d %d %f\"%(br, ir, lux))\n",
    "            await asyncio.sleep_ms(60)\n",
    "    except OSError as e:\n",
    "        print(\"TSL561taskerror\", e)\n",
    "        flashpinled(5, 300, 100)\n",
    "        aloop.create_task(TSL561task(client))\n",
    "        \n",
    "async def pirchangedetectiontask(client):\n",
    "    pirstate = -2\n",
    "    for n in itertools.count():\n",
    "        prevpirstate, pirstate = pirstate, pinpir.value()\n",
    "        if pirstate != prevpirstate:\n",
    "            if client.isconnected():\n",
    "                await client.publish(topicpir, str(pirstate), retain=True)\n",
    "                blinkstate = ((n%400) == 0)\n",
    "                pinled.value((1-pirstate) != blinkstate)\n",
    "            else:\n",
    "                pirstate = -2\n",
    "        await asyncio.sleep_ms(5)\n",
    "        \n",
    "def callbackcmd(topic, msg, retained):\n",
    "    aloop.create_task(callbackcmdtask(client, topicreply, msg))\n",
    "\n",
    "async def onconnecttask(client):\n",
    "    ipnumber = client._sta_if.ifconfig()[0]\n",
    "    await client.publish(topicstatus, ipnumber, retain=True)\n",
    "    await client.subscribe(topiccmd, 1)\n",
    "    \n",
    "config['subs_cb'] = callbackcmd\n",
    "config['connect_coro'] = onconnecttask\n",
    "config['will'] = (topicstatus, \"offline\", True)\n",
    "client = MQTTClient(config)\n",
    "client.DEBUG = True\n",
    "  \n",
    "aloop = asyncio.get_event_loop()\n",
    "aloop.create_task(bme280task(client))\n",
    "aloop.create_task(TSL561task(client))\n",
    "aloop.create_task(pirchangedetectiontask(client))\n",
    "aloop.create_task(mqttconnecttask(client))\n",
    "aloop.run_forever()\n"
   ]
  },
  {
   "cell_type": "code",
   "execution_count": null,
   "metadata": {},
   "outputs": [],
   "source": []
  },
  {
   "cell_type": "code",
   "execution_count": null,
   "metadata": {},
   "outputs": [],
   "source": []
  },
  {
   "cell_type": "code",
   "execution_count": null,
   "metadata": {},
   "outputs": [],
   "source": []
  },
  {
   "cell_type": "code",
   "execution_count": null,
   "metadata": {},
   "outputs": [],
   "source": []
  },
  {
   "cell_type": "code",
   "execution_count": null,
   "metadata": {},
   "outputs": [],
   "source": []
  },
  {
   "cell_type": "code",
   "execution_count": 29,
   "metadata": {},
   "outputs": [
    {
     "name": "stdout",
     "output_type": "stream",
     "text": [
      "[leftinbuffer] ['reconnect']\n",
      "[leftinbuffer] ['scandone']\n",
      "[leftinbuffer] ['no DoESLiverpool found, reconnect after 1s']\n",
      "[leftinbuffer] ['reconnect']\n",
      "scandone\n",
      "scandone\n"
     ]
    },
    {
     "name": "stderr",
     "output_type": "stream",
     "text": [
      "Traceback (most recent call last):\n",
      "  File \"<stdin>\", line 1, in <module>\n",
      "OSError: scan failed\n"
     ]
    }
   ],
   "source": [
    "print(client._sta_if.scan())"
   ]
  },
  {
   "cell_type": "code",
   "execution_count": 128,
   "metadata": {},
   "outputs": [
    {
     "name": "stdout",
     "output_type": "stream",
     "text": [
      "serial exception on close write failed: [Errno 5] Input/output error\n",
      "\u001b[34mConnecting to --port=/dev/ttyUSB10 --baud=115200 \u001b[0m\n",
      "\u001b[34mReady.\n",
      "\u001b[0m"
     ]
    }
   ],
   "source": [
    "%serialconnect"
   ]
  },
  {
   "cell_type": "code",
   "execution_count": 111,
   "metadata": {},
   "outputs": [
    {
     "name": "stdout",
     "output_type": "stream",
     "text": [
      "sleep disable\n",
      "await connecting to: BV6000 192.168.43.1\n",
      "*** connected:\n",
      "\u001b[34m\n",
      "\n",
      "*** Sending Ctrl-C\n",
      "\n",
      "\u001b[0m"
     ]
    },
    {
     "name": "stderr",
     "output_type": "stream",
     "text": [
      "Traceback (most recent call last):\n",
      "  File \"<stdin>\", line 34, in <module>\n",
      "  File \"uasyncio/core.py\", line 173, in run_forever\n",
      "  File \"uasyncio/__init__.py\", line 69, in wait\n",
      "KeyboardInterrupt: \n"
     ]
    }
   ],
   "source": [
    "#%sendtofile main.py\n",
    "\n",
    "import time, sys\n",
    "import uasyncio as asyncio\n",
    "from stdmqttas import fconfig, config, mqttconnecttask, callbackcmdtask\n",
    "from mqtt_as import MQTTClient\n",
    "import machine\n",
    "from stdmqttas import slowflashpinled, shortmac\n",
    "\n",
    "boardname = fconfig[\"boardname\"]    \n",
    "topicstem = \"%s/%s\" % (sys.platform, shortmac)\n",
    "topicbme280 = topicstem+\"/bme280\"\n",
    "topicstatus = topicstem+\"/status\"\n",
    "topiccmd = topicstem+\"/cmd\"\n",
    "topicreply = topicstem+\"/reply\"\n",
    "\n",
    "i2c = machine.I2C(scl=machine.Pin(5), sda=machine.Pin(4))\n",
    "\n",
    "async def onconnecttask(client):\n",
    "    ipnumber = client._sta_if.ifconfig()[0]\n",
    "    await client.publish(topicstatus, ipnumber, retain=True)\n",
    "    await client.subscribe(topiccmd, 1)\n",
    "    \n",
    "def callbackcmd(topic, msg, retained):\n",
    "    aloop.create_task(callbackcmdtask(client, topicreply, msg))\n",
    "\n",
    "config['subs_cb'] = callbackcmd\n",
    "config['connect_coro'] = onconnecttask\n",
    "config['will'] = (topicstatus, \"offline\", True)\n",
    "client = MQTTClient(config)\n",
    "    \n",
    "aloop = asyncio.get_event_loop()\n",
    "aloop.create_task(mqttconnecttask(client))\n",
    "aloop.run_forever()\n",
    "\n"
   ]
  },
  {
   "cell_type": "code",
   "execution_count": null,
   "metadata": {},
   "outputs": [],
   "source": []
  }
 ],
 "metadata": {
  "kernelspec": {
   "display_name": "MicroPython - USB",
   "language": "micropython",
   "name": "micropython"
  },
  "language_info": {
   "codemirror_mode": "python",
   "file_extension": ".py",
   "mimetype": "text/python",
   "name": "micropython"
  }
 },
 "nbformat": 4,
 "nbformat_minor": 2
}
