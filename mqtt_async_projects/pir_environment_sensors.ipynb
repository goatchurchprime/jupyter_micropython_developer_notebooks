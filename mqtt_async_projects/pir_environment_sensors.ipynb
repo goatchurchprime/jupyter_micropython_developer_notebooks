{
 "cells": [
  {
   "cell_type": "code",
   "execution_count": 1,
   "metadata": {},
   "outputs": [
    {
     "name": "stdout",
     "output_type": "stream",
     "text": [
      "\u001b[34mConnecting to --port=/dev/ttyUSB1 --baud=115200 \u001b[0m\n",
      "\u001b[34mReady.\n",
      "\u001b[0m"
     ]
    }
   ],
   "source": [
    "%serialconnect\n",
    "# PIR pots at top, left: 5V mid: D7=P13  right: G\n",
    "# looking at PIR pots, left: time, right: sensitivity (clockwise more) "
   ]
  },
  {
   "cell_type": "code",
   "execution_count": 2,
   "metadata": {},
   "outputs": [
    {
     "name": "stdout",
     "output_type": "stream",
     "text": [
      "Sent 54 lines (1757 bytes) to TSL561_funcs.py.\n",
      "Sent 81 lines (2677 bytes) to stdmqttas.py.\n",
      "Sent 32 lines (969 bytes) to utils.py.\n"
     ]
    }
   ],
   "source": [
    "%sendtofile --source ../Sensor_Kennel/BME280_funcs.py\n",
    "%sendtofile --source ../Sensor_Kennel/TSL561_funcs.py\n",
    "%sendtofile --quiet --source stdmqttas.py\n",
    "%sendtofile --quiet --source utils.py"
   ]
  },
  {
   "cell_type": "code",
   "execution_count": 3,
   "metadata": {},
   "outputs": [
    {
     "name": "stdout",
     "output_type": "stream",
     "text": [
      "Sent 2 lines (30 bytes) to config.txt.\n"
     ]
    }
   ],
   "source": [
    "%sendtofile --source wifimqttconnections.txt config.txt\n",
    "%sendtofile --append config.txt\n",
    "\n",
    "pinled       2\n",
    "pinpir       13"
   ]
  },
  {
   "cell_type": "code",
   "execution_count": 7,
   "metadata": {},
   "outputs": [
    {
     "name": "stdout",
     "output_type": "stream",
     "text": [
      "serial exception on close write failed: [Errno 5] Input/output error\n",
      "\u001b[34mConnecting to --port=/dev/ttyUSB3 --baud=115200 \u001b[0m\n",
      "\u001b[34mReady.\n",
      "\u001b[0m"
     ]
    }
   ],
   "source": [
    "%serialconnect"
   ]
  },
  {
   "cell_type": "code",
   "execution_count": 9,
   "metadata": {},
   "outputs": [
    {
     "name": "stdout",
     "output_type": "stream",
     "text": [
      "\u001b[34m** WebSocket connected **\n",
      "\u001b[0mPassword: \u001b[34mReady.\n",
      "\u001b[0m"
     ]
    }
   ],
   "source": [
    "%websocketconnect --password wpass ws://192.168.43.186:8266/"
   ]
  },
  {
   "cell_type": "code",
   "execution_count": 8,
   "metadata": {},
   "outputs": [
    {
     "name": "stdout",
     "output_type": "stream",
     "text": [
      "Sent 101 lines (3545 bytes) to main.py.\n"
     ]
    }
   ],
   "source": [
    "%sendtofile main.py\n",
    "\n",
    "import time, sys, machine\n",
    "import uasyncio as asyncio\n",
    "from stdmqttas import fconfig, config, mqttconnecttask, callbackcmdtask\n",
    "from mqtt_as import MQTTClient\n",
    "from BME280_funcs import bme280init, readBME280\n",
    "from TSL561_funcs import setupTSL561, setregtimings, luminosity, compute_lux\n",
    "from stdmqttas import pinled, flashpinled, shortmac, topicstem, itertools_count\n",
    "pinpir = machine.Pin(int(fconfig[\"pinpir\"]), machine.Pin.IN)\n",
    "\n",
    "import network\n",
    "network.WLAN().active(0)  # disable the connection at startup\n",
    "flashpinled(5, 300, 300)\n",
    "print(\"topicstem\", topicstem)\n",
    "\n",
    "i2c = machine.I2C(scl=machine.Pin(5), sda=machine.Pin(4))\n",
    "\n",
    "topicbme280 = topicstem+\"/bme280\"\n",
    "topicTSL561 = topicstem+\"/TSL561\"\n",
    "topicpir = topicstem+\"/pir\"\n",
    "topiccmd = topicstem+\"/cmd\"\n",
    "topicreply = topicstem+\"/reply\"\n",
    "topiconline = topicstem+\"/online\"\n",
    "topicip = topicstem+\"/ip\"\n",
    "topicerror = topicstem+\"/error\"\n",
    "\n",
    "async def bme280task(client):\n",
    "    try:\n",
    "        bme280init(i2c, 0x77)\n",
    "        await asyncio.sleep_ms(200)\n",
    "        for n in itertools_count():\n",
    "            meas = readBME280(0x77)\n",
    "            if (n%100) == 0:\n",
    "                print(n, topicbme280, meas)\n",
    "            if client.isconnected():\n",
    "                await client.publish(topicbme280, \" \".join(map(str, meas)))\n",
    "            else:\n",
    "                pinled.value(1-pinled.value())\n",
    "            await asyncio.sleep_ms(100)\n",
    "    except OSError as e:\n",
    "        print(\"bme280taskerror\", e)\n",
    "        flashpinled(5, 300, 100)\n",
    "        aloop.create_task(bme280task(client))\n",
    "\n",
    "async def TSL561task(client):\n",
    "    try:\n",
    "        setupTSL561(i2c)\n",
    "        setregtimings(True, 1)\n",
    "        for n in itertools_count():\n",
    "            br, ir = luminosity()\n",
    "            lux = compute_lux(br, ir)\n",
    "            if (n%200) == 0:\n",
    "                print(n, topicTSL561, br, ir, lux)\n",
    "            if client.isconnected() and lux is not None:\n",
    "                await client.publish(topicTSL561, \"%d %d %f\"%(br, ir, lux))\n",
    "            await asyncio.sleep_ms(60)\n",
    "    except OSError as e:\n",
    "        print(\"TSL561taskerror\", e)\n",
    "        flashpinled(5, 300, 100)\n",
    "        aloop.create_task(TSL561task(client))\n",
    "        \n",
    "async def pirchangedetectiontask(client):\n",
    "    pirstate = -2\n",
    "    for n in itertools_count():\n",
    "        prevpirstate, pirstate = pirstate, pinpir.value()\n",
    "        if pirstate != prevpirstate:\n",
    "            if client.isconnected():\n",
    "                await client.publish(topicpir, str(pirstate), retain=True)\n",
    "            else:\n",
    "                pirstate = -2\n",
    "        blinkstate = ((n%400) == 0)\n",
    "        pinled.value((1-pirstate) != blinkstate)\n",
    "        await asyncio.sleep_ms(5)\n",
    "        \n",
    "def callbackcmd(topic, msg, retained):\n",
    "    aloop.create_task(callbackcmdtask(client, topicreply, msg))\n",
    "\n",
    "async def onconnecttask(client):\n",
    "    ipnumber = client._sta_if.ifconfig()[0]\n",
    "    print(\"ipnumber\", ipnumber)\n",
    "    await client.publish(topiconline, \"1\", retain=True)\n",
    "    await client.publish(topicip, ipnumber, retain=True)\n",
    "    await client.subscribe(topiccmd, 1)\n",
    "    \n",
    "config['subs_cb'] = callbackcmd\n",
    "config['connect_coro'] = onconnecttask\n",
    "config['will'] = (topiconline, \"0\", True)\n",
    "client = MQTTClient(config)\n",
    "client.DEBUG = True\n",
    "  \n",
    "aloop = asyncio.get_event_loop()\n",
    "aloop.create_task(bme280task(client))\n",
    "aloop.create_task(TSL561task(client))\n",
    "aloop.create_task(pirchangedetectiontask(client))\n",
    "aloop.create_task(mqttconnecttask(client))\n",
    "\n",
    "aloop.run_until_complete(client.publish(topicerror, \"\", retain=True))\n",
    "for n in itertools_count():\n",
    "    try:\n",
    "        aloop.run_forever()\n",
    "    except Exception as e:\n",
    "        aloop.run_until_complete(client.publish(topicerror, str(n)+\" \"+str(e), retain=True))\n"
   ]
  },
  {
   "cell_type": "code",
   "execution_count": null,
   "metadata": {},
   "outputs": [],
   "source": [
    "%rebootdevice"
   ]
  },
  {
   "cell_type": "code",
   "execution_count": null,
   "metadata": {},
   "outputs": [],
   "source": []
  },
  {
   "cell_type": "code",
   "execution_count": null,
   "metadata": {},
   "outputs": [],
   "source": []
  },
  {
   "cell_type": "code",
   "execution_count": null,
   "metadata": {},
   "outputs": [],
   "source": []
  },
  {
   "cell_type": "code",
   "execution_count": null,
   "metadata": {},
   "outputs": [],
   "source": []
  },
  {
   "cell_type": "code",
   "execution_count": null,
   "metadata": {},
   "outputs": [],
   "source": [
    "%sendtofile --source wifimqttconnections.txt config.txt\n",
    "%sendtofile --append config.txt\n",
    "\n",
    "pinled       2\n",
    "pinpir       13\n",
    "\n",
    "\n",
    "connection0  HUAWEI-B535-2F99,EYR8QJE65GT,mosquitto.doesliverpool.xyz\n",
    "connection1  JulianS9,beckaaaa,mosquitto.doesliverpool.xyz\n",
    "connection2  DoESLiverpool,decafbad00,10.0.100.1\n",
    "pinled       2\n",
    "pinpir       13\n"
   ]
  },
  {
   "cell_type": "code",
   "execution_count": null,
   "metadata": {},
   "outputs": [],
   "source": [
    "#%sendtofile main.py\n",
    "\n",
    "import time, sys, machine, struct\n",
    "import uasyncio as asyncio\n",
    "from stdmqttas import fconfig, config, mqttconnecttask, callbackcmdtask\n",
    "from mqtt_as import MQTTClient\n",
    "from stdmqttas import pinled, flashpinled, shortmac, topicstem, itertools_count\n",
    "\n",
    "import network\n",
    "network.WLAN().active(0)  # disable the connection at startup\n",
    "flashpinled(5, 300, 300)\n",
    "print(\"topicstem\", topicstem)\n",
    "\n",
    "i2c = machine.I2C(scl=machine.Pin(5), sda=machine.Pin(4))\n",
    "\n",
    "topicscd30 = topicstem+\"/scd30\"\n",
    "topiccmd = topicstem+\"/cmd\"\n",
    "topicreply = topicstem+\"/reply\"\n",
    "topiconline = topicstem+\"/online\"\n",
    "topicip = topicstem+\"/ip\"\n",
    "topicerror = topicstem+\"/error\"\n",
    "\n",
    "async def SCD30task(client):\n",
    "    try:\n",
    "        i2c.writeto(0x61, b\"\\xd3\\x04\")   # soft reset\n",
    "        await asyncio.sleep_ms(40)\n",
    "        i2c.writeto(0x61, b\"\\x00\\x10\\x00\\x00\\x81\")   # continuous measurement\n",
    "        await asyncio.sleep_ms(40)\n",
    "        i2c.writeto(0x61, b\"\\x46\\x00\\x00\\x02\\xe3\")   # 2s measurement interval\n",
    "        await asyncio.sleep_ms(40)\n",
    "        for n in itertools_count():\n",
    "            y = i2c.writeto(0x61, b\"\\x02\\x02\")  # data ready?\n",
    "            await asyncio.sleep_ms(4)\n",
    "            d = i2c.readfrom(0x61, 2)    # ready is 1\n",
    "            if d == b'\\x00\\x01':\n",
    "                y = i2c.writeto(0x61, b\"\\x03\\x00\")  # read data\n",
    "                await asyncio.sleep_ms(4)\n",
    "                x = i2c.readfrom(0x61, 18)\n",
    "                #crc8(x[:2]) == x[2]  etc for every 3 bytes\n",
    "                co2, temp, humid = struct.unpack(\">fff\", bytes([x[0],x[1],x[3],x[4], x[6],x[7],x[9],x[10], x[12],x[13],x[15],x[16]]))\n",
    "                print(n, topicscd30, co2, temp, humid)\n",
    "                if client.isconnected():\n",
    "                    await client.publish(topicscd30, \"%f %f %f\"%(co2, temp, humid))\n",
    "            await asyncio.sleep_ms(500)\n",
    "    except OSError as e:\n",
    "        print(\"SCD30taskerror\", e)\n",
    "        flashpinled(5, 300, 100)\n",
    "        aloop.create_task(SCD30task(client))\n",
    "        \n",
    "def callbackcmd(topic, msg, retained):\n",
    "    aloop.create_task(callbackcmdtask(client, topicreply, msg))\n",
    "\n",
    "async def onconnecttask(client):\n",
    "    ipnumber = client._sta_if.ifconfig()[0]\n",
    "    print(\"ipnumber\", ipnumber)\n",
    "    await client.publish(topiconline, \"1\", retain=True)\n",
    "    await client.publish(topicip, ipnumber, retain=True)\n",
    "    await client.subscribe(topiccmd, 1)\n",
    "    \n",
    "config['subs_cb'] = callbackcmd\n",
    "config['connect_coro'] = onconnecttask\n",
    "config['will'] = (topiconline, \"0\", True)\n",
    "client = MQTTClient(config)\n",
    "client.DEBUG = True\n",
    "  \n",
    "aloop = asyncio.get_event_loop()\n",
    "aloop.create_task(SCD30task(client))\n",
    "aloop.create_task(mqttconnecttask(client))\n",
    "\n",
    "aloop.run_until_complete(client.publish(topicerror, \"\", retain=True))\n",
    "for n in itertools_count():\n",
    "    try:\n",
    "        aloop.run_forever()\n",
    "    except Exception as e:\n",
    "        aloop.run_until_complete(client.publish(topicerror, str(n)+\" \"+str(e), retain=True))\n"
   ]
  },
  {
   "cell_type": "code",
   "execution_count": null,
   "metadata": {},
   "outputs": [],
   "source": [
    "import machine, struct, time\n",
    "\n",
    "i2c = machine.I2C(scl=machine.Pin(5), sda=machine.Pin(4))\n",
    "print(i2c.scan())\n",
    "def crc8(b):\n",
    "    crc = 0xFF\n",
    "    for c in b:\n",
    "        crc ^= c\n",
    "        for i in range(8):\n",
    "            crc = 0xFF & (((crc << 1) ^ 0x31) if (crc & 0x80) else (crc << 1))\n",
    "    return crc\n",
    "\n",
    "\n",
    "i2c.writeto(0x61, bytes([0x00, 0x10, 0x00, 0x00, crc8([0x00, 0x00])]))   # continuous measurement\n",
    "i2c.writeto(0x61, bytes([0x46, 0x00, 0x00, 0x02, crc8([0x00, 0x02])]))   # \n",
    "\n",
    "\n",
    "i2c.writeto(0x61, b\"\\xd3\\x04\")   # soft reset\n",
    "i2c.writeto(0x61, b\"\\x00\\x10\\x00\\x00\\x81\")   # continuous measurement\n",
    "i2c.writeto(0x61, b\"\\x46\\x00\\x00\\x02\\xe3\")   # 2s measurement interval\n",
    "scd30\n",
    "\n",
    "while 1:\n",
    "    y = i2c.writeto(0x61, b\"\\x02\\x02\")  # data ready\n",
    "    time.sleep_ms(4)\n",
    "    d = i2c.readfrom(0x61, 2)    # ready is 1\n",
    "    if d == b'\\x00\\x01':\n",
    "        y = i2c.writeto(0x61, b\"\\x03\\x00\")  # read data\n",
    "        time.sleep_ms(4)\n",
    "        x = i2c.readfrom(0x61, 18)\n",
    "        #crc8(x[:2]) == x[2]  etc for every 3 bytes\n",
    "        r = struct.unpack(\">fff\", bytes([x[0],x[1],x[3],x[4], x[6],x[7],x[9],x[10], x[12],x[13],x[15],x[16]]))\n",
    "        print(r)\n",
    "    time.sleep_ms(500)\n",
    "    \n",
    "\n",
    "\n"
   ]
  }
 ],
 "metadata": {
  "kernelspec": {
   "display_name": "MicroPython - USB",
   "language": "micropython",
   "name": "micropython"
  },
  "language_info": {
   "codemirror_mode": "python",
   "file_extension": ".py",
   "mimetype": "text/python",
   "name": "micropython"
  }
 },
 "nbformat": 4,
 "nbformat_minor": 2
}
