{
 "cells": [
  {
   "cell_type": "code",
   "execution_count": 71,
   "metadata": {},
   "outputs": [
    {
     "name": "stdout",
     "output_type": "stream",
     "text": [
      "\u001b[34mConnecting to --port=/dev/ttyUSB8 --baud=115200 \u001b[0m\n",
      "\u001b[34mReady.\n",
      "\u001b[0m"
     ]
    }
   ],
   "source": [
    "%serialconnect"
   ]
  },
  {
   "cell_type": "code",
   "execution_count": 72,
   "metadata": {},
   "outputs": [
    {
     "name": "stdout",
     "output_type": "stream",
     "text": [
      "Sent 5 lines (132 bytes) to config.txt.\n"
     ]
    }
   ],
   "source": [
    "%sendtofile config.txt\n",
    "\n",
    "wifiname     DoESLiverpool\n",
    "wifipassword decafbad00\n",
    "mqttbroker   10.0.100.1\n",
    "pinled       -2\n",
    "wifialt      BV6000,bubblino,192.168.43.1"
   ]
  },
  {
   "cell_type": "code",
   "execution_count": 73,
   "metadata": {},
   "outputs": [
    {
     "name": "stdout",
     "output_type": "stream",
     "text": [
      "Sent 61 lines (2254 bytes) to stdmqttas.py.\n",
      "Sent 32 lines (969 bytes) to utils.py.\n"
     ]
    }
   ],
   "source": [
    "%sendtofile --source stdmqttas.py\n",
    "%sendtofile --quiet --source utils.py"
   ]
  },
  {
   "cell_type": "code",
   "execution_count": 67,
   "metadata": {},
   "outputs": [
    {
     "name": "stdout",
     "output_type": "stream",
     "text": [
      "serial exception on close write failed: [Errno 5] Input/output error\n",
      "\u001b[34mConnecting to --port=/dev/ttyUSB8 --baud=115200 \u001b[0m\n",
      "\u001b[34mReady.\n",
      "\u001b[0m"
     ]
    }
   ],
   "source": [
    "%serialconnect"
   ]
  },
  {
   "cell_type": "code",
   "execution_count": 74,
   "metadata": {},
   "outputs": [
    {
     "name": "stdout",
     "output_type": "stream",
     "text": [
      "Sent 68 lines (2116 bytes) to main.py.\n"
     ]
    }
   ],
   "source": [
    "%sendtofile main.py\n",
    "\n",
    "import time, sys, machine, itertools\n",
    "import uasyncio as asyncio\n",
    "from stdmqttas import fconfig, config, mqttconnecttask, callbackcmdtask, flashledconnectedtask\n",
    "from mqtt_as import MQTTClient\n",
    "from stdmqttas import pinled, flashpinled, shortmac\n",
    "\n",
    "topicstem = \"%s/%s\" % (sys.platform, shortmac)\n",
    "print(\"topicstem\", topicstem)\n",
    "import network\n",
    "network.WLAN().active(0)  # disable the connection at startup\n",
    "\n",
    "i2c = machine.I2C(scl=machine.Pin(5), sda=machine.Pin(4), freq=60000)  # D1 D2\n",
    "flashpinled(5, 300, 300)\n",
    "\n",
    "topicMLX6015 = topicstem+\"/MLX6015\"\n",
    "topicstatus = topicstem+\"/status\"\n",
    "topiccmd = topicstem+\"/cmd\"\n",
    "topicreply = topicstem+\"/reply\"\n",
    "\n",
    "def crc8(data):\n",
    "    c = 0\n",
    "    for d in data:\n",
    "        c = c ^ d\n",
    "        for i in range(8):\n",
    "            if c & 0x80:\n",
    "                c = (c << 1) ^ 7\n",
    "            else:\n",
    "                c = c << 1\n",
    "        c = c & 0xFF\n",
    "    return c\n",
    "        \n",
    "def readtemp(reg):\n",
    "    try:\n",
    "        k = i2c.readfrom_mem(0x5B, reg, 3)\n",
    "    except OSError:\n",
    "        return -999\n",
    "    kcrc = crc8([0x5B<<1, reg, (0x5B<<1)+1, k[0], k[1]])\n",
    "    return (k[0]+k[1]*256)*0.02 - 273.15  if k[2] == kcrc  else -999\n",
    "\n",
    "async def topicMLX6015task(client):\n",
    "    print(\"publishing on\", topicMLX6015)\n",
    "    for i in itertools.count():\n",
    "        tempAmbient, tempIR = readtemp(0x26), readtemp(0x27)\n",
    "        print(tempAmbient, tempIR)\n",
    "        if client.isconnected():\n",
    "            await client.publish(topicMLX6015, \"%f %f\"%(tempAmbient, tempIR))\n",
    "        await asyncio.sleep_ms(500)\n",
    "        \n",
    "def callbackcmd(topic, msg, retained):\n",
    "    aloop.create_task(callbackcmdtask(client, topicreply, msg))\n",
    "\n",
    "async def onconnecttask(client):\n",
    "    ipnumber = client._sta_if.ifconfig()[0]\n",
    "    await client.publish(topicstatus, ipnumber, retain=True)\n",
    "    await client.subscribe(topiccmd, 1)\n",
    "    \n",
    "config['subs_cb'] = callbackcmd\n",
    "config['connect_coro'] = onconnecttask\n",
    "config['will'] = (topicstatus, \"offline\", True)\n",
    "client = MQTTClient(config)\n",
    "client.DEBUG = True\n",
    "  \n",
    "aloop = asyncio.get_event_loop()\n",
    "aloop.create_task(topicMLX6015task(client))\n",
    "aloop.create_task(mqttconnecttask(client))\n",
    "aloop.create_task(flashledconnectedtask(client))\n",
    "aloop.run_forever()\n"
   ]
  },
  {
   "cell_type": "code",
   "execution_count": null,
   "metadata": {},
   "outputs": [],
   "source": []
  }
 ],
 "metadata": {
  "kernelspec": {
   "display_name": "MicroPython - USB",
   "language": "micropython",
   "name": "micropython"
  },
  "language_info": {
   "codemirror_mode": "python",
   "file_extension": ".py",
   "mimetype": "text/python",
   "name": "micropython"
  }
 },
 "nbformat": 4,
 "nbformat_minor": 2
}
