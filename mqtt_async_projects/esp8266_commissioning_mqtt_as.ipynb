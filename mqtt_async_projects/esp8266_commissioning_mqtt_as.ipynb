{
 "cells": [
  {
   "cell_type": "code",
   "execution_count": null,
   "metadata": {},
   "outputs": [],
   "source": []
  },
  {
   "cell_type": "markdown",
   "metadata": {},
   "source": [
    "### Compiling with the mqtt_as library as frozen bytecode\n",
    "\n",
    "Instructions from:\n",
    "    https://www.esp8266.com/wiki/doku.php?id=toolchain\n",
    "\n",
    "Make the esp C-compiler (done already)\n",
    "\n",
    "```\n",
    "conda deactivate\n",
    "git clone --recursive https://github.com/pfalcon/esp-open-sdk\n",
    "cd esp-open-sdk\n",
    "make\n",
    "```\n",
    "\n",
    "Clone and submodule update the base micropython build\n",
    "```\n",
    "git clone git@github.com:goatchurchprime/micropython.git micropython\n",
    "cd micropython\n",
    "git submodule update --init\n",
    "```\n",
    "\n",
    "\n",
    "Copy across the modules (from the extrepositories directory)\n",
    "```\n",
    "cp micropython-mqtt/mqtt_as/mqtt_as.py micropython/ports/esp8266/modules/\n",
    "cp micropython-mqtt/mqtt_as/mqtt_as_timeout.py micropython/ports/esp8266/modules/\n",
    "\n",
    "cp -r micropython-lib/umqtt.simple/umqtt/ micropython/ports/esp8266/modules/\n",
    "cp micropython-lib/umqtt.simple/umqtt/simple.py micropython/ports/esp8266/modules/umqtt/\n",
    "cp micropython-lib/umqtt.robust/umqtt/robust.py micropython/ports/esp8266/modules/umqtt/\n",
    "cp /home/julian/repositories/jupyter_micropython_developer_notebooks/async_web_serve/lighthttpserve_funcs.py micropython/ports/esp8266/modules/\n",
    "\n",
    "export PATH=\"/home/julian/extrepositories/esp-open-sdk/xtensa-lx106-elf/bin/:$PATH\"\n",
    "```\n",
    "\n",
    "Build the cross compiler\n",
    "```\n",
    "cd micropython/mpy-cross\n",
    "make\n",
    "```\n",
    "\n",
    "Make the file\n",
    "```\n",
    "cd micropython/ports/esp8266\n",
    "make -j4\n",
    "```\n",
    "\n",
    "Result will be in:\n",
    "> micropython/ports/esp8266/build-GENERIC/firmware-combined.bin\n"
   ]
  },
  {
   "cell_type": "code",
   "execution_count": 1,
   "metadata": {},
   "outputs": [
    {
     "name": "stdout",
     "output_type": "stream",
     "text": [
      "\u001b[34mExecuting:\n",
      "  esptool.py --port /dev/ttyUSB3 erase_flash\n",
      "\n",
      "\u001b[0mesptool.py v2.8\n",
      "Serial port /dev/ttyUSB3\n",
      "Connecting....\n",
      "\u001b[34m[Press the PRG button now if required]\n",
      "\u001b[0mDetecting chip type... ESP8266\n",
      "Chip is ESP8266EX\n",
      "Features: WiFi\n",
      "Crystal is 26MHz\n",
      "MAC: 3c:71:bf:2c:af:0f\n",
      "Uploading stub...\n",
      "Running stub...\n",
      "Stub running...\n",
      "Erasing flash (this may take a while)...\n",
      "Chip erase completed successfully in 7.4s\n",
      "Hard resetting via RTS pin...\n"
     ]
    }
   ],
   "source": [
    "%esptool erase"
   ]
  },
  {
   "cell_type": "code",
   "execution_count": 1,
   "metadata": {},
   "outputs": [
    {
     "name": "stdout",
     "output_type": "stream",
     "text": [
      "\u001b[34mExecuting:\n",
      "  esptool.py --port /dev/ttyUSB0 --baud 460800 write_flash --flash_size=detect -fm dio 0 /home/julian/extrepositories/micropython/ports/esp8266/build-GENERIC/firmware-combined.bin\n",
      "\n",
      "\u001b[0mesptool.py v2.8\n",
      "Serial port /dev/ttyUSB0\n",
      "Connecting....\n",
      "\u001b[34m[Press the PRG button now if required]\n",
      "\u001b[0mDetecting chip type... ESP8266\n",
      "Chip is ESP8266EX\n",
      "Features: WiFi\n",
      "Crystal is 26MHz\n",
      "MAC: 98:f4:ab:da:58:01\n",
      "Uploading stub...\n",
      "Running stub...\n",
      "Stub running...\n",
      "Changing baud rate to 460800\n",
      "Changed.\n",
      "Configuring flash size...\n",
      "Auto-detected Flash size: 4MB\n",
      "Flash params set to 0x0240\n",
      "Compressed 640052 bytes to 420021...\n",
      "Wrote 640052 bytes (420021 compressed) at 0x00000000 in 9.6 seconds (effective 532.3 kbit/s)...\n",
      "Hash of data verified.\n",
      "\n",
      "Leaving...\n",
      "Hard resetting via RTS pin...\n"
     ]
    }
   ],
   "source": [
    "%esptool esp8266 /home/julian/extrepositories/micropython/ports/esp8266/build-GENERIC/firmware-combined.bin"
   ]
  },
  {
   "cell_type": "code",
   "execution_count": 2,
   "metadata": {},
   "outputs": [
    {
     "name": "stdout",
     "output_type": "stream",
     "text": [
      "\u001b[34mConnecting to --port=/dev/ttyUSB0 --baud=115200 \u001b[0m\n",
      "\u001b[34mReady.\n",
      "\u001b[0m__main__          lwip              uasyncio/funcs    upip_utarfile\n",
      "_boot             machine           uasyncio/lock     urandom\n",
      "_onewire          math              uasyncio/stream   ure\n",
      "_uasyncio         micropython       ubinascii         uselect\n",
      "_webrepl          mqtt_as           ucollections      usocket\n",
      "apa102            mqtt_as_timeout   ucryptolib        ussl\n",
      "btree             neopixel          uctypes           ustruct\n",
      "builtins          network           uerrno            utime\n",
      "dht               ntptime           uhashlib          utimeq\n",
      "ds18x20           onewire           uheapq            uwebsocket\n",
      "esp               port_diag         uio               uzlib\n",
      "flashbdev         sys               ujson             webrepl\n",
      "framebuf          uarray            umqtt/robust      webrepl_setup\n",
      "gc                uasyncio/__init__ umqtt/simple      websocket_helper\n",
      "inisetup          uasyncio/core     uos\n",
      "lighthttpserve_funcs                uasyncio/event    upip\n",
      "Plus any modules on the filesystem\n"
     ]
    }
   ],
   "source": [
    "%serialconnect\n",
    "help(\"modules\")"
   ]
  },
  {
   "cell_type": "code",
   "execution_count": 3,
   "metadata": {},
   "outputs": [
    {
     "name": "stdout",
     "output_type": "stream",
     "text": [
      "object <module 'esp'> is of type module\n",
      "  __name__ -- esp\n",
      "  osdebug -- <function>\n",
      "  sleep_type -- <function>\n",
      "  deepsleep -- <function>\n",
      "  flash_id -- <function>\n",
      "  flash_read -- <function>\n",
      "  flash_write -- <function>\n",
      "  flash_erase -- <function>\n",
      "  flash_size -- <function>\n",
      "  flash_user_start -- <function>\n",
      "  neopixel_write -- <function>\n",
      "  apa102_write -- <function>\n",
      "  dht_readinto -- <function>\n",
      "  freemem -- <function>\n",
      "  meminfo -- <function>\n",
      "  check_fw -- <function>\n",
      "  info -- <function>\n",
      "  malloc -- <function>\n",
      "  free -- <function>\n",
      "  esf_free_bufs -- <function>\n",
      "  set_native_code_location -- <function>\n",
      "  SLEEP_NONE -- 0\n",
      "  SLEEP_LIGHT -- 1\n",
      "  SLEEP_MODEM -- 2\n"
     ]
    }
   ],
   "source": [
    "import esp\n",
    "help(esp)"
   ]
  },
  {
   "cell_type": "code",
   "execution_count": 39,
   "metadata": {},
   "outputs": [
    {
     "name": "stdout",
     "output_type": "stream",
     "text": [
      "Sent 5 lines (129 bytes) to main.py.\n"
     ]
    }
   ],
   "source": [
    "%sendtofile main.py\n",
    "\n",
    "from machine import Pin\n",
    "from esp import my9291_write\n",
    "DI = Pin(13, Pin.OUT) \n",
    "DCK = Pin(15, Pin.OUT)\n",
    "my9291_write(DI, DCK, b'\\x00')"
   ]
  },
  {
   "cell_type": "code",
   "execution_count": 40,
   "metadata": {},
   "outputs": [
    {
     "name": "stdout",
     "output_type": "stream",
     "text": [
      "Sent 12 lines (399 bytes) to main.py.\n"
     ]
    }
   ],
   "source": [
    "%sendtofile --append main.py\n",
    "\n",
    "import time\n",
    "while 1:\n",
    "    my9291_write(DI, DCK, bytes([0,0,0,10,0,0,0,0]))\n",
    "    time.sleep_ms(100)\n",
    "    my9291_write(DI, DCK, bytes([0,10,0,0,0,0,0,0]))\n",
    "    time.sleep_ms(100)\n",
    "    my9291_write(DI, DCK, bytes([0,0,0,0,0,10,0,0]))\n",
    "    time.sleep_ms(100)\n",
    "    my9291_write(DI, DCK, bytes([0,0,0,0,0,0,0,5]))\n",
    "    time.sleep_ms(100)\n",
    "    my9291_write(DI, DCK, bytes([0,1,0,1,0,1,0,1]))\n",
    "    time.sleep_ms(100)\n"
   ]
  },
  {
   "cell_type": "code",
   "execution_count": 43,
   "metadata": {},
   "outputs": [
    {
     "name": "stdout",
     "output_type": "stream",
     "text": [
      "\u001b[34m\n",
      "\n",
      "*** Sending Ctrl-C\n",
      "\n",
      "\u001b[0m"
     ]
    },
    {
     "name": "stderr",
     "output_type": "stream",
     "text": [
      "Traceback (most recent call last):\n",
      "  File \"<stdin>\", line 1, in <module>\n",
      "  File \"main.py\", line 11, in <module>\n",
      "KeyboardInterrupt: \n"
     ]
    }
   ],
   "source": [
    "import main\n"
   ]
  },
  {
   "cell_type": "code",
   "execution_count": 4,
   "metadata": {},
   "outputs": [
    {
     "name": "stdout",
     "output_type": "stream",
     "text": [
      "\u001b[31mNo serial connected\n",
      "\u001b[0m  %serialconnect to connect\n",
      "  %esptool to flash the device\n",
      "  %lsmagic to list commands"
     ]
    }
   ],
   "source": [
    "# Small ESP8266\n",
    "\n",
    "#      RST          |  GPIO1   TX\n",
    "#       A0          |  GPIO3   RX\n",
    "#       D0  GPIO16  |  GPIO5   D1  SCL\n",
    "# SCK   D5  GPIO14  |  GPIO4   D2  SDA\n",
    "# MISO  D6  GPIO12  |  GPIO0   D3\n",
    "# MOSI  D7  GPIO13  |  GPIO2   D4  LED\n",
    "# SS    D8  GPIO15  |          GND\n",
    "#      3V3          |          5V\n",
    "\n",
    "# (not able to get the mDNS to work for esp8266)"
   ]
  },
  {
   "cell_type": "code",
   "execution_count": 44,
   "metadata": {},
   "outputs": [
    {
     "name": "stdout",
     "output_type": "stream",
     "text": [
      "\u001b[34mConnecting to --port=/dev/ttyUSB2 --baud=115200 \u001b[0m\n",
      "import network, ubinascii\n",
      ">>> \n",
      ">>> \u001b[32mThis is the ESP8266's hotspot name\u001b[0m'MicroPython-%s'%ubinascii.hexlify(network.WLAN().config('mac')[-3:]).decode()\n",
      "'MicroPython-7ec9f2'\n",
      ">>> \n",
      ">>> \n",
      "MPY: soft reboot\n",
      "\u001b[34m\n",
      "Closing serial Serial<id=0x7f98baf1ba90, open=True>(port='/dev/ttyUSB2', baudrate=115200, bytesize=8, parity='N', stopbits=1, timeout=0.5, xonxoff=False, rtscts=False, dsrdtr=False)\n",
      "\u001b[0m"
     ]
    }
   ],
   "source": [
    "# Setting up the webrepl hotspot with password=wpass\n",
    "%serialconnect --raw\n",
    "%readbytes \n",
    "\n",
    "# Print out the hotspot name (while we are here)\n",
    "%writebytes \"import network, ubinascii\\r\\n\"\n",
    "%readbytes\n",
    "%writebytes \"\\r\\n\"\n",
    "%readbytes\n",
    "%writebytes \"'MicroPython-%s'%ubinascii.hexlify(network.WLAN().config('mac')[-3:]).decode()\\r\\n\"\n",
    "%comment \"This is the ESP8266's hotspot name\"\n",
    "%readbytes\n",
    "%writebytes \"\\r\\n\"\n",
    "%readbytes\n",
    "\n",
    "# soft reset so import works\n",
    "%writebytes \"\\x04\"\n",
    "%readbytes\n",
    "%writebytes \"import webrepl_setup\\r\\n\"\n",
    "%readbytes \n",
    "%writebytes \"E\\r\\n\"\n",
    "%readbytes\n",
    "\n",
    "# uncomment if second time (with additional question of changing password)\n",
    "#%writebytes \"y\\r\\n\"\n",
    "#%readbytes\n",
    "\n",
    "# set the password\n",
    "%writebytes \"wpass\\r\\n\"\n",
    "%readbytes\n",
    "%writebytes \"wpass\\r\\n\"\n",
    "%readbytes\n",
    "\n",
    "#%writebytes \"y\\r\\n\"\n",
    "#%readbytes\n",
    "\n",
    "%writebytes \"\\x04\"\n",
    "%readbytes\n",
    "%disconnect --raw"
   ]
  },
  {
   "cell_type": "code",
   "execution_count": 40,
   "metadata": {},
   "outputs": [
    {
     "name": "stdout",
     "output_type": "stream",
     "text": [
      "serial exception on close write failed: [Errno 5] Input/output error\n",
      "\u001b[34mConnecting to --port=/dev/ttyUSB4 --baud=115200 \u001b[0m\n",
      "\u001b[34mReady.\n",
      "\u001b[0m"
     ]
    }
   ],
   "source": [
    "%serialconnect"
   ]
  },
  {
   "cell_type": "code",
   "execution_count": 2,
   "metadata": {},
   "outputs": [
    {
     "name": "stdout",
     "output_type": "stream",
     "text": [
      "Sent 230 lines (7009 bytes) to lighthttpserve_funcs.py.\n"
     ]
    }
   ],
   "source": [
    "%sendtofile --source ../async_web_serve/lighthttpserve_funcs.py"
   ]
  },
  {
   "cell_type": "code",
   "execution_count": 41,
   "metadata": {},
   "outputs": [],
   "source": [
    "from machine import Pin, PWM\n",
    "p = Pin(15, Pin.OUT)\n",
    "x = PWM(p)\n",
    "x.freq(3)\n",
    "x.duty(10)\n",
    "#p.value(1)"
   ]
  },
  {
   "cell_type": "code",
   "execution_count": 34,
   "metadata": {},
   "outputs": [],
   "source": [
    "x = PWM(p)\n",
    "x.freq(20)\n",
    "x.duty(10)"
   ]
  },
  {
   "cell_type": "code",
   "execution_count": 29,
   "metadata": {},
   "outputs": [
    {
     "name": "stdout",
     "output_type": "stream",
     "text": [
      "PWM(2, freq=2, duty=10) 0\r\n"
     ]
    }
   ],
   "source": [
    "print(x, p.value())"
   ]
  },
  {
   "cell_type": "code",
   "execution_count": 16,
   "metadata": {},
   "outputs": [
    {
     "name": "stderr",
     "output_type": "stream",
     "text": [
      "Traceback (most recent call last):\n",
      "  File \"<stdin>\", line 1, in <module>\n",
      "AttributeError: 'PWM' object has no attribute 'value'\n"
     ]
    }
   ],
   "source": [
    "\n",
    "x.value(0)"
   ]
  },
  {
   "cell_type": "code",
   "execution_count": 1,
   "metadata": {},
   "outputs": [
    {
     "name": "stdout",
     "output_type": "stream",
     "text": [
      "\u001b[34mConnecting to --port=/dev/ttyUSB4 --baud=115200 \u001b[0m\n",
      "\u001b[34mReady.\n",
      "\u001b[0m"
     ]
    }
   ],
   "source": [
    "%serialconnect"
   ]
  },
  {
   "cell_type": "code",
   "execution_count": 2,
   "metadata": {},
   "outputs": [
    {
     "name": "stdout",
     "output_type": "stream",
     "text": [
      "Sent 31 lines (960 bytes) to utils.py.\n"
     ]
    }
   ],
   "source": [
    "%sendtofile --source utils.py"
   ]
  },
  {
   "cell_type": "code",
   "execution_count": 66,
   "metadata": {},
   "outputs": [
    {
     "name": "stdout",
     "output_type": "stream",
     "text": [
      "."
     ]
    }
   ],
   "source": [
    "from machine import Pin\n",
    "import time\n",
    "p = Pin(14, Pin.OUT)\n",
    "for i in range(10):\n",
    "    p.value(i%2)\n",
    "    time.sleep(0.2)"
   ]
  },
  {
   "cell_type": "code",
   "execution_count": 67,
   "metadata": {},
   "outputs": [],
   "source": [
    "p = Pin(12, Pin.IN, Pin.PULL_UP)"
   ]
  },
  {
   "cell_type": "code",
   "execution_count": 68,
   "metadata": {},
   "outputs": [
    {
     "name": "stdout",
     "output_type": "stream",
     "text": [
      "1\n",
      "1\n",
      "1\n",
      "1\n",
      "1\n",
      "1\n",
      "0\n",
      "0\n",
      ".0\n",
      "1\n",
      "1\n",
      "1\n",
      "1\n",
      "1\n",
      "1\n",
      "1\n",
      "1\n",
      "1\n",
      ".1\n",
      "1\n"
     ]
    }
   ],
   "source": [
    "for i in range(20):\n",
    "    print(p.value())\n",
    "    time.sleep(1)"
   ]
  },
  {
   "cell_type": "code",
   "execution_count": null,
   "metadata": {},
   "outputs": [],
   "source": []
  }
 ],
 "metadata": {
  "kernelspec": {
   "display_name": "MicroPython - USB",
   "language": "micropython",
   "name": "micropython"
  },
  "language_info": {
   "codemirror_mode": "python",
   "file_extension": ".py",
   "mimetype": "text/python",
   "name": "micropython"
  }
 },
 "nbformat": 4,
 "nbformat_minor": 2
}
