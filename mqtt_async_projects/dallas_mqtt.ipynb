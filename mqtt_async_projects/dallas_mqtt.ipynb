{
 "cells": [
  {
   "cell_type": "code",
   "execution_count": null,
   "metadata": {},
   "outputs": [],
   "source": [
    "# Pin 13=D7 on esp8266\n",
    "# dallas wiring: flat face towards you, \n",
    "# left is ground, right is live, \n",
    "# middle is signal with a 4.7k pullup resistor onto the live\n",
    "# on string white=G, green=Live, red=signal"
   ]
  },
  {
   "cell_type": "code",
   "execution_count": 5,
   "metadata": {},
   "outputs": [
    {
     "name": "stdout",
     "output_type": "stream",
     "text": [
      "\u001b[34mConnecting to --port=/dev/ttyUSB1 --baud=115200 \u001b[0m\n",
      "\u001b[34mReady.\n",
      "\u001b[0m"
     ]
    }
   ],
   "source": [
    "%serialconnect"
   ]
  },
  {
   "cell_type": "code",
   "execution_count": 2,
   "metadata": {},
   "outputs": [
    {
     "name": "stdout",
     "output_type": "stream",
     "text": [
      "Sent 3 lines (72 bytes) to config.txt.\n"
     ]
    }
   ],
   "source": [
    "%sendtofile --source wifimqttconnections.txt config.txt\n",
    "%sendtofile --append config.txt\n",
    "\n",
    "pinled       2\n",
    "pindallas    13\n",
    "connection2  BV6000,bubblino,192.168.43.1"
   ]
  },
  {
   "cell_type": "code",
   "execution_count": 3,
   "metadata": {},
   "outputs": [
    {
     "name": "stdout",
     "output_type": "stream",
     "text": [
      "Sent 75 lines (2600 bytes) to stdmqttas.py.\n",
      "Sent 32 lines (969 bytes) to utils.py.\n"
     ]
    }
   ],
   "source": [
    "%sendtofile --source stdmqttas.py\n",
    "%sendtofile --quiet --source utils.py"
   ]
  },
  {
   "cell_type": "code",
   "execution_count": 6,
   "metadata": {},
   "outputs": [
    {
     "name": "stdout",
     "output_type": "stream",
     "text": [
      "Sent 646 lines (23109 bytes) to mqtt_as.py.\n"
     ]
    }
   ],
   "source": [
    "# esp32 version\n",
    "# This requires you to checkout https://github.com/peterhinch/micropython-mqtt/tree/master/mqtt_as\n",
    "%sendtofile --source /home/julian/extrepositories/micropython-mqtt/mqtt_as/mqtt_as.py"
   ]
  },
  {
   "cell_type": "code",
   "execution_count": 8,
   "metadata": {},
   "outputs": [
    {
     "name": "stdout",
     "output_type": "stream",
     "text": [
      "\u001b[34mConnecting to --port=/dev/ttyUSB1 --baud=115200 \u001b[0m\n",
      "\u001b[34mReady.\n",
      "\u001b[0m"
     ]
    }
   ],
   "source": [
    "%serialconnect"
   ]
  },
  {
   "cell_type": "code",
   "execution_count": 10,
   "metadata": {},
   "outputs": [
    {
     "name": "stdout",
     "output_type": "stream",
     "text": [
      "Sent 84 lines (2839 bytes) to main.py.\n"
     ]
    }
   ],
   "source": [
    "%sendtofile main.py\n",
    "\n",
    "import time\n",
    "from machine import Pin\n",
    "import uasyncio as asyncio\n",
    "from stdmqttas import fconfig, config, mqttconnecttask, callbackcmdtask, flashledconnectedtask\n",
    "from stdmqttas import pinled, flashpinled, shortmac, topicstem\n",
    "from mqtt_as import MQTTClient\n",
    "import onewire, ds18x20\n",
    "\n",
    "pindallas = Pin(int(fconfig[\"pindallas\"]), Pin.OUT, Pin.PULL_UP)\n",
    "dallasobj = ds18x20.DS18X20(onewire.OneWire(pindallas))\n",
    "\n",
    "import network\n",
    "network.WLAN().active(0)  # disable the connection at startup\n",
    "flashpinled(5, 300, 300)\n",
    "\n",
    "def itertools_count():\n",
    "    n = 0\n",
    "    while True:\n",
    "        yield n\n",
    "        n += 1\n",
    "\n",
    "topiccmd = topicstem+\"/cmd\"\n",
    "topicreply = topicstem+\"/reply\"\n",
    "topiconline = topicstem+\"/online\"\n",
    "topicip = topicstem+\"/ip\"\n",
    "topicerror = topicstem+\"/error\"\n",
    "topicdallas = topicstem+'/DS18B20'\n",
    "\n",
    "async def dallastask():\n",
    "    btoinit = True\n",
    "    for i in itertools_count():\n",
    "        try:\n",
    "            if btoinit:\n",
    "                dallasscanned = dallasobj.scan() or []\n",
    "                sdallasqorder = {347:0, 376:1, 448:2, 475:3, 576:4, 311:5, 406:6, 157:7}\n",
    "                dallasscanned.sort(key=lambda X: sdallasqorder.get(sum(X), 0))\n",
    "                print(\"dallas\", dallasscanned)\n",
    "                btoinit = not dallasscanned\n",
    "                await asyncio.sleep_ms(100)\n",
    "            dallasobj.convert_temp()\n",
    "            await asyncio.sleep_ms(800)\n",
    "            meas = [ ]\n",
    "            for d in dallasscanned:\n",
    "                try:\n",
    "                    t = dallasobj.read_temp(d)\n",
    "                except Exception:\n",
    "                    t = -100\n",
    "                meas.append(t)\n",
    "            payload = \" \".join(map(str, meas))\n",
    "            if client.isconnected():\n",
    "                print(topicdallas, meas)\n",
    "                await client.publish(topicdallas, payload)\n",
    "        except OSError as e:\n",
    "            print(\"dallastask\", e)\n",
    "            btoinit = True\n",
    "        await asyncio.sleep_ms(50)\n",
    "        \n",
    "def callbackcmd(topic, msg, retained):\n",
    "    aloop.create_task(callbackcmdtask(client, topicreply, msg))\n",
    "\n",
    "async def onconnecttask(client):\n",
    "    ipnumber = client._sta_if.ifconfig()[0]\n",
    "    print(\"ipnumber\", ipnumber, \"to\", client._ssid, client.server)\n",
    "    await client.publish(topiconline, \"1\", retain=True)\n",
    "    await client.publish(topicip, ipnumber, retain=True)\n",
    "    await client.subscribe(topiccmd, 1)\n",
    "\n",
    "config['subs_cb'] = callbackcmd\n",
    "config['connect_coro'] = onconnecttask\n",
    "config['will'] = (topiconline, \"0\", True)\n",
    "client = MQTTClient(config)\n",
    "client.DEBUG = True\n",
    "    \n",
    "aloop = asyncio.get_event_loop()\n",
    "aloop.create_task(dallastask())\n",
    "aloop.create_task(flashledconnectedtask(client))\n",
    "aloop.create_task(mqttconnecttask(client))\n",
    "\n",
    "aloop.run_until_complete(client.publish(topicerror, \"\", retain=True))\n",
    "for n in itertools_count():\n",
    "    try:\n",
    "        aloop.run_forever()\n",
    "    except Exception as e:\n",
    "        aloop.run_until_complete(client.publish(topicerror, str(n)+\" \"+str(e), retain=True))\n"
   ]
  },
  {
   "cell_type": "code",
   "execution_count": null,
   "metadata": {},
   "outputs": [],
   "source": []
  }
 ],
 "metadata": {
  "kernelspec": {
   "display_name": "MicroPython - USB",
   "language": "micropython",
   "name": "micropython"
  },
  "language_info": {
   "codemirror_mode": "python",
   "file_extension": ".py",
   "mimetype": "text/python",
   "name": "micropython"
  }
 },
 "nbformat": 4,
 "nbformat_minor": 2
}
