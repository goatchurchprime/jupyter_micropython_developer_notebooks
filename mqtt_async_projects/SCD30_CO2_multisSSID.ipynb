{
 "cells": [
  {
   "cell_type": "code",
   "execution_count": 36,
   "id": "94b02085",
   "metadata": {},
   "outputs": [
    {
     "name": "stdout",
     "output_type": "stream",
     "text": [
      "serial exception on close write failed: [Errno 5] Input/output error\n",
      "\u001b[34mConnecting to --port=/dev/ttyUSB1 --baud=115200 \u001b[0m\n",
      "\u001b[34mReady.\n",
      "\u001b[0m"
     ]
    }
   ],
   "source": [
    "%serialconnect"
   ]
  },
  {
   "cell_type": "code",
   "execution_count": null,
   "id": "a274cb50",
   "metadata": {},
   "outputs": [],
   "source": [
    "# Warning, the sendtofile doesn't work when connected to the fan of sensiron"
   ]
  },
  {
   "cell_type": "code",
   "execution_count": 44,
   "id": "32076f60",
   "metadata": {},
   "outputs": [
    {
     "name": "stdout",
     "output_type": "stream",
     "text": [
      "\u001b[31mNo serial connected\n",
      "\u001b[0m  %serialconnect to connect\n",
      "  %esptool to flash the device\n",
      "  %lsmagic to list commands"
     ]
    }
   ],
   "source": [
    "%sendtofile --source configSCD30.txt"
   ]
  },
  {
   "cell_type": "code",
   "execution_count": 33,
   "id": "c0ea7a4f",
   "metadata": {},
   "outputs": [
    {
     "name": "stdout",
     "output_type": "stream",
     "text": [
      "\u001b[34mConnecting to --port=/dev/ttyUSB0 --baud=115200 \u001b[0m\n",
      "\u001b[34mReady.\n",
      "\u001b[0m"
     ]
    }
   ],
   "source": [
    "%serialconnect"
   ]
  },
  {
   "cell_type": "code",
   "execution_count": 38,
   "id": "70ef1eef",
   "metadata": {},
   "outputs": [
    {
     "name": "stdout",
     "output_type": "stream",
     "text": [
      "Sent 75 lines (2549 bytes) to stdmqttas.py.\n",
      "Sent 39 lines (1151 bytes) to utils.py.\n"
     ]
    }
   ],
   "source": [
    "%sendtofile --source stdmqttas.py\n",
    "%sendtofile --quiet --source utils.py\n",
    "# devices SCD30,SCD41"
   ]
  },
  {
   "cell_type": "code",
   "execution_count": 39,
   "id": "932a6bfe",
   "metadata": {},
   "outputs": [
    {
     "name": "stdout",
     "output_type": "stream",
     "text": [
      "Sent 731 lines (27364 bytes) to mqtt_as.py.\n"
     ]
    }
   ],
   "source": [
    "%serialconnect\n",
    "# This requires you to checkout https://github.com/peterhinch/micropython-mqtt/tree/master/mqtt_as\n",
    "%sendtofile --source /home/julian/extrepositories/micropython-mqtt/mqtt_as/mqtt_as.py\n",
    "\n",
    "# !!! The redo for different connections isn't working so put the one \n",
    "# that is active into connection0"
   ]
  },
  {
   "cell_type": "code",
   "execution_count": null,
   "id": "6675ac4e",
   "metadata": {},
   "outputs": [],
   "source": []
  },
  {
   "cell_type": "code",
   "execution_count": 10,
   "id": "832c0d97",
   "metadata": {},
   "outputs": [
    {
     "name": "stdout",
     "output_type": "stream",
     "text": [
      "serial exception on close write failed: [Errno 5] Input/output error\n",
      "\u001b[34mConnecting to --port=/dev/ttyUSB1 --baud=115200 \u001b[0m\n",
      "\u001b[34mReady.\n",
      "\u001b[0m"
     ]
    }
   ],
   "source": [
    "%serialconnect"
   ]
  },
  {
   "cell_type": "code",
   "execution_count": 40,
   "id": "6c58c033",
   "metadata": {},
   "outputs": [
    {
     "name": "stdout",
     "output_type": "stream",
     "text": [
      "Sent 103 lines (4015 bytes) to main.py.\n"
     ]
    }
   ],
   "source": [
    "%sendtofile main.py\n",
    "\n",
    "import time, sys, machine, struct\n",
    "import uasyncio as asyncio\n",
    "from stdmqttas import fconfig, config, mqttconnecttask\n",
    "from stdmqttas import clientsingleton, WatchDogtask, cdelimeter\n",
    "from stdmqttas import shortmac, topicstem, itertools_count\n",
    "from stdmqttas import pinled, pinledOnvalue, flashpinled\n",
    "from utils import crc8\n",
    "\n",
    "import network\n",
    "network.WLAN().active(0)  # disable the connection at startup\n",
    "print(\"Initial flashing of ledpin\")\n",
    "flashpinled(5, 300, 300)\n",
    "\n",
    "i2c = machine.I2C(1, scl=machine.Pin(int(fconfig[\"pinscl\"])), sda=machine.Pin(int(fconfig[\"pinsda\"])))\n",
    "\n",
    "topicscd30 = topicstem+\"/scd30\"\n",
    "topiccmd = topicstem+\"/cmd\"\n",
    "topicreply = topicstem+\"/reply\"\n",
    "topiconline = topicstem+\"/online\"\n",
    "topicip = topicstem+\"/ip\"\n",
    "topicerror = topicstem+\"/error\"\n",
    "sensorposition = fconfig.get(\"position\", \"\")\n",
    "print(\"topicstem: '%s'\" % topicstem)\n",
    "print(\"sensorposition: '%s'\" % sensorposition)\n",
    "\n",
    "async def fanonwhenconnectedtask():\n",
    "    pinfan = machine.Pin(int(fconfig[\"pinfan\"]), machine.Pin.OUT)\n",
    "    while True:\n",
    "        pinfan.value(clientsingleton and clientsingleton[0].isconnected())\n",
    "        await asyncio.sleep_ms(500)\n",
    "\n",
    "async def SCD30task():\n",
    "    try:\n",
    "        i2c.writeto(0x61, bytes([0x02, 0x04]))   # soft reset\n",
    "        await asyncio.sleep_ms(40)\n",
    "        i2c.writeto(0x61, bytes([0x00, 0x10, 0x00, 0x00, crc8([0x00, 0x00])]))   # continuous measurement\n",
    "        await asyncio.sleep_ms(40)\n",
    "        i2c.writeto(0x61, bytes([0x46, 0x00, 0x00, 0x02, crc8([0x00, 0x02])]))   # 2s measurement interval\n",
    "        await asyncio.sleep_ms(40)\n",
    "        for n in itertools_count():\n",
    "            y = i2c.writeto(0x61, bytes([0x02, 0x02]))  # data ready?\n",
    "            await asyncio.sleep_ms(4)\n",
    "            d = i2c.readfrom(0x61, 2)    # ready is 1\n",
    "            if d == bytes([0x00, 0x01]):\n",
    "                y = i2c.writeto(0x61, bytes([0x03, 0x00]))  # read data\n",
    "                await asyncio.sleep_ms(4)\n",
    "                x = i2c.readfrom(0x61, 18)\n",
    "                #crc8(x[:2]) == x[2]  etc for every 3 bytes\n",
    "                co2, temp, humid = struct.unpack(\">fff\", bytes([x[0],x[1],x[3],x[4], x[6],x[7],x[9],x[10], x[12],x[13],x[15],x[16]]))\n",
    "                print(n, topicscd30, co2, temp, humid)\n",
    "                if clientsingleton and clientsingleton[0].isconnected():\n",
    "                    await clientsingleton[0].publish(topicscd30, \"%f %f %f %s\"%(co2, temp, humid, sensorposition))\n",
    "            await asyncio.sleep_ms(500)\n",
    "    except OSError as e:\n",
    "        print(\"SCD30taskerror\", e)\n",
    "        flashpinled(5, 300, 100)\n",
    "        aloop.create_task(SCD30task())\n",
    "            \n",
    "# mosquitto_pub -h mqtt.local -t \"esp32/7AEDB8/cmd\" -m \"print('hi there')\"   \n",
    "async def callbackcmdtask(topicreply, codemsg):\n",
    "    print(\"executing\", [codemsg])\n",
    "    try:\n",
    "        exec(codemsg)\n",
    "        await clientsingleton[0].publish(topicreply, \"1\")\n",
    "    except Exception as e:\n",
    "        print(e)\n",
    "        await clientsingleton[0].publish(topicreply+'/exception', str(e))\n",
    "    return\n",
    "\n",
    "def callbackcmd(topic, msg, retained):\n",
    "    print(\"Received message\", (topic, msg))\n",
    "    if topic == topiccmd: \n",
    "        aloop.create_task(callbackcmdtask(topicreply, msg))\n",
    "\n",
    "Nreconnections = 0\n",
    "async def onconnecttask(client):\n",
    "    global Nreconnections\n",
    "    ipnumber = client._sta_if.ifconfig()[0]\n",
    "    print(\"ipnumber\", ipnumber)\n",
    "    await client.publish(topiconline, \"1\", retain=True)\n",
    "    await client.publish(topicip, ipnumber, retain=True)\n",
    "    await client.publish(topicerror, \"reconnections%d\"%Nreconnections if Nreconnections else \"\", retain=True)\n",
    "    await client.subscribe(topiccmd, 1)\n",
    "    Nreconnections += 1\n",
    "\n",
    "config['subs_cb'] = callbackcmd\n",
    "config['connect_coro'] = onconnecttask\n",
    "config['will'] = (topiconline, \"0\", True)\n",
    "\n",
    "deviceslist = fconfig.get(\"devices\", \"SCD30\").split(cdelimeter)\n",
    "\n",
    "aloop = asyncio.get_event_loop()\n",
    "aloop.create_task(fanonwhenconnectedtask())\n",
    "aloop.create_task(mqttconnecttask())\n",
    "if \"SCD30\" in deviceslist:\n",
    "    aloop.create_task(SCD30task())\n",
    "\n",
    "aloop.run_forever()\n",
    "\n",
    "if \"wdtsecs\" in fconfig:\n",
    "    aloop.create_task(WatchDogtask(float(fconfig[\"wdtsecs\"])))\n",
    "aloop.run_forever()\n",
    "\n"
   ]
  },
  {
   "cell_type": "code",
   "execution_count": 31,
   "id": "03e9146e",
   "metadata": {},
   "outputs": [
    {
     "name": "stdout",
     "output_type": "stream",
     "text": [
      "Listing directory '/'.\n",
      "      139    boot.py\n",
      "      284    config.txt\n",
      "     5679    main.py\n",
      "    23172    mqtt_as.py\n",
      "     2679    stdmqttas.py\n",
      "      969    utils.py\n"
     ]
    }
   ],
   "source": [
    "%ls"
   ]
  },
  {
   "cell_type": "code",
   "execution_count": null,
   "id": "ad341826",
   "metadata": {},
   "outputs": [],
   "source": []
  }
 ],
 "metadata": {
  "kernelspec": {
   "display_name": "MicroPython - USB",
   "language": "micropython",
   "name": "micropython"
  },
  "language_info": {
   "codemirror_mode": "python",
   "file_extension": ".py",
   "mimetype": "text/python",
   "name": "micropython"
  }
 },
 "nbformat": 4,
 "nbformat_minor": 5
}
