{
 "cells": [
  {
   "cell_type": "markdown",
   "metadata": {},
   "source": [
    "Using firmware from\n",
    "    https://micropython.org/download/ESP32_GENERIC/\n"
   ]
  },
  {
   "cell_type": "code",
   "execution_count": 3,
   "metadata": {},
   "outputs": [
    {
     "name": "stdout",
     "output_type": "stream",
     "text": [
      "serial exception on close write failed: [Errno 5] Input/output error\n",
      "Found serial ports: /dev/ttyUSB1, /dev/ttyS0 \n",
      "\u001b[34mConnecting to --port=/dev/ttyUSB1 --baud=115200 \u001b[0m\n",
      "[(b'DoESLiverpool', b'\\xfa\\x9f\\xc2\\xf4.\\xf4', 1, -46, 3, False), (b'DoESTest', b'\\xfe\\x9f\\xc2\\xf4.\\xf4', 1, -47, 5, False), (b'Find Out Digital', b'\\xf0\\x9f\\xc2\\xf4\\x1a\\x7f', 6, -51, 3, False), (b'DoESLiverpool', b'\\xfa\\x9f\\xc2\\xf4\\x1a\\x7f', 6, -51, 3, False), (b'DoESTest', b'\\xfe\\x9f\\xc2\\xf4\\x1a\\x7f', 6, -52, 5, False), (b'', b'\\xf6\\x9f\\xc2\\xf4\\x1a\\x7f', 6, -52, 3, False), (b'', b'\\x02\\x9f\\xc2\\xf4\\x1a\\x7f', 6, -56, 3, False), (b'Top Floor Wifi', b'\\xfe\\xec\\xda\\x07\\x08k', 11, -57, 3, False), (b'', b'\\x0e\\xec\\xda\\x07\\x08k', 11, -57, 3, False), (b'spscontroller', b'\\xd8:\\xdd\\x8d\\x9e0', 1, -64, 3, False), (b'DIRECT-E3-HP DeskJet 2600 series', b'\\x9c{\\xef\\xcd\\xe5\\xe4', 6, -73, 3, False), (b'', b'*\\xe8)\\xe4\\xdc\\xa8', 6, -73, 3, False), (b'DoESLiverpool', b'\\xfa\\x9f\\xc2\\xf4\\x1b\\xe4', 1, -75, 3, False), (b'DoESTest', b'\\xfe\\x9f\\xc2\\xf4\\x1b\\xe4', 1, -75, 5, False), (b'Faraday', b'\\x18\\xe8)\\xe4\\xdc\\xa8', 6, -75, 3, False), (b'', b'\\x1a\\xe8)\\xe4\\xdc\\xa8', 6, -75, 3, False), (b'MicroPython-75d1f3', b'\\xdeO\"u\\xd1\\xf3', 1, -77, 4, False), (b'ESPURNA-5483B8', b'\\xceP\\xe3T\\x83\\xb8', 1, -81, 3, False), (b'Scale Wifi', b'xEX\\xc3z\\x17', 6, -85, 3, False), (b'', b'zEX\\x93z\\x17', 6, -85, 3, False), (b'', b'zu\\xdc\\xf3\\xa0\\xff', 1, -86, 3, False), (b'TNCAPD019A3', b'\\xa0\\xb5<\\xd0\\x19\\xa3', 11, -90, 3, False)]\n",
      "Traceback (most recent call last):\n",
      "  File \"main.py\", line 6, in <module>\n",
      "  File \"mqtt_as.py\", line 37, in <module>\n",
      "KeyboardInterrupt: \n",
      "MicroPython v1.22.2 on 2024-02-22; Generic ESP32 module with ESP32\n",
      "Type \"help()\" for more information.\n",
      ">>> \n",
      ">>> \n",
      "raw REPL; CTRL-B to exit\n",
      ">\u001b[34mReady.\n",
      "\u001b[0m"
     ]
    }
   ],
   "source": [
    "%serialconnect"
   ]
  },
  {
   "cell_type": "code",
   "execution_count": 256,
   "metadata": {},
   "outputs": [
    {
     "name": "stdout",
     "output_type": "stream",
     "text": [
      "Sent 800 lines (29331 bytes) to mqtt_as.py.\n"
     ]
    }
   ],
   "source": [
    "%sendtofile --source /home/julian/repositories/micropython-mqtt/mqtt_as/mqtt_as.py"
   ]
  },
  {
   "cell_type": "code",
   "execution_count": 242,
   "metadata": {},
   "outputs": [
    {
     "name": "stdout",
     "output_type": "stream",
     "text": [
      "Sent 4 lines (116 bytes) to config.txt.\n"
     ]
    }
   ],
   "source": [
    "%sendtofile config.txt\n",
    "\n",
    "wifiname     DoESLiverpool\n",
    "wifipassword decafbad00\n",
    "boardname    esp32arcade\n",
    "mqttbroker   mosquitto.doesliverpool.xyz"
   ]
  },
  {
   "cell_type": "code",
   "execution_count": null,
   "metadata": {},
   "outputs": [],
   "source": [
    "%sendtofile config.txt\n",
    "\n",
    "wifiname     spscontroller\n",
    "wifipassword puppet-24\n",
    "boardname    esp32arcade\n",
    "mqttbroker   192.168.4.1"
   ]
  },
  {
   "cell_type": "code",
   "execution_count": 27,
   "metadata": {},
   "outputs": [
    {
     "name": "stdout",
     "output_type": "stream",
     "text": [
      "serial exception on close write failed: [Errno 5] Input/output error\n",
      "Found serial ports: /dev/ttyUSB1, /dev/ttyS0 \n",
      "\u001b[34mConnecting to --port=/dev/ttyUSB1 --baud=115200 \u001b[0m\n",
      "[(b'DoESTest', b'\\xfe\\x9f\\xc2\\xf4.\\xf4', 1, -56, 5, False), (b'DoESLiverpool', b'\\xfa\\x9f\\xc2\\xf4.\\xf4', 1, -57, 3, False), (b'Find Out Digital', b'\\xf0\\x9f\\xc2\\xf4\\x1a\\x7f', 6, -57, 3, False), (b'', b'\\x02\\x9f\\xc2\\xf4\\x1a\\x7f', 6, -57, 3, False), (b'', b'\\xf6\\x9f\\xc2\\xf4\\x1a\\x7f', 6, -57, 3, False), (b'DoESLiverpool', b'\\xfa\\x9f\\xc2\\xf4\\x1a\\x7f', 6, -58, 3, False), (b'DoESTest', b'\\xfe\\x9f\\xc2\\xf4\\x1a\\x7f', 6, -59, 5, False), (b'Top Floor Wifi', b'\\xfe\\xec\\xda\\x07\\x08k', 11, -62, 3, False), (b'', b'\\x0e\\xec\\xda\\x07\\x08k', 11, -62, 3, False), (b'Faraday', b'\\x18\\xe8)\\xe4\\xdc\\xa8', 6, -69, 3, False), (b'', b'\\x1a\\xe8)\\xe4\\xdc\\xa8', 6, -69, 3, False), (b'', b'*\\xe8)\\xe4\\xdc\\xa8', 6, -69, 3, False), (b'DoESLiverpool', b'\\xfa\\x9f\\xc2\\xf4\\x1b\\xe4', 1, -72, 3, False), (b'DoESTest', b'\\xfe\\x9f\\xc2\\xf4\\x1b\\xe4', 1, -74, 5, False), (b'ESPURNA-5483B8', b'\\xceP\\xe3T\\x83\\xb8', 1, -77, 3, False), (b'DIRECT-E3-HP DeskJet 2600 series', b'\\x9c{\\xef\\xcd\\xe5\\xe4', 6, -77, 3, False), (b'TALKTALKC8D0DA', b'D\\xad\\xb1\\xc8\\xd0\\xd7', 1, -88, 3, False), (b'MicroPython-75d1f3', b'\\xdeO\"u\\xd1\\xf3', 1, -89, 4, False), (b'EE WiFi', b'j\\x82\\x8c!\\xc7\\xce', 1, -89, 0, False), (b'BT-SRAS33', b'\\xe4u\\xdc\\xf3\\xa0\\xfb', 1, -94, 3, False)]\n",
      "Traceback (most recent call last):\n",
      "  File \"main.py\", line 6, in <module>\n",
      "  File \"mqtt_as.py\", line 37, in <module>\n",
      "KeyboardInterrupt: \n",
      "MicroPython v1.22.2 on 2024-02-22; Generic ESP32 module with ESP32\n",
      "Type \"help()\" for more information.\n",
      ">>> \n",
      ">>> \n",
      "raw REPL; CTRL-B to exit\n",
      ">\u001b[34mReady.\n",
      "\u001b[0m"
     ]
    }
   ],
   "source": [
    "%serialconnect"
   ]
  },
  {
   "cell_type": "code",
   "execution_count": 266,
   "metadata": {},
   "outputs": [
    {
     "name": "stdout",
     "output_type": "stream",
     "text": [
      "Sent 88 lines (2992 bytes) to stdmqttas.py.\n",
      "Sent 39 lines (1151 bytes) to utils.py.\n"
     ]
    }
   ],
   "source": [
    "%sendtofile --source stdmqttas.py\n",
    "%sendtofile --quiet --source utils.py"
   ]
  },
  {
   "cell_type": "code",
   "execution_count": 4,
   "metadata": {},
   "outputs": [
    {
     "name": "stdout",
     "output_type": "stream",
     "text": [
      "Sent 98 lines (3446 bytes) to main.py.\n"
     ]
    }
   ],
   "source": [
    "%sendtofile main.py\n",
    "\n",
    "import network\n",
    "w = network.WLAN()\n",
    "w.active(1)\n",
    "w.disconnect()\n",
    "print(w.scan())\n",
    "\n",
    "from mqtt_as import MQTTClient\n",
    "from stdmqttas import fconfig, config, mqttconnecttask, callbackcmdtask, flashledconnectedtask\n",
    "import uasyncio as asyncio\n",
    "from stdmqttas import pinled, flashpinled, shortmac, topicstem, itertools_count\n",
    "import time\n",
    "\n",
    "from arcadeboards1 import setupallarcadeboards, setbuttonlight, newbuttondown\n",
    "from arcadeboards1 import row1, row2, brow1, brow2, bigredbutton, bigredlight\n",
    "\n",
    "topicmessage = topicstem+\"/message\"\n",
    "topiccmd = topicstem+\"/cmd\"\n",
    "topicstatus = topicstem+\"/status\"\n",
    "topicreply = topicstem+\"/reply\"\n",
    "topiconline = topicstem+\"/online\"\n",
    "topicip = topicstem+\"/ip\"\n",
    "\n",
    "topicrow1 = \"spscontroller/controller/video\"\n",
    "topicrow2 = \"spscontroller/controller/audio\"\n",
    "\n",
    "row1mess = [ \"Videos/purple.mp4\", \"Videos/white.mp4\", \"Videos/red.mp4\", \"Videos/yellow.mp4\", \"Videos/blue.mp4\", \"Videos/green.mp4\" ]\n",
    "row2mess = [ \"Music/silent.mp3\", \"Music/nostalgia.mp3\", \"Music/joyful.mp3\", \"Music/silly.mp3\", \"Music/romantic.mp3\", \"Music/tense.mp3\" ] \n",
    "\n",
    "dimlight = 500\n",
    "brightlight = 50000\n",
    "async def arcadetask(client):\n",
    "    setupallarcadeboards()\n",
    "    while not client.isconnected():\n",
    "        setbuttonlight(row1[0], 50000)\n",
    "        await asyncio.sleep_ms(200)\n",
    "        setbuttonlight(row1[0], 5000)\n",
    "        await asyncio.sleep_ms(600)\n",
    "\n",
    "    i1, i2 = 0, 0\n",
    "    currentrow1button = row1[i1]\n",
    "    currentrow2button = row2[i2]\n",
    "    await client.publish(topicrow1, row1mess[i1])\n",
    "    await client.publish(topicrow2, row2mess[i2])\n",
    "    redlightflashes = 0\n",
    "    while True:\n",
    "        k = newbuttondown(50)\n",
    "        if k in brow1:\n",
    "            i1 = brow1.index(k)\n",
    "            if currentrow1button:\n",
    "                setbuttonlight(currentrow1button, dimlight)\n",
    "            currentrow1button = row1[i1]\n",
    "            setbuttonlight(currentrow1button, brightlight)\n",
    "        if k in brow2:\n",
    "            i2 = brow2.index(k)\n",
    "            if currentrow2button:\n",
    "                setbuttonlight(currentrow2button, dimlight)\n",
    "            currentrow2button = row2[i2]\n",
    "            setbuttonlight(currentrow2button, brightlight)\n",
    "        if k == bigredbutton:\n",
    "            setbuttonlight(bigredlight, brightlight)\n",
    "            await client.publish(topicrow1, row1mess[i1])\n",
    "            await client.publish(topicrow2, row2mess[i2])\n",
    "            redlightflashes = 20\n",
    "        await asyncio.sleep_ms(50)\n",
    "        if redlightflashes > 0:\n",
    "            redlightflashes -= 1\n",
    "            setbuttonlight(bigredlight, brightlight if (redlightflashes%2) else 0)\n",
    "            \n",
    "        \n",
    "def callbackcmd(topic, msg, retained):\n",
    "    print(\"callbackcmd\", topic, msg)\n",
    "    if topic == topiccmd:\n",
    "        aloop.create_task(callbackcmdtask(client, topicreply, msg))\n",
    "\n",
    "async def onconnecttask(client):\n",
    "    ipnumber = client._sta_if.ifconfig()[0]\n",
    "    await client.publish(topicstatus, ipnumber, retain=True)\n",
    "    await client.subscribe(topiccmd)\n",
    "    await client.subscribe(topicmessage)\n",
    "    await client.publish(topicip, ipnumber, retain=True, qos=1)\n",
    "    client.connectioncount += 1\n",
    "    print(\"subscribed\")\n",
    "            \n",
    "config['subs_cb'] = callbackcmd\n",
    "config['connect_coro'] = onconnecttask\n",
    "config['server'] = fconfig[\"mqttbroker\"]\n",
    "config['ssid'] = fconfig[\"wifiname\"]\n",
    "config['wifi_pw'] = fconfig[\"wifipassword\"]\n",
    "\n",
    "print(config)\n",
    "client = MQTTClient(config)\n",
    "client.DEBUG = True\n",
    "client.connectioncount = 0\n",
    "\n",
    "aloop = asyncio.get_event_loop()\n",
    "aloop.create_task(arcadetask(client))\n",
    "aloop.create_task(mqttconnecttask(client, None))\n",
    "aloop.run_forever()\n"
   ]
  },
  {
   "cell_type": "code",
   "execution_count": null,
   "metadata": {},
   "outputs": [],
   "source": []
  },
  {
   "cell_type": "code",
   "execution_count": null,
   "metadata": {},
   "outputs": [],
   "source": []
  },
  {
   "cell_type": "code",
   "execution_count": 14,
   "metadata": {},
   "outputs": [
    {
     "name": "stdout",
     "output_type": "stream",
     "text": [
      "serial exception on close write failed: [Errno 5] Input/output error\n",
      "Found serial ports: /dev/ttyUSB1, /dev/ttyS0 \n",
      "\u001b[34mConnecting to --port=/dev/ttyUSB1 --baud=115200 \u001b[0m\n",
      "Traceback (most recent call last):\n",
      "  File \"main.py\", line 1, in <module>\n",
      "  File \"mqtt_as.py\", line 37, in <module>\n",
      "KeyboardInterrupt: \n",
      "MicroPython v1.22.2 on 2024-02-22; Generic ESP32 module with ESP32\n",
      "Type \"help()\" for more information.\n",
      ">>> \n",
      ">>> \n",
      "raw REPL; CTRL-B to exit\n",
      ">\u001b[34mReady.\n",
      "\u001b[0m"
     ]
    }
   ],
   "source": [
    "%serialconnect"
   ]
  },
  {
   "cell_type": "code",
   "execution_count": 15,
   "metadata": {},
   "outputs": [
    {
     "name": "stdout",
     "output_type": "stream",
     "text": [
      "Sent 56 lines (1926 bytes) to arcadeboards1.py.\n"
     ]
    }
   ],
   "source": [
    "%sendtofile arcadeboards1.py\n",
    "\n",
    "import machine, struct, time\n",
    "\n",
    "addrs = [ 0x3a, 0x3c, 0x3e ]\n",
    "row1 = sum([(addr,13), (addr,1)] for addr in addrs, [])\n",
    "row2 = sum([(addr,12), (addr,0)] for addr in addrs, [])\n",
    "\n",
    "brow1 = sum([(addr,19), (addr,2)] for addr in addrs, [])\n",
    "brow2 = sum([(addr,18), (addr,20)] for addr in addrs, [])\n",
    "\n",
    "bigredbutton = (0x3b, 18)\n",
    "bigredlight = (0x3b, 12)\n",
    "\n",
    "buttonsdown = { }\n",
    "\n",
    "i2c = None\n",
    "button_pins = (18, 19, 20, 2)\n",
    "def setupallarcadeboards():\n",
    "    global i2c\n",
    "    i2c = machine.I2C(1) # , sda=machine.Pin(26), scl=machine.Pin(25))\n",
    "    print(i2c)\n",
    "    aaddrs = i2c.scan()\n",
    "    print(\"i2c devices found\", list(map(hex, aaddrs)))\n",
    "    assert set(aaddrs).issuperset([0x3a, 0x3b, 0x3c, 0x3e])\n",
    "    k = sum((1 << pin)  for pin in button_pins)\n",
    "    for addr in [0x3a, 0x3b, 0x3c, 0x3e]:\n",
    "        i2c.writeto(addr, bytearray([0x00, 0x07, 0xFF])) # reset device\n",
    "        i2c.writeto(addr, bytearray([0x00, 0x01]))\n",
    "        print(\"chiptype \", addr, i2c.readfrom(addr, 1))  #_ATTINY817_HW_ID_CODE = const(0x87)\n",
    "        for s in [0x03, 0x0b, 0x05]:        # set all buttons to PULL_UP\n",
    "            i2c.writeto(addr, struct.pack(\">bbI\", 0x01, s, k))\n",
    "\n",
    "\n",
    "def setbuttonlight(pp, v):\n",
    "    i2c.writeto(pp[0], bytearray([0x08, 0x01, pp[1], (v >> 8), v & 0xFF]))\n",
    "\n",
    "def newbuttondown(holdtimems):\n",
    "    for addr in [0x3a, 0x3b, 0x3c, 0x3e]:\n",
    "        i2c.writeto(addr, bytearray([0x01, 0x04]))\n",
    "        time.sleep(0.008)\n",
    "        vb = i2c.readfrom(addr, 4)\n",
    "        v = struct.unpack(\">I\", vb)[0]\n",
    "        tms = time.ticks_ms()\n",
    "        for p in button_pins:\n",
    "            k = (addr, p)\n",
    "            if (v & (1 << p)):\n",
    "                if k in buttonsdown:\n",
    "                    del buttonsdown[k]\n",
    "            else:\n",
    "                if k in buttonsdown:\n",
    "                    if buttonsdown[k] != 0 and tms - buttonsdown[k] > holdtimems:\n",
    "                        buttonsdown[k] = 0\n",
    "                        return k\n",
    "                else:\n",
    "                    buttonsdown[k] = tms\n",
    "    return None\n",
    " "
   ]
  },
  {
   "cell_type": "code",
   "execution_count": 10,
   "metadata": {},
   "outputs": [
    {
     "name": "stdout",
     "output_type": "stream",
     "text": [
      "I2C(1, scl=25, sda=26, freq=430107)\n",
      "i2c devices found ['0x3a', '0x3b', '0x3c', '0x3e']\n",
      "chiptype  58 b'\\x87'\n",
      "chiptype  59 b'\\x87'\n",
      "chiptype  60 b'\\x87'\n",
      "chiptype  62 b'\\x87'\n",
      "(58, 18)\n",
      "(59, 18)\n",
      "(59, 18)\n",
      "(59, 18)\n",
      "..........................\u001b[34m\n",
      "\n",
      "*** Sending Ctrl-C\n",
      "\n",
      "\u001b[0m"
     ]
    },
    {
     "name": "stderr",
     "output_type": "stream",
     "text": [
      "Traceback (most recent call last):\n",
      "  File \"<stdin>\", line 4, in <module>\n",
      "  File \"arcadeboards1.py\", line 36, in newbuttondown\n",
      "KeyboardInterrupt: \n"
     ]
    }
   ],
   "source": [
    "from arcadeboards1 import setupallarcadeboards, setbuttonlight, newbuttondown\n",
    "setupallarcadeboards()\n",
    "while 1:\n",
    "    a = newbuttondown(10)\n",
    "    if a:\n",
    "        print(a)"
   ]
  },
  {
   "cell_type": "code",
   "execution_count": 11,
   "metadata": {},
   "outputs": [
    {
     "name": "stdout",
     "output_type": "stream",
     "text": [
      "0x3b\r\n"
     ]
    }
   ],
   "source": [
    "print(hex(59))"
   ]
  },
  {
   "cell_type": "code",
   "execution_count": null,
   "metadata": {},
   "outputs": [],
   "source": []
  }
 ],
 "metadata": {
  "kernelspec": {
   "display_name": "MicroPython - USB",
   "language": "micropython",
   "name": "micropython"
  },
  "language_info": {
   "codemirror_mode": "python",
   "file_extension": ".py",
   "mimetype": "text/python",
   "name": "micropython"
  }
 },
 "nbformat": 4,
 "nbformat_minor": 2
}
