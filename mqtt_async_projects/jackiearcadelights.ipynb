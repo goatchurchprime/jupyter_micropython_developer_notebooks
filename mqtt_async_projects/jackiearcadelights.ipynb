{
 "cells": [
  {
   "cell_type": "markdown",
   "metadata": {},
   "source": [
    "Using firmware from\n",
    "    https://micropython.org/download/ESP32_GENERIC/\n"
   ]
  },
  {
   "cell_type": "code",
   "execution_count": 251,
   "metadata": {},
   "outputs": [
    {
     "name": "stdout",
     "output_type": "stream",
     "text": [
      "Found serial ports: /dev/ttyUSB0, /dev/ttyS0 \n",
      "\u001b[34mConnecting to --port=/dev/ttyUSB0 --baud=115200 \u001b[0m\n",
      "Traceback (most recent call last):\n",
      "  File \"main.py\", line 1, in <module>\n",
      "ImportError: no module named 'mqtt_as'\n",
      "MicroPython v1.22.2 on 2024-02-22; Generic ESP32 module with ESP32\n",
      "Type \"help()\" for more information.\n",
      ">>>[reboot detected 0]repl is in normal command mode\n",
      "[\\r\\x03\\x03] b'\\r\\n>>> '\n",
      "[\\r\\x01] b'\\r\\n>>> \\r\\nraw REPL; CTRL-B to exit\\r\\n>' \u001b[34mReady.\n",
      "\u001b[0m"
     ]
    }
   ],
   "source": [
    "%serialconnect"
   ]
  },
  {
   "cell_type": "code",
   "execution_count": 256,
   "metadata": {},
   "outputs": [
    {
     "name": "stdout",
     "output_type": "stream",
     "text": [
      "Sent 800 lines (29331 bytes) to mqtt_as.py.\n"
     ]
    }
   ],
   "source": [
    "%sendtofile --source /home/julian/repositories/micropython-mqtt/mqtt_as/mqtt_as.py"
   ]
  },
  {
   "cell_type": "code",
   "execution_count": 242,
   "metadata": {},
   "outputs": [
    {
     "name": "stdout",
     "output_type": "stream",
     "text": [
      "Sent 4 lines (116 bytes) to config.txt.\n"
     ]
    }
   ],
   "source": [
    "%sendtofile config.txt\n",
    "\n",
    "wifiname     DoESLiverpool\n",
    "wifipassword decafbad00\n",
    "boardname    esp32arcade\n",
    "mqttbroker   mosquitto.doesliverpool.xyz"
   ]
  },
  {
   "cell_type": "code",
   "execution_count": 271,
   "metadata": {},
   "outputs": [
    {
     "name": "stdout",
     "output_type": "stream",
     "text": [
      "serial exception on close write failed: [Errno 5] Input/output error\n",
      "Found serial ports: /dev/ttyUSB1, /dev/ttyS0 \n",
      "\u001b[34mConnecting to --port=/dev/ttyUSB1 --baud=115200 \u001b[0m\n",
      "\u001b[34mReady.\n",
      "\u001b[0m"
     ]
    }
   ],
   "source": [
    "%serialconnect"
   ]
  },
  {
   "cell_type": "code",
   "execution_count": 266,
   "metadata": {},
   "outputs": [
    {
     "name": "stdout",
     "output_type": "stream",
     "text": [
      "Sent 88 lines (2992 bytes) to stdmqttas.py.\n",
      "Sent 39 lines (1151 bytes) to utils.py.\n"
     ]
    }
   ],
   "source": [
    "%sendtofile --source stdmqttas.py\n",
    "%sendtofile --quiet --source utils.py"
   ]
  },
  {
   "cell_type": "code",
   "execution_count": 272,
   "metadata": {},
   "outputs": [
    {
     "name": "stdout",
     "output_type": "stream",
     "text": [
      "Sent 80 lines (2932 bytes) to main.py.\n"
     ]
    }
   ],
   "source": [
    "%sendtofile main.py\n",
    "\n",
    "from mqtt_as import MQTTClient\n",
    "from stdmqttas import fconfig, config, mqttconnecttask, callbackcmdtask, flashledconnectedtask\n",
    "import uasyncio as asyncio\n",
    "from stdmqttas import pinled, flashpinled, shortmac, topicstem, itertools_count\n",
    "import time\n",
    "\n",
    "from arcadeboards import setupallarcadeboards, setbuttonlight, newbuttondown\n",
    "from arcadeboards import row1, row2, brow1, brow2\n",
    "\n",
    "topicmessage = topicstem+\"/message\"\n",
    "topiccmd = topicstem+\"/cmd\"\n",
    "topicstatus = topicstem+\"/status\"\n",
    "topicreply = topicstem+\"/reply\"\n",
    "topiconline = topicstem+\"/online\"\n",
    "topicip = topicstem+\"/ip\"\n",
    "\n",
    "topicrow1 = \"spscontroller/controller/video\"\n",
    "topicrow2 = \"spscontroller/controller/audio\"\n",
    "\n",
    "row1mess = [ \"Videos/black.mp4\", \"Videos/white.mp4\", \"Videos/red.mp4\", \"Videos/yellow.mp4\", \"Videos/blue.mp4\", \"Videos/green.mp4\" ]\n",
    "row2mess = [ \"Music/silent.mp3\", \"Music/nostalgia.mp3\", \"Music/joyful.mp3\", \"Music/silly.mp3\", \"Music/romantic.mp3\", \"Music/tense.mp3\" ] \n",
    "\n",
    "async def arcadetask(client):\n",
    "    setupallarcadeboards()\n",
    "    while not client.isconnected():\n",
    "        setbuttonlight(row1[0], 50000)\n",
    "        await asyncio.sleep_ms(200)\n",
    "        setbuttonlight(row1[0], 5000)\n",
    "        await asyncio.sleep_ms(600)\n",
    "\n",
    "    currentrow1button = row1[0]\n",
    "    currentrow2button = row2[0]\n",
    "    while True:\n",
    "        k = newbuttondown(50)\n",
    "        if k:\n",
    "            if k in brow1:\n",
    "                i1 = brow1.index(k)\n",
    "                if currentrow1button:\n",
    "                    setbuttonlight(currentrow1button, 5000)\n",
    "                currentrow1button = row1[i1]\n",
    "                setbuttonlight(currentrow1button, 50000)\n",
    "                await client.publish(topicrow1, row1mess[i1])\n",
    "            if k in brow2:\n",
    "                i2 = brow2.index(k)\n",
    "                if currentrow2button:\n",
    "                    setbuttonlight(currentrow2button, 5000)\n",
    "                currentrow2button = row2[i2]\n",
    "                setbuttonlight(currentrow2button, 50000)\n",
    "                await client.publish(topicrow2, row2mess[i2])\n",
    "        await asyncio.sleep_ms(50)\n",
    "        \n",
    "def callbackcmd(topic, msg, retained):\n",
    "    print(\"callbackcmd\", topic, msg)\n",
    "    if topic == topiccmd:\n",
    "        aloop.create_task(callbackcmdtask(client, topicreply, msg))\n",
    "\n",
    "async def onconnecttask(client):\n",
    "    ipnumber = client._sta_if.ifconfig()[0]\n",
    "    await client.publish(topicstatus, ipnumber, retain=True)\n",
    "    await client.subscribe(topiccmd)\n",
    "    await client.subscribe(topicmessage)\n",
    "    await client.publish(topicip, ipnumber, retain=True, qos=1)\n",
    "    client.connectioncount += 1\n",
    "    print(\"subscribed\")\n",
    "            \n",
    "config['subs_cb'] = callbackcmd\n",
    "config['connect_coro'] = onconnecttask\n",
    "config['server'] = fconfig[\"mqttbroker\"]\n",
    "config['ssid'] = fconfig[\"wifiname\"]\n",
    "config['wifi_pw'] = fconfig[\"wifipassword\"]\n",
    "\n",
    "print(config)\n",
    "client = MQTTClient(config)\n",
    "client.DEBUG = True\n",
    "client.connectioncount = 0\n",
    "\n",
    "aloop = asyncio.get_event_loop()\n",
    "aloop.create_task(arcadetask(client))\n",
    "aloop.create_task(mqttconnecttask(client, None))\n",
    "aloop.run_forever()\n"
   ]
  },
  {
   "cell_type": "code",
   "execution_count": null,
   "metadata": {},
   "outputs": [],
   "source": []
  }
 ],
 "metadata": {
  "kernelspec": {
   "display_name": "MicroPython - USB",
   "language": "micropython",
   "name": "micropython"
  },
  "language_info": {
   "codemirror_mode": "python",
   "file_extension": ".py",
   "mimetype": "text/python",
   "name": "micropython"
  }
 },
 "nbformat": 4,
 "nbformat_minor": 2
}
