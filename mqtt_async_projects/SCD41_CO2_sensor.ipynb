{
 "cells": [
  {
   "cell_type": "code",
   "execution_count": 29,
   "id": "1defba01",
   "metadata": {},
   "outputs": [
    {
     "name": "stdout",
     "output_type": "stream",
     "text": [
      "#%sendtofile main.py\n",
      "\n",
      "import time, sys, machine, struct\n",
      "import uasyncio as asyncio\n",
      "from stdmqttas import fconfig, config, mqttconnecttask, callbackcmdtask\n",
      "from mqtt_as import MQTTClient\n",
      "from stdmqttas import pinled, flashpinled, shortmac, topicstem, itertools_count\n",
      "\n",
      "import network\n",
      "network.WLAN().active(0)  # disable the connection at startup\n",
      "flashpinled(5, 300, 300)\n",
      "print(\"topicstem\", topicstem)\n",
      "\n",
      "i2c = machine.I2C(scl=machine.Pin(5), sda=machine.Pin(4))\n",
      "\n",
      "topicscd30 = topicstem+\"/scd30\"\n",
      "topiccmd = topicstem+\"/cmd\"\n",
      "topicreply = topicstem+\"/reply\"\n",
      "topiconline = topicstem+\"/online\"\n",
      "topicip = topicstem+\"/ip\"\n",
      "topicerror = topicstem+\"/error\"\n",
      "\n",
      "async def SCD30task(client):\n",
      "    try:\n",
      "        i2c.writeto(0x61, b\"Ó\u0004\")   # soft reset\n",
      "        await asyncio.sleep_ms(40)\n",
      "        i2c.writeto(0x61, b\"\u0000\u0010\u0000\u0000\")   # continuous measurement\n",
      "        await asyncio.sleep_ms(40)\n",
      "        i2c.writeto(0x61, b\"F\u0000\u0000\u0002ã\")   # 2s measurement interval\n",
      "        await asyncio.sleep_ms(40)\n",
      "        for n in itertools_count():\n",
      "            y = i2c.writeto(0x61, b\"\u0002\u0002\")  # data ready?\n",
      "            await asyncio.sleep_ms(4)\n",
      "            d = i2c.readfrom(0x61, 2)    # ready is 1\n",
      "            if d == b'\u0000\u0001':\n",
      "                y = i2c.writeto(0x61, b\"\u0003\u0000\")  # read data\n",
      "                await asyncio.sleep_ms(4)\n",
      "                x = i2c.readfrom(0x61, 18)\n",
      "                #crc8(x[:2]) == x[2]  etc for every 3 bytes\n",
      "                co2, temp, humid = struct.unpack(\">fff\", bytes([x[0],x[1],x[3],x[4], x[6],x[7],x[9],x[10], x[12],x[13],x[15],x[16]]))\n",
      "                print(n, topicscd30, co2, temp, humid)\n",
      "                if client.isconnected():\n",
      "                    await client.publish(topicscd30, \"%f %f %f\"%(co2, temp, humid))\n",
      "            await asyncio.sleep_ms(500)\n",
      "    except OSError as e:\n",
      "        print(\"SCD30taskerror\", e)\n",
      "        flashpinled(5, 300, 100)\n",
      "        aloop.create_task(SCD30task(client))\n",
      "        \n",
      "def callbackcmd(topic, msg, retained):\n",
      "    aloop.create_task(callbackcmdtask(client, topicreply, msg))\n",
      "\n",
      "async def onconnecttask(client):\n",
      "    ipnumber = client._sta_if.ifconfig()[0]\n",
      "    print(\"ipnumber\", ipnumber)\n",
      "    await client.publish(topiconline, \"1\", retain=True)\n",
      "    await client.publish(topicip, ipnumber, retain=True)\n",
      "    await client.subscribe(topiccmd, 1)\n",
      "    \n",
      "config['subs_cb'] = callbackcmd\n",
      "config['connect_coro'] = onconnecttask\n",
      "config['will'] = (topiconline, \"0\", True)\n",
      "client = MQTTClient(config)\n",
      "client.DEBUG = True\n",
      "  \n",
      "aloop = asyncio.get_event_loop()\n",
      "aloop.create_task(SCD30task(client))\n",
      "aloop.create_task(mqttconnecttask(client))\n",
      "\n",
      "aloop.run_until_complete(client.publish(topicerror, \"\", retain=True))\n",
      "for n in itertools_count():\n",
      "    try:\n",
      "        aloop.run_forever()\n",
      "    except Exception as e:\n",
      "        aloop.run_until_complete(client.publish(topicerror, str(n)+\" \"+str(e), retain=True))\n"
     ]
    }
   ],
   "source": [
    "%fetchfile --print main.py"
   ]
  },
  {
   "cell_type": "code",
   "execution_count": 20,
   "id": "af3b4a4d",
   "metadata": {},
   "outputs": [
    {
     "name": "stdout",
     "output_type": "stream",
     "text": [
      "\u001b[34mConnecting to --port=/dev/ttyUSB2 --baud=115200 \u001b[0m\n",
      "\u001b[34mReady.\n",
      "\u001b[0m"
     ]
    },
    {
     "name": "stderr",
     "output_type": "stream",
     "text": [
      "Traceback (most recent call last):\n",
      "  File \"<stdin>\", line 2, in <module>\n",
      "ValueError: invalid pin\n"
     ]
    }
   ],
   "source": [
    "%serialconnect\n",
    "\n"
   ]
  },
  {
   "cell_type": "code",
   "execution_count": 25,
   "id": "bf8dac29",
   "metadata": {},
   "outputs": [
    {
     "name": "stderr",
     "output_type": "stream",
     "text": [
      "Traceback (most recent call last):\n",
      "  File \"<stdin>\", line 1, in <module>\n",
      "ValueError: invalid pin\n"
     ]
    }
   ],
   "source": [
    "print(machine.Pin(2), machine.Pin(17))"
   ]
  },
  {
   "cell_type": "code",
   "execution_count": 34,
   "id": "3bd8e6bf",
   "metadata": {},
   "outputs": [
    {
     "name": "stdout",
     "output_type": "stream",
     "text": [
      "98 [97, 98]\r\n"
     ]
    }
   ],
   "source": [
    "import machine, time, struct\n",
    "i2c = machine.I2C(scl=machine.Pin(5), sda=machine.Pin(4))\n",
    "\n",
    "#define SCD4X_I2C_ADDRESS 0x62\n",
    "print(0x62, i2c.scan())"
   ]
  },
  {
   "cell_type": "code",
   "execution_count": 16,
   "id": "62d5dbb1",
   "metadata": {},
   "outputs": [],
   "source": [
    "def crc8(b):\n",
    "    crc = 0xFF\n",
    "    for c in b:\n",
    "        crc ^= c\n",
    "        for i in range(8):\n",
    "            crc = 0xFF & (((crc << 1) ^ 0x31) if (crc & 0x80) else (crc << 1))\n",
    "    return crc\n"
   ]
  },
  {
   "cell_type": "code",
   "execution_count": 52,
   "id": "1eba735d",
   "metadata": {},
   "outputs": [
    {
     "name": "stdout",
     "output_type": "stream",
     "text": [
      "63965 65287 15198\r\n"
     ]
    }
   ],
   "source": [
    "import struct\n",
    "\n",
    "i2c.writeto(0x62, bytes([0x3F, 0x86]))   # stopPeriodicMeasurement\n",
    "time.sleep_ms(500)\n",
    "i2c.writeto(0x62, bytes([0x36, 0x82]))   # getSerialNumber\n",
    "time.sleep_ms(500)\n",
    "x = i2c.readfrom(0x62, 9)\n",
    "s0, s1, s2 = struct.unpack(\">HHH\", bytes([x[0],x[1], x[3],x[4], x[6],x[7]]))\n",
    "print(hex(s0), hex(s1), hex(s2))\n",
    "i2c.writeto(0x62, bytes([0x21, 0xB1]))   # startPeriodicMeasurement\n"
   ]
  },
  {
   "cell_type": "code",
   "execution_count": 55,
   "id": "c3ee6ea6",
   "metadata": {},
   "outputs": [
    {
     "name": "stdout",
     "output_type": "stream",
     "text": [
      "b'\\x80\\x06\\x04'\n",
      "862 19.6744 47.6776\n",
      "b'\\x80\\x00\\xa2'\n",
      "b'\\x80\\x00\\xa2'\n",
      "b'\\x80\\x00\\xa2'\n",
      "b'\\x80\\x00\\xa2'\n",
      "b'\\x80\\x00\\xa2'\n",
      "b'\\x80\\x00\\xa2'\n",
      "b'\\x80\\x00\\xa2'\n",
      "b'\\x80\\x00\\xa2'\n",
      "b'\\x80\\x00\\xa2'\n",
      "b'\\x80\\x00\\xa2'\n",
      "b'\\x80\\x00\\xa2'\n",
      "b'\\x80\\x00\\xa2'\n",
      "b'\\x80\\x00\\xa2'\n",
      "b'\\x80\\x00\\xa2'\n",
      "b'\\x80\\x00\\xa2'\n",
      "b'\\x80\\x00\\xa2'\n",
      "b'\\x80\\x00\\xa2'\n",
      "b'\\x80\\x00\\xa2'\n",
      "b'\\x80\\x00\\xa2'\n",
      "b'\\x80\\x00\\xa2'\n",
      "b'\\x80\\x00\\xa2'\n",
      "b'\\x80\\x00\\xa2'\n",
      "b'\\x80\\x00\\xa2'\n",
      "b'\\x80\\x00\\xa2'\n",
      "b'\\x80\\x00\\xa2'\n",
      "b'\\x80\\x00\\xa2'\n",
      "b'\\x80\\x00\\xa2'\n",
      "b'\\x80\\x00\\xa2'\n",
      "b'\\x80\\x00\\xa2'\n",
      "b'\\x80\\x00\\xa2'\n",
      "b'\\x80\\x00\\xa2'\n",
      "b'\\x80\\x00\\xa2'\n",
      "b'\\x80\\x00\\xa2'\n",
      "b'\\x80\\x00\\xa2'\n",
      "b'\\x80\\x00\\xa2'\n",
      "b'\\x80\\x00\\xa2'\n",
      "b'\\x80\\x00\\xa2'\n",
      "b'\\x80\\x00\\xa2'\n",
      "b'\\x80\\x00\\xa2'\n",
      "b'\\x80\\x00\\xa2'\n",
      "b'\\x80\\x00\\xa2'\n",
      "b'\\x80\\x00\\xa2'\n",
      "b'\\x80\\x00\\xa2'\n",
      "b'\\x80\\x06\\x04'\n",
      "862 19.5836 47.85\n",
      "b'\\x80\\x00\\xa2'\n",
      "b'\\x80\\x00\\xa2'\n",
      "b'\\x80\\x00\\xa2'\n",
      "b'\\x80\\x00\\xa2'\n",
      "b'\\x80\\x00\\xa2'\n",
      "b'\\x80\\x00\\xa2'\n",
      "b'\\x80\\x00\\xa2'\n",
      "b'\\x80\\x00\\xa2'\n",
      "b'\\x80\\x00\\xa2'\n",
      "b'\\x80\\x00\\xa2'\n",
      "b'\\x80\\x00\\xa2'\n",
      "b'\\x80\\x00\\xa2'\n",
      "b'\\x80\\x00\\xa2'\n",
      "b'\\x80\\x00\\xa2'\n",
      "b'\\x80\\x00\\xa2'\n",
      "b'\\x80\\x00\\xa2'\n",
      "b'\\x80\\x00\\xa2'\n",
      "b'\\x80\\x00\\xa2'\n",
      "b'\\x80\\x00\\xa2'\n",
      "b'\\x80\\x00\\xa2'\n",
      "b'\\x80\\x00\\xa2'\n",
      "b'\\x80\\x00\\xa2'\n",
      "b'\\x80\\x00\\xa2'\n",
      "b'\\x80\\x00\\xa2'\n",
      "b'\\x80\\x00\\xa2'\n",
      "b'\\x80\\x00\\xa2'\n",
      "b'\\x80\\x00\\xa2'\n",
      "b'\\x80\\x00\\xa2'\n",
      "b'\\x80\\x00\\xa2'\n",
      "b'\\x80\\x00\\xa2'\n",
      "b'\\x80\\x00\\xa2'\n",
      "b'\\x80\\x00\\xa2'\n",
      "b'\\x80\\x00\\xa2'\n",
      "b'\\x80\\x00\\xa2'\n",
      "b'\\x80\\x00\\xa2'\n",
      "b'\\x80\\x00\\xa2'\n",
      "b'\\x80\\x00\\xa2'\n",
      "b'\\x80\\x00\\xa2'\n",
      "b'\\x80\\x00\\xa2'\n",
      "b'\\x80\\x00\\xa2'\n",
      "b'\\x80\\x00\\xa2'\n",
      "b'\\x80\\x00\\xa2'\n",
      "b'\\x80\\x00\\xa2'\n",
      "b'\\x80\\x00\\xa2'\n",
      "b'\\x80\\x00\\xa2'\n",
      "b'\\x80\\x06\\x04'\n",
      "863 19.4955 48.0759\n",
      "b'\\x80\\x00\\xa2'\n",
      "b'\\x80\\x00\\xa2'\n",
      "b'\\x80\\x00\\xa2'\n",
      "b'\\x80\\x00\\xa2'\n",
      "b'\\x80\\x00\\xa2'\n",
      "b'\\x80\\x00\\xa2'\n",
      "b'\\x80\\x00\\xa2'\n",
      "b'\\x80\\x00\\xa2'\n",
      "b'\\x80\\x00\\xa2'\n"
     ]
    }
   ],
   "source": [
    "x = None\n",
    "for i in range(100):\n",
    "    time.sleep_ms(100)\n",
    "    i2c.writeto(0x62, bytes([0xE4, 0xB8]))   # check ready\n",
    "    time.sleep_ms(1)\n",
    "    x = i2c.readfrom(0x62, 3)\n",
    "    print(x)\n",
    "    if (x[0] == 0x80 and x[1] == 0x00):\n",
    "        continue\n",
    "    \n",
    "    time.sleep_ms(5)\n",
    "    i2c.writeto(0x62, bytes([0xEC, 0x05]))   # readMeasurement\n",
    "    time.sleep_ms(1)\n",
    "    x = i2c.readfrom(0x62, 9)\n",
    "    co2, utemp, uhumid = struct.unpack(\">HHH\", bytes([x[0],x[1], x[3],x[4], x[6],x[7]]))\n",
    "    temp = utemp*175.0/65536.0 - 45.0\n",
    "    humid = uhumid*100.0/65536.0\n",
    "    print(co2, temp, humid)\n"
   ]
  },
  {
   "cell_type": "code",
   "execution_count": 45,
   "id": "6d06871d",
   "metadata": {},
   "outputs": [],
   "source": [
    "i2c.writeto(0x62, bytes([0xEC, 0x05]))   # readMeasurement\n",
    "time.sleep_ms(1)\n",
    "x = i2c.readfrom(0x62, 9)\n"
   ]
  },
  {
   "cell_type": "code",
   "execution_count": 46,
   "id": "f9dcf1ca",
   "metadata": {},
   "outputs": [
    {
     "name": "stdout",
     "output_type": "stream",
     "text": [
      "b'\\x03z\\x8f_\\x8f\\xabv\\xda?'\r\n"
     ]
    }
   ],
   "source": [
    "print(x)"
   ]
  },
  {
   "cell_type": "code",
   "execution_count": null,
   "id": "e52bfe7a",
   "metadata": {},
   "outputs": [],
   "source": []
  }
 ],
 "metadata": {
  "kernelspec": {
   "display_name": "MicroPython - USB",
   "language": "micropython",
   "name": "micropython"
  },
  "language_info": {
   "codemirror_mode": "python",
   "file_extension": ".py",
   "mimetype": "text/python",
   "name": "micropython"
  }
 },
 "nbformat": 4,
 "nbformat_minor": 5
}
