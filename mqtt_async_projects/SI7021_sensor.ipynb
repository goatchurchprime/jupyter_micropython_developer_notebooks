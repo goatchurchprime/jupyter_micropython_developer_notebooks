{
 "cells": [
  {
   "cell_type": "code",
   "execution_count": 2,
   "metadata": {},
   "outputs": [
    {
     "name": "stdout",
     "output_type": "stream",
     "text": [
      "\u001b[34mConnecting to --port=/dev/ttyUSB1 --baud=115200 \u001b[0m\n",
      "\u001b[34mReady.\n",
      "\u001b[0m"
     ]
    }
   ],
   "source": [
    "%serialconnect"
   ]
  },
  {
   "cell_type": "code",
   "execution_count": 3,
   "metadata": {},
   "outputs": [
    {
     "name": "stdout",
     "output_type": "stream",
     "text": [
      "Sent 6 lines (225 bytes) to config.txt.\n"
     ]
    }
   ],
   "source": [
    "%sendtofile config.txt\n",
    "\n",
    "pinled       -2\n",
    "pinfan       12\n",
    "boardname    esp8266sense3\n",
    "connection1  BV6000,bubblino,192.168.43.1\n"
   ]
  },
  {
   "cell_type": "code",
   "execution_count": 3,
   "metadata": {},
   "outputs": [
    {
     "name": "stdout",
     "output_type": "stream",
     "text": [
      "Sent 55 lines (2040 bytes) to SI7021_funcs.py.\n"
     ]
    }
   ],
   "source": [
    "%sendtofile --source ../Sensor_Kennel/SI7021_funcs.py"
   ]
  },
  {
   "cell_type": "code",
   "execution_count": 15,
   "metadata": {},
   "outputs": [
    {
     "name": "stdout",
     "output_type": "stream",
     "text": [
      "Sent 75 lines (2600 bytes) to stdmqttas.py.\n",
      "Sent 32 lines (969 bytes) to utils.py.\n"
     ]
    }
   ],
   "source": [
    "%sendtofile --source stdmqttas.py\n",
    "%sendtofile --quiet --source utils.py"
   ]
  },
  {
   "cell_type": "code",
   "execution_count": 13,
   "metadata": {},
   "outputs": [
    {
     "name": "stdout",
     "output_type": "stream",
     "text": [
      "Sent 78 lines (2468 bytes) to main.py.\n"
     ]
    }
   ],
   "source": [
    "%sendtofile main.py\n",
    "\n",
    "import time\n",
    "from machine import Pin\n",
    "import uasyncio as asyncio\n",
    "from stdmqttas import fconfig, config, mqttconnecttask, callbackcmdtask, flashledconnectedtask\n",
    "from stdmqttas import pinled, flashpinled, shortmac, topicstem\n",
    "from mqtt_as import MQTTClient\n",
    "from SI7021_funcs import setupSI7021, SI7021checkchip, SI7021printstatus, SI7021humiditytemp\n",
    "\n",
    "import network\n",
    "network.WLAN().active(0)  # disable the connection at startup\n",
    "pinfan = Pin(int(fconfig[\"pinfan\"]), Pin.OUT)\n",
    "flashpinled(5, 300, 300)\n",
    "\n",
    "def itertools_count():\n",
    "    n = 0\n",
    "    while True:\n",
    "        yield n\n",
    "        n += 1\n",
    "\n",
    "i2c = machine.I2C(scl=machine.Pin(5), sda=machine.Pin(4))\n",
    "print(list(map(hex, i2c.scan())))\n",
    "\n",
    "topicfan = topicstem+\"/fan\"\n",
    "topiccmd = topicstem+\"/cmd\"\n",
    "topicreply = topicstem+\"/reply\"\n",
    "topiconline = topicstem+\"/online\"\n",
    "topicip = topicstem+\"/ip\"\n",
    "topicerror = topicstem+\"/error\"\n",
    "topicbmeSI7021 = topicstem+'/si7021'\n",
    "\n",
    "async def si7021task():\n",
    "    btoinit = True\n",
    "    for i in itertools_count():\n",
    "        try:\n",
    "            if btoinit:\n",
    "                setupSI7021(i2c)\n",
    "                btoinit = False\n",
    "                await asyncio.sleep_ms(100)\n",
    "            h, t = SI7021humiditytemp()\n",
    "            payload = \"%f %f\"%(h, t)\n",
    "            if client.isconnected():\n",
    "                print(payload)\n",
    "                await client.publish(topicbmeSI7021, payload)\n",
    "        except OSError as e:\n",
    "            print(\"si7021task\", e)\n",
    "            btoinit = True\n",
    "        await asyncio.sleep_ms(500)\n",
    "        \n",
    "        \n",
    "def callbackcmd(topic, msg, retained):\n",
    "    aloop.create_task(callbackcmdtask(client, topicreply, msg))\n",
    "\n",
    "async def onconnecttask(client):\n",
    "    ipnumber = client._sta_if.ifconfig()[0]\n",
    "    print(\"ipnumber\", ipnumber, \"to\", client._ssid, client.server)\n",
    "    await client.publish(topiconline, \"1\", retain=True)\n",
    "    await client.publish(topicip, ipnumber, retain=True)\n",
    "    await client.subscribe(topiccmd, 1)\n",
    "    \n",
    "config['port'] = 4500\n",
    "config['subs_cb'] = callbackcmd\n",
    "config['connect_coro'] = onconnecttask\n",
    "config['will'] = (topiconline, \"0\", True)\n",
    "client = MQTTClient(config)\n",
    "client.DEBUG = True\n",
    "    \n",
    "aloop = asyncio.get_event_loop()\n",
    "aloop.create_task(si7021task())\n",
    "aloop.create_task(flashledconnectedtask(client))\n",
    "aloop.create_task(mqttconnecttask(client))\n",
    "\n",
    "aloop.run_until_complete(client.publish(topicerror, \"\", retain=True))\n",
    "for n in itertools_count():\n",
    "    try:\n",
    "        aloop.run_forever()\n",
    "    except Exception as e:\n",
    "        aloop.run_until_complete(client.publish(topicerror, str(n)+\" \"+str(e), retain=True))\n",
    "\n"
   ]
  },
  {
   "cell_type": "code",
   "execution_count": 11,
   "metadata": {},
   "outputs": [
    {
     "name": "stdout",
     "output_type": "stream",
     "text": [
      "\u001b[34mConnecting to --port=/dev/ttyUSB1 --baud=115200 \u001b[0m\n",
      "\u001b[34mReady.\n",
      "\u001b[0m"
     ]
    }
   ],
   "source": [
    "%serialconnect"
   ]
  },
  {
   "cell_type": "code",
   "execution_count": 12,
   "metadata": {
    "scrolled": true
   },
   "outputs": [
    {
     "name": "stdout",
     "output_type": "stream",
     "text": [
      "{'wifi_coro': <generator>, 'server': 'mosquitto.doesliverpool.xyz', 'ssl': False, 'port': 0, 'ssl_params': {}, 'response_time': 10, 'will': ('esp8266/1756B9/online', '0', True), 'subs_cb': <function callbackcmd at 0x3fff2640>, 'ssid': 'JulianS9', 'wifi_pw': 'beckaaaa', 'clean_init': True, 'user': '', 'max_repubs': 4, 'password': '', 'ping_interval': 30, 'connect_coro': <generator>, 'clean': True, 'keepalive': 60, 'client_id': b'b9561700'}\n"
     ]
    }
   ],
   "source": [
    "            h, t = SI7021humiditytemp()\n"
   ]
  },
  {
   "cell_type": "code",
   "execution_count": null,
   "metadata": {},
   "outputs": [],
   "source": []
  }
 ],
 "metadata": {
  "kernelspec": {
   "display_name": "MicroPython - USB",
   "language": "micropython",
   "name": "micropython"
  },
  "language_info": {
   "codemirror_mode": "python",
   "file_extension": ".py",
   "mimetype": "text/python",
   "name": "micropython"
  }
 },
 "nbformat": 4,
 "nbformat_minor": 2
}
