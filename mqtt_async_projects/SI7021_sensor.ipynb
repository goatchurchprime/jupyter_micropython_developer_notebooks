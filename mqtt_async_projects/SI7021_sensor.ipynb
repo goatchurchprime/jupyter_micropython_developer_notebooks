{
 "cells": [
  {
   "cell_type": "code",
   "execution_count": 1,
   "metadata": {},
   "outputs": [
    {
     "name": "stdout",
     "output_type": "stream",
     "text": [
      "\u001b[34mConnecting to --port=/dev/ttyUSB1 --baud=115200 \u001b[0m\n",
      "\u001b[34mReady.\n",
      "\u001b[0m"
     ]
    }
   ],
   "source": [
    "%serialconnect"
   ]
  },
  {
   "cell_type": "code",
   "execution_count": 2,
   "metadata": {},
   "outputs": [
    {
     "name": "stdout",
     "output_type": "stream",
     "text": [
      "Sent 1 lines (15 bytes) to config.txt.\n"
     ]
    }
   ],
   "source": [
    "%sendtofile --source wifimqttconnections.txt config.txt\n",
    "%sendtofile --append config.txt\n",
    "\n",
    "pinled       -2"
   ]
  },
  {
   "cell_type": "code",
   "execution_count": 3,
   "metadata": {},
   "outputs": [
    {
     "name": "stdout",
     "output_type": "stream",
     "text": [
      "Sent 43 lines (1090 bytes) to SHT31D_funcs.py.\n"
     ]
    }
   ],
   "source": [
    "%sendtofile --source ../Sensor_Kennel/SI7021_funcs.py\n",
    "%sendtofile --source ../Sensor_Kennel/SHT31D_funcs.py"
   ]
  },
  {
   "cell_type": "code",
   "execution_count": 4,
   "metadata": {},
   "outputs": [
    {
     "name": "stdout",
     "output_type": "stream",
     "text": [
      "Sent 81 lines (2677 bytes) to stdmqttas.py.\n",
      "Sent 32 lines (969 bytes) to utils.py.\n"
     ]
    }
   ],
   "source": [
    "%sendtofile --source stdmqttas.py\n",
    "%sendtofile --quiet --source utils.py"
   ]
  },
  {
   "cell_type": "code",
   "execution_count": 5,
   "metadata": {},
   "outputs": [
    {
     "name": "stdout",
     "output_type": "stream",
     "text": [
      "\u001b[34mConnecting to --port=/dev/ttyUSB1 --baud=115200 \u001b[0m\n",
      "\u001b[34mReady.\n",
      "\u001b[0m"
     ]
    }
   ],
   "source": [
    "%serialconnect"
   ]
  },
  {
   "cell_type": "code",
   "execution_count": 6,
   "metadata": {},
   "outputs": [
    {
     "name": "stdout",
     "output_type": "stream",
     "text": [
      "Sent 92 lines (3008 bytes) to main.py.\n"
     ]
    }
   ],
   "source": [
    "%sendtofile main.py\n",
    "\n",
    "import time\n",
    "from machine import Pin\n",
    "import uasyncio as asyncio\n",
    "from stdmqttas import fconfig, config, mqttconnecttask, callbackcmdtask, flashledconnectedtask\n",
    "from stdmqttas import pinled, flashpinled, shortmac, topicstem, itertools_count\n",
    "from mqtt_as import MQTTClient\n",
    "from SI7021_funcs import setupSI7021, SI7021checkchip, SI7021printstatus, SI7021humiditytemp\n",
    "from SHT31D_funcs import SHT31Dsetup, readSHT31D\n",
    "\n",
    "import network\n",
    "network.WLAN().active(0)  # disable the connection at startup\n",
    "flashpinled(5, 300, 300)\n",
    "\n",
    "i2c = machine.I2C(scl=machine.Pin(5), sda=machine.Pin(4))\n",
    "print(list(map(hex, i2c.scan())))\n",
    "\n",
    "topicfan = topicstem+\"/fan\"\n",
    "topiccmd = topicstem+\"/cmd\"\n",
    "topicreply = topicstem+\"/reply\"\n",
    "topiconline = topicstem+\"/online\"\n",
    "topicip = topicstem+\"/ip\"\n",
    "topicerror = topicstem+\"/error\"\n",
    "topicSI7021 = topicstem+'/si7021'\n",
    "topicSHT31D = topicstem+'/sht31d'\n",
    "\n",
    "async def si7021task():\n",
    "    btoinit = True\n",
    "    for i in itertools_count():\n",
    "        try:\n",
    "            if btoinit:\n",
    "                setupSI7021(i2c)\n",
    "                btoinit = False\n",
    "                await asyncio.sleep_ms(100)\n",
    "            h, t = SI7021humiditytemp()\n",
    "            payload = \"%f %f\"%(h, t)\n",
    "            if client.isconnected():\n",
    "                print(payload)\n",
    "                await client.publish(topicSI7021, payload)\n",
    "        except OSError as e:\n",
    "            print(\"si7021task\", e)\n",
    "            btoinit = True\n",
    "        await asyncio.sleep_ms(500)\n",
    "\n",
    "async def sht31dtask():\n",
    "    btoinit = True\n",
    "    for i in itertools_count():\n",
    "        try:\n",
    "            if btoinit:\n",
    "                SHT31Dsetup(i2c)\n",
    "                btoinit = False\n",
    "                await asyncio.sleep_ms(350)\n",
    "            t, h = readSHT31D()\n",
    "            payload = \"%f %f\"%(h, t)\n",
    "            if client.isconnected():\n",
    "                print(payload)\n",
    "                await client.publish(topicSHT31D, payload)\n",
    "        except OSError as e:\n",
    "            print(\"sht31dtask\", e)\n",
    "            btoinit = True\n",
    "        await asyncio.sleep_ms(500)\n",
    "        \n",
    "    \n",
    "def callbackcmd(topic, msg, retained):\n",
    "    aloop.create_task(callbackcmdtask(client, topicreply, msg))\n",
    "\n",
    "async def onconnecttask(client):\n",
    "    ipnumber = client._sta_if.ifconfig()[0]\n",
    "    print(\"ipnumber\", ipnumber, \"to\", client._ssid, client.server)\n",
    "    await client.publish(topiconline, \"1\", retain=True)\n",
    "    await client.publish(topicip, ipnumber, retain=True)\n",
    "    await client.subscribe(topiccmd, 1)\n",
    "    \n",
    "config['port'] = 4500\n",
    "config['subs_cb'] = callbackcmd\n",
    "config['connect_coro'] = onconnecttask\n",
    "config['will'] = (topiconline, \"0\", True)\n",
    "client = MQTTClient(config)\n",
    "client.DEBUG = True\n",
    "    \n",
    "aloop = asyncio.get_event_loop()\n",
    "aloop.create_task(si7021task())\n",
    "aloop.create_task(sht31dtask())\n",
    "aloop.create_task(flashledconnectedtask(client))\n",
    "aloop.create_task(mqttconnecttask(client))\n",
    "\n",
    "aloop.run_until_complete(client.publish(topicerror, \"\", retain=True))\n",
    "for n in itertools_count():\n",
    "    try:\n",
    "        aloop.run_forever()\n",
    "    except Exception as e:\n",
    "        aloop.run_until_complete(client.publish(topicerror, str(n)+\" \"+str(e), retain=True))\n",
    "\n"
   ]
  },
  {
   "cell_type": "code",
   "execution_count": 11,
   "metadata": {},
   "outputs": [
    {
     "name": "stdout",
     "output_type": "stream",
     "text": [
      "\u001b[34mConnecting to --port=/dev/ttyUSB2 --baud=115200 \u001b[0m\n",
      "\u001b[34mReady.\n",
      "\u001b[0m"
     ]
    }
   ],
   "source": [
    "%serialconnect"
   ]
  },
  {
   "cell_type": "code",
   "execution_count": 12,
   "metadata": {},
   "outputs": [
    {
     "name": "stdout",
     "output_type": "stream",
     "text": [
      "[leftinbuffer] ['scandone']\n",
      "[leftinbuffer] ['no JulianS9 found, reconnect after 1s']\n",
      "[leftinbuffer] ['reconnect']\n",
      "[leftinbuffer] ['scandone']\n",
      "[leftinbuffer] ['no JulianS9 found, reconnect after 1s']\n",
      "[leftinbuffer] ['reconnect']\n",
      "[leftinbuffer] ['scandone']\n",
      "[leftinbuffer] ['no JulianS9 found, reconnect after 1s']\n",
      "[leftinbuffer] ['reconnect']\n",
      "[leftinbuffer] ['scandone']\n",
      "[leftinbuffer] ['no JulianS9 found, reconnect after 1s']\n",
      "[leftinbuffer] ['reconnect']\n",
      "[leftinbuffer] ['scandone']\n",
      "[leftinbuffer] ['no JulianS9 found, reconnect after 1s']\n",
      "[leftinbuffer] ['reconnect']\n",
      "[leftinbuffer] ['scandone']\n",
      "[leftinbuffer] ['no JulianS9 found, reconnect after 1s']\n",
      "[leftinbuffer] ['reconnect']\n",
      "scandone\n",
      "del if0\n",
      "mode : softAP(3e:71:bf:2c:af:0f)\n"
     ]
    }
   ],
   "source": [
    "from network import WLAN\n",
    "WLAN().active(0)"
   ]
  },
  {
   "cell_type": "code",
   "execution_count": 69,
   "metadata": {},
   "outputs": [
    {
     "name": "stdout",
     "output_type": "stream",
     "text": [
      "\u001b[34mConnecting to --port=/dev/ttyUSB3 --baud=115200 \u001b[0m\n",
      "\u001b[34mReady.\n",
      "\u001b[0m"
     ]
    }
   ],
   "source": [
    "%serialconnect"
   ]
  },
  {
   "cell_type": "code",
   "execution_count": 70,
   "metadata": {},
   "outputs": [
    {
     "name": "stdout",
     "output_type": "stream",
     "text": [
      "['0x40', '0x44']\r\n"
     ]
    }
   ],
   "source": [
    "import machine\n",
    "i2c = machine.I2C(scl=machine.Pin(5), sda=machine.Pin(4))\n",
    "print(list(map(hex, i2c.scan())))\n"
   ]
  },
  {
   "cell_type": "code",
   "execution_count": 72,
   "metadata": {
    "scrolled": true
   },
   "outputs": [
    {
     "name": "stdout",
     "output_type": "stream",
     "text": [
      "b'\\x80\\x10\\xe1' 0xe1\n",
      "b'\\x80pZ' 0x5a\n",
      "(16.6846, 52.9625)\n"
     ]
    }
   ],
   "source": [
    "\n",
    "\n",
    "from SHT31D_funcs import SHT31Dsetup, readSHT31D\n",
    "x = SHT31Dsetup(i2c)\n",
    "print(readSHT31D())\n",
    "    \n",
    "    "
   ]
  },
  {
   "cell_type": "code",
   "execution_count": null,
   "metadata": {},
   "outputs": [],
   "source": []
  },
  {
   "cell_type": "code",
   "execution_count": null,
   "metadata": {},
   "outputs": [],
   "source": []
  },
  {
   "cell_type": "code",
   "execution_count": null,
   "metadata": {},
   "outputs": [],
   "source": [
    "\n",
    "\n"
   ]
  }
 ],
 "metadata": {
  "kernelspec": {
   "display_name": "MicroPython - USB",
   "language": "micropython",
   "name": "micropython"
  },
  "language_info": {
   "codemirror_mode": "python",
   "file_extension": ".py",
   "mimetype": "text/python",
   "name": "micropython"
  }
 },
 "nbformat": 4,
 "nbformat_minor": 2
}
