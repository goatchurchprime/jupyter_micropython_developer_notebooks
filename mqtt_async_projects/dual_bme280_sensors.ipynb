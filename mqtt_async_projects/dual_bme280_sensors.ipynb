{
 "cells": [
  {
   "cell_type": "code",
   "execution_count": 1,
   "metadata": {},
   "outputs": [
    {
     "name": "stdout",
     "output_type": "stream",
     "text": [
      "\u001b[34mConnecting to --port=/dev/ttyUSB1 --baud=115200 \u001b[0m\n",
      "\u001b[34mReady.\n",
      "\u001b[0m"
     ]
    }
   ],
   "source": [
    "%serialconnect"
   ]
  },
  {
   "cell_type": "code",
   "execution_count": 3,
   "metadata": {},
   "outputs": [
    {
     "name": "stdout",
     "output_type": "stream",
     "text": [
      "Sent 7 lines (174 bytes) to config.txt.\n"
     ]
    }
   ],
   "source": [
    "%sendtofile config.txt\n",
    "\n",
    "wifiname     BV6000\n",
    "wifipassword bubblino\n",
    "mqttbroker   192.168.43.1\n",
    "pinled       -2\n",
    "pinfan       12\n",
    "boardname    esp8266sens2\n",
    "connection1  DoESLiverpool,decafbad00,10.0.100.1"
   ]
  },
  {
   "cell_type": "code",
   "execution_count": 7,
   "metadata": {},
   "outputs": [
    {
     "name": "stdout",
     "output_type": "stream",
     "text": [
      "Sent 79 lines (3304 bytes) to BME280_funcs.py.\n"
     ]
    }
   ],
   "source": [
    "%sendtofile --source ../Sensor_Kennel/BME280_funcs.py"
   ]
  },
  {
   "cell_type": "code",
   "execution_count": 15,
   "metadata": {},
   "outputs": [
    {
     "name": "stdout",
     "output_type": "stream",
     "text": [
      "Sent 73 lines (2582 bytes) to stdmqttas.py.\n",
      "Sent 32 lines (969 bytes) to utils.py.\n"
     ]
    }
   ],
   "source": [
    "%sendtofile --source stdmqttas.py\n",
    "%sendtofile --quiet --source utils.py"
   ]
  },
  {
   "cell_type": "code",
   "execution_count": 13,
   "metadata": {},
   "outputs": [
    {
     "name": "stdout",
     "output_type": "stream",
     "text": [
      "\u001b[34mConnecting to --port=/dev/ttyUSB0 --baud=115200 \u001b[0m\n",
      "\u001b[34mReady.\n",
      "\u001b[0m"
     ]
    }
   ],
   "source": [
    "%serialconnect"
   ]
  },
  {
   "cell_type": "code",
   "execution_count": 16,
   "metadata": {},
   "outputs": [
    {
     "name": "stdout",
     "output_type": "stream",
     "text": [
      "Sent 99 lines (3351 bytes) to main.py.\n"
     ]
    }
   ],
   "source": [
    "%sendtofile main.py\n",
    "\n",
    "import time, itertools\n",
    "from machine import Pin\n",
    "import uasyncio as asyncio\n",
    "from stdmqttas import fconfig, config, mqttconnecttask, callbackcmdtask, flashledconnectedtask\n",
    "from stdmqttas import pinled, flashpinled, shortmac, topicstem\n",
    "from mqtt_as import MQTTClient\n",
    "from BME280_funcs import bme280init, readBME280\n",
    "\n",
    "import network\n",
    "network.WLAN().active(0)  # disable the connection at startup\n",
    "pinfan = Pin(int(fconfig[\"pinfan\"]), Pin.OUT)\n",
    "flashpinled(5, 300, 300)\n",
    "\n",
    "i2c = machine.I2C(scl=machine.Pin(5), sda=machine.Pin(4))\n",
    "print(list(map(hex, i2c.scan())))\n",
    "\n",
    "topicfan = topicstem+\"/fan\"\n",
    "topiccmd = topicstem+\"/cmd\"\n",
    "topicreply = topicstem+\"/reply\"\n",
    "topiconline = topicstem+\"/online\"\n",
    "topicip = topicstem+\"/ip\"\n",
    "topicerror = topicstem+\"/error\"\n",
    "topicbme280A = topicstem+'/bme280/A'\n",
    "topicbme280B = topicstem+'/bme280/B'\n",
    "\n",
    "# dereferenced so we can swap the sample rate so we can \n",
    "# see how it affects the temperature and fan combinations\n",
    "bmeparams = [[0x76, topicbme280A, 500],\n",
    "             [0x77, topicbme280B, 60000]]\n",
    "\n",
    "async def fantask():\n",
    "    pinfan.value(0)\n",
    "    while not client.isconnected():\n",
    "        pinfan.value(1-pinfan.value())\n",
    "        await asyncio.sleep_ms(1000)\n",
    "    pinfan.value(0)\n",
    "    await client.publish(topicfan, str(pinfan.value()), retain=True, qos=1)\n",
    "    for i in itertools.count():\n",
    "        print(\"fantask\", i)\n",
    "        if (i%3) == 2:\n",
    "            bmeparams[0][2], bmeparams[1][2] = bmeparams[1][2], bmeparams[0][2]\n",
    "            print(\"fliptimes\", bmeparams[0][2], bmeparams[1][2])\n",
    "        if (i%4) == 1:\n",
    "            v = 1-pinfan.value()\n",
    "            print(topicfan, v)\n",
    "            await client.publish(topicfan, str(v), retain=True, qos=1)\n",
    "            pinfan.value(v)\n",
    "        await asyncio.sleep_ms(15*60*1000)\n",
    "    \n",
    "async def bme280task(k):\n",
    "    btoinit = True\n",
    "    addr, topic = bmeparams[k][:2]\n",
    "    for i in itertools.count():\n",
    "        try:\n",
    "            if btoinit:\n",
    "                bme280init(i2c, addr)\n",
    "                btoinit = False\n",
    "                await asyncio.sleep_ms(100)\n",
    "            meas = readBME280(addr)\n",
    "            payload = \" \".join(map(str, meas))\n",
    "            if client.isconnected():\n",
    "                print(topic, meas)\n",
    "                await client.publish(topic, payload)\n",
    "        except OSError as e:\n",
    "            print(\"bme280task\", e)\n",
    "            btoinit = True\n",
    "        await asyncio.sleep_ms(bmeparams[k][2])\n",
    "\n",
    "        \n",
    "def callbackcmd(topic, msg, retained):\n",
    "    aloop.create_task(callbackcmdtask(client, topicreply, msg))\n",
    "\n",
    "async def onconnecttask(client):\n",
    "    ipnumber = client._sta_if.ifconfig()[0]\n",
    "    print(\"ipnumber\", ipnumber)\n",
    "    await client.publish(topiconline, \"1\", retain=True)\n",
    "    await client.publish(topicip, ipnumber, retain=True)\n",
    "    await client.subscribe(topiccmd, 1)\n",
    "    \n",
    "config['subs_cb'] = callbackcmd\n",
    "config['connect_coro'] = onconnecttask\n",
    "config['will'] = (topiconline, \"0\", True)\n",
    "client = MQTTClient(config)\n",
    "client.DEBUG = True\n",
    "    \n",
    "aloop = asyncio.get_event_loop()\n",
    "aloop.create_task(bme280task(0))\n",
    "aloop.create_task(bme280task(1))\n",
    "aloop.create_task(fantask())\n",
    "aloop.create_task(flashledconnectedtask(client))\n",
    "aloop.create_task(mqttconnecttask(client))\n",
    "\n",
    "aloop.run_until_complete(client.publish(topicerror, \"\", retain=True))\n",
    "for n in itertools.count():\n",
    "    try:\n",
    "        aloop.run_forever()\n",
    "    except Exception as e:\n",
    "        aloop.run_until_complete(client.publish(topicerror, str(n)+\" \"+str(e), retain=True))\n",
    "\n"
   ]
  },
  {
   "cell_type": "code",
   "execution_count": 17,
   "metadata": {},
   "outputs": [
    {
     "name": "stdout",
     "output_type": "stream",
     "text": [
      "\u001b[34mattempt to exit paste mode\n",
      "\u001b[0m\u001b[34m[\\r\\x03\\x02] \u001b[0mb'\\r\\nMicroPython v1.11-576-gd667bc642 on 2019-11-12; ESP module with ESP8266\\r\\nType \"help()\" for more information.\\r\\n>>> '\u001b[34m\n",
      "Closing serial Serial<id=0x7f1b7cb5a1d0, open=True>(port='/dev/ttyUSB0', baudrate=115200, bytesize=8, parity='N', stopbits=1, timeout=0.5, xonxoff=False, rtscts=False, dsrdtr=False)\n",
      "\u001b[0m"
     ]
    }
   ],
   "source": [
    "%disconnect"
   ]
  },
  {
   "cell_type": "code",
   "execution_count": null,
   "metadata": {},
   "outputs": [],
   "source": []
  },
  {
   "cell_type": "code",
   "execution_count": null,
   "metadata": {},
   "outputs": [],
   "source": []
  }
 ],
 "metadata": {
  "kernelspec": {
   "display_name": "MicroPython - USB",
   "language": "micropython",
   "name": "micropython"
  },
  "language_info": {
   "codemirror_mode": "python",
   "file_extension": ".py",
   "mimetype": "text/python",
   "name": "micropython"
  }
 },
 "nbformat": 4,
 "nbformat_minor": 2
}
