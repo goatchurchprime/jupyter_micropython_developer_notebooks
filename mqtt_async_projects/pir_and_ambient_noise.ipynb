{
 "cells": [
  {
   "cell_type": "code",
   "execution_count": null,
   "metadata": {},
   "outputs": [],
   "source": [
    "# Small ESP8266\n",
    "\n",
    "#      RST          |  GPIO1   TX\n",
    "#       A0          |  GPIO3   RX\n",
    "#       D0  GPIO16  |  GPIO5   D1  SCL\n",
    "# SCK   D5  GPIO14  |  GPIO4   D2  SDA\n",
    "# MISO  D6  GPIO12  |  GPIO0   D3\n",
    "# MOSI  D7  GPIO13  |  GPIO2   D4  LED\n",
    "# SS    D8  GPIO15  |          GND\n",
    "#      3V3          |          5V\n",
    "\n",
    "# (not able to get the mDNS to work for esp8266)"
   ]
  },
  {
   "cell_type": "code",
   "execution_count": 1,
   "metadata": {},
   "outputs": [
    {
     "name": "stdout",
     "output_type": "stream",
     "text": [
      "\u001b[34mConnecting to --port=/dev/ttyUSB0 --baud=115200 \u001b[0m\n",
      "\u001b[34mReady.\n",
      "\u001b[0m"
     ]
    }
   ],
   "source": [
    "%serialconnect"
   ]
  },
  {
   "cell_type": "code",
   "execution_count": 4,
   "metadata": {},
   "outputs": [
    {
     "name": "stdout",
     "output_type": "stream",
     "text": [
      "Sent 7 lines (173 bytes) to config.txt.\n"
     ]
    }
   ],
   "source": [
    "%sendtofile config.txt\n",
    "\n",
    "wifiname     DoESLiverpool\n",
    "wifipassword decafbad00\n",
    "mqttbroker   10.0.100.1\n",
    "pinled       -2\n",
    "pinpir       13\n",
    "connection1  BV6000,bubblino,192.168.43.1"
   ]
  },
  {
   "cell_type": "code",
   "execution_count": 3,
   "metadata": {},
   "outputs": [
    {
     "name": "stdout",
     "output_type": "stream",
     "text": [
      "Sent 32 lines (969 bytes) to utils.py.\n",
      "Sent 76 lines (2732 bytes) to stdmqttas.py.\n"
     ]
    }
   ],
   "source": [
    "%sendtofile --quiet --source utils.py\n",
    "%sendtofile --quiet --source stdmqttas.py"
   ]
  },
  {
   "cell_type": "code",
   "execution_count": 8,
   "metadata": {},
   "outputs": [
    {
     "name": "stdout",
     "output_type": "stream",
     "text": [
      "serial exception on close write failed: [Errno 5] Input/output error\n",
      "\u001b[34mConnecting to --port=/dev/ttyUSB2 --baud=115200 \u001b[0m\n",
      "\u001b[34mReady.\n",
      "\u001b[0m"
     ]
    }
   ],
   "source": [
    "%serialconnect"
   ]
  },
  {
   "cell_type": "code",
   "execution_count": 10,
   "metadata": {},
   "outputs": [
    {
     "name": "stdout",
     "output_type": "stream",
     "text": [
      "Sent 48 lines (1631 bytes) to main.py.\n"
     ]
    }
   ],
   "source": [
    "%sendtofile main.py\n",
    "\n",
    "import time, sys, machine, itertools, ustruct\n",
    "import uasyncio as asyncio\n",
    "from stdmqttas import fconfig, config, mqttconnecttask, callbackcmdtask\n",
    "from mqtt_as import MQTTClient\n",
    "from stdmqttas import pinled, flashpinled, shortmac, topicstem, topicstatus\n",
    "\n",
    "import network\n",
    "network.WLAN().active(0)  # disable the connection at startup\n",
    "pinpir = machine.Pin(int(fconfig[\"pinpir\"]), machine.Pin.IN)\n",
    "flashpinled(5, 300, 300)\n",
    "\n",
    "print(\"topicstem\", topicstem)\n",
    "\n",
    "topicpir = topicstem+\"/pir\"\n",
    "topiccmd = topicstem+\"/cmd\"\n",
    "topicreply = topicstem+\"/reply\"\n",
    "topiconline = topicstem+\"/online\"\n",
    "topicip = topicstem+\"/ip\"\n",
    "\n",
    "async def pirchangedetectiontask(client):\n",
    "    pirstate = -2\n",
    "    for n in itertools.count():\n",
    "        prevpirstate, pirstate = pirstate, pinpir.value()\n",
    "        if pirstate != prevpirstate:\n",
    "            if client.isconnected():\n",
    "                await client.publish(topicpir, str(pirstate), retain=True)\n",
    "                blinkstate = ((n%400) == 0)\n",
    "                pinled.value((1-pirstate) != blinkstate)\n",
    "            else:\n",
    "                pirstate = -2\n",
    "        await asyncio.sleep_ms(5)\n",
    "        \n",
    "def callbackcmd(topic, msg, retained):\n",
    "    aloop.create_task(callbackcmdtask(client, topicreply, msg))\n",
    "\n",
    "    \n",
    "async def onconnecttask(client):\n",
    "    ipnumber = client._sta_if.ifconfig()[0]\n",
    "    print(\"ipnumber\", ipnumber)\n",
    "    await client.publish(topiconline, \"1\", retain=True)\n",
    "    await client.publish(topicip, ipnumber, retain=True)\n",
    "    await client.subscribe(topiccmd, 1)\n",
    "        \n",
    "config['subs_cb'] = callbackcmd\n",
    "config['connect_coro'] = onconnecttask\n",
    "config['will'] = (topiconline, \"0\", True)\n",
    "client = MQTTClient(config)\n",
    "client.DEBUG = True\n",
    "  \n",
    "aloop = asyncio.get_event_loop()\n",
    "aloop.create_task(pirchangedetectiontask(client))\n",
    "aloop.create_task(mqttconnecttask(client))\n",
    "aloop.run_forever()\n"
   ]
  },
  {
   "cell_type": "code",
   "execution_count": 6,
   "metadata": {},
   "outputs": [],
   "source": [
    "import stdmqttas"
   ]
  },
  {
   "cell_type": "code",
   "execution_count": 7,
   "metadata": {},
   "outputs": [
    {
     "name": "stdout",
     "output_type": "stream",
     "text": [
      "['__class__', '__name__', 'Pin', 'config', 'network', 'time', 'asyncio', 'fconfig', 'mqttconnecttask', 'callbackcmdtask', 'slowflashpinled']\r\n"
     ]
    }
   ],
   "source": [
    "print(dir(stdmqttas))"
   ]
  },
  {
   "cell_type": "code",
   "execution_count": null,
   "metadata": {},
   "outputs": [],
   "source": []
  },
  {
   "cell_type": "code",
   "execution_count": null,
   "metadata": {},
   "outputs": [],
   "source": []
  },
  {
   "cell_type": "code",
   "execution_count": 1,
   "metadata": {},
   "outputs": [
    {
     "name": "stdout",
     "output_type": "stream",
     "text": [
      "\u001b[34mConnecting to --port=/dev/ttyUSB0 --baud=115200 \u001b[0m\n",
      "\n",
      "**[ys] <class 'serial.serialutil.SerialException'>\n",
      "**[ys] read failed: device reports readiness to read but returned no data (device disconnected or multiple access on port?)\n",
      "\n",
      "\u001b[31m[Timed out waiting for recognizable response]\n",
      "\u001b[0m\u001b[31mDisconnecting [paste mode not working]\n",
      "\u001b[0m\u001b[34m  (You may need to reset the device)\u001b[0m"
     ]
    }
   ],
   "source": [
    "%serialconnect"
   ]
  },
  {
   "cell_type": "code",
   "execution_count": null,
   "metadata": {},
   "outputs": [],
   "source": [
    "\"{:02X}{:02X}{:02X}\".format(*network.WLAN().config('mac')[-3:])"
   ]
  },
  {
   "cell_type": "code",
   "execution_count": null,
   "metadata": {},
   "outputs": [],
   "source": []
  },
  {
   "cell_type": "code",
   "execution_count": null,
   "metadata": {},
   "outputs": [],
   "source": []
  },
  {
   "cell_type": "code",
   "execution_count": null,
   "metadata": {},
   "outputs": [],
   "source": []
  }
 ],
 "metadata": {
  "kernelspec": {
   "display_name": "MicroPython - USB",
   "language": "micropython",
   "name": "micropython"
  },
  "language_info": {
   "codemirror_mode": "python",
   "file_extension": ".py",
   "mimetype": "text/python",
   "name": "micropython"
  }
 },
 "nbformat": 4,
 "nbformat_minor": 2
}
