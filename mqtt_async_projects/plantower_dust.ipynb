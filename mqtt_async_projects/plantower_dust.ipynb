{
 "cells": [
  {
   "cell_type": "code",
   "execution_count": 1,
   "id": "b6992c6b",
   "metadata": {},
   "outputs": [
    {
     "name": "stdout",
     "output_type": "stream",
     "text": [
      "\u001b[34mConnecting to --port=/dev/ttyUSB0 --baud=115200 \u001b[0m\n",
      "\u001b[34mReady.\n",
      "\u001b[0m"
     ]
    }
   ],
   "source": [
    "%serialconnect"
   ]
  },
  {
   "cell_type": "code",
   "execution_count": 36,
   "id": "196fabb7",
   "metadata": {},
   "outputs": [
    {
     "name": "stdout",
     "output_type": "stream",
     "text": [
      "Sent 6 lines (224 bytes) to config.txt.\n"
     ]
    }
   ],
   "source": [
    "%sendtofile config.txt\n",
    "\n",
    "connection0  HUAWEI-B535-2F99,EYR8QJE65GT,mosquitto.doesliverpool.xyz\n",
    "connection1  JulianS9,beckaaaa,mosquitto.doesliverpool.xyz\n",
    "connection2  DoESLiverpool,decafbad00,10.0.100.1\n",
    "pinled       2\n",
    "pinscl       17\n",
    "pinsda       16"
   ]
  },
  {
   "cell_type": "code",
   "execution_count": 29,
   "id": "629fd948",
   "metadata": {},
   "outputs": [
    {
     "name": "stdout",
     "output_type": "stream",
     "text": [
      "Sent 647 lines (23171 bytes) to mqtt_as.py.\n"
     ]
    }
   ],
   "source": [
    "%sendtofile --source stdmqttas.py\n",
    "%sendtofile --quiet --source utils.py\n",
    "%sendtofile --source /home/julian/extrepositories/micropython-mqtt/mqtt_as/mqtt_as.py\n"
   ]
  },
  {
   "cell_type": "code",
   "execution_count": 2,
   "id": "1adfcb5b",
   "metadata": {},
   "outputs": [
    {
     "name": "stdout",
     "output_type": "stream",
     "text": [
      "Sent 84 lines (2787 bytes) to main.py.\n"
     ]
    }
   ],
   "source": [
    "%sendtofile main.py\n",
    "\n",
    "import time, sys, machine, struct\n",
    "import uasyncio as asyncio\n",
    "from stdmqttas import fconfig, config, mqttconnecttask, callbackcmdtask\n",
    "from mqtt_as import MQTTClient\n",
    "from stdmqttas import pinled, flashpinled, shortmac, topicstem, itertools_count\n",
    "\n",
    "import network\n",
    "network.WLAN().active(0)  # disable the connection at startup\n",
    "flashpinled(5, 300, 300)\n",
    "print(\"topicstem\", topicstem)\n",
    "\n",
    "topicplantower = topicstem+\"/plantower\"\n",
    "topiccmd = topicstem+\"/cmd\"\n",
    "topicreply = topicstem+\"/reply\"\n",
    "topiconline = topicstem+\"/online\"\n",
    "topicip = topicstem+\"/ip\"\n",
    "topicerror = topicstem+\"/error\"\n",
    "\n",
    "uart = machine.UART(2, 9600)\n",
    "\n",
    "async def plantowertask(client):\n",
    "    try:\n",
    "        for n in itertools_count():\n",
    "            i = 0\n",
    "            checksum = 0\n",
    "            while True:\n",
    "                await asyncio.sleep_ms(10)\n",
    "                u1 = uart.read(1)\n",
    "                if u1 == None:\n",
    "                    await asyncio.sleep_ms(100)\n",
    "                    continue\n",
    "                checksum += u1[0]\n",
    "                if u1[0] == b\"BM\"[i]:\n",
    "                    i += 1\n",
    "                    if i == 2:\n",
    "                        break\n",
    "                else:\n",
    "                    i = 0\n",
    "                    checksum = 0\n",
    "            sleng = uart.read(2)\n",
    "            leng = struct.unpack(\">H\", sleng)[0]\n",
    "            checksum += sum(sleng)\n",
    "            fdata = uart.read(leng)\n",
    "            data = struct.unpack(\">HHHHHHHHHHHHHH\", fdata)\n",
    "            checksum += sum(fdata[:-2])\n",
    "            if checksum == data[13]:\n",
    "                print(n, data[:13])\n",
    "                if client.isconnected():\n",
    "                    pinled.value(1)\n",
    "                    await client.publish(topicplantower, \"%d %d %d %d %d %d %d %d %d %d %d %d %d\"%data[:13])\n",
    "                    pinled.value(0)\n",
    "    except OSError as e:\n",
    "        print(\"plantowertask\", e)\n",
    "        flashpinled(5, 300, 100)\n",
    "        aloop.create_task(plantowertask(client))\n",
    "\n",
    "        \n",
    "        \n",
    "def callbackcmd(topic, msg, retained):\n",
    "    aloop.create_task(callbackcmdtask(client, topicreply, msg))\n",
    "\n",
    "async def onconnecttask(client):\n",
    "    ipnumber = client._sta_if.ifconfig()[0]\n",
    "    print(\"ipnumber\", ipnumber)\n",
    "    await client.publish(topiconline, \"1\", retain=True)\n",
    "    await client.publish(topicip, ipnumber, retain=True)\n",
    "    await client.subscribe(topiccmd, 1)\n",
    "    \n",
    "config['subs_cb'] = callbackcmd\n",
    "config['connect_coro'] = onconnecttask\n",
    "config['will'] = (topiconline, \"0\", True)\n",
    "client = MQTTClient(config)\n",
    "client.DEBUG = True\n",
    "  \n",
    "aloop = asyncio.get_event_loop()\n",
    "aloop.create_task(plantowertask(client))\n",
    "aloop.create_task(mqttconnecttask(client))\n",
    "\n",
    "aloop.run_until_complete(client.publish(topicerror, \"\", retain=True))\n",
    "for n in itertools_count():\n",
    "    try:\n",
    "        aloop.run_forever()\n",
    "    except Exception as e:\n",
    "        aloop.run_until_complete(client.publish(topicerror, str(n)+\" \"+str(e), retain=True))\n"
   ]
  },
  {
   "cell_type": "code",
   "execution_count": null,
   "id": "b23c133f",
   "metadata": {},
   "outputs": [],
   "source": []
  }
 ],
 "metadata": {
  "kernelspec": {
   "display_name": "MicroPython - USB",
   "language": "micropython",
   "name": "micropython"
  },
  "language_info": {
   "codemirror_mode": "python",
   "file_extension": ".py",
   "mimetype": "text/python",
   "name": "micropython"
  }
 },
 "nbformat": 4,
 "nbformat_minor": 5
}
