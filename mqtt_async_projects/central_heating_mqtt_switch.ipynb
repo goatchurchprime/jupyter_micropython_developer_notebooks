{
 "cells": [
  {
   "cell_type": "code",
   "execution_count": 1,
   "metadata": {},
   "outputs": [
    {
     "name": "stdout",
     "output_type": "stream",
     "text": [
      "\u001b[34mConnecting to --port=/dev/ttyUSB2 --baud=115200 \u001b[0m\n",
      "\u001b[34mReady.\n",
      "\u001b[0m"
     ]
    }
   ],
   "source": [
    "%serialconnect"
   ]
  },
  {
   "cell_type": "code",
   "execution_count": null,
   "metadata": {},
   "outputs": [],
   "source": [
    "# Small ESP8266\n",
    "\n",
    "#      RST          |  GPIO1   TX\n",
    "#       A0          |  GPIO3   RX\n",
    "#       D0  GPIO16  |  GPIO5   D1  SCL\n",
    "# SCK   D5  GPIO14  |  GPIO4   D2  SDA\n",
    "# MISO  D6  GPIO12  |  GPIO0   D3\n",
    "# MOSI  D7  GPIO13  |  GPIO2   D4  LED\n",
    "# SS    D8  GPIO15  |          GND\n",
    "#      3V3          |          5V\n",
    "\n",
    "# (not able to get the mDNS to work for esp8266)"
   ]
  },
  {
   "cell_type": "code",
   "execution_count": 4,
   "metadata": {},
   "outputs": [
    {
     "name": "stdout",
     "output_type": "stream",
     "text": [
      "serial exception on close write failed: [Errno 5] Input/output error\n",
      "\u001b[34mConnecting to --port=/dev/ttyUSB3 --baud=115200 \u001b[0m\n",
      "\u001b[34mReady.\n",
      "\u001b[0m"
     ]
    }
   ],
   "source": [
    "%serialconnect"
   ]
  },
  {
   "cell_type": "code",
   "execution_count": 6,
   "metadata": {},
   "outputs": [
    {
     "name": "stdout",
     "output_type": "stream",
     "text": [
      "Sent 8 lines (156 bytes) to config.txt.\n"
     ]
    }
   ],
   "source": [
    "%sendtofile config.txt\n",
    "\n",
    "wifiname     DoESLiverpool\n",
    "wifipassword decafbad00\n",
    "mqttbroker   10.0.100.1\n",
    "pinled       2\n",
    "pincontrol   5\n",
    "pinbuttonled 4\n",
    "pinbutton    0\n",
    "boardname    esp8266H"
   ]
  },
  {
   "cell_type": "code",
   "execution_count": 18,
   "metadata": {},
   "outputs": [
    {
     "name": "stdout",
     "output_type": "stream",
     "text": [
      "serial exception on close write failed: [Errno 5] Input/output error\n",
      "\u001b[34mConnecting to --port=/dev/ttyUSB1 --baud=115200 \u001b[0m\n",
      "\u001b[34mReady.\n",
      "\u001b[0m"
     ]
    }
   ],
   "source": [
    "%serialconnect"
   ]
  },
  {
   "cell_type": "markdown",
   "metadata": {},
   "source": [
    "### Main ESP8266 control switch"
   ]
  },
  {
   "cell_type": "code",
   "execution_count": 7,
   "metadata": {
    "scrolled": true
   },
   "outputs": [
    {
     "name": "stdout",
     "output_type": "stream",
     "text": [
      "Sent 126 lines (4161 bytes) to main.py.\n"
     ]
    }
   ],
   "source": [
    "%sendtofile main.py\n",
    "\n",
    "from mqtt_as import config, MQTTClient\n",
    "import uasyncio as asyncio\n",
    "import time\n",
    "from machine import Pin, PWM\n",
    "\n",
    "fconfig = dict(x.split()  for x in open(\"config.txt\"))\n",
    "\n",
    "pinled       = Pin(int(fconfig[\"pinled\"]), Pin.OUT)\n",
    "pincontrol   = Pin(int(fconfig[\"pincontrol\"]), Pin.OUT)\n",
    "pincontrol.value(0)\n",
    "pinbuttonled = Pin(int(fconfig[\"pinbuttonled\"]), Pin.OUT)\n",
    "pinbutton    = Pin(int(fconfig[\"pinbutton\"]), Pin.IN, Pin.PULL_UP)\n",
    "pwmbuttonled = machine.PWM(pinbuttonled, duty=5)\n",
    "pinled.value(0)\n",
    "\n",
    "config['server']    = fconfig[\"mqttbroker\"]\n",
    "config['ssid'] = fconfig[\"wifiname\"]\n",
    "config['wifi_pw'] = fconfig[\"wifipassword\"]\n",
    "config['mqttchannel'] = fconfig[\"boardname\"]\n",
    "        \n",
    "boardname         = fconfig[\"boardname\"].encode()\n",
    "tboardcmd         = boardname+b'/cmd'\n",
    "tboardcmdon       = boardname+b'/cmd/on/secs'\n",
    "tonsecs           = boardname+b'/on/secs'\n",
    "tbuttonsecs       = boardname+b'/button/held/secs'\n",
    "tboardcmdbuttsecs = boardname+b'/cmd/button/secs'\n",
    "\n",
    "buttoncontrolonsecs = 10\n",
    "timeoffticks = 0\n",
    "\n",
    "outgoingmsgs = { }\n",
    "\n",
    "async def callbackcmdtask(cmd):\n",
    "    global buttoncontrolonsecs\n",
    "    print(\"executing\", [cmd])\n",
    "    try:\n",
    "        exec(cmd)\n",
    "        await client.publish(boardname+'/reply', \"1\")\n",
    "    except Exception as e:\n",
    "        print(e)\n",
    "        await client.publish(boardname+'/reply/exception', str(e))\n",
    "    return\n",
    "\n",
    "def callbackcmd(topic, msg, retained):\n",
    "    print(\"callback\", topic, msg, retained)\n",
    "    if topic == tboardcmd:\n",
    "        aloop.create_task(callbackcmdtask(msg))\n",
    "    elif topic == tboardcmdon:\n",
    "        aloop.create_task(callbackcmdtask(\"controlfunc(cmdsecs=int(%s))\"%msg))\n",
    "    elif topic == tboardcmdbuttsecs:\n",
    "        aloop.create_task(callbackcmdtask(\"buttoncontrolonsecs=int(%s)\"%msg))\n",
    "            \n",
    "async def onconnecttask(client):\n",
    "    ipnumber = client._sta_if.ifconfig()[0]\n",
    "    print(\"ipnumber\", ipnumber)\n",
    "    await client.subscribe(tboardcmdon)\n",
    "    await client.subscribe(tboardcmd)\n",
    "    await client.subscribe(tboardcmdbuttsecs)\n",
    "    print(\"subscribing to\", tboardcmd, tboardcmdon, tboardcmdbuttsecs)\n",
    "    await client.publish(boardname+b'/ip', ipnumber, retain=True, qos=1)\n",
    "            \n",
    "config['subs_cb'] = callbackcmd\n",
    "config['connect_coro'] = onconnecttask\n",
    "client = MQTTClient(config)\n",
    "\n",
    "def controlfunc(cmdsecs=None, sendupdate=False):\n",
    "    global timeoffticks\n",
    "    t0 = time.ticks_ms()\n",
    "    if cmdsecs is not None:\n",
    "        pincontrol.value(1 if cmdsecs != 0 else 0)\n",
    "        timeoffticks = t0 + cmdsecs*1000\n",
    "        sendupdate = True\n",
    "    if timeoffticks != 0:\n",
    "        if timeoffticks <= t0:\n",
    "            pincontrol.value(0)\n",
    "            timeoffticks = 0\n",
    "            sendupdate = True\n",
    "    if sendupdate:\n",
    "        secondscountdown = ((timeoffticks-t0)/1000 if timeoffticks else 0)\n",
    "        outgoingmsgs[tonsecs] = secondscountdown\n",
    "        if pinbutton.value():\n",
    "            pwmbuttonled.duty(int(min(secondscountdown/buttoncontrolonsecs, 1)*300))\n",
    "\n",
    "async def controltask():\n",
    "    while True:\n",
    "        t = time.ticks_ms()\n",
    "        await asyncio.sleep_ms(min(timeoffticks-t+100, 1000)  if timeoffticks  else 1000)\n",
    "        controlfunc(sendupdate=True)\n",
    "\n",
    "async def buttontask():\n",
    "    bcurr = True\n",
    "    while True:\n",
    "        t = time.ticks_ms()\n",
    "        bprev, bcurr = bcurr, pinbutton.value()\n",
    "        if not bcurr: # button on\n",
    "            if bprev:\n",
    "                t0 = t\n",
    "            dt = t - t0\n",
    "            pwmbuttonled.duty(300 if dt < 2000 else (((dt-2000)//500)%2)*500)\n",
    "        elif not bprev:\n",
    "            outgoingmsgs[tbuttonsecs] = dt/1000\n",
    "            controlfunc(cmdsecs=(buttoncontrolonsecs  if dt < 2000  else 0))\n",
    "\n",
    "        pinled.value(0 if ((t%1500) < (120 if client.isconnected() else 600)) else 1)\n",
    "        await asyncio.sleep_ms(50)\n",
    "        \n",
    "async def mqtttask():\n",
    "    while True:\n",
    "        try:\n",
    "            await client.connect()\n",
    "            break\n",
    "        except OSError as e:\n",
    "            print(\"client connect\", [e])\n",
    "    while True:\n",
    "        while len(outgoingmsgs):\n",
    "            t, p = outgoingmsgs.popitem()\n",
    "            print(\"publish\", t, p)\n",
    "            await client.publish(t, str(p))\n",
    "        await asyncio.sleep_ms(50)\n",
    "    \n",
    "aloop = asyncio.get_event_loop()\n",
    "aloop.create_task(mqtttask())\n",
    "aloop.create_task(controltask())\n",
    "aloop.create_task(buttontask())\n",
    "aloop.run_forever()\n",
    "\n"
   ]
  },
  {
   "cell_type": "code",
   "execution_count": 9,
   "metadata": {},
   "outputs": [
    {
     "name": "stdout",
     "output_type": "stream",
     "text": [
      "serial exception on close write failed: [Errno 5] Input/output error\n",
      "\u001b[34mConnecting to --port=/dev/ttyUSB2 --baud=115200 \u001b[0m\n",
      "\u001b[34mReady.\n",
      "\u001b[0m"
     ]
    }
   ],
   "source": [
    "%serialconnect"
   ]
  },
  {
   "cell_type": "markdown",
   "metadata": {},
   "source": [
    "### Very basic MQTT with no async"
   ]
  },
  {
   "cell_type": "code",
   "execution_count": null,
   "metadata": {},
   "outputs": [
    {
     "name": "stdout",
     "output_type": "stream",
     "text": [
      "connecting to DoESLiverpool\n",
      "scandone\n",
      "connected\n",
      "['10.0.36.0']\n",
      "\n",
      "esp8266H/ping\n",
      "0\n",
      "(b'esp8266H/ping', b'1')\n",
      ".(b'esp8266H/ping', b'1')\n",
      "(b'esp8266H/ping', b'1')\n",
      "(b'esp8266H/ping', b'1')\n",
      "(b'esp8266H/ping', b'1')\n",
      "(b'esp8266H/ping', b'1')\n",
      "(b'esp8266H/ping', b'1')\n",
      ".(b'esp8266H/ping', b'1')\n",
      ".(b'esp8266H/ping', b'1')\n",
      "(b'esp8266H/ping', b'1')\n",
      "(b'esp8266H/ping', b'1')\n",
      "(b'esp8266H/ping', b'1')\n",
      ".(b'esp8266H/ping', b'1')\n",
      "(b'esp8266H/ping', b'1')\n",
      "(b'esp8266H/ping', b'1')\n",
      "(b'esp8266H/ping', b'1')\n",
      "(b'esp8266H/ping', b'1')\n",
      "(b'esp8266H/ping', b'1')\n",
      "(b'esp8266H/ping', b'1')\n",
      "..(b'esp8266H/ping', b'1')\n",
      "..(b'esp8266H/ping', b'1')\n",
      "(b'esp8266H/ping', b'1')\n",
      ".(b'esp8266H/ping', b'1')\n",
      "(b'esp8266H/ping', b'1')\n",
      "(b'esp8266H/ping', b'1')\n",
      "(b'esp8266H/ping', b'1')\n",
      ".(b'esp8266H/ping', b'1')\n",
      "(b'esp8266H/ping', b'1')\n",
      "(b'esp8266H/ping', b'1')\n",
      ".(b'esp8266H/ping', b'1')\n",
      "(b'esp8266H/ping', b'1')\n",
      ".(b'esp8266H/ping', b'1')\n",
      "(b'esp8266H/ping', b'1')\n",
      "(b'esp8266H/ping', b'1')\n",
      "(b'esp8266H/ping', b'1')\n",
      "."
     ]
    }
   ],
   "source": [
    "\n",
    "import time\n",
    "\n",
    "fconfig = dict(x.split()  for x in open(\"config.txt\"))\n",
    "\n",
    "pinled       = Pin(int(fconfig[\"pinled\"]), Pin.OUT)\n",
    "pincontrol   = Pin(int(fconfig[\"pincontrol\"]), Pin.OUT)\n",
    "pincontrol.value(0)\n",
    "pinbuttonled = Pin(int(fconfig[\"pinbuttonled\"]), Pin.OUT)\n",
    "pinbutton    = Pin(int(fconfig[\"pinbutton\"]), Pin.IN, Pin.PULL_UP)\n",
    "pwmbuttonled = machine.PWM(pinbuttonled, duty=5)\n",
    "pinled.value(0)\n",
    "\n",
    "import time, network, machine\n",
    "\n",
    "si = network.WLAN()\n",
    "si.active(True)\n",
    "\n",
    "#si.connect(\"DoESLiverpool\", \"decafbad00\")\n",
    "si.connect(fconfig[\"wifiname\"], fconfig[\"wifipassword\"])\n",
    "print(\"connecting to\", fconfig[\"wifiname\"])\n",
    "while not si.isconnected():\n",
    "    time.sleep_ms(500)\n",
    "print(\"connected\")\n",
    "\n",
    "boardname = fconfig[\"boardname\"]\n",
    "\n",
    "from umqtt.robust import MQTTClient\n",
    "client = MQTTClient(boardname, fconfig[\"mqttbroker\"], keepalive=60)\n",
    "while True:\n",
    "    try:\n",
    "        client.connect()\n",
    "        break\n",
    "    except OSError:\n",
    "        time.sleep_ms(1000)\n",
    "\n",
    "ipnumber = si.ifconfig()[0]\n",
    "print([ipnumber])\n",
    "print()\n",
    "time.sleep_ms(500)\n",
    "\n",
    "client.publish(boardname+\"/status\", \"ipnumber \"+ipnumber, retain=1)\n",
    "client.set_last_will(boardname+\"/status\", \"gone!\", retain=1)\n",
    "\n",
    "def cb(topic, payload):\n",
    "    print((topic, payload))\n",
    "    pincontrol.value(1)\n",
    "    time.sleep_ms(200)\n",
    "    pincontrol.value(0)\n",
    "    \n",
    "client.set_callback(cb)\n",
    "client.subscribe(boardname+\"/ping\")\n",
    "print(boardname+\"/ping\")\n",
    "\n",
    "\n",
    "for i in range(10000000):\n",
    "    client.check_msg()\n",
    "    if i%100000 == 0:\n",
    "        print(i)\n",
    "    \n",
    "# mosquitto_sub -h 10.0.100.1 -v -t \"esp8266H/#\"\n",
    "# mosquitto_pub -h 10.0.100.1 -t \"esp8266H/ping\" -m \"1\"\n"
   ]
  },
  {
   "cell_type": "code",
   "execution_count": 13,
   "metadata": {},
   "outputs": [
    {
     "name": "stdout",
     "output_type": "stream",
     "text": [
      "('10.0.36.0', '255.0.0.0', '10.0.0.1', '10.0.0.1')\r\n"
     ]
    }
   ],
   "source": [
    "print(si.ifconfig())"
   ]
  },
  {
   "cell_type": "code",
   "execution_count": null,
   "metadata": {},
   "outputs": [],
   "source": []
  },
  {
   "cell_type": "code",
   "execution_count": null,
   "metadata": {},
   "outputs": [],
   "source": []
  },
  {
   "cell_type": "markdown",
   "metadata": {},
   "source": [
    "### Remote esp32 button switch\n",
    "\n",
    "Requires the effective deepsleep() mode not available in the esp8266."
   ]
  },
  {
   "cell_type": "code",
   "execution_count": 36,
   "metadata": {},
   "outputs": [
    {
     "name": "stdout",
     "output_type": "stream",
     "text": [
      "\u001b[34mConnecting to --port=/dev/ttyUSB4 --baud=115200 \u001b[0m\n",
      "\u001b[34mReady.\n",
      "\u001b[0m"
     ]
    }
   ],
   "source": [
    "%serialconnect"
   ]
  },
  {
   "cell_type": "code",
   "execution_count": 12,
   "metadata": {},
   "outputs": [
    {
     "name": "stdout",
     "output_type": "stream",
     "text": [
      "Sent 7 lines (137 bytes) to config.txt.\n"
     ]
    }
   ],
   "source": [
    "%sendtofile config.txt\n",
    "\n",
    "wifiname     BV6000\n",
    "wifipassword bubblino\n",
    "mqttbroker   192.168.43.1\n",
    "pinled       4\n",
    "pinbutton    14\n",
    "boardname    bareesp1\n",
    "deepsleepsec 600"
   ]
  },
  {
   "cell_type": "code",
   "execution_count": 37,
   "metadata": {},
   "outputs": [
    {
     "name": "stdout",
     "output_type": "stream",
     "text": [
      "Sent 74 lines (2023 bytes) to main.py.\n"
     ]
    }
   ],
   "source": [
    "%sendtofile main.py\n",
    "\n",
    "import machine, time, esp32\n",
    "\n",
    "if machine.reset_cause() == machine.DEEPSLEEP_RESET:\n",
    "    if machine.wake_reason() == machine.EXT0_WAKE:\n",
    "        state = \"button\"\n",
    "    elif machine.wake_reason() == machine.TIMER_WAKE:\n",
    "        state = \"timer\"\n",
    "    else:\n",
    "        state = \"unknown\"\n",
    "else:\n",
    "    state = \"poweron\"\n",
    "print(state)\n",
    "    \n",
    "fconfig = dict(x.split()  for x in open(\"config.txt\"))\n",
    "# p14 yellow, p4 black, G blue    \n",
    "\n",
    "pinled = machine.Pin(int(fconfig[\"pinled\"]), machine.Pin.OUT)\n",
    "pinbutton = machine.Pin(int(fconfig[\"pinbutton\"]), machine.Pin.IN)\n",
    "\n",
    "if state == \"poweron\" or state == \"unknown\":\n",
    "    for i in range(20):\n",
    "        pinled.value(i%2)\n",
    "        time.sleep_ms(200)\n",
    "\n",
    "if state == \"button\":\n",
    "    pinled.value(1)\n",
    "    for timebutton in range(0, 2010, 10):\n",
    "        if pinbutton.value() == 1:\n",
    "            break\n",
    "        time.sleep_ms(10)\n",
    "    pinled.value(0)\n",
    "        \n",
    "if state == \"button\":\n",
    "    import network\n",
    "    si = network.WLAN()\n",
    "    si.active(True)\n",
    "    si.connect(fconfig[\"wifiname\"], fconfig[\"wifipassword\"])\n",
    "    for i in range(20*10):\n",
    "        if si.isconnected():\n",
    "            break\n",
    "        pinled.value((i>20*5) and ((i%(20*2) == 20+18)))\n",
    "        time.sleep_ms(50)\n",
    "    else:\n",
    "        state = \"fail\"\n",
    "                     \n",
    "if state == \"button\":\n",
    "    ipnumber = si.ifconfig()[0]\n",
    "    print(ipnumber)\n",
    "    \n",
    "    from umqtt.robust import MQTTClient\n",
    "    client = MQTTClient(fconfig[\"boardname\"], fconfig[\"mqttbroker\"])\n",
    "    try:\n",
    "        client.connect()\n",
    "        print(\"mqtt connected\")\n",
    "        client.publish(fconfig[\"boardname\"]+\"/button\", str(timebutton), qos=1)\n",
    "        print(\"published\", timebutton)\n",
    "    except Exception as e:\n",
    "        print(e)\n",
    "        state = \"fail\"\n",
    "\n",
    "if state == \"timer\" or state == \"button\":\n",
    "    pinled.value(1)\n",
    "    time.sleep_ms(2)\n",
    "    pinled.value(0)\n",
    "\n",
    "if state == \"fail\":\n",
    "    for i in range(19):\n",
    "        pinled.value(i%2)\n",
    "        time.sleep_ms(50)\n",
    "    \n",
    "esp32.wake_on_ext0(pinbutton, esp32.WAKEUP_ALL_LOW)\n",
    "deepsleepsec = int(fconfig[\"deepsleepsec\"])\n",
    "print(\"deepsleep\", deepsleepsec)\n",
    "machine.deepsleep(deepsleepsec*1000)\n"
   ]
  },
  {
   "cell_type": "code",
   "execution_count": 11,
   "metadata": {},
   "outputs": [
    {
     "name": "stdout",
     "output_type": "stream",
     "text": [
      "\u001b[34mattempt to exit paste mode\n",
      "\u001b[0m\u001b[34m[\\r\\x03\\x02] \u001b[0mb''\u001b[34m\n",
      "Closing serial Serial<id=0x7f89e9149470, open=True>(port='/dev/ttyUSB3', baudrate=115200, bytesize=8, parity='N', stopbits=1, timeout=0.5, xonxoff=False, rtscts=False, dsrdtr=False)\n",
      "\u001b[0m"
     ]
    }
   ],
   "source": [
    "%disconnect"
   ]
  },
  {
   "cell_type": "code",
   "execution_count": null,
   "metadata": {},
   "outputs": [],
   "source": [
    "esp32.wake_on_ext0(pinbutton, esp32.WAKEUP_ALL_LOW)\n",
    "deepsleepsec = int(fconfig[\"deepsleepsec\"])\n",
    "print(\"deepsleep\", deepsleepsec)\n",
    "machine.deepsleep(deepsleepsec*1000)\n"
   ]
  }
 ],
 "metadata": {
  "kernelspec": {
   "display_name": "MicroPython - USB",
   "language": "micropython",
   "name": "micropython"
  },
  "language_info": {
   "codemirror_mode": "python",
   "file_extension": ".py",
   "mimetype": "text/python",
   "name": "micropython"
  }
 },
 "nbformat": 4,
 "nbformat_minor": 2
}
