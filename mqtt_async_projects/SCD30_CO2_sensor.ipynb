{
 "cells": [
  {
   "cell_type": "code",
   "execution_count": 21,
   "id": "94b02085",
   "metadata": {},
   "outputs": [
    {
     "name": "stdout",
     "output_type": "stream",
     "text": [
      "serial exception on close write failed: [Errno 5] Input/output error\n",
      "\u001b[34mConnecting to --port=/dev/ttyACM1 --baud=115200 \u001b[0m\n",
      "\u001b[34mReady.\n",
      "\u001b[0m"
     ]
    }
   ],
   "source": [
    "%serialconnect"
   ]
  },
  {
   "cell_type": "code",
   "execution_count": 6,
   "id": "5d7aee14",
   "metadata": {},
   "outputs": [
    {
     "name": "stdout",
     "output_type": "stream",
     "text": [
      "\u001b[34mattempt to exit paste mode\n",
      "\u001b[0m\u001b[34m[\\r\\x03\\x02] \u001b[0mb'\\r\\nMicroPython v1.17 on 2021-09-02; ESP32 module with ESP32\\r\\nType \"help()\" for more information.\\r\\n>>> '\u001b[34m\n",
      "Closing serial Serial<id=0x7f1a7c642e50, open=True>(port='/dev/ttyACM0', baudrate=115200, bytesize=8, parity='N', stopbits=1, timeout=0.5, xonxoff=False, rtscts=False, dsrdtr=False)\n",
      "\u001b[0m"
     ]
    }
   ],
   "source": [
    "%disconnect"
   ]
  },
  {
   "cell_type": "code",
   "execution_count": 5,
   "id": "648ed123",
   "metadata": {},
   "outputs": [
    {
     "name": "stdout",
     "output_type": "stream",
     "text": [
      "connection0  HUAWEI-B535-2F99,EYR8QJE65GT,mosquitto.doesliverpool.xyz\n",
      "connection1  JulianS9,beckaaaa,mosquitto.doesliverpool.xyz\n",
      "connection2  DoESLiverpool,decafbad00,10.0.100.1\n",
      "pinled       2\n",
      "pinscl       17\n",
      "pinsda       16"
     ]
    }
   ],
   "source": [
    "%fetchfile config.txt --print"
   ]
  },
  {
   "cell_type": "code",
   "execution_count": null,
   "id": "b0a6bded",
   "metadata": {},
   "outputs": [],
   "source": [
    "# ESP8266 version"
   ]
  },
  {
   "cell_type": "code",
   "execution_count": 35,
   "id": "76c056d1",
   "metadata": {},
   "outputs": [
    {
     "name": "stdout",
     "output_type": "stream",
     "text": [
      "Sent 7 lines (238 bytes) to config.txt.\n"
     ]
    }
   ],
   "source": [
    "%sendtofile config.txt\n",
    "\n",
    "connection0  HUAWEI-B535-2F99,EYR8QJE65GT,mosquitto.doesliverpool.xyz\n",
    "connection1  JulianS9,beckaaaa,mosquitto.doesliverpool.xyz\n",
    "connection2  DoESLiverpool,decafbad00,10.0.100.1\n",
    "pinled       2\n",
    "pinscl       5\n",
    "pinsda       4\n",
    "pinpir       13"
   ]
  },
  {
   "cell_type": "code",
   "execution_count": 22,
   "id": "ac891ded",
   "metadata": {},
   "outputs": [
    {
     "name": "stdout",
     "output_type": "stream",
     "text": [
      "Sent 9 lines (281 bytes) to config.txt.\n"
     ]
    }
   ],
   "source": [
    "# ESP32 version\n",
    "%sendtofile config.txt\n",
    "\n",
    "connection2  HUAWEI-B535-2F99,EYR8QJE65GT,mosquitto.doesliverpool.xyz\n",
    "connection1  JulianS9,beckaaaa,mosquitto.doesliverpool.xyz\n",
    "connection0  DoESLiverpool,decafbad00,10.0.100.1\n",
    "pinled       2\n",
    "pinscl       17\n",
    "pinsda       16\n",
    "wdtsecs      300\n",
    "devices      SCD30\n",
    "position     outside"
   ]
  },
  {
   "cell_type": "code",
   "execution_count": 33,
   "id": "70ef1eef",
   "metadata": {},
   "outputs": [
    {
     "name": "stdout",
     "output_type": "stream",
     "text": [
      "Sent 81 lines (2677 bytes) to stdmqttas.py.\n",
      "Sent 32 lines (969 bytes) to utils.py.\n"
     ]
    }
   ],
   "source": [
    "%sendtofile --source stdmqttas.py\n",
    "%sendtofile --quiet --source utils.py\n",
    "# devices SCD30,SCD41"
   ]
  },
  {
   "cell_type": "code",
   "execution_count": 34,
   "id": "932a6bfe",
   "metadata": {},
   "outputs": [
    {
     "name": "stdout",
     "output_type": "stream",
     "text": [
      "Sent 647 lines (23171 bytes) to mqtt_as.py.\n"
     ]
    }
   ],
   "source": [
    "\n",
    "# This requires you to checkout https://github.com/peterhinch/micropython-mqtt/tree/master/mqtt_as\n",
    "%sendtofile --source /home/julian/extrepositories/micropython-mqtt/mqtt_as/mqtt_as.py\n",
    "\n",
    "# !!! The redo for different connections isn't working so put the one \n",
    "# that is active into connection0"
   ]
  },
  {
   "cell_type": "code",
   "execution_count": null,
   "id": "6675ac4e",
   "metadata": {},
   "outputs": [],
   "source": []
  },
  {
   "cell_type": "code",
   "execution_count": 19,
   "id": "832c0d97",
   "metadata": {},
   "outputs": [
    {
     "name": "stdout",
     "output_type": "stream",
     "text": [
      "\u001b[34mConnecting to --port=/dev/ttyACM0 --baud=115200 \u001b[0m\n",
      "\u001b[34mReady.\n",
      "\u001b[0m"
     ]
    }
   ],
   "source": [
    "%serialconnect"
   ]
  },
  {
   "cell_type": "code",
   "execution_count": 23,
   "id": "6c58c033",
   "metadata": {},
   "outputs": [
    {
     "name": "stdout",
     "output_type": "stream",
     "text": [
      "Sent 137 lines (5483 bytes) to main.py.\n"
     ]
    }
   ],
   "source": [
    "%sendtofile main.py\n",
    "\n",
    "import time, sys, machine, struct\n",
    "import uasyncio as asyncio\n",
    "from stdmqttas import fconfig, config, mqttconnecttask, callbackcmdtask\n",
    "from mqtt_as import MQTTClient\n",
    "from stdmqttas import pinled, flashpinled, shortmac, topicstem, itertools_count\n",
    "\n",
    "import network\n",
    "network.WLAN().active(0)  # disable the connection at startup\n",
    "flashpinled(5, 300, 300)\n",
    "print(\"topicstem\", topicstem)\n",
    "\n",
    "def crc8(b):\n",
    "    crc = 0xFF\n",
    "    for c in b:\n",
    "        crc ^= c\n",
    "        for i in range(8):\n",
    "            crc = 0xFF & (((crc << 1) ^ 0x31) if (crc & 0x80) else (crc << 1))\n",
    "    return crc\n",
    "\n",
    "if sys.platform == \"esp32\":\n",
    "    i2c = machine.I2C(1, scl=machine.Pin(int(fconfig[\"pinscl\"])), sda=machine.Pin(int(fconfig[\"pinsda\"])))\n",
    "else:\n",
    "    i2c = machine.I2C(scl=machine.Pin(int(fconfig[\"pinscl\"])), sda=machine.Pin(int(fconfig[\"pinsda\"])))\n",
    "\n",
    "topicscd41 = topicstem+\"/scd41\"\n",
    "topicscd30 = topicstem+\"/scd30\"\n",
    "topiccmd = topicstem+\"/cmd\"\n",
    "topicreply = topicstem+\"/reply\"\n",
    "topiconline = topicstem+\"/online\"\n",
    "topicip = topicstem+\"/ip\"\n",
    "topicerror = topicstem+\"/error\"\n",
    "sensorposition = fconfig.get(\"position\", \"\")\n",
    "print(\"sensorposition: '%s'\" % sensorposition)\n",
    "\n",
    "async def WatchDogtask(client, wdtsecs):\n",
    "    await asyncio.sleep_ms(20*1000)\n",
    "    print(\"Starting Watchdog timer for\", wdtsecs, \"seconds\")\n",
    "    wd = machine.WDT(timeout=int(wdtsecs*1000))\n",
    "    while True:\n",
    "        await asyncio.sleep_ms(10*1000)\n",
    "        if client.isconnected():\n",
    "            wd.feed()\n",
    "    \n",
    "\n",
    "async def SCD30task(client):\n",
    "    try:\n",
    "        i2c.writeto(0x61, bytes([0x02, 0x04]))   # soft reset\n",
    "        await asyncio.sleep_ms(40)\n",
    "        i2c.writeto(0x61, bytes([0x00, 0x10, 0x00, 0x00, crc8([0x00, 0x00])]))   # continuous measurement\n",
    "        await asyncio.sleep_ms(40)\n",
    "        i2c.writeto(0x61, bytes([0x46, 0x00, 0x00, 0x02, crc8([0x00, 0x02])]))   # 2s measurement interval\n",
    "        await asyncio.sleep_ms(40)\n",
    "        for n in itertools_count():\n",
    "            y = i2c.writeto(0x61, bytes([0x02, 0x02]))  # data ready?\n",
    "            await asyncio.sleep_ms(4)\n",
    "            d = i2c.readfrom(0x61, 2)    # ready is 1\n",
    "            if d == bytes([0x00, 0x01]):\n",
    "                y = i2c.writeto(0x61, bytes([0x03, 0x00]))  # read data\n",
    "                await asyncio.sleep_ms(4)\n",
    "                x = i2c.readfrom(0x61, 18)\n",
    "                #crc8(x[:2]) == x[2]  etc for every 3 bytes\n",
    "                co2, temp, humid = struct.unpack(\">fff\", bytes([x[0],x[1],x[3],x[4], x[6],x[7],x[9],x[10], x[12],x[13],x[15],x[16]]))\n",
    "                print(n, topicscd30, co2, temp, humid)\n",
    "                if client.isconnected():\n",
    "                    await client.publish(topicscd30, \"%f %f %f %s\"%(co2, temp, humid, sensorposition))\n",
    "            await asyncio.sleep_ms(500)\n",
    "    except OSError as e:\n",
    "        print(\"SCD30taskerror\", e)\n",
    "        flashpinled(5, 300, 100)\n",
    "        aloop.create_task(SCD30task(client))\n",
    "\n",
    "        \n",
    "async def SCD41task(client):\n",
    "    try:\n",
    "        i2c.writeto(0x62, bytes([0x3F, 0x86]))   # stopPeriodicMeasurement\n",
    "        await asyncio.sleep_ms(500)\n",
    "        i2c.writeto(0x62, bytes([0x36, 0x82]))   # getSerialNumber\n",
    "        await asyncio.sleep_ms(1)\n",
    "        x = i2c.readfrom(0x62, 9)\n",
    "        s0, s1, s2 = struct.unpack(\">HHH\", bytes([x[0],x[1], x[3],x[4], x[6],x[7]]))\n",
    "        print(\"SCD41 serial number\", hex(s0), hex(s1), hex(s2))\n",
    "        i2c.writeto(0x62, bytes([0x21, 0xB1]))   # startPeriodicMeasurement\n",
    "        await asyncio.sleep_ms(1)\n",
    "        for n in itertools_count():\n",
    "            i2c.writeto(0x62, bytes([0xE4, 0xB8]))   # check ready\n",
    "            await asyncio.sleep_ms(4)\n",
    "            d = i2c.readfrom(0x62, 3)\n",
    "            if not (d[0] == 0x80 and d[1] == 0x00):\n",
    "                i2c.writeto(0x62, bytes([0xEC, 0x05]))   # readMeasurement\n",
    "                await asyncio.sleep_ms(1)\n",
    "                x = i2c.readfrom(0x62, 9)\n",
    "                co2, utemp, uhumid = struct.unpack(\">HHH\", bytes([x[0],x[1], x[3],x[4], x[6],x[7]]))\n",
    "                temp = utemp*175.0/65536.0 - 45.0\n",
    "                humid = uhumid*100.0/65536.0\n",
    "                print(n, topicscd41, co2, temp, humid)\n",
    "                if client.isconnected():\n",
    "                    await client.publish(topicscd41, \"%f %f %f %s\"%(co2, temp, humid, sensorposition))\n",
    "            await asyncio.sleep_ms(500)\n",
    "    except OSError as e:\n",
    "        print(\"SCD41taskerror\", e)\n",
    "        flashpinled(5, 300, 100)\n",
    "        aloop.create_task(SCD41task(client))\n",
    "        \n",
    "        \n",
    "def callbackcmd(topic, msg, retained):\n",
    "    aloop.create_task(callbackcmdtask(client, topicreply, msg))\n",
    "\n",
    "async def onconnecttask(client):\n",
    "    ipnumber = client._sta_if.ifconfig()[0]\n",
    "    print(\"ipnumber\", ipnumber)\n",
    "    await client.publish(topiconline, \"1\", retain=True)\n",
    "    await client.publish(topicip, ipnumber, retain=True)\n",
    "    await client.subscribe(topiccmd, 1)\n",
    "    \n",
    "config['subs_cb'] = callbackcmd\n",
    "config['connect_coro'] = onconnecttask\n",
    "config['will'] = (topiconline, \"0\", True)\n",
    "client = MQTTClient(config)\n",
    "client.DEBUG = True\n",
    "\n",
    "devices = fconfig.get(\"devices\", \"SCD30\").split(\",\")\n",
    "  \n",
    "aloop = asyncio.get_event_loop()\n",
    "if \"SCD30\" in devices:\n",
    "    aloop.create_task(SCD30task(client))\n",
    "if \"SCD41\" in devices:\n",
    "    aloop.create_task(SCD41task(client))\n",
    "aloop.create_task(mqttconnecttask(client))\n",
    "if \"wdtsecs\" in fconfig:\n",
    "    aloop.create_task(WatchDogtask(client, float(fconfig[\"wdtsecs\"])))\n",
    "\n",
    "aloop.run_until_complete(client.publish(topicerror, \"\", retain=True))\n",
    "for n in itertools_count():\n",
    "    try:\n",
    "        aloop.run_forever()\n",
    "    except Exception as e:\n",
    "        aloop.run_until_complete(client.publish(topicerror, str(n)+\" \"+str(e), retain=True))\n"
   ]
  },
  {
   "cell_type": "code",
   "execution_count": null,
   "id": "03e9146e",
   "metadata": {},
   "outputs": [],
   "source": []
  }
 ],
 "metadata": {
  "kernelspec": {
   "display_name": "MicroPython - USB",
   "language": "micropython",
   "name": "micropython"
  },
  "language_info": {
   "codemirror_mode": "python",
   "file_extension": ".py",
   "mimetype": "text/python",
   "name": "micropython"
  }
 },
 "nbformat": 4,
 "nbformat_minor": 5
}
