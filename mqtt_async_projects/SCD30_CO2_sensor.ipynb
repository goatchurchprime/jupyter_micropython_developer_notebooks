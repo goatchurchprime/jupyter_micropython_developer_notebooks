{
 "cells": [
  {
   "cell_type": "code",
   "execution_count": 32,
   "id": "94b02085",
   "metadata": {},
   "outputs": [
    {
     "name": "stdout",
     "output_type": "stream",
     "text": [
      "\u001b[34mConnecting to --port=/dev/ttyUSB1 --baud=115200 \u001b[0m\n",
      "\u001b[34mReady.\n",
      "\u001b[0m"
     ]
    }
   ],
   "source": [
    "%serialconnect"
   ]
  },
  {
   "cell_type": "code",
   "execution_count": 15,
   "id": "51d489a3",
   "metadata": {},
   "outputs": [
    {
     "name": "stdout",
     "output_type": "stream",
     "text": [
      "connection0  HUAWEI-B535-2F99,EYR8QJE65GT,mosquitto.doesliverpool.xyz\n",
      "connection1  JulianS9,beckaaaa,mosquitto.doesliverpool.xyz\n",
      "connection2  DoESLiverpool,decafbad00,10.0.100.1\n",
      "pinled       2\n",
      "pinpir       13"
     ]
    }
   ],
   "source": [
    "%fetchfile config.txt --print"
   ]
  },
  {
   "cell_type": "code",
   "execution_count": null,
   "id": "95bcd210",
   "metadata": {},
   "outputs": [],
   "source": [
    "# ESP8266 version"
   ]
  },
  {
   "cell_type": "code",
   "execution_count": 35,
   "id": "5bd0f2b7",
   "metadata": {},
   "outputs": [
    {
     "name": "stdout",
     "output_type": "stream",
     "text": [
      "Sent 7 lines (238 bytes) to config.txt.\n"
     ]
    }
   ],
   "source": [
    "%sendtofile config.txt\n",
    "\n",
    "connection0  HUAWEI-B535-2F99,EYR8QJE65GT,mosquitto.doesliverpool.xyz\n",
    "connection1  JulianS9,beckaaaa,mosquitto.doesliverpool.xyz\n",
    "connection2  DoESLiverpool,decafbad00,10.0.100.1\n",
    "pinled       2\n",
    "pinscl       5\n",
    "pinsda       4\n",
    "pinpir       13"
   ]
  },
  {
   "cell_type": "code",
   "execution_count": 32,
   "id": "ac891ded",
   "metadata": {},
   "outputs": [
    {
     "name": "stdout",
     "output_type": "stream",
     "text": [
      "Sent 6 lines (224 bytes) to config.txt.\n"
     ]
    }
   ],
   "source": [
    "# ESP32 version\n",
    "%sendtofile config.txt\n",
    "\n",
    "connection0  HUAWEI-B535-2F99,EYR8QJE65GT,mosquitto.doesliverpool.xyz\n",
    "connection1  JulianS9,beckaaaa,mosquitto.doesliverpool.xyz\n",
    "connection2  DoESLiverpool,decafbad00,10.0.100.1\n",
    "pinled       2\n",
    "pinscl       17\n",
    "pinsda       16\n",
    "i2c = machine.I2C(scl=machine.Pin(5), sda=machine.Pin(4))"
   ]
  },
  {
   "cell_type": "code",
   "execution_count": 33,
   "id": "70ef1eef",
   "metadata": {},
   "outputs": [
    {
     "name": "stdout",
     "output_type": "stream",
     "text": [
      "Sent 81 lines (2677 bytes) to stdmqttas.py.\n",
      "Sent 32 lines (969 bytes) to utils.py.\n"
     ]
    }
   ],
   "source": [
    "%sendtofile --source stdmqttas.py\n",
    "%sendtofile --quiet --source utils.py\n"
   ]
  },
  {
   "cell_type": "code",
   "execution_count": 34,
   "id": "932a6bfe",
   "metadata": {},
   "outputs": [
    {
     "name": "stdout",
     "output_type": "stream",
     "text": [
      "Sent 647 lines (23171 bytes) to mqtt_as.py.\n"
     ]
    }
   ],
   "source": [
    "\n",
    "# This requires you to checkout https://github.com/peterhinch/micropython-mqtt/tree/master/mqtt_as\n",
    "%sendtofile --source /home/julian/extrepositories/micropython-mqtt/mqtt_as/mqtt_as.py\n",
    "\n",
    "# The redo for different connections isn't working so put the one \n",
    "# that is active into connection0"
   ]
  },
  {
   "cell_type": "code",
   "execution_count": 28,
   "id": "764a6791",
   "metadata": {},
   "outputs": [
    {
     "name": "stdout",
     "output_type": "stream",
     "text": [
      "\u001b[34mConnecting to --port=/dev/ttyUSB1 --baud=115200 \u001b[0m\n",
      "\u001b[34mReady.\n",
      "\u001b[0m"
     ]
    }
   ],
   "source": [
    "%serialconnect"
   ]
  },
  {
   "cell_type": "code",
   "execution_count": 34,
   "id": "6c58c033",
   "metadata": {},
   "outputs": [
    {
     "name": "stdout",
     "output_type": "stream",
     "text": [
      "topicstem esp8266/241964\n",
      "mode : sta(bc:dd:c2:24:19:64) + softAP(be:dd:c2:24:19:64)\n",
      "#6 ets_task(4020f560, 28, 3fff9430, 10)\n",
      "add if0\n",
      "sleep disable\n",
      "await connecting to: HUAWEI-B535-2F99 mosquitto.doesliverpool.xyz\n",
      "0 esp8266/241964/scd30 1798.1 20.8957 45.9198\n",
      "SCD41 serial number 0xf9dd 0xff07 0x3b5e\n",
      "scandone\n",
      "state: 0 -> 2 (b0)\n",
      "state: 2 -> 3 (0)\n",
      "state: 3 -> 5 (10)\n",
      "add 0\n",
      "aid 1\n",
      "cnt \n",
      "\n",
      "connected with JulianS9, channel 11\n",
      "dhcp client start...\n",
      "4 esp8266/241964/scd30 1796.75 20.9384 45.8618\n",
      ".ip:192.168.43.67,mask:255.255.255.0,gw:192.168.43.1\n",
      "Checking WiFi integrity.\n",
      "8 esp8266/241964/scd30 1796.55 20.9091 45.8694\n",
      "9 esp8266/241964/scd41 1019 22.7559 40.3625\n",
      "13 esp8266/241964/scd30 1796.76 20.9224 45.8115\n",
      ".17 esp8266/241964/scd30 1798.02 20.9224 45.8969\n",
      "Got reliable connection\n",
      "Connecting to broker.\n",
      "Connected to broker.\n",
      "*** connected:\n",
      "ipnumber 192.168.43.67\n",
      "18 esp8266/241964/scd41 1008 22.3393 40.9775\n",
      "19 esp8266/241964/scd30 1799.58 20.9224 45.871\n",
      "22 esp8266/241964/scd30 1798.74 20.9224 45.8603\n",
      "24 esp8266/241964/scd41 988 22.1017 41.5588\n",
      ".26 esp8266/241964/scd30 1799.67 20.8824 45.8664\n",
      "30 esp8266/241964/scd30 1796.94 20.8824 45.8664\n",
      "34 esp8266/241964/scd30 1794.58 20.8824 45.903\n",
      "34 esp8266/241964/scd41 978 21.8453 42.0547\n",
      ".39 esp8266/241964/scd30 1797.1 20.8824 45.929\n",
      "43 esp8266/241964/scd30 1803.04 20.8824 45.9534\n",
      "43 esp8266/241964/scd41 969 21.6397 42.5674\n",
      "47 esp8266/241964/scd30 1800.0 20.8824 45.9534\n",
      ".51 esp8266/241964/scd30 1787.61 20.853 45.9351\n",
      "52 esp8266/241964/scd41 969 21.4181 43.0267\n",
      "55 esp8266/241964/scd30 1800.91 20.8824 45.9396\n",
      "RAM free 18352 alloc 19600\n",
      ".60 esp8266/241964/scd30 1782.14 20.8824 45.9396\n",
      "61 esp8266/241964/scd41 967 21.2365 43.4998\n",
      "64 esp8266/241964/scd30 1780.23 20.8663 45.9259\n",
      "68 esp8266/241964/scd30 1801.43 20.8824 45.8923\n",
      ".71 esp8266/241964/scd41 968 21.0522 43.9255\n",
      "72 esp8266/241964/scd30 1818.53 20.8824 45.903\n",
      "76 esp8266/241964/scd30 1830.17 20.8824 45.9396\n",
      "80 esp8266/241964/scd30 1831.94 20.8957 45.8939\n",
      "80 esp8266/241964/scd41 968 20.8893 44.3085\n",
      ".\u001b[34m\n",
      "\n",
      "*** Sending Ctrl-C\n",
      "\n",
      "\u001b[0m"
     ]
    },
    {
     "name": "stderr",
     "output_type": "stream",
     "text": [
      "Traceback (most recent call last):\n",
      "  File \"<stdin>\", line 119, in <module>\n",
      "  File \"uasyncio/core.py\", line 1, in run_forever\n",
      "  File \"uasyncio/core.py\", line 1, in run_until_complete\n",
      "  File \"uasyncio/core.py\", line 1, in wait_io_event\n",
      "KeyboardInterrupt: \n"
     ]
    }
   ],
   "source": [
    "#%sendtofile main.py\n",
    "\n",
    "import time, sys, machine, struct\n",
    "import uasyncio as asyncio\n",
    "from stdmqttas import fconfig, config, mqttconnecttask, callbackcmdtask\n",
    "from mqtt_as import MQTTClient\n",
    "from stdmqttas import pinled, flashpinled, shortmac, topicstem, itertools_count\n",
    "\n",
    "import network\n",
    "network.WLAN().active(0)  # disable the connection at startup\n",
    "flashpinled(5, 300, 300)\n",
    "print(\"topicstem\", topicstem)\n",
    "\n",
    "def crc8(b):\n",
    "    crc = 0xFF\n",
    "    for c in b:\n",
    "        crc ^= c\n",
    "        for i in range(8):\n",
    "            crc = 0xFF & (((crc << 1) ^ 0x31) if (crc & 0x80) else (crc << 1))\n",
    "    return crc\n",
    "\n",
    "if sys.platform == \"esp32\":\n",
    "    i2c = machine.I2C(1, scl=machine.Pin(int(fconfig[\"pinscl\"])), sda=machine.Pin(int(fconfig[\"pinsda\"])))\n",
    "else:\n",
    "    i2c = machine.I2C(scl=machine.Pin(int(fconfig[\"pinscl\"])), sda=machine.Pin(int(fconfig[\"pinsda\"])))\n",
    "\n",
    "topicscd41 = topicstem+\"/scd41\"\n",
    "topicscd30 = topicstem+\"/scd30\"\n",
    "topiccmd = topicstem+\"/cmd\"\n",
    "topicreply = topicstem+\"/reply\"\n",
    "topiconline = topicstem+\"/online\"\n",
    "topicip = topicstem+\"/ip\"\n",
    "topicerror = topicstem+\"/error\"\n",
    "\n",
    "async def SCD30task(client):\n",
    "    try:\n",
    "        i2c.writeto(0x61, bytes([0x02, 0x04]))   # soft reset\n",
    "        await asyncio.sleep_ms(40)\n",
    "        i2c.writeto(0x61, bytes([0x00, 0x10, 0x00, 0x00, crc8([0x00, 0x00])]))   # continuous measurement\n",
    "        await asyncio.sleep_ms(40)\n",
    "        i2c.writeto(0x61, bytes([0x46, 0x00, 0x00, 0x02, crc8([0x00, 0x02])]))   # 2s measurement interval\n",
    "        await asyncio.sleep_ms(40)\n",
    "        for n in itertools_count():\n",
    "            y = i2c.writeto(0x61, bytes([0x02, 0x02]))  # data ready?\n",
    "            await asyncio.sleep_ms(4)\n",
    "            d = i2c.readfrom(0x61, 2)    # ready is 1\n",
    "            if d == bytes([0x00, 0x01]):\n",
    "                y = i2c.writeto(0x61, bytes([0x03, 0x00]))  # read data\n",
    "                await asyncio.sleep_ms(4)\n",
    "                x = i2c.readfrom(0x61, 18)\n",
    "                #crc8(x[:2]) == x[2]  etc for every 3 bytes\n",
    "                co2, temp, humid = struct.unpack(\">fff\", bytes([x[0],x[1],x[3],x[4], x[6],x[7],x[9],x[10], x[12],x[13],x[15],x[16]]))\n",
    "                print(n, topicscd30, co2, temp, humid)\n",
    "                if client.isconnected():\n",
    "                    await client.publish(topicscd30, \"%f %f %f\"%(co2, temp, humid))\n",
    "            await asyncio.sleep_ms(500)\n",
    "    except OSError as e:\n",
    "        print(\"SCD30taskerror\", e)\n",
    "        flashpinled(5, 300, 100)\n",
    "        aloop.create_task(SCD30task(client))\n",
    "\n",
    "        \n",
    "async def SCD41task(client):\n",
    "    try:\n",
    "        i2c.writeto(0x62, bytes([0x3F, 0x86]))   # stopPeriodicMeasurement\n",
    "        await asyncio.sleep_ms(500)\n",
    "        i2c.writeto(0x62, bytes([0x36, 0x82]))   # getSerialNumber\n",
    "        await asyncio.sleep_ms(1)\n",
    "        x = i2c.readfrom(0x62, 9)\n",
    "        s0, s1, s2 = struct.unpack(\">HHH\", bytes([x[0],x[1], x[3],x[4], x[6],x[7]]))\n",
    "        print(\"SCD41 serial number\", hex(s0), hex(s1), hex(s2))\n",
    "        i2c.writeto(0x62, bytes([0x21, 0xB1]))   # startPeriodicMeasurement\n",
    "        await asyncio.sleep_ms(1)\n",
    "        for n in itertools_count():\n",
    "            i2c.writeto(0x62, bytes([0xE4, 0xB8]))   # check ready\n",
    "            await asyncio.sleep_ms(4)\n",
    "            d = i2c.readfrom(0x62, 3)\n",
    "            if not (d[0] == 0x80 and d[1] == 0x00):\n",
    "                i2c.writeto(0x62, bytes([0xEC, 0x05]))   # readMeasurement\n",
    "                await asyncio.sleep_ms(1)\n",
    "                x = i2c.readfrom(0x62, 9)\n",
    "                co2, utemp, uhumid = struct.unpack(\">HHH\", bytes([x[0],x[1], x[3],x[4], x[6],x[7]]))\n",
    "                temp = utemp*175.0/65536.0 - 45.0\n",
    "                humid = uhumid*100.0/65536.0\n",
    "                print(n, topicscd41, co2, temp, humid)\n",
    "                if client.isconnected():\n",
    "                    await client.publish(topicscd41, \"%f %f %f\"%(co2, temp, humid))\n",
    "            await asyncio.sleep_ms(500)\n",
    "    except OSError as e:\n",
    "        print(\"SCD41taskerror\", e)\n",
    "        flashpinled(5, 300, 100)\n",
    "        aloop.create_task(SCD41task(client))\n",
    "        \n",
    "        \n",
    "def callbackcmd(topic, msg, retained):\n",
    "    aloop.create_task(callbackcmdtask(client, topicreply, msg))\n",
    "\n",
    "async def onconnecttask(client):\n",
    "    ipnumber = client._sta_if.ifconfig()[0]\n",
    "    print(\"ipnumber\", ipnumber)\n",
    "    await client.publish(topiconline, \"1\", retain=True)\n",
    "    await client.publish(topicip, ipnumber, retain=True)\n",
    "    await client.subscribe(topiccmd, 1)\n",
    "    \n",
    "config['subs_cb'] = callbackcmd\n",
    "config['connect_coro'] = onconnecttask\n",
    "config['will'] = (topiconline, \"0\", True)\n",
    "client = MQTTClient(config)\n",
    "client.DEBUG = True\n",
    "  \n",
    "aloop = asyncio.get_event_loop()\n",
    "aloop.create_task(SCD30task(client))\n",
    "aloop.create_task(SCD41task(client))\n",
    "aloop.create_task(mqttconnecttask(client))\n",
    "\n",
    "aloop.run_until_complete(client.publish(topicerror, \"\", retain=True))\n",
    "for n in itertools_count():\n",
    "    try:\n",
    "        aloop.run_forever()\n",
    "    except Exception as e:\n",
    "        aloop.run_until_complete(client.publish(topicerror, str(n)+\" \"+str(e), retain=True))\n"
   ]
  },
  {
   "cell_type": "code",
   "execution_count": null,
   "id": "03e9146e",
   "metadata": {},
   "outputs": [],
   "source": []
  }
 ],
 "metadata": {
  "kernelspec": {
   "display_name": "MicroPython - USB",
   "language": "micropython",
   "name": "micropython"
  },
  "language_info": {
   "codemirror_mode": "python",
   "file_extension": ".py",
   "mimetype": "text/python",
   "name": "micropython"
  }
 },
 "nbformat": 4,
 "nbformat_minor": 5
}
