{
 "cells": [
  {
   "cell_type": "code",
   "execution_count": 1,
   "metadata": {},
   "outputs": [
    {
     "name": "stdout",
     "output_type": "stream",
     "text": [
      "\u001b[34m** WebSocket connected **\n",
      "\u001b[0mPassword: \n",
      "WebREPL connected\n",
      ">>> \u001b[34mReady.\n",
      "\u001b[0m"
     ]
    }
   ],
   "source": [
    "%websocketconnect --password wpass ws://10.0.35.134:8266"
   ]
  },
  {
   "cell_type": "code",
   "execution_count": null,
   "metadata": {},
   "outputs": [],
   "source": []
  },
  {
   "cell_type": "code",
   "execution_count": null,
   "metadata": {},
   "outputs": [],
   "source": []
  },
  {
   "cell_type": "markdown",
   "metadata": {},
   "source": [
    "## Micropython on a light bulb\n",
    "\n",
    "This requires bitbanging as shown in https://github.com/xoseperez/my92xx\n",
    "with teardown at https://tinkerman.cat/post/ailight-hackable-rgbw-light-bulb\n",
    "\n",
    "Before building the Micropython, the following modules should be copied over:\n",
    "```\n",
    "cp micropython-mqtt/mqtt_as/mqtt_as.py micropython-fork/ports/esp8266/modules/\n",
    "cp micropython-mqtt/mqtt_as/mqtt_as_timeout.py micropython-fork/ports/esp8266/modules/\n",
    "cp -r micropython-lib/uasyncio/uasyncio/ micropython-fork/ports/esp8266/modules/\n",
    "cp micropython-lib/uasyncio.core/uasyncio/core.py micropython-fork/ports/esp8266/modules/uasyncio/\n",
    "cp micropython-lib/uasyncio.queues/uasyncio/queues.py micropython-fork/ports/esp8266/modules/uasyncio/\n",
    "cp -r micropython-lib/umqtt.simple/umqtt/ micropython-fork/ports/esp8266/modules/\n",
    "cp micropython-lib/umqtt.simple/umqtt/simple.py micropython-fork/ports/esp8266/modules/umqtt/\n",
    "cp micropython-lib/umqtt.robust/umqtt/robust.py micropython-fork/ports/esp8266/modules/umqtt/\n",
    "\n",
    "follow instructions on http://akshaim.github.io/IoT/MicroPython_ESP8266/MP_ESP_101.html\n",
    "\n",
    "export PATH=/home/julian/extrepository/esp-open-sdk/xtensa-lx106-elf/bin:$PATH\n",
    "```\n",
    "\n",
    "The code used for the function esp_my9291_write() is at the bottom, along with a backup of the arduino function also used.\n",
    "\n",
    "The microcontroller is actually an ESP8285, so the flashing command is without the \"-fm dio\":\n",
    "\n",
    "> esptool.py --port /dev/ttyUSB2 --baud 460800 write_flash --flash_size=detect 0 /home/julian/extrepositories/micropython-fork/ports/esp8266/build-GENERIC/firmware-combined.bin\n",
    "\n",
    "\n"
   ]
  },
  {
   "cell_type": "code",
   "execution_count": null,
   "metadata": {},
   "outputs": [],
   "source": [
    "export PATH=/home/julian/extrepository/esp-open-sdk/xtensa-lx106-elf/bin:$PATH"
   ]
  },
  {
   "cell_type": "code",
   "execution_count": 2,
   "metadata": {},
   "outputs": [
    {
     "name": "stdout",
     "output_type": "stream",
     "text": [
      "serial exception on close write failed: [Errno 5] Input/output error\n",
      "\u001b[34mConnecting to --port=/dev/ttyUSB3 --baud=115200 \u001b[0m\n",
      "b'sl\\x00l\\x9c\\x9e|\\x00\\x84l\\xe0|\\x03\\x0c\\x0c\\x0c\\x8c'"
     ]
    },
    {
     "name": "stderr",
     "output_type": "stream",
     "text": [
      "b'd\\xe4'b'c<\\x87\\x82\\x03\\xec\\x13\\x93{\\x9bc\\x8c\\x0cc\\x8c\\xf3no\\x9flog\\xdc\\xe3\\xe4'b'b\\x1cp\\xe4\\x87l{d{d8\\xf3n\\xe0\\x10\\x03\\x0c\\x0c\\x82\\x0cl'b'\\x0c\\x0cc\\x0cg\\xe3|\\x03\\xe4$l\\x87\\x1c\\x80\\x0cc\\x84\\xf3oo\\xee\\x00l\\x8c\\xc7l`\\x03\\x90\\x1b\\x12gg'b'd`\\x03\\x0f\\x03o;\\x87\\x92\\x93g'b'c\\xecl`\\x02x\\xf3g\\xe0\\x10\\x03'b'{\\x8c\\x9c\\xdc\\xe3\\xe0'b'c\\x0cg\\xe3|\\x03d'b'\\x84'b'\\x0cc\\x8c\\xf3gn\\xe7\\x00'b'l`\\x02\\x98\\x13\\x13nn'b'\\x8f\\x0el\\x07\\x02gs\\xc7\\x93\\x93o'b'\\x0c\\x1bl\\xc7\\x0f$p\\xf3o\\xe0\\x10\\x03\\x0c\\x0cs\\x8c\\x9c\\x9c\\xe3\\xe0'b\"\\x87\\x0c\\x0cc\\x0c'\\xe3|\\x03\"b'\\x8c\\x0c\\x87c\\x8c\\xf3nn\\xe7\\x00\\x0c\\x87l`\\x03\\x98\\x12\\x13gn'b'\\x8f\\x07l\\x0f\\x02gs\\x87\\x93\\x93n'b'\\x1b\\x8c\\x92`\\x03\\x07s\\x9b\\x9bo\\x0c\\x0c\\x12\\x8c\\x93`\\x03\\x84\\xe3\\xf3\\x9bx\\x03\\x83og\\x80l\\x1bld'b'\\x03l\\x87c\\xec\\x87\\x03'\u0003b'l`\\x02sl\\x00l\\x9c\\x9e|\\x00\\x84l\\xe0|\\x03\\x0c\\x0c\\x0c\\x8c'b'd\\xe4'b'c<\\x87\\x82\\x03\\xec\\x13\\x9b{\\x9bc\\x8c\\x0cc\\x8c\\xf3no\\x9flog\\xdc\\xe3\\xe4'b'b\\x1cp\\xe4\\x87l{d{dp\\xf3n\\xe0\\x10\\x03\\x0c\\x0c\\x82\\x0cd'b'\\x0c\\x0c\\x0cc\\x0cg\\xe3|\\x03\\xe4ll\\x87\\x1c\\x80\\x0cc\\x84\\xfboo\\xee\\x00l\\x8c\\xc7l`\\x03\\x90\\x1b\\x12gg'b\"d`\\x03\\x0f\\x03or\\x87\\x92\\x93'\"b\"c\\xecl`\\x02x\\xf3'\\xe0\\x10\\x03\"b'\\x0c{\\x8c\\x9c\\x9c\\xe3\\xe0'b'c\\x0cg\\xe3|\\x03d'b'\\x84'b'\\x0cc\\x8c\\xf3gn\\xe7\\x00'b'l`\\x02\\x98\\x13\\x13nn'b'\\x87\\x0el\\x07\\x02gs\\xc7\\x93\\x9bo'b'\\x0c\\x12l\\xc7\\x0f$p\\xfbo\\xe0\\x10\\x03\\x0c\\x0cs\\x8c\\x9c\\x9c\\xe3\\xe0'b\"\\x87\\x0c\\x0cc\\x0c'\\xe3|\\x03\"b\"\\x8c\\x0c\\x87c\\x8c\\xf3no\\xe7\\x00\\x0c\\x87l`\\x03\\x98\\x12\\x13'n\"b'\\x8f\\x07l\\x07\\x02gs\\x87\\x93\\x93n'b'\\x0c\\x1b\\x8c\\x92`\\x03\\x07s\\x9b\\x9bo\\x0c\\x0c\\x12\\x8c\\x93`\\x03\\x8c\\xe3\\xfb\\x93p\\x03\\x82go\\x80d\\x1bdl\\x0c\\x0c\\x02l\\x8eb\\xe4\\x8f\\x03\\x0c\\x0c\\x02\\x0cl`\\x03{$\\x00d\\x9c\\x9f|\\x00\\x8cd\\xe0|\\x03'b'\\xc4\\x0cl\\xec\\x0cc|\\x8e\\x83\\x03\\xe4\\x1b\\xdbr\\x93c\\x84'b\"c\\x84\\xfbog\\xdfl'n\\x9c\\xe3\\xec\\x0cc\\x1cx\\xec\\x8elrlslx\\xf3g\\xe0\\x10\\x03\"b'\\x83\\x0cl\\x0c\\x0c'b\"c\\x0cg\\xe3|\\x03\\xe4dd\\x8f\\x1c\\x80\\x0cc\\x8c\\xf3'n\\xe7\\x00d\\x8c\\x87l`\\x03\\x90\\x1b\\x1bog\\x0cl`\\x03\\x0e\\x03o{\\x8f\\x9b\\x92g\\x0c\\x0cc\\xe4d`\\x03p\\xf2g\\xe0\\x18\\x03\"b'{\\xc4\\x9c\\x9c\\xe3\\xe0\\x0c\\x0c'cb'o\\xe2|\\x02l\\x0c\\x84'b'c\\x8c\\xfbgg\\xef\\x00'b'd`\\x03\\x90\\x1b\\x12gg'b\"\\x8f\\x07l\\x0f\\x03or\\x87\\x93\\x93'\"b\"\\x1bl\\x87\\x0fdx\\xf3'\\xe0\\x10\\x03\"b'\\x0c;\\x8c\\x9c\\x9c\\xe3\\xe0'b'\\x8f'b'\\x0cc\\x0cg\\xe3|\\x03'b'\\x84'b'\\x87c\\x8c\\xf2gg\\xe7\\x00'b'\\x8f$`\\x03\\x90\\x1b\\x12gg\\x0c\\x8f\\x07l\\x0f\\x03o;\\x87\\x92\\x93g'b'\\x1b\\xc4\\x9b`\\x02\\x07s\\x93\\x93n'b'\\x1b\\x8c\\x92`\\x03\\x84\\xe3\\xf3\\x9bp\\x02\\x83og\\x80l\\x13ll'b'\\x03d\\x87c\\xec\\x87\\x03\\x0c'\u0003b'd`\\x03sl\\x00l\\x9c\\x9e|\\x00\\x84l\\xe0|\\x03\\x0c\\x0c\\x0c\\x8c\\x0cd\\xe4'b'c|\\x8f\\x82\\x02\\xec\\x13\\x93{\\x9bc\\x8c\\x0cc\\x8c\\xf3nn\\x9f$og\\x9c\\xe3\\xe4\\x0cb\\x1cp\\xe4\\x8flsd{dp\\xfbo\\xe0\\x10\\x02\\x0c\\x0c\\x83'd\f",
      "\f",
      "\f",
      "\f",
      "\f",
      "cb'n\\xe3|\\x03\\xecll\\x8e\\x1c\\xc0'b\"b\\x84\\xfbog\\xef\\x00l\\x8c\\x8fd`\\x03\\x98\\x12\\x13'n\"b'd`\\x03\\x07\\x02gs\\x87\\x93\\x93n'b'\\x0cc\\xecl`\\x03p\\xf3n\\xe0\\x10\\x03\\x0c\\x0cr\\x8c\\x9c\\x9c\\xe3\\xe0'b'\\x0c\\x0cc\\x0cg\\xe3|\\x03d'b'\\x8c\\x0c\\x0cc\\x8c\\xf3no\\xe7\\x00\\x0c\\x0cl`\\x03\\xd8\\x13\\x1boo\\x0c\\x87\\x0fd\\x07\\x03ns\\x8f\\x9b\\x9bo\\x0c\\x0c\\x13l\\x8f\\x07lp\\xfbo\\xe0\\x18\\x02\\x0c\\x0cs\\x84\\x9c\\x9c\\xe2\\xe0\\x0c\\x87\\x0c\\x0c#'b\"o\\xe3|\\x03\\x0c\\x8c\\x0c\\x8e#\\x84\\xfboo\\xee\\x00\\x0c\\x87l \\x03\\x98\\x13\\x13no\\x0c\\x87\\x0fd\\x07\\x03's\\x8e\\x9b\\x9bo\\x0c\\x0c\\x12\\x8c\\x93`\\x03\\x0f{\\x9b\\x9bg\\x0c\\x0c\\x13\\x84\\x9b`\\x03\\x8c\\xe3\\xfb\\x93p\\x03\\x83go\\x80d\\x12dl\\x0c\\x0c\\x03l\\x8eb\\xe4\\x8f\\x03\\x0c\\x0c\\x02\\x0cl \\x03{$\\x00d\\x9c\\x9f|\\x00\\x8cd\\xe0|\\x03\"b'\\xc4\\x0cl\\xec\\x0cc|\\x8e\\x83\\x03\\xe4\\x1b\\x92r\\x93c\\x84'b'c\\xc4\\xfbog\\xdflnn\\x9c\\xe3\\xec\\x0cc\\x1cx\\xec\\x8elrlslx\\xf3g\\xe0\\x10\\x03'b'\\x0c\\x83\\x0cl\\x0c\\x0c'b'c\\x0cg\\xe3|\\x03\\xe4dd\\x8f\\x1c\\x80\\x0cc\\x8c\\xf3nn\\xe7\\x00$\\x8c\\x87l`\\x03\\x90\\x1b\\x1bog\\x0cl \\x03\\x0e\\x03o{\\x8f\\x9b\\x92g\\x0c\\x0cc\\xe4d`\\x03p\\xf2g\\xe0\\x18\\x03'b'{\\xc4\\x9c\\x9c\\xe3\\xe0\\x0c\\x0c'cb'o\\xe2|\\x02l\\x0c\\x84'b'c\\x8c\\xfbgg\\xef\\x00'b'd`\\x03\\x90\\x12\\x12gg'b'\\x8f\\x07l\\x0f\\x03gr\\x87\\x93\\x93n'b'\\x1bl\\x87\\x0fdx\\xf3n\\xe0\\x10\\x03'b'\\x0c;\\x8c\\xdc\\x9c\\xe3\\xe0'b'\\x8f'b'\\x0cc\\x0cg\\xe3|\\x03'b'\\x84'b\"\\x87c\\x8c\\xf2g'\\xe7\\x00\"b'\\x8fl`\\x02\\x90\\x1b\\x12gg'b'\\x8f\\x07l\\x0f\\x03o;\\x87\\x92\\x93g'b'\\x1b\\xc4\\x9b`\\x02\\x07s\\x93\\x93n'b'\\x1b\\x8c\\x92`\\x03\\x84\\xe2\\xf2\\x9bp\\x02\\x83ng\\x80l\\x13ll\\x0c\\x0c\\x03d\\x8fc\\xec\\x8f\\x02\\x0c\\x0c\\x03'b'd`\\x03rl\\x00l\\x9c\\x9f|\\x00\\x8cl\\xe0|\\x03'b'\\x0c\\x0c\\x8c\\x0cl\\xe4'b\"c|\\x8f\\x83\\x03\\xec\\x13\\x93s\\x93c\\x84\\x0cc\\x8c\\xf2g'\\x9fdoo\\x9c\\xe3\\xe4\\x0cc\\x1cp\\xe4\\x8fdslsdx\\xf3g\\xe0\\x10\\x03\"b'\\x83\\x0cl\\x0c\\x0c'b\"c\\x0cg\\xe3|\\x03\\xe4dd\\x8f\\x1c\\x80\\x0cc\\x8c\\xf3'n\\xe7\\x00d\\x8c\\x87l`\\x03\\x90\\x1b\\x1bog\\x0cl`\\x03\\x0e\\x03o{\\x8f\\x9b\\x92g\\x0c\\x0cc\\xe4d`\\x03p\\xf2g\\xe0\\x18\\x03\"b'{\\xc4\\x9c\\x9c\\xe3\\xe0\\x0c\\x0c'cb'o\\xe2|\\x02l\\x0c\\x84'b'c\\x8c\\xfbgg\\xef\\x00'b'd`\\x03\\x90\\x1b\\x12gg'b\"\\x8f\\x07l\\x0f\\x03or\\x87\\x93\\x93'\"b\"\\x1bl\\x87\\x0fdx\\xf3'\\xe0\\x10\\x03\"b'\\x0c;\\x8c\\x9c\\x9c\\xe3\\xe0'b'\\x8f'b'\\x0cc\\x0cg\\xe3|\\x03'b'\\x84'b'\\x87c\\x8c\\xf2gg\\xe7\\x00'b'\\x8f$`\\x03\\x90\\x1b\\x12gg\\x0c\\x8f\\x07l\\x0f\\x03o;\\x87\\x92\\x93g'b'\\x1b\\xc4\\x9b`\\x02\\x07s\\x93\\x93n'b'\\x1b\\x8c\\x92`\\x03\\xc4\\xe3\\xf3\\x92x\\x03\\x83on\\x80l\\x1bdd'b'\\x03l\\x87c\\xec\\x87\\x03'b'\\x03\\x0cl`\\x02{d\\x00l\\x9c\\x9f|\\x00\\x84l\\xe0|\\x02\\x0c\\x0c\\x0c\\x84'b'd\\xec\\x0cc|\\x87\\x83\\x03\\xe4\\x1b\\x9b{\\x9bb\\x8c\\x0cc\\x84\\xfboo\\x9flgg\\x9c\\xe3\\xec'b'c\\x1cp\\xec\\x87l{d;lp\\xfbg\\xe0\\x18\\x03'b'\\x83'l\f",
      "\f",
      "\f",
      "\f",
      "\f",
      "bb'o\\xe2|\\x02\\xecll\\x8f\\x1c\\x80'b\"c\\x8c\\xf2gg\\xef\\x00d\\x84\\x8f$`\\x03\\x98\\x13\\x13oo\\x0cl`\\x02\\x07\\x03's\\x8e\\x9b\\x9bo\\x0c\\x0cb\\xecd`\\x03p\\xfbo\\xe0\\x10\\x02\\x0c\\x0cs\\x84\\x9c\\x9c\\xe3\\xe0\\x0c\\x0c\\x0c\\x0cc\"b'n\\xe3|\\x03l\\x0c\\x8c\\x0c\\x0cb\\x84\\xfboo\\xee\\x00\\x0c\\x0cl`\\x03\\x90\\x1b\\x1bog\\x0c\\x8e\\x0f$\\x0e\\x03o{\\x8f\\x9b\\x92g\\x0c\\x0c\\x13d\\x8f\\x07lp\\xf2g\\xe0\\x18\\x03'b'{\\xc4\\x9c\\x9c\\xe3\\xe0\\x0c\\x8e'cb'o\\xe2|\\x02\\x0c\\x8c'b'\\x8fc\\xc4\\xfbog\\xef\\x00\\x0c\\x8ed`\\x03\\x90\\x1b\\x1boo\\x0c\\x87\\x0fd\\x0e\\x03n{\\x8f\\x9b\\x9bg\\x0c\\x0c\\x13\\x84\\x9b`\\x03\\x0f{\\x92\\x92g\\x0c'b'\\x1b\\x84\\x9b`\\x03\\x8c\\xe3\\xfb\\x93x\\x03\\x82go\\x80d\\x1bdd\\x0c\\x0c\\x02l\\x8ec\\xe4\\x8e\\x03'b'\\x0c\\x03\\x0cl`\\x03{d\\x00d\\x9c\\x9f|\\x00\\x8cd\\xe0|\\x03\\x0c'b'\\x84'b'l\\xec\\x0cc|\\x87\\x83\\x03\\xe4\\x1b\\x9b;\\x92c\\x8c'b\"b\\x84\\xfboo\\x9flg'\\x9c\\xe3\\xec\"b'c\\x1cx\\xec\\x87l{lrlx\\xf2g\\xe0\\x18\\x03'b'\\x83\\x0cl\\x0c\\x0c\\x0c'b\"c\\x0co\\xe3|\\x03\\xecdd\\x8f\\x1c\\x80\\x0cc\\x8c\\xf3g'\\xe7\\x00d\\x84\\x87l`\\x02\\x90\\x1b\\x1boo\\x0cl`\\x03\\x07\\x03n{\\x8f\\x9b\\x9bg\\x0c\\x0cc\\xe4d`\\x03p\\xfbg\\xe0\\x18\\x03\\x0c\"b's\\x84\\x9c\\x9c\\xe2\\xe0\\x0c\\x0c\\x0c'bb'o\\xe2|\\x03l\\x0c\\x8c'b'c\\x84\\xfbog\\xef\\x00\\x0c'b'd`\\x03\\x90\\x1b\\x1bgg\\x0c\\x8e\\x07l\\x0f\\x03o{\\x87\\x92\\x93g'b'\\x1bd\\x87\\x0edx\\xf2g\\xe0\\x10\\x03'b'{\\x8c\\x9c\\x9c\\xe3\\xe0'b'\\x8f'b'c\\x0cg\\xe3|\\x03'b'\\x84'b'\\x8fc\\x8c\\xf2gg\\xef\\x00'b'\\x8fd`\\x03\\x90\\x1b\\x1bgg\\x0c\\x8e\\x07l\\x0e\\x03o{\\x8f\\x92\\x92g\\x0c'b\"\\x13\\x84\\x9b`\\x03\\x07r\\x93\\x93'\"b\"\\x1b\\x8c\\xdb`\\x02\\x8c\\xe3\\xfb\\x93p\\x03\\x83'o\\x80d\\x12ll\\x0c\\x0c\\x03d\\x8fc\\xe4\\x8f\\x03\\x0c\\x0c\\x02\\x0cd`\\x03;l\\x00d\\x9c\\x9f<\\x00\\x8cd\\xe0<\\x03\"b'\\x8c\\x0cl\\xec\\x0cb|\\x8e\\x83\\x03\\xec\\x12\\x92s\\x93c\\x84'b'c\\x8c\\xfbgg\\x9edno\\x9c\\xe2\\xec\\x0cc\\x1cx\\xec\\x8edrlslx\\xf3n\\xe0\\x10\\x03'b'\\x0c\\x82\\x0cl\\x0c'b'\\x0cc\\x0cg\\xe3<\\x03\\xe4d$\\x87\\x1c\\x80\\x0cc\\x8c\\xf3no\\xe7\\x00l\\x8c\\x87l`\\x03\\x90\\x1b\\x1bgg\\x0cd`\\x03\\x0f\\x03o{\\x8f\\x92\\x92g\\x0c'b'c\\xe4$`\\x03x\\xf2g\\xe0\\x18\\x03'b'{\\x8c\\x9c\\x9c\\xe3\\xe0\\x0c'b'c\\x0cg\\xe3|\\x03l'b'\\x84'b'c\\x8c\\xf2gg\\xef\\x00'b'$`\\x03\\x98\\x12\\x13gn'b'\\x8f\\x07l\\x0f\\x02gr\\x87\\x93\\x93n'b'\\x1bl\\x87\\x0fdx\\xf3n\\xe0\\x10\\x03\\x0c\\x0cr\\x8c\\x9c\\x9c\\xe3\\xe0'b'\\x8f\\x0c\\x0cc\\x0cg\\xe3|\\x03'b\"\\x84\\x0c\\x87c\\x8c\\xf3'n\\xe7\\x00\"b'\\x87l`\\x02\\x90\\x12\\x12gg'b'\\x8f\\x07l\\x0f\\x03gr\\x87\\x93\\x93n'b'\\x1b\\x8c\\x92`\\x02\\x07s\\x93\\x9bo'b'\\x0c\\x12\\x8c\\x93`\\x03\\x84\\xe2\\xf3\\x9bp\\x02\\x83og\\x80l\\x13ll\\x0c'b'\\x03d\\x8fc\\xec\\x87\\x02\\x0c\\x0c\\x03'b'd`\\x03sl\\x00l\\x9c\\x9f|\\x00\\x8cl\\xe0|\\x03'b'\\x0c\\x0c\\x8c\\x0cl\\xe4'b'c|\\x8f\\x83\\x02\\xec\\x13\\x93s\\x93c\\xc4\\x0cc\\x8c\\xf3gn\\x9fdoo\\x9c\\xe3\\xe4\\x0cc\\x1cp\\xe4\\x8fdsl{dp\\xfbo\\xe0\\x10\\x03\\x0c\\x0c\\x83\\x0cd'b\"\\x0c\\x0c\\x0cc\\x0cn\\xe3|\\x03\\xe4ll\\x87\\x1c\\x80\\x0cb\\x84\\xfboo\\xee\\x00l\\x8c\\x8ed`\\x03\\x98\\x12\\x12g'\"b'd`\\x03\\x0f\\x03gr\\x87\\x93\\x93n'b'c\\xecl`\\x03x\\xf3n\\xe0\\x10\\x03'b'\\x0cr\\x8c\\xdc\\x9c\\xe3\\xe0'b'\\x0cc\\x0cg\\xe3<\\x03d'b'\\xc4\\x0c\\x0cc\\x8c\\xf3nn\\xe7\\x00'b'\\x0cl`\\x02\\x98\\x13\\x13no'b'\\x87\\x0ed\\x07\\x03gs\\x8e\\x93\\x9bo\\x0c\\x0c\\x12l\\x8e\\x07lp\\xfbo\\xe0\\x10\\x03\\x0c\\x0cs\\x84\\x9c\\x9c\\xe3\\xe0\\x0c\\x87\\x0c\\x0cc'b'n\\xe3|\\x03\\x0c\\x8c\\x0c\\x87c\\x84\\xf3no\\xe7\\x00\\x0c\\x87l`\\x03\\x98\\x13\\x13nn'b'\\x87\\x0el\\x07\\x02gs\\xc7\\x93\\x9bo'b'\\x0c\\x12\\x8c\\x93`\\x03\\x0e{\\x9b\\x9bo\\x0c\\x0c\\x13\\x8c\\x93`\\x03\\x8c\\xe3\\xfb\\x92x\\x03\\x83gn\\x80l\\x1bdd'b'\\x0c\\x03l\\x87c\\xec\\xc7\\x03'b'\\x03\\x0cl`\\x03{d\\x00l\\x9c\\x9f|\\x00\\xc4l\\xe0|\\x02\\x0c\\x0c'"
     ]
    },
    {
     "name": "stderr",
     "output_type": "stream",
     "text": [
      "b'\\x84'b'$\\xec\\x0cc|\\x87\\x83\\x03\\xe4\\x1b\\x9b{\\xdbb\\x8c\\x0c#\\x84\\xfboo\\x9flgg\\x9c\\xe3\\xec'b'c\\x1cp\\xec\\x87l{drlp\\xf2g\\xe0\\x18\\x03'b'\\x83'l\f",
      "\f",
      "\f",
      "\f",
      "cb'o\\xe2|\\x02\\xecld\\x8f\\x1c\\x80'b'c\\x8c\\xf2gg\\xef\\x00d\\x84\\x8fl`\\x02\\xd8\\x13\\x1boo\\x0cl`\\x02\\x07\\x03ns\\x8f\\x9b\\x9bo\\x0c\\x0cc\\xecd`\\x03p\\xfbo\\xe0\\x18\\x02\\x0c\\x0cs\\x84\\x9c\\x9c\\xe2\\xe0\\x0c\\x0c\\x0c\\x0c#'b'o\\xe3|\\x03l\\x0c\\x8c\\x0c'b'b\\x84\\xfboo\\xef\\x00\\x0c\\x0cd`\\x03\\x90\\x1b\\x1bog\\x0c\\x8e\\x0fl\\x0e\\x03o{\\x8f\\xdb\\x92g\\x0c'b'\\x13d\\x8f\\x07lx\\xf2g\\xe0\\x18\\x03'b'{\\x8c\\x9c\\x9c\\xe3\\xe0\\x0c\\x8e'b'c\\x0co\\xe2|\\x02\\x0c\\x8c'b'\\x8fc\\x8c\\xfbgg\\xef\\x00\\x0c\\x8fd`\\x03\\x90\\x1b\\x1bog\\x0c\\xc7\\x0f$\\x0e\\x03o{\\x8f\\x9b\\xdbg\\x0c\\x0c\\x13\\x84\\x9b`\\x03\\x0f;\\x92\\x93g'b\"\\x1b\\x84\\x9b`\\x02\\x84\\xe3\\xf3\\xdbx\\x03\\x83o'\\x80l\\x1bld\"b'\\x03l\\x87c\\xec\\x87\\x03'\u0003b'l`\\x02sd\\x00l\\x9c\\x9e|\\x00\\x84l\\xe0|\\x03\\x0c\\x0c\\x0c\\x84'b'd\\xe4\\x0cc|\\x87\\x82\\x03\\xe4\\x13\\x9b{\\x9b#\\x8c\\x0cc\\x84\\xf3no\\x9flgg\\x9c\\xe3\\xec'b'b\\x1cp\\xec\\x87l{d{$p\\xf3o\\xe0\\x10\\x03\\x0c\\x0c\\x83\\x0cd'b\"\\x0c\\x0c\\x0cc\\x0c'\\xe3|\\x03\\xe4ll\\x87\\x1c\\x80\\x0c#\\x84\\xfboo\\xee\\x00l\\x8c\\x8ed`\\x03\\x90\\x12\\x12gg\"b'd`\\x03\\x0f\\x03gr\\x87\\x93\\x93n'b'c\\xecl`\\x02x\\xf3n\\xe0\\x10\\x03'b'\\x0c;\\x8c\\xdc\\x9c\\xe3\\xe0'b'\\x0cc\\x0cg\\xe3|\\x03d'b\"\\x84\\x0c\\x0cc\\x8c\\xf3'n\\xe7\\x00\"b'\\x0cl`\\x02\\x98\\x13\\x13no'b'\\x87\\x0ed\\x07\\x03gs\\x8e\\x93\\x9bo\\x0c\\x0c\\x12l\\x8e\\x0flp\\xfbo\\xe0\\x10\\x03\\x0c\\x0cs\\x84\\x9c\\x9c\\xe3\\xe0\\x0c\\x87\\x0c\\x0cc'b'n\\xe3|\\x03\\x0c\\x8c\\x0c\\x87c\\x8c\\xf3no\\xe7\\x00\\x0c\\x87l`\\x03\\x98\\x13\\x13nn'b'\\x8f\\x0el\\x07\\x02gs\\xc7\\x93\\x93o'b'\\x0c\\x1b\\x8c\\x93`\\x03\\x0es\\x9b\\x9bo\\x0c\\x0c\\x13\\x8c\\x93`\\x03\\x8c\\xe3\\xf2\\x93p\\x03\\x83no\\x80d\\x12ll\\x0c\\x0c\\x03d\\x8fc\\xe4\\x8f\\x03\\x0c\\x0c\\x03\\x0cd`\\x03rl\\x00d\\x9c\\x9f|\\x00\\x8cd\\xe0|\\x03'b'\\x0c\\x8c\\x0cl\\xec'b'b|\\x8f\\x83\\x03\\xec\\x12\\x92s\\x93c\\x84'b'c\\x8c\\xf2gg\\x9edno\\x9c\\xe2\\xec\\x0cc\\x1cx\\xec\\x8fdslslx\\xf3n\\xe0\\x10\\x03\\x0c\\x0c\\x82\\x0cl'b'\\x0c\\x0cc\\x0cg\\xe3|\\x03\\xe4dl\\x87\\x1c\\x80\\x0cc\\x84\\xf3no\\xe7\\x00l\\x8c\\x87l \\x03\\x90\\x1b\\x12gg\\x0cd`\\x03\\x0f\\x03o{\\x87\\x92\\x93g'b'c\\xe4l`\\x02x\\xf3g\\xe0\\x10\\x03'b'{\\x8c\\x9c\\x9c\\xe3\\xe0'b'c\\x0cg\\xe3|\\x03d'b'\\x84'b\"\\x0cc\\x8c\\xf2g'\\xe7\\x00\"b\"l`\\x03\\x98\\x12\\x13'n\"b'\\x8f\\x07l\\x07\\x02gs\\x87\\x93\\x93n'b'\\x0c\\x1bl\\x87\\x0fdp\\xf3n\\xe0\\x10\\x03\\x0c\\x0cr\\x8c\\x9c\\x9c\\xe3\\xe0'b'\\x87\\x0c\\x0cc\\x0cg\\xe3|\\x03'b'\\xc4\\x0c\\x87c\\x8c\\xf3nn\\xe7\\x00'b'\\x87l`\\x02\\x98\\x12\\x13gn'b'\\x8f\\x07l\\x0f\\x03gr\\x87\\x93\\x93n'b'\\x1b\\x8c\\x92`\\x03\\x07s\\x93\\x9bo\\x0c\\x0c\\x12\\x8c\\x93 \\x03\\x84\\xe2\\xf3\\x9bp\\x02\\x83og\\x80l\\x13ll\\x0c'b'\\x03d\\x87c\\xec\\x87\\x02\\x0c\\x0c\\x03'b'd`\\x03sl\\x00l\\x9c\\xdf|\\x00\\x84l\\xe0|\\x03\\x0c\\x0c\\x0c\\x8c\\x0cd\\xe4'b\"c|\\x8f\\xc3\\x02\\xec\\x13\\x93s\\x9bc\\x8c\\x0cc\\x8c\\xf3'n\\x9fdoo\\x9c\\xe3\\xe4\\x0c#\\x1cp\\xe4\\x8f$sl{dp\\xfbo\\xe0\\x10\\x02\\x0c\\x0c\\x83\"d\f",
      "\f",
      "\f",
      "\f",
      "cb'n\\xe3|\\x03\\xecll\\xc7\\x1c\\x80'b'b\\x84\\xfboo\\xef\\x00l\\x8c\\x8ed`\\x03\\x98\\x12\\x13gn'b'd`\\x03\\x0f\\x02gs\\x87\\x93\\x93n'b'c\\xecl`\\x038\\xf3n\\xe0\\x10\\x03\\x0c\\x0cr\\x8c\\x9c\\x9c\\xe3\\xe0'b'\\x0c\\x0cc\\x0cg\\xe3|\\x03d'b\"\\x8c\\x0c\\x0cc\\x8c\\xf3no\\xe7\\x00\\x0c\\x0cl`\\x03\\xd8\\x13\\x13oo\\x0c\\x87\\x0fd\\x07\\x03's\\x8e\\x9b\\x9bo\\x0c\\x0c\\x13l\\x8e\\x07lp\\xfbo\\xe0\\x18\\x02\\x0c\\x0cs\\x84\\x9c\\x9c\\xe3\\xe0\\x0c\\x87\\x0c\\x0c#\"b'n\\xe3|\\x03\\x0c\\x8c\\x0c\\x8e#\\x84\\xfboo\\xee\\x00\\x0c\\x87l`\\x03\\x98\\x13\\x13no'b'\\x87\\x0ed\\x07\\x03gs\\x8e\\x9b\\x9bo\\x0c\\x0c\\x12\\x8c\\x93`\\x03\\x0e{\\x9b\\x9bo\\x0c\\x0c\\x13\\x84\\x93`\\x03\\x8c\\xe3\\xfb\\x938\\x03\\x82go\\xc0d\\x1bd$\\x0c\\x0c\\x02l\\x8eb\\xe4\\x8e\\x03'b'\\x0c\\x03\\x0cl`\\x03{d\\x00d\\x9c\\x9f|\\x00\\x8cd\\xe0|\\x03'b'\\x84\\x0cl\\xec\\x0cc|\\x8e\\x83\\x03\\xe4\\x1b\\x9br\\x92c\\x8c'b'b\\x84\\xfbog\\x9flgn\\x9c\\xe3\\xec'b'c\\x1cx\\xec\\xc7l;lslx\\xf3g\\xe0\\x10\\x03'b'\\x83\\x0cl\\x0c\\x0c'b'c\\x0cg\\xe3|\\x03\\xe4dd\\x8f\\x1c\\x80\\x0cc\\x8c\\xf3gn\\xe7\\x00d\\x8c\\x87l`\\x03\\x90\\x1b\\x1boo\\x0cl`\\x03\\x0e\\x03o{\\x8f\\x9b\\xdbg\\x0c\\x0cc\\xe4d`\\x03p\\xfbg\\xe0\\x18\\x03'b'{\\x84\\x9c\\x9c\\xe3\\xe0\\x0c\\x0c'bb'o\\xe2|\\x02l\\x0c\\x84'b'c\\x8c\\xfbgg\\xef\\x00\\x0c'b'd`\\x03\\x90\\x1b\\x12gg'b\"\\x8f\\x07l\\x0f\\x03o;\\x87\\x92\\x93'\"b'\\x1bl\\x87\\x0edx\\xf3g\\xe0\\x10\\x03'b'\\x0c{\\x8c\\x9c\\x9c\\xe3\\xe0'b'\\x8f'b'c\\x0cg\\xe3|\\x03'b'\\x84'b'\\x8fc\\x8c\\xf2gg\\xe7\\x00'b'\\x8f$`\\x03\\x90\\x1b\\x1bgg\\x0c\\x8e\\x07l\\x0f\\x03o{\\x87\\x92\\x93g'b'\\x1b\\x84\\x9b`\\x02\\x07r\\x93\\x93n'b'\\x1b\\x8c\\x92`\\x03\\x8c\\xe3\\xf2\\x93p\\x03\\x83no\\x80d\\x13ll\\x0c\\x0c\\x03d\\x8fc\\xe4\\x8f\\x03\\x0c\\x0c\\x03\\x0cd`\\x03rl\\x00$\\x9c\\x9f|\\x00\\x8cd\\xe0|\\x03'b'\\x0c\\x8c\\x0cl\\xec'b'b|\\x8f\\x83\\x03\\xec\\x12\\x93s\\x93c\\x84'b'c\\x8c\\xf2gg\\x9edoo\\x9c\\xe2\\xe4\\x0cc\\x1cx\\xe4\\x8fdslsd8\\xf3n\\xe0\\x10\\x03\\x0c\\x0c\\x82\\x0cl'b'\\x0c\\x0cc\\x0cg\\xe3|\\x03\\xe4$l\\x87\\x1c\\x80\\x0cc\\x84\\xf3oo\\xee\\x00l\\x8c\\xc7l \\x03\\x90\\x1b\\x12gg\\x0cd`\\x03\\x0f\\x03o;\\x87\\x92\\x93g'b'c\\xe4l`\\x02x\\xf3g\\xe0\\x10\\x03'b'{\\x8c\\x9c\\xdc\\xe3\\xe0'b'c\\x0cg\\xe3|\\x03d'b'\\x84'b\"\\x0cc\\x8c\\xf3g'\\xe7\\x00\"b'l`\\x02\\x98\\x13\\x13nn'b'\\x8f\\x0el\\x07\\x02gs\\xc7\\x93\\x93o'b'\\x0c\\x1bl\\xc7\\x0fdp\\xf3o\\xe0\\x10\\x03\\x0c\\x0cs\\x8c\\x9c\\x9c\\xe3\\xe0'b\"\\x87\\x0c\\x0cc\\x0c'\\xe3|\\x03\"b'\\x8c\\x0c\\x87c\\x8c\\xf3nn\\xe7\\x00\\x0c\\x87l`\\x03\\x98\\x12\\x13gn'b'\\x8f\\x07l\\x0f\\x02gs\\x87\\x93\\x93n'b\"\\x1b\\x8c\\x92`\\x03\\x07s\\x93\\x9bo\\x0c\\x0c\\x12\\x8c\\x93`\\x03\\x8c\\xe3\\xfb\\x93p\\x03\\x83'o\\x80d\\x12ll\\x0c\\x0c\\x03l\\x8fb\\xe4\\x8f\\x03\\x0c\\x0c\\x02\\x0cl`\\x03;l\\x00d\\x9c\\x9f<\\x00\\x8cd\\xe0<\\x03\"b'\\x8c\\x0cl\\xec\\x0c#|\\x8e\\x83\\x03\\xec\\x1b\\x92s\\x93c\\x84'b'c\\x8c\\xfbgg\\x9edno\\x9c\\xe3\\xec\\x0cc\\x1cx\\xec\\x8edrlslp\\xf2g\\xe0\\x18\\x03'b'\\x83'l\f",
      "\f",
      "\f",
      "\f",
      "cb'o\\xe2|\\x02\\xecld\\x8f\\x1c\\x80'b'c\\x8c\\xf2gg\\xef\\x00d\\x84\\x8fl`\\x02\\x90\\x13\\x1boo\\x0cl`\\x03\\x07\\x03ns\\x8f\\x9b\\x9bo\\x0c\\x0cc\\xecd`\\x03p\\xfbo\\xe0\\x18\\x02\\x0c\\x0cs\\x84\\x9c\\x9c\\xe2\\xe0\\x0c\\x0c\\x0c\\x0cb'b'o\\xe3|\\x03l\\x0c\\x8c\\x0c'b'b\\x84\\xfboo\\xef\\x00\\x0c\\x0cd`\\x03\\x90\\x1b\\x1bgg\\x0c\\x8e\\x07l\\x0e\\x03o{\\x8f\\xdb\\x92g\\x0c'b'\\x13d\\x8f\\x0elx\\xf2g\\xe0\\x18\\x03'b'{\\x8c\\x9c\\x9c\\xe3\\xe0\\x0c\\x8e'b'c\\x0co\\xe3|\\x02\\x0c\\x84'b'\\x8fc\\x8c\\xfbgg\\xef\\x00'b'\\x8fd`\\x03\\x90\\x1b\\x1bog\\x0c\\x8e\\x0f$\\x0e\\x03o{\\x8f\\x9b\\x92g\\x0c\\x0c\\x13\\x84\\x9b`\\x03\\x0fr\\x92\\x93g'b'\\x1b\\xc4\\x9b`\\x02\\x8c\\xe3\\xfb\\x93x\\x03\\x82go\\x80d\\x1bdd\\x0c\\x0c\\x02l\\x8e#\\xe4\\x8e\\x03'b'\\x0c\\x03\\x0cl`\\x03{d\\x00d\\x9c\\x9f|\\x00\\x8cd\\xe0|\\x03\\x0c'b'\\x84'b'l\\xec\\x0cc|\\xc7\\x83\\x03\\xe4\\x1b\\x9b;\\x92c\\x8c'b\"b\\x84\\xfboo\\x9flg'\\x9c\\xe3\\xec\"b'c\\x1cx\\xec\\x87l{lrlx\\xf2g\\xe0\\x18\\x03'b'\\x83\\x0cl\\x0c\\x0c\\x0c'b\"c\\x0cg\\xe3|\\x03\\xecdd\\x8f\\x1c\\x80\\x0cc\\x8c\\xf3g'\\xe7\\x00d\\xc4\\x87l`\\x02\\x90\\x1b\\x1boo\\x0cl`\\x03\\x07\\x03n{\\x8f\\x9b\\x9bg\\x0c\\x0cc\\xe4d`\\x03p\\xfbg\\xe0\\x18\\x03\\x0c\"b'{\\x84\\x9c\\x9c\\xe2\\xe0\\x0c\\x0c\\x0c'bb'o\\xe2|\\x03l\\x0c\\x8c'b'c\\xc4\\xfbog\\xef\\x00\\x0c'b'd`\\x03\\x90\\x1b\\x12gg\\x0c\\x8f\\x07l\\x0f\\x03o{\\x87\\x92\\x93g'b'\\x1b$\\x87\\x0edx\\xf3g\\xe0\\x10\\x03'b'{\\x8c\\x9c\\xdc\\xe3\\xe0'b'\\x8f'b'c\\x0cg\\xe3|\\x03'b'\\x84'b'\\x8fc\\x8c\\xf2gg\\xef\\x00'b'\\x8fd`\\x03\\x90\\x1b\\x1bgg\\x0c\\x8e\\x07l\\x0f\\x03o{\\x8f\\x92\\x92g\\x0c'b'\\x1b\\x84\\x9b`\\x03\\x07r\\x93\\x93n'b'\\x1b\\x8c\\x92`\\x02\\x8c\\xe3\\xfb\\x93p\\x03\\x83go\\x80d\\x12$l\\x0c\\x0c\\x03l\\x8fb\\xe4\\x8f\\x03\\x0c\\x0c\\x02\\x0cl`\\x03{l\\x00d\\x9c\\x9f|\\x00\\x8cd\\xe0|\\x03'b'\\x8c\\x0cl\\xec\\x0c#|\\x8e\\x83\\x03\\xec\\x1b\\x92r\\x93c\\x84'b\"c\\x8c\\xfbgg\\x9ednn\\x9c\\xe3\\xec\\x0cc\\x1cx\\xec\\x8edrlslx\\xf3'\\xe0\\x10\\x03\"b'\\x0c\\xc3\\x0cl\\x0c'b'\\x0cc\\x0cg\\xe3|\\x03\\xe4dd\\x87\\x1c\\x80\\x0cc\\x8c\\xf3nn\\xe7\\x00l\\x8c\\x87l`\\x03\\x90\\x1b\\x1bgg\\x0cl`\\x03\\x0e\\x03o{\\x8f\\xdb\\x92g\\x0c'b'c\\xe4$`\\x03x\\xf2g\\xe0\\x18\\x03'b'{\\x8c\\x9c\\x9c\\xe3\\xe0\\x0c'b'c\\x0co\\xe3|\\x02l'b'\\x84'b'c\\x8c\\xf2gg\\xef\\x00'b\"d`\\x03\\x98\\x12\\x13g'\"b'\\x8f\\x07l\\x0f\\x03gr\\x87\\x93\\x93n'b'\\x1bl\\x87\\x0fdx\\xf3n\\xe0\\x10\\x03\\x0c\\x0cr\\x8c\\x9c\\x9c\\xe3\\xe0'b'\\x8f\\x0c\\x0cc\\x0cg\\xe3<\\x03'b'\\x84'b'\\x87c\\x8c\\xf3gn\\xe7\\x00'b'\\x8fl`\\x02\\x90\\x12\\x12gg'b\"\\x8f\\x07l\\x0f\\x03or\\x87\\x93\\x93'\"b'\\x1b\\x8c\\xdb`\\x02\\x07s\\x93\\x93o'b'\\x0c\\x1b\\x8c\\x92`\\x03\\x8c\\xe3\\xf2\\x93p\\x03\\x83no\\x80d\\x12ll\\x0c\\x0c\\x03d\\x8fc\\xe4\\x8f\\x03\\x0c\\x0c\\x03\\x0cd`\\x03rl\\x00$\\x9c\\x9f|\\x00\\x8cd\\xe0|\\x03'b'\\x0c\\x8c\\x0cl\\xec'b'b|\\x8f\\x83\\x03\\xec\\x12\\x92s\\x93c\\x84'b'c\\x8c\\xf2gg\\x9edno\\x9c\\xe2\\xec\\x0cc\\x1cx\\xec\\x8fdslslx\\xf3n\\xe0\\x10\\x03\\x0c\\x0c\\x82\\x0cl'\n",
      "**[ys] <class 'serial.serialutil.SerialException'>\n",
      "**[ys] read failed: device reports readiness to read but returned no data (device disconnected or multiple access on port?)\n",
      "\n",
      "\n",
      "**[ys] <class 'serial.serialutil.SerialException'>\n",
      "**[ys] read failed: device reports readiness to read but returned no data (device disconnected or multiple access on port?)\n",
      "\n"
     ]
    },
    {
     "name": "stdout",
     "output_type": "stream",
     "text": [
      "\u001b[34mReady.\n",
      "\u001b[0m"
     ]
    }
   ],
   "source": [
    "%serialconnect"
   ]
  },
  {
   "cell_type": "code",
   "execution_count": 9,
   "metadata": {},
   "outputs": [
    {
     "name": "stdout",
     "output_type": "stream",
     "text": [
      "Sent 6 lines (149 bytes) to config.txt.\n"
     ]
    }
   ],
   "source": [
    "%sendtofile config.txt\n",
    "\n",
    "wifiname     DoESLiverpool\n",
    "wifipassword decafbad00\n",
    "mqttbroker   10.0.100.1\n",
    "pinDI        13\n",
    "pinDCK       15\n",
    "connection1  BV6000,bubblino,192.168.43.1\n"
   ]
  },
  {
   "cell_type": "code",
   "execution_count": 10,
   "metadata": {},
   "outputs": [
    {
     "name": "stdout",
     "output_type": "stream",
     "text": [
      "Sent 76 lines (2732 bytes) to stdmqttas.py.\n",
      "Sent 32 lines (969 bytes) to utils.py.\n"
     ]
    }
   ],
   "source": [
    "%sendtofile --source stdmqttas.py\n",
    "%sendtofile --quiet --source utils.py"
   ]
  },
  {
   "cell_type": "code",
   "execution_count": 45,
   "metadata": {},
   "outputs": [
    {
     "name": "stdout",
     "output_type": "stream",
     "text": [
      "\u001b[34m** WebSocket connected **\n",
      "\u001b[0mPassword: \n",
      "WebREPL connected\n",
      ">>> \u001b[34mReady.\n",
      "\u001b[0m"
     ]
    }
   ],
   "source": [
    "%websocketconnect --password wpass ws://10.0.35.134:8266/"
   ]
  },
  {
   "cell_type": "code",
   "execution_count": 46,
   "metadata": {},
   "outputs": [
    {
     "name": "stdout",
     "output_type": "stream",
     "text": [
      "Listing directory '/'.\n",
      "      228    boot.py\n",
      "      149    config.txt\n",
      "     2992    main.py\n",
      "     2732    stdmqttas.py\n",
      "      969    utils.py\n",
      "       15    webrepl_cfg.py\n"
     ]
    }
   ],
   "source": [
    "%ls"
   ]
  },
  {
   "cell_type": "code",
   "execution_count": 47,
   "metadata": {},
   "outputs": [
    {
     "name": "stdout",
     "output_type": "stream",
     "text": [
      "Sent 105 lines (2991 bytes) to main.py.\n"
     ]
    }
   ],
   "source": [
    "%sendtofile main.py\n",
    "\n",
    "from mqtt_as import MQTTClient\n",
    "from stdmqttas import fconfig, config, mqttconnecttask, callbackcmdtask\n",
    "import uasyncio as asyncio\n",
    "from stdmqttas import shortmac, topicstem, topicstatus\n",
    "from machine import Pin\n",
    "from esp import my9291_write\n",
    "import time, itertools\n",
    "\n",
    "pinDI = Pin(int(fconfig[\"pinDI\"]), Pin.OUT) \n",
    "pinDCK = Pin(int(fconfig[\"pinDCK\"]), Pin.OUT)\n",
    "my9291_write(pinDI, pinDCK, b'\\x00')  # 16 bits\n",
    "\n",
    "topicrgbwhex = topicstem+\"/rgbwhex\"\n",
    "topiccmd = (topicstem+\"/cmd\").encode()\n",
    "topicreply = topicstem+\"/reply\"\n",
    "topicbeat = topicstem+\"/beat\"\n",
    "\n",
    "rgbw = bytearray(8)\n",
    "\n",
    "def conv8hex(h):\n",
    "    for i in range(8):\n",
    "        rgbw[i] = int(h[i*2:i*2+2], 16)\n",
    "        \n",
    "def conv4hex(h):\n",
    "    for i in range(4):\n",
    "        rgbw[i*2] = int(h[i*2:i*2+2], 16)\n",
    "        rgbw[i*2+1] = 0\n",
    "\n",
    "def conv3hex(h):\n",
    "    for i in range(3):\n",
    "        rgbw[i*2] = int(h[i*2:i*2+2], 16)\n",
    "        rgbw[i*2+1] = 0\n",
    "    rgbw[6] = 0\n",
    "    rgbw[7] = 0\n",
    "\n",
    "def RGBWhex(rgbwhex):\n",
    "    try:\n",
    "        if len(rgbwhex) == 16:\n",
    "            conv8hex(rgbwhex)\n",
    "        elif len(rgbwhex) == 8:\n",
    "            conv4hex(rgbwhex)\n",
    "        elif len(rgbwhex) == 7 and rgbwhex[0] == ord(\"#\"):\n",
    "            conv3hex(rgbwhex[1:])\n",
    "        elif len(rgbwhex) == 6:\n",
    "            conv3hex(rgbwhex)\n",
    "        else:\n",
    "            return False\n",
    "    except ValueError as e:\n",
    "        return False\n",
    "    except IndexError as e:\n",
    "        return False\n",
    "    print(\"my9291_write\", rgbw)\n",
    "    my9291_write(pinDI, pinDCK, rgbw)\n",
    "    return True\n",
    "\n",
    "\n",
    "def errflash():\n",
    "    my9291_write(pinDI, pinDCK, b'\\x09\\x00\\x00\\x00\\x00\\x00\\x00\\x00')\n",
    "    time.sleep_ms(200)\n",
    "    my9291_write(pinDI, pinDCK, rgbw)\n",
    "    \n",
    "async def heartbeatofflineflashes(client):\n",
    "    for j in itertools.count():\n",
    "        while not client.isconnected():\n",
    "            await asyncio.sleep_ms(1000)\n",
    "            RGBWhex(\"00000500\")\n",
    "            await asyncio.sleep_ms(1000)\n",
    "            RGBWhex(\"00000005\")\n",
    "\n",
    "        for i in range(8):\n",
    "            RGBWhex(\"01000000\" if (i%2) else \"00100000\")\n",
    "            await asyncio.sleep_ms(100)\n",
    "        \n",
    "        for i in itertools.count():\n",
    "            await asyncio.sleep_ms(1000)\n",
    "            if not client.isconnected():\n",
    "                break\n",
    "            await client.publish(topicbeat, \"%d-%d\"%(j, i))\n",
    "\n",
    "def callbackcmd(topic, msg, retained):\n",
    "    print(\"callbackcmd\", topic, msg)\n",
    "    if topic == topiccmd:\n",
    "        aloop.create_task(callbackcmdtask(client, topicreply, msg))\n",
    "    else:\n",
    "        if not RGBWhex(msg):\n",
    "            print(\"error\")\n",
    "            errflash()\n",
    "\n",
    "async def onconnecttask(client):\n",
    "    ipnumber = client._sta_if.ifconfig()[0]\n",
    "    await client.publish(topicstatus, ipnumber, retain=True)\n",
    "    await client.subscribe(topiccmd)\n",
    "    await client.subscribe(topicrgbwhex)\n",
    "    print(\"subscribed to\", topicrgbwhex)\n",
    "            \n",
    "config['subs_cb'] = callbackcmd\n",
    "config['connect_coro'] = onconnecttask\n",
    "client = MQTTClient(config)\n",
    "client.DEBUG = True\n",
    "\n",
    "print(topicstem)\n",
    "aloop = asyncio.get_event_loop()\n",
    "aloop.create_task(heartbeatofflineflashes(client))\n",
    "aloop.create_task(mqttconnecttask(client))\n",
    "aloop.run_forever()\n"
   ]
  },
  {
   "cell_type": "code",
   "execution_count": null,
   "metadata": {},
   "outputs": [],
   "source": []
  },
  {
   "cell_type": "code",
   "execution_count": null,
   "metadata": {},
   "outputs": [],
   "source": []
  },
  {
   "cell_type": "code",
   "execution_count": null,
   "metadata": {},
   "outputs": [],
   "source": []
  },
  {
   "cell_type": "code",
   "execution_count": null,
   "metadata": {},
   "outputs": [],
   "source": []
  },
  {
   "cell_type": "code",
   "execution_count": null,
   "metadata": {},
   "outputs": [],
   "source": []
  },
  {
   "cell_type": "raw",
   "metadata": {},
   "source": [
    "// C++ version of function compiled into the Micropython binaries \n",
    "// into ports/esp8266/espneopixel.c\n",
    "\n",
    "void /*ICACHE_RAM_ATTR*/ esp_my9291_write(uint8_t pinDI, uint8_t pinDCK, uint8_t *data, uint32_t numBytes) {\n",
    "  uint8_t d, mask;\n",
    "  uint32_t ticks12us, ticks1us, tuntil, pinDIMask, pinDCKMask;\n",
    "\n",
    "  bool iscmd = (numBytes == 1); \n",
    "  pinDIMask = 1 << pinDI;\n",
    "  pinDCKMask = 1 << pinDCK;\n",
    "  uint32_t fcpu = system_get_cpu_freq()*1000000;\n",
    "  ticks12us  = fcpu/83333;\n",
    "  ticks1us = fcpu/2000000;  // half a microsecond (to slow it down to arduino esp8266 implementation speed)\n",
    "  \n",
    "  uint32_t irq_state = mp_hal_quiet_timing_enter(); \n",
    "  if (iscmd) {\n",
    "    DELAYTICKS(ticks12us);\n",
    "    my9291_pulse(32, pinDCKMask, ticks1us); // clear any data \n",
    "    DELAYTICKS(ticks12us);\n",
    "    my9291_pulse(12, pinDIMask, ticks1us); \n",
    "  }\n",
    "  DELAYTICKS(ticks12us);\n",
    "  while (numBytes>0) {\n",
    "    d = *data++; \n",
    "    mask = 0x80; \n",
    "    GPIO_REG_WRITE(GPIO_OUT_W1TC_ADDRESS, pinDCKMask);     // Set low\n",
    "    while (mask != 0) {\n",
    "      if (d&mask) \n",
    "        GPIO_REG_WRITE(GPIO_OUT_W1TS_ADDRESS, pinDIMask);  // Set high\n",
    "      else\n",
    "        GPIO_REG_WRITE(GPIO_OUT_W1TC_ADDRESS, pinDIMask);  // Set low\n",
    "      DELAYTICKS(ticks1us); \n",
    "      GPIO_REG_WRITE(GPIO_OUT_W1TS_ADDRESS, pinDCKMask);   // Set high\n",
    "      DELAYTICKS(ticks1us); \n",
    "      mask >>= 1; \n",
    "      if (d&mask)\n",
    "        GPIO_REG_WRITE(GPIO_OUT_W1TS_ADDRESS, pinDIMask);  // Set high\n",
    "      else\n",
    "        GPIO_REG_WRITE(GPIO_OUT_W1TC_ADDRESS, pinDIMask);  // Set low\n",
    "      DELAYTICKS(ticks1us); \n",
    "      GPIO_REG_WRITE(GPIO_OUT_W1TC_ADDRESS, pinDCKMask);   // Set low\n",
    "      DELAYTICKS(ticks1us); \n",
    "      mask >>= 1; \n",
    "    }\n",
    "    GPIO_REG_WRITE(GPIO_OUT_W1TC_ADDRESS, pinDIMask);      // Set low\n",
    "    numBytes--; \n",
    "  }\n",
    "  DELAYTICKS(ticks12us);\n",
    "  my9291_pulse((iscmd ? 16 : 8), pinDIMask, ticks1us); \n",
    "  DELAYTICKS(ticks12us);\n",
    "  mp_hal_quiet_timing_exit(irq_state);\n",
    "}\n",
    "\n"
   ]
  },
  {
   "cell_type": "raw",
   "metadata": {},
   "source": [
    "// Arduino version of code\n",
    "\n",
    "void pulse(uint8_t pulse, uint8_t pin) {\n",
    "    for (int i = 0; i < pulse; i++) {\n",
    "        digitalWrite(pin, 1); \n",
    "        digitalWrite(pin, 0); \n",
    "    }\n",
    "}\n",
    "\n",
    "void my9291(uint8_t *data, uint32_t numBytes) {\n",
    "    bool iscmd = (numBytes == 1); \n",
    "    if (iscmd) {\n",
    "        delayMicroseconds(12);\n",
    "        pulse(32, DCK); // clear any data \n",
    "        delayMicroseconds(12);\n",
    "        pulse(12, DI); \n",
    "    }\n",
    "    delayMicroseconds(12); \n",
    "    while (numBytes>0) {\n",
    "        uint8_t d = *data++; \n",
    "        uint8_t mask = 0x80; \n",
    "        digitalWrite(DCK, 0); \n",
    "        while (mask != 0) {\n",
    "            digitalWrite(DI, d&mask);\n",
    "            digitalWrite(DCK, 1); \n",
    "            mask >>= 1; \n",
    "            digitalWrite(DI, d&mask);\n",
    "            digitalWrite(DCK, 0); \n",
    "            mask >>= 1; \n",
    "        }\n",
    "        digitalWrite(DI, 0); \n",
    "        numBytes--; \n",
    "    }\n",
    "    delayMicroseconds(12);\n",
    "    pulse((iscmd ? 16 : 8), DI); \n",
    "    delayMicroseconds(12);\n",
    "}\n",
    "\n",
    "\n",
    "\n",
    "\n",
    "\n",
    "void setup() \n",
    "{\n",
    "...\n",
    "    cdata = new uint8_t[8]; \n",
    "    pinMode(DI, OUTPUT); \n",
    "    pinMode(DCK, OUTPUT); \n",
    "    digitalWrite(DI, 0); \n",
    "    digitalWrite(DCK, 0); \n",
    "    //dck_pulse(32); \n",
    "\n",
    "    // scatter|freq|bit_width|reaction|oneshot\n",
    "    char cmd = (0x80&0x00) | (0x60&0x00) | (0x18&0x18) | (0x40&0x00) | (0x20&0x00); \n",
    "    cdata[0] = cmd; \n",
    "    cdata[0] = 0;  // bitwidth 16 \n",
    "    my9291(cdata, 1); \n",
    "}\n",
    "\n",
    "void csend(char r, char g, char b, char w) {\n",
    "    cdata[0] = 0; \n",
    "    cdata[1] = r; \n",
    "    cdata[2] = 0; \n",
    "    cdata[3] = g; \n",
    "    cdata[4] = 0; \n",
    "    cdata[5] = b; \n",
    "    cdata[6] = 0; \n",
    "    cdata[7] = w; \n",
    "    my9291(cdata, 8); \n",
    "}\n",
    "\n",
    "void loop()\n",
    "{\n",
    "    ArduinoOTA.handle();\n",
    "\n",
    "    static unsigned char count = 0;\n",
    "    static unsigned long last = millis();\n",
    "    if (millis() - last > 100) {\n",
    "        last = millis();\n",
    "        //rainbow(count++);\n",
    "        count++; \n",
    "        //int x = (count%5)\n",
    "        switch (count%5) {\n",
    "          case 0:\n",
    "            csend(0, 10, 0, 0); \n",
    "            break; \n",
    "          case 1:\n",
    "            csend(10, 0, 0, 0); \n",
    "            break; \n",
    "          case 2:\n",
    "            csend(0, 0, 10, 0); \n",
    "            break; \n",
    "          case 3:\n",
    "            csend(0, 0, 0, 5); \n",
    "            break; \n",
    "          case 4:\n",
    "            csend(1, 1, 1, 1); \n",
    "            break; \n",
    "        }\n",
    "        Serial.println(count);\n",
    "    }\n",
    "\n",
    "}\n"
   ]
  },
  {
   "cell_type": "code",
   "execution_count": null,
   "metadata": {},
   "outputs": [],
   "source": []
  }
 ],
 "metadata": {
  "kernelspec": {
   "display_name": "MicroPython - USB",
   "language": "micropython",
   "name": "micropython"
  },
  "language_info": {
   "codemirror_mode": "python",
   "file_extension": ".py",
   "mimetype": "text/python",
   "name": "micropython"
  }
 },
 "nbformat": 4,
 "nbformat_minor": 2
}
