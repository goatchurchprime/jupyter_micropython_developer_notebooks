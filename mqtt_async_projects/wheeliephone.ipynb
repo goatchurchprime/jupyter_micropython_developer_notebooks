{
 "cells": [
  {
   "cell_type": "code",
   "execution_count": null,
   "metadata": {},
   "outputs": [],
   "source": [
    "# mqtt control of wheeled card\n",
    "# there is another repo called wheeliephone that this copies back from\n",
    "# Small ESP8266\n",
    "\n",
    "#      RST          |  GPIO1   TX\n",
    "#       A0          |  GPIO3   RX\n",
    "#       D0  GPIO16  |  GPIO5   D1  SCL\n",
    "# SCK   D5  GPIO14  |  GPIO4   D2  SDA\n",
    "# MISO  D6  GPIO12  |  GPIO0   D3\n",
    "# MOSI  D7  GPIO13  |  GPIO2   D4  LED\n",
    "# SS    D8  GPIO15  |          GND\n",
    "#      3V3          |          5V"
   ]
  },
  {
   "cell_type": "code",
   "execution_count": 6,
   "metadata": {},
   "outputs": [
    {
     "name": "stdout",
     "output_type": "stream",
     "text": [
      "serial exception on close write failed: [Errno 5] Input/output error\n",
      "\u001b[34mConnecting to --port=/dev/ttyUSB0 --baud=115200 \u001b[0m\n",
      "\u001b[34mReady.\n",
      "\u001b[0m"
     ]
    }
   ],
   "source": [
    "%serialconnect"
   ]
  },
  {
   "cell_type": "code",
   "execution_count": 19,
   "metadata": {},
   "outputs": [
    {
     "name": "stdout",
     "output_type": "stream",
     "text": [
      "Sent 7 lines (131 bytes) to config.txt.\n"
     ]
    }
   ],
   "source": [
    "%sendtofile --source wifimqttconnections.txt config.txt\n",
    "%sendtofile --append config.txt\n",
    "\n",
    "pinled          -2\n",
    "mAen            15\n",
    "mAfore          0\n",
    "mAback          16\n",
    "mBen            13\n",
    "mBfore          14\n",
    "mBback          12"
   ]
  },
  {
   "cell_type": "code",
   "execution_count": 7,
   "metadata": {},
   "outputs": [
    {
     "name": "stdout",
     "output_type": "stream",
     "text": [
      "Sent 81 lines (2677 bytes) to stdmqttas.py.\n",
      "Sent 32 lines (969 bytes) to utils.py.\n"
     ]
    }
   ],
   "source": [
    "%sendtofile --source stdmqttas.py\n",
    "%sendtofile --quiet --source utils.py"
   ]
  },
  {
   "cell_type": "code",
   "execution_count": 4,
   "metadata": {},
   "outputs": [
    {
     "name": "stdout",
     "output_type": "stream",
     "text": [
      "Sent 97 lines (2913 bytes) to main.py.\n"
     ]
    }
   ],
   "source": [
    "%sendtofile main.py\n",
    "\n",
    "import os, time, sys, machine, itertools, time\n",
    "from machine import Pin, PWM\n",
    "from stdmqttas import fconfig, config, mqttconnecttask, callbackcmdtask\n",
    "import uasyncio as asyncio\n",
    "from stdmqttas import pinled, flashpinled, shortmac, topicstem, itertools_count\n",
    "from mqtt_as import MQTTClient\n",
    "\n",
    "import network\n",
    "network.WLAN().active(0)  # disable the connection at startup\n",
    "#flashpinled(5, 300, 300)\n",
    "\n",
    "from machine import Pin, PWM\n",
    "mApwm = PWM(Pin(int(fconfig[\"mAen\"])))\n",
    "mAfore = Pin(int(fconfig[\"mAfore\"]), Pin.OUT)\n",
    "mAback = Pin(int(fconfig[\"mAback\"]), Pin.OUT)\n",
    "mApwm.freq(10)\n",
    "mApwm.duty(0)\n",
    "\n",
    "mBpwm = PWM(Pin(int(fconfig[\"mBen\"])))\n",
    "mBfore = Pin(int(fconfig[\"mBfore\"]), Pin.OUT)\n",
    "mBback = Pin(int(fconfig[\"mBback\"]), Pin.OUT)\n",
    "mBpwm.freq(10)\n",
    "mBpwm.duty(0)\n",
    "\n",
    "timeZeroBy = 1\n",
    "async def zeroingtask():\n",
    "    global timeZeroBy\n",
    "    while True:\n",
    "        if timeZeroBy != 0:\n",
    "            if time.ticks_ms() > timeZeroBy:\n",
    "                timeZeroBy = 0\n",
    "                mAfore.value(0)\n",
    "                mAback.value(0)\n",
    "                mBfore.value(0)\n",
    "                mBback.value(0)\n",
    "                pinled.value(1)\n",
    "        await asyncio.sleep_ms(50)\n",
    "\n",
    "\n",
    "def updatewheels(msg):\n",
    "    global timeZeroBy\n",
    "    try:\n",
    "        s = msg.split()\n",
    "        timeZeroBy = time.ticks_ms() + int(s[6])\n",
    "        mApwm.duty(int(s[0]))\n",
    "        mAfore.value(int(s[1]))\n",
    "        mAback.value(int(s[2]))\n",
    "        mBpwm.duty(int(s[3]))\n",
    "        mBfore.value(int(s[4]))\n",
    "        mBback.value(int(s[5]))\n",
    "        pinled.value(0)\n",
    "    except Exception as e:\n",
    "        print(\"Bad wheels\", msg, e)\n",
    "\n",
    "topicboardwheels = topicstem+\"/wheels\"\n",
    "topiccmd = (topicstem+\"/cmd\").encode()\n",
    "topicstatus = topicstem+\"/status\"\n",
    "topicreply = topicstem+\"/reply\"\n",
    "topiconline = topicstem+\"/online\"\n",
    "topicip = topicstem+\"/ip\"\n",
    "\n",
    "for l in [\"500 1 0 500 1 0 1\", \"500 0 1 500 0 1 1\", \n",
    "          \"500 1 0 500 0 1 1\", \"500 0 1 500 1 0 1\", \"500 0 0 500 0 0 1\"]:\n",
    "    updatewheels(l)\n",
    "    time.sleep_ms(500)\n",
    "\n",
    "def callbackcmd(topic, msg, retained):\n",
    "    print(topic, msg)\n",
    "    if topic == topiccmd:\n",
    "        aloop.create_task(callbackcmdtask(client, topicreply, msg))\n",
    "    else:\n",
    "        updatewheels(msg)\n",
    "    \n",
    "async def onconnecttask(client):\n",
    "    print(\"subscribing to\", topicboardwheels)\n",
    "    ipnumber = client._sta_if.ifconfig()[0]\n",
    "    print(\"ipnumber\", ipnumber)\n",
    "    await client.publish(topicstatus, ipnumber, retain=True)\n",
    "    await client.subscribe(topiccmd, 1)\n",
    "    await client.subscribe(topicboardwheels, 1)\n",
    "    \n",
    "config['subs_cb'] = callbackcmd\n",
    "config['connect_coro'] = onconnecttask\n",
    "config['will'] = (topicstatus, \"offline\", True)\n",
    "client = MQTTClient(config)\n",
    "client.DEBUG = True\n",
    "  \n",
    "aloop = asyncio.get_event_loop()\n",
    "aloop.create_task(zeroingtask())\n",
    "aloop.create_task(mqttconnecttask(client))\n",
    "aloop.run_forever()\n",
    "\n",
    "#left = 800 1 0 800 1 0 50\n",
    "#right = 800 0 1 800 0 1 50\n",
    "#fore = 1023 0 1 1023 1 0 200\n",
    "#back = 800 1 0 800 0 1 200\n",
    "# mosquitto_pub -h mosquitto.doesliverpool.xyz -t esp8266/4A3701/wheels -m \"800 1 0 800 1 0 50\""
   ]
  },
  {
   "cell_type": "code",
   "execution_count": null,
   "metadata": {},
   "outputs": [],
   "source": []
  }
 ],
 "metadata": {
  "kernelspec": {
   "display_name": "MicroPython - USB",
   "language": "micropython",
   "name": "micropython"
  },
  "language_info": {
   "codemirror_mode": "python",
   "file_extension": ".py",
   "mimetype": "text/python",
   "name": "micropython"
  }
 },
 "nbformat": 4,
 "nbformat_minor": 2
}
