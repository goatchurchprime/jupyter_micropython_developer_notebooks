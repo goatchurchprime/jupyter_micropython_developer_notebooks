{
 "cells": [
  {
   "cell_type": "code",
   "execution_count": 1,
   "metadata": {},
   "outputs": [
    {
     "name": "stdout",
     "output_type": "stream",
     "text": [
      "\u001b[34mConnecting to --port=/dev/ttyUSB0 --baud=115200 \u001b[0m\n",
      "\u001b[34mReady.\n",
      "\u001b[0m"
     ]
    }
   ],
   "source": [
    "%serialconnect"
   ]
  },
  {
   "cell_type": "code",
   "execution_count": 2,
   "metadata": {},
   "outputs": [
    {
     "name": "stdout",
     "output_type": "stream",
     "text": [
      "Listing directory '/'.\n",
      "      228    boot.py\n",
      "      223    config.txt\n",
      "     1913    ledstrippanel.py\n",
      "     2918    main.py\n",
      "     2254    stdmqttas.py\n",
      "      969    utils.py\n",
      "       15    webrepl_cfg.py\n"
     ]
    }
   ],
   "source": [
    "%ls"
   ]
  },
  {
   "cell_type": "code",
   "execution_count": null,
   "metadata": {},
   "outputs": [],
   "source": [
    "# Simplify and deploy on dot matrix at front\n",
    "# check watchdog does or doesn't work\n",
    "# report mdns not working on esp8266 (and the watchdog)\n",
    "# check if timeout on wifi allows alternate wifi passwords to be given\n",
    "\n",
    "# Make sure the firmware is\n",
    "# %esptool esp8266 /home/julian/extrepositories/micropython/ports/esp8266/build-GENERIC/firmware-combined.bin"
   ]
  },
  {
   "cell_type": "code",
   "execution_count": null,
   "metadata": {},
   "outputs": [],
   "source": [
    "# Small ESP8266\n",
    "\n",
    "#      RST          |  GPIO1   TX\n",
    "#       A0          |  GPIO3   RX\n",
    "#       D0  GPIO16  |  GPIO5   D1  SCL\n",
    "# SCK   D5  GPIO14  |  GPIO4   D2  SDA\n",
    "# MISO  D6  GPIO12  |  GPIO0   D3\n",
    "# MOSI  D7  GPIO13  |  GPIO2   D4  LED\n",
    "# SS    D8  GPIO15  |          GND\n",
    "#      3V3          |          5V\n",
    "\n",
    "# clk red      D5\n",
    "# cs  orange   D8\n",
    "# din yellow   D7\n",
    "# gnd green    G\n",
    "# vcc blue     5V"
   ]
  },
  {
   "cell_type": "code",
   "execution_count": 1,
   "metadata": {},
   "outputs": [
    {
     "name": "stdout",
     "output_type": "stream",
     "text": [
      "\u001b[34mConnecting to --port=/dev/ttyUSB0 --baud=115200 \u001b[0m\n",
      "\u001b[34mReady.\n",
      "\u001b[0m"
     ]
    }
   ],
   "source": [
    "%serialconnect"
   ]
  },
  {
   "cell_type": "code",
   "execution_count": 2,
   "metadata": {},
   "outputs": [
    {
     "name": "stdout",
     "output_type": "stream",
     "text": [
      "Sent 5 lines (79 bytes) to config.txt.\n"
     ]
    }
   ],
   "source": [
    "%sendtofile --source wifimqttconnections.txt config.txt\n",
    "%sendtofile --append config.txt\n",
    "\n",
    "pinled       -2\n",
    "pincs        15\n",
    "pinsck       14\n",
    "pinmosi      13\n",
    "numledchars  20"
   ]
  },
  {
   "cell_type": "code",
   "execution_count": 3,
   "metadata": {},
   "outputs": [
    {
     "name": "stdout",
     "output_type": "stream",
     "text": [
      "Sent 81 lines (2677 bytes) to stdmqttas.py.\n",
      "Sent 32 lines (969 bytes) to utils.py.\n"
     ]
    }
   ],
   "source": [
    "%sendtofile --source stdmqttas.py\n",
    "%sendtofile --quiet --source utils.py"
   ]
  },
  {
   "cell_type": "code",
   "execution_count": 4,
   "metadata": {},
   "outputs": [
    {
     "name": "stdout",
     "output_type": "stream",
     "text": [
      "Sent 64 lines (1913 bytes) to ledstrippanel.py.\n"
     ]
    }
   ],
   "source": [
    "%sendtofile ledstrippanel.py\n",
    "\n",
    "import framebuf\n",
    "from machine import Pin, SPI\n",
    "\n",
    "cs, spi = None, None\n",
    "brightnesschars = None\n",
    "buffer = None\n",
    "fbuff = None\n",
    "numledchars = 0\n",
    "# ESP32-HSPI: sck=14, mosi=13\n",
    "\n",
    "def setbrightness(brightness, i0=0, i1=9999):\n",
    "    # 0<=brightness<=15\n",
    "    for i in range(max(i0, 0), min(i1, numledchars)):\n",
    "        brightnesschars[(numledchars - i)*2 - 1] = brightness\n",
    "        \n",
    "def showbrightness():\n",
    "    cs.value(0)  \n",
    "    spi.write(brightnesschars)\n",
    "    cs.value(1)\n",
    "    \n",
    "def scrollbrightness(brightness=0):\n",
    "    for i in range(numledchars - 1):\n",
    "        brightnesschars[(numledchars - i)*2 - 1] = brightnesschars[(numledchars - (i+1))*2 - 1]\n",
    "    brightnesschars[1] = brightness\n",
    "    \n",
    "s = bytearray(8)\n",
    "def show():\n",
    "    for y in range(8):\n",
    "        s[6] = s[4] = s[2] = s[0] = y+1\n",
    "        yp = y*(numledchars) + numledchars\n",
    "        cs.value(0)  # cannot put in loop as resets the shifting\n",
    "        for m in range(0, numledchars-1, 4):\n",
    "            s[1] = buffer[yp - m - 1]\n",
    "            s[3] = buffer[yp - m - 2]\n",
    "            s[5] = buffer[yp - m - 3]\n",
    "            s[7] = buffer[yp - m - 4]\n",
    "            spi.write(s)\n",
    "        cs.value(1)\n",
    "\n",
    "def init():\n",
    "    for i in range(0, 10, 2):\n",
    "        cs.value(0)\n",
    "        x = b\"\\x0c\\x00\\x0f\\x00\\x0b\\x07\\x09\\x00\\x0c\\x01\"[i:i+2]\n",
    "        spi.write(x*numledchars)\n",
    "        cs.value(1)\n",
    "    showbrightness()\n",
    "        \n",
    "def setup(lnumledchars, lcs, lspi):\n",
    "    global numledchars, cs, spi, brightnesschars, buffer, fbuff\n",
    "    cs, spi = lcs, lspi\n",
    "    numledchars = lnumledchars # can be 4n+1 for scroll buffer\n",
    "\n",
    "    brightnesschars = bytearray(bytes([0x0a, 0])*numledchars)\n",
    "    buffer = bytearray(8*(numledchars))  # make one extra character to scroll from\n",
    "    fbuffwidth = 8*(numledchars)\n",
    "    fbuffheight = 8\n",
    "    fbuff = framebuf.FrameBuffer(buffer, fbuffwidth, fbuffheight, framebuf.MONO_HLSB)\n",
    "\n",
    "    init()\n",
    "    \n",
    "    for i in range(0, numledchars*8, 4):\n",
    "        fbuff.fill_rect(i, (i%8), 4, 4, 1)\n",
    "    show()\n",
    "    return fbuff\n"
   ]
  },
  {
   "cell_type": "code",
   "execution_count": 16,
   "metadata": {},
   "outputs": [
    {
     "name": "stdout",
     "output_type": "stream",
     "text": [
      "\u001b[34mConnecting to --port=/dev/ttyUSB1 --baud=115200 \u001b[0m\n",
      "\u001b[34mReady.\n",
      "\u001b[0m"
     ]
    }
   ],
   "source": [
    "%serialconnect"
   ]
  },
  {
   "cell_type": "code",
   "execution_count": null,
   "metadata": {},
   "outputs": [],
   "source": []
  },
  {
   "cell_type": "code",
   "execution_count": 17,
   "metadata": {},
   "outputs": [
    {
     "name": "stdout",
     "output_type": "stream",
     "text": [
      "sleep disable\n",
      "await connecting to: HUAWEI-B535-2F99 mosquitto.doesliverpool.xyz\n",
      "Connecting to broker.\n",
      "Connected to broker.\n",
      "*** connected:\n",
      ".Got reliable connection\n",
      "Connecting to broker.\n",
      "Connected to broker.\n",
      "*** connected:\n",
      "state: 5 -> 0 (0)\n",
      "rm 0\n",
      "scandone\n",
      ".scandone\n",
      "state: 0 -> 2 (b0)\n",
      "state: 2 -> 3 (0)\n",
      "state: 3 -> 5 (10)\n",
      "add 0\n",
      "aid 78\n",
      "cnt \n",
      "\n",
      "connected with HUAWEI-B535-2F99, channel 7\n",
      "dhcp client start...\n",
      "ip:192.168.8.113,mask:255.255.255.0,gw:192.168.8.1\n",
      "Checking WiFi integrity.\n",
      "Checking WiFi integrity.\n",
      ".\u001b[34m\n",
      "\n",
      "*** Sending Ctrl-C\n",
      "\n",
      "\u001b[0m"
     ]
    },
    {
     "name": "stderr",
     "output_type": "stream",
     "text": [
      "Traceback (most recent call last):\n",
      "  File \"<stdin>\", line 92, in <module>\n",
      "  File \"uasyncio/core.py\", line 1, in run_forever\n",
      "  File \"uasyncio/core.py\", line 1, in run_until_complete\n",
      "  File \"uasyncio/core.py\", line 1, in wait_io_event\n",
      "KeyboardInterrupt: \n"
     ]
    }
   ],
   "source": [
    "#%sendtofile main.py\n",
    "\n",
    "from mqtt_as import MQTTClient\n",
    "from stdmqttas import fconfig, config, mqttconnecttask, callbackcmdtask, flashledconnectedtask\n",
    "import uasyncio as asyncio\n",
    "from stdmqttas import pinled, flashpinled, shortmac, topicstem, itertools_count\n",
    "from machine import Pin, PWM, SPI\n",
    "import time\n",
    "from ledstrippanel import setup, show\n",
    "#from uasyncio.queues import Queue\n",
    "\n",
    "numledchars = int(fconfig[\"numledchars\"])\n",
    "fbuff = setup(numledchars, Pin(int(fconfig[\"pincs\"]), Pin.OUT), SPI(1, 1000000))\n",
    "flashpinled(5, 300, 300)\n",
    "\n",
    "topicmessage = topicstem+\"/message\"\n",
    "topiccmd = topicstem+\"/cmd\"\n",
    "topicstatus = topicstem+\"/status\"\n",
    "topicreply = topicstem+\"/reply\"\n",
    "topiconline = topicstem+\"/online\"\n",
    "topicip = topicstem+\"/ip\"\n",
    "\n",
    "#qmessages = Queue()\n",
    "qmessages = [ ]\n",
    "async def messagetask():\n",
    "    message = \" \"\n",
    "    while True:\n",
    "        if len(qmessages) == 0:\n",
    "            await asyncio.sleep_ms(100)\n",
    "            continue\n",
    "        #prevmessage, message = message, await(qmessages.get())\n",
    "        prevmessage, message = message, qmessages.pop(0)\n",
    "        for xchar, (c1, c2) in enumerate(zip(prevmessage, message)):\n",
    "            if c1 != c2:\n",
    "                break\n",
    "        fbuff.fill(0)\n",
    "        fbuff.text(message, 0, 0, 1)\n",
    "        for ys in range(7, -1, -1):\n",
    "            fbuff.fill_rect(xchar*8, 0, (numledchars - xchar)*8, 8, 0)\n",
    "            fbuff.text(prevmessage[xchar:], xchar*8, ys - 8, 1)\n",
    "            fbuff.text(message[xchar:], xchar*8, ys, 1)\n",
    "            show()\n",
    "            await asyncio.sleep_ms(50)\n",
    "        await asyncio.sleep_ms(450)\n",
    "\n",
    "async def cursorflash(client):    \n",
    "    for i in itertools_count():\n",
    "        await asyncio.sleep_ms(1000)\n",
    "        if client.connectioncount and not client.isconnected() and len(qmessages) < 2:\n",
    "            qmessages.append(\"wifi fail: %d\"%i)\n",
    "            await asyncio.sleep_ms(5000)\n",
    "            ipnumber = client._sta_if.ifconfig()[0]\n",
    "            qmessages.append(ipnumber)\n",
    "            await asyncio.sleep_ms(4000)\n",
    "        elif len(qmessages) == 0:\n",
    "            fbuff.fill_rect((numledchars-1)*8, 7, 8, 1, i%2)\n",
    "            show()\n",
    "        if client.isconnected():\n",
    "            await client.publish(topicstatus, \"beat-%d\"%i)\n",
    "        \n",
    "def callbackcmd(topic, msg, retained):\n",
    "    print(\"callbackcmd\", topic, msg)\n",
    "    if topic == topiccmd:\n",
    "        aloop.create_task(callbackcmdtask(client, topicreply, msg))\n",
    "    elif len(qmessages) < 5:\n",
    "        if 1 <= len(msg) <= 50:\n",
    "            #aloop.create_task(qmessages.put(msg.decode()))\n",
    "            qmessages.append(msg.decode())\n",
    "\n",
    "async def onconnecttask(client):\n",
    "    ipnumber = client._sta_if.ifconfig()[0]\n",
    "    await client.publish(topicstatus, ipnumber, retain=True)\n",
    "    qmessages.append(\"subscribing\")\n",
    "    await client.subscribe(topiccmd)\n",
    "    await client.subscribe(topicmessage)\n",
    "    qmessages.append(\"ip: \"+ipnumber)\n",
    "    await client.publish(topicmessage, \"reconnections #%d\"%client.connectioncount)\n",
    "    client.connectioncount += 1\n",
    "    print(\"subscribed\")\n",
    "            \n",
    "config['subs_cb'] = callbackcmd\n",
    "config['connect_coro'] = onconnecttask\n",
    "client = MQTTClient(config)\n",
    "client.DEBUG = True\n",
    "client.connectioncount = 0\n",
    "\n",
    "aloop = asyncio.get_event_loop()\n",
    "aloop.create_task(messagetask())\n",
    "aloop.create_task(cursorflash(client))\n",
    "aloop.create_task(mqttconnecttask(client))\n",
    "aloop.create_task(flashledconnectedtask(client))\n",
    "aloop.run_forever()\n"
   ]
  },
  {
   "cell_type": "code",
   "execution_count": 18,
   "metadata": {},
   "outputs": [],
   "source": [
    "fbuff.fill(0)\n",
    "show()"
   ]
  },
  {
   "cell_type": "code",
   "execution_count": null,
   "metadata": {},
   "outputs": [],
   "source": []
  }
 ],
 "metadata": {
  "kernelspec": {
   "display_name": "MicroPython - USB",
   "language": "micropython",
   "name": "micropython"
  },
  "language_info": {
   "codemirror_mode": "python",
   "file_extension": ".py",
   "mimetype": "text/python",
   "name": "micropython"
  }
 },
 "nbformat": 4,
 "nbformat_minor": 2
}
