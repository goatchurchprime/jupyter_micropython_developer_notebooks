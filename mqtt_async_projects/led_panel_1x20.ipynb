{
 "cells": [
  {
   "cell_type": "code",
   "execution_count": 1,
   "metadata": {},
   "outputs": [
    {
     "name": "stdout",
     "output_type": "stream",
     "text": [
      "%capture [--quiet] [--QUIET] outputfilename\n",
      "    records output to a file\n",
      "\n",
      "%comment\n",
      "    print this into output\n",
      "\n",
      "%disconnect [--raw]\n",
      "    disconnects from web/serial connection\n",
      "\n",
      "%esptool [--port PORT] {erase,esp32,esp8266} [binfile]\n",
      "    commands for flashing your esp-device\n",
      "\n",
      "%fetchfile [--binary] [--print] [--load] [--quiet] [--QUIET]\n",
      "                  sourcefilename [destinationfilename]\n",
      "    fetch and save a file from the device\n",
      "\n",
      "%ls [--recurse] [dirname]\n",
      "    list files on the device\n",
      "\n",
      "%lsmagic\n",
      "    list magic commands\n",
      "\n",
      "%mpy-cross [--set-exe SET_EXE] [pyfile]\n",
      "    cross-compile a .py file to a .mpy file\n",
      "\n",
      "%readbytes [--binary]\n",
      "    does serial.read_all()\n",
      "\n",
      "%rebootdevice\n",
      "    reboots device\n",
      "\n",
      "%sendtofile [--append] [--mkdir] [--binary] [--execute]\n",
      "                   [--source [SOURCE]] [--quiet] [--QUIET]\n",
      "                   [destinationfilename]\n",
      "    send cell contents or file/direcectory to the device\n",
      "\n",
      "%serialconnect [--raw] [--port PORT] [--baud BAUD] [--verbose]\n",
      "    connects to a device over USB wire\n",
      "\n",
      "%socketconnect [--raw] ipnumber portnumber\n",
      "    connects to a socket of a device over wifi\n",
      "\n",
      "%suppressendcode\n",
      "    doesn't send x04 or wait to read after sending the contents of the cell\n",
      "  (assists for debugging using %writebytes and %readbytes)\n",
      "\n",
      "%websocketconnect [--raw] [--password PASSWORD] [--verbose]\n",
      "                         [websocketurl]\n",
      "    connects to the webREPL websocket of an ESP8266 over wifi\n",
      "    websocketurl defaults to ws://192.168.4.1:8266 but be sure to be connected\n",
      "\n",
      "%writebytes [--binary] [--verbose] stringtosend\n",
      "    does serial.write() of the python quoted string given\n",
      "\n",
      "%%writefile [--append] [--execute] destinationfilename\n",
      "    write contents of cell to a file\n",
      "\n"
     ]
    }
   ],
   "source": [
    "%lsmagic"
   ]
  },
  {
   "cell_type": "code",
   "execution_count": 24,
   "metadata": {},
   "outputs": [
    {
     "name": "stdout",
     "output_type": "stream",
     "text": [
      "serial exception on close write failed: [Errno 5] Input/output error\n",
      "Found serial ports: /dev/ttyACM1, /dev/ttyS0, /dev/ttyS1, /dev/ttyS2, /dev/ttyS3 \n",
      "\u001b[34mConnecting to --port=/dev/ttyACM1 --baud=115200 \u001b[0m\n",
      "\u001b[34mReady.\n",
      "\u001b[0m"
     ]
    }
   ],
   "source": [
    "%serialconnect"
   ]
  },
  {
   "cell_type": "code",
   "execution_count": null,
   "metadata": {},
   "outputs": [
    {
     "name": "stdout",
     "output_type": "stream",
     "text": [
      "Listing directory '/'.\n",
      "      139    boot.py\n",
      "       80    config.txt\n",
      "             mqtt_as/\n",
      "     2549    stdmqttas.py\n",
      "\n",
      "mqtt_as:\n",
      "    36258    mqtt_as/__init__.py\n",
      "     1897    mqtt_as/async_message.py\n",
      "     2029    mqtt_as/clean.py\n",
      "    36258    mqtt_as/junk.txt\n",
      "     2377    mqtt_as/lptest_min.py\n",
      "       41    mqtt_as/main.py\n",
      "     2173    mqtt_as/mqtt_as_timeout.py\n",
      "     7385    mqtt_as/mqtt_v5_properties.py\n",
      "     2504    mqtt_as/range.py\n",
      "     3413    mqtt_as/range_ex.py\n",
      "     2538    mqtt_as/tls.py\n",
      "     1917    mqtt_as/tls32.py\n",
      "     2445    mqtt_as/tls8266.py\n",
      "     2148    mqtt_as/unclean.py\n",
      "             mqtt_as/v5/\n",
      "\n",
      "mqtt_as/v5:\n"
     ]
    },
    {
     "name": "stderr",
     "output_type": "stream",
     "text": [
      ">>"
     ]
    }
   ],
   "source": [
    "%ls --recurse"
   ]
  },
  {
   "cell_type": "code",
   "execution_count": 29,
   "metadata": {},
   "outputs": [],
   "source": []
  },
  {
   "cell_type": "code",
   "execution_count": 19,
   "metadata": {},
   "outputs": [
    {
     "name": "stdout",
     "output_type": "stream",
     "text": [
      "Sent 75 lines (2549 bytes) to stdmqttas.py.\n"
     ]
    }
   ],
   "source": [
    "import os\n",
    "os.mkdir(\"mqtt_as\")\n",
    "%sendtofile --source stdmqttas.py\n",
    "# transferring of directories is buggy.  doesn't like / symbols here either"
   ]
  },
  {
   "cell_type": "code",
   "execution_count": null,
   "metadata": {},
   "outputs": [],
   "source": [
    "\n",
    "# Simplify and deploy on dot matrix at front\n",
    "# check watchdog does or doesn't work\n",
    "# report mdns not working on esp8266 (and the watchdog)\n",
    "# check if timeout on wifi allows alternate wifi passwords to be given\n",
    "\n",
    "# Make sure the firmware is\n",
    "# %esptool esp8266 /home/julian/extrepositories/micropython/ports/esp8266/build-GENERIC/firmware-combined.bin"
   ]
  },
  {
   "cell_type": "code",
   "execution_count": null,
   "metadata": {},
   "outputs": [],
   "source": [
    "# Small ESP8266\n",
    "\n",
    "#      RST          |  GPIO1   TX\n",
    "#       A0          |  GPIO3   RX\n",
    "#       D0  GPIO16  |  GPIO5   D1  SCL\n",
    "# SCK   D5  GPIO14  |  GPIO4   D2  SDA\n",
    "# MISO  D6  GPIO12  |  GPIO0   D3\n",
    "# MOSI  D7  GPIO13  |  GPIO2   D4  LED\n",
    "# SS    D8  GPIO15  |          GND\n",
    "#      3V3          |          5V\n",
    "\n",
    "# clk red      D5\n",
    "# cs  orange   D8\n",
    "# din yellow   D7\n",
    "# gnd green    G\n",
    "# vcc blue     5V"
   ]
  },
  {
   "cell_type": "code",
   "execution_count": 138,
   "metadata": {},
   "outputs": [
    {
     "name": "stdout",
     "output_type": "stream",
     "text": [
      "serial exception on close write failed: [Errno 5] Input/output error\n",
      "Found serial ports: /dev/ttyUSB0, /dev/ttyS0, /dev/ttyS1, /dev/ttyS2, /dev/ttyS3 \n",
      "\u001b[34mConnecting to --port=/dev/ttyUSB0 --baud=115200 \u001b[0m\n",
      "\u001b[34mReady.\n",
      "\u001b[0m"
     ]
    }
   ],
   "source": [
    "%serialconnect"
   ]
  },
  {
   "cell_type": "code",
   "execution_count": 139,
   "metadata": {},
   "outputs": [
    {
     "name": "stdout",
     "output_type": "stream",
     "text": [
      "Sent 8 lines (150 bytes) to config.txt.\n"
     ]
    }
   ],
   "source": [
    "%sendtofile config.txt\n",
    "wifiname  DoESLiverpool\n",
    "wifipassword decafbad00\n",
    "mqttbroker  10.0.100.1\n",
    "pinled       -2\n",
    "pinsck       14\n",
    "pincs        15\n",
    "pinmosi      13\n",
    "numledchars  20"
   ]
  },
  {
   "cell_type": "code",
   "execution_count": 137,
   "metadata": {},
   "outputs": [
    {
     "name": "stdout",
     "output_type": "stream",
     "text": [
      "Sent 8 lines (150 bytes) to config.txt.\n"
     ]
    }
   ],
   "source": [
    "%sendtofile --source wifimqttconnections.txt config.txt\n",
    "%sendtofile config.txt\n",
    "wifiname  DoESLiverpool,decafbad00,mosquitto.doesliverpool.xyz\n",
    "pinled       -2\n",
    "pinsck       21\n",
    "pincs        17\n",
    "pinmosi      16\n",
    "numledchars  20"
   ]
  },
  {
   "cell_type": "code",
   "execution_count": 134,
   "metadata": {},
   "outputs": [
    {
     "name": "stdout",
     "output_type": "stream",
     "text": [
      "serial exception on close write failed: [Errno 5] Input/output error\n",
      "Found serial ports: /dev/ttyUSB0, /dev/ttyS0, /dev/ttyS1, /dev/ttyS2, /dev/ttyS3 \n",
      "\u001b[34mConnecting to --port=/dev/ttyUSB0 --baud=115200 \u001b[0m\n",
      "\u001b[34mReady.\n",
      "\u001b[0m"
     ]
    }
   ],
   "source": [
    "%serialconnect"
   ]
  },
  {
   "cell_type": "code",
   "execution_count": 135,
   "metadata": {},
   "outputs": [
    {
     "name": "stdout",
     "output_type": "stream",
     "text": [
      "Sent 99 lines (3341 bytes) to stdmqttas.py.\n"
     ]
    }
   ],
   "source": [
    "%sendtofile --source stdmqttas_esp8266.py stdmqttas.py\n"
   ]
  },
  {
   "cell_type": "code",
   "execution_count": 82,
   "metadata": {},
   "outputs": [
    {
     "name": "stdout",
     "output_type": "stream",
     "text": [
      "Sent 102 lines (3359 bytes) to stdmqttas.py.\n",
      "Sent 39 lines (1151 bytes) to utils.py.\n"
     ]
    }
   ],
   "source": [
    "%sendtofile --source stdmqttas.py\n",
    "%sendtofile --quiet --source utils.py"
   ]
  },
  {
   "cell_type": "code",
   "execution_count": 79,
   "metadata": {},
   "outputs": [
    {
     "name": "stdout",
     "output_type": "stream",
     "text": [
      "Sent 64 lines (1913 bytes) to ledstrippanel.py.\n"
     ]
    }
   ],
   "source": [
    "%sendtofile ledstrippanel.py\n",
    "\n",
    "import framebuf\n",
    "from machine import Pin, SPI\n",
    "\n",
    "cs, spi = None, None\n",
    "brightnesschars = None\n",
    "buffer = None\n",
    "fbuff = None\n",
    "numledchars = 0\n",
    "# ESP32-HSPI: sck=14, mosi=13\n",
    "\n",
    "def setbrightness(brightness, i0=0, i1=9999):\n",
    "    # 0<=brightness<=15\n",
    "    for i in range(max(i0, 0), min(i1, numledchars)):\n",
    "        brightnesschars[(numledchars - i)*2 - 1] = brightness\n",
    "        \n",
    "def showbrightness():\n",
    "    cs.value(0)  \n",
    "    spi.write(brightnesschars)\n",
    "    cs.value(1)\n",
    "    \n",
    "def scrollbrightness(brightness=0):\n",
    "    for i in range(numledchars - 1):\n",
    "        brightnesschars[(numledchars - i)*2 - 1] = brightnesschars[(numledchars - (i+1))*2 - 1]\n",
    "    brightnesschars[1] = brightness\n",
    "    \n",
    "s = bytearray(8)\n",
    "def show():\n",
    "    for y in range(8):\n",
    "        s[6] = s[4] = s[2] = s[0] = y+1\n",
    "        yp = y*(numledchars) + numledchars\n",
    "        cs.value(0)  # cannot put in loop as resets the shifting\n",
    "        for m in range(0, numledchars-1, 4):\n",
    "            s[1] = buffer[yp - m - 1]\n",
    "            s[3] = buffer[yp - m - 2]\n",
    "            s[5] = buffer[yp - m - 3]\n",
    "            s[7] = buffer[yp - m - 4]\n",
    "            spi.write(s)\n",
    "        cs.value(1)\n",
    "\n",
    "def init():\n",
    "    for i in range(0, 10, 2):\n",
    "        cs.value(0)\n",
    "        x = b\"\\x0c\\x00\\x0f\\x00\\x0b\\x07\\x09\\x00\\x0c\\x01\"[i:i+2]\n",
    "        spi.write(x*numledchars)\n",
    "        cs.value(1)\n",
    "    showbrightness()\n",
    "        \n",
    "def setup(lnumledchars, lcs, lspi):\n",
    "    global numledchars, cs, spi, brightnesschars, buffer, fbuff\n",
    "    cs, spi = lcs, lspi\n",
    "    numledchars = lnumledchars # can be 4n+1 for scroll buffer\n",
    "\n",
    "    brightnesschars = bytearray(bytes([0x0a, 0])*numledchars)\n",
    "    buffer = bytearray(8*(numledchars))  # make one extra character to scroll from\n",
    "    fbuffwidth = 8*(numledchars)\n",
    "    fbuffheight = 8\n",
    "    fbuff = framebuf.FrameBuffer(buffer, fbuffwidth, fbuffheight, framebuf.MONO_HLSB)\n",
    "\n",
    "    init()\n",
    "    \n",
    "    for i in range(0, numledchars*8, 4):\n",
    "        fbuff.fill_rect(i, (i%8), 4, 4, 1)\n",
    "    show()\n",
    "    return fbuff\n"
   ]
  },
  {
   "cell_type": "code",
   "execution_count": 140,
   "metadata": {},
   "outputs": [
    {
     "name": "stdout",
     "output_type": "stream",
     "text": [
      "serial exception on close write failed: [Errno 5] Input/output error\n",
      "Found serial ports: /dev/ttyUSB1, /dev/ttyS0, /dev/ttyS1, /dev/ttyS2, /dev/ttyS3 \n",
      "\u001b[34mConnecting to --port=/dev/ttyUSB1 --baud=115200 \u001b[0m\n",
      "\u001b[34mReady.\n",
      "\u001b[0m"
     ]
    }
   ],
   "source": [
    "%serialconnect"
   ]
  },
  {
   "cell_type": "code",
   "execution_count": 141,
   "metadata": {},
   "outputs": [
    {
     "name": "stdout",
     "output_type": "stream",
     "text": [
      "Sent 90 lines (2926 bytes) to stdmqttas.py.\n"
     ]
    }
   ],
   "source": [
    "#%sendtofile --source stdmqttas.py\n",
    "%sendtofile --source stdmqttas_esp8266.py stdmqttas.py"
   ]
  },
  {
   "cell_type": "code",
   "execution_count": 88,
   "metadata": {},
   "outputs": [],
   "source": [
    "import stdmqttas\n"
   ]
  },
  {
   "cell_type": "code",
   "execution_count": 89,
   "metadata": {},
   "outputs": [
    {
     "name": "stdout",
     "output_type": "stream",
     "text": [
      "Pin(2)\r\n"
     ]
    }
   ],
   "source": [
    "print(stdmqttas.pinled)"
   ]
  },
  {
   "cell_type": "code",
   "execution_count": 125,
   "metadata": {},
   "outputs": [
    {
     "name": "stdout",
     "output_type": "stream",
     "text": [
      "SPI(id=1, baudrate=1000000, polarity=0, phase=0, bits=8, firstbit=0, sck=21, mosi=16, miso=12)\n",
      "object SPI(id=1, baudrate=1000000, polarity=0, phase=0, bits=8, firstbit=0, sck=21, mosi=16, miso=12) is of type SPI\n",
      "  init -- <function>\n",
      "  deinit -- <function>\n",
      "  read -- <function>\n",
      "  readinto -- <function>\n",
      "  write -- <function>\n",
      "  write_readinto -- <function>\n",
      "  MSB -- 0\n",
      "  LSB -- 1\n"
     ]
    }
   ],
   "source": [
    "from machine import Pin, PWM, SPI\n",
    "spi = SPI(1, 1000000, sck=int(fconfig[\"pinsck\"]), mosi=int(fconfig[\"pinmosi\"]))\n",
    "print(spi)\n",
    "help(spi)"
   ]
  },
  {
   "cell_type": "code",
   "execution_count": 126,
   "metadata": {},
   "outputs": [
    {
     "name": "stderr",
     "output_type": "stream",
     "text": [
      "Traceback (most recent call last):\n",
      "  File \"<stdin>\", line 3, in <module>\n",
      "NameError: name 'setup' isn't defined\n"
     ]
    }
   ],
   "source": [
    "import ledstrippanel\n",
    "from machine import Pin, PWM, SPI\n",
    "fbuff = setup(numledchars, Pin(int(fconfig[\"pincs\"]), Pin.OUT), SPI(1, 1000000))\n"
   ]
  },
  {
   "cell_type": "code",
   "execution_count": 114,
   "metadata": {},
   "outputs": [],
   "source": [
    "ledstrippanel.fbuff.fill(0)\n",
    "ledstrippanel.show()"
   ]
  },
  {
   "cell_type": "code",
   "execution_count": 133,
   "metadata": {},
   "outputs": [
    {
     "name": "stdout",
     "output_type": "stream",
     "text": [
      "Sent 96 lines (3480 bytes) to main.py.\n"
     ]
    }
   ],
   "source": [
    "%sendtofile main.py\n",
    "\n",
    "from mqtt_as import MQTTClient\n",
    "from stdmqttas import fconfig, config, mqttconnecttask, callbackcmdtask, flashledconnectedtask, sclient\n",
    "import uasyncio as asyncio\n",
    "from stdmqttas import pinled, flashpinled, shortmac, topicstem, itertools_count\n",
    "from machine import Pin, PWM, SPI\n",
    "import time\n",
    "from ledstrippanel import setup, show\n",
    "#from uasyncio.queues import Queue\n",
    "\n",
    "numledchars = int(fconfig[\"numledchars\"])\n",
    "spi = SPI(1, 1000000, sck=int(fconfig[\"pinsck\"]), mosi=int(fconfig[\"pinmosi\"]))\n",
    "fbuff = setup(numledchars, Pin(int(fconfig[\"pincs\"]), Pin.OUT), spi)\n",
    "flashpinled(5, 300, 300)\n",
    "\n",
    "topicmessage = topicstem+\"/message\"\n",
    "topiccmd = topicstem+\"/cmd\"\n",
    "topicstatus = topicstem+\"/status\"\n",
    "topicreply = topicstem+\"/reply\"\n",
    "topiconline = topicstem+\"/online\"\n",
    "topicip = topicstem+\"/ip\"\n",
    "\n",
    "#qmessages = Queue()\n",
    "qmessages = [ ]\n",
    "async def messagetask():\n",
    "    message = \" \"\n",
    "    while True:\n",
    "        if len(qmessages) == 0:\n",
    "            await asyncio.sleep_ms(100)\n",
    "            continue\n",
    "        #prevmessage, message = message, await(qmessages.get())\n",
    "        prevmessage, message = message, qmessages.pop(0)\n",
    "        for xchar, (c1, c2) in enumerate(zip(prevmessage, message)):\n",
    "            if c1 != c2:\n",
    "                break\n",
    "        fbuff.fill(0)\n",
    "        fbuff.text(message, 0, 0, 1)\n",
    "        for ys in range(7, -1, -1):\n",
    "            fbuff.fill_rect(xchar*8, 0, (numledchars - xchar)*8, 8, 0)\n",
    "            fbuff.text(prevmessage[xchar:], xchar*8, ys - 8, 1)\n",
    "            fbuff.text(message[xchar:], xchar*8, ys, 1)\n",
    "            show()\n",
    "            await asyncio.sleep_ms(50)\n",
    "        await asyncio.sleep_ms(450)\n",
    "\n",
    "async def cursorflash():\n",
    "    for i in itertools_count():\n",
    "        await asyncio.sleep_ms(1000)\n",
    "        if not sclient():\n",
    "            continue\n",
    "        client = sclient()\n",
    "        if client.connectioncount and not client.isconnected() and len(qmessages) < 2:\n",
    "            qmessages.append(\"wifi fail: %d\"%i)\n",
    "            await asyncio.sleep_ms(5000)\n",
    "            ipnumber = client._sta_if.ifconfig()[0]\n",
    "            qmessages.append(ipnumber)\n",
    "            await asyncio.sleep_ms(4000)\n",
    "        elif len(qmessages) == 0:\n",
    "            fbuff.fill_rect((numledchars-1)*8, 7, 8, 1, i%2)\n",
    "            show()\n",
    "        if client.isconnected():\n",
    "            await client.publish(topicstatus, \"beat-%d\"%i)\n",
    "        \n",
    "def callbackcmd(topic, msg, retained):\n",
    "    print(\"callbackcmd\", topic, msg)\n",
    "    if topic == topiccmd:\n",
    "        aloop.create_task(callbackcmdtask(clientsingleton[0], topicreply, msg))\n",
    "    elif len(qmessages) < 5:\n",
    "        if 1 <= len(msg) <= 50:\n",
    "            #aloop.create_task(qmessages.put(msg.decode()))\n",
    "            qmessages.append(msg.decode())\n",
    "\n",
    "async def onconnecttask(client):\n",
    "    ipnumber = client._sta_if.ifconfig()[0]\n",
    "    await client.publish(topicstatus, ipnumber, retain=True)\n",
    "    qmessages.append(\"subscribing\")\n",
    "    await client.subscribe(topiccmd)\n",
    "    print(\"subscribed \", topiccmd)\n",
    "    await client.subscribe(topicmessage)\n",
    "    print(\"subscribed \", topicmessage)\n",
    "    qmessages.append(\"ip: \"+ipnumber)\n",
    "    await client.publish(topicmessage, \"reconnections #%d\"%client.connectioncount)\n",
    "    client.connectioncount += 1\n",
    "    print(\"subscribed\")\n",
    "            \n",
    "config['subs_cb'] = callbackcmd\n",
    "config['connect_coro'] = onconnecttask\n",
    "#client = MQTTClient(config)\n",
    "#client.DEBUG = True\n",
    "#client.connectioncount = 0\n",
    "\n",
    "aloop = asyncio.get_event_loop()\n",
    "aloop.create_task(messagetask())\n",
    "aloop.create_task(cursorflash())\n",
    "aloop.create_task(mqttconnecttask())\n",
    "aloop.create_task(flashledconnectedtask())\n",
    "aloop.run_forever()\n"
   ]
  },
  {
   "cell_type": "code",
   "execution_count": 18,
   "metadata": {},
   "outputs": [],
   "source": [
    "fbuff.fill(0)\n",
    "show()"
   ]
  },
  {
   "cell_type": "code",
   "execution_count": 9,
   "metadata": {},
   "outputs": [
    {
     "name": "stdout",
     "output_type": "stream",
     "text": [
      "__main__          collections       machine           ssl\n",
      "_asyncio          cryptolib         math              struct\n",
      "_boot             deflate           micropython       sys\n",
      "_espnow           dht               mip/__init__      time\n",
      "_onewire          ds18x20           neopixel          tls\n",
      "_webrepl          errno             network           uasyncio\n",
      "apa102            esp               ntptime           uctypes\n",
      "array             espnow            onewire           umqtt/robust\n",
      "asyncio/__init__  flashbdev         os                umqtt/simple\n",
      "asyncio/core      framebuf          platform          upysh\n",
      "asyncio/event     gc                port_diag         urequests\n",
      "asyncio/funcs     hashlib           random            vfs\n",
      "asyncio/lock      heapq             re                webrepl\n",
      "asyncio/stream    inisetup          requests/__init__ webrepl_setup\n",
      "binascii          io                select            websocket\n",
      "btree             json              socket\n",
      "builtins          lwip              ssd1306\n",
      "Plus any modules on the filesystem\n"
     ]
    }
   ],
   "source": [
    "help(\"modules\")\n"
   ]
  },
  {
   "cell_type": "code",
   "execution_count": null,
   "metadata": {},
   "outputs": [],
   "source": []
  }
 ],
 "metadata": {
  "kernelspec": {
   "display_name": "MicroPython - USB",
   "language": "micropython",
   "name": "micropython"
  },
  "language_info": {
   "codemirror_mode": "python",
   "file_extension": ".py",
   "mimetype": "text/python",
   "name": "micropython"
  }
 },
 "nbformat": 4,
 "nbformat_minor": 2
}
