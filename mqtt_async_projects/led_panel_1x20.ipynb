{
 "cells": [
  {
   "cell_type": "code",
   "execution_count": 1,
   "metadata": {},
   "outputs": [
    {
     "name": "stdout",
     "output_type": "stream",
     "text": [
      "\u001b[34mConnecting to --port=/dev/ttyUSB0 --baud=115200 \u001b[0m\n",
      "\u001b[34mReady.\n",
      "\u001b[0m"
     ]
    }
   ],
   "source": [
    "%serialconnect"
   ]
  },
  {
   "cell_type": "code",
   "execution_count": 2,
   "metadata": {},
   "outputs": [
    {
     "name": "stdout",
     "output_type": "stream",
     "text": [
      "Listing directory '/'.\n",
      "      228    boot.py\n",
      "      223    config.txt\n",
      "     1913    ledstrippanel.py\n",
      "     2918    main.py\n",
      "     2254    stdmqttas.py\n",
      "      969    utils.py\n",
      "       15    webrepl_cfg.py\n"
     ]
    }
   ],
   "source": [
    "%ls"
   ]
  },
  {
   "cell_type": "code",
   "execution_count": null,
   "metadata": {},
   "outputs": [],
   "source": [
    "# Simplify and deploy on dot matrix at front\n",
    "# check watchdog does or doesn't work\n",
    "# report mdns not working on esp8266 (and the watchdog)\n",
    "# check if timeout on wifi allows alternate wifi passwords to be given\n",
    "\n",
    "# Make sure the firmware is\n",
    "# %esptool esp8266 /home/julian/extrepositories/micropython/ports/esp8266/build-GENERIC/firmware-combined.bin"
   ]
  },
  {
   "cell_type": "code",
   "execution_count": null,
   "metadata": {},
   "outputs": [],
   "source": [
    "# Small ESP8266\n",
    "\n",
    "#      RST          |  GPIO1   TX\n",
    "#       A0          |  GPIO3   RX\n",
    "#       D0  GPIO16  |  GPIO5   D1  SCL\n",
    "# SCK   D5  GPIO14  |  GPIO4   D2  SDA\n",
    "# MISO  D6  GPIO12  |  GPIO0   D3\n",
    "# MOSI  D7  GPIO13  |  GPIO2   D4  LED\n",
    "# SS    D8  GPIO15  |          GND\n",
    "#      3V3          |          5V\n",
    "\n",
    "# clk red      D5\n",
    "# cs  orange   D8\n",
    "# din yellow   D7\n",
    "# gnd green    G\n",
    "# vcc blue     5V"
   ]
  },
  {
   "cell_type": "code",
   "execution_count": 7,
   "metadata": {},
   "outputs": [
    {
     "name": "stdout",
     "output_type": "stream",
     "text": [
      "serial exception on close write failed: [Errno 5] Input/output error\n",
      "\u001b[34mConnecting to --port=/dev/ttyUSB1 --baud=115200 \u001b[0m\n",
      "\u001b[34mReady.\n",
      "\u001b[0m"
     ]
    }
   ],
   "source": [
    "%serialconnect"
   ]
  },
  {
   "cell_type": "code",
   "execution_count": 4,
   "metadata": {},
   "outputs": [
    {
     "name": "stdout",
     "output_type": "stream",
     "text": [
      "Sent 73 lines (2580 bytes) to stdmqttas.py.\n",
      "Sent 32 lines (969 bytes) to utils.py.\n"
     ]
    }
   ],
   "source": [
    "%sendtofile --source stdmqttas.py\n",
    "%sendtofile --quiet --source utils.py"
   ]
  },
  {
   "cell_type": "code",
   "execution_count": 5,
   "metadata": {},
   "outputs": [
    {
     "name": "stdout",
     "output_type": "stream",
     "text": [
      "Sent 9 lines (197 bytes) to config.txt.\n"
     ]
    }
   ],
   "source": [
    "%sendtofile config.txt\n",
    "\n",
    "wifiname     DoESLiverpool\n",
    "wifipassword decafbad00\n",
    "mqttbroker   10.0.100.1\n",
    "pinled       -2\n",
    "pincs        15\n",
    "pinsck       14\n",
    "pinmosi      13\n",
    "numledchars  20\n",
    "connection1  BV6000,bubblino,192.168.43.1\n"
   ]
  },
  {
   "cell_type": "code",
   "execution_count": 157,
   "metadata": {},
   "outputs": [
    {
     "name": "stdout",
     "output_type": "stream",
     "text": [
      "Sent 64 lines (1913 bytes) to ledstrippanel.py.\n"
     ]
    }
   ],
   "source": [
    "%sendtofile ledstrippanel.py\n",
    "\n",
    "import framebuf\n",
    "from machine import Pin, SPI\n",
    "\n",
    "cs, spi = None, None\n",
    "brightnesschars = None\n",
    "buffer = None\n",
    "fbuff = None\n",
    "numledchars = 0\n",
    "# ESP32-HSPI: sck=14, mosi=13\n",
    "\n",
    "def setbrightness(brightness, i0=0, i1=9999):\n",
    "    # 0<=brightness<=15\n",
    "    for i in range(max(i0, 0), min(i1, numledchars)):\n",
    "        brightnesschars[(numledchars - i)*2 - 1] = brightness\n",
    "        \n",
    "def showbrightness():\n",
    "    cs.value(0)  \n",
    "    spi.write(brightnesschars)\n",
    "    cs.value(1)\n",
    "    \n",
    "def scrollbrightness(brightness=0):\n",
    "    for i in range(numledchars - 1):\n",
    "        brightnesschars[(numledchars - i)*2 - 1] = brightnesschars[(numledchars - (i+1))*2 - 1]\n",
    "    brightnesschars[1] = brightness\n",
    "    \n",
    "s = bytearray(8)\n",
    "def show():\n",
    "    for y in range(8):\n",
    "        s[6] = s[4] = s[2] = s[0] = y+1\n",
    "        yp = y*(numledchars) + numledchars\n",
    "        cs.value(0)  # cannot put in loop as resets the shifting\n",
    "        for m in range(0, numledchars-1, 4):\n",
    "            s[1] = buffer[yp - m - 1]\n",
    "            s[3] = buffer[yp - m - 2]\n",
    "            s[5] = buffer[yp - m - 3]\n",
    "            s[7] = buffer[yp - m - 4]\n",
    "            spi.write(s)\n",
    "        cs.value(1)\n",
    "\n",
    "def init():\n",
    "    for i in range(0, 10, 2):\n",
    "        cs.value(0)\n",
    "        x = b\"\\x0c\\x00\\x0f\\x00\\x0b\\x07\\x09\\x00\\x0c\\x01\"[i:i+2]\n",
    "        spi.write(x*numledchars)\n",
    "        cs.value(1)\n",
    "    showbrightness()\n",
    "        \n",
    "def setup(lnumledchars, lcs, lspi):\n",
    "    global numledchars, cs, spi, brightnesschars, buffer, fbuff\n",
    "    cs, spi = lcs, lspi\n",
    "    numledchars = lnumledchars # can be 4n+1 for scroll buffer\n",
    "\n",
    "    brightnesschars = bytearray(bytes([0x0a, 0])*numledchars)\n",
    "    buffer = bytearray(8*(numledchars))  # make one extra character to scroll from\n",
    "    fbuffwidth = 8*(numledchars)\n",
    "    fbuffheight = 8\n",
    "    fbuff = framebuf.FrameBuffer(buffer, fbuffwidth, fbuffheight, framebuf.MONO_HLSB)\n",
    "\n",
    "    init()\n",
    "    \n",
    "    for i in range(0, numledchars*8, 4):\n",
    "        fbuff.fill_rect(i, (i%8), 4, 4, 1)\n",
    "    show()\n",
    "    return fbuff\n"
   ]
  },
  {
   "cell_type": "code",
   "execution_count": 30,
   "metadata": {},
   "outputs": [
    {
     "name": "stdout",
     "output_type": "stream",
     "text": [
      "serial exception on close write failed: [Errno 5] Input/output error\n",
      "\u001b[34mConnecting to --port=/dev/ttyUSB0 --baud=115200 \u001b[0m\n",
      "\u001b[34mReady.\n",
      "\u001b[0m"
     ]
    }
   ],
   "source": [
    "%serialconnect"
   ]
  },
  {
   "cell_type": "code",
   "execution_count": 29,
   "metadata": {},
   "outputs": [
    {
     "name": "stdout",
     "output_type": "stream",
     "text": [
      "Sent 77 lines (2720 bytes) to stdmqttas.py.\n"
     ]
    }
   ],
   "source": [
    "%sendtofile --source stdmqttas.py\n"
   ]
  },
  {
   "cell_type": "code",
   "execution_count": 20,
   "metadata": {},
   "outputs": [
    {
     "name": "stdout",
     "output_type": "stream",
     "text": [
      "repl is in normal command mode\n",
      "[\\r\\x03\\x03] b'\\r\\nMicroPython v1.11-543-g48b25a841 on 2019-10-31; ESP module with ESP8266\\r\\nType \"help()\" for more information.\\r\\n>>> \\r\\n>>> \\r\\nMPY: soft rebooWebREPL daemon started on ws://192.168.4.1:8266\\r\\nWebREPL daemon started on ws://10.0.37.78:8266\\r\\nStarted webrepl in normal mode\\r\\nMicroPython v1.11-543-g48b25a841 on 2019-10-31; ESP module with ESP8266\\r\\nType \"help()\" for more information.\\r\\n>>> \\r\\n>>> \\r\\n>>> '\n",
      "[\\r\\x01] b'\\r\\n>>> \\r\\nraw REPL; CTRL-B to exit\\r\\n>'"
     ]
    }
   ],
   "source": [
    "%rebootdevice"
   ]
  },
  {
   "cell_type": "code",
   "execution_count": 23,
   "metadata": {},
   "outputs": [
    {
     "name": "stdout",
     "output_type": "stream",
     "text": [
      "[leftinbuffer] ['ip:10.0.37.78,mask:255.0.0.0,gw:10.0.0.1']\n",
      "state: 5 -> 0 (0)\n",
      "rm 0\n",
      "del if0\n",
      "mode : softAP(de:4f:22:75:d1:f3)\n"
     ]
    }
   ],
   "source": [
    "import stdmqttas\n"
   ]
  },
  {
   "cell_type": "code",
   "execution_count": 31,
   "metadata": {},
   "outputs": [
    {
     "name": "stdout",
     "output_type": "stream",
     "text": [
      "Sent 77 lines (2817 bytes) to main.py.\n"
     ]
    }
   ],
   "source": [
    "%sendtofile main.py\n",
    "\n",
    "from mqtt_as import MQTTClient\n",
    "from stdmqttas import fconfig, config, mqttconnecttask, callbackcmdtask, flashledconnectedtask\n",
    "import uasyncio as asyncio\n",
    "from stdmqttas import pinled, flashpinled, shortmac, topicstem, topicstatus\n",
    "from machine import Pin, PWM, SPI\n",
    "import time, itertools\n",
    "from ledstrippanel import setup, show\n",
    "from uasyncio.queues import Queue\n",
    "\n",
    "numledchars = int(fconfig[\"numledchars\"])\n",
    "fbuff = setup(numledchars, Pin(int(fconfig[\"pincs\"]), Pin.OUT), SPI(1, 1000000))\n",
    "flashpinled(5, 300, 300)\n",
    "\n",
    "topicmessage = topicstem+\"/message\"\n",
    "topiccmd = (topicstem+\"/cmd\").encode()\n",
    "topicreply = topicstem+\"/reply\"\n",
    "\n",
    "qmessages = Queue()\n",
    "async def messagetask():\n",
    "    message = \" \"\n",
    "    while True:\n",
    "        prevmessage, message = message, await(qmessages.get())\n",
    "        for xchar, (c1, c2) in enumerate(zip(prevmessage, message)):\n",
    "            if c1 != c2:\n",
    "                break\n",
    "        fbuff.fill(0)\n",
    "        fbuff.text(message, 0, 0, 1)\n",
    "        for ys in range(7, -1, -1):\n",
    "            fbuff.fill_rect(xchar*8, 0, (numledchars - xchar)*8, 8, 0)\n",
    "            fbuff.text(prevmessage[xchar:], xchar*8, ys - 8, 1)\n",
    "            fbuff.text(message[xchar:], xchar*8, ys, 1)\n",
    "            show()\n",
    "            await asyncio.sleep_ms(50)\n",
    "        await asyncio.sleep_ms(450)\n",
    "\n",
    "async def cursorflash():    \n",
    "    for i in itertools.count():\n",
    "        await asyncio.sleep_ms(1000)\n",
    "        if client.connectioncount and not client.isconnected() and qmessages.qsize() < 2:\n",
    "            await qmessages.put(\"wifi fail: %d\"%i)\n",
    "            await asyncio.sleep_ms(9000)\n",
    "        elif qmessages.empty():\n",
    "            fbuff.fill_rect((numledchars-1)*8, 7, 8, 1, i%2)\n",
    "            show()\n",
    "    await client.publish(topicstatus, ipnumber, retain=True)\n",
    "        \n",
    "def callbackcmd(topic, msg, retained):\n",
    "    print(\"callbackcmd\", topic, msg)\n",
    "    if topic == topiccmd:\n",
    "        aloop.create_task(callbackcmdtask(client, topicreply, msg))\n",
    "    elif qmessages.qsize() < 5:\n",
    "        if 1 <= len(msg) <= 50:\n",
    "            aloop.create_task(qmessages.put(msg.decode()))\n",
    "\n",
    "async def onconnecttask(client):\n",
    "    ipnumber = client._sta_if.ifconfig()[0]\n",
    "    await client.publish(topicstatus, ipnumber, retain=True)\n",
    "    await qmessages.put(\"subscribing\")\n",
    "    await client.subscribe(topiccmd)\n",
    "    await client.subscribe(topicmessage)\n",
    "    await qmessages.put(\"ip: \"+ipnumber)\n",
    "    await client.publish(topicmessage, \"reconnections #%d\"%client.connectioncount)\n",
    "    client.connectioncount += 1\n",
    "    print(\"subscribed\")\n",
    "            \n",
    "config['subs_cb'] = callbackcmd\n",
    "config['connect_coro'] = onconnecttask\n",
    "client = MQTTClient(config)\n",
    "client.DEBUG = True\n",
    "client.connectioncount = 0\n",
    "\n",
    "aloop = asyncio.get_event_loop()\n",
    "aloop.create_task(messagetask())\n",
    "aloop.create_task(cursorflash())\n",
    "aloop.create_task(mqttconnecttask(client))\n",
    "aloop.create_task(flashledconnectedtask(client))\n",
    "aloop.run_forever()\n"
   ]
  },
  {
   "cell_type": "code",
   "execution_count": 2,
   "metadata": {},
   "outputs": [
    {
     "name": "stdout",
     "output_type": "stream",
     "text": [
      "serial exception on close write failed: [Errno 5] Input/output error\n",
      "\u001b[34mConnecting to --port=/dev/ttyUSB10 --baud=115200 \u001b[0m\n",
      "\u001b[34mReady.\n",
      "\u001b[0m"
     ]
    }
   ],
   "source": [
    "%serialconnect"
   ]
  },
  {
   "cell_type": "code",
   "execution_count": 3,
   "metadata": {},
   "outputs": [
    {
     "name": "stdout",
     "output_type": "stream",
     "text": [
      "Sent 32 lines (969 bytes) to utils.py.\n"
     ]
    }
   ],
   "source": []
  },
  {
   "cell_type": "code",
   "execution_count": null,
   "metadata": {},
   "outputs": [],
   "source": []
  }
 ],
 "metadata": {
  "kernelspec": {
   "display_name": "MicroPython - USB",
   "language": "micropython",
   "name": "micropython"
  },
  "language_info": {
   "codemirror_mode": "python",
   "file_extension": ".py",
   "mimetype": "text/python",
   "name": "micropython"
  }
 },
 "nbformat": 4,
 "nbformat_minor": 2
}
