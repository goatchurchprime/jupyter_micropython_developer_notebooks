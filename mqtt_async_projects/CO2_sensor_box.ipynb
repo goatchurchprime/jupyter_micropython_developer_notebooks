{
 "cells": [
  {
   "cell_type": "code",
   "execution_count": 90,
   "id": "6ecdfecb",
   "metadata": {},
   "outputs": [
    {
     "name": "stdout",
     "output_type": "stream",
     "text": [
      "\u001b[31m\n",
      "\n",
      "***Connection broken [Input/output error]\n",
      "\u001b[0mYou may need to reconnect\u001b[34m\n",
      "Closing serial Serial<id=0x7fafc00e5730, open=True>(port='/dev/ttyUSB0', baudrate=115200, bytesize=8, parity='N', stopbits=1, timeout=0.5, xonxoff=False, rtscts=False, dsrdtr=False)\n",
      "\u001b[0m\u001b[34mConnecting to --port=/dev/ttyUSB2 --baud=115200 \u001b[0m\n",
      "\u001b[34mReady.\n",
      "\u001b[0m"
     ]
    }
   ],
   "source": [
    "#%esptool erase\n",
    "## esptool.py --chip esp32 --port /dev/ttyACM0 erase_flash\n",
    "#%esptool esp32 /home/julian/executables-impure/espbinaries/esp32-20220413-unstable-v1.18-330-gd242a9b7f.bin\n",
    "## esptool.py --chip esp32 --port /dev/ttyUSB1 --baud 460800 write_flash -z 0x1000 executables-impure/espbinaries/esp32-20210902-v1.17.bin \n",
    "%serialconnect\n",
    "\n",
    "# when running:\n",
    "# mosquitto_sub -h mosquitto.doesliverpool.xyz -v -t \"esp32/AB4634/#\""
   ]
  },
  {
   "cell_type": "code",
   "execution_count": 68,
   "id": "648ed123",
   "metadata": {},
   "outputs": [
    {
     "name": "stdout",
     "output_type": "stream",
     "text": [
      "Sent 11 lines (379 bytes) to config.txt.\n"
     ]
    }
   ],
   "source": [
    "%sendtofile config.txt\n",
    "\n",
    "connection3  HUAWEI-B535-2F99,EYR8QJE65GT,mosquitto.doesliverpool.xyz\n",
    "connection2  JulianS9,beckaaaa,mosquitto.doesliverpool.xyz\n",
    "connection0  DoESLiverpool,decafbad00,mosquitto.doesliverpool.xyz\n",
    "connection1  BT-STCPTN,FNPmKv4V7hMyJy,mosquitto.doesliverpool.xyz\n",
    "pinled       2\n",
    "pinscl       13\n",
    "pinsda       12\n",
    "uartbus      2\n",
    "wdtsecs      300\n",
    "pinfan       25\n",
    "position     tupperware"
   ]
  },
  {
   "cell_type": "code",
   "execution_count": 25,
   "id": "70ef1eef",
   "metadata": {},
   "outputs": [
    {
     "name": "stdout",
     "output_type": "stream",
     "text": [
      "Sent 82 lines (2679 bytes) to stdmqttas.py.\n",
      "Sent 32 lines (969 bytes) to utils.py.\n"
     ]
    }
   ],
   "source": [
    "%sendtofile --source stdmqttas.py\n",
    "%sendtofile --quiet --source utils.py"
   ]
  },
  {
   "cell_type": "code",
   "execution_count": 26,
   "id": "932a6bfe",
   "metadata": {},
   "outputs": [
    {
     "name": "stdout",
     "output_type": "stream",
     "text": [
      "Sent 647 lines (23171 bytes) to mqtt_as.py.\n"
     ]
    }
   ],
   "source": [
    "# This requires you to checkout https://github.com/peterhinch/micropython-mqtt/tree/master/mqtt_as\n",
    "%sendtofile --source /home/julian/extrepositories/micropython-mqtt/mqtt_as/mqtt_as.py\n",
    "\n",
    "# !!! The redo for different connections isn't working so put the one \n",
    "# that is active into connection0"
   ]
  },
  {
   "cell_type": "code",
   "execution_count": 85,
   "id": "832c0d97",
   "metadata": {},
   "outputs": [
    {
     "name": "stdout",
     "output_type": "stream",
     "text": [
      "serial exception on close write failed: [Errno 5] Input/output error\n",
      "\u001b[34mConnecting to --port=/dev/ttyUSB0 --baud=115200 \u001b[0m\n",
      "Traceback (most recent call last):\n",
      "  File \"main.py\", line 3, in <module>\n",
      "  File \"stdmqttas.py\", line 3, in <module>\n",
      "  File \"mqtt_as.py\", line 35, in <module>\n",
      "KeyboardInterrupt: \n",
      "MicroPython v1.17 on 2021-09-02; ESP32 module with ESP32\n",
      "Type \"help()\" for more information.\n",
      ">>> \n",
      ">>> \n",
      "raw REPL; CTRL-B to exit\n",
      ">\u001b[34mReady.\n",
      "\u001b[0m"
     ]
    }
   ],
   "source": [
    "%serialconnect"
   ]
  },
  {
   "cell_type": "code",
   "execution_count": 86,
   "id": "6c58c033",
   "metadata": {},
   "outputs": [
    {
     "name": "stdout",
     "output_type": "stream",
     "text": [
      "Sent 163 lines (6515 bytes) to main.py.\n"
     ]
    }
   ],
   "source": [
    "%sendtofile main.py\n",
    "\n",
    "import time, sys, machine, struct\n",
    "import uasyncio as asyncio\n",
    "from stdmqttas import fconfig, config, mqttconnecttask, callbackcmdtask\n",
    "from stdmqttas import shortmac, topicstem, itertools_count\n",
    "from stdmqttas import pinled, pinledOnvalue, flashpinled\n",
    "from mqtt_as import MQTTClient\n",
    "\n",
    "import network\n",
    "network.WLAN().active(0)  # disable the connection at startup\n",
    "flashpinled(5, 300, 300)\n",
    "\n",
    "def crc8(b):\n",
    "    crc = 0xFF\n",
    "    for c in b:\n",
    "        crc ^= c\n",
    "        for i in range(8):\n",
    "            crc = 0xFF & (((crc << 1) ^ 0x31) if (crc & 0x80) else (crc << 1))\n",
    "    return crc\n",
    "\n",
    "i2c = machine.SoftI2C(scl=machine.Pin(int(fconfig[\"pinscl\"])), sda=machine.Pin(int(fconfig[\"pinsda\"])))\n",
    "uart = machine.UART(int(fconfig[\"uartbus\"]), baudrate=9600)\n",
    "\n",
    "topicscd30 = topicstem+\"/scd30\"\n",
    "topiccdm = topicstem+\"/CDM7160\"\n",
    "topicmhz = topicstem+\"/MHZ19\"\n",
    "topiccmd = topicstem+\"/cmd\"\n",
    "topicreply = topicstem+\"/reply\"\n",
    "topiconline = topicstem+\"/online\"\n",
    "topicip = topicstem+\"/ip\"\n",
    "topicerror = topicstem+\"/error\"\n",
    "sensorposition = fconfig.get(\"position\", \"\")\n",
    "print(\"topicstem: '%s'\" % topicstem)\n",
    "print(\"sensorposition: '%s'\" % sensorposition)\n",
    "pinfan = machine.Pin(int(fconfig.get(\"pinfan\", 25)), machine.Pin.OUT)\n",
    "pinfan.value(0)\n",
    "\n",
    "async def WatchDogtask(client, wdtsecs):\n",
    "    await asyncio.sleep_ms(20*1000)\n",
    "    print(\"Starting Watchdog timer for\", wdtsecs, \"seconds\")\n",
    "    wd = machine.WDT(timeout=int(wdtsecs*1000))\n",
    "    while True:\n",
    "        await asyncio.sleep_ms(1*1000)\n",
    "        if client.isconnected():\n",
    "            pinfan.value(1)\n",
    "            wd.feed()\n",
    "            pinled.value(pinledOnvalue)\n",
    "            await asyncio.sleep_ms(50)\n",
    "            pinled.value(not pinledOnvalue)\n",
    "            await asyncio.sleep_ms(9*1000)\n",
    "        elif pinled:\n",
    "            pinfan.value(0)\n",
    "            pinled.value(pinledOnvalue)\n",
    "            await asyncio.sleep_ms(1*1000)\n",
    "            pinled.value(not pinledOnvalue)\n",
    "            print(\"Not feeding watchdog\")\n",
    "    \n",
    "async def CDM7160_task(client, i2c):\n",
    "    try:\n",
    "        while True:\n",
    "            try:\n",
    "                k = i2c.readfrom_mem(0x69, 0x03, 2)\n",
    "                v = (k[0]+k[1]*256)\n",
    "            except OSError:\n",
    "                v = 0\n",
    "            if v != 0:\n",
    "                print(topiccdm, v)\n",
    "                if client.isconnected():\n",
    "                    await client.publish(topiccdm, \"%f %s\"%(v, sensorposition))\n",
    "                    pinled.value(pinledOnvalue)\n",
    "                    await asyncio.sleep_ms(50)\n",
    "                    pinled.value(not pinledOnvalue)\n",
    "                await asyncio.sleep_ms(3000)\n",
    "            else:\n",
    "                await asyncio.sleep_ms(1000)\n",
    "    except OSError as e:\n",
    "        print(\"CDM7160taskerror\", e)\n",
    "    await asyncio.sleep_ms(5000)\n",
    "    aloop.create_task(CDM7160_task(client, i2c))\n",
    "    \n",
    "async def MHZ19_task(client, uart):\n",
    "    try:\n",
    "        uart.write(bytes([0xFF, 0x01, 0x79, 0x00, 0x00, 0x00, 0x00, 0x00, 0x86]))\n",
    "        while True:\n",
    "            await asyncio.sleep_ms(2000)\n",
    "            uart.write(bytes([0xFF, 0x01, 0x86, 0x00, 0x00, 0x00, 0x00, 0x00, 0x79]))\n",
    "            await asyncio.sleep_ms(100)\n",
    "            s = uart.read()\n",
    "            if s and len(s) == 9 and s[0] == 0xFF and s[1] == 0x86:\n",
    "                v = s[2]*256 + s[3]\n",
    "                print(topicmhz, v)\n",
    "                if client.isconnected():\n",
    "                    await client.publish(topicmhz, \"%d %s\"%(v, sensorposition))\n",
    "                    pinled.value(pinledOnvalue)\n",
    "                    await asyncio.sleep_ms(50)\n",
    "                    pinled.value(not pinledOnvalue)\n",
    "    except OSError as e:\n",
    "        print(\"MHZ19_task\", e)\n",
    "    await asyncio.sleep_ms(5000)\n",
    "    aloop.create_task(MHZ19_task(client, uart))\n",
    "\n",
    "    \n",
    "async def SCD30task(client, i2c, topicscd30):\n",
    "    try:\n",
    "        i2c.writeto(0x61, bytes([0x02, 0x04]))   # soft reset\n",
    "        await asyncio.sleep_ms(40)\n",
    "        i2c.writeto(0x61, bytes([0x00, 0x10, 0x00, 0x00, crc8([0x00, 0x00])]))   # continuous measurement\n",
    "        await asyncio.sleep_ms(40)\n",
    "        i2c.writeto(0x61, bytes([0x46, 0x00, 0x00, 0x02, crc8([0x00, 0x02])]))   # 2s measurement interval\n",
    "        await asyncio.sleep_ms(40)\n",
    "        for n in itertools_count():\n",
    "            y = i2c.writeto(0x61, bytes([0x02, 0x02]))  # data ready?\n",
    "            await asyncio.sleep_ms(4)\n",
    "            d = i2c.readfrom(0x61, 2)    # ready is 1\n",
    "            if d == bytes([0x00, 0x01]):\n",
    "                y = i2c.writeto(0x61, bytes([0x03, 0x00]))  # read data\n",
    "                await asyncio.sleep_ms(4)\n",
    "                x = i2c.readfrom(0x61, 18)\n",
    "                crcvalid = (len(x) == 18) and (crc8(x[0:2]) == x[2]) and (crc8(x[3:5]) == x[5]) and (crc8(x[6:8]) == x[8]) and (crc8(x[9:11]) == x[11]) and (crc8(x[12:14]) == x[14]) and (crc8(x[15:17]) == x[17])\n",
    "                co2, temp, humid = struct.unpack(\">fff\", bytes([x[0],x[1],x[3],x[4], x[6],x[7],x[9],x[10], x[12],x[13],x[15],x[16]]))\n",
    "                print(n, topicscd30, co2, temp, humid, crcvalid)\n",
    "                if client.isconnected() and crcvalid:\n",
    "                    await client.publish(topicscd30, \"%f %f %f %s\"%(co2, temp, humid, sensorposition))\n",
    "                    pinled.value(pinledOnvalue)\n",
    "                    await asyncio.sleep_ms(50)\n",
    "                    pinled.value(not pinledOnvalue)\n",
    "            await asyncio.sleep_ms(500)\n",
    "    except OSError as e:\n",
    "        print(\"SCD30taskerror\", topicscd30, e)\n",
    "    await asyncio.sleep_ms(5000)\n",
    "    aloop.create_task(SCD30task(client, i2c, topicscd30))\n",
    "\n",
    "def callbackcmd(topic, msg, retained):\n",
    "    aloop.create_task(callbackcmdtask(client, topicreply, msg))\n",
    "\n",
    "async def onconnecttask(client):\n",
    "    ipnumber = client._sta_if.ifconfig()[0]\n",
    "    print(\"ipnumber\", ipnumber)\n",
    "    await client.publish(topiconline, \"1\", retain=True)\n",
    "    await client.publish(topicip, ipnumber, retain=True)\n",
    "    await client.subscribe(topiccmd, 1)\n",
    "\n",
    "config['subs_cb'] = callbackcmd\n",
    "config['connect_coro'] = onconnecttask\n",
    "config['will'] = (topiconline, \"0\", True)\n",
    "client = MQTTClient(config)\n",
    "client.DEBUG = True\n",
    "\n",
    "aloop = asyncio.get_event_loop()\n",
    "aloop.create_task(SCD30task(client, i2c, topicscd30))\n",
    "aloop.create_task(CDM7160_task(client, i2c))\n",
    "aloop.create_task(MHZ19_task(client, uart))\n",
    "aloop.create_task(mqttconnecttask(client))\n",
    "if \"wdtsecs\" in fconfig:\n",
    "    aloop.create_task(WatchDogtask(client, float(fconfig[\"wdtsecs\"])))\n",
    "\n",
    "print(\"first clearing topicerror\")\n",
    "aloop.run_until_complete(client.publish(topicerror, \"\", retain=True))\n",
    "for n in itertools_count():\n",
    "    print(\"runforever\", n)\n",
    "    try:\n",
    "        aloop.run_forever()\n",
    "    except Exception as e:\n",
    "        aloop.run_until_complete(client.publish(topicerror, str(n)+\" \"+str(e), retain=True))\n"
   ]
  },
  {
   "cell_type": "code",
   "execution_count": 80,
   "id": "ad341826",
   "metadata": {},
   "outputs": [
    {
     "name": "stdout",
     "output_type": "stream",
     "text": [
      "serial exception on close write failed: [Errno 5] Input/output error\n",
      "\u001b[34mConnecting to --port=/dev/ttyUSB1 --baud=115200 \u001b[0m\n",
      "\u001b[34mReady.\n",
      "\u001b[0m"
     ]
    }
   ],
   "source": [
    "%serialconnect\n",
    "\n",
    "import machine\n",
    "uart = machine.UART(2, baudrate=9600)\n",
    "\n"
   ]
  },
  {
   "cell_type": "code",
   "execution_count": 62,
   "id": "71da7af1",
   "metadata": {},
   "outputs": [
    {
     "name": "stdout",
     "output_type": "stream",
     "text": [
      "b'\\xffy\\x01\\x00\\x00\\x00\\x00\\x00\\x86\\xff\\x86\\x01\\xedA\\x00\\x00\\x00K'\n",
      "b'\\xff\\x86\\x01\\xedA\\x00\\x00\\x00K'\n",
      "b'\\xff\\x86\\x01\\xedA\\x00\\x00\\x00K'\n",
      "b'\\xff\\x86\\x01\\xedA\\x00\\x00\\x00K'\n",
      "b'\\xff\\x86\\x01\\xedA\\x00\\x00\\x00K'\n",
      "b'\\xff\\x86\\x01\\xedA\\x00\\x00\\x00K'\n",
      "b'\\xff\\x86\\x01\\xedA\\x00\\x00\\x00K'\n",
      "b'\\xff\\x86\\x01\\xedA\\x00\\x00\\x00K'\n",
      "b'\\xff\\x86\\x01\\xedA\\x00\\x00\\x00K'\n",
      "b'\\xff\\x86\\x01\\xedA\\x00\\x00\\x00K'\n"
     ]
    }
   ],
   "source": [
    "import time\n",
    "\n",
    "uart.write(bytes([0xFF, 0x01, 0x79, 0x00, 0x00, 0x00, 0x00, 0x00, 0x86]))\n",
    "for i in range(10):\n",
    "uart.write(bytes([0xFF, 0x01, 0x86, 0x00, 0x00, 0x00, 0x00, 0x00, 0x79]))\n",
    "time.sleep_ms(100)\n",
    "k = uart.read()\n",
    "print(k)\n"
   ]
  },
  {
   "cell_type": "code",
   "execution_count": 64,
   "id": "902585c5",
   "metadata": {},
   "outputs": [
    {
     "name": "stdout",
     "output_type": "stream",
     "text": [
      "9 493\r\n"
     ]
    }
   ],
   "source": [
    "print(len(k), k[2]*256 + k[3])"
   ]
  },
  {
   "cell_type": "code",
   "execution_count": 13,
   "id": "f959c029",
   "metadata": {},
   "outputs": [
    {
     "name": "stdout",
     "output_type": "stream",
     "text": [
      "b'\\xff\\x01\\x86\\x00\\x00\\x00\\x00\\x00y'\r\n"
     ]
    }
   ],
   "source": [
    "b = bytes([0xFF, 0x01, 0x86, 0x00, 0x00, 0x00, 0x00, 0x00, 0x79])\n",
    "print(b)"
   ]
  },
  {
   "cell_type": "code",
   "execution_count": null,
   "id": "c0b0c0b3",
   "metadata": {},
   "outputs": [],
   "source": []
  }
 ],
 "metadata": {
  "kernelspec": {
   "display_name": "MicroPython - USB",
   "language": "micropython",
   "name": "micropython"
  },
  "language_info": {
   "codemirror_mode": "python",
   "file_extension": ".py",
   "mimetype": "text/python",
   "name": "micropython"
  }
 },
 "nbformat": 4,
 "nbformat_minor": 5
}
