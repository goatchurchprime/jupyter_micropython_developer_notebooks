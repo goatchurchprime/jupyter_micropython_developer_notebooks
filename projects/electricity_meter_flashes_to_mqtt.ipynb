{
 "cells": [
  {
   "cell_type": "markdown",
   "metadata": {},
   "source": [
    "This code uses the MH-Sensor-series Flying Fish module\n",
    "that has an LDR wired to an amplifier with a gain pot \n",
    "to turn the brightness of a light into a digital signal.\n",
    "http://musuk.guru/blog/flying-fish-MH-sensor-series\n",
    "\n",
    "This is best used to detect flashes of an LED on an electricity \n",
    "meter and send the signals of each 1/1000th of a kWh through \n",
    "mqtt to the DoESLiverpool network.\n",
    "\n",
    "Uses function: machine.time_pulse_us(pin, pulse_level, timeout_us)\n",
    ">    Time a pulse on the given pin, and return the duration of the pulse in microseconds. The pulse_level argument should be 0 to time a low pulse or 1 to time a high pulse.\n",
    "\n",
    ">    If the current input value of the pin is different to pulse_level, the function first (%) waits until the pin input becomes equal to pulse_level, then (%%) times the duration that the pin is equal to pulse_level. If the pin is already equal to pulse_level then timing starts straight away.\n",
    "\n",
    "> The function will return -2 if there was timeout waiting for condition marked (%) \n",
    "above, and -1 if there was timeout during the main measurement, marked (%%) above. The timeout is the same for both cases and given by timeout_us (which is in microseconds).\n",
    "\n"
   ]
  },
  {
   "cell_type": "code",
   "execution_count": 10,
   "metadata": {},
   "outputs": [
    {
     "name": "stdout",
     "output_type": "stream",
     "text": [
      "serial exception on close write failed: [Errno 5] Input/output error\n",
      "\u001b[34mConnecting to --port=/dev/ttyUSB0 --baud=115200 \u001b[0m\n",
      "\u001b[34mReady.\n",
      "\u001b[0m"
     ]
    }
   ],
   "source": [
    "%serialconnect"
   ]
  },
  {
   "cell_type": "code",
   "execution_count": 3,
   "metadata": {},
   "outputs": [
    {
     "name": "stdout",
     "output_type": "stream",
     "text": [
      "Sent 7 lines (195 bytes) to config.txt.\n"
     ]
    }
   ],
   "source": [
    "%sendtofile config.txt\n",
    "\n",
    "wifiname       HUAWEI-B535-2F99\n",
    "wifipassword   EYR8QJE65GT\n",
    "mqttbroker     mosquitto.doesliverpool.xyz\n",
    "boardname      esp32powflash \n",
    "watchdogtimeoutseconds  600\n",
    "pindetector    26\n",
    "pinled         14"
   ]
  },
  {
   "cell_type": "code",
   "execution_count": 11,
   "metadata": {},
   "outputs": [
    {
     "name": "stdout",
     "output_type": "stream",
     "text": [
      "Sent 98 lines (3012 bytes) to main.py.\n"
     ]
    }
   ],
   "source": [
    "%sendtofile main.py\n",
    "\n",
    "import machine, time, network, ubinascii\n",
    "from umqtt.robust import MQTTClient\n",
    "\n",
    "fconfig = dict(x.split()  for x in open(\"config.txt\"))\n",
    "wifiname = fconfig[\"wifiname\"]\n",
    "wifipassword = fconfig[\"wifipassword\"]\n",
    "mqttbroker = fconfig[\"mqttbroker\"]\n",
    "boardname = fconfig[\"boardname\"]\n",
    "watchdogtimeoutseconds = int(fconfig.get(\"watchdogtimeoutseconds\", -1))\n",
    "\n",
    "pled = machine.Pin(int(fconfig[\"pinled\"]), machine.Pin.OUT)\n",
    "pdetector = machine.Pin(int(fconfig[\"pindetector\"]), machine.Pin.IN)\n",
    "\n",
    "# delays to allow serial line interrupt before wifi or watchdog get put on\n",
    "for i in range(10):\n",
    "    pled.value(i%2)\n",
    "    print(\"delay for wdt\", i)\n",
    "    time.sleep(0.5)\n",
    "\n",
    "# from here on the watchdog will reset if there are any crashing out\n",
    "print(\"watchdog going on \", watchdogtimeoutseconds)\n",
    "w = machine.WDT(timeout=watchdogtimeoutseconds*1000) if watchdogtimeoutseconds > 0 else None\n",
    "\n",
    "def connectwifi():\n",
    "    si = network.WLAN(network.STA_IF)\n",
    "    si.active(True)\n",
    "    if w is not None:  w.feed()\n",
    "\n",
    "    print(\"Connecting to\", wifiname)\n",
    "    si.connect(wifiname, wifipassword)\n",
    "    while not si.isconnected():\n",
    "        time.sleep(0.1)\n",
    "    pled.value(0) \n",
    "    print(\"connected to wifi\")\n",
    "    for i in range(10):\n",
    "        pled.value(i%2)\n",
    "        time.sleep_ms(100)\n",
    "    pled.value(1) \n",
    "    if w is not None:  w.feed()\n",
    "    return si\n",
    "si = connectwifi()\n",
    "\n",
    "while True:\n",
    "    try:\n",
    "        print(\"connecting to mqtt\", mqttbroker, \"as\", boardname)\n",
    "        client = MQTTClient(boardname, mqttbroker)\n",
    "        client.connect()\n",
    "        break\n",
    "    except OSError as e:\n",
    "        print(\"Connecting error\", e)\n",
    "    pled.value(0)\n",
    "    time.sleep(0.1)\n",
    "    pled.value(1)\n",
    "pled.value(0)\n",
    "\n",
    "print(\"connected to mqtt\")\n",
    "for i in range(10):\n",
    "    pled.value(i%2)\n",
    "    time.sleep_ms(50)\n",
    "if w is not None:  w.feed()\n",
    "\n",
    "# publish startup information \n",
    "ipnumber = si.ifconfig()[0]\n",
    "macaddress = ubinascii.hexlify(si.config('mac'),':').decode().upper()\n",
    "client.publish(boardname+\"/ip\", ipnumber, retain=True, qos=1)\n",
    "client.publish(boardname+\"/mac\", macaddress, retain=True, qos=1)\n",
    "resetcause = { machine.PWRON_RESET:\"PWRON_RESET\", machine.HARD_RESET:\"HARD_RESET\", machine.WDT_RESET:\"WDT_RESET\", machine.DEEPSLEEP_RESET:\"DEEPSLEEP_RESET\", machine.SOFT_RESET:\"SOFT_RESET\"}\\\n",
    "        .get(machine.reset_cause(), \"RESET_%d\"%machine.reset_cause())\n",
    "client.publish(boardname+\"/resetcause\", resetcause, retain=True, qos=1)\n",
    "if w is not None:  w.feed()\n",
    "\n",
    "# final measuring flashes loop\n",
    "topicnameticks = boardname+\"/ticks\"\n",
    "topicnametimeout = boardname+\"/timeout\"\n",
    "n, t0 = 0, 0\n",
    "while True:\n",
    "    if w is not None:  w.feed()\n",
    "    x1 = machine.time_pulse_us(pdetector, 0, 60000000)   # 60 second timeout (measure brightness duration)\n",
    "    if x1 < 0:   # timeout\n",
    "        continue\n",
    "    if not (50000 <= x1 <= 200000):\n",
    "        print(\"bad flash\", x1)\n",
    "        continue\n",
    "\n",
    "    t = time.ticks_ms()\n",
    "    dt = t - t0\n",
    "    x = x1//1000\n",
    "    print(dt, x, n)\n",
    "    client.publish(topicnameticks, \"%d %d %d\" % (dt, x, n))\n",
    "    t0 = t\n",
    "    n += 1\n",
    "    pled.value(n%2) \n",
    "        \n",
    "    if not si.isconnected():\n",
    "        si = connectwifi()\n",
    "    \n",
    "\n",
    "        \n"
   ]
  },
  {
   "cell_type": "code",
   "execution_count": null,
   "metadata": {},
   "outputs": [],
   "source": []
  },
  {
   "cell_type": "code",
   "execution_count": null,
   "metadata": {},
   "outputs": [],
   "source": []
  },
  {
   "cell_type": "code",
   "execution_count": 2,
   "metadata": {},
   "outputs": [
    {
     "name": "stdout",
     "output_type": "stream",
     "text": [
      "Sent 5 lines (138 bytes) to config.txt.\n"
     ]
    }
   ],
   "source": [
    "%sendtofile config.txt\n",
    "\n",
    "wifiname       DoESLiverpool\n",
    "wifipassword   decafbad00\n",
    "mqttbroker     mqtt.local\n",
    "boardname      esp32powflash \n",
    "watchdogtimeoutseconds  60\n"
   ]
  },
  {
   "cell_type": "code",
   "execution_count": 3,
   "metadata": {},
   "outputs": [
    {
     "name": "stdout",
     "output_type": "stream",
     "text": [
      "Sent 78 lines (2473 bytes) to main.py.\n"
     ]
    }
   ],
   "source": [
    "%sendtofile main.py\n",
    "\n",
    "import machine, time, network, ubinascii\n",
    "from umqtt.robust import MQTTClient\n",
    "\n",
    "fconfig = dict(x.split()  for x in open(\"config.txt\"))\n",
    "wifiname = fconfig[\"wifiname\"]\n",
    "wifipassword = fconfig[\"wifipassword\"]\n",
    "mqttbroker = fconfig[\"mqttbroker\"]\n",
    "boardname = fconfig[\"boardname\"]\n",
    "watchdogtimeoutseconds = int(fconfig.get(\"watchdogtimeoutseconds\", -1))\n",
    "\n",
    "pled = machine.Pin(2, machine.Pin.OUT)\n",
    "pdetector = machine.Pin(15, machine.Pin.IN)\n",
    "\n",
    "# delays to allow serial line interrupt before wifi or watchdog get put on\n",
    "pled.value(1)\n",
    "time.sleep(5)\n",
    "\n",
    "# from here on the watchdog will reset if there are any crashing out\n",
    "w = machine.WDT(timeout=watchdogtimeoutseconds*1000) if watchdogtimeoutseconds > 0 else None\n",
    "\n",
    "si = network.WLAN(network.STA_IF)\n",
    "si.active(True)\n",
    "if w is not None:  w.feed()\n",
    "\n",
    "print(\"Connecting to\", wifiname)\n",
    "si.connect(wifiname, wifipassword)\n",
    "while not si.isconnected():\n",
    "    time.sleep(0.1)\n",
    "pled.value(0) \n",
    "print(\"connected to wifi\")\n",
    "for i in range(10):\n",
    "    pled.value(i%2)\n",
    "    time.sleep_ms(100)\n",
    "pled.value(1) \n",
    "if w is not None:  w.feed()\n",
    "\n",
    "\n",
    "print(\"connecting to mqtt\", mqttbroker, \"as\", boardname)\n",
    "client = MQTTClient(boardname, mqttbroker)\n",
    "client.connect()\n",
    "pled.value(0) \n",
    "print(\"connected to mqtt\")\n",
    "for i in range(10):\n",
    "    pled.value(i%2)\n",
    "    time.sleep_ms(50)\n",
    "if w is not None:  w.feed()\n",
    "\n",
    "# publish startup information \n",
    "ipnumber = si.ifconfig()[0]\n",
    "macaddress = ubinascii.hexlify(si.config('mac'),':').decode().upper()\n",
    "client.publish(boardname+\"/ip\", ipnumber, retain=True, qos=1)\n",
    "client.publish(boardname+\"/mac\", macaddress, retain=True, qos=1)\n",
    "resetcause = { machine.PWRON_RESET:\"PWRON_RESET\", machine.HARD_RESET:\"HARD_RESET\", machine.WDT_RESET:\"WDT_RESET\", machine.DEEPSLEEP_RESET:\"DEEPSLEEP_RESET\", machine.SOFT_RESET:\"SOFT_RESET\"}\\\n",
    "        .get(machine.reset_cause(), \"RESET_%d\"%machine.reset_cause())\n",
    "client.publish(boardname+\"/resetcause\", resetcause, retain=True, qos=1)\n",
    "if w is not None:  w.feed()\n",
    "\n",
    "# final measuring flashes loop\n",
    "topicnameticks = boardname+\"/ticks\"\n",
    "topicnametimeout = boardname+\"/timeout\"\n",
    "n, t0 = 0, 0\n",
    "while True:\n",
    "    x = machine.time_pulse_us(pdetector, 0, 10000000)//1000   # 10 second timeout\n",
    "    t = time.ticks_ms()\n",
    "    dt = t - t0\n",
    "    if w is not None:  w.feed()\n",
    "    \n",
    "    print(x, t, n)\n",
    "    if x < 0:\n",
    "        client.publish(topicnametimeout, \"%d %d %d\" % (dt, x, n))\n",
    "        continue\n",
    "        \n",
    "    if x >= 15 and dt >- 15:\n",
    "        client.publish(topicnameticks, \"%d %d %d\" % (dt, x, n))\n",
    "        t0 = t\n",
    "        n += 1\n",
    "        pled.value(n%2) \n",
    "\n"
   ]
  },
  {
   "cell_type": "markdown",
   "metadata": {},
   "source": []
  },
  {
   "cell_type": "code",
   "execution_count": 13,
   "metadata": {},
   "outputs": [
    {
     "name": "stdout",
     "output_type": "stream",
     "text": [
      "\u001b[34mConnecting to --port=/dev/ttyUSB5 --baud=115200 \u001b[0m\n",
      "\u001b[34mReady.\n",
      "\u001b[0m"
     ]
    }
   ],
   "source": [
    "%serialconnect"
   ]
  },
  {
   "cell_type": "code",
   "execution_count": 21,
   "metadata": {},
   "outputs": [],
   "source": []
  },
  {
   "cell_type": "code",
   "execution_count": null,
   "metadata": {},
   "outputs": [],
   "source": []
  },
  {
   "cell_type": "code",
   "execution_count": null,
   "metadata": {},
   "outputs": [],
   "source": []
  }
 ],
 "metadata": {
  "kernelspec": {
   "display_name": "MicroPython - USB",
   "language": "micropython",
   "name": "micropython"
  },
  "language_info": {
   "codemirror_mode": "python",
   "file_extension": ".py",
   "mimetype": "text/python",
   "name": "micropython"
  }
 },
 "nbformat": 4,
 "nbformat_minor": 2
}
