{
 "cells": [
  {
   "cell_type": "code",
   "execution_count": null,
   "metadata": {},
   "outputs": [],
   "source": [
    "# In pursuit of issue\n",
    "# https://github.com/micropython/micropython/issues/4212#issuecomment-601505389"
   ]
  },
  {
   "cell_type": "code",
   "execution_count": 2,
   "metadata": {},
   "outputs": [
    {
     "data": {
      "text/plain": [
       "255.99999994039536"
      ]
     },
     "execution_count": 2,
     "metadata": {},
     "output_type": "execute_result"
    }
   ],
   "source": [
    "0xFFFFFFFF/(0x42460000 - 0x41460000)\n",
    "256*13"
   ]
  },
  {
   "cell_type": "code",
   "execution_count": 140,
   "metadata": {},
   "outputs": [
    {
     "data": {
      "text/plain": [
       "'0x41460000'"
      ]
     },
     "execution_count": 140,
     "metadata": {},
     "output_type": "execute_result"
    }
   ],
   "source": [
    "import struct\n",
    "hex(struct.unpack(\"I\", struct.pack(\"f\", 12.375))[0])"
   ]
  },
  {
   "cell_type": "code",
   "execution_count": 6,
   "metadata": {},
   "outputs": [
    {
     "data": {
      "text/plain": [
       "(25.0,)"
      ]
     },
     "execution_count": 6,
     "metadata": {},
     "output_type": "execute_result"
    }
   ],
   "source": [
    "struct.unpack(\"f\", struct.pack(\"I\", 0x41C80000))"
   ]
  },
  {
   "cell_type": "code",
   "execution_count": 81,
   "metadata": {},
   "outputs": [
    {
     "data": {
      "text/plain": [
       "-25.0"
      ]
     },
     "execution_count": 81,
     "metadata": {},
     "output_type": "execute_result"
    }
   ],
   "source": [
    "import math\n",
    "def conv(x):\n",
    "    sign = (x&0x80000000)\n",
    "    e = ((x&0x7f800000)>>23)\n",
    "    if e == 255:\n",
    "        return math.nan\n",
    "    if e == 0:\n",
    "        exp = -126\n",
    "        mantissa = (x&0x007FFFFF)\n",
    "    else:\n",
    "        exp = e - 127\n",
    "        mantissa = (x&0x007FFFFF)|0x00800000\n",
    "    r = mantissa*2**(exp-23)\n",
    "    if sign:\n",
    "        r = -r\n",
    "    return r\n",
    "\n",
    "x = 0xc1C80000\n",
    "conv(x)"
   ]
  },
  {
   "cell_type": "code",
   "execution_count": 119,
   "metadata": {},
   "outputs": [],
   "source": [
    "import random\n",
    "n = 10000\n",
    "sample =[ random.randint(0,0xFFFFFFFF)  for i in range(n) ]\n",
    "for j, i in enumerate(sample):\n",
    "    f = struct.unpack(\"f\", struct.pack(\"I\", i))[0]\n",
    "    g = conv(i)\n",
    "    assert f == g or (math.isnan(f) and math.isnan(g)), (f,g,j)"
   ]
  },
  {
   "cell_type": "code",
   "execution_count": 120,
   "metadata": {},
   "outputs": [
    {
     "data": {
      "text/plain": [
       "(2238002944.0, 2238002944)"
      ]
     },
     "execution_count": 120,
     "metadata": {},
     "output_type": "execute_result"
    }
   ],
   "source": [
    "f, g"
   ]
  },
  {
   "cell_type": "code",
   "execution_count": null,
   "metadata": {},
   "outputs": [],
   "source": []
  },
  {
   "cell_type": "code",
   "execution_count": 59,
   "metadata": {},
   "outputs": [
    {
     "name": "stdout",
     "output_type": "stream",
     "text": [
      "0xc60000\n",
      "6291456\n"
     ]
    },
    {
     "data": {
      "text/plain": [
       "['3', '7', '5']"
      ]
     },
     "execution_count": 59,
     "metadata": {},
     "output_type": "execute_result"
    }
   ],
   "source": [
    "x = 0x41460000\n",
    "e = ((x&0x7f800000)>>23)\n",
    "exp = e - 126\n",
    "mantissa = (x&0x007FFFFF)|0x00800000\n",
    "print(hex(mantissa))\n",
    "# mantissa must have top byte free\n",
    "assert mantissa & 0xFF000000 == 0\n",
    "\n",
    "# fractional part\n",
    "if exp > 0:\n",
    "    fmant = (mantissa << exp) & 0x00FFFFFF\n",
    "else:\n",
    "    fmant = mantissa\n",
    "print(fmant)\n",
    "fser = [ ]\n",
    "while fmant != 0:\n",
    "    fmant *= 10\n",
    "    #if exp < 0:\n",
    "    #    while fmant & 1\n",
    "    fser.append(chr(ord('0')+(fmant>>24)))\n",
    "    fmant &= 0x00FFFFFF\n",
    "fser\n",
    "    \n",
    "    \n",
    "\n",
    "#imant = mantissa>>(24-exp)\n",
    "#fmant = (mantissa<<(8+exp))&0xFFFFFFFF\n",
    "#fmant\n",
    "\n"
   ]
  },
  {
   "cell_type": "code",
   "execution_count": 58,
   "metadata": {},
   "outputs": [
    {
     "data": {
      "text/plain": [
       "'0x600000'"
      ]
     },
     "execution_count": 58,
     "metadata": {},
     "output_type": "execute_result"
    }
   ],
   "source": [
    "hex(6291456)"
   ]
  },
  {
   "cell_type": "code",
   "execution_count": 64,
   "metadata": {},
   "outputs": [
    {
     "data": {
      "text/plain": [
       "'0.375000059604644775390625'"
      ]
     },
     "execution_count": 64,
     "metadata": {},
     "output_type": "execute_result"
    }
   ],
   "source": [
    "def decdig(d):\n",
    "    assert 0 <= d <= 9\n",
    "    return chr(ord('0')+d)\n",
    "\n",
    "def fracseries(fmant24, exp):\n",
    "    fser = [ \"0\", \".\" ]\n",
    "    while fmant24 != 0:\n",
    "        fmant24 *= 10\n",
    "        #if exp < 0:\n",
    "        #    while fmant24 & 1\n",
    "        fser.append(decdig(fmant24>>24))\n",
    "        fmant24 &= 0x00FFFFFF\n",
    "    return \"\".join(fser)\n",
    "\n",
    "fracseries(0x00600001, 0)\n"
   ]
  },
  {
   "cell_type": "code",
   "execution_count": 69,
   "metadata": {},
   "outputs": [
    {
     "data": {
      "text/plain": [
       "0.3750000596046448"
      ]
     },
     "execution_count": 69,
     "metadata": {},
     "output_type": "execute_result"
    }
   ],
   "source": [
    "0.375000059604644775390625"
   ]
  },
  {
   "cell_type": "code",
   "execution_count": 78,
   "metadata": {},
   "outputs": [
    {
     "data": {
      "text/plain": [
       "'0x3ec00002'"
      ]
     },
     "execution_count": 78,
     "metadata": {},
     "output_type": "execute_result"
    }
   ],
   "source": [
    "import struct\n",
    "hex(struct.unpack(\"I\", struct.pack(\"f\", 0.37500005))[0])"
   ]
  },
  {
   "cell_type": "code",
   "execution_count": 146,
   "metadata": {},
   "outputs": [
    {
     "data": {
      "text/plain": [
       "0.375"
      ]
     },
     "execution_count": 146,
     "metadata": {},
     "output_type": "execute_result"
    }
   ],
   "source": [
    "sum((0.5)**(y+1)  for y in range(32)  if fmant&(0x80000000>>y))\n"
   ]
  },
  {
   "cell_type": "code",
   "execution_count": 51,
   "metadata": {},
   "outputs": [
    {
     "name": "stdout",
     "output_type": "stream",
     "text": [
      "3\n",
      "7\n",
      "5\n",
      "0\n"
     ]
    }
   ],
   "source": [
    "s = fmant>>4\n",
    "for i in range(4):\n",
    "    s *= 10\n",
    "    print(s>>28)\n",
    "    s &= 0x0FFFFFFF\n"
   ]
  },
  {
   "cell_type": "code",
   "execution_count": 160,
   "metadata": {},
   "outputs": [
    {
     "data": {
      "text/plain": [
       "145.1123"
      ]
     },
     "execution_count": 160,
     "metadata": {},
     "output_type": "execute_result"
    }
   ],
   "source": [
    "fval = 145.1123\n",
    "fval"
   ]
  },
  {
   "cell_type": "code",
   "execution_count": null,
   "metadata": {},
   "outputs": [],
   "source": [
    "# Work out a C-code jupyter notebook!!!"
   ]
  },
  {
   "cell_type": "code",
   "execution_count": 172,
   "metadata": {},
   "outputs": [
    {
     "data": {
      "text/plain": [
       "('1.4511229e2', 145.11229)"
      ]
     },
     "execution_count": 172,
     "metadata": {},
     "output_type": "execute_result"
    }
   ],
   "source": [
    "#####  Work out printing scientific printing formatfloat.c code first\n",
    "fval = 145.1123\n",
    "fvalexp10 = 0\n",
    "while fval >= 10.0:\n",
    "    fval *= 0.1\n",
    "    fvalexp10 += 1\n",
    "while fval <= 1.0:\n",
    "    fval = 10.0\n",
    "    fvalexp10 -= 1\n",
    "#hex(struct.unpack(\"I\", struct.pack(\"f\", 0.37500005))[0])\n",
    "fval, fvalexp10\n",
    "\n",
    "ifval = struct.unpack(\"I\", struct.pack(\"f\", fval))[0]\n",
    "e = ((ifval&0x7f800000)>>23)\n",
    "exp = e - 126\n",
    "assert exp > 0\n",
    "mantissa = (ifval&0x007FFFFF)|0x00800000\n",
    "imant = ((mantissa << exp) & 0xFF000000) >> 24\n",
    "fmant = (mantissa << exp) & 0x00FFFFFF\n",
    "\n",
    "fser = [ chr(ord('0')+imant), \".\"]\n",
    "for i in range(7):\n",
    "    fmant *= 10\n",
    "    fser.append(chr(ord('0')+(fmant>>24)))\n",
    "    fmant &= 0x00FFFFFF\n",
    "fser.append(\"e\")\n",
    "fser.append(\"%d\"%(fvalexp10))\n",
    "s = \"\".join(fser)\n",
    "s, float(s)\n",
    "\n"
   ]
  },
  {
   "cell_type": "code",
   "execution_count": 164,
   "metadata": {},
   "outputs": [
    {
     "data": {
      "text/plain": [
       "'-1.235000e-02'"
      ]
     },
     "execution_count": 164,
     "metadata": {},
     "output_type": "execute_result"
    }
   ],
   "source": [
    "\"%e\" % -0.01235"
   ]
  },
  {
   "cell_type": "code",
   "execution_count": null,
   "metadata": {},
   "outputs": [],
   "source": []
  },
  {
   "cell_type": "code",
   "execution_count": null,
   "metadata": {},
   "outputs": [],
   "source": []
  },
  {
   "cell_type": "code",
   "execution_count": null,
   "metadata": {},
   "outputs": [],
   "source": []
  },
  {
   "cell_type": "code",
   "execution_count": null,
   "metadata": {},
   "outputs": [],
   "source": []
  },
  {
   "cell_type": "code",
   "execution_count": 8,
   "metadata": {},
   "outputs": [
    {
     "data": {
      "text/plain": [
       "array([0, 1, 2, 3, 4, 5, 6, 7, 8, 9])"
      ]
     },
     "execution_count": 8,
     "metadata": {},
     "output_type": "execute_result"
    }
   ],
   "source": [
    "import numpy\n",
    "numpy.arange(0, 10, 1)"
   ]
  },
  {
   "cell_type": "code",
   "execution_count": 46,
   "metadata": {},
   "outputs": [
    {
     "data": {
      "text/plain": [
       "4096"
      ]
     },
     "execution_count": 46,
     "metadata": {},
     "output_type": "execute_result"
    }
   ],
   "source": [
    "nbits = 12\n",
    "binseries = [ 0.5**(y+1)  for y in range(nbits) ]\n",
    "bitseries = [ 1<<(nbits-y-1)  for y in range(nbits)]\n",
    "#bitseries = [ 1<<(y)  for y in range(nbits)]\n",
    "fracs = numpy.zeros(2**nbits)\n",
    "for i in range(len(fracs)):\n",
    "    fracs[i] = sum(binseries[y]  for y in range(nbits)  if i & bitseries[y])\n",
    "len(fracs)\n"
   ]
  },
  {
   "cell_type": "code",
   "execution_count": 47,
   "metadata": {},
   "outputs": [
    {
     "data": {
      "text/plain": [
       "array([0, 0, 0, ..., 9, 9, 9])"
      ]
     },
     "execution_count": 47,
     "metadata": {},
     "output_type": "execute_result"
    }
   ],
   "source": [
    "d0 = ((fracs*10).astype(int))\n",
    "d1 = numpy.mod((fracs*100).astype(int), 10)\n",
    "d2 = numpy.mod((fracs*1000).astype(int), 10)\n",
    "d1\n"
   ]
  },
  {
   "cell_type": "code",
   "execution_count": 48,
   "metadata": {},
   "outputs": [
    {
     "data": {
      "text/plain": [
       "[<matplotlib.lines.Line2D at 0x7f873a4cc650>]"
      ]
     },
     "execution_count": 48,
     "metadata": {},
     "output_type": "execute_result"
    },
    {
     "data": {
      "image/png": "[encoded data removed]",
      "text/plain": [
       "<Figure size 432x288 with 1 Axes>"
      ]
     },
     "metadata": {
      "needs_background": "light"
     },
     "output_type": "display_data"
    }
   ],
   "source": [
    "from matplotlib import pyplot\n",
    "plt.plot(d1)"
   ]
  },
  {
   "cell_type": "code",
   "execution_count": 38,
   "metadata": {},
   "outputs": [
    {
     "data": {
      "text/plain": [
       "array([410, 410, 409, 410, 409, 410, 410, 409, 410])"
      ]
     },
     "execution_count": 38,
     "metadata": {},
     "output_type": "execute_result"
    }
   ],
   "source": [
    "s0 = d0[1:] - d0[:-1]\n",
    "t0 = [ i+1  for i in range(len(s0))  if s0[i] ]\n",
    "t0 = numpy.array([0]+t0)\n",
    "t0[1:] - t0[:-1]\n"
   ]
  },
  {
   "cell_type": "code",
   "execution_count": 39,
   "metadata": {},
   "outputs": [
    {
     "data": {
      "text/plain": [
       "array([41, 41, 41, 41, 41, 41, 41, 41, 41, 41, 41, 41, 41, 41, 41, 41, 41,\n",
       "       41, 41, 41, 41, 41, 41, 41, 40, 41, 41, 41, 41, 41, 41, 41, 41, 41,\n",
       "       41, 41, 41, 41, 41, 41, 41, 41, 41, 41, 41, 41, 41, 41, 41, 40, 41,\n",
       "       41, 41, 41, 41, 41, 41, 41, 41, 41, 41, 41, 41, 41, 41, 41, 41, 41,\n",
       "       41, 41, 41, 41, 41, 41, 40, 41, 41, 41, 41, 41, 41, 41, 41, 41, 41,\n",
       "       41, 41, 41, 41, 41, 41, 41, 41, 41, 41, 41, 41, 41, 41])"
      ]
     },
     "execution_count": 39,
     "metadata": {},
     "output_type": "execute_result"
    }
   ],
   "source": [
    "s1 = d1[1:] - d1[:-1]\n",
    "t1 = [ i+1  for i in range(len(s1))  if s1[i] ]\n",
    "t1 = numpy.array([0]+t1)\n",
    "t1[1:] - t1[:-1]"
   ]
  },
  {
   "cell_type": "code",
   "execution_count": null,
   "metadata": {},
   "outputs": [],
   "source": []
  }
 ],
 "metadata": {
  "kernelspec": {
   "display_name": "Python 3",
   "language": "python",
   "name": "python3"
  },
  "language_info": {
   "codemirror_mode": {
    "name": "ipython",
    "version": 3
   },
   "file_extension": ".py",
   "mimetype": "text/x-python",
   "name": "python",
   "nbconvert_exporter": "python",
   "pygments_lexer": "ipython3",
   "version": "3.7.4"
  }
 },
 "nbformat": 4,
 "nbformat_minor": 2
}
