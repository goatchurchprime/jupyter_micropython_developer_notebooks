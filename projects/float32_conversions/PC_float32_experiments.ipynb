{
 "cells": [
  {
   "cell_type": "code",
   "execution_count": 3,
   "metadata": {},
   "outputs": [
    {
     "ename": "TypeError",
     "evalue": "<lambda>() takes 3 positional arguments but 4 were given",
     "output_type": "error",
     "traceback": [
      "\u001b[0;31m---------------------------------------------------------------------------\u001b[0m",
      "\u001b[0;31mTypeError\u001b[0m                                 Traceback (most recent call last)",
      "\u001b[0;32m<ipython-input-3-b174dcbb637d>\u001b[0m in \u001b[0;36m<module>\u001b[0;34m\u001b[0m\n\u001b[1;32m     37\u001b[0m              \u001b[0minitial_conditions\u001b[0m\u001b[0;34m=\u001b[0m\u001b[0;34m{\u001b[0m\u001b[0mx\u001b[0m\u001b[0;34m:\u001b[0m\u001b[0;36m0.\u001b[0m\u001b[0;34m,\u001b[0m \u001b[0mxv\u001b[0m\u001b[0;34m:\u001b[0m\u001b[0;36m10.\u001b[0m\u001b[0;34m}\u001b[0m\u001b[0;34m,\u001b[0m\u001b[0;34m\u001b[0m\u001b[0;34m\u001b[0m\u001b[0m\n\u001b[1;32m     38\u001b[0m              times=np.linspace(0.0, 6, 60))\n\u001b[0;32m---> 39\u001b[0;31m \u001b[0my1\u001b[0m \u001b[0;34m=\u001b[0m \u001b[0msys\u001b[0m\u001b[0;34m.\u001b[0m\u001b[0mintegrate\u001b[0m\u001b[0;34m(\u001b[0m\u001b[0;34m)\u001b[0m\u001b[0;34m\u001b[0m\u001b[0;34m\u001b[0m\u001b[0m\n\u001b[0m\u001b[1;32m     40\u001b[0m \u001b[0my1\u001b[0m\u001b[0;34m.\u001b[0m\u001b[0mshape\u001b[0m\u001b[0;34m\u001b[0m\u001b[0;34m\u001b[0m\u001b[0m\n",
      "\u001b[0;32m~/anaconda3/lib/python3.7/site-packages/pydy/system.py\u001b[0m in \u001b[0;36mintegrate\u001b[0;34m(self)\u001b[0m\n\u001b[1;32m    538\u001b[0m             \u001b[0minitial_conditions_in_proper_order\u001b[0m\u001b[0;34m,\u001b[0m\u001b[0;34m\u001b[0m\u001b[0;34m\u001b[0m\u001b[0m\n\u001b[1;32m    539\u001b[0m             \u001b[0mself\u001b[0m\u001b[0;34m.\u001b[0m\u001b[0mtimes\u001b[0m\u001b[0;34m,\u001b[0m\u001b[0;34m\u001b[0m\u001b[0;34m\u001b[0m\u001b[0m\n\u001b[0;32m--> 540\u001b[0;31m             args=args)\n\u001b[0m\u001b[1;32m    541\u001b[0m \u001b[0;34m\u001b[0m\u001b[0m\n\u001b[1;32m    542\u001b[0m         \u001b[0;32mreturn\u001b[0m \u001b[0mx_history\u001b[0m\u001b[0;34m\u001b[0m\u001b[0;34m\u001b[0m\u001b[0m\n",
      "\u001b[0;32m~/anaconda3/lib/python3.7/site-packages/scipy/integrate/odepack.py\u001b[0m in \u001b[0;36modeint\u001b[0;34m(func, y0, t, args, Dfun, col_deriv, full_output, ml, mu, rtol, atol, tcrit, h0, hmax, hmin, ixpr, mxstep, mxhnil, mxordn, mxords, printmessg, tfirst)\u001b[0m\n\u001b[1;32m    242\u001b[0m                              \u001b[0mfull_output\u001b[0m\u001b[0;34m,\u001b[0m \u001b[0mrtol\u001b[0m\u001b[0;34m,\u001b[0m \u001b[0matol\u001b[0m\u001b[0;34m,\u001b[0m \u001b[0mtcrit\u001b[0m\u001b[0;34m,\u001b[0m \u001b[0mh0\u001b[0m\u001b[0;34m,\u001b[0m \u001b[0mhmax\u001b[0m\u001b[0;34m,\u001b[0m \u001b[0mhmin\u001b[0m\u001b[0;34m,\u001b[0m\u001b[0;34m\u001b[0m\u001b[0;34m\u001b[0m\u001b[0m\n\u001b[1;32m    243\u001b[0m                              \u001b[0mixpr\u001b[0m\u001b[0;34m,\u001b[0m \u001b[0mmxstep\u001b[0m\u001b[0;34m,\u001b[0m \u001b[0mmxhnil\u001b[0m\u001b[0;34m,\u001b[0m \u001b[0mmxordn\u001b[0m\u001b[0;34m,\u001b[0m \u001b[0mmxords\u001b[0m\u001b[0;34m,\u001b[0m\u001b[0;34m\u001b[0m\u001b[0;34m\u001b[0m\u001b[0m\n\u001b[0;32m--> 244\u001b[0;31m                              int(bool(tfirst)))\n\u001b[0m\u001b[1;32m    245\u001b[0m     \u001b[0;32mif\u001b[0m \u001b[0moutput\u001b[0m\u001b[0;34m[\u001b[0m\u001b[0;34m-\u001b[0m\u001b[0;36m1\u001b[0m\u001b[0;34m]\u001b[0m \u001b[0;34m<\u001b[0m \u001b[0;36m0\u001b[0m\u001b[0;34m:\u001b[0m\u001b[0;34m\u001b[0m\u001b[0;34m\u001b[0m\u001b[0m\n\u001b[1;32m    246\u001b[0m         \u001b[0mwarning_msg\u001b[0m \u001b[0;34m=\u001b[0m \u001b[0m_msgs\u001b[0m\u001b[0;34m[\u001b[0m\u001b[0moutput\u001b[0m\u001b[0;34m[\u001b[0m\u001b[0;34m-\u001b[0m\u001b[0;36m1\u001b[0m\u001b[0;34m]\u001b[0m\u001b[0;34m]\u001b[0m \u001b[0;34m+\u001b[0m \u001b[0;34m\" Run with full_output = 1 to get quantitative information.\"\u001b[0m\u001b[0;34m\u001b[0m\u001b[0;34m\u001b[0m\u001b[0m\n",
      "\u001b[0;32m~/anaconda3/lib/python3.7/site-packages/pydy/codegen/ode_function_generators.py\u001b[0m in \u001b[0;36mrhs\u001b[0;34m(*args)\u001b[0m\n\u001b[1;32m    483\u001b[0m                     \u001b[0mxdot\u001b[0m \u001b[0;34m=\u001b[0m \u001b[0mself\u001b[0m\u001b[0;34m.\u001b[0m\u001b[0m_base_rhs\u001b[0m\u001b[0;34m(\u001b[0m\u001b[0mq\u001b[0m\u001b[0;34m,\u001b[0m \u001b[0mu\u001b[0m\u001b[0;34m,\u001b[0m \u001b[0;34m*\u001b[0m\u001b[0margs\u001b[0m\u001b[0;34m[\u001b[0m\u001b[0;36m2\u001b[0m\u001b[0;34m:\u001b[0m\u001b[0;34m]\u001b[0m\u001b[0;34m)\u001b[0m\u001b[0;34m\u001b[0m\u001b[0;34m\u001b[0m\u001b[0m\n\u001b[1;32m    484\u001b[0m                 \u001b[0;32melse\u001b[0m\u001b[0;34m:\u001b[0m\u001b[0;34m\u001b[0m\u001b[0;34m\u001b[0m\u001b[0m\n\u001b[0;32m--> 485\u001b[0;31m                     \u001b[0mxdot\u001b[0m \u001b[0;34m=\u001b[0m \u001b[0mself\u001b[0m\u001b[0;34m.\u001b[0m\u001b[0m_base_rhs\u001b[0m\u001b[0;34m(\u001b[0m\u001b[0mq\u001b[0m\u001b[0;34m,\u001b[0m \u001b[0mu\u001b[0m\u001b[0;34m,\u001b[0m \u001b[0;34m*\u001b[0m\u001b[0;34m(\u001b[0m\u001b[0margs\u001b[0m\u001b[0;34m[\u001b[0m\u001b[0;36m2\u001b[0m\u001b[0;34m:\u001b[0m\u001b[0;36m3\u001b[0m\u001b[0;34m]\u001b[0m \u001b[0;34m+\u001b[0m \u001b[0;34m(\u001b[0m\u001b[0;34m[\u001b[0m\u001b[0;34m]\u001b[0m\u001b[0;34m,\u001b[0m\u001b[0;34m)\u001b[0m\u001b[0;34m)\u001b[0m\u001b[0;34m)\u001b[0m\u001b[0;34m\u001b[0m\u001b[0;34m\u001b[0m\u001b[0m\n\u001b[0m\u001b[1;32m    486\u001b[0m                 \u001b[0;32mreturn\u001b[0m \u001b[0mxdot\u001b[0m\u001b[0;34m\u001b[0m\u001b[0;34m\u001b[0m\u001b[0m\n\u001b[1;32m    487\u001b[0m \u001b[0;34m\u001b[0m\u001b[0m\n",
      "\u001b[0;32m~/anaconda3/lib/python3.7/site-packages/pydy/codegen/ode_function_generators.py\u001b[0m in \u001b[0;36mbase_rhs\u001b[0;34m(*args)\u001b[0m\n\u001b[1;32m    544\u001b[0m             \u001b[0;32mdef\u001b[0m \u001b[0mbase_rhs\u001b[0m\u001b[0;34m(\u001b[0m\u001b[0;34m*\u001b[0m\u001b[0margs\u001b[0m\u001b[0;34m)\u001b[0m\u001b[0;34m:\u001b[0m\u001b[0;34m\u001b[0m\u001b[0;34m\u001b[0m\u001b[0m\n\u001b[1;32m    545\u001b[0m \u001b[0;34m\u001b[0m\u001b[0m\n\u001b[0;32m--> 546\u001b[0;31m                 \u001b[0mM\u001b[0m\u001b[0;34m,\u001b[0m \u001b[0mF\u001b[0m \u001b[0;34m=\u001b[0m \u001b[0mself\u001b[0m\u001b[0;34m.\u001b[0m\u001b[0meval_arrays\u001b[0m\u001b[0;34m(\u001b[0m\u001b[0;34m*\u001b[0m\u001b[0margs\u001b[0m\u001b[0;34m)\u001b[0m\u001b[0;34m\u001b[0m\u001b[0;34m\u001b[0m\u001b[0m\n\u001b[0m\u001b[1;32m    547\u001b[0m                 \u001b[0;32mreturn\u001b[0m \u001b[0mself\u001b[0m\u001b[0;34m.\u001b[0m\u001b[0m_solve_linear_system\u001b[0m\u001b[0;34m(\u001b[0m\u001b[0mM\u001b[0m\u001b[0;34m,\u001b[0m \u001b[0mF\u001b[0m\u001b[0;34m)\u001b[0m\u001b[0;34m\u001b[0m\u001b[0;34m\u001b[0m\u001b[0m\n\u001b[1;32m    548\u001b[0m \u001b[0;34m\u001b[0m\u001b[0m\n",
      "\u001b[0;31mTypeError\u001b[0m: <lambda>() takes 3 positional arguments but 4 were given"
     ]
    }
   ],
   "source": [
    "import sympy as sp\n",
    "import sympy.physics.mechanics as me\n",
    "from pydy.system import System\n",
    "import numpy as np\n",
    "\n",
    "f = sp.Symbol('f')\n",
    "f = 3.  # <----- uncomment this line and get:\n",
    "# !!! TypeError: <lambda>() takes 3 positional arguments but 4 were given\n",
    "\n",
    "t = sp.Symbol('t')\n",
    "x, xv = me.dynamicsymbols('x xv')\n",
    "xd = me.dynamicsymbols('x', 1)\n",
    "\n",
    "BaseFrame = me.ReferenceFrame('BaseFrame')\n",
    "RodFrame = BaseFrame.orientnew('RodFrame', 'Axis', [0, BaseFrame.z])\n",
    "RodFrame.set_ang_vel(BaseFrame, 0*BaseFrame.z)\n",
    "\n",
    "origin  = me.Point('origin')\n",
    "rodcentre  = origin.locatenew('rodcentre', x*BaseFrame.x)\n",
    "rodcentre.set_vel(BaseFrame, rodcentre.pos_from(origin).diff(t, BaseFrame))\n",
    "\n",
    "Izz = me.outer(RodFrame.z, RodFrame.z)*10\n",
    "rodbody = me.RigidBody(name=\"rod\", masscenter=rodcentre, \n",
    "                       frame=RodFrame, mass=10, inertia=(Izz, rodcentre))\n",
    "\n",
    "forces = [ (rodcentre, f*RodFrame.x) ]\n",
    "bodies = [ rodbody ]\n",
    "\n",
    "KM = me.KanesMethod(BaseFrame, q_ind=[x], u_ind=[xv], kd_eqs=[ xd - xv ])\n",
    "fr, frstar = KM.kanes_equations(bodies, forces)\n",
    "\n",
    "constants = { }\n",
    "#constants = { f:3 }  # <--- should not work without this uncommented\n",
    "\n",
    "sys = System(KM,\n",
    "             constants=constants,\n",
    "             initial_conditions={x:0., xv:10.},\n",
    "             times=np.linspace(0.0, 6, 60))\n",
    "y1 = sys.integrate()\n",
    "y1.shape"
   ]
  },
  {
   "cell_type": "code",
   "execution_count": 6,
   "metadata": {},
   "outputs": [
    {
     "data": {
      "text/plain": [
       "(Matrix([[3.0]]), Matrix([[-10*Derivative(xv(t), t)]]))"
      ]
     },
     "execution_count": 6,
     "metadata": {},
     "output_type": "execute_result"
    }
   ],
   "source": [
    "fr, frstar"
   ]
  },
  {
   "cell_type": "code",
   "execution_count": 65,
   "metadata": {},
   "outputs": [],
   "source": [
    "d = \"\"\"11,3,4,3\n",
    "11,3,4,3\n",
    "401,117,140,123\n",
    "584,174,204,176\n",
    "584,174,205,176\n",
    "585,174,205,176\n",
    "584,174,204,176\n",
    "144,44,51,43\n",
    "11,3,4,3\n",
    "11,3,4,3\n",
    "11,3,4,3\n",
    "11,3,4,3\n",
    "466,136,163,143\n",
    "585,174,205,176\n",
    "585,174,205,176\n",
    "585,174,205,176\n",
    "584,174,205,176\n",
    "79,24,28,23\n",
    "11,3,4,3\n",
    "11,3,4,3\n",
    "11,3,4,3\n",
    "163,46,57,52\n",
    "580,172,203,175\n",
    "584,174,205,176\n",
    "584,174,205,176\n",
    "585,174,205,176\n",
    "579,172,203,174\n",
    "32,10,11,9\n",
    "10,3,4,3\n",
    "10,3,4,3\n",
    "11,3,4,3\n",
    "11,3,4,3\n",
    "11,3,4,3\n",
    "11,3,4,3\n",
    "11,3,4,3\n",
    "11,3,4,3\n",
    "11,3,4,3\n",
    "11,3,4,3\n",
    "11,3,4,3\n",
    "11,3,4,3\n",
    "11,3,4,3\n",
    "32,21,6,5\n",
    "138,111,14,15\n",
    "140,112,15,15\n",
    "140,112,15,15\n",
    "140,112,15,15\n",
    "140,112,15,15\n",
    "140,113,15,15\n",
    "140,113,15,15\n",
    "140,113,15,15\n",
    "140,113,15,15\n",
    "140,113,15,15\n",
    "144,113,17,16\n",
    "147,114,19,16\n",
    "148,114,19,16\n",
    "148,114,19,17\n",
    "155,115,23,18\n",
    "173,119,33,20\n",
    "173,119,33,20\n",
    "173,119,33,20\n",
    "173,119,33,20\n",
    "173,119,33,20\n",
    "187,122,41,23\n",
    "207,125,52,26\n",
    "208,126,52,26\n",
    "208,126,52,26\n",
    "208,126,52,26\n",
    "242,133,71,32\n",
    "249,134,75,33\n",
    "249,134,75,33\n",
    "249,134,75,33\n",
    "260,136,81,35\n",
    "294,142,99,41\n",
    "294,142,99,41\n",
    "294,143,99,41\n",
    "295,143,100,41\n",
    "295,142,100,41\n",
    "329,149,119,47\n",
    "348,152,129,51\n",
    "348,152,128,50\n",
    "348,152,128,50\n",
    "348,152,129,50\n",
    "397,161,155,59\n",
    "413,165,164,62\n",
    "414,165,164,62\n",
    "414,165,164,62\n",
    "414,165,164,62\n",
    "418,154,175,64\n",
    "418,154,175,64\n",
    "418,154,175,64\n",
    "418,154,175,64\n",
    "418,154,175,64\n",
    "403,141,174,62\n",
    "387,127,173,61\n",
    "387,127,173,61\n",
    "388,127,173,61\n",
    "386,127,173,61\n",
    "364,108,171,58\n",
    "361,106,170,58\n",
    "362,107,170,58\n",
    "362,107,170,58\n",
    "362,107,171,58\n",
    "347,94,169,57\n",
    "338,86,169,56\n",
    "338,86,169,56\n",
    "338,86,168,56\n",
    "336,85,168,56\n",
    "316,68,167,54\n",
    "315,67,167,54\n",
    "314,67,167,53\n",
    "315,67,167,53\n",
    "315,67,167,54\n",
    "306,60,166,52\n",
    "306,60,166,52\n",
    "306,60,166,52\n",
    "306,60,166,52\n",
    "306,60,166,52\n",
    "306,60,166,52\n",
    "306,60,166,52\n",
    "306,60,166,52\n",
    "305,60,166,52\n",
    "306,60,166,52\n",
    "306,60,166,52\n",
    "305,60,166,52\n",
    "305,60,166,52\n",
    "306,60,166,52\n",
    "305,60,166,52\n",
    "306,60,166,52\n",
    "306,60,166,53\n",
    "306,60,166,53\n",
    "306,60,166,53\n",
    "306,60,166,53\n",
    "307,60,166,54\n",
    "310,60,167,55\n",
    "309,60,167,55\n",
    "309,60,166,55\n",
    "309,60,166,55\n",
    "315,60,168,60\n",
    "317,60,168,61\n",
    "317,60,168,61\n",
    "317,60,168,61\n",
    "317,60,168,61\n",
    "327,60,170,68\n",
    "329,60,170,70\n",
    "329,60,170,70\n",
    "329,60,170,70\n",
    "329,60,170,70\n",
    "338,60,172,77\n",
    "345,61,173,82\n",
    "345,61,173,82\n",
    "345,61,173,82\n",
    "345,61,173,82\n",
    "346,61,174,83\n",
    "362,61,176,96\n",
    "363,61,177,96\n",
    "365,61,178,97\n",
    "365,61,177,97\n",
    "374,62,180,103\n",
    "388,62,183,113\n",
    "388,62,183,113\n",
    "388,62,183,113\n",
    "401,63,185,123\n",
    "418,63,188,136\n",
    "418,63,189,136\n",
    "419,63,189,136\n",
    "419,63,189,136\n",
    "419,63,189,136\n",
    "441,64,193,153\n",
    "457,64,196,165\n",
    "457,64,196,166\n",
    "457,64,196,165\n",
    "446,62,190,163\n",
    "397,53,163,155\n",
    "396,52,162,155\n",
    "396,53,162,155\n",
    "396,53,162,155\n",
    "397,53,162,155\n",
    "394,52,161,154\n",
    "336,41,130,144\n",
    "336,41,130,144\n",
    "335,41,129,144\n",
    "335,41,129,144\n",
    "304,35,112,139\n",
    "292,33,105,137\n",
    "292,32,105,137\n",
    "292,33,105,137\n",
    "292,33,105,137\n",
    "285,31,101,136\n",
    "252,25,83,131\n",
    "251,25,82,130\n",
    "251,25,82,130\n",
    "251,25,82,130\n",
    "222,19,67,126\n",
    "216,18,63,125\n",
    "215,18,63,125\n",
    "216,18,63,125\n",
    "210,17,60,124\n",
    "189,13,49,120\n",
    "189,13,48,120\n",
    "189,13,48,120\n",
    "189,13,48,120\n",
    "189,13,48,120\n",
    "170,9,38,117\n",
    "170,9,38,117\n",
    "170,9,38,117\n",
    "170,9,38,118\n",
    "170,9,38,117\n",
    "165,8,35,117\n",
    "163,8,34,116\n",
    "163,8,34,116\n",
    "163,8,34,116\n",
    "163,8,34,116\n",
    "162,7,33,116\n",
    "162,7,33,116\n",
    "162,7,33,116\n",
    "162,7,33,116\n",
    "162,7,33,116\n",
    "162,8,33,116\n",
    "164,9,33,117\n",
    "164,9,33,117\n",
    "164,9,33,117\n",
    "164,9,33,117\n",
    "169,13,34,117\n",
    "175,18,34,118\n",
    "175,18,34,118\n",
    "175,18,34,118\n",
    "175,18,34,118\n",
    "175,18,34,118\n",
    "191,32,35,119\n",
    "191,32,35,119\n",
    "191,32,35,119\n",
    "191,32,35,119\n",
    "192,33,35,119\n",
    "208,47,36,121\n",
    "208,47,36,121\n",
    "208,47,36,121\n",
    "208,47,36,121\n",
    "225,62,37,122\n",
    "229,65,38,123\n",
    "229,65,38,122\n",
    "229,65,38,122\n",
    "229,65,38,122\n",
    "234,69,38,123\n",
    "254,87,39,125\n",
    "254,87,39,125\n",
    "254,87,39,125\n",
    "254,87,39,125\n",
    "273,102,41,127\n",
    "285,112,42,129\n",
    "285,112,42,129\n",
    "285,112,42,129\n",
    "285,112,42,129\n",
    "277,117,40,119\n",
    "277,117,40,118\n",
    "277,117,40,118\n",
    "277,117,40,118\n",
    "277,117,40,118\n",
    "264,117,37,108\n",
    "245,117,34,94\n",
    "245,117,34,94\n",
    "245,117,34,94\n",
    "245,117,34,94\n",
    "223,116,30,77\n",
    "219,116,29,74\n",
    "219,116,29,74\n",
    "219,116,29,74\n",
    "219,116,29,74\n",
    "214,116,28,70\n",
    "197,115,25,58\n",
    "197,115,25,58\n",
    "197,115,25,58\n",
    "197,115,25,58\n",
    "186,115,23,49\n",
    "178,115,22,43\n",
    "178,115,22,43\n",
    "178,115,22,43\n",
    "178,115,22,43\n",
    "168,115,20,35\n",
    "163,115,19,31\n",
    "163,115,19,31\n",
    "163,115,19,31\n",
    "163,115,19,31\n",
    "154,114,17,25\n",
    "151,114,17,22\n",
    "151,114,17,22\n",
    "151,114,17,22\n",
    "150,114,16,22\n",
    "144,114,15,17\n",
    "144,114,15,17\n",
    "143,114,15,17\n",
    "143,114,15,17\n",
    "143,114,15,17\n",
    "143,114,15,16\n",
    "142,114,15,15\n",
    "142,114,15,15\n",
    "142,114,15,15\n",
    "142,114,15,15\n",
    "142,114,15,15\n",
    "142,114,15,15\n",
    "142,114,15,15\n",
    "142,114,15,15\n",
    "142,114,15,15\n",
    "142,114,15,15\n",
    "142,114,15,15\n",
    "142,114,15,15\n",
    "142,114,15,15\n",
    "142,114,15,15\n",
    "142,114,15,15\n",
    "142,114,15,15\n",
    "142,114,15,15\n",
    "142,114,15,15\n",
    "142,114,15,15\n",
    "142,114,15,15\n",
    "142,114,15,15\n",
    "142,114,15,15\n",
    "142,114,15,15\n",
    "142,114,15,15\n",
    "142,114,15,15\n",
    "142,114,15,15\n",
    "142,114,15,15\n",
    "142,114,15,15\n",
    "142,114,15,15\n",
    "142,114,15,15\n",
    "142,114,15,15\n",
    "142,114,15,15\n",
    "142,114,15,15\n",
    "142,114,15,15\n",
    "142,114,15,15\n",
    "142,114,15,15\n",
    "142,114,15,15\n",
    "142,114,15,15\n",
    "142,114,15,15\n",
    "142,114,15,15\n",
    "142,114,15,15\n",
    "142,114,15,15\n",
    "142,114,15,15\n",
    "141,114,15,15\n",
    "141,114,15,15\n",
    "550,170,188,165\n",
    "587,175,206,176\n",
    "591,176,208,177\n",
    "589,176,207,176\n",
    "575,172,202,172\n",
    "533,161,186,158\n",
    "462,141,160,137\n",
    "306,92,105,91\n",
    "173,49,60,51\n",
    "97,26,34,29\n",
    "55,14,20,17\n",
    "68,18,24,20\n",
    "85,24,30,24\n",
    "64,18,22,18\n",
    "62,17,22,18\n",
    "62,17,22,18\n",
    "66,18,23,19\n",
    "67,19,23,19\n",
    "68,19,23,19\n",
    "66,19,23,19\n",
    "66,18,23,19\n",
    "60,17,21,17\n",
    "54,15,19,16\n",
    "50,13,18,15\n",
    "50,14,18,15\n",
    "49,13,17,15\n",
    "49,13,17,14\n",
    "49,13,17,14\n",
    "49,13,17,14\n",
    "48,13,17,14\n",
    "48,13,17,14\n",
    "48,13,17,14\n",
    "48,13,17,14\n",
    "47,13,17,14\n",
    "47,13,17,14\n",
    "47,13,17,14\n",
    "47,13,17,14\n",
    "47,13,17,14\n",
    "47,12,16,14\n",
    "47,12,16,14\n",
    "47,13,17,14\n",
    "47,12,16,14\n",
    "47,12,16,14\n",
    "47,12,16,14\n",
    "47,12,16,14\n",
    "46,12,16,14\n",
    "46,12,16,14\n",
    "46,12,16,14\n",
    "46,12,16,14\n",
    "46,12,16,14\n",
    "46,12,16,14\n",
    "46,12,16,14\n",
    "46,12,16,14\"\"\"\n",
    "\n",
    "x = [list(map(int, l.split(\",\")))  for l in d.split()]\n",
    "c, r, g, b = list(zip(*x))"
   ]
  },
  {
   "cell_type": "code",
   "execution_count": 62,
   "metadata": {},
   "outputs": [
    {
     "data": {
      "text/plain": [
       "[[407, 162, 161, 61],\n",
       " [407, 163, 162, 61],\n",
       " [408, 162, 163, 61],\n",
       " [412, 152, 173, 63],\n",
       " [412, 152, 173, 63],\n",
       " [411, 152, 173, 63]]"
      ]
     },
     "execution_count": 62,
     "metadata": {},
     "output_type": "execute_result"
    }
   ],
   "source": [
    "x[84:90]"
   ]
  },
  {
   "cell_type": "code",
   "execution_count": 66,
   "metadata": {},
   "outputs": [
    {
     "data": {
      "text/plain": [
       "[<matplotlib.lines.Line2D at 0x7f48ff3b46d0>]"
      ]
     },
     "execution_count": 66,
     "metadata": {},
     "output_type": "execute_result"
    },
    {
     "data": {
      "image/png": "[encoded data removed]",
      "text/plain": [
       "<Figure size 432x288 with 1 Axes>"
      ]
     },
     "metadata": {
      "needs_background": "light"
     },
     "output_type": "display_data"
    }
   ],
   "source": [
    "%matplotlib inline\n",
    "from matplotlib import pyplot as plt\n",
    "plt.plot(c)\n",
    "#plt.plot(r)\n",
    "#plt.plot(g)\n",
    "#plt.plot(b)\n",
    "h = [ hue(cr, cg, cb)  for cr, cg, cb in zip(r, g, b) ]\n",
    "plt.plot(h)"
   ]
  },
  {
   "cell_type": "code",
   "execution_count": 64,
   "metadata": {},
   "outputs": [
    {
     "data": {
      "text/plain": [
       "[<matplotlib.lines.Line2D at 0x7f48ff397750>]"
      ]
     },
     "execution_count": 64,
     "metadata": {},
     "output_type": "execute_result"
    },
    {
     "data": {
      "image/png": "[encoded data removed]",
      "text/plain": [
       "<Figure size 432x288 with 1 Axes>"
      ]
     },
     "metadata": {
      "needs_background": "light"
     },
     "output_type": "display_data"
    }
   ],
   "source": [
    "plt.plot(h[50:100])"
   ]
  },
  {
   "cell_type": "code",
   "execution_count": 59,
   "metadata": {},
   "outputs": [],
   "source": [
    "def hue(r, g, b):\n",
    "    try:\n",
    "        if r >= max(g, b):\n",
    "            hue = (g-b)/(r-min(g, b))\n",
    "        elif (g >= max(r, b)):\n",
    "            hue = 2 + (b-r)/(g-min(b, r))\n",
    "        elif (b >= max(r, g)):\n",
    "            hue = 4 + (r-g)/(b-min(r, g))\n",
    "        else:\n",
    "            hue = 0\n",
    "    except ZeroDivisionError:\n",
    "        hue = 0\n",
    "    hue *= 60\n",
    "    if hue < 0:\n",
    "        hue += 360\n",
    "    return hue\n",
    "\n",
    "def hsv_to_rgb(h, s, v):\n",
    "    if s == 0.0: \n",
    "        return (v, v, v)\n",
    "    i = int(h*6) # XXX assume int() truncates!\n",
    "    f = (h*6)-i\n",
    "    p,q,t = v*(1-s), v*(1-s*f), v*(1-s*(1-f))\n",
    "    i %= 6\n",
    "    \n",
    "    if i == 0: return (v, t, p)\n",
    "    if i == 1: return (q, v, p)\n",
    "    if i == 2: return (p, v, t)\n",
    "    if i == 3: return (p, q, v)\n",
    "    if i == 4: return (t, p, v)\n",
    "    if i == 5: return (v, p, q)"
   ]
  },
  {
   "cell_type": "code",
   "execution_count": 50,
   "metadata": {},
   "outputs": [
    {
     "name": "stdout",
     "output_type": "stream",
     "text": [
      "0 0.0\n",
      "50 50.00000000000001\n",
      "100 100.0\n",
      "150 150.0\n",
      "200 200.0\n",
      "250 249.99999999999997\n",
      "300 0\n",
      "350 350.0\n"
     ]
    }
   ],
   "source": [
    "for i in range(0, 360, 50):\n",
    "    r, g, b = hsv_to_rgb(i/360, 0.5, 0.5)\n",
    "    print(i, hue(r, g, b))\n"
   ]
  },
  {
   "cell_type": "code",
   "execution_count": 45,
   "metadata": {},
   "outputs": [
    {
     "name": "stdout",
     "output_type": "stream",
     "text": [
      "FF0000\n",
      "FFBF00\n",
      "7FFF00\n",
      "00FF3F\n",
      "00FFFF\n",
      "003FFF\n",
      "7F00FF\n",
      "FF00BF\n"
     ]
    }
   ],
   "source": [
    "def hsv_to_rgb(h, s, v):\n",
    "    if s == 0.0: \n",
    "        return (v, v, v)\n",
    "    i = int(h*6) # XXX assume int() truncates!\n",
    "    f = (h*6)-i\n",
    "    p,q,t = v*(1-s), v*(1-s*f), v*(1-s*(1-f))\n",
    "    i %= 6\n",
    "    \n",
    "    if i == 0: return (v, t, p)\n",
    "    if i == 1: return (q, v, p)\n",
    "    if i == 2: return (p, v, t)\n",
    "    if i == 3: return (p, q, v)\n",
    "    if i == 4: return (t, p, v)\n",
    "    if i == 5: return (v, p, q)\n",
    "\n",
    "for h in range(0, 360, 45):\n",
    "    print(\"%02X%02X%02X\" % tuple(int(x*255)  for x in hsv_to_rgb(h/360, 1, 1)))\n",
    "    "
   ]
  },
  {
   "cell_type": "code",
   "execution_count": null,
   "metadata": {},
   "outputs": [],
   "source": []
  },
  {
   "cell_type": "code",
   "execution_count": null,
   "metadata": {},
   "outputs": [],
   "source": []
  },
  {
   "cell_type": "code",
   "execution_count": null,
   "metadata": {},
   "outputs": [],
   "source": []
  },
  {
   "cell_type": "code",
   "execution_count": null,
   "metadata": {},
   "outputs": [],
   "source": [
    "# In pursuit of issue\n",
    "# https://github.com/micropython/micropython/issues/4212#issuecomment-601505389"
   ]
  },
  {
   "cell_type": "code",
   "execution_count": 2,
   "metadata": {},
   "outputs": [
    {
     "data": {
      "text/plain": [
       "255.99999994039536"
      ]
     },
     "execution_count": 2,
     "metadata": {},
     "output_type": "execute_result"
    }
   ],
   "source": [
    "0xFFFFFFFF/(0x42460000 - 0x41460000)\n",
    "256*13"
   ]
  },
  {
   "cell_type": "code",
   "execution_count": 140,
   "metadata": {},
   "outputs": [
    {
     "data": {
      "text/plain": [
       "'0x41460000'"
      ]
     },
     "execution_count": 140,
     "metadata": {},
     "output_type": "execute_result"
    }
   ],
   "source": [
    "import struct\n",
    "hex(struct.unpack(\"I\", struct.pack(\"f\", 12.375))[0])"
   ]
  },
  {
   "cell_type": "code",
   "execution_count": 6,
   "metadata": {},
   "outputs": [
    {
     "data": {
      "text/plain": [
       "(25.0,)"
      ]
     },
     "execution_count": 6,
     "metadata": {},
     "output_type": "execute_result"
    }
   ],
   "source": [
    "struct.unpack(\"f\", struct.pack(\"I\", 0x41C80000))"
   ]
  },
  {
   "cell_type": "code",
   "execution_count": 81,
   "metadata": {},
   "outputs": [
    {
     "data": {
      "text/plain": [
       "-25.0"
      ]
     },
     "execution_count": 81,
     "metadata": {},
     "output_type": "execute_result"
    }
   ],
   "source": [
    "import math\n",
    "def conv(x):\n",
    "    sign = (x&0x80000000)\n",
    "    e = ((x&0x7f800000)>>23)\n",
    "    if e == 255:\n",
    "        return math.nan\n",
    "    if e == 0:\n",
    "        exp = -126\n",
    "        mantissa = (x&0x007FFFFF)\n",
    "    else:\n",
    "        exp = e - 127\n",
    "        mantissa = (x&0x007FFFFF)|0x00800000\n",
    "    r = mantissa*2**(exp-23)\n",
    "    if sign:\n",
    "        r = -r\n",
    "    return r\n",
    "\n",
    "x = 0xc1C80000\n",
    "conv(x)"
   ]
  },
  {
   "cell_type": "code",
   "execution_count": 119,
   "metadata": {},
   "outputs": [],
   "source": [
    "import random\n",
    "n = 10000\n",
    "sample =[ random.randint(0,0xFFFFFFFF)  for i in range(n) ]\n",
    "for j, i in enumerate(sample):\n",
    "    f = struct.unpack(\"f\", struct.pack(\"I\", i))[0]\n",
    "    g = conv(i)\n",
    "    assert f == g or (math.isnan(f) and math.isnan(g)), (f,g,j)"
   ]
  },
  {
   "cell_type": "code",
   "execution_count": 120,
   "metadata": {},
   "outputs": [
    {
     "data": {
      "text/plain": [
       "(2238002944.0, 2238002944)"
      ]
     },
     "execution_count": 120,
     "metadata": {},
     "output_type": "execute_result"
    }
   ],
   "source": [
    "f, g"
   ]
  },
  {
   "cell_type": "code",
   "execution_count": null,
   "metadata": {},
   "outputs": [],
   "source": []
  },
  {
   "cell_type": "code",
   "execution_count": 59,
   "metadata": {},
   "outputs": [
    {
     "name": "stdout",
     "output_type": "stream",
     "text": [
      "0xc60000\n",
      "6291456\n"
     ]
    },
    {
     "data": {
      "text/plain": [
       "['3', '7', '5']"
      ]
     },
     "execution_count": 59,
     "metadata": {},
     "output_type": "execute_result"
    }
   ],
   "source": [
    "x = 0x41460000\n",
    "e = ((x&0x7f800000)>>23)\n",
    "exp = e - 126\n",
    "mantissa = (x&0x007FFFFF)|0x00800000\n",
    "print(hex(mantissa))\n",
    "# mantissa must have top byte free\n",
    "assert mantissa & 0xFF000000 == 0\n",
    "\n",
    "# fractional part\n",
    "if exp > 0:\n",
    "    fmant = (mantissa << exp) & 0x00FFFFFF\n",
    "else:\n",
    "    fmant = mantissa\n",
    "print(fmant)\n",
    "fser = [ ]\n",
    "while fmant != 0:\n",
    "    fmant *= 10\n",
    "    #if exp < 0:\n",
    "    #    while fmant & 1\n",
    "    fser.append(chr(ord('0')+(fmant>>24)))\n",
    "    fmant &= 0x00FFFFFF\n",
    "fser\n",
    "    \n",
    "    \n",
    "\n",
    "#imant = mantissa>>(24-exp)\n",
    "#fmant = (mantissa<<(8+exp))&0xFFFFFFFF\n",
    "#fmant\n",
    "\n"
   ]
  },
  {
   "cell_type": "code",
   "execution_count": 58,
   "metadata": {},
   "outputs": [
    {
     "data": {
      "text/plain": [
       "'0x600000'"
      ]
     },
     "execution_count": 58,
     "metadata": {},
     "output_type": "execute_result"
    }
   ],
   "source": [
    "hex(6291456)"
   ]
  },
  {
   "cell_type": "code",
   "execution_count": 64,
   "metadata": {},
   "outputs": [
    {
     "data": {
      "text/plain": [
       "'0.375000059604644775390625'"
      ]
     },
     "execution_count": 64,
     "metadata": {},
     "output_type": "execute_result"
    }
   ],
   "source": [
    "def decdig(d):\n",
    "    assert 0 <= d <= 9\n",
    "    return chr(ord('0')+d)\n",
    "\n",
    "def fracseries(fmant24, exp):\n",
    "    fser = [ \"0\", \".\" ]\n",
    "    while fmant24 != 0:\n",
    "        fmant24 *= 10\n",
    "        #if exp < 0:\n",
    "        #    while fmant24 & 1\n",
    "        fser.append(decdig(fmant24>>24))\n",
    "        fmant24 &= 0x00FFFFFF\n",
    "    return \"\".join(fser)\n",
    "\n",
    "fracseries(0x00600001, 0)\n"
   ]
  },
  {
   "cell_type": "code",
   "execution_count": 69,
   "metadata": {},
   "outputs": [
    {
     "data": {
      "text/plain": [
       "0.3750000596046448"
      ]
     },
     "execution_count": 69,
     "metadata": {},
     "output_type": "execute_result"
    }
   ],
   "source": [
    "0.375000059604644775390625"
   ]
  },
  {
   "cell_type": "code",
   "execution_count": 78,
   "metadata": {},
   "outputs": [
    {
     "data": {
      "text/plain": [
       "'0x3ec00002'"
      ]
     },
     "execution_count": 78,
     "metadata": {},
     "output_type": "execute_result"
    }
   ],
   "source": [
    "import struct\n",
    "hex(struct.unpack(\"I\", struct.pack(\"f\", 0.37500005))[0])"
   ]
  },
  {
   "cell_type": "code",
   "execution_count": 146,
   "metadata": {},
   "outputs": [
    {
     "data": {
      "text/plain": [
       "0.375"
      ]
     },
     "execution_count": 146,
     "metadata": {},
     "output_type": "execute_result"
    }
   ],
   "source": [
    "sum((0.5)**(y+1)  for y in range(32)  if fmant&(0x80000000>>y))\n"
   ]
  },
  {
   "cell_type": "code",
   "execution_count": 51,
   "metadata": {},
   "outputs": [
    {
     "name": "stdout",
     "output_type": "stream",
     "text": [
      "3\n",
      "7\n",
      "5\n",
      "0\n"
     ]
    }
   ],
   "source": [
    "s = fmant>>4\n",
    "for i in range(4):\n",
    "    s *= 10\n",
    "    print(s>>28)\n",
    "    s &= 0x0FFFFFFF\n"
   ]
  },
  {
   "cell_type": "code",
   "execution_count": 160,
   "metadata": {},
   "outputs": [
    {
     "data": {
      "text/plain": [
       "145.1123"
      ]
     },
     "execution_count": 160,
     "metadata": {},
     "output_type": "execute_result"
    }
   ],
   "source": [
    "fval = 145.1123\n",
    "fval"
   ]
  },
  {
   "cell_type": "code",
   "execution_count": null,
   "metadata": {},
   "outputs": [],
   "source": [
    "# Work out a C-code jupyter notebook!!!"
   ]
  },
  {
   "cell_type": "code",
   "execution_count": 172,
   "metadata": {},
   "outputs": [
    {
     "data": {
      "text/plain": [
       "('1.4511229e2', 145.11229)"
      ]
     },
     "execution_count": 172,
     "metadata": {},
     "output_type": "execute_result"
    }
   ],
   "source": [
    "#####  Work out printing scientific printing formatfloat.c code first\n",
    "fval = 145.1123\n",
    "fvalexp10 = 0\n",
    "while fval >= 10.0:\n",
    "    fval *= 0.1\n",
    "    fvalexp10 += 1\n",
    "while fval <= 1.0:\n",
    "    fval = 10.0\n",
    "    fvalexp10 -= 1\n",
    "#hex(struct.unpack(\"I\", struct.pack(\"f\", 0.37500005))[0])\n",
    "fval, fvalexp10\n",
    "\n",
    "ifval = struct.unpack(\"I\", struct.pack(\"f\", fval))[0]\n",
    "e = ((ifval&0x7f800000)>>23)\n",
    "exp = e - 126\n",
    "assert exp > 0\n",
    "mantissa = (ifval&0x007FFFFF)|0x00800000\n",
    "imant = ((mantissa << exp) & 0xFF000000) >> 24\n",
    "fmant = (mantissa << exp) & 0x00FFFFFF\n",
    "\n",
    "fser = [ chr(ord('0')+imant), \".\"]\n",
    "for i in range(7):\n",
    "    fmant *= 10\n",
    "    fser.append(chr(ord('0')+(fmant>>24)))\n",
    "    fmant &= 0x00FFFFFF\n",
    "fser.append(\"e\")\n",
    "fser.append(\"%d\"%(fvalexp10))\n",
    "s = \"\".join(fser)\n",
    "s, float(s)\n",
    "\n"
   ]
  },
  {
   "cell_type": "code",
   "execution_count": 164,
   "metadata": {},
   "outputs": [
    {
     "data": {
      "text/plain": [
       "'-1.235000e-02'"
      ]
     },
     "execution_count": 164,
     "metadata": {},
     "output_type": "execute_result"
    }
   ],
   "source": [
    "\"%e\" % -0.01235"
   ]
  },
  {
   "cell_type": "code",
   "execution_count": null,
   "metadata": {},
   "outputs": [],
   "source": []
  },
  {
   "cell_type": "code",
   "execution_count": null,
   "metadata": {},
   "outputs": [],
   "source": []
  },
  {
   "cell_type": "code",
   "execution_count": null,
   "metadata": {},
   "outputs": [],
   "source": []
  },
  {
   "cell_type": "code",
   "execution_count": null,
   "metadata": {},
   "outputs": [],
   "source": []
  },
  {
   "cell_type": "code",
   "execution_count": 8,
   "metadata": {},
   "outputs": [
    {
     "data": {
      "text/plain": [
       "array([0, 1, 2, 3, 4, 5, 6, 7, 8, 9])"
      ]
     },
     "execution_count": 8,
     "metadata": {},
     "output_type": "execute_result"
    }
   ],
   "source": [
    "import numpy\n",
    "numpy.arange(0, 10, 1)"
   ]
  },
  {
   "cell_type": "code",
   "execution_count": 46,
   "metadata": {},
   "outputs": [
    {
     "data": {
      "text/plain": [
       "4096"
      ]
     },
     "execution_count": 46,
     "metadata": {},
     "output_type": "execute_result"
    }
   ],
   "source": [
    "nbits = 12\n",
    "binseries = [ 0.5**(y+1)  for y in range(nbits) ]\n",
    "bitseries = [ 1<<(nbits-y-1)  for y in range(nbits)]\n",
    "#bitseries = [ 1<<(y)  for y in range(nbits)]\n",
    "fracs = numpy.zeros(2**nbits)\n",
    "for i in range(len(fracs)):\n",
    "    fracs[i] = sum(binseries[y]  for y in range(nbits)  if i & bitseries[y])\n",
    "len(fracs)\n"
   ]
  },
  {
   "cell_type": "code",
   "execution_count": 47,
   "metadata": {},
   "outputs": [
    {
     "data": {
      "text/plain": [
       "array([0, 0, 0, ..., 9, 9, 9])"
      ]
     },
     "execution_count": 47,
     "metadata": {},
     "output_type": "execute_result"
    }
   ],
   "source": [
    "d0 = ((fracs*10).astype(int))\n",
    "d1 = numpy.mod((fracs*100).astype(int), 10)\n",
    "d2 = numpy.mod((fracs*1000).astype(int), 10)\n",
    "d1\n"
   ]
  },
  {
   "cell_type": "code",
   "execution_count": 48,
   "metadata": {},
   "outputs": [
    {
     "data": {
      "text/plain": [
       "[<matplotlib.lines.Line2D at 0x7f873a4cc650>]"
      ]
     },
     "execution_count": 48,
     "metadata": {},
     "output_type": "execute_result"
    },
    {
     "data": {
      "image/png": "[encoded data removed]",
      "text/plain": [
       "<Figure size 432x288 with 1 Axes>"
      ]
     },
     "metadata": {
      "needs_background": "light"
     },
     "output_type": "display_data"
    }
   ],
   "source": [
    "from matplotlib import pyplot\n",
    "plt.plot(d1)"
   ]
  },
  {
   "cell_type": "code",
   "execution_count": 38,
   "metadata": {},
   "outputs": [
    {
     "data": {
      "text/plain": [
       "array([410, 410, 409, 410, 409, 410, 410, 409, 410])"
      ]
     },
     "execution_count": 38,
     "metadata": {},
     "output_type": "execute_result"
    }
   ],
   "source": [
    "s0 = d0[1:] - d0[:-1]\n",
    "t0 = [ i+1  for i in range(len(s0))  if s0[i] ]\n",
    "t0 = numpy.array([0]+t0)\n",
    "t0[1:] - t0[:-1]\n"
   ]
  },
  {
   "cell_type": "code",
   "execution_count": 39,
   "metadata": {},
   "outputs": [
    {
     "data": {
      "text/plain": [
       "array([41, 41, 41, 41, 41, 41, 41, 41, 41, 41, 41, 41, 41, 41, 41, 41, 41,\n",
       "       41, 41, 41, 41, 41, 41, 41, 40, 41, 41, 41, 41, 41, 41, 41, 41, 41,\n",
       "       41, 41, 41, 41, 41, 41, 41, 41, 41, 41, 41, 41, 41, 41, 41, 40, 41,\n",
       "       41, 41, 41, 41, 41, 41, 41, 41, 41, 41, 41, 41, 41, 41, 41, 41, 41,\n",
       "       41, 41, 41, 41, 41, 41, 40, 41, 41, 41, 41, 41, 41, 41, 41, 41, 41,\n",
       "       41, 41, 41, 41, 41, 41, 41, 41, 41, 41, 41, 41, 41, 41])"
      ]
     },
     "execution_count": 39,
     "metadata": {},
     "output_type": "execute_result"
    }
   ],
   "source": [
    "s1 = d1[1:] - d1[:-1]\n",
    "t1 = [ i+1  for i in range(len(s1))  if s1[i] ]\n",
    "t1 = numpy.array([0]+t1)\n",
    "t1[1:] - t1[:-1]"
   ]
  },
  {
   "cell_type": "code",
   "execution_count": null,
   "metadata": {},
   "outputs": [],
   "source": []
  }
 ],
 "metadata": {
  "kernelspec": {
   "display_name": "Python 3",
   "language": "python",
   "name": "python3"
  },
  "language_info": {
   "codemirror_mode": {
    "name": "ipython",
    "version": 3
   },
   "file_extension": ".py",
   "mimetype": "text/x-python",
   "name": "python",
   "nbconvert_exporter": "python",
   "pygments_lexer": "ipython3",
   "version": "3.7.4"
  }
 },
 "nbformat": 4,
 "nbformat_minor": 2
}
