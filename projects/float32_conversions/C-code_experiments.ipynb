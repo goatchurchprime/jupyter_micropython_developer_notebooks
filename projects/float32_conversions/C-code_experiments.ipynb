{
 "cells": [
  {
   "cell_type": "code",
   "execution_count": 51,
   "metadata": {},
   "outputs": [
    {
     "name": "stdout",
     "output_type": "stream",
     "text": [
      "16777216 0\n",
      "for loop took 13.342239 seconds to execute \n",
      "All float32 reps can be tested in 3415.613184 seconds\n"
     ]
    }
   ],
   "source": [
    "#include <stdio.h>\n",
    "#include <stdlib.h>\n",
    "#include <stdint.h>\n",
    "#include <time.h>\n",
    "\n",
    "char buf[100]; \n",
    "\n",
    "union floatbits {\n",
    "    float f;\n",
    "    uint32_t u;\n",
    "};\n",
    "\n",
    "\n",
    "static inline uint32_t binint(float x) {\n",
    "    union floatbits fb = {x};\n",
    "    return fb.u;\n",
    "}\n",
    "static inline float binfloat(uint32_t x) {\n",
    "    union floatbits fb; \n",
    "    fb.u = x;\n",
    "    return fb.f; \n",
    "}\n",
    "\n",
    "int main()\n",
    "{\n",
    "    int count = 0, errs = 0; \n",
    "    clock_t start = clock();\n",
    "    for (int i = 0x41460000; i < 0x42460000; i++) {\n",
    "        float f = binfloat(i); \n",
    "        sprintf(buf, \"%.9f\", f); \n",
    "        float rf = atof(buf); \n",
    "        count++; \n",
    "        if (rf != f)\n",
    "            errs++; \n",
    "    }\n",
    "    clock_t end = clock();\n",
    "    printf(\"%d %d\\n\", count, errs); \n",
    "    double cpu_time_used = ((double) (end - start)) / CLOCKS_PER_SEC;\n",
    "    printf(\"for loop took %f seconds to execute \\n\", cpu_time_used);\n",
    "    printf(\"All float32 reps can be tested in %f seconds\\n\", cpu_time_used*256); \n",
    "}\n"
   ]
  },
  {
   "cell_type": "code",
   "execution_count": null,
   "metadata": {},
   "outputs": [],
   "source": []
  }
 ],
 "metadata": {
  "kernelspec": {
   "display_name": "C",
   "language": "c",
   "name": "c"
  },
  "language_info": {
   "file_extension": ".c",
   "mimetype": "text/plain",
   "name": "c"
  }
 },
 "nbformat": 4,
 "nbformat_minor": 2
}
