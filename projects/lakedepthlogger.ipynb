{
 "cells": [
  {
   "cell_type": "code",
   "execution_count": 10,
   "metadata": {},
   "outputs": [],
   "source": [
    "# new low power ESP32 going here \n",
    "# top is the mqtt retrieve interface\n",
    "# bottom is the low power deepsleep cycle saving to data\n",
    "\n",
    "# We have mqttoperation.py which is imported when the pin12 switch is pulled\n",
    "# Need a function in the operation for receiving timestamp and \n",
    "# renaming all the files with timestamp in the name\n",
    "# so that we can stream back the correctly offset values \n",
    "# to backfill the values into grafana consistently\n",
    "\n",
    "# then also begin discarding old files and ones that did not \n",
    "# pick up the time (eg reset_cause was not timeout, or pinwake)\n",
    "# (but is a power reset so the clock is reset)\n",
    "\n",
    "# The pins along the right hand side of the ESP32 board with wifi up are:\n",
    "# 3.3V  TX  RX  GND  21  18  17  4  2\n",
    "# left hand side second pin down is 35"
   ]
  },
  {
   "cell_type": "code",
   "execution_count": 259,
   "metadata": {},
   "outputs": [
    {
     "name": "stdout",
     "output_type": "stream",
     "text": [
      "\u001b[34mConnecting to --port=/dev/ttyUSB5 --baud=115200 \u001b[0m\n",
      "\u001b[34mReady.\n",
      "\u001b[0m"
     ]
    }
   ],
   "source": [
    "%serialconnect"
   ]
  },
  {
   "cell_type": "code",
   "execution_count": 35,
   "metadata": {},
   "outputs": [
    {
     "name": "stdout",
     "output_type": "stream",
     "text": [
      "state: 5 -> 0 (0)\n",
      "rm 0\n",
      "del if0\n",
      "mode : softAP(3e:71:bf:2c:aa:08)\n"
     ]
    }
   ],
   "source": [
    "import network\n",
    "network.WLAN().active(0)"
   ]
  },
  {
   "cell_type": "code",
   "execution_count": 336,
   "metadata": {},
   "outputs": [
    {
     "name": "stdout",
     "output_type": "stream",
     "text": [
      "serial exception on close write failed: [Errno 5] Input/output error\n",
      "\u001b[34mConnecting to --port=/dev/ttyUSB5 --baud=115200 \u001b[0m\n",
      "\u001b[34mReady.\n",
      "\u001b[0m"
     ]
    }
   ],
   "source": [
    "%serialconnect"
   ]
  },
  {
   "cell_type": "code",
   "execution_count": 337,
   "metadata": {},
   "outputs": [
    {
     "name": "stdout",
     "output_type": "stream",
     "text": [
      "[80, 104] 0x50 0x68\n",
      "b'\\xd8V\\x15\\x01\\x12\\x12 '\n"
     ]
    }
   ],
   "source": [
    "from machine import I2C, Pin\n",
    "pinscl, pinsda = Pin(18), Pin(17)\n",
    "#pinscl, pinsda = Pin(5), Pin(4)  # D1 D2\n",
    "i2c = I2C(scl=pinscl, sda=pinsda, freq=100000)\n",
    "\n",
    "print(i2c.scan(), hex(80), hex(104))\n",
    "r = i2c.readfrom_mem(0x68, 0x00, 7)\n",
    "print(r)\n",
    "def rhex(h):  \n",
    "    return (h>>4)*10 + (h&0x0f)\n",
    "year, month, day = rhex(r[6])+2000, rhex(r[5]), rhex(r[4])\n",
    "hour, minute, second = rhex(r[2]), rhex(r[1]), rhex(r[0])\n"
   ]
  },
  {
   "cell_type": "code",
   "execution_count": 235,
   "metadata": {},
   "outputs": [
    {
     "name": "stderr",
     "output_type": "stream",
     "text": [
      "Traceback (most recent call last):\n",
      "  File \"<stdin>\", line 1, in <module>\n",
      "AttributeError: 'I2C' object has no attribute 'freq'\n"
     ]
    }
   ],
   "source": [
    "print(i2c.freq())"
   ]
  },
  {
   "cell_type": "code",
   "execution_count": 234,
   "metadata": {},
   "outputs": [
    {
     "name": "stdout",
     "output_type": "stream",
     "text": [
      "['__class__', 'init', 'readfrom', 'readfrom_into', 'readfrom_mem', 'readfrom_mem_into', 'readinto', 'scan', 'start', 'stop', 'write', 'writeto', 'writeto_mem']\r\n"
     ]
    }
   ],
   "source": [
    "freq=100000"
   ]
  },
  {
   "cell_type": "code",
   "execution_count": 230,
   "metadata": {},
   "outputs": [
    {
     "name": "stdout",
     "output_type": "stream",
     "text": [
      "b'?\\xff\\xff\\xff\\xff\\xff\\xff'\r\n"
     ]
    }
   ],
   "source": [
    "r = i2c.readfrom_mem(0x68, 0x00, 7)\n",
    "print(r)\n"
   ]
  },
  {
   "cell_type": "code",
   "execution_count": 338,
   "metadata": {},
   "outputs": [],
   "source": [
    "import time\n",
    "\n",
    "epoch1970 = const(946684800000)   # micropython uses a yr 2000 epoch\n",
    "\n",
    "def rhex(h):  \n",
    "    return (h>>4)*10 + (h&0x0f)\n",
    "def dhex(v):  \n",
    "    return chr(((v//10)<<4) + (v%10))\n",
    "\n",
    "def rtctojsepoch(i2c, busywaitsec=False):\n",
    "    r = i2c.readfrom_mem(0x68, 0x00, 7)\n",
    "    year, month, day = rhex(r[6])+2000, rhex(r[5]), rhex(r[4])\n",
    "    hour, minute, second = rhex(r[2]), rhex(r[1]), rhex(r[0])\n",
    "    micropythonepoch = time.mktime((year, month, day, hour, minute, second, -1, -1))\n",
    "    if busywaitsec:   # this is to get the exact transition to next second tick (for calibration timings)\n",
    "        micropythonepoch += 1000\n",
    "        while (r[0] == i2c.readfrom_mem(0x68, 0x00, 1)[0]):\n",
    "            pass\n",
    "    return micropythonepoch*1000 + epoch1970\n",
    "\n",
    "def jsepochtortc(jsepoch, i2c):\n",
    "    micropythonepoch = (jsepoch - epoch1970)//1000\n",
    "    microsecond = jsepoch % 1000\n",
    "    year, month, day, hour, minute, second, d1, d2 = time.localtime(micropythonepoch)\n",
    "    i2c.writeto(0x68, chr(0) + dhex(second) + dhex(minute) + dhex(hour))\n",
    "    i2c.writeto(0x68, chr(4) + dhex(day) + dhex(month) + dhex(year-2000))\n",
    "    \n",
    "def isodatetojsepoch(isodate):  # 2017-11-19T16:05:45.413Z\n",
    "    #mtime = ure.match(\"(\\d\\d\\d\\d)-(\\d\\d)-(\\d\\d)[T ](\\d\\d)[:c](\\d\\d)[:c](\\d\\d)[\\.d](\\d\\d\\d)\", isodate)\n",
    "    #year, month, day, hour, minute, second, microsecond = int(mtime.group(1)), int(mtime.group(2)), int(mtime.group(3)), int(mtime.group(4)), int(mtime.group(5)), int(mtime.group(6)), int(mtime.group(7)) \n",
    "    year, month, day = int(isodate[:4]), int(isodate[5:7]), int(isodate[8:10])\n",
    "    hour, minute, second, microsecond = int(isodate[11:13]), int(isodate[14:16]), int(isodate[17:19]), int(isodate[20:23])\n",
    "    micropythonepoch = time.mktime((year, month, day, hour, minute, second, -1, -1))\n",
    "    return micropythonepoch*1000 + microsecond + epoch1970\n",
    "\n",
    "def jsepochtoisodate(jsepoch):\n",
    "    micropythonepoch = (jsepoch - epoch1970)//1000\n",
    "    microsecond = jsepoch % 1000\n",
    "    year, month, day, hour, minute, second, d1, d2 = time.localtime(micropythonepoch)\n",
    "    return \"{0:04d}-{1:02d}-{2:02d}T{3:02d}:{4:02d}:{5:02d}.{6:03d}\".format(year, month, day, hour, minute, second, microsecond)\n",
    "    \n"
   ]
  },
  {
   "cell_type": "code",
   "execution_count": 220,
   "metadata": {},
   "outputs": [
    {
     "name": "stdout",
     "output_type": "stream",
     "text": [
      "1607771471888\r\n"
     ]
    }
   ],
   "source": [
    "jsepoch = isodatetojsepoch(\"2020-12-12T11:11:11.888\")\n",
    "print(jsepoch)\n",
    "jsepochtortc(jsepoch, i2c)"
   ]
  },
  {
   "cell_type": "code",
   "execution_count": 339,
   "metadata": {},
   "outputs": [
    {
     "name": "stdout",
     "output_type": "stream",
     "text": [
      "2020-12-12T15:58:18.000\r\n"
     ]
    }
   ],
   "source": [
    "print(jsepochtoisodate(rtctojsepoch(i2c)))"
   ]
  },
  {
   "cell_type": "code",
   "execution_count": 254,
   "metadata": {},
   "outputs": [
    {
     "name": "stdout",
     "output_type": "stream",
     "text": [
      "2020-12-12T11:20:33.000\r\n"
     ]
    }
   ],
   "source": [
    "print(jsepochtoisodate(rtctojsepoch(i2c)))"
   ]
  },
  {
   "cell_type": "code",
   "execution_count": 309,
   "metadata": {},
   "outputs": [
    {
     "name": "stdout",
     "output_type": "stream",
     "text": [
      "\u001b[34mConnecting to --port=/dev/ttyUSB7 --baud=115200 \u001b[0m\n",
      "\u001b[34mReady.\n",
      "\u001b[0m"
     ]
    }
   ],
   "source": [
    "%serialconnect"
   ]
  },
  {
   "cell_type": "code",
   "execution_count": 310,
   "metadata": {},
   "outputs": [],
   "source": [
    "from machine import ADC, Pin\n",
    "adc = ADC(Pin(35))\n",
    "adc.atten(ADC.ATTN_11DB)\n",
    "padc = Pin(21, Pin.OUT)\n"
   ]
  },
  {
   "cell_type": "code",
   "execution_count": 335,
   "metadata": {},
   "outputs": [
    {
     "name": "stdout",
     "output_type": "stream",
     "text": [
      "4095\r\n"
     ]
    }
   ],
   "source": [
    "#padc.value(1)\n",
    "meas = adc.read()\n",
    "padc.value(0)\n",
    "print(meas)\n"
   ]
  },
  {
   "cell_type": "code",
   "execution_count": 363,
   "metadata": {},
   "outputs": [
    {
     "name": "stdout",
     "output_type": "stream",
     "text": [
      "\u001b[34mConnecting to --port=/dev/ttyUSB5 --baud=115200 \u001b[0m\n",
      "\u001b[34mReady.\n",
      "\u001b[0m"
     ]
    }
   ],
   "source": [
    "%serialconnect"
   ]
  },
  {
   "cell_type": "code",
   "execution_count": 364,
   "metadata": {},
   "outputs": [],
   "source": [
    "import machine\n",
    "fconfig = dict(x.split()  for x in open(\"config.txt\"))\n",
    "deepsleepsec = int(fconfig[\"deepsleepsec\"])\n",
    "pinenablewifi = machine.Pin(int(fconfig[\"pinenablewifi\"]), machine.Pin.IN, machine.Pin.PULL_UP)\n",
    "pinled = machine.Pin(int(fconfig[\"pinled\"]), machine.Pin.OUT)\n",
    "\n"
   ]
  },
  {
   "cell_type": "code",
   "execution_count": 366,
   "metadata": {},
   "outputs": [
    {
     "name": "stdout",
     "output_type": "stream",
     "text": [
      "\u001b[34m\n",
      "\n",
      "*** Sending Ctrl-C\n",
      "\n",
      "\u001b[0m"
     ]
    },
    {
     "name": "stderr",
     "output_type": "stream",
     "text": [
      "Traceback (most recent call last):\n",
      "  File \"<stdin>\", line 3, in <module>\n",
      "KeyboardInterrupt: \n"
     ]
    }
   ],
   "source": [
    "while 1:\n",
    "    pinled.value(1-pinenablewifi.value())"
   ]
  },
  {
   "cell_type": "code",
   "execution_count": null,
   "metadata": {},
   "outputs": [],
   "source": []
  },
  {
   "cell_type": "code",
   "execution_count": 362,
   "metadata": {},
   "outputs": [
    {
     "name": "stdout",
     "output_type": "stream",
     "text": [
      "\u001b[34mattempt to exit paste mode\n",
      "\u001b[0m\u001b[34m[\\r\\x03\\x02] \u001b[0mb'\\r\\nMicroPython v1.12-87-g96716b46e on 2020-01-24; ESP32 module with ESP32\\r\\nType \"help()\" for more information.\\r\\n>>> '\u001b[34m\n",
      "Closing serial Serial<id=0x7f57d98ab950, open=True>(port='/dev/ttyUSB5', baudrate=115200, bytesize=8, parity='N', stopbits=1, timeout=0.5, xonxoff=False, rtscts=False, dsrdtr=False)\n",
      "\u001b[0m"
     ]
    }
   ],
   "source": [
    "%disconnect"
   ]
  },
  {
   "cell_type": "code",
   "execution_count": null,
   "metadata": {},
   "outputs": [],
   "source": []
  },
  {
   "cell_type": "code",
   "execution_count": null,
   "metadata": {},
   "outputs": [],
   "source": []
  },
  {
   "cell_type": "code",
   "execution_count": 47,
   "metadata": {},
   "outputs": [
    {
     "name": "stdout",
     "output_type": "stream",
     "text": [
      "Sent 660 lines (23451 bytes) to mqtt_as.py.\n"
     ]
    }
   ],
   "source": [
    "%sendtofile --source /home/julian/extrepositories/micropython-async/asyn.py\n",
    "%sendtofile --source /home/julian/extrepositories/micropython-async/aswitch.py\n",
    "%sendtofile --source /home/julian/extrepositories/micropython-mqtt/mqtt_as/mqtt_as.py"
   ]
  },
  {
   "cell_type": "code",
   "execution_count": 350,
   "metadata": {},
   "outputs": [
    {
     "name": "stdout",
     "output_type": "stream",
     "text": [
      "Sent 12 lines (263 bytes) to config.txt.\n"
     ]
    }
   ],
   "source": [
    "%sendtofile config.txt\n",
    "\n",
    "wifiname        DoESLiverpool\n",
    "wifipassword    decafbad00\n",
    "mqttbroker      mqtt.local\n",
    "boardname       esp32barelake\n",
    "pinenablemeas   21\n",
    "pinscl          18\n",
    "pinsda          17\n",
    "pinled          2\n",
    "pinenablewifi   4\n",
    "pinadcmeas      35\n",
    "wificonnectsecs 30\n",
    "deepsleepsec    20"
   ]
  },
  {
   "cell_type": "code",
   "execution_count": 388,
   "metadata": {},
   "outputs": [
    {
     "name": "stdout",
     "output_type": "stream",
     "text": [
      "\u001b[34mConnecting to --port=/dev/ttyUSB5 --baud=115200 \u001b[0m\n",
      "\u001b[34mReady.\n",
      "\u001b[0m"
     ]
    }
   ],
   "source": [
    "%serialconnect"
   ]
  },
  {
   "cell_type": "code",
   "execution_count": 401,
   "metadata": {},
   "outputs": [
    {
     "name": "stdout",
     "output_type": "stream",
     "text": [
      "Listing directory '/'.\n",
      "      139    boot.py\n",
      "      170    config.txt\n",
      "             lib/\n",
      "     4243    main.py\n",
      "    23452    mqtt_as.py\n",
      "      960    utils.py\n"
     ]
    }
   ],
   "source": [
    "%ls"
   ]
  },
  {
   "cell_type": "code",
   "execution_count": 400,
   "metadata": {},
   "outputs": [],
   "source": [
    "import os\n",
    "os.rename(\"main.py\", \"dd\")\n"
   ]
  },
  {
   "cell_type": "code",
   "execution_count": 385,
   "metadata": {},
   "outputs": [
    {
     "name": "stdout",
     "output_type": "stream",
     "text": [
      "Sent 28 lines (1033 bytes) to main.py.\n"
     ]
    }
   ],
   "source": [
    "%sendtofile main.py\n",
    "\n",
    "import esp32, machine, time\n",
    "\n",
    "rtc = machine.RTC()\n",
    "def ftime():\n",
    "    d = rtc.datetime()\n",
    "    return time.mktime((d[0], d[1], d[2], d[4], d[5], d[6], 0, 0)) + (d[7]//1000)/1000\n",
    "\n",
    "timestartup = ftime()\n",
    "timeconnected = 0\n",
    "\n",
    "resetcause = [\"0\", \"PWRON\", \"HARD\", \"WDT\", \"DEEPSLEEP\", \"SOFT\"][machine.reset_cause()]+\"_RESET\"\n",
    "wakereason = [\"0\", \"1\", \"EXT0\", \"EXT1\", \"TIMER\", \"TOUCHPAD\", \"ULP\"][machine.wake_reason()]+\"_WAKE\"\n",
    "print(\"Startup secs=%.3f: %s, %s\" % (timestartup, resetcause, wakereason))\n",
    "\n",
    "fconfig = dict(x.split()  for x in open(\"config.txt\"))\n",
    "deepsleepsec = int(fconfig[\"deepsleepsec\"])\n",
    "pinenablewifi = machine.Pin(int(fconfig[\"pinenablewifi\"]), machine.Pin.IN, machine.Pin.PULL_DOWN)\n",
    "pinled = machine.Pin(int(fconfig[\"pinled\"]), machine.Pin.OUT)\n",
    "\n",
    "for i in range(100):\n",
    "    pinled.value((1-pinenablewifi.value())==((i%10)!=5))\n",
    "    time.sleep_ms(100)\n",
    "\n",
    "esp32.wake_on_ext0(pinenablewifi, esp32.WAKEUP_ANY_HIGH)\n",
    "timeatsleep = ftime()\n",
    "\n",
    "print(\"time at sleep:\", timeatsleep, \"deepsleep secs\", deepsleepsec)\n",
    "machine.deepsleep(deepsleepsec*1000)\n"
   ]
  },
  {
   "cell_type": "code",
   "execution_count": 386,
   "metadata": {},
   "outputs": [
    {
     "name": "stdout",
     "output_type": "stream",
     "text": [
      "\u001b[34mattempt to exit paste mode\n",
      "\u001b[0m\u001b[34m[\\r\\x03\\x02] \u001b[0mb'\\r\\nMicroPython v1.11-406-g4a6974bea on 2019-10-06; ESP32 module with ESP32\\r\\nType \"help()\" for more information.\\r\\n>>> '\u001b[34m\n",
      "Closing serial Serial<id=0x7f57d8037bd0, open=True>(port='/dev/ttyUSB5', baudrate=115200, bytesize=8, parity='N', stopbits=1, timeout=0.5, xonxoff=False, rtscts=False, dsrdtr=False)\n",
      "\u001b[0m"
     ]
    }
   ],
   "source": [
    "%disconnect"
   ]
  },
  {
   "cell_type": "code",
   "execution_count": null,
   "metadata": {},
   "outputs": [],
   "source": []
  },
  {
   "cell_type": "code",
   "execution_count": 82,
   "metadata": {},
   "outputs": [
    {
     "name": "stdout",
     "output_type": "stream",
     "text": [
      "serial exception on close write failed: [Errno 5] Input/output error\n",
      "\u001b[34mConnecting to --port=/dev/ttyUSB2 --baud=115200 \u001b[0m\n",
      "Traceback (most recent call last):\n",
      "  File \"main.py\", line 1, in <module>\n",
      "  File \"mqtt_as.py\", line 30, in <module>\n",
      "KeyboardInterrupt: \n",
      "MicroPython v1.11-406-g4a6974bea on 2019-10-06; ESP32 module with ESP32\n",
      "Type \"help()\" for more information.\n",
      ">>> \n",
      ">>> \n",
      "raw REPL; CTRL-B to exit\n",
      ">\u001b[34mReady.\n",
      "\u001b[0m"
     ]
    }
   ],
   "source": [
    "%serialconnect"
   ]
  },
  {
   "cell_type": "code",
   "execution_count": 92,
   "metadata": {},
   "outputs": [
    {
     "name": "stdout",
     "output_type": "stream",
     "text": [
      "Sent 56 lines (1672 bytes) to mqttoperation.py.\n"
     ]
    }
   ],
   "source": [
    "%sendtofile mqttoperation.py\n",
    "\n",
    "from mqtt_as import MQTTClient, config\n",
    "import uasyncio as asyncio\n",
    "import asyn, os, time, machine\n",
    "\n",
    "fconfig = dict(x.split()  for x in open(\"config.txt\"))\n",
    "pinled = machine.Pin(int(fconfig[\"pinled\"]), machine.Pin.OUT)\n",
    "pinled.value(1)\n",
    "time.sleep(2)\n",
    "boardname = fconfig[\"boardname\"]\n",
    "pinled.value(0)\n",
    "\n",
    "async def publishgentask(topic, gen):\n",
    "    try:\n",
    "        for n, l in enumerate(gen):\n",
    "            await client.publish(topic, l)\n",
    "        await client.publish(topic+\"/done\", str(n))\n",
    "    except Exception as e:\n",
    "        await client.publish(topic+\"/exception\", str(e))\n",
    "\n",
    "def publishgen(subtopic, gen):\n",
    "    aloop.create_task(publishgentask(boardname+\"/\"+subtopic, gen))\n",
    "\n",
    "async def callbackcmdtask(topic, msg):\n",
    "    print(\"executing\", [msg])\n",
    "    try:\n",
    "        exec(msg)\n",
    "        await client.publish(boardname+'/reply', \"1\")\n",
    "    except Exception as e:\n",
    "        print(e)\n",
    "        await client.publish(boardname+'/reply/exception', str(e))\n",
    "    return\n",
    "\n",
    "def callbackcmd(topic, msg, retained):\n",
    "    aloop.create_task(callbackcmdtask(topic, msg))\n",
    "\n",
    "async def mainconnect():\n",
    "    print(\"connecting\")\n",
    "    await client.connect()\n",
    "    print(\"subscribing\")\n",
    "    await client.subscribe(boardname+'/cmd', 1)\n",
    "    await client.publish(boardname+\"/ip\", client._sta_if.ifconfig()[0], retain=True, qos=1)\n",
    "    while True:\n",
    "        await client.publish(boardname+'/time', str(time.time()))\n",
    "        await asyncio.sleep_ms(2000)\n",
    "    \n",
    "    \n",
    "config['subs_cb'] = callbackcmd\n",
    "config['server'] = fconfig[\"mqttbroker\"]\n",
    "config['ssid'] = fconfig[\"wifiname\"]\n",
    "config['wifi_pw'] = fconfig[\"wifipassword\"]\n",
    "\n",
    "MQTTClient.DEBUG = True\n",
    "client = MQTTClient(config)\n",
    "\n",
    "aloop = asyncio.get_event_loop()\n",
    "aloop.run_until_complete(mainconnect())\n"
   ]
  },
  {
   "cell_type": "code",
   "execution_count": null,
   "metadata": {},
   "outputs": [],
   "source": []
  },
  {
   "cell_type": "code",
   "execution_count": null,
   "metadata": {},
   "outputs": [],
   "source": []
  },
  {
   "cell_type": "code",
   "execution_count": 1,
   "metadata": {},
   "outputs": [
    {
     "name": "stdout",
     "output_type": "stream",
     "text": [
      "\u001b[34mConnecting to --port=/dev/ttyUSB2 --baud=115200 \u001b[0m\n",
      "\u001b[34mReady.\n",
      "\u001b[0m"
     ]
    }
   ],
   "source": [
    "%serialconnect"
   ]
  },
  {
   "cell_type": "code",
   "execution_count": 94,
   "metadata": {},
   "outputs": [
    {
     "name": "stdout",
     "output_type": "stream",
     "text": [
      "Are you sure you want to delete everything?\n",
      "('d0_0.csv', 32768, 0, 118)\n",
      "('d1_87.csv', 32768, 0, 132)\n",
      "('d2_174.csv', 32768, 0, 135)\n",
      "('d3_260.csv', 32768, 0, 135)\n",
      "('d4_347.csv', 32768, 0, 135)\n",
      "('d5_434.csv', 32768, 0, 135)\n",
      "('d6_521.csv', 32768, 0, 135)\n"
     ]
    }
   ],
   "source": [
    "assert False, \"Are you sure you want to delete everything?\"\n",
    "try:\n",
    "    for f in os.ilistdir(\"data\"):\n",
    "        os.remove(\"data/\"+f[0])\n",
    "        print(f)\n",
    "    os.rmdir(\"data\")\n",
    "except OSError as e:\n",
    "    print(e)\n",
    "os.mkdir(\"data\")\n"
   ]
  },
  {
   "cell_type": "code",
   "execution_count": 95,
   "metadata": {},
   "outputs": [
    {
     "name": "stdout",
     "output_type": "stream",
     "text": [
      "\u001b[34mConnecting to --port=/dev/ttyUSB2 --baud=115200 \u001b[0m\n",
      "\u001b[34mReady.\n",
      "\u001b[0m"
     ]
    }
   ],
   "source": [
    "# Low power logging code mode below\n",
    "%serialconnect"
   ]
  },
  {
   "cell_type": "code",
   "execution_count": 96,
   "metadata": {},
   "outputs": [
    {
     "name": "stdout",
     "output_type": "stream",
     "text": [
      "Sent 58 lines (1576 bytes) to main.py.\n"
     ]
    }
   ],
   "source": [
    "%sendtofile main.py\n",
    "\n",
    "from machine import I2C, Pin, RTC, ADC\n",
    "import time, machine, ustruct, os\n",
    "\n",
    "# constants\n",
    "deepsleepseconds = const(5)\n",
    "rtkmemorylimit = const(600)\n",
    "datafile = \"data/d%d_%d.csv\"\n",
    "datadir = \"data\"\n",
    "\n",
    "# Set up the pins\n",
    "ledpin = Pin(2, Pin.OUT)\n",
    "ledpin.value(1)\n",
    "checklowpin = Pin(21, Pin.IN, Pin.PULL_UP)\n",
    "if checklowpin.value() == 1:\n",
    "    import mqttoperation\n",
    "    raise Exception(\"Pin21 disconnected, bail out\")\n",
    "    \n",
    "checklowpin = Pin(21, Pin.IN, Pin.PULL_DOWN)\n",
    "enablepin = Pin(19, Pin.OUT)\n",
    "adcpin = Pin(33)\n",
    "adcval = ADC(adcpin)\n",
    "adcval.atten(ADC.ATTN_11DB)\n",
    "\n",
    "# make adc reading\n",
    "enablepin.value(1)\n",
    "time.sleep_ms(50)\n",
    "ledpin.value(0)\n",
    "time.sleep_ms(50)\n",
    "measval = adcval.read()\n",
    "meastime = time.mktime(time.localtime())\n",
    "enablepin.value(0)\n",
    "\n",
    "# append to rtkmemory and save file of exceeded\n",
    "rtc = RTC()\n",
    "rtcmemstore = bytearray(rtc.memory())\n",
    "if len(rtcmemstore) == 0:\n",
    "    t0 = meastime\n",
    "    rtcmemstore.extend(ustruct.pack(\"I\", meastime))\n",
    "else:\n",
    "    t0 = ustruct.unpack(\"I\", rtcmemstore[:4])[0]\n",
    "\n",
    "print(\"measurement\", meastime, measval, len(rtcmemstore))\n",
    "    \n",
    "meastimeoffset = meastime - t0\n",
    "rtcmemstore.extend(ustruct.pack(\"HH\", (meastimeoffset&0xFFFF), measval))\n",
    "if len(rtcmemstore) > rtkmemorylimit:\n",
    "    numfiles = sum(1  for l in os.ilistdir(datadir))\n",
    "    fname = (datafile % (numfiles, t0))\n",
    "    print(\"writing\", fname)\n",
    "    fout = open(fname, \"w\")\n",
    "    for i in range(4, len(rtcmemstore), 4):\n",
    "        mt, mv = ustruct.unpack(\"HH\", rtcmemstore[i:i+4])\n",
    "        fout.write(\"%d,%d\\n\" % (mt+t0, mv))\n",
    "    fout.close()\n",
    "    rtcmemstore = b\"\"\n",
    "rtc.memory(rtcmemstore)\n",
    "machine.deepsleep(deepsleepseconds*1000)\n",
    "    "
   ]
  },
  {
   "cell_type": "code",
   "execution_count": null,
   "metadata": {},
   "outputs": [],
   "source": []
  },
  {
   "cell_type": "code",
   "execution_count": null,
   "metadata": {},
   "outputs": [],
   "source": []
  },
  {
   "cell_type": "code",
   "execution_count": null,
   "metadata": {},
   "outputs": [],
   "source": []
  },
  {
   "cell_type": "code",
   "execution_count": null,
   "metadata": {},
   "outputs": [],
   "source": []
  },
  {
   "cell_type": "code",
   "execution_count": null,
   "metadata": {},
   "outputs": [],
   "source": []
  },
  {
   "cell_type": "code",
   "execution_count": null,
   "metadata": {},
   "outputs": [],
   "source": []
  },
  {
   "cell_type": "code",
   "execution_count": null,
   "metadata": {},
   "outputs": [],
   "source": []
  },
  {
   "cell_type": "code",
   "execution_count": null,
   "metadata": {},
   "outputs": [],
   "source": []
  },
  {
   "cell_type": "code",
   "execution_count": null,
   "metadata": {},
   "outputs": [],
   "source": []
  },
  {
   "cell_type": "code",
   "execution_count": null,
   "metadata": {},
   "outputs": [],
   "source": []
  },
  {
   "cell_type": "code",
   "execution_count": null,
   "metadata": {},
   "outputs": [],
   "source": []
  },
  {
   "cell_type": "code",
   "execution_count": 264,
   "metadata": {},
   "outputs": [
    {
     "name": "stdout",
     "output_type": "stream",
     "text": [
      "Sent 25 lines (581 bytes) to main.py.\n"
     ]
    }
   ],
   "source": [
    "%sendtofile main.py\n",
    "\n",
    "from machine import I2C, Pin, RTC, ADC\n",
    "import time, machine, ustruct\n",
    "from rtctimer import jsepochtoisodate, rtctojsepoch\n",
    "import random\n",
    "\n",
    "time.sleep(2)\n",
    "deepsleepseconds = 3\n",
    "\n",
    "rtc = RTC()\n",
    "recs = bytearray(rtc.memory())\n",
    "rtcsecs = time.mktime(time.localtime())\n",
    "print(len(recs), recs[-10:])\n",
    "\n",
    "adc = ADC(Pin(33))\n",
    "adc.atten(ADC.ATTN_11DB)\n",
    "padc = Pin(19, Pin.OUT)\n",
    "padc.value(1)\n",
    "meas = adc.read()\n",
    "padc.value(0)\n",
    "print(meas, len(recs), recs[-10:])\n",
    "\n",
    "if len(recs) < 200:\n",
    "    recs.extend(ustruct.pack(\"HH\", (rtcsecs&0xFFFF), meas))\n",
    "    rtc.memory(recs)\n",
    "    machine.deepsleep(deepsleepseconds*1000)\n"
   ]
  },
  {
   "cell_type": "code",
   "execution_count": 255,
   "metadata": {},
   "outputs": [
    {
     "name": "stdout",
     "output_type": "stream",
     "text": [
      "0.4089468\r\n"
     ]
    }
   ],
   "source": [
    "import ustruc\n",
    "print(random.random())"
   ]
  },
  {
   "cell_type": "code",
   "execution_count": 257,
   "metadata": {},
   "outputs": [],
   "source": [
    "rtc.memory(\"\")"
   ]
  },
  {
   "cell_type": "code",
   "execution_count": 234,
   "metadata": {},
   "outputs": [
    {
     "name": "stdout",
     "output_type": "stream",
     "text": [
      "\u001b[34mConnecting to --port=/dev/ttyUSB0 --baud=115200 \u001b[0m\n",
      "\u001b[34mReady.\n",
      "\u001b[0m"
     ]
    }
   ],
   "source": [
    "%serialconnect"
   ]
  },
  {
   "cell_type": "code",
   "execution_count": 252,
   "metadata": {},
   "outputs": [
    {
     "name": "stdout",
     "output_type": "stream",
     "text": [
      "bytearray(b'ggggggggggggggggggggggggggggggggggggggggggggggggggggggggggggggggggggggggggggggggggggggggggggggggggggggggggggggggggggggggggggggggggggggggggggggggggggggggggggggggggggggggggggggggggggggggggggggggggggggggggggggggggggggggggggggggggggggggggggggggggggggggggggggggggggggggggggggggggggggggggggggggggggggggggggggggggggggggggggggggggggggggggggggggggggggggggggggggggggggggggggggggggggggggggggggggggggggggggggggggggggggggggggggggggggggggggggggggggggggggggggggggggggggggggggggggggggggggggggggggggggggggggggggggggggggggggggggggggggggggggggggggggggggggggggggggggggggggggggggggggggggggggggggggggggggggggggggggggggggggggggggggggggggggggggggggggggggggggggggggggggggggggggggggggggggggggggggggggggggggggggggggggggggggggggggggggggggggggggggggggggggggggggggggggggggggggggggggggggggggggggggggggggggggggggggggggggggggggggggggggggggggggggggggggggggggggggggggggggggggggggggggggggggggggggggggggggggggggggggggggggggggggggggggggggggggggggggggggggggggggggggggggggggggggggggggggggggggggggggggggggggggggggggggggggggggggggggggggggggggggggggggggggggggggggggggggggggggggggggggggggggggggggggggggggggggggggggggggggggggggggggggggggggggggggggggggggggggggggggggggggggggggggggggggggggggggggggggggggggggggggggggggggggggggggggggggggggggggggggggggggggggggggggggggggggggggggggggggggggggggggggggggggggggggggggggggggggggggggggggggggggggggggggggggggggggggggggggggggggggggggggggggggggggggggggggggggggggggggggggggggggggggggggggggggggggggggggggggggggggggggggggggggggggggggggggggggggggggggggggggggggggggggggggggggggggggggggggggggggggggggggggggggggggggggggggggggggggggggggggggggggggggggggggggggggggggggggggggggggggggggggggggggggggggggggggggggggggggggggggggggggggggggggggggggggggggggggggggggggggggggggggggggggggggggggggggggggggggggggggggggggggggggggggggggggggggggggggggggggggggggggggggggggggggggggggggggggggggggggggggggggggggggggggggggggggggggggggggggggggggggggggggggggggggggggggggggggggggggggggggggggggggggggggggggggggggggggggggggggggggggggggggggggggggggggggggggggggggggggggggggggggggggggggggggggggggggggggggggggggggggggggggggggggggggggggggggggggggggggggggggggggggggggggggggggggggggggggggggggggggggggg')\r\n"
     ]
    }
   ],
   "source": [
    "print(bytearray(rtc.memory()))"
   ]
  },
  {
   "cell_type": "code",
   "execution_count": 233,
   "metadata": {},
   "outputs": [
    {
     "name": "stdout",
     "output_type": "stream",
     "text": [
      "(2000, 1, 1, 5, 0, 8, 45, 535935)\n",
      "ets Jun  8 2016 00:22:57\n",
      "\n",
      "rst:0x5 (DEEPSLEEP_RESET),boot:0x17 (SPI_FAST_FLASH_BOOT)\n",
      "configsip: 0, SPIWP:0xee\n",
      "clk_drv:0x00,q_drv:0x00,d_drv:0x00,cs0_drv:0x00,hd_drv:0x00,wp_drv:0x00\n",
      "mode:DIO, clock div:2\n",
      "load:0x3fff0018,len:4\n",
      "load:0x3fff001c,len:4928\n",
      "ho 0 tail 12 room 4\n",
      "load:0x40078000,len:9656\n",
      "ho 0 tail 12 room 4\n",
      "load:0x40080400,len:6252\n",
      "entry 0x400806f4\n",
      "MicroPython v1.11-406-g4a6974bea on 2019-10-06; ESP32 module with ESP32\n",
      "Type \"help()\" for more information.\n",
      ">>>[reboot detected 0]repl is in normal command mode\n",
      "[\\r\\x03\\x03] b'\\r\\n>>> '\n",
      "[\\r\\x01] b'\\r\\n>>> \\r\\nraw REPL; CTRL-B to exit\\r\\n>' "
     ]
    }
   ],
   "source": [
    "rtc = RTC()\n",
    "print(rtc.datetime())\n",
    "import machine\n",
    "machine.deepsleep(3000)\n"
   ]
  },
  {
   "cell_type": "code",
   "execution_count": 228,
   "metadata": {},
   "outputs": [
    {
     "name": "stdout",
     "output_type": "stream",
     "text": [
      "618594005\r\n"
     ]
    }
   ],
   "source": [
    "r = i2c.readfrom_mem(0x68, 0x00, 7)\n",
    "year, month, day = rhex(r[6])+2000, rhex(r[5]), rhex(r[4])\n",
    "hour, minute, second = rhex(r[2]), rhex(r[1]), rhex(r[0])\n",
    "micropythonepoch = time.mktime((year, month, day, hour, minute, second, -1, -1))\n",
    "print(micropythonepoch)"
   ]
  },
  {
   "cell_type": "code",
   "execution_count": 210,
   "metadata": {},
   "outputs": [
    {
     "name": "stdout",
     "output_type": "stream",
     "text": [
      "1565278673000\r\n"
     ]
    }
   ],
   "source": [
    "jsepoch = rtctojsepoch(i2c)\n",
    "jsepoch"
   ]
  },
  {
   "cell_type": "code",
   "execution_count": 143,
   "metadata": {},
   "outputs": [
    {
     "name": "stdout",
     "output_type": "stream",
     "text": [
      "object <RTC> is of type RTC\n",
      "  init -- <function>\n",
      "  datetime -- <function>\n",
      "  memory -- <function>\n"
     ]
    }
   ],
   "source": [
    "import machine\n",
    "r = machine.RTC()\n",
    "help(r)"
   ]
  },
  {
   "cell_type": "code",
   "execution_count": 164,
   "metadata": {},
   "outputs": [
    {
     "name": "stdout",
     "output_type": "stream",
     "text": [
      "object <module 'utime'> is of type module\n",
      "  __name__ -- utime\n",
      "  localtime -- <function>\n",
      "  mktime -- <function>\n",
      "  time -- <function>\n",
      "  sleep -- <function>\n",
      "  sleep_ms -- <function>\n",
      "  sleep_us -- <function>\n",
      "  ticks_ms -- <function>\n",
      "  ticks_us -- <function>\n",
      "  ticks_cpu -- <function>\n",
      "  ticks_add -- <function>\n",
      "  ticks_diff -- <function>\n",
      "(2000, 1, 1, 0, 14, 12, 5, 1)\n"
     ]
    }
   ],
   "source": [
    "import time\n",
    "help(time)\n",
    "print(time.localtime())"
   ]
  },
  {
   "cell_type": "code",
   "execution_count": 166,
   "metadata": {},
   "outputs": [
    {
     "name": "stdout",
     "output_type": "stream",
     "text": [
      "(2000, 1, 1, 5, 0, 14, 24, 767019)\n",
      "(2000, 1, 1, 0, 14, 24, 5, 1)\n",
      "b'Y\\x12\\x00\\x01\\x01\\x01\\x00'\n"
     ]
    }
   ],
   "source": [
    "print(r.datetime())\n",
    "print(time.localtime())\n",
    "print(i2c.readfrom_mem(0x68, 0x00, 7))\n",
    "      "
   ]
  },
  {
   "cell_type": "code",
   "execution_count": null,
   "metadata": {},
   "outputs": [],
   "source": []
  },
  {
   "cell_type": "code",
   "execution_count": 142,
   "metadata": {},
   "outputs": [
    {
     "name": "stdout",
     "output_type": "stream",
     "text": [
      "b'\\x10\\x00\\x00\\x01\\x01\\x01\\x00'\r\n"
     ]
    }
   ],
   "source": [
    "def rhex(h):  \n",
    "    return (h>>4)*10 + (h&0x0f)\n",
    "r = i2c.readfrom_mem(0x68, 0x00, 7)\n",
    "year, month, day = rhex(r[6])+2000, rhex(r[5]), rhex(r[4])\n",
    "hour, minute, second = rhex(r[2]), rhex(r[1]), rhex(r[0])\n",
    "micropythonepoch = time.mktime((year, month, day, hour, minute, second, -1, -1))\n",
    "print(micropythonepoch)\n"
   ]
  },
  {
   "cell_type": "code",
   "execution_count": 41,
   "metadata": {},
   "outputs": [
    {
     "name": "stdout",
     "output_type": "stream",
     "text": [
      "bytearray(b'\\x00\\x00\\x00\\x00l\\x84mA\\x01\\x00\\x00\\x00(\\xdaQA\\x02\\x00\\x00\\x00B\\x93mA\\x03\\x00\\x00\\x00DyBA\\x04\\x00\\x00\\x00\\xbe^_A\\x05\\x00\\x00\\x00E\\xde-A\\x06\\x00\\x00\\x00/|`A\\x07\\x00\\x00\\x00\\xc0\\xd6BA\\x08\\x00\\x00\\x00\\xb96UA\\t\\x00\\x00\\x00\\xcd\\xc2_A\\n\\x00\\x00\\x00\\xa6\\x19@A\\x0b\\x00\\x00\\x00\\x10\\xcdNA\\x0c\\x00\\x00\\x00')\n",
      "2000\n"
     ]
    }
   ],
   "source": [
    "import ustruct, random\n",
    "b = bytearray()\n",
    "for i in range(250):\n",
    "    b.extend(ustruct.pack(\"If\", i, random.uniform(10,15)))\n",
    "print(b[:100])\n",
    "\n",
    "import machine\n",
    "r = machine.RTC()\n",
    "r.memory(b)\n",
    "print(len(r.memory()))"
   ]
  },
  {
   "cell_type": "code",
   "execution_count": 23,
   "metadata": {},
   "outputs": [],
   "source": [
    "import machine\n",
    "r = machine.RTC()\n",
    "r.memory(b)"
   ]
  },
  {
   "cell_type": "code",
   "execution_count": 24,
   "metadata": {},
   "outputs": [
    {
     "name": "stdout",
     "output_type": "stream",
     "text": [
      "b'\\x08\\x00\\x00\\x00#oXA\\x08\\x00\\x00\\x00j\\x80]A\\x08\\x00\\x00\\x00\\x1aCeA\\x08\\x00\\x00\\x008\\x05?A\\x08\\x00\\x00\\x000;7A\\x08\\x00\\x00\\x00J\\xe7gA\\x08\\x00\\x00\\x00\\xd6\\xc1]A\\x08\\x00\\x00\\x00d3%A\\x08\\x00\\x00\\x00\\xcaHaA\\x08\\x00\\x00\\x00\\xf9\\xc3\\\\A\\x08\\x00\\x00\\x00\\xd6V2A\\x08\\x00\\x00\\x00\\xeaE*A\\x08\\x00\\x00\\x00\\xe2\\xf9MA\\x08\\x00\\x00\\x00\\xe0r9A\\x08\\x00\\x00\\x00WkSA\\x08\\x00\\x00\\x00\\xa5\\xaa7A\\x08\\x00\\x00\\x00\\xe2\\xbc8A\\x08\\x00\\x00\\x00\\x85\\x8d>A\\x08\\x00\\x00\\x00\\xd7\\xfb/A\\x08\\x00\\x00\\x00\\x84\\xc21A\\x08\\x00\\x00\\x00\\x9b\\xf75A\\x08\\x00\\x00\\x00D\\xe3QA\\x08\\x00\\x00\\x00\\xfa\\xc18A\\x08\\x00\\x00\\x00p:AA\\x08\\x00\\x00\\x00\\xc4\\x0eeA\\x08\\x00\\x00\\x00\\xc4\\xc8+A\\x08\\x00\\x00\\x00\\xf0\\x8bIA\\x08\\x00\\x00\\x00gMaA\\x08\\x00\\x00\\x00 $EA\\x08\\x00\\x00\\x00\\xd2\\xc5:A\\x08\\x00\\x00\\x00\\x1ck`A\\x08\\x00\\x00\\x00\\x06=%A\\x08\\x00\\x00\\x00\\xff\\xfcjA\\x08\\x00\\x00\\x00\\xf8/4A\\x08\\x00\\x00\\x00\\x96J:A\\x08\\x00\\x00\\x00\\x8c\\xdb_A\\x08\\x00\\x00\\x00\\x14a9A\\x08\\x00\\x00\\x00\\xe9\\xca+A\\x08\\x00\\x00\\x00\\x82\\xaboA\\x08\\x00\\x00\\x00\\xda\\xd6[A\\x08\\x00\\x00\\x00s\\xce%A\\x08\\x00\\x00\\x00\\n\\xbe\\'A\\x08\\x00\\x00\\x00\\x92\\xdf*A\\x08\\x00\\x00\\x00>\\x92!A\\x08\\x00\\x00\\x00C\\x8bFA\\x08\\x00\\x00\\x00\\x86\\xbabA\\x08\\x00\\x00\\x00\\xa1\\x92EA\\x08\\x00\\x00\\x00\\x0c\\xf0\\'A\\x08\\x00\\x00\\x00\\xf7\\t8A\\x08\\x00\\x00\\x00\\x0c\\xf4-A\\x08\\x00\\x00\\x00\\x07#YA\\x08\\x00\\x00\\x00\\xb8j3A\\x08\\x00\\x00\\x00ubLA\\x08\\x00\\x00\\x00:\\xca@A\\x08\\x00\\x00\\x00\\xd3\\xe3jA\\x08\\x00\\x00\\x00\\xd1x;A\\x08\\x00\\x00\\x00(+/A\\x08\\x00\\x00\\x00\\xbbb$A\\x08\\x00\\x00\\x00\\xc5dEA\\x08\\x00\\x00\\x00\\xb6NUA\\x08\\x00\\x00\\x00M\\t8A\\x08\\x00\\x00\\x00\\xb8\\x829A\\x08\\x00\\x00\\x00u\\xd6OA\\x08\\x00\\x00\\x00+-`A\\x08\\x00\\x00\\x00\\xb0\\xc13A\\x08\\x00\\x00\\x006\\x01TA\\x08\\x00\\x00\\x00 \"CA\\x08\\x00\\x00\\x00\\xec\\x985A\\x08\\x00\\x00\\x00\\x83U6A\\x08\\x00\\x00\\x00\\x9b\\xa8oA\\x08\\x00\\x00\\x00V\\xb1[A\\x08\\x00\\x00\\x00\\xc1KbA\\x08\\x00\\x00\\x00\\x80WlA\\x08\\x00\\x00\\x00\\xa6\\x9ccA\\x08\\x00\\x00\\x00>\\x19CA\\x08\\x00\\x00\\x00\\xcdP`A\\x08\\x00\\x00\\x00,\\xb2&A\\x08\\x00\\x00\\x00I\\xe7/A\\x08\\x00\\x00\\x00\\x1c\\xd0KA\\x08\\x00\\x00\\x00\\xd1\\x9b_A\\x08\\x00\\x00\\x00\\x18\\x87RA\\x08\\x00\\x00\\x00u\\x0b_A\\x08\\x00\\x00\\x00\\xe3s]A\\x08\\x00\\x00\\x00J\\x8bnA\\x08\\x00\\x00\\x009\\x9c@A\\x08\\x00\\x00\\x00\\x0b$RA\\x08\\x00\\x00\\x00\\xd9\\xd0!A\\x08\\x00\\x00\\x00\\xb9GdA\\x08\\x00\\x00\\x00\\xc6c#A\\x08\\x00\\x00\\x00M\\x17SA\\x08\\x00\\x00\\x00\\x94\\xbeLA\\x08\\x00\\x00\\x00\\x07\\xd84A\\x08\\x00\\x00\\x00K\\'WA\\x08\\x00\\x00\\x00\\xdc\\xf5lA\\x08\\x00\\x00\\x00r=\\'A\\x08\\x00\\x00\\x00\\xc08<A\\x08\\x00\\x00\\x00\\x96aRA\\x08\\x00\\x00\\x00\\x1c\\xb7PA\\x08\\x00\\x00\\x00\\xdb\\xcaWA\\x08\\x00\\x00\\x001sJA\\x08\\x00\\x00\\x00{\\x7f7A\\x08\\x00\\x00\\x00`\\xa1&A\\x08\\x00\\x00\\x00O[^A\\x08\\x00\\x00\\x00\\x05\\x81cA\\x08\\x00\\x00\\x00\\xba\\x8eMA\\x08\\x00\\x00\\x00\\xa0\\x87jA\\x08\\x00\\x00\\x00\\x1dmAA\\x08\\x00\\x00\\x00/8+A\\x08\\x00\\x00\\x00|\\x823A\\x08\\x00\\x00\\x006\\x17NA\\x08\\x00\\x00\\x00\\x86\\xaemA\\x08\\x00\\x00\\x00\\x02\\xe09A\\x08\\x00\\x00\\x00\\x82\\xf0BA\\x08\\x00\\x00\\x00\\xb9\\xff\"A\\x08\\x00\\x00\\x00i\\x9ePA\\x08\\x00\\x00\\x00\\x17\\x0b%A\\x08\\x00\\x00\\x00u\\x01&A\\x08\\x00\\x00\\x00\\x1aDhA\\x08\\x00\\x00\\x00\\x88+dA\\x08\\x00\\x00\\x00N\\xe9<A'\n"
     ]
    }
   ],
   "source": [
    "print(r.memory())"
   ]
  },
  {
   "cell_type": "code",
   "execution_count": 25,
   "metadata": {},
   "outputs": [
    {
     "name": "stdout",
     "output_type": "stream",
     "text": [
      "960\r\n"
     ]
    }
   ],
   "source": [
    "print(len(r.memory()))"
   ]
  },
  {
   "cell_type": "code",
   "execution_count": 30,
   "metadata": {},
   "outputs": [
    {
     "name": "stdout",
     "output_type": "stream",
     "text": [
      "480\r\n"
     ]
    }
   ],
   "source": [
    "print(24*20)"
   ]
  },
  {
   "cell_type": "code",
   "execution_count": 28,
   "metadata": {},
   "outputs": [
    {
     "name": "stdout",
     "output_type": "stream",
     "text": [
      "b'\\x08\\x00\\x00\\x00#oXA\\x08\\x00\\x00\\x00j\\x80]A\\x08\\x00\\x00\\x00\\x1aCeA\\x08\\x00\\x00\\x008\\x05?A\\x08\\x00\\x00\\x000;7A\\x08\\x00\\x00\\x00J\\xe7gA\\x08\\x00\\x00\\x00\\xd6\\xc1]A\\x08\\x00\\x00\\x00d3%A\\x08\\x00\\x00\\x00\\xcaHaA\\x08\\x00\\x00\\x00\\xf9\\xc3\\\\A\\x08\\x00\\x00\\x00\\xd6V2A\\x08\\x00\\x00\\x00\\xeaE*A\\x08\\x00\\x00\\x00\\xe2\\xf9MA\\x08\\x00\\x00\\x00\\xe0r9A\\x08\\x00\\x00\\x00WkSA\\x08\\x00\\x00\\x00\\xa5\\xaa7A\\x08\\x00\\x00\\x00\\xe2\\xbc8A\\x08\\x00\\x00\\x00\\x85\\x8d>A\\x08\\x00\\x00\\x00\\xd7\\xfb/A\\x08\\x00\\x00\\x00\\x84\\xc21A\\x08\\x00\\x00\\x00\\x9b\\xf75A\\x08\\x00\\x00\\x00D\\xe3QA\\x08\\x00\\x00\\x00\\xfa\\xc18A\\x08\\x00\\x00\\x00p:AA\\x08\\x00\\x00\\x00\\xc4\\x0eeA\\x08\\x00\\x00\\x00\\xc4\\xc8+A\\x08\\x00\\x00\\x00\\xf0\\x8bIA\\x08\\x00\\x00\\x00gMaA\\x08\\x00\\x00\\x00 $EA\\x08\\x00\\x00\\x00\\xd2\\xc5:A\\x08\\x00\\x00\\x00\\x1ck`A\\x08\\x00\\x00\\x00\\x06=%A\\x08\\x00\\x00\\x00\\xff\\xfcjA\\x08\\x00\\x00\\x00\\xf8/4A\\x08\\x00\\x00\\x00\\x96J:A\\x08\\x00\\x00\\x00\\x8c\\xdb_A\\x08\\x00\\x00\\x00\\x14a9A\\x08\\x00\\x00\\x00\\xe9\\xca+A\\x08\\x00\\x00\\x00\\x82\\xaboA\\x08\\x00\\x00\\x00\\xda\\xd6[A\\x08\\x00\\x00\\x00s\\xce%A\\x08\\x00\\x00\\x00\\n\\xbe\\'A\\x08\\x00\\x00\\x00\\x92\\xdf*A\\x08\\x00\\x00\\x00>\\x92!A\\x08\\x00\\x00\\x00C\\x8bFA\\x08\\x00\\x00\\x00\\x86\\xbabA\\x08\\x00\\x00\\x00\\xa1\\x92EA\\x08\\x00\\x00\\x00\\x0c\\xf0\\'A\\x08\\x00\\x00\\x00\\xf7\\t8A\\x08\\x00\\x00\\x00\\x0c\\xf4-A\\x08\\x00\\x00\\x00\\x07#YA\\x08\\x00\\x00\\x00\\xb8j3A\\x08\\x00\\x00\\x00ubLA\\x08\\x00\\x00\\x00:\\xca@A\\x08\\x00\\x00\\x00\\xd3\\xe3jA\\x08\\x00\\x00\\x00\\xd1x;A\\x08\\x00\\x00\\x00(+/A\\x08\\x00\\x00\\x00\\xbbb$A\\x08\\x00\\x00\\x00\\xc5dEA\\x08\\x00\\x00\\x00\\xb6NUA\\x08\\x00\\x00\\x00M\\t8A\\x08\\x00\\x00\\x00\\xb8\\x829A\\x08\\x00\\x00\\x00u\\xd6OA\\x08\\x00\\x00\\x00+-`A\\x08\\x00\\x00\\x00\\xb0\\xc13A\\x08\\x00\\x00\\x006\\x01TA\\x08\\x00\\x00\\x00 \"CA\\x08\\x00\\x00\\x00\\xec\\x985A\\x08\\x00\\x00\\x00\\x83U6A\\x08\\x00\\x00\\x00\\x9b\\xa8oA\\x08\\x00\\x00\\x00V\\xb1[A\\x08\\x00\\x00\\x00\\xc1KbA\\x08\\x00\\x00\\x00\\x80WlA\\x08\\x00\\x00\\x00\\xa6\\x9ccA\\x08\\x00\\x00\\x00>\\x19CA\\x08\\x00\\x00\\x00\\xcdP`A\\x08\\x00\\x00\\x00,\\xb2&A\\x08\\x00\\x00\\x00I\\xe7/A\\x08\\x00\\x00\\x00\\x1c\\xd0KA\\x08\\x00\\x00\\x00\\xd1\\x9b_A\\x08\\x00\\x00\\x00\\x18\\x87RA\\x08\\x00\\x00\\x00u\\x0b_A\\x08\\x00\\x00\\x00\\xe3s]A\\x08\\x00\\x00\\x00J\\x8bnA\\x08\\x00\\x00\\x009\\x9c@A\\x08\\x00\\x00\\x00\\x0b$RA\\x08\\x00\\x00\\x00\\xd9\\xd0!A\\x08\\x00\\x00\\x00\\xb9GdA\\x08\\x00\\x00\\x00\\xc6c#A\\x08\\x00\\x00\\x00M\\x17SA\\x08\\x00\\x00\\x00\\x94\\xbeLA\\x08\\x00\\x00\\x00\\x07\\xd84A\\x08\\x00\\x00\\x00K\\'WA\\x08\\x00\\x00\\x00\\xdc\\xf5lA\\x08\\x00\\x00\\x00r=\\'A\\x08\\x00\\x00\\x00\\xc08<A\\x08\\x00\\x00\\x00\\x96aRA\\x08\\x00\\x00\\x00\\x1c\\xb7PA\\x08\\x00\\x00\\x00\\xdb\\xcaWA\\x08\\x00\\x00\\x001sJA\\x08\\x00\\x00\\x00{\\x7f7A\\x08\\x00\\x00\\x00`\\xa1&A\\x08\\x00\\x00\\x00O[^A\\x08\\x00\\x00\\x00\\x05\\x81cA\\x08\\x00\\x00\\x00\\xba\\x8eMA\\x08\\x00\\x00\\x00\\xa0\\x87jA\\x08\\x00\\x00\\x00\\x1dmAA\\x08\\x00\\x00\\x00/8+A\\x08\\x00\\x00\\x00|\\x823A\\x08\\x00\\x00\\x006\\x17NA\\x08\\x00\\x00\\x00\\x86\\xaemA\\x08\\x00\\x00\\x00\\x02\\xe09A\\x08\\x00\\x00\\x00\\x82\\xf0BA\\x08\\x00\\x00\\x00\\xb9\\xff\"A\\x08\\x00\\x00\\x00i\\x9ePA\\x08\\x00\\x00\\x00\\x17\\x0b%A\\x08\\x00\\x00\\x00u\\x01&A\\x08\\x00\\x00\\x00\\x1aDhA\\x08\\x00\\x00\\x00\\x88+dA\\x08\\x00\\x00\\x00N\\xe9<A'\n"
     ]
    }
   ],
   "source": [
    "import machine\n",
    "r = machine.RTC()\n",
    "print(r.memory())"
   ]
  },
  {
   "cell_type": "code",
   "execution_count": null,
   "metadata": {},
   "outputs": [],
   "source": []
  },
  {
   "cell_type": "code",
   "execution_count": 190,
   "metadata": {},
   "outputs": [],
   "source": []
  },
  {
   "cell_type": "code",
   "execution_count": 191,
   "metadata": {},
   "outputs": [
    {
     "name": "stdout",
     "output_type": "stream",
     "text": [
      "2019-08-08T15:33:08.000\r\n"
     ]
    }
   ],
   "source": [
    "print(jsepochtoisodate(rtctojsepoch(i2c)))"
   ]
  },
  {
   "cell_type": "code",
   "execution_count": 182,
   "metadata": {},
   "outputs": [
    {
     "name": "stdout",
     "output_type": "stream",
     "text": [
      "None\r\n"
     ]
    }
   ],
   "source": [
    "print(jsepochtortc(isodatetojsepoch(\"2019-08-08T15:32:22.000\"), i2c))"
   ]
  },
  {
   "cell_type": "code",
   "execution_count": null,
   "metadata": {},
   "outputs": [],
   "source": []
  },
  {
   "cell_type": "code",
   "execution_count": null,
   "metadata": {},
   "outputs": [],
   "source": []
  },
  {
   "cell_type": "code",
   "execution_count": null,
   "metadata": {},
   "outputs": [],
   "source": []
  },
  {
   "cell_type": "markdown",
   "metadata": {},
   "source": [
    "This is the for connecting to a pressure sensor \n",
    "at the bottom of a lake and logging it to its own \n",
    "memory.\n",
    "\n",
    "For now it will do it to MQTT"
   ]
  },
  {
   "cell_type": "code",
   "execution_count": 124,
   "metadata": {},
   "outputs": [
    {
     "name": "stdout",
     "output_type": "stream",
     "text": [
      "\u001b[34mConnecting to --port=/dev/ttyUSB7 --baud=115200 \u001b[0m\n",
      "\u001b[34mReady.\n",
      "\u001b[0m"
     ]
    }
   ],
   "source": [
    "%serialconnect"
   ]
  },
  {
   "cell_type": "code",
   "execution_count": 125,
   "metadata": {},
   "outputs": [
    {
     "name": "stdout",
     "output_type": "stream",
     "text": [
      "Sent 80 lines (1938 bytes) to main.py.\n"
     ]
    }
   ],
   "source": [
    "%sendtofile main.py\n",
    "\n",
    "import machine, time, network, os\n",
    "\n",
    "sleepperiod = const(1)\n",
    "mqtt_local = \"10.0.29.167\"\n",
    "\n",
    "\n",
    "#\n",
    "# Get the RTC working\n",
    "#\n",
    "i2c = machine.I2C(scl=machine.Pin(4), sda=machine.Pin(5)) \n",
    "epoch1970 = const(946684800000)   # esp8266 has 2000 epoch\n",
    "def rhex(h):  return (h>>4)*10 + (h&0x0f)\n",
    "def rtctojsepoch():\n",
    "    r = i2c.readfrom_mem(0x68, 0x00, 7)\n",
    "    year, month, day = rhex(r[6])+2000, rhex(r[5]), rhex(r[4])\n",
    "    hour, minute, second = rhex(r[2]), rhex(r[1]), rhex(r[0])\n",
    "    microsecond = 0\n",
    "    micropythonepoch = time.mktime((year, month, day, hour, minute, second, -1, -1))\n",
    "    return micropythonepoch*1000 + microsecond + epoch1970   # esp8266 has 2000 \n",
    "\n",
    "def jsepochtoisodate(jsepoch):\n",
    "    micropythonepoch = (jsepoch - epoch1970)//1000\n",
    "    microsecond = jsepoch % 1000\n",
    "    year, month, day, hour, minute, second, d1, d2 = time.localtime(micropythonepoch)\n",
    "    return \"{0:04d}-{1:02d}-{2:02d}T{3:02d}:{4:02d}:{5:02d}.{6:03d}\".format(year, month, day, hour, minute, second, microsecond)\n",
    "\n",
    "#\n",
    "# make name of datafile\n",
    "#\n",
    "for i in range(100):\n",
    "    fname = \"data%03d.txt\" % i\n",
    "    try:     os.stat(fname)\n",
    "    except OSError:  break\n",
    "print(fname)\n",
    "\n",
    "#\n",
    "# connect MQTT\n",
    "#\n",
    "sta_if = network.WLAN(network.STA_IF)\n",
    "sta_if.active(True)\n",
    "sta_if.connect(\"DoESLiverpool\", \"decafbad00\")\n",
    "while not sta_if.isconnected():\n",
    "    pass\n",
    "\n",
    "print(\"connected to wifi\")\n",
    "from umqtt.robust import MQTTClient\n",
    "client = MQTTClient(\"lakelogger\", mqtt_local)\n",
    "client.connect()\n",
    "print(\"connected to mqtt\")\n",
    "\n",
    "\n",
    "#\n",
    "# Connect to ADC\n",
    "#\n",
    "adc = machine.ADC(0)\n",
    "\n",
    "\n",
    "#\n",
    "# Main working loop\n",
    "#\n",
    "n = 0\n",
    "fout = None\n",
    "while True:\n",
    "    n += 1\n",
    "    aval = adc.read()\n",
    "    if fout is None:\n",
    "        fout = open(fname, \"aw\")\n",
    "    client.publish(b\"lakelogger/level\", str(aval))\n",
    "    try:\n",
    "        ts = jsepochtoisodate(rtctojsepoch())\n",
    "    except OSError as e:\n",
    "        ts = \"unknown\"\n",
    "    fout.write(\"%s %d\\n\" % (ts, aval))\n",
    "    if (n%10) == 0:\n",
    "        fout.flush()\n",
    "        fout.close()\n",
    "        fout = None\n",
    "\n",
    "    time.sleep(sleepperiod)\n",
    "    "
   ]
  },
  {
   "cell_type": "code",
   "execution_count": 106,
   "metadata": {},
   "outputs": [
    {
     "name": "stdout",
     "output_type": "stream",
     "text": [
      "serial exception on close write failed: [Errno 5] Input/output error\n",
      "\u001b[34mConnecting to --port=/dev/ttyUSB7 --baud=115200 \u001b[0m\n",
      "\u001b[34mReady.\n",
      "\u001b[0m"
     ]
    }
   ],
   "source": []
  },
  {
   "cell_type": "code",
   "execution_count": 127,
   "metadata": {
    "scrolled": true
   },
   "outputs": [
    {
     "name": "stdout",
     "output_type": "stream",
     "text": [
      "\u001b[34mConnecting to --port=/dev/ttyUSB7 --baud=115200 \u001b[0m\n",
      "\u001b[34mReady.\n",
      "\u001b[0mdata000.txt 0\n"
     ]
    }
   ],
   "source": [
    "# Check what files we have\n",
    "%serialconnect\n",
    "import os\n",
    "for f in os.ilistdir():\n",
    "    if f[0][0] == \"d\":\n",
    "        print(f[0], f[3])\n"
   ]
  },
  {
   "cell_type": "code",
   "execution_count": 126,
   "metadata": {},
   "outputs": [
    {
     "name": "stdout",
     "output_type": "stream",
     "text": [
      "\u001b[34mattempt to exit paste mode\n",
      "\u001b[0m\u001b[34m[\\r\\x03\\x02] \u001b[0mb'\\r\\nMicroPython v1.9.4-8-ga9a3caad0 on 2018-05-11; ESP module with ESP8266\\r\\nType \"help()\" for more information.\\r\\n>>> '\u001b[34m\n",
      "Closing serial Serial<id=0x7f72a1c13390, open=True>(port='/dev/ttyUSB7', baudrate=115200, bytesize=8, parity='N', stopbits=1, timeout=0.5, xonxoff=False, rtscts=False, dsrdtr=False)\n",
      "\u001b[0m"
     ]
    }
   ],
   "source": [
    "%disconnect"
   ]
  },
  {
   "cell_type": "code",
   "execution_count": 103,
   "metadata": {},
   "outputs": [
    {
     "name": "stdout",
     "output_type": "stream",
     "text": [
      "Fetched 22680=22680 bytes from data000.txt.\n",
      "Saving file to 'data000.txt'"
     ]
    }
   ],
   "source": [
    "%fetchfile --binary data000.txt"
   ]
  },
  {
   "cell_type": "code",
   "execution_count": 238,
   "metadata": {},
   "outputs": [
    {
     "name": "stdout",
     "output_type": "stream",
     "text": [
      "\u001b[34mConnecting to --port=/dev/ttyUSB6 --baud=115200 \u001b[0m\n",
      "\u001b[34mReady.\n",
      "\u001b[0m"
     ]
    }
   ],
   "source": [
    "%serialconnect"
   ]
  },
  {
   "cell_type": "code",
   "execution_count": 211,
   "metadata": {},
   "outputs": [
    {
     "name": "stdout",
     "output_type": "stream",
     "text": [
      "80000000\r\n"
     ]
    }
   ],
   "source": [
    "import machine\n",
    "print(machine.freq())"
   ]
  },
  {
   "cell_type": "code",
   "execution_count": 140,
   "metadata": {},
   "outputs": [],
   "source": []
  },
  {
   "cell_type": "code",
   "execution_count": 239,
   "metadata": {},
   "outputs": [
    {
     "name": "stdout",
     "output_type": "stream",
     "text": [
      "Sent 23 lines (523 bytes) to main.py.\n"
     ]
    }
   ],
   "source": [
    "%sendtofile main.py\n",
    "\n",
    "#\n",
    "# Demo of deep sleep cycle (pin16 to RST on ESP8266)\n",
    "#\n",
    "import machine\n",
    "st = str(machine.RTC().datetime())\n",
    "f = open(\"log.txt\", \"a\")\n",
    "f.write(st)\n",
    "print(st)\n",
    "if machine.reset_cause() == machine.DEEPSLEEP_RESET:\n",
    "    f.write('  woke from a deep sleep\\n')\n",
    "else:\n",
    "    f.write('  power on or hard reset\\n')\n",
    "f.close()\n",
    "\n",
    "import time\n",
    "p = machine.Pin(4, machine.Pin.OUT)\n",
    "for i in range(20):\n",
    "    p.value(i%2)\n",
    "    time.sleep(0.2)\n",
    "p.init(machine.Pin.IN)\n",
    "\n",
    "# configure RTC.ALARM0 to be able to wake the device\n",
    "machine.deepsleep(sleep_ms=5000)\n"
   ]
  },
  {
   "cell_type": "code",
   "execution_count": 233,
   "metadata": {},
   "outputs": [
    {
     "name": "stdout",
     "output_type": "stream",
     "text": [
      "\u001b[34mConnecting to --port=/dev/ttyUSB6 --baud=115200 \u001b[0m\n",
      "\u001b[34mReady.\n",
      "\u001b[0m"
     ]
    }
   ],
   "source": [
    "%serialconnect"
   ]
  },
  {
   "cell_type": "code",
   "execution_count": 229,
   "metadata": {},
   "outputs": [
    {
     "name": "stdout",
     "output_type": "stream",
     "text": [
      "\u001b[34m\n",
      "\n",
      "*** Sending Ctrl-C\n",
      "\n",
      "\u001b[0m"
     ]
    },
    {
     "name": "stderr",
     "output_type": "stream",
     "text": [
      "Traceback (most recent call last):\n",
      "  File \"<stdin>\", line 8, in <module>\n",
      "KeyboardInterrupt: \n"
     ]
    }
   ],
   "source": [
    "#%sendtofile main.py\n",
    "\n",
    "import time, machine\n",
    "#p = machine.Pin(2, machine.Pin.OUT)\n",
    "p = machine.Pin(4, machine.Pin.OUT)\n",
    "for i in range(221):\n",
    "    p.value(i%2)\n",
    "    time.sleep(0.6)\n"
   ]
  },
  {
   "cell_type": "code",
   "execution_count": 230,
   "metadata": {},
   "outputs": [],
   "source": [
    "p.init(machine.Pin.IN)"
   ]
  },
  {
   "cell_type": "code",
   "execution_count": 177,
   "metadata": {},
   "outputs": [
    {
     "name": "stderr",
     "output_type": "stream",
     "text": [
      "Traceback (most recent call last):\n",
      "  File \"<stdin>\", line 1, in <module>\n",
      "OSError: [Errno 2] ENOENT\n"
     ]
    }
   ],
   "source": [
    "for l in open(\"log.txt\"):\n",
    "    print(l, end=\"\")"
   ]
  },
  {
   "cell_type": "code",
   "execution_count": 161,
   "metadata": {},
   "outputs": [
    {
     "name": "stdout",
     "output_type": "stream",
     "text": [
      "\u001b[34mattempt to exit paste mode\n",
      "\u001b[0m\u001b[34m[\\r\\x03\\x02] \u001b[0mb'\\r\\nMicroPython v1.9.4-8-ga9a3caad0 on 2018-05-11; ESP module with ESP8266\\r\\nType \"help()\" for more information.\\r\\n>>> '\u001b[34m\n",
      "Closing serial Serial<id=0x7f72a1c133c8, open=True>(port='/dev/ttyUSB7', baudrate=115200, bytesize=8, parity='N', stopbits=1, timeout=0.5, xonxoff=False, rtscts=False, dsrdtr=False)\n",
      "\u001b[0m"
     ]
    }
   ],
   "source": [
    "%disconnect"
   ]
  },
  {
   "cell_type": "code",
   "execution_count": null,
   "metadata": {},
   "outputs": [],
   "source": []
  },
  {
   "cell_type": "code",
   "execution_count": null,
   "metadata": {},
   "outputs": [],
   "source": []
  },
  {
   "cell_type": "code",
   "execution_count": null,
   "metadata": {},
   "outputs": [],
   "source": []
  },
  {
   "cell_type": "code",
   "execution_count": null,
   "metadata": {},
   "outputs": [],
   "source": [
    "#\n",
    "# Call this to set the time on the external RTC\n",
    "#\n",
    "import ure\n",
    "def dhex(v):  return chr(((v//10)<<4) + (v%10))\n",
    "def jsepochtortc(jsepoch):\n",
    "    micropythonepoch = (jsepoch - epoch1970)//1000\n",
    "    microsecond = jsepoch % 1000\n",
    "    year, month, day, hour, minute, second, d1, d2 = time.localtime(micropythonepoch)\n",
    "    i2c.writeto(0x68, chr(0) + dhex(second) + dhex(minute) + dhex(hour))\n",
    "    i2c.writeto(0x68, chr(4) + dhex(day) + dhex(month) + dhex(year-2000))\n",
    "def isodatetojsepoch(isodate):\n",
    "    mtime = ure.match(\"(\\d\\d\\d\\d)-(\\d\\d)-(\\d\\d)[T ](\\d\\d)[:c](\\d\\d)[:c](\\d\\d)[\\.d](\\d\\d\\d)\", isodate)\n",
    "    year, month, day, hour, minute, second, microsecond = int(mtime.group(1)), int(mtime.group(2)), int(mtime.group(3)), int(mtime.group(4)), int(mtime.group(5)), int(mtime.group(6)), int(mtime.group(7)) \n",
    "    micropythonepoch = time.mktime((year, month, day, hour, minute, second, -1, -1))\n",
    "    return micropythonepoch*1000 + microsecond + epoch1970\n",
    "#jsepochtortc(isodatetojsepoch(\"2018-11-16T13:00:00.000\"))\n"
   ]
  }
 ],
 "metadata": {
  "kernelspec": {
   "display_name": "MicroPython - USB",
   "language": "micropython",
   "name": "micropython"
  },
  "language_info": {
   "codemirror_mode": "python",
   "file_extension": ".py",
   "mimetype": "text/python",
   "name": "micropython"
  }
 },
 "nbformat": 4,
 "nbformat_minor": 2
}
