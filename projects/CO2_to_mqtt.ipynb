{
 "cells": [
  {
   "cell_type": "code",
   "execution_count": 393,
   "metadata": {},
   "outputs": [
    {
     "name": "stdout",
     "output_type": "stream",
     "text": [
      "serial exception on close write failed: [Errno 5] Input/output error\n",
      "\u001b[34mConnecting to --port=/dev/ttyUSB1 --baud=115200 \u001b[0m\n",
      "\u001b[34mReady.\n",
      "\u001b[0m"
     ]
    }
   ],
   "source": [
    "%serialconnect"
   ]
  },
  {
   "cell_type": "code",
   "execution_count": null,
   "metadata": {},
   "outputs": [],
   "source": []
  },
  {
   "cell_type": "code",
   "execution_count": 57,
   "metadata": {},
   "outputs": [
    {
     "name": "stdout",
     "output_type": "stream",
     "text": [
      "[105]\r\n"
     ]
    }
   ],
   "source": [
    "#esp8266\n",
    "from machine import I2C, Pin\n",
    "i2c = I2C(scl=Pin(5, Pin.OUT, Pin.PULL_UP), sda=Pin(4, Pin.OUT, Pin.PULL_UP), freq=400000)\n",
    "# D1=5, D2=4\n",
    "print(i2c.scan())  \n",
    "#a = i2c.readfrom_mem(0x5a, 0x06, 3)\n",
    "#print(k)"
   ]
  },
  {
   "cell_type": "code",
   "execution_count": 411,
   "metadata": {},
   "outputs": [
    {
     "name": "stdout",
     "output_type": "stream",
     "text": [
      "\u001b[34mConnecting to --port=/dev/ttyUSB2 --baud=115200 \u001b[0m\n",
      "\u001b[34mReady.\n",
      "\u001b[0m"
     ]
    }
   ],
   "source": [
    "%serialconnect"
   ]
  },
  {
   "cell_type": "code",
   "execution_count": 412,
   "metadata": {},
   "outputs": [
    {
     "name": "stdout",
     "output_type": "stream",
     "text": [
      "[105]\r\n"
     ]
    }
   ],
   "source": [
    "#esp32\n",
    "from machine import I2C, Pin\n",
    "i2c = I2C(1, scl=Pin(15), sda=Pin(4), freq=100000)\n",
    "print(i2c.scan())  \n"
   ]
  },
  {
   "cell_type": "code",
   "execution_count": 413,
   "metadata": {},
   "outputs": [],
   "source": [
    "#i2c.writeto(0x69, b'\\x01\\x02')\n",
    "i2c.writeto_mem(0x69, 0x01, b'\\x02')\n",
    "#i2c.writeto_mem(0x69, 0x01, b'\\x06')\n"
   ]
  },
  {
   "cell_type": "code",
   "execution_count": 414,
   "metadata": {},
   "outputs": [
    {
     "name": "stdout",
     "output_type": "stream",
     "text": [
      "[105] 105\r\n"
     ]
    }
   ],
   "source": [
    "print(i2c.scan(), 0x69)"
   ]
  },
  {
   "cell_type": "code",
   "execution_count": 417,
   "metadata": {},
   "outputs": [
    {
     "name": "stdout",
     "output_type": "stream",
     "text": [
      "[b'c\\x04']\r\n"
     ]
    }
   ],
   "source": [
    "print([i2c.readfrom_mem(0x69, 0x03, 2)])\n"
   ]
  },
  {
   "cell_type": "code",
   "execution_count": 418,
   "metadata": {},
   "outputs": [
    {
     "name": "stdout",
     "output_type": "stream",
     "text": [
      "b'<\\x04'\n",
      "b'<\\x04'\n",
      "b'<\\x04'\n",
      "b'<\\x04'\n",
      "b'<\\x04'\n",
      "b'<\\x04'\n",
      "b'<\\x04'\n",
      "b'<\\x04'\n",
      "b'(\\x04'\n",
      "b'(\\x04'\n",
      "b'(\\x04'\n",
      "b'(\\x04'\n",
      "b'(\\x04'\n",
      "b'(\\x04'\n",
      "b'(\\x04'\n",
      "b'(\\x04'\n",
      "b'(\\x04'\n",
      "b'\\x1d\\x04'\n",
      "b'\\x1d\\x04'\n",
      "b'\\x1d\\x04'\n",
      "b'\\x1d\\x04'\n",
      "b'\\x1d\\x04'\n",
      "b'\\x1d\\x04'\n",
      "b'\\x1d\\x04'\n",
      "b'\\x1d\\x04'\n",
      "b'\\x1d\\x04'\n",
      "b'\\x1d\\x04'\n",
      "b'\\x81\\x04'\n",
      "b'\\x81\\x04'\n",
      "b'\\x81\\x04'\n",
      "b'\\x81\\x04'\n",
      "b'\\x81\\x04'\n",
      "b'\\x81\\x04'\n",
      "b'\\x81\\x04'\n",
      "b'\\x81\\x04'\n",
      "b'\\x81\\x04'\n",
      "b'\\xe9\\x04'\n",
      "b'\\xe9\\x04'\n",
      "b'\\xe9\\x04'\n",
      "b'\\xe9\\x04'\n",
      "b'\\xe9\\x04'\n",
      "b'\\xe9\\x04'\n",
      "b'\\xe9\\x04'\n",
      "b'\\xe9\\x04'\n",
      "b'\\xe9\\x04'\n",
      "b'\\xe9\\x04'\n",
      "b'5\\x05'\n",
      "b'5\\x05'\n",
      "b'5\\x05'\n",
      "b'5\\x05'\n",
      "b'5\\x05'\n",
      "b'5\\x05'\n",
      "b'5\\x05'\n",
      "b'5\\x05'\n",
      "b'5\\x05'\n",
      "b's\\x05'\n",
      "b's\\x05'\n",
      "b's\\x05'\n",
      "b's\\x05'\n",
      "b's\\x05'\n",
      "b's\\x05'\n",
      "b's\\x05'\n",
      "b's\\x05'\n",
      "b's\\x05'\n",
      "b'\\x99\\x05'\n",
      "b'\\x99\\x05'\n",
      "b'\\x99\\x05'\n",
      "b'\\x99\\x05'\n",
      "b'\\x99\\x05'\n",
      "b'\\x99\\x05'\n",
      "b'\\x99\\x05'\n",
      "b'\\x99\\x05'\n",
      "b'\\x99\\x05'\n",
      "b'\\xb8\\x05'\n",
      "b'\\xb8\\x05'\n",
      "b'\\xb8\\x05'\n",
      "b'\\xb8\\x05'\n",
      "b'\\xb8\\x05'\n",
      "b'\\xb8\\x05'\n",
      "b'\\xb8\\x05'\n",
      "b'\\xb8\\x05'\n",
      "b'\\xb8\\x05'\n",
      "b'\\xb8\\x05'\n",
      "b'\\xd3\\x05'\n",
      "b'\\xd3\\x05'\n",
      "b'\\xd3\\x05'\n",
      "b'\\xd3\\x05'\n",
      "b'\\xd3\\x05'\n",
      "b'\\xd3\\x05'\n",
      "b'\\xd3\\x05'\n",
      "b'\\xd3\\x05'\n",
      "b'\\xd3\\x05'\n",
      "b'\\xe8\\x05'\n",
      "b'\\xe8\\x05'\n",
      "b'\\xe8\\x05'\n",
      "b'\\xe8\\x05'\n",
      "b'\\xe8\\x05'\n",
      "b'\\xe8\\x05'\n",
      "\n",
      "**[ys] <class 'serial.serialutil.SerialException'>\n",
      "**[ys] device reports readiness to read but returned no data (device disconnected or multiple access on port?)\n",
      "\n",
      "\n",
      "**[ys] <class 'serial.serialutil.SerialException'>\n",
      "**[ys] device reports readiness to read but returned no data (device disconnected or multiple access on port?)\n",
      "\n"
     ]
    }
   ],
   "source": [
    "import time\n",
    "import ustruct \n",
    "for i in range(1000):\n",
    "    try:\n",
    "        k = i2c.readfrom_mem(0x69, 0x03, 2)\n",
    "        print(k)\n",
    "    except OSError:\n",
    "        pass\n",
    "    time.sleep_ms(200)\n",
    "\n",
    "ppm = ustruct.unpack(\"<h\", k)[0]\n",
    "print(ppm)"
   ]
  },
  {
   "cell_type": "code",
   "execution_count": 16,
   "metadata": {},
   "outputs": [],
   "source": [
    "# figaro sensor\n",
    "def readCO2():\n",
    "    # pins are: 1 VDD [square pin], 2 GND, 3 ALARM, 4 PWM, 5 CAD0, \n",
    "    #           6 MSEL (Pulldown for I2C mode, checked only on startup), \n",
    "    #           7 CAL, 8 BUSY, 9 TX/SDA, 10 RC/SCL, 11 NC\n",
    "    k = i2c.readfrom_mem(0x69, 0x03, 2)\n",
    "    ppm = ustruct.unpack(\"<h\", k)[0]\n",
    "    return ppm\n"
   ]
  },
  {
   "cell_type": "code",
   "execution_count": 1,
   "metadata": {},
   "outputs": [
    {
     "name": "stdout",
     "output_type": "stream",
     "text": [
      "\u001b[34mConnecting to --port=/dev/ttyUSB4 --baud=115200 \u001b[0m\n",
      "\u001b[34mReady.\n",
      "\u001b[0m"
     ]
    }
   ],
   "source": [
    "%serialconnect"
   ]
  },
  {
   "cell_type": "code",
   "execution_count": 4,
   "metadata": {},
   "outputs": [],
   "source": [
    "from OLED_driver import fbuff, oledshow"
   ]
  },
  {
   "cell_type": "code",
   "execution_count": 7,
   "metadata": {},
   "outputs": [
    {
     "name": "stdout",
     "output_type": "stream",
     "text": [
      "object <FrameBuffer> is of type FrameBuffer\n",
      "  fill -- <function>\n",
      "  fill_rect -- <function>\n",
      "  pixel -- <function>\n",
      "  hline -- <function>\n",
      "  vline -- <function>\n",
      "  rect -- <function>\n",
      "  line -- <function>\n",
      "  blit -- <function>\n",
      "  scroll -- <function>\n",
      "  text -- <function>\n"
     ]
    }
   ],
   "source": [
    "help(fbuff)"
   ]
  },
  {
   "cell_type": "code",
   "execution_count": 12,
   "metadata": {},
   "outputs": [
    {
     "name": "stderr",
     "output_type": "stream",
     "text": [
      "Traceback (most recent call last):\n",
      "  File \"<stdin>\", line 4, in <module>\n",
      "NameError: name 'foledshow' isn't defined\n"
     ]
    }
   ],
   "source": [
    "for i in range(50):\n",
    "#    fbuff.fill(0)\n",
    "    fbuff.text(\"hi there\", i, i)\n",
    "    foledshow()"
   ]
  },
  {
   "cell_type": "code",
   "execution_count": 77,
   "metadata": {},
   "outputs": [
    {
     "name": "stdout",
     "output_type": "stream",
     "text": [
      "Sent 638 lines (23042 bytes) to mqtt_as.py.\n"
     ]
    }
   ],
   "source": [
    "# This requires you to checkout https://github.com/micropython/micropython-lib and avoids the upip\n",
    "%sendtofile --mkdir --source /home/julian/extrepositories/micropython-lib/uasyncio/uasyncio/__init__.py lib/uasyncio/\n",
    "%sendtofile --mkdir --source /home/julian/extrepositories/micropython-lib/uasyncio.core/uasyncio/core.py lib/uasyncio/\n",
    "%sendtofile --mkdir --source /home/julian/extrepositories/micropython-lib/uasyncio.queues/uasyncio/queues.py lib/uasyncio/\n",
    "%sendtofile --mkdir --source /home/julian/extrepositories/micropython-lib/uasyncio.synchro/uasyncio/synchro.py lib/uasyncio/\n",
    "\n",
    "# This requires you to checkout https://github.com/peterhinch/micropython-async\n",
    "%sendtofile --source /home/julian/extrepositories/micropython-async/asyn.py\n",
    "%sendtofile --source /home/julian/extrepositories/micropython-async/aswitch.py\n",
    "\n",
    "# This requires you to checkout https://github.com/peterhinch/micropython-mqtt/tree/master/mqtt_as\n",
    "%sendtofile --source /home/julian/extrepositories/micropython-mqtt/mqtt_as/mqtt_as.py\n"
   ]
  },
  {
   "cell_type": "code",
   "execution_count": 61,
   "metadata": {},
   "outputs": [],
   "source": [
    "from machine import I2C, Pin\n",
    "import time\n",
    "from mqtt_as import MQTTClient, config\n",
    "import uasyncio as asyncio\n",
    "pled = Pin(2, Pin.OUT)\n"
   ]
  },
  {
   "cell_type": "code",
   "execution_count": 63,
   "metadata": {},
   "outputs": [],
   "source": [
    "pled.value(1)"
   ]
  },
  {
   "cell_type": "code",
   "execution_count": 2,
   "metadata": {},
   "outputs": [
    {
     "name": "stdout",
     "output_type": "stream",
     "text": [
      "Sent 63 lines (1639 bytes) to main.py.\n"
     ]
    }
   ],
   "source": [
    "%sendtofile main.py\n",
    "\n",
    "from machine import I2C, Pin\n",
    "import time\n",
    "from mqtt_as import MQTTClient, config\n",
    "import uasyncio as asyncio\n",
    "\n",
    "i2c = I2C(scl=Pin(5, Pin.OUT, Pin.PULL_UP), sda=Pin(4, Pin.OUT, Pin.PULL_UP), freq=100000)\n",
    "pled = Pin(2, Pin.OUT)\n",
    "\n",
    "co2ppm = 0\n",
    "co2new = False\n",
    "co2Time = 0\n",
    "\n",
    "async def readco2():\n",
    "    while True:\n",
    "        global co2ppm, co2new, co2Time\n",
    "        try:\n",
    "            k = i2c.readfrom_mem(0x69, 0x03, 2)\n",
    "            co2ppm = (k[0]+k[1]*256)\n",
    "            co2new = True\n",
    "            print(co2ppm)\n",
    "        except OSError:\n",
    "            co2new = False\n",
    "        if co2new:\n",
    "            pled.value(1)\n",
    "            await asyncio.sleep_ms(50)\n",
    "            pled.value(0)\n",
    "        co2Time = time.ticks_ms()\n",
    "        await asyncio.sleep_ms(200)\n",
    "        \n",
    "\n",
    "# Include any cross-project settings.\n",
    "config['server'] = \"10.3.141.1\"\n",
    "config['ssid'] = 'mqtt-wifi'  # EDIT if you're using ESP32\n",
    "config['wifi_pw'] = 'bubblino'\n",
    "config['mqttchannel'] = \"dust\"\n",
    "\n",
    "mqttchannelppm = config['mqttchannel']+'/co2ppm'\n",
    "\n",
    "async def main(client):\n",
    "    pled.value(1)\n",
    "    print(\"Connecting.\")\n",
    "    await client.connect()\n",
    "    print(\"Connected.\")\n",
    "    for i in range(11):\n",
    "        pled.value(i%2)\n",
    "        await asyncio.sleep_ms(100)\n",
    "\n",
    "    while True:\n",
    "        if not co2new:  # no inconsistency problem on this as async\n",
    "            await client.publish(mqttchannelppm, '%d'%co2ppm, qos=1)\n",
    "        await asyncio.sleep_ms(200)\n",
    "\n",
    "\n",
    "MQTTClient.DEBUG = True  # Optional: print diagnostic messages\n",
    "client = MQTTClient(config)\n",
    "aloop = asyncio.get_event_loop()\n",
    "aloop.create_task(readco2())\n",
    "try:\n",
    "    aloop.run_until_complete(main(client))\n",
    "except Exception:\n",
    "    pass\n",
    "client.close()  # Prevent LmacRxBlk:1 errors\n",
    "\n"
   ]
  },
  {
   "cell_type": "code",
   "execution_count": 3,
   "metadata": {},
   "outputs": [
    {
     "name": "stdout",
     "output_type": "stream",
     "text": [
      "\u001b[34mattempt to exit paste mode\n",
      "\u001b[0m\u001b[34m[\\r\\x03\\x02] \u001b[0mb'\\r\\nMicroPython v1.10 on 2019-01-25; ESP32 module with ESP32\\r\\nType \"help()\" for more information.\\r\\n>>> '\u001b[34m\n",
      "Closing serial Serial<id=0x7f7713a40358, open=True>(port='/dev/ttyUSB0', baudrate=115200, bytesize=8, parity='N', stopbits=1, timeout=0.5, xonxoff=False, rtscts=False, dsrdtr=False)\n",
      "\u001b[0m"
     ]
    }
   ],
   "source": [
    "%disconnect"
   ]
  },
  {
   "cell_type": "code",
   "execution_count": null,
   "metadata": {},
   "outputs": [],
   "source": []
  }
 ],
 "metadata": {
  "kernelspec": {
   "display_name": "MicroPython - USB",
   "language": "micropython",
   "name": "micropython"
  },
  "language_info": {
   "codemirror_mode": "python",
   "file_extension": ".py",
   "mimetype": "text/python",
   "name": "micropython"
  }
 },
 "nbformat": 4,
 "nbformat_minor": 2
}
