{
 "cells": [
  {
   "cell_type": "markdown",
   "metadata": {},
   "source": [
    "Handle the big message panel of lower down one has github issues.\n",
    "(See led_panel_1x20 for the short one)"
   ]
  },
  {
   "cell_type": "code",
   "execution_count": null,
   "metadata": {},
   "outputs": [],
   "source": []
  },
  {
   "cell_type": "markdown",
   "metadata": {},
   "source": [
    "# github issues panel"
   ]
  },
  {
   "cell_type": "code",
   "execution_count": 4,
   "metadata": {},
   "outputs": [
    {
     "name": "stdout",
     "output_type": "stream",
     "text": [
      "\u001b[34mConnecting to --port=/dev/ttyUSB6 --baud=115200 \u001b[0m\n",
      "\u001b[34mReady.\n",
      "\u001b[0m"
     ]
    }
   ],
   "source": [
    "%serialconnect"
   ]
  },
  {
   "cell_type": "code",
   "execution_count": 2,
   "metadata": {},
   "outputs": [
    {
     "name": "stdout",
     "output_type": "stream",
     "text": [
      "Sent 7 lines (148 bytes) to config.txt.\n"
     ]
    }
   ],
   "source": [
    "%sendtofile config.txt\n",
    "\n",
    "wifiname     DoESLiverpool\n",
    "wifipassword decafbad00\n",
    "mqttbroker   10.0.100.1\n",
    "pinled       2\n",
    "boardname    esp32ledstrip2\n",
    "numledchars  60\n",
    "framedelay   5"
   ]
  },
  {
   "cell_type": "code",
   "execution_count": 9,
   "metadata": {},
   "outputs": [
    {
     "name": "stdout",
     "output_type": "stream",
     "text": [
      "Sent 65 lines (1976 bytes) to ledstrippanel.py.\n"
     ]
    }
   ],
   "source": [
    "%sendtofile ledstrippanel.py\n",
    "\n",
    "import framebuf\n",
    "from machine import Pin, SPI\n",
    "\n",
    "cs, spi = None, None\n",
    "brightnesschars = None\n",
    "buffer = None\n",
    "fbuff = None\n",
    "numledchars = 0\n",
    "# ESP32-HSPI: sck=14, mosi=13\n",
    "\n",
    "def setbrightness(brightness, i0=0, i1=9999):\n",
    "    # 0<=brightness<=15\n",
    "    for i in range(max(i0, 0), min(i1, numledchars)):\n",
    "        brightnesschars[(numledchars - i)*2 - 1] = brightness\n",
    "        \n",
    "def showbrightness():\n",
    "    cs.value(0)  \n",
    "    spi.write(brightnesschars)\n",
    "    cs.value(1)\n",
    "    \n",
    "def scrollbrightness(brightness=0):\n",
    "    for i in range(numledchars - 1):\n",
    "        brightnesschars[(numledchars - i)*2 - 1] = brightnesschars[(numledchars - (i+1))*2 - 1]\n",
    "    brightnesschars[1] = brightness\n",
    "    \n",
    "s = bytearray(8)\n",
    "def show():\n",
    "    for y in range(8):\n",
    "        s[6] = s[4] = s[2] = s[0] = y+1\n",
    "        yp = y*(numledchars+1) + numledchars\n",
    "        cs.value(0)  # cannot put in loop as resets the shifting\n",
    "        for m in range(0, numledchars, 4):\n",
    "            s[1] = buffer[yp - m - 1]\n",
    "            s[3] = buffer[yp - m - 2]\n",
    "            s[5] = buffer[yp - m - 3]\n",
    "            s[7] = buffer[yp - m - 4]\n",
    "            spi.write(s)\n",
    "        cs.value(1)\n",
    "\n",
    "def init():\n",
    "    for i in range(0, 10, 2):\n",
    "        cs.value(0)\n",
    "        x = b\"\\x0c\\x00\\x0f\\x00\\x0b\\x07\\x09\\x00\\x0c\\x01\"[i:i+2]\n",
    "        spi.write(x*numledchars)\n",
    "        cs.value(1)\n",
    "    showbrightness()\n",
    "        \n",
    "def setup(lnumledchars, cspin=26, sckpin=14, mosipin=13):\n",
    "    global numledchars, cs, spi, brightnesschars, buffer, fbuff\n",
    "    numledchars = lnumledchars\n",
    "\n",
    "    brightnesschars = bytearray(bytes([0x0a, 0])*numledchars)\n",
    "    buffer = bytearray(8*(numledchars+1))  # make one extra character to scroll from\n",
    "    fbuffwidth = 8*(numledchars+1)\n",
    "    fbuffheight = 8\n",
    "    fbuff = framebuf.FrameBuffer(buffer, fbuffwidth, fbuffheight, framebuf.MONO_HLSB)\n",
    "\n",
    "    spi = SPI(1, 1000000, sck=Pin(sckpin), mosi=Pin(mosipin))  \n",
    "    cs = Pin(cspin, Pin.OUT)\n",
    "    init()\n",
    "    \n",
    "    for i in range(0, numledchars*8, 4):\n",
    "        fbuff.fill_rect(i, (i%8), 4, 4, 1)\n",
    "    show()\n",
    "    return fbuff\n"
   ]
  },
  {
   "cell_type": "code",
   "execution_count": 143,
   "metadata": {},
   "outputs": [
    {
     "name": "stdout",
     "output_type": "stream",
     "text": [
      "serial exception on close write failed: [Errno 5] Input/output error\n",
      "\u001b[34mConnecting to --port=/dev/ttyUSB1 --baud=115200 \u001b[0m\n",
      "\u001b[34mReady.\n",
      "\u001b[0m"
     ]
    }
   ],
   "source": [
    "%serialconnect"
   ]
  },
  {
   "cell_type": "code",
   "execution_count": 10,
   "metadata": {},
   "outputs": [
    {
     "name": "stdout",
     "output_type": "stream",
     "text": [
      "Sent 54 lines (1724 bytes) to main.py.\n"
     ]
    }
   ],
   "source": [
    "%sendtofile main.py\n",
    "\n",
    "import time\n",
    "\n",
    "fconfig = dict(x.split()  for x in open(\"config.txt\"))\n",
    "numledchars = int(fconfig.get(\"numledchars\", 20))\n",
    "framedelay = int(fconfig.get(\"framedelay\", 10))\n",
    "\n",
    "from ledstrippanel import setup, init, show, setbrightness, showbrightness, scrollbrightness\n",
    "fbuff = setup(numledchars)\n",
    "\n",
    "from ledstrippanel import brightnesschars\n",
    "def scrollbrightness(brightness):\n",
    "    for i in range(numledchars - 1):\n",
    "        brightnesschars[(numledchars - i)*2 - 1] = brightnesschars[(numledchars - (i+1))*2 - 1]\n",
    "    brightnesschars[1] = brightness\n",
    "\n",
    "messagestack = [ ]  # [ [textmessage, headerlength, i] ]\n",
    "\n",
    "def setmessage(ltextmessage):\n",
    "    messagestack.append([ltextmessage, max(ltextmessage.find(\" \"), 0), 0])\n",
    "    \n",
    "def scrollnextchar():\n",
    "    if not messagestack:\n",
    "        return\n",
    "    \n",
    "    # tail message\n",
    "    textmessage, headerlength, i = messagestack[-1]\n",
    "    fbuff.fill_rect(numledchars*8, 0, 8, 8, 0)\n",
    "    c = textmessage[i]  if i < len(textmessage)  else \" \"\n",
    "    fbuff.text(c, numledchars*8, 0, 1)\n",
    "    scrollbrightness(3  if (headerlength and (i < headerlength+1))  else 0)\n",
    "    \n",
    "    # front message\n",
    "    textmessage, headerlength, i = messagestack[0]\n",
    "    if i >= numledchars:\n",
    "        setbrightness(3, 0, headerlength)\n",
    "    showbrightness()\n",
    "\n",
    "    for j in range(8):\n",
    "        fbuff.scroll(-1, 0)\n",
    "        if i >= numledchars:\n",
    "            fbuff.fill_rect(0, 0, headerlength*8, 8, 0)\n",
    "            fbuff.text(textmessage[:headerlength], 0, 0, 1)\n",
    "        show()\n",
    "        #time.sleep_ms(5)\n",
    "        time.sleep_ms(1)\n",
    "\n",
    "    if i >= len(textmessage) + numledchars - headerlength - 1:\n",
    "        setbrightness(0, 0, headerlength)\n",
    "        del messagestack[0]\n",
    "    for messageelement in messagestack:\n",
    "        messageelement[2] = messageelement[2] + 1  # i += 1\n",
    "\n",
    "\n",
    "\n"
   ]
  },
  {
   "cell_type": "code",
   "execution_count": 11,
   "metadata": {},
   "outputs": [
    {
     "name": "stdout",
     "output_type": "stream",
     "text": [
      "Sent 60 lines (1295 bytes) to main.py.\n"
     ]
    }
   ],
   "source": [
    "%sendtofile --append main.py\n",
    "\n",
    "import machine, time, network\n",
    "\n",
    "\n",
    "wifiname = fconfig[\"wifiname\"]\n",
    "wifipassword = fconfig[\"wifipassword\"]\n",
    "mqttbroker = fconfig[\"mqttbroker\"]\n",
    "pled = machine.Pin(int(fconfig[\"pinled\"]), machine.Pin.OUT)\n",
    "\n",
    "pled.value(1)\n",
    "time.sleep(3.5)  # chance to interrupt before wifi is turned on\n",
    "\n",
    "si = network.WLAN(network.STA_IF)\n",
    "si.active(True)\n",
    "\n",
    "print(\"Connecting to\", wifiname)\n",
    "si.connect(wifiname, wifipassword)\n",
    "while not si.isconnected():\n",
    "    time.sleep(0.1)\n",
    "pled.value(0) \n",
    "print(\"connected to wifi\")\n",
    "\n",
    "for i in range(10):\n",
    "    pled.value(i%2)\n",
    "    time.sleep_ms(100)\n",
    "pled.value(1) \n",
    "\n",
    "boardname =  fconfig[\"boardname\"]\n",
    "\n",
    "from umqtt.robust import MQTTClient\n",
    "client = MQTTClient(boardname, mqttbroker, 1883)\n",
    "for i in range(100):\n",
    "    try:\n",
    "        client.connect()\n",
    "        break\n",
    "    except OSError as e:\n",
    "        print(e)\n",
    "pled.value(0) \n",
    "print(\"connected to mqtt\")\n",
    "\n",
    "for i in range(10):\n",
    "    pled.value(i%2)\n",
    "    time.sleep_ms(50)\n",
    "\n",
    "topicmessage = boardname+\"/message\"\n",
    "topicready = boardname+\"/ready\"\n",
    "client.publish(boardname+\"/ip\", si.ifconfig()[0], retain=True, qos=1)\n",
    "\n",
    "newmessage = None\n",
    "\n",
    "def sub_cb(topic, msg):\n",
    "    print((topic, msg))\n",
    "    global newmessage\n",
    "    print(\"Dcallback\", (topic, msg))\n",
    "    newmessage = msg.decode()\n",
    "\n",
    "client.set_callback(sub_cb)\n",
    "client.subscribe(topicmessage)\n",
    "\n",
    "#while True:\n",
    "#    client.wait_msg()\n"
   ]
  },
  {
   "cell_type": "code",
   "execution_count": 12,
   "metadata": {},
   "outputs": [
    {
     "name": "stdout",
     "output_type": "stream",
     "text": [
      "Sent 19 lines (540 bytes) to main.py.\n"
     ]
    }
   ],
   "source": [
    "\n",
    "%sendtofile --append main.py\n",
    "\n",
    "    \n",
    "blankchargap = 10\n",
    "client.publish(topicready, \"next\")\n",
    "while True:\n",
    "    if messagestack:\n",
    "        textmessage, headerlength, i = messagestack[-1]\n",
    "        if i == len(textmessage) and newmessage is None:\n",
    "            client.publish(topicready, \"next\")\n",
    "            init()\n",
    "    \n",
    "    if newmessage is not None and ((not messagestack) or \\\n",
    "                (messagestack[-1][2] > len(messagestack[-1][0]) + blankchargap)):\n",
    "        setmessage(newmessage)\n",
    "        newmessage = None\n",
    "    scrollnextchar()\n",
    "    client.check_msg()\n",
    "    time.sleep_ms(1)\n",
    "\n",
    "\n"
   ]
  },
  {
   "cell_type": "code",
   "execution_count": null,
   "metadata": {},
   "outputs": [],
   "source": []
  },
  {
   "cell_type": "code",
   "execution_count": null,
   "metadata": {},
   "outputs": [],
   "source": []
  },
  {
   "cell_type": "code",
   "execution_count": null,
   "metadata": {},
   "outputs": [],
   "source": []
  },
  {
   "cell_type": "code",
   "execution_count": 346,
   "metadata": {},
   "outputs": [],
   "source": [
    "#%sendtofile main.py\n",
    "\n",
    "fconfig = dict(x.split()  for x in open(\"config.txt\"))\n",
    "numledchars = int(fconfig.get(\"numledchars\", 20))\n",
    "framedelay = int(fconfig.get(\"framedelay\", 10))\n",
    "\n",
    "from ledstrippanel import setup, show, setbrightness, showbrightness\n",
    "fbuff = setup(numledchars)\n"
   ]
  },
  {
   "cell_type": "code",
   "execution_count": 318,
   "metadata": {},
   "outputs": [
    {
     "name": "stdout",
     "output_type": "stream",
     "text": [
      "..."
     ]
    }
   ],
   "source": [
    "setmessage(\"#88 hihi annas a a a a a a a a affffff gggg\")\n",
    "for i in range(200):\n",
    "    scrollnextchar()\n",
    "\n"
   ]
  },
  {
   "cell_type": "code",
   "execution_count": null,
   "metadata": {},
   "outputs": [],
   "source": [
    "aloop = asyncio.get_event_loop()\n",
    "aloop.create_task(shownexttask())\n"
   ]
  },
  {
   "cell_type": "code",
   "execution_count": null,
   "metadata": {},
   "outputs": [],
   "source": []
  },
  {
   "cell_type": "code",
   "execution_count": 337,
   "metadata": {},
   "outputs": [
    {
     "name": "stdout",
     "output_type": "stream",
     "text": [
      "Listing directory 'lib'.\n",
      "             lib/uasyncio/\n"
     ]
    }
   ],
   "source": [
    "%ls lib"
   ]
  },
  {
   "cell_type": "code",
   "execution_count": null,
   "metadata": {},
   "outputs": [],
   "source": []
  },
  {
   "cell_type": "code",
   "execution_count": null,
   "metadata": {},
   "outputs": [],
   "source": []
  },
  {
   "cell_type": "code",
   "execution_count": null,
   "metadata": {},
   "outputs": [],
   "source": []
  },
  {
   "cell_type": "code",
   "execution_count": null,
   "metadata": {},
   "outputs": [],
   "source": []
  },
  {
   "cell_type": "code",
   "execution_count": null,
   "metadata": {},
   "outputs": [],
   "source": []
  },
  {
   "cell_type": "code",
   "execution_count": 352,
   "metadata": {},
   "outputs": [
    {
     "name": "stdout",
     "output_type": "stream",
     "text": [
      "Sent 204 lines (6411 bytes) to lib/umqtt/simple.py.\n"
     ]
    }
   ],
   "source": []
  },
  {
   "cell_type": "code",
   "execution_count": 6,
   "metadata": {},
   "outputs": [
    {
     "name": "stdout",
     "output_type": "stream",
     "text": [
      "\u001b[34mConnecting to --port=/dev/ttyUSB0 --baud=115200 \u001b[0m\n",
      "ets Jun  8 2016 00:22:57\n",
      "\n",
      "rst:0x1 (POWERON_RESET),boot:0x13 (SPI_FAST_FLASH_BOOT)\n",
      "configsip: 0, SPIWP:0xee\n",
      "clk_drv:0x00,q_drv:0x00,d_drv:0x00,cs0_drv:0x00,hd_drv:0x00,wp_drv:0x00\n",
      "mode:DIO, clock div:2\n",
      "load:0x3fff0018,len:4\n",
      "load:0x3fff001c,len:4928\n",
      "ho 0 tail 12 room 4\n",
      "load:0x40078000,len:9404\n",
      "load:0x40080400,len:6228\n",
      "entry 0x400806ec\n",
      "MicroPython v1.11-240-g519746cae on 2019-08-26; ESP32 module with ESP32\n",
      "Type \"help()\" for more information.\n",
      ">>>[reboot detected 0]repl is in normal command mode\n",
      "[\\r\\x03\\x03] b'\\r\\n>>> '\n",
      "[\\r\\x01] b'\\r\\n>>> \\r\\nraw REPL; CTRL-B to exit\\r\\n>' \u001b[34mReady.\n",
      "\u001b[0m"
     ]
    }
   ],
   "source": [
    "%serialconnect"
   ]
  },
  {
   "cell_type": "code",
   "execution_count": 347,
   "metadata": {},
   "outputs": [],
   "source": [
    "#%sendtofile --append main.py\n",
    "\n",
    "import time\n",
    "\n",
    "textmessage = \"\"\n",
    "headerlength = 0\n",
    "i = 0\n",
    "\n",
    "def setmessage(ltextmessage):\n",
    "    global textmessage, headerlength, i\n",
    "    textmessage = ltextmessage\n",
    "    headerlength = max(textmessage.find(\" \"), 0)\n",
    "    setbrightness(0, i1=9999)\n",
    "    showbrightness()\n",
    "    i = 0\n",
    "\n",
    "async def ascrollnextchar():\n",
    "    global i\n",
    "    if i < len(textmessage) + numledchars - headerlength:\n",
    "        fbuff.fill_rect(numledchars*8, 0, 8, 8, 0)\n",
    "        c = textmessage[i]  if i < len(textmessage) else \" \"\n",
    "        fbuff.text(c, numledchars*8, 0, 1)\n",
    "        if headerlength:\n",
    "            if i < numledchars:\n",
    "                setbrightness(3, numledchars-i-1, numledchars-i)\n",
    "                setbrightness(0, numledchars-i+headerlength, numledchars-i+headerlength+1)\n",
    "                showbrightness()\n",
    "            elif i == numledchars:\n",
    "                setbrightness(0, headerlength, headerlength+1)\n",
    "                showbrightness()\n",
    "\n",
    "        for j in range(8):\n",
    "            fbuff.scroll(-1, 0)\n",
    "            if i >= numledchars:\n",
    "                fbuff.fill_rect(0, 0, headerlength*8, 8, 0)\n",
    "                fbuff.text(textmessage[:headerlength], 0, 0, 1)\n",
    "            show()\n",
    "            #time.sleep_ms(5)\n",
    "            await asyncio.sleep_ms(1)\n",
    "    i += 1\n",
    "\n",
    "#setmessage(\"ffof777 short one\")\n",
    "#for k in range(50):\n",
    "#    scrollnextchar()\n",
    "        "
   ]
  },
  {
   "cell_type": "code",
   "execution_count": 11,
   "metadata": {},
   "outputs": [
    {
     "name": "stdout",
     "output_type": "stream",
     "text": [
      "bytearray(b'\\n\\x01\\n\\xff\\n\\x01\\n\\x01\\n\\x01\\n\\x01\\n\\x01\\n\\x01')\r\n"
     ]
    }
   ],
   "source": [
    "x = bytearray([0x0a, 1]*8)\n",
    "x[3] = 255\n",
    "print(x)\n"
   ]
  },
  {
   "cell_type": "code",
   "execution_count": 19,
   "metadata": {},
   "outputs": [
    {
     "name": "stdout",
     "output_type": "stream",
     "text": [
      "Sent 258 lines (8400 bytes) to lib/uasyncio/__init__.py.\n",
      "Sent 315 lines (9509 bytes) to lib/uasyncio/core.py.\n",
      "Sent 94 lines (2691 bytes) to lib/uasyncio/queues.py.\n",
      "Sent 28 lines (846 bytes) to lib/uasyncio/synchro.py.\n",
      "Sent 470 lines (14738 bytes) to asyn.py.\n",
      "Sent 219 lines (8811 bytes) to aswitch.py.\n",
      "Sent 638 lines (23042 bytes) to mqtt_as.py.\n"
     ]
    }
   ],
   "source": [
    "# This requires you to checkout https://github.com/micropython/micropython-lib and avoids the upip\n",
    "%sendtofile --mkdir --source /home/julian/extrepositories/micropython-lib/uasyncio/uasyncio/__init__.py lib/uasyncio/\n",
    "%sendtofile --quiet --mkdir --source /home/julian/extrepositories/micropython-lib/uasyncio.core/uasyncio/core.py lib/uasyncio/\n",
    "%sendtofile --quiet --mkdir --source /home/julian/extrepositories/micropython-lib/uasyncio.queues/uasyncio/queues.py lib/uasyncio/\n",
    "%sendtofile --quiet --mkdir --source /home/julian/extrepositories/micropython-lib/uasyncio.synchro/uasyncio/synchro.py lib/uasyncio/\n",
    "\n",
    "# This requires you to checkout https://github.com/peterhinch/micropython-async\n",
    "%sendtofile --quiet --source /home/julian/extrepositories/micropython-async/asyn.py\n",
    "%sendtofile --quiet --source /home/julian/extrepositories/micropython-async/aswitch.py\n",
    "\n",
    "# This requires you to checkout https://github.com/peterhinch/micropython-mqtt/tree/master/mqtt_as\n",
    "%sendtofile --quiet --source /home/julian/extrepositories/micropython-mqtt/mqtt_as/mqtt_as.py\n"
   ]
  },
  {
   "cell_type": "code",
   "execution_count": 65,
   "metadata": {},
   "outputs": [
    {
     "name": "stdout",
     "output_type": "stream",
     "text": [
      "object <MQTTClient object at 3ffc7850> is of type MQTTClient\n",
      "  DEBUG -- True\n",
      "  _keep_alive -- <generator>\n",
      "  _reconnect -- <function _reconnect at 0x3ffc67a0>\n",
      "  subscribe -- <closure>\n",
      "  __qualname__ -- MQTTClient\n",
      "  __init__ -- <closure>\n",
      "  wifi_connect -- <generator>\n",
      "  connect -- <generator>\n",
      "  isconnected -- <function isconnected at 0x3ffc6730>\n",
      "  _connection -- <generator>\n",
      "  _keep_connected -- <generator>\n",
      "  publish -- <closure>\n",
      "  __module__ -- mqtt_as\n",
      "  _memory -- <generator>\n",
      "  _handle_msg -- <generator>\n"
     ]
    }
   ],
   "source": [
    "help(client)"
   ]
  },
  {
   "cell_type": "code",
   "execution_count": null,
   "metadata": {},
   "outputs": [],
   "source": []
  },
  {
   "cell_type": "code",
   "execution_count": null,
   "metadata": {},
   "outputs": [],
   "source": []
  },
  {
   "cell_type": "code",
   "execution_count": 160,
   "metadata": {},
   "outputs": [
    {
     "name": "stdout",
     "output_type": "stream",
     "text": [
      "Sent 92 lines (2462 bytes) to main.py.\n"
     ]
    }
   ],
   "source": [
    "%sendtofile main.py\n",
    "\n",
    "from ledgridpanel import fbuff, show, fbuffwidth, fbuffheight, numledcells\n",
    "fwidth = fbuffwidth - 8  # the last section is the scroll buffer\n",
    "fledchars = numledcells\n",
    "\n",
    "import time\n",
    "\n",
    "newmessage = None\n",
    "message = \"\"\n",
    "prevmessage = \"\"\n",
    "ys = 0\n",
    "xchar = 0\n",
    "def shownext(i):\n",
    "    global newmessage, message, prevmessage, ys, xchar\n",
    "    if newmessage is not None and ys == 0:\n",
    "        prevmessage = message\n",
    "        message = newmessage\n",
    "        newmessage = None\n",
    "        xchar = 0\n",
    "        for c1, c2 in zip(prevmessage, message):\n",
    "            if c1 != c2:\n",
    "                break\n",
    "            xchar += 1\n",
    "        ys = 8\n",
    "        fbuff.fill(0)\n",
    "        fbuff.text(message, 0, 0, 1)\n",
    "    if ys != 0:\n",
    "        ys -= 1\n",
    "        fbuff.fill_rect(xchar*8, 0, (fledchars - xchar)*8, 8, 0)\n",
    "        fbuff.text(prevmessage[xchar:], xchar*8, ys - 8, 1)\n",
    "        fbuff.text(message[xchar:], xchar*8, ys, 1)\n",
    "        show()\n",
    "    else:\n",
    "        if (i % 10) == 0:\n",
    "            fbuff.fill_rect((fledchars-1)*8, 7, 8, 1, (i//10)%2)\n",
    "            show()\n",
    "\n",
    "\n",
    "\n",
    "\n",
    "from mqtt_as import MQTTClient, config\n",
    "from machine import Pin\n",
    "import ubinascii\n",
    "\n",
    "fconfig = dict(x.split()  for x in open(\"config.txt\"))\n",
    "config['ssid'] = fconfig[\"wifiname\"]\n",
    "config['wifi_pw'] = fconfig[\"wifipassword\"]\n",
    "config['server'] = fconfig[\"mqttbroker\"]\n",
    "pled = Pin(int(fconfig[\"pinled\"]), Pin.OUT)\n",
    "print(config)\n",
    "\n",
    "\n",
    "def callback(topic, msg):\n",
    "    global newmessage\n",
    "    print(\"Dcallback\", (topic, msg))\n",
    "    newmessage = msg.decode()\n",
    "\n",
    "async def IPnumber_task(client):\n",
    "    topicip = fconfig[\"boardname\"]+\"/ip\"\n",
    "    topicmac = fconfig[\"boardname\"]+\"/mac\"\n",
    "    ipnumber = client._sta_if.ifconfig()[0]\n",
    "    macaddress = ubinascii.hexlify(client._sta_if.config('mac'),':').decode().upper()\n",
    "    while True:\n",
    "        await client.publish(topicip, ipnumber, retain=True)\n",
    "        await client.publish(topicmac, macaddress, retain=True)\n",
    "        await asyncio.sleep_ms(20000)\n",
    "        \n",
    "config['subs_cb'] = callback\n",
    "MQTTClient.DEBUG = True\n",
    "client = MQTTClient(config)\n",
    "\n",
    "aloop = asyncio.get_event_loop()\n",
    "\n",
    "async def shownexttask():\n",
    "    i = 0\n",
    "    while True:\n",
    "        shownext(i)\n",
    "        i += 1\n",
    "        await asyncio.sleep_ms(50)\n",
    "\n",
    "aloop.create_task(shownexttask())\n",
    "\n",
    "newmessage = \"Connecting\"\n",
    "aloop.run_until_complete(client.connect())\n",
    "aloop.create_task(IPnumber_task(client))\n",
    "\n",
    "topicmessage = fconfig[\"boardname\"]+\"/message\"\n",
    "newmessage = \"Connected\"\n",
    "aloop.run_until_complete(client.subscribe(topicmessage, 1))\n",
    "newmessage = \"Subscribed\"\n",
    "\n",
    "aloop.run_forever()\n"
   ]
  },
  {
   "cell_type": "code",
   "execution_count": 348,
   "metadata": {},
   "outputs": [
    {
     "name": "stdout",
     "output_type": "stream",
     "text": [
      "{'wifi_coro': <generator>, 'server': '10.0.100.1', 'ssl': False, 'port': 0, 'ssl_params': {}, 'response_time': 10, 'will': None, 'subs_cb': <function <lambda> at 0x3ffc4680>, 'ssid': 'DoESLiverpool', 'wifi_pw': 'decafbad00', 'clean_init': True, 'user': '', 'max_repubs': 4, 'password': '', 'ping_interval': 0, 'connect_coro': <generator>, 'clean': True, 'keepalive': 60, 'client_id': b'cc50e3961448'}\n",
      "Checking WiFi integrity.\n",
      ".Got reliable connection\n",
      "Connecting to broker.\n",
      "Connected to broker.\n",
      ".Dcallback (b'esp32ledstrip2/message', b'#1184 Consider blinds for the East wall of Room 29')\n",
      "Dcallback (b'esp32ledstrip2/message', b'#1213 Need to backup MQTT server database')\n",
      "..Dcallback (b'esp32ledstrip2/message', b'#1179 Make a note of all the settings in Sophia and Gerald')\n",
      ".RAM free 80672 alloc 37664\n",
      "..Dcallback (b'esp32ledstrip2/message', b'#1215 Install some storage for ear plugs in the CNC router')\n",
      "..RAM free 80672 alloc 37664\n",
      ".Dcallback (b'esp32ledstrip2/message', b'#1181 Cut Worktop in Alcove Down')\n",
      "..Dcallback (b'esp32ledstrip2/message', b'#1234 Events room fridge is broken')\n",
      ".RAM free 80560 alloc 37776\n",
      "Dcallback (b'esp32ledstrip2/message', b'#1230 Document a methodology to best setup the Creality CR-10S and get the best prints')\n",
      "....RAM free 80512 alloc 37824\n",
      ".Dcallback (b'esp32ledstrip2/message', b'#1221 Rationalise and document management of mqtt.local')\n",
      "...Dcallback (b'esp32ledstrip2/message', b'#1184 Consider blinds for the East wall of Room 29')\n",
      "RAM free 80544 alloc 37792\n",
      "..Dcallback (b'esp32ledstrip2/message', b'#1230 Document a methodology to best setup the Creality CR-10S and get the best prints')\n",
      "..RAM free 80592 alloc 37744\n",
      "...Dcallback (b'esp32ledstrip2/message', b'#1226 Consider how we make the mailboxes wheelchair-accessible')\n",
      ".RAM free 80544 alloc 37792\n",
      "..Dcallback (b'esp32ledstrip2/message', b'#1188 Make a tensegrity hammock stand')\n",
      ".\u001b[34m\n",
      "\n",
      "*** Sending Ctrl-C\n",
      "\n",
      "\u001b[0m"
     ]
    },
    {
     "name": "stderr",
     "output_type": "stream",
     "text": [
      "Traceback (most recent call last):\n",
      "  File \"<stdin>\", line 58, in <module>\n",
      "  File \"/lib/uasyncio/core.py\", line 154, in run_forever\n",
      "  File \"/lib/uasyncio/core.py\", line 109, in run_forever\n",
      "  File \"<stdin>\", line 45, in shownexttask\n",
      "  File \"<stdin>\", line 37, in ascrollnextchar\n",
      "  File \"ledstrippanel.py\", line 32, in show\n",
      "KeyboardInterrupt: \n"
     ]
    }
   ],
   "source": [
    "#%sendtofile --append main.py\n",
    "\n",
    "from mqtt_as import MQTTClient, config\n",
    "import uasyncio as asyncio\n",
    "from machine import Pin\n",
    "import ubinascii\n",
    "\n",
    "config['ssid'] = fconfig[\"wifiname\"]\n",
    "config['wifi_pw'] = fconfig[\"wifipassword\"]\n",
    "config['server'] = fconfig[\"mqttbroker\"]\n",
    "pled = Pin(int(fconfig[\"pinled\"]), Pin.OUT)\n",
    "print(config)\n",
    "newmessage = None\n",
    "\n",
    "def callback(topic, msg):\n",
    "    global newmessage\n",
    "    print(\"Dcallback\", (topic, msg))\n",
    "    newmessage = msg.decode()\n",
    "\n",
    "async def IPnumber_task(client):\n",
    "    topicip = fconfig[\"boardname\"]+\"/ip\"\n",
    "    topicmac = fconfig[\"boardname\"]+\"/mac\"\n",
    "    ipnumber = client._sta_if.ifconfig()[0]\n",
    "    macaddress = ubinascii.hexlify(client._sta_if.config('mac'),':').decode().upper()\n",
    "    while True:\n",
    "        await client.publish(topicip, ipnumber, retain=True)\n",
    "        await client.publish(topicmac, macaddress, retain=True)\n",
    "        await asyncio.sleep_ms(20000)\n",
    "        \n",
    "config['subs_cb'] = callback\n",
    "MQTTClient.DEBUG = True\n",
    "client = MQTTClient(config)\n",
    "\n",
    "aloop = asyncio.get_event_loop()\n",
    "\n",
    "async def shownexttask():\n",
    "    global newmessage\n",
    "    topicready = fconfig[\"boardname\"]+\"/ready\"\n",
    "    while True:\n",
    "        if i == len(textmessage) and newmessage is None:\n",
    "            await client.publish(topicready, \"next\", retain=True)\n",
    "        if newmessage is not None and i > len(textmessage) + 3:\n",
    "            setmessage(newmessage)\n",
    "            newmessage = None\n",
    "        await ascrollnextchar()\n",
    "\n",
    "aloop.create_task(shownexttask())\n",
    "\n",
    "newmessage = \"Connecting\"\n",
    "aloop.run_until_complete(client.connect())\n",
    "aloop.create_task(IPnumber_task(client))\n",
    "\n",
    "topicmessage = fconfig[\"boardname\"]+\"/message\"\n",
    "newmessage = \"Connected\"\n",
    "aloop.run_until_complete(client.subscribe(topicmessage, 1))\n",
    "newmessage = \"Subscribed\"\n",
    "\n",
    "aloop.run_forever()\n"
   ]
  },
  {
   "cell_type": "code",
   "execution_count": null,
   "metadata": {},
   "outputs": [],
   "source": []
  },
  {
   "cell_type": "code",
   "execution_count": 6,
   "metadata": {},
   "outputs": [
    {
     "name": "stdout",
     "output_type": "stream",
     "text": [
      "......\u001b[34m\n",
      "\n",
      "*** Sending Ctrl-C\n",
      "\n",
      "\u001b[0m"
     ]
    },
    {
     "name": "stderr",
     "output_type": "stream",
     "text": [
      "Traceback (most recent call last):\n",
      "  File \"<stdin>\", line 22, in <module>\n",
      "  File \"<stdin>\", line 19, in msgnext\n",
      "  File \"<stdin>\", line 41, in show\n",
      "KeyboardInterrupt: \n"
     ]
    }
   ],
   "source": [
    "import time\n",
    "message = \"DoESLiverpool is... a long time coming;;;\"\n",
    "messagechar = -1\n",
    "messagepix = 7\n",
    "\n",
    "def msgnext():\n",
    "    global messagechar, messagepix\n",
    "    messagepix += 1\n",
    "    if messagepix < 8:\n",
    "        fbuff.scroll(-1,0)\n",
    "    else:\n",
    "        messagechar += 1\n",
    "        messagepix = 0\n",
    "        fbuff.fill(0)\n",
    "        mc = max(messagechar, 0)\n",
    "        for y, message in enumerate(messages):\n",
    "            fbuff.text(message[mc:mc+numledcells+1], -min(0, messagechar)*8, 0, 1)\n",
    "    show()\n",
    "\n",
    "while 1:\n",
    "    msgnext()\n",
    "    if messagechar >= len(messages[0]):\n",
    "        messagechar, messagepix = -numledcells, 7\n",
    "    #time.sleep_ms(20)\n",
    "\n"
   ]
  },
  {
   "cell_type": "code",
   "execution_count": null,
   "metadata": {},
   "outputs": [],
   "source": []
  },
  {
   "cell_type": "code",
   "execution_count": null,
   "metadata": {},
   "outputs": [],
   "source": []
  },
  {
   "cell_type": "code",
   "execution_count": null,
   "metadata": {},
   "outputs": [],
   "source": []
  },
  {
   "cell_type": "code",
   "execution_count": null,
   "metadata": {},
   "outputs": [],
   "source": []
  },
  {
   "cell_type": "code",
   "execution_count": 401,
   "metadata": {},
   "outputs": [
    {
     "name": "stdout",
     "output_type": "stream",
     "text": [
      "Sent 50 lines (1533 bytes) to main.py.\n"
     ]
    }
   ],
   "source": []
  },
  {
   "cell_type": "code",
   "execution_count": null,
   "metadata": {},
   "outputs": [],
   "source": []
  },
  {
   "cell_type": "code",
   "execution_count": 403,
   "metadata": {},
   "outputs": [
    {
     "name": "stdout",
     "output_type": "stream",
     "text": [
      "Sent 10 lines (291 bytes) to main.py.\n"
     ]
    }
   ],
   "source": []
  },
  {
   "cell_type": "code",
   "execution_count": 397,
   "metadata": {},
   "outputs": [
    {
     "name": "stdout",
     "output_type": "stream",
     "text": [
      "26 #1184 Consider blinds for the East wall of Room 29\r\n"
     ]
    }
   ],
   "source": [
    "print(i, textmessage)"
   ]
  },
  {
   "cell_type": "code",
   "execution_count": 398,
   "metadata": {},
   "outputs": [],
   "source": [
    "fbuff.fill(1)\n",
    "show()"
   ]
  },
  {
   "cell_type": "code",
   "execution_count": null,
   "metadata": {},
   "outputs": [],
   "source": []
  }
 ],
 "metadata": {
  "kernelspec": {
   "display_name": "MicroPython - USB",
   "language": "micropython",
   "name": "micropython"
  },
  "language_info": {
   "codemirror_mode": "python",
   "file_extension": ".py",
   "mimetype": "text/python",
   "name": "micropython"
  }
 },
 "nbformat": 4,
 "nbformat_minor": 2
}
