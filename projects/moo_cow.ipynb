{
 "cells": [
  {
   "cell_type": "markdown",
   "metadata": {},
   "source": [
    "We have esp-idf checked out and installed.\n",
    "\n",
    "https://docs.espressif.com/projects/esp-idf/en/latest/get-started/index.html#get-started-get-esp-idf\n",
    "\n",
    "conda deactivate\n",
    "\n",
    "Go into directory:  extrepositories/esp-idf and execute \". ./export.sh\"\n",
    "\n",
    "Then go into extrepositories/micropython-hack/ports/esp32/  and do: \"make\"\n",
    "\n",
    "(If necessary, go into mpy-cross and make)\n",
    "\n",
    "If make fails it will tell you which checkout you are allowed\n",
    "Go into extrepositories/esp-i2s\n",
    "eg: \"git checkout 310beae373446ceb9a4ad9b36b5428d7fdf2705f\"\n",
    "Then: git submodule update --init --recursive\n",
    "\n",
    "Then ./install.sh\n",
    ". ./export.sh\n",
    "\n",
    "---\n",
    "current scheme applied the patch https://patch-diff.githubusercontent.com/raw/micropython/micropython/pull/4471.patch  (not trying to do as a checkout!)\n",
    "\n"
   ]
  },
  {
   "cell_type": "code",
   "execution_count": 108,
   "metadata": {},
   "outputs": [
    {
     "name": "stdout",
     "output_type": "stream",
     "text": [
      "\u001b[31mNo serial connected\n",
      "\u001b[0m  %serialconnect to connect\n",
      "  %esptool to flash the device\n",
      "  %lsmagic to list commands"
     ]
    }
   ],
   "source": [
    "#%esptool esp32 /home/julian/extrepositories/micropython-hack/ports/esp32/build-GENERIC/firmware.bin\n"
   ]
  },
  {
   "cell_type": "code",
   "execution_count": 223,
   "metadata": {},
   "outputs": [
    {
     "name": "stdout",
     "output_type": "stream",
     "text": [
      "\u001b[34mConnecting to --port=/dev/ttyUSB0 --baud=115200 \u001b[0m\n",
      "\u001b[34mReady.\n",
      "\u001b[0m"
     ]
    }
   ],
   "source": [
    "%serialconnect"
   ]
  },
  {
   "cell_type": "code",
   "execution_count": 165,
   "metadata": {},
   "outputs": [
    {
     "name": "stdout",
     "output_type": "stream",
     "text": [
      "Sent 163052 bytes in 5436 chunks to dong.wav.\n"
     ]
    }
   ],
   "source": [
    "%sendtofile --binary --source /home/julian/data/dong.wav"
   ]
  },
  {
   "cell_type": "code",
   "execution_count": 112,
   "metadata": {},
   "outputs": [
    {
     "name": "stdout",
     "output_type": "stream",
     "text": [
      "Sent 53174 bytes in 1773 chunks to moo2g.wav.\n"
     ]
    }
   ],
   "source": [
    "%sendtofile --binary --source moo2g.wav"
   ]
  },
  {
   "cell_type": "code",
   "execution_count": 6,
   "metadata": {},
   "outputs": [
    {
     "name": "stdout",
     "output_type": "stream",
     "text": [
      "Sent 10 lines (188 bytes) to config.txt.\n"
     ]
    }
   ],
   "source": [
    "%sendtofile config.txt\n",
    "\n",
    "pinenablemeas   21\n",
    "pinscl          18\n",
    "pinsda          17\n",
    "pinled          2\n",
    "pinenablesound  21\n",
    "pintapinterrupt 4\n",
    "pinbck          14\n",
    "pinws           26\n",
    "pinsdout        13\n",
    "deepsleepsec    600"
   ]
  },
  {
   "cell_type": "code",
   "execution_count": 7,
   "metadata": {},
   "outputs": [
    {
     "name": "stdout",
     "output_type": "stream",
     "text": [
      "serial exception on close write failed: [Errno 5] Input/output error\n",
      "\u001b[34mConnecting to --port=/dev/ttyUSB1 --baud=115200 \u001b[0m\n",
      "\u001b[34mReady.\n",
      "\u001b[0m"
     ]
    }
   ],
   "source": [
    "%serialconnect"
   ]
  },
  {
   "cell_type": "code",
   "execution_count": 2,
   "metadata": {},
   "outputs": [
    {
     "name": "stdout",
     "output_type": "stream",
     "text": [
      "Sent 53 lines (1575 bytes) to main.py.\n"
     ]
    }
   ],
   "source": [
    "%sendtofile main.py\n",
    "\n",
    "import esp32, machine, time, ustruct\n",
    "from peripherals import runsound, setupaccel, fconfig, ftime, rtc\n",
    "from peripherals import wakeuptime, resetcause, wakereason, getpastwakeups, setpastwakeups\n",
    "\n",
    "pastwakeups = getpastwakeups()\n",
    "pinled = machine.Pin(int(fconfig[\"pinled\"]), machine.Pin.OUT)\n",
    "\n",
    "pinled.value(1)\n",
    "if wakereason == \"EXT0_WAKE\":\n",
    "    runsound(\"moo2g.wav\", 11025)\n",
    "elif resetcause == \"PWRON_RESET\" or wakereason == \"0_WAKE\":\n",
    "    runsound(\"dong.wav\", 16000)\n",
    "pinled.value(0)\n",
    "\n",
    "if wakereason != \"TIMER_WAKE\":\n",
    "    pastwakeups.append(wakeuptime)\n",
    "    if len(pastwakeups) > 5:\n",
    "        pastwakeups.pop(0)\n",
    "print(\"wakeups\", pastwakeups)\n",
    "\n",
    "try:\n",
    "    i2c = setupaccel()\n",
    "    i = 0\n",
    "    while i < 200:\n",
    "        y = i2c.readfrom_mem(0x53, 0x30, 1)[0]\n",
    "        x = i2c.readfrom_mem(0x53, 0x32, 6)\n",
    "        if (y&0x40):\n",
    "            print(\"Tap\")\n",
    "            runsound(\"dong.wav\", 32000)\n",
    "            i = 0\n",
    "        elif (y&0x08):\n",
    "            print(\"inactivity\")\n",
    "            print(ustruct.unpack(\"<hhh\", x))\n",
    "            break\n",
    "        i += 1\n",
    "        time.sleep(0.1)\n",
    "except OSError:\n",
    "    print(\"Bad accelerometer\")\n",
    "        \n",
    "setpastwakeups(pastwakeups)\n",
    "deepsleepsec = int(fconfig[\"deepsleepsec\"])\n",
    "print(\"Going to sleep for %f seconds\" % deepsleepsec)\n",
    "\n",
    "for i in range(21):\n",
    "    pinled.value(i%2)\n",
    "    time.sleep(0.1)\n",
    "\n",
    "pintapinterrupt = machine.Pin(int(fconfig[\"pintapinterrupt\"]), machine.Pin.IN, machine.Pin.PULL_DOWN)\n",
    "esp32.wake_on_ext0(pintapinterrupt, esp32.WAKEUP_ANY_HIGH)\n",
    "timeatsleep = ftime()\n",
    "\n",
    "print(\"time at sleep:\", timeatsleep, \"deepsleep secs\", deepsleepsec)\n",
    "machine.deepsleep(deepsleepsec*1000)\n"
   ]
  },
  {
   "cell_type": "code",
   "execution_count": null,
   "metadata": {},
   "outputs": [],
   "source": []
  },
  {
   "cell_type": "code",
   "execution_count": 215,
   "metadata": {},
   "outputs": [
    {
     "name": "stdout",
     "output_type": "stream",
     "text": [
      "serial exception on close write failed: [Errno 5] Input/output error\n",
      "\u001b[34mConnecting to --port=/dev/ttyUSB1 --baud=115200 \u001b[0m\n",
      "\u001b[34mReady.\n",
      "\u001b[0m"
     ]
    }
   ],
   "source": [
    "%serialconnect"
   ]
  },
  {
   "cell_type": "code",
   "execution_count": 229,
   "metadata": {},
   "outputs": [
    {
     "name": "stdout",
     "output_type": "stream",
     "text": [
      "Sent 88 lines (3651 bytes) to peripherals.py.\n"
     ]
    }
   ],
   "source": [
    "%sendtofile peripherals.py\n",
    "\n",
    "from machine import I2S, Pin, I2C, RTC\n",
    "import time, machine\n",
    "\n",
    "fconfig = dict(x.split()  for x in open(\"config.txt\"))\n",
    "pinenablesound = Pin(int(fconfig[\"pinenablesound\"]), Pin.OUT)\n",
    "\n",
    "rtc = RTC()\n",
    "def ftime():\n",
    "    d = rtc.datetime()\n",
    "    return time.mktime((d[0], d[1], d[2], d[4], d[5], d[6], 0, 0)) + (d[7]//1000)/1000\n",
    "\n",
    "wakeuptime = ftime()\n",
    "resetcause = [\"0\", \"PWRON\", \"HARD\", \"WDT\", \"DEEPSLEEP\", \"SOFT\"][machine.reset_cause()]+\"_RESET\"\n",
    "wakereason = [\"0\", \"1\", \"EXT0\", \"EXT1\", \"TIMER\", \"TOUCHPAD\", \"ULP\"][machine.wake_reason()]+\"_WAKE\"\n",
    "print(\"Startup secs=%.3f: %s, %s\" % (wakeuptime, resetcause, wakereason))\n",
    "\n",
    "def getpastwakeups():\n",
    "    try:\n",
    "        return list(map(float, rtc.memory().split()))\n",
    "    except ValueError:\n",
    "        return [ ]\n",
    "\n",
    "def setpastwakeups(wakeuptimes):\n",
    "    rtc.memory(\" \".join(map(str, wakeuptimes)))\n",
    "    \n",
    "def runsound(fname, samplerate=16000):\n",
    "    pinenablesound.value(1)\n",
    "    audio_out = I2S(I2S.NUM1, \n",
    "                    bck=Pin(int(fconfig[\"pinbck\"])), \n",
    "                    ws=Pin(int(fconfig[\"pinws\"])), \n",
    "                    sdout=Pin(int(fconfig[\"pinsdout\"])), \n",
    "                    standard=I2S.PHILIPS, \n",
    "                    mode=I2S.MASTER_TX,\n",
    "                    dataformat=I2S.B16, \n",
    "                    channelformat=I2S.ONLY_RIGHT,\n",
    "                    samplerate=samplerate,\n",
    "                    dmacount=8, \n",
    "                    dmalen=512)\n",
    "\n",
    "    s = open(fname, 'rb')\n",
    "    s.seek(44) # advance to first byte of Data section in WAV file\n",
    "\n",
    "    # continuously read audio samples from the WAV file \n",
    "    # and write them to an I2S DAC\n",
    "    while True:\n",
    "        audio_samples = bytearray(s.read(1024))\n",
    "        numwritten = 0\n",
    "        if len(audio_samples) == 0:\n",
    "            break\n",
    "        while numwritten == 0:\n",
    "            numwritten = audio_out.write(audio_samples, timeout=0)\n",
    "    time.sleep_ms(500)\n",
    "    s.close()\n",
    "    audio_out.deinit()\n",
    "    pinenablesound.value(0)\n",
    "\n",
    "def setupaccel():\n",
    "    i2c = I2C(scl=Pin(int(fconfig[\"pinscl\"])), sda=Pin(int(fconfig[\"pinsda\"])))\n",
    "    #print(i2c.scan())\n",
    "    #print(\"DEVID %X (should be E5)\" % i2c.readfrom_mem(0x53, 0x00, 1)[0])\n",
    "\n",
    "    i2c.writeto_mem(0x53, 0x2E, b\"\\x00\")  # INT_ENABLE    (disable)\n",
    "\n",
    "    i2c.writeto_mem(0x53, 0x2A, b\"\\x05\")  # TAP_AXES      (X+Z)  (not z)\n",
    "    i2c.writeto_mem(0x53, 0x1d, b\"\\x20\")  # THRESH_TAP    (*g/16 tap acceleration)\n",
    "    i2c.writeto_mem(0x53, 0x21, b\"\\x30\")  # DUR           (*625us duration of tap)\n",
    "    i2c.writeto_mem(0x53, 0x22, b\"\\x40\")  # LATENT        (*1.25ms earliest second tap)\n",
    "    i2c.writeto_mem(0x53, 0x23, b\"\\xFF\")  # WINDOW        (*1.25ms latest second tap-LATENT)\n",
    "\n",
    "    i2c.writeto_mem(0x53, 0x24, b\"\\x10\")  # THRESH_ACT    (*g/16 acceleration)\n",
    "    i2c.writeto_mem(0x53, 0x25, b\"\\x08\")  # THRESH_INACT  (*g/16 acceleration)\n",
    "    i2c.writeto_mem(0x53, 0x26, b\"\\x05\")  # TIME_INACT    (*1secs)\n",
    "    i2c.writeto_mem(0x53, 0x27, b\"\\x55\")  # ACT_INACT_CTL (DirectComp+X+Z ACT+INACT)\n",
    "\n",
    "    i2c.writeto_mem(0x53, 0x28, b\"\\x07\")  # THRESH_FF     (*g/16 RMS FreeFall)\n",
    "    i2c.writeto_mem(0x53, 0x29, b\"\\x07\")  # TIME_FF       (*g/16 RMS FreeFall)\n",
    "\n",
    "    #i2c.writeto_mem(0x53, 0x2D, b\"\\x04\")  # POWER_CTL   (SLEEP+8HZ)\n",
    "    #i2c.writeto_mem(0x53, 0x2D, b\"\\x08\")  # POWER_CTL     (MEASURE)\n",
    "    i2c.writeto_mem(0x53, 0x2D, b\"\\x18\")  # POWER_CTL     (autosleep+MEASURE)\n",
    "\n",
    "    i2c.writeto_mem(0x53, 0x31, b\"\\x0A\")  # DATA_FORMAT   (FULL_RES+8g)\n",
    "    #i2c.writeto_mem(0x53, 0x2E, b\"\\x50\")  # INT_ENABLE    (SINGLE_TAP+activity)\n",
    "    i2c.writeto_mem(0x53, 0x2E, b\"\\x48\")  # INT_ENABLE    (SINGLE_TAP+inactivity)\n",
    "    i2c.writeto_mem(0x53, 0x2F, b\"\\x40\")  # INT_MAP       (SINGLE_TAP=INT2)\n",
    "    i2c.readfrom_mem(0x53, 0x30, 1)       # clear the interrupt buffer\n",
    "\n",
    "    return i2c\n"
   ]
  },
  {
   "cell_type": "code",
   "execution_count": null,
   "metadata": {},
   "outputs": [],
   "source": []
  },
  {
   "cell_type": "code",
   "execution_count": null,
   "metadata": {},
   "outputs": [],
   "source": []
  }
 ],
 "metadata": {
  "kernelspec": {
   "display_name": "MicroPython - USB",
   "language": "micropython",
   "name": "micropython"
  },
  "language_info": {
   "codemirror_mode": "python",
   "file_extension": ".py",
   "mimetype": "text/python",
   "name": "micropython"
  }
 },
 "nbformat": 4,
 "nbformat_minor": 2
}
