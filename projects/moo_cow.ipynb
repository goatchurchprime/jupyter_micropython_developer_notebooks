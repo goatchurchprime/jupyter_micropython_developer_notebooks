{
 "cells": [
  {
   "cell_type": "markdown",
   "metadata": {},
   "source": [
    "We have esp-idf checked out and installed.\n",
    "\n",
    "https://docs.espressif.com/projects/esp-idf/en/latest/get-started/index.html#get-started-get-esp-idf\n",
    "\n",
    "conda deactivate\n",
    "\n",
    "Go into directory:  extrepositories/esp-idf and execute \". ./export.sh\"\n",
    "\n",
    "Then go into extrepositories/micropython-hack/ports/esp32/  and do: \"make\"\n",
    "\n",
    "(If necessary, go into mpy-cross and make)\n",
    "\n",
    "If make fails it will tell you which checkout you are allowed\n",
    "Go into extrepositories/esp-i2s\n",
    "eg: \"git checkout 310beae373446ceb9a4ad9b36b5428d7fdf2705f\"\n",
    "Then: git submodule update --init --recursive\n",
    "\n",
    "Then ./install.sh\n",
    ". ./export.sh\n",
    "\n",
    "---\n",
    "current scheme applied the patch https://patch-diff.githubusercontent.com/raw/micropython/micropython/pull/4471.patch  (not trying to do as a checkout!)\n",
    "\n"
   ]
  },
  {
   "cell_type": "code",
   "execution_count": 2,
   "metadata": {},
   "outputs": [
    {
     "name": "stdout",
     "output_type": "stream",
     "text": [
      "\u001b[34mExecuting:\n",
      "  esptool.py --port /dev/ttyUSB0 --chip esp32 write_flash -z 0x1000 /home/julian/extrepositories/micropython-hack/ports/esp32/build-GENERIC/firmware.bin\n",
      "\n",
      "\u001b[0mesptool.py v2.8\n",
      "Serial port /dev/ttyUSB0\n",
      "Connecting....\n",
      "\u001b[34m[Press the PRG button now if required]\n",
      "\u001b[0mChip is ESP32D0WDQ6 (revision 1)\n",
      "Features: WiFi, BT, Dual Core, 240MHz, VRef calibration in efuse, Coding Scheme None\n",
      "Crystal is 26MHz\n",
      "MAC: 30:ae:a4:fe:a1:5c\n",
      "Uploading stub...\n",
      "Running stub...\n",
      "Stub running...\n",
      "Configuring flash size...\n",
      "Auto-detected Flash size: 4MB\n",
      "Compressed 1412256 bytes to 899806...\n",
      "Wrote 1412256 bytes (899806 compressed) at 0x00001000 in 80.1 seconds (effective 141.0 kbit/s)...\n",
      "Hash of data verified.\n",
      "\n",
      "Leaving...\n",
      "Hard resetting via RTS pin...\n"
     ]
    }
   ],
   "source": [
    "%esptool esp32 /home/julian/extrepositories/micropython-hack/ports/esp32/build-GENERIC/firmware.bin\n"
   ]
  },
  {
   "cell_type": "code",
   "execution_count": 3,
   "metadata": {},
   "outputs": [
    {
     "name": "stdout",
     "output_type": "stream",
     "text": [
      "\u001b[34mConnecting to --port=/dev/ttyUSB0 --baud=115200 \u001b[0m\n",
      "\u001b[34mReady.\n",
      "\u001b[0m"
     ]
    }
   ],
   "source": [
    "%serialconnect"
   ]
  },
  {
   "cell_type": "code",
   "execution_count": 97,
   "metadata": {},
   "outputs": [
    {
     "name": "stdout",
     "output_type": "stream",
     "text": [
      "serial exception on close write failed: [Errno 5] Input/output error\n",
      "\u001b[34mConnecting to --port=/dev/ttyUSB1 --baud=115200 \u001b[0m\n",
      "\u001b[34mReady.\n",
      "\u001b[0m"
     ]
    }
   ],
   "source": [
    "%serialconnect"
   ]
  },
  {
   "cell_type": "code",
   "execution_count": 44,
   "metadata": {},
   "outputs": [
    {
     "name": "stdout",
     "output_type": "stream",
     "text": [
      "Sent 131226 bytes in 4375 chunks to taunt-16k-16bits-mono-12db.wav.\n"
     ]
    }
   ],
   "source": [
    "%sendtofile --binary --source /home/julian/Music/taunt-16k-16bits-mono-12db.wav"
   ]
  },
  {
   "cell_type": "code",
   "execution_count": 101,
   "metadata": {},
   "outputs": [
    {
     "name": "stdout",
     "output_type": "stream",
     "text": [
      "Sent 53174 bytes in 1773 chunks to moo2g.wav.\n"
     ]
    }
   ],
   "source": [
    "%sendtofile --binary --source /home/julian/data/moo2g.wav"
   ]
  },
  {
   "cell_type": "code",
   "execution_count": 105,
   "metadata": {},
   "outputs": [
    {
     "name": "stdout",
     "output_type": "stream",
     "text": [
      ".\u001b[34m\n",
      "\n",
      "*** Sending Ctrl-C\n",
      "\n",
      "\u001b[0m"
     ]
    }
   ],
   "source": [
    "from machine import I2S\n",
    "from machine import Pin\n",
    "\n",
    "audio_out = I2S(I2S.NUM1, bck=Pin(12), ws=Pin(13), sdout=Pin(14), \n",
    "              standard=I2S.PHILIPS, mode=I2S.MASTER_TX,\n",
    "              dataformat=I2S.B16, channelformat=I2S.ONLY_RIGHT,\n",
    "              samplerate=16000,\n",
    "              dmacount=8, dmalen=512)\n",
    "\n",
    "s = open('moo2g.wav', 'rb')\n",
    "s.seek(44) # advance to first byte of Data section in WAV file\n",
    "\n",
    "# continuously read audio samples from the WAV file \n",
    "# and write them to an I2S DAC\n",
    "while True:\n",
    "    try:\n",
    "        audio_samples = bytearray(s.read(1024))\n",
    "        numwritten = 0\n",
    "        # end of WAV file?    \n",
    "        if len(audio_samples) == 0:\n",
    "            s.seek(44) # advance to first byte of Data section\n",
    "        else:\n",
    "            # loop until samples can be written to DMA\n",
    "            while numwritten == 0:\n",
    "                # return immediately when no DMA buffer is available (timeout=0)\n",
    "                numwritten = audio_out.write(audio_samples, timeout=0)\n",
    "                \n",
    "                # await - allow other coros to run   \n",
    "    except KeyboardInterrupt:  \n",
    "        s.close()\n",
    "        audio_out.deinit()\n",
    "        break"
   ]
  },
  {
   "cell_type": "code",
   "execution_count": 86,
   "metadata": {},
   "outputs": [],
   "source": [
    "\n",
    "audio_out = I2S(I2S.NUM1, bck=bck_pin, ws=ws_pin, sdout=sdout_pin, \n",
    "              standard=I2S.PHILIPS, mode=I2S.MASTER_TX,\n",
    "              dataformat=I2S.B16, channelformat=I2S.ONLY_RIGHT,\n",
    "              samplerate=SAMPLES_PER_SECOND,\n",
    "              dmacount=8, dmalen=512)\n"
   ]
  },
  {
   "cell_type": "code",
   "execution_count": 87,
   "metadata": {},
   "outputs": [],
   "source": [
    "audio_out.write(audio_samples, timeout=0)\n"
   ]
  },
  {
   "cell_type": "code",
   "execution_count": 104,
   "metadata": {},
   "outputs": [],
   "source": [
    "audio_out.deinit()\n"
   ]
  },
  {
   "cell_type": "code",
   "execution_count": 88,
   "metadata": {},
   "outputs": [
    {
     "name": "stdout",
     "output_type": "stream",
     "text": [
      "........................................\n",
      "**[ys] <class 'serial.serialutil.SerialException'>\n",
      "**[ys] read failed: device reports readiness to read but returned no data (device disconnected or multiple access on port?)\n",
      "\n",
      "\n",
      "**[ys] <class 'serial.serialutil.SerialException'>\n",
      "**[ys] read failed: device reports readiness to read but returned no data (device disconnected or multiple access on port?)\n",
      "\n"
     ]
    }
   ],
   "source": [
    "samples = bytearray(1024)                                 # bytearray containing audio samples to transmit\n",
    "for i in range(1024):\n",
    "    samples[i] = 0x01\n",
    "import time\n",
    "while True:\n",
    "    audio_out.write(samples, timeout=0)\n",
    "    time.sleep_ms(500)\n"
   ]
  },
  {
   "cell_type": "code",
   "execution_count": null,
   "metadata": {},
   "outputs": [],
   "source": []
  },
  {
   "cell_type": "code",
   "execution_count": null,
   "metadata": {},
   "outputs": [],
   "source": []
  },
  {
   "cell_type": "code",
   "execution_count": null,
   "metadata": {},
   "outputs": [],
   "source": []
  }
 ],
 "metadata": {
  "kernelspec": {
   "display_name": "MicroPython - USB",
   "language": "micropython",
   "name": "micropython"
  },
  "language_info": {
   "codemirror_mode": "python",
   "file_extension": ".py",
   "mimetype": "text/python",
   "name": "micropython"
  }
 },
 "nbformat": 4,
 "nbformat_minor": 2
}
